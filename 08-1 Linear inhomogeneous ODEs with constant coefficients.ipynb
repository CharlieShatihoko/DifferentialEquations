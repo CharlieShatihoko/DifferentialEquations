{
 "cells": [
  {
   "cell_type": "markdown",
   "metadata": {},
   "source": [
    "# 定数係数線形常微分方程式(非斉次)\n",
    "\n",
    "* Author: 黒木玄\n",
    "* Date: 2019-04-23～2019-05-06\n",
    "* Repository: https://github.com/genkuroki/DifferentialEquations\n",
    "$\n",
    "\\newcommand\\ds{\\displaystyle}\n",
    "\\newcommand\\Z{{\\mathbb Z}}\n",
    "\\newcommand\\R{{\\mathbb R}}\n",
    "\\newcommand\\C{{\\mathbb C}}\n",
    "\\newcommand\\eps{\\varepsilon}\n",
    "\\newcommand\\QED{\\text{□}}\n",
    "\\newcommand\\d{\\partial}\n",
    "\\newcommand\\real{\\operatorname{Re}}\n",
    "\\newcommand\\imag{\\operatorname{Im}}\n",
    "\\newcommand\\tr{\\operatorname{tr}}\n",
    "$\n",
    "\n",
    "このファイルは [nbviewer](https://nbviewer.jupyter.org/github/genkuroki/DifferentialEquations/blob/master/08-1%20Linear%20inhomogeneous%20ODEs%20with%20constant%20coefficients.ipynb) でも閲覧できる.\n",
    "\n",
    "[Julia言語](https://julialang.org/) と [Jupyter環境](https://jupyter.org/) の簡単な解説については次を参照せよ:\n",
    "\n",
    "* [JuliaとJupyterのすすめ](https://nbviewer.jupyter.org/github/genkuroki/msfd28/blob/master/msfd28genkuroki.ipynb?flush_cached=true)\n",
    "\n",
    "[Julia言語](https://julialang.org/) 環境の整備の仕方については次を参照せよ:\n",
    "\n",
    "* [Julia v1.1.0 の Windows 8.1 へのインストール](https://nbviewer.jupyter.org/github/genkuroki/msfd28/blob/master/install.ipynb)\n",
    "\n",
    "[Wolfram言語](http://www.wolfram.com/language/fast-introduction-for-programmers/ja/) 環境の整備の仕方については次を参照せよ:\n",
    "\n",
    "* [Free Wolfram EngineをJupyterで使う方法](https://nbviewer.jupyter.org/github/genkuroki/msfd28/blob/master/Free%20Wolfram%20Engine.ipynb)"
   ]
  },
  {
   "cell_type": "markdown",
   "metadata": {
    "toc": true
   },
   "source": [
    "<h1>目次<span class=\"tocSkip\"></span></h1>\n",
    "<div class=\"toc\"><ul class=\"toc-item\"><li><span><a href=\"#非斉次の定数係数線形常微分方程式\" data-toc-modified-id=\"非斉次の定数係数線形常微分方程式-1\"><span class=\"toc-item-num\">1&nbsp;&nbsp;</span>非斉次の定数係数線形常微分方程式</a></span><ul class=\"toc-item\"><li><span><a href=\"#斉次な場合の一般解\" data-toc-modified-id=\"斉次な場合の一般解-1.1\"><span class=\"toc-item-num\">1.1&nbsp;&nbsp;</span>斉次な場合の一般解</a></span><ul class=\"toc-item\"><li><span><a href=\"#例:-斉次調和振動子\" data-toc-modified-id=\"例:-斉次調和振動子-1.1.1\"><span class=\"toc-item-num\">1.1.1&nbsp;&nbsp;</span>例: 斉次調和振動子</a></span></li></ul></li><li><span><a href=\"#非斉次な場合の一般解\" data-toc-modified-id=\"非斉次な場合の一般解-1.2\"><span class=\"toc-item-num\">1.2&nbsp;&nbsp;</span>非斉次な場合の一般解</a></span><ul class=\"toc-item\"><li><span><a href=\"#非斉次な調和振動子\" data-toc-modified-id=\"非斉次な調和振動子-1.2.1\"><span class=\"toc-item-num\">1.2.1&nbsp;&nbsp;</span>非斉次な調和振動子</a></span></li><li><span><a href=\"#共振\" data-toc-modified-id=\"共振-1.2.2\"><span class=\"toc-item-num\">1.2.2&nbsp;&nbsp;</span>共振</a></span></li></ul></li><li><span><a href=\"#非斉次な波動方程式-(より高級な話題)\" data-toc-modified-id=\"非斉次な波動方程式-(より高級な話題)-1.3\"><span class=\"toc-item-num\">1.3&nbsp;&nbsp;</span>非斉次な波動方程式 (より高級な話題)</a></span><ul class=\"toc-item\"><li><span><a href=\"#解の表示\" data-toc-modified-id=\"解の表示-1.3.1\"><span class=\"toc-item-num\">1.3.1&nbsp;&nbsp;</span>解の表示</a></span></li><li><span><a href=\"#Fourier変換に関する公式\" data-toc-modified-id=\"Fourier変換に関する公式-1.3.2\"><span class=\"toc-item-num\">1.3.2&nbsp;&nbsp;</span>Fourier変換に関する公式</a></span></li><li><span><a href=\"#非斉次な波動方程式のFourier変換による解法\" data-toc-modified-id=\"非斉次な波動方程式のFourier変換による解法-1.3.3\"><span class=\"toc-item-num\">1.3.3&nbsp;&nbsp;</span>非斉次な波動方程式のFourier変換による解法</a></span></li></ul></li></ul></li></ul></div>"
   ]
  },
  {
   "cell_type": "markdown",
   "metadata": {},
   "source": [
    "## 非斉次の定数係数線形常微分方程式\n",
    "\n",
    "斉次の定数係数線形常微分方程式とは, 定数 $p_1,p_2,\\ldots,p_n$ に関する\n",
    "\n",
    "$$\n",
    "u^{(n)}(x) + p_{n-1}u^{(n-1)}(x) + \\cdots + p_1 u'(x) + p_0 u(x) = 0\n",
    "\\tag{$*$}\n",
    "$$\n",
    "\n",
    "の形の微分方程式のことである. \n",
    "\n",
    "非斉次の定数係数線形常微分方程式とは, 定数 $p_1,p_2,\\ldots,p_n$ と任意函数 $f(x)$ に関する\n",
    "\n",
    "$$\n",
    "u^{(n)}(x) + p_{n-1}u^{(n-1)}(x) + \\cdots + p_1 u'(x) + p_0 u(x) = f(x)\n",
    "\\tag{$**$}\n",
    "$$\n",
    "\n",
    "の形の微分方程式のことである. 右辺が $0$ ではなく $f(x)$ であることが斉次の場合と異なる. この微分方程式は\n",
    "\n",
    "$$\n",
    "w(x) = \\begin{bmatrix}\n",
    "u_0(x) \\\\ u_1(x) \\\\ \\vdots \\\\ u_{n-2}(x) \\\\ u_{n-1}(x) \\\\\n",
    "\\end{bmatrix} =\n",
    "\\begin{bmatrix}\n",
    "u(x) \\\\ u'(x) \\\\ \\vdots \\\\ u^{(n-2)}(x) \\\\ u^{(n-1)}(x) \\\\\n",
    "\\end{bmatrix}, \\qquad\n",
    "b(x) = \\begin{bmatrix}\n",
    "0 \\\\ 0 \\\\ \\vdots \\\\ 0 \\\\ f(x) \\\\\n",
    "\\end{bmatrix}\n",
    "$$\n",
    "\n",
    "とおけば\n",
    "\n",
    "$$\n",
    "u_0' = u_1,\\; \\ldots,\\; u_{n-2}' = u_{n-1},\\;\n",
    "u_{n-1}' = u^{(n)} = -p_{n-1}u_{n-1}-\\cdots-p_1 u_1 - p_0 u_0 \n",
    "$$\n",
    "\n",
    "なので次のように書き直される:\n",
    "\n",
    "$$\n",
    "\\frac{dw(x)}{dx} = Au(x) + b(x).\n",
    "\\tag{$**'$}\n",
    "$$\n",
    "\n",
    "ここで\n",
    "\n",
    "$$\n",
    "A = \\begin{bmatrix}\n",
    "0   & 1  & & & \\\\\n",
    "    & 0  & \\ddots & & \\\\ \n",
    "    &    & \\ddots & 1 & \\\\\n",
    "-p_0&-p_1& \\cdots & -p_{n-2} & -p_{n-1} \\\\\n",
    "\\end{bmatrix}\n",
    "$$\n",
    "\n",
    "とおいた. \n",
    "\n",
    "斉次な定数係数線形常微分方程式 ($*$) は\n",
    "\n",
    "$$\n",
    "\\frac{dw(x)}{dx} = Au(x).\n",
    "\\tag{$*'$}\n",
    "$$\n",
    "\n",
    "と書き直される.  ゆえに方程式 ($*$) と ($**$) の取り扱いは, ($*'$) や ($**'$) の形の微分方程式の取り扱いに帰着される."
   ]
  },
  {
   "cell_type": "markdown",
   "metadata": {},
   "source": [
    "### 斉次な場合の一般解\n",
    "\n",
    "$A$ は定数を成分とする $n\\times n$ 行列であるとし, $w(x)$ は $x$ の函数を成分とする $n$ 次元縦ベクトルであるとし, $c$ は定数を成分とする $n$ 次元縦ベクトルであるとする.\n",
    "\n",
    "$w(x)$ に関する線形微分方程式の初期値問題\n",
    "\n",
    "$$\n",
    "\\frac{dw(x)}{dx} = Aw(x), \\quad w(0) = c\n",
    "$$\n",
    "\n",
    "の解は次の形に表わされるのであった:\n",
    "\n",
    "$$\n",
    "w(x) = e^{xA}c.\n",
    "$$"
   ]
  },
  {
   "cell_type": "markdown",
   "metadata": {},
   "source": [
    "#### 例: 斉次調和振動子\n",
    "\n",
    "$\\omega \\ne 0$ であるとし, $a,b$ は与えられた定数であるとする.\n",
    "\n",
    "微分方程式の初期値問題\n",
    "\n",
    "$$\n",
    "\\ddot u(t) = -\\omega^2 u(t), \\quad u(0) = a, \\quad \\dot u(0) = b\n",
    "$$\n",
    "\n",
    "は $w(t) = \\begin{bmatrix}u(t) \\\\ \\dot u(t)\\end{bmatrix}$, $c=\\begin{bmatrix} a \\\\ b \\end{bmatrix}$, $A=\\begin{bmatrix}\n",
    "0 & 1 \\\\\n",
    "-\\omega^2 & 0 \\\\\n",
    "\\end{bmatrix}$ とおくと, \n",
    "\n",
    "$$\n",
    "\\frac{dw(t)}{dt}=Aw(t), \\quad w(0) = c\n",
    "$$\n",
    "\n",
    "の形に書き直される. このとき, $2\\times 2$ の単位行列を $E$ と書くと, \n",
    "\n",
    "$$\n",
    "A^{2k} = (-\\omega^2)^k E, \\quad A^{2k+1} = (-\\omega^2)^k A\n",
    "$$\n",
    "\n",
    "が成立するので, \n",
    "\n",
    "$$\n",
    "\\begin{aligned}\n",
    "e^{tA} &=\n",
    "\\sum_{k=0}^\\infty \\frac{t^{2k}}{(2k)!}(-\\omega^2)^k E +\n",
    "\\sum_{k=0}^\\infty \\frac{t^{2k+1}}{(2k)!}(-\\omega^2)^k A \n",
    "\\\\ &=\n",
    "\\begin{bmatrix}\n",
    "\\cos(\\omega t) & \\sin(\\omega t)/\\omega \\\\\n",
    "-\\omega\\sin(\\omega t) & \\cos(\\omega t) \\\\\n",
    "\\end{bmatrix}.\n",
    "\\end{aligned}\n",
    "$$\n",
    "\n",
    "ゆえに, $\\dot w(t)=Aw(t)$, $w(0) = c$ の解は\n",
    "\n",
    "$$\n",
    "\\begin{aligned}\n",
    "w(t) = \\begin{bmatrix}\n",
    "u(t) \\\\ \\dot u(t)\n",
    "\\end{bmatrix} &=\n",
    "\\begin{bmatrix}\n",
    "\\cos(\\omega t) & \\sin(\\omega t)/\\omega \\\\\n",
    "-\\omega\\sin(\\omega t) & \\cos(\\omega t) \\\\\n",
    "\\end{bmatrix}\n",
    "\\begin{bmatrix}\n",
    "a \\\\\n",
    "b \\\\\n",
    "\\end{bmatrix}\n",
    "\\\\ &=\n",
    "\\begin{bmatrix}\n",
    "a\\cos(\\omega t) + b\\sin(\\omega t)/\\omega \\\\\n",
    "-a\\omega\\sin(\\omega t) + b\\cos(\\omega t) \\\\\n",
    "\\end{bmatrix}\n",
    "\\end{aligned}\n",
    "$$\n",
    "\n",
    "と表わされる. 特に\n",
    "\n",
    "$$\n",
    "u(t) = a\\cos(\\omega t) + b\\frac{\\sin(\\omega t)}{\\omega}\n",
    "$$\n",
    "\n",
    "である. $\\QED$"
   ]
  },
  {
   "cell_type": "code",
   "execution_count": 1,
   "metadata": {},
   "outputs": [
    {
     "data": {
      "text/html": [
       "<style>\n",
       "\t\t\t\t\t\t\t\t\t\t\t.grid-container {\n",
       "\t\t\t\t\t\t\t\t\t\t\t\tdisplay: inline-grid;\n",
       "\t\t\t\t\t\t\t\t\t\t\t\tgrid-template-columns: auto auto;\n",
       "\t\t\t\t\t\t\t\t\t\t\t}\n",
       "\t\t\t\t\t\t\t\t\t\t</style>\n",
       "\n",
       "\t\t\t\t\t\t\t\t\t\t<div><div class=\"grid-container\"><div class=\"grid-item\">\n",
       "\t\t\t\t\t\t\t\t\t\t\t\t\t<div class=\"prompt output_prompt\" style=\"text-align:left;padding:0em;padding-right:20px;line-height:20px;\">\n",
       "\t\t\t\t\t\t\t\t\t\t\t\t\t\tOut[1]:\n",
       "\t\t\t\t\t\t\t\t\t\t\t\t\t</div>\n",
       "\t\t\t\t\t\t\t\t\t\t\t\t</div>\n",
       "\t\t\t\t\t\t\t\t\t\t\t\t<div class=\"grid-item\"><img alt=\"Output\" src=\"data:image/png;base64,iVBORw0KGgoAAAANSUhEUgAAAMsAAAAjCAIAAAC1jmmLAAAAhXpUWHRSYXcgcHJvZmlsZSB0eXBlIGV4aWYAAHjaVYvBDcMwDAP/mqIjyLJM2uMYiQNkg45fuu0n9yApgbT1vi97felp2dgxABc5csRU6P6juNciDXn+X9MfZGWgoRhTluEkhnJXkqKFN+LCAahYcIbnIV8gNQN3o86928QyPusLVffpbh/5eCey76LuBgAAAAlwSFlzAAALEwAACxMBAJqcGAAAADx0RVh0U29mdHdhcmUAQ3JlYXRlZCB3aXRoIHRoZSBXb2xmcmFtIExhbmd1YWdlIDogd3d3LndvbGZyYW0uY29tXKKmhQAAACF0RVh0Q3JlYXRpb24gVGltZQAyMDE5OjA1OjI4IDE2OjIwOjA39rTGngAABABJREFUeJztmz1yqzAQx1eZd4AcAlJ4fAJxAkjjykeAEprXpUjhLo0oTfdaV24iTmBOwKSwuMu+QsgWBoNt8AeOfk0YfaykyXq10h8IIoLBcDVe7j2B5yANSJBe0K+IHXJZz9FgPOwmFLFDFBc7VBoQQogTF4NO7UyK2KmvoG1mxsOuTxE79mousGTp7quscFMtaGXGEXETWleZZR/cJSLyeWOd8bDhkL/kk6OMaq6HhDQgQaziXbcdLTRKI0XsOHEcEELKP8p4rWVlBtpwetlBrCpihxA7yiDxzlkoGgaA+wDgc0REwShQJirVglEAqBWXNbLfoR3ug16DiJzzw67KonoWjAL4HLkPQJkQjFImELm/N8X9stfuofJ4dGqtpYiInNWXh4gmhg2Fz+VuZ73PafYjKnVWuEFEMV/Z3b98Zcee0Nbxiu9V5n+UW6YVfvhqUH/mAgDQ+bvaTottvos7xEva17ELYnaUtbc8DeNht8MKN4jcz6KvGx8exU9WCVEylXNnfhbZ0uty9k/6ahp4uRYXB8B42NCkX1FWhpEGim0OdGIPMI71PqfJooyHRbxIjpt1Zw1uXcSLfOd26vhQbHNVn341xjDrbQr59ozjrPGwoVDbkJczUT0d6smzHU25/HfK3HufOJ99iWGFGz4tg5C9mouWQ6a7FCxX22S5TVvhh+q9T+ut8EMFtsWE+Y22/jIo+5lM/8k4yPT7WqucJBpz/TMNmkx/9Ky9a924pusEpm8XX7SlASHEWzXWETS65C+liJ39cZGytl22DyfFMC2RuPQXNE7F46mRVygl11MKOj2siB3iAe89k1EqHob+vECrUCDv9XhdOWtUIbTCJ1E8dqTx7wtyA1HJ+2uSQJME0qxXYFWbqB00Rql4nNHAcIQ/AABpoGkJjZcgFaResdnrFdFaAFhgT2jikcTnnW8LNFp4h1LxWEvF41s23eaQJGQ3Pcpa7J65kKH4/Py82VijIIqi19dX+fxnJxSEljxe/OhNrbcpZD8C4JT8yQo3GMq9yoMT/OwkpOJxmMC5M9/zbBIBAFAmlrri0biQi9GcNoqOnLmMh7Xw0iEUuH8ZTbxqUtOhV7hLFIwm65Y76rEoHlAeBPa75COeVR4cLF8ZAQCgjDWlUlzbb7Ts56CkqpQeWqnfR9csqCypTKxUHlY1XB9fG61rIbqpau5m8rCrcSvVaJyKh6E/N1ONRql4GPozUtXoRoqHoT8j9TDDaDDvVjwwt5U9rsW9E0HDEe4jewyPiWEPylg+9OjEeNj4ueuHHp0YD3tQ7iR7DI/xsEflTh96DI65rXhS0oB4sHv7IA3IYnKfW0MTw34DPWWPXpgY9qw8iuxhPMxwXf4D9qyGA00NXnsAAAAASUVORK5CYII=\"></div><div class=\"grid-item\">\n",
       "\t\t\t\t\t\t\t\t\t\t\t\t\t<div class=\"prompt output_prompt\" style=\"text-align:left;padding:0em;padding-right:20px;line-height:20px;\">\n",
       "\t\t\t\t\t\t\t\t\t\t\t\t\t\tOut[2]:\n",
       "\t\t\t\t\t\t\t\t\t\t\t\t\t</div>\n",
       "\t\t\t\t\t\t\t\t\t\t\t\t</div>\n",
       "\t\t\t\t\t\t\t\t\t\t\t\t<div class=\"grid-item\"><img alt=\"Output\" src=\"data:image/png;base64,iVBORw0KGgoAAAANSUhEUgAAAAcAAAAPCAIAAACnY0LpAAAAhXpUWHRSYXcgcHJvZmlsZSB0eXBlIGV4aWYAAHjaVYvBDcMwDAP/mqIjyLJM2uMYiQNkg45fuu0n9yApgbT1vi97felp2dgxABc5csRU6P6juNciDXn+X9MfZGWgoRhTluEkhnJXkqKFN+LCAahYcIbnIV8gNQN3o86928QyPusLVffpbh/5eCey76LuBgAAAAlwSFlzAAALEwAACxMBAJqcGAAAADx0RVh0U29mdHdhcmUAQ3JlYXRlZCB3aXRoIHRoZSBXb2xmcmFtIExhbmd1YWdlIDogd3d3LndvbGZyYW0uY29tXKKmhQAAACF0RVh0Q3JlYXRpb24gVGltZQAyMDE5OjA1OjI4IDE2OjIwOjA39rTGngAAAFtJREFUGJW1kLsNgDAUAx3GyggM8mjZgybTvGzABKkIuxwFv0gpEe58OsmSA6AuQ49+pALc3moOINrUFGV+0VaWOQxSnsaS6uOea/tWbi0v89qvxZRM5hA+/3AABrpBYOlTkiQAAAAASUVORK5CYII=\"></div><div class=\"grid-item\">\n",
       "\t\t\t\t\t\t\t\t\t\t\t\t\t<div class=\"prompt output_prompt\" style=\"text-align:left;padding:0em;padding-right:20px;line-height:20px;\">\n",
       "\t\t\t\t\t\t\t\t\t\t\t\t\t\tOut[3]:\n",
       "\t\t\t\t\t\t\t\t\t\t\t\t\t</div>\n",
       "\t\t\t\t\t\t\t\t\t\t\t\t</div>\n",
       "\t\t\t\t\t\t\t\t\t\t\t\t<div class=\"grid-item\"><img alt=\"Output\" src=\"data:image/png;base64,iVBORw0KGgoAAAANSUhEUgAAAAcAAAAPCAIAAACnY0LpAAAAhXpUWHRSYXcgcHJvZmlsZSB0eXBlIGV4aWYAAHjaVYvBDcMwDAP/mqIjyLJM2uMYiQNkg45fuu0n9yApgbT1vi97felp2dgxABc5csRU6P6juNciDXn+X9MfZGWgoRhTluEkhnJXkqKFN+LCAahYcIbnIV8gNQN3o86928QyPusLVffpbh/5eCey76LuBgAAAAlwSFlzAAALEwAACxMBAJqcGAAAADx0RVh0U29mdHdhcmUAQ3JlYXRlZCB3aXRoIHRoZSBXb2xmcmFtIExhbmd1YWdlIDogd3d3LndvbGZyYW0uY29tXKKmhQAAACF0RVh0Q3JlYXRpb24gVGltZQAyMDE5OjA1OjI4IDE2OjIwOjA39rTGngAAAG5JREFUGJWlkLENwjAABO8RozCFmcCiZwS7ZY80Tski9gYZgcbs8hSJkKIoafLdn15XvGyzyWWLjmjLyu2UAYCWJUm6j18AuyYgVdvuJRBK97xN9R0Bbo9nmD59x3tdtTa8plTj37sklG7bOv3DD+xgKaXJSGqzAAAAAElFTkSuQmCC\"></div><div class=\"grid-item\">\n",
       "\t\t\t\t\t\t\t\t\t\t\t\t\t<div class=\"prompt output_prompt\" style=\"text-align:left;padding:0em;padding-right:20px;line-height:20px;\">\n",
       "\t\t\t\t\t\t\t\t\t\t\t\t\t\tOut[4]:\n",
       "\t\t\t\t\t\t\t\t\t\t\t\t\t</div>\n",
       "\t\t\t\t\t\t\t\t\t\t\t\t</div>\n",
       "\t\t\t\t\t\t\t\t\t\t\t\t<div class=\"grid-item\"><img alt=\"Output\" src=\"data:image/png;base64,iVBORw0KGgoAAAANSUhEUgAAAAcAAAAPCAIAAACnY0LpAAAAhXpUWHRSYXcgcHJvZmlsZSB0eXBlIGV4aWYAAHjaVYvBDcMwDAP/mqIjyLJM2uMYiQNkg45fuu0n9yApgbT1vi97felp2dgxABc5csRU6P6juNciDXn+X9MfZGWgoRhTluEkhnJXkqKFN+LCAahYcIbnIV8gNQN3o86928QyPusLVffpbh/5eCey76LuBgAAAAlwSFlzAAALEwAACxMBAJqcGAAAADx0RVh0U29mdHdhcmUAQ3JlYXRlZCB3aXRoIHRoZSBXb2xmcmFtIExhbmd1YWdlIDogd3d3LndvbGZyYW0uY29tXKKmhQAAACF0RVh0Q3JlYXRpb24gVGltZQAyMDE5OjA1OjI4IDE2OjIwOjA39rTGngAAAHpJREFUGJWlkLENg0AQBOeoxRC5AujABVDCEdLK04YLOCpwB0TwvayDN0YWGd5sR7obaU0Sp1RndIXmqbOSbsoASOHgIUnaUouHhMJp0/aF4KEqrwv35gbzYPWzT86y5o9tHuxB6DU2pSscfn54qNh2uIs5LBw39vcOb/BnVrg4y0B+AAAAAElFTkSuQmCC\"></div></div></div>"
      ]
     },
     "execution_count": 1,
     "metadata": {
      "text/html": []
     },
     "output_type": "execute_result"
    }
   ],
   "source": [
    "u = a Cos[omega t] + b Sin[omega t]/omega\n",
    "u/.t->0\n",
    "D[u,t]/.t->0\n",
    "Simplify[D[u,t,t] + omega^2 u]"
   ]
  },
  {
   "cell_type": "markdown",
   "metadata": {},
   "source": [
    "### 非斉次な場合の一般解\n",
    "\n",
    "$b(x)$ は与えられた函数を成分とする $n$ 次元縦ベクトルであるとし, 非斉次な定数係数線形微分方程式の初期値問題\n",
    "\n",
    "$$\n",
    "\\frac{dw(x)}{dx} = Aw(x) + b(x), \\quad w(0) = c\n",
    "$$\n",
    "\n",
    "について考える. これは所謂**定数変化法**で解くことができる. 斉次の場合すなわち $b(x)=0$ の場合の解は\n",
    "\n",
    "$$\n",
    "w(x) = e^{xA}c\n",
    "$$\n",
    "\n",
    "と書けるのであった. 非斉次の場合については, 定数を成分とするベクトル $c$ を函数を成分とするベクトル $c(x)$ に置き換えた\n",
    "\n",
    "$$\n",
    "w(x) = e^{xA}c(x)\n",
    "$$\n",
    "\n",
    "の形の解を探してみよう. 定数 $c$ を変化する $c(x)$ に置き換えるので, この方法は**定数変化法**と呼ばれている.\n",
    "\n",
    "$w(x)=e^{xA}c(x)$ を $w'(x)=Aw(x)+b(x)$ に代入すると,\n",
    "\n",
    "$$\n",
    "w'(x)=Ae^{xA}c(x) + e^{xA}c'(x) = Aw(x)+e^{xA}c'(x) = Aw(x) + b(x)\n",
    "$$\n",
    "\n",
    "なので, $c(x)$ が $e^{xA}c'(x)=b(x)$, $c(0)=c$ を満たしていれば, $w(x)$ は $w'(x)=Aw(x)+b(x)$, $w(0)=c$ を満たす. $c(x)$ に関する方程式 $e^{xA}c'(x)=b(x)$, $c(0)=c$ は $c'(x) = e^{-xA}b(x)$, $c(0)=x$ と同値であり, \n",
    "\n",
    "$$\n",
    "c(x) = c + \\int_0^x e^{-yA}b(y)\\,dy\n",
    "$$\n",
    "\n",
    "と解ける.  これを $w(x)=e^{xA}c(t)$ に代入すると\n",
    "\n",
    "$$\n",
    "w(x) = e^{xA}c + \\int_0^x e^{(x-y)A}b(y)\\,dy.\n",
    "$$\n",
    "\n",
    "これが $w'(x)=Aw(x)+b(x)$, $w(0)=c$ を満たしていることは直接的に確認できる. ただし, 一般に $F(x,z)$ について\n",
    "\n",
    "$$\n",
    "\\frac{d}{dx}F(x,x) = F_x(x,x) + F_z(x,z)\n",
    "$$\n",
    "\n",
    "が成立することを, $F(x,z)=\\int_0^z e^{(x-y)A}b(y)\\,dy$ に適用すると\n",
    "\n",
    "$$\n",
    "\\frac{d}{dx} \\int_0^x e^{(x-y)A}b(y)\\,dy = \n",
    "A \\int_0^x e^{(x-y)A}b(y)\\,dy + b(x)\n",
    "$$\n",
    "\n",
    "が得られることに注意せよ.\n",
    "\n",
    "これで解きたい非斉次な定数係数線形微分方程式を解くことができた."
   ]
  },
  {
   "cell_type": "markdown",
   "metadata": {},
   "source": [
    "#### 非斉次な調和振動子\n",
    "\n",
    "$\\omega \\ne 0$ であるとし, $a,b$ は与えられた定数であるとし, $f(t)$ は与えられた函数であるとする.\n",
    "\n",
    "微分方程式の初期値問題\n",
    "\n",
    "$$\n",
    "\\ddot u(t) = -\\omega^2 u(t) + f(t), \\quad u(0) = a, \\quad \\dot u(0) = b\n",
    "$$\n",
    "\n",
    "は $w(t) = \\begin{bmatrix}u(t) \\\\ \\dot u(t)\\end{bmatrix}$, $c=\\begin{bmatrix} a \\\\ b \\end{bmatrix}$, $g(t)=\\begin{bmatrix} 0 \\\\ f(t)\\end{bmatrix}$, $A=\\begin{bmatrix}\n",
    "0 & 1 \\\\\n",
    "-\\omega^2 & 0 \\\\\n",
    "\\end{bmatrix}$ とおくと, \n",
    "\n",
    "$$\n",
    "\\frac{dw(t)}{dt}=Aw(t) + g(t), \\quad w(0) = c\n",
    "$$\n",
    "\n",
    "の形に書き直される. このとき, \n",
    "\n",
    "$$\n",
    "A^{2k} =\n",
    "\\begin{bmatrix}\n",
    "(-\\omega^2)^k & 0 \\\\\n",
    "0 & (-\\omega^2)^k \\\\\n",
    "\\end{bmatrix},\n",
    "\\quad\n",
    "A^{2k+1} =\n",
    "\\begin{bmatrix}\n",
    "0 & (-\\omega^2)^k \\\\\n",
    "(-\\omega^2)^{k+1} & 0 \\\\\n",
    "\\end{bmatrix}\n",
    "$$\n",
    "\n",
    "なので\n",
    "\n",
    "$$\n",
    "e^{tA} =\n",
    "\\begin{bmatrix}\n",
    "  \\sum_{k=0}^\\infty (-1)^k\\frac{(\\omega t)^{2k}}{(2k)!} \n",
    "& \\frac{1}{\\omega}\\sum_{k=0}^\\infty (-1)^k\\frac{(\\omega t)^{2k+1}}{(2k+1)!}\n",
    "\\\\         -\\omega\\sum_{k=0}^\\infty (-1)^k\\frac{(\\omega t)^{2k+1}}{(2k+1)!}\n",
    "& \\sum_{k=0}^\\infty (-1)^k\\frac{(\\omega t)^{2k}}{(2k)!} \\\\\n",
    "\\end{bmatrix} =\n",
    "\\begin{bmatrix}\n",
    "\\cos(\\omega t) & \\sin(\\omega t)/\\omega \\\\\n",
    "-\\omega\\sin(\\omega t) & \\cos(\\omega t) \\\\\n",
    "\\end{bmatrix}\n",
    "$$\n",
    "\n",
    "となるのであった. "
   ]
  },
  {
   "cell_type": "code",
   "execution_count": 5,
   "metadata": {},
   "outputs": [
    {
     "data": {
      "text/html": [
       "<style>\n",
       "\t\t\t\t\t\t\t\t\t\t\t.grid-container {\n",
       "\t\t\t\t\t\t\t\t\t\t\t\tdisplay: inline-grid;\n",
       "\t\t\t\t\t\t\t\t\t\t\t\tgrid-template-columns: auto auto;\n",
       "\t\t\t\t\t\t\t\t\t\t\t}\n",
       "\t\t\t\t\t\t\t\t\t\t</style>\n",
       "\n",
       "\t\t\t\t\t\t\t\t\t\t<div><div class=\"grid-container\"><div class=\"grid-item\">\n",
       "\t\t\t\t\t\t\t\t\t\t\t\t\t<div class=\"prompt output_prompt\" style=\"text-align:left;padding:0em;padding-right:20px;line-height:20px;\">\n",
       "\t\t\t\t\t\t\t\t\t\t\t\t\t\tOut[5]:\n",
       "\t\t\t\t\t\t\t\t\t\t\t\t\t</div>\n",
       "\t\t\t\t\t\t\t\t\t\t\t\t</div>\n",
       "\t\t\t\t\t\t\t\t\t\t\t\t<div class=\"grid-item\"><img alt=\"Output\" src=\"data:image/png;base64,iVBORw0KGgoAAAANSUhEUgAAAJgAAAASCAIAAAAoi4DIAAAAhXpUWHRSYXcgcHJvZmlsZSB0eXBlIGV4aWYAAHjaVYvBDcMwDAP/mqIjyLJM2uMYiQNkg45fuu0n9yApgbT1vi97felp2dgxABc5csRU6P6juNciDXn+X9MfZGWgoRhTluEkhnJXkqKFN+LCAahYcIbnIV8gNQN3o86928QyPusLVffpbh/5eCey76LuBgAAAAlwSFlzAAALEwAACxMBAJqcGAAAADx0RVh0U29mdHdhcmUAQ3JlYXRlZCB3aXRoIHRoZSBXb2xmcmFtIExhbmd1YWdlIDogd3d3LndvbGZyYW0uY29tXKKmhQAAACF0RVh0Q3JlYXRpb24gVGltZQAyMDE5OjA1OjI4IDE2OjIwOjA39rTGngAAAyVJREFUaIHtWT2ymzAQXmVyFETh8QnECSCNK7evgxKadJTu0ojSdK+lcmM4gTkBQ4F0F6UAgwBhEPY4dsZf9d4OWq3259uVjIQQ8MEjwSMLBzmAm4qj/bRdf0h/Zx5CyIr40zZ/AF7PZn6GUAjBaHG426yp06nkokWapuLd8Lo2M0rcx9iWUsrm5T/vzJkPlMi8L/i+PI9Y+9Q6AR5ZCCEvG0qQLqk1y2RNKu1vj8xDp93FN3TWrHRphwWBZGYohNS3Mw8H25o12D7BC2OQeegLvhklA7nhX4RIN9ULdbn7kHlODLGjFZN1Lu1hQSCHm55iQn/bAAD8nOQQnxZtax+FZpI+HF3WNwzAI8uKonpwiDyJLUZfAjQTRos6SLKs+dI+tn1r6YFXurQH7UDyqoCtaQBkHsLJnrpQvEU18cjCyZ41g0jhNNWSB+VOpG4eJBvGKCkqDpB5uAyvEwU415A5RTNcpC4Q+u0bIEeN0cJZ2SAe4tI2kDyqQNmcs6rCY6GHHEjFxTd1N1TCNuG8IhsUNvfLpiM3fk5yN2wqxPBDNy8ZAAC4OxsAgOx/XauHV0VDjQghJ75tQrsfDnL9Aww0qV1qm+UfVYb05XUgeWThBMbxAh5ZTmnKBGGYW4idw4aJoy0l070oA93OoLZZIjYdcpPBypzIg32tw965eYDr4BZNPcplOu7+izHnUrwpHNU42JeLjhuo+t4zvKulLpCOZEC6LaUu9P4fg1Gi+kB5VZrXNm2zemciOZ1Q1lrTnIhRQigbneq6hIxslHTOG3vri2mXCiFYmirvkX151yMNcyFN2ke2T9rcZNIzFN4QmOrUNQfhIG9oa77+bmnTtRnA8C/ptikpnOzZjVq1j4wWTp+dDT+8ru4mG8MPr2V62FB3/XGmXQoArKqUCgdyKS0mXkk0Xk9UubxonfLxYoG2p73s9G2RKmitCo11i152lkytJ2dBBfHIUqXTLOp1yYO0PQfZKdabDJ5xHCnCL/tuOY3n2dwbZvTL8Q583lofCsO/CP9fG3EDErXi6vBqPwnN4h1t1kDmIYQG978JORKfH5b/C/wF9cRRVzjH4j4AAAAASUVORK5CYII=\"></div><div class=\"grid-item\">\n",
       "\t\t\t\t\t\t\t\t\t\t\t\t\t<div class=\"prompt output_prompt\" style=\"text-align:left;padding:0em;padding-right:20px;line-height:20px;\">\n",
       "\t\t\t\t\t\t\t\t\t\t\t\t\t\tOut[6]:\n",
       "\t\t\t\t\t\t\t\t\t\t\t\t\t</div>\n",
       "\t\t\t\t\t\t\t\t\t\t\t\t</div>\n",
       "\t\t\t\t\t\t\t\t\t\t\t\t<div class=\"grid-item\"><img alt=\"Output\" src=\"data:image/png;base64,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\"></div><div class=\"grid-item\">\n",
       "\t\t\t\t\t\t\t\t\t\t\t\t\t<div class=\"prompt output_prompt\" style=\"text-align:left;padding:0em;padding-right:20px;line-height:20px;\">\n",
       "\t\t\t\t\t\t\t\t\t\t\t\t\t\tOut[7]:\n",
       "\t\t\t\t\t\t\t\t\t\t\t\t\t</div>\n",
       "\t\t\t\t\t\t\t\t\t\t\t\t</div>\n",
       "\t\t\t\t\t\t\t\t\t\t\t\t<div class=\"grid-item\"><img alt=\"Output\" src=\"data:image/png;base64,iVBORw0KGgoAAAANSUhEUgAAAG0AAAAPCAIAAABhptZQAAAAhXpUWHRSYXcgcHJvZmlsZSB0eXBlIGV4aWYAAHjaVYvBDcMwDAP/mqIjyLJM2uMYiQNkg45fuu0n9yApgbT1vi97felp2dgxABc5csRU6P6juNciDXn+X9MfZGWgoRhTluEkhnJXkqKFN+LCAahYcIbnIV8gNQN3o86928QyPusLVffpbh/5eCey76LuBgAAAAlwSFlzAAALEwAACxMBAJqcGAAAADx0RVh0U29mdHdhcmUAQ3JlYXRlZCB3aXRoIHRoZSBXb2xmcmFtIExhbmd1YWdlIDogd3d3LndvbGZyYW0uY29tXKKmhQAAACF0RVh0Q3JlYXRpb24gVGltZQAyMDE5OjA1OjI4IDE2OjIwOjA4ZgvbDwAAAVdJREFUWIXtmL1xg0AQhd96XIog8FABqgBFjlQChETu4xRKJRAp0VGBXAER0Ms5kPXDcQt3mPFZHr5I88TbfbPDLQyklMLCj3nxHeCfsMxxHpY5zsPDHNvdmoiyUr+kr18UIqL1rrVuZXZxXV1q/nY2k65uSCmVCV2XKZBepEbE159jDLqkEI1VlT+Urau7n+vyeIjFRwIA7an4xOFocy9Ncz1PNuc5tnWFKFwBZUZBsRUpqnr8/ExzPVG2+xzLug5MVxj1MqMNpDrnoUsz1pWEOE0Zq89smq4Gl4lBlymA+Hs3WC+hEdfDhrLGd7aOPu05c22qtZAp2HHwLsXs8qFqvrP19Anvj8m+2RYBERFtKtHsk9s/wVsMbkvzLo6har6z9Xh1twCr/Kxykx5GQPTOxOBcbJfBan6z9dHOkeHW5/QujYhx3zL2mH221XxkM+qklu89c/AF4bkSz9WxskAAAAAASUVORK5CYII=\"></div></div></div>"
      ]
     },
     "execution_count": 5,
     "metadata": {
      "text/html": []
     },
     "output_type": "execute_result"
    }
   ],
   "source": [
    "A = {{0, 1}, {-omega^2, 0}}\n",
    "U = {{Cos[omega t], Sin[omega t]/omega}, {-omega Sin[omega t], Cos[omega t]}}\n",
    "Simplify[MatrixExp[t A] - U]"
   ]
  },
  {
   "cell_type": "markdown",
   "metadata": {},
   "source": [
    "$w(t)=e^{tA}c(t)$ の形で解を探してみよう. \n",
    "\n",
    "$$\n",
    "\\dot w(t) = Ae^{tA}c(t) + e^{tA}\\dot c(t) = Aw(t) + e^{tA}\\dot c(t)\n",
    "$$\n",
    "\n",
    "なので, $\\dot c(t) = e^{-tA}g(t)$, $c(0)=c$ ならば $w(t)$ は欲しい解になっている. そのような $c(t)$ は\n",
    "\n",
    "$$\n",
    "c(t) = c + \\int_0^t e^{-As}g(s)\\,ds\n",
    "$$\n",
    "\n",
    "と書ける.  ゆえに欲しい解は\n",
    "\n",
    "$$\n",
    "w(t) = e^{tA}c + \\int_0^t e^{(t-s)A}g(s)\\,ds\n",
    "$$\n",
    "\n",
    "と書ける. そして, \n",
    "\n",
    "$$\n",
    "e^{tA}c =\n",
    "\\begin{bmatrix}\n",
    "a\\cos(\\omega t) + b\\sin(\\omega t)/\\omega \\\\\n",
    "-a\\omega\\sin(\\omega t) + b\\cos(\\omega t) \\\\\n",
    "\\end{bmatrix},\n",
    "\\quad\n",
    "e^{(t-s)A}g(s) =\n",
    "\\begin{bmatrix}\n",
    "\\sin(\\omega(t-s))/\\omega \\\\\n",
    "\\cos(\\omega(t-s)) \\\\\n",
    "\\end{bmatrix}\n",
    "f(s)\n",
    "$$\n",
    "\n",
    "なので $w(t)$ の第1成分の $u(t)$ は次のように表わされる:\n",
    "\n",
    "$$\n",
    "u(t) = a\\cos(\\omega t) + b\\frac{\\sin(\\omega t)}{\\omega} +\n",
    "\\int_0^t \\frac{\\sin(\\omega(t-s))}{\\omega} f(s)\\,ds.\n",
    "$$\n",
    "\n",
    "これが実際に欲しい解になっていることを直接確認してみよう:\n",
    "\n",
    "$$\n",
    "\\begin{aligned}\n",
    "u(0) &= a,\n",
    "\\\\\n",
    "\\dot u(t) &= -\\omega a \\sin(\\omega t) + \\omega b \\frac{\\cos(\\omega t)}{\\omega} +\n",
    "\\omega\\int_0^t \\frac{\\cos(\\omega(t-s))}{\\omega} f(s)\\,ds,\n",
    "\\\\\n",
    "\\dot u(0) &= b,\n",
    "\\\\\n",
    "\\ddot u(t) &= -\\omega^2 a\\cos(\\omega t) - \\omega^2 b\\frac{\\sin(\\omega t)}{\\omega} -\n",
    "\\omega^2\\int_0^t \\frac{\\sin(\\omega(t-s))}{\\omega} f(s)\\,ds + f(t)\n",
    "\\\\ & = -\n",
    "\\omega^2 u(t) + f(t).\n",
    "\\end{aligned}\n",
    "$$\n",
    "\n",
    "非斉次な調和振動子は外力 $f(t)$ が与えられた場合の調和振動子になっている."
   ]
  },
  {
   "cell_type": "code",
   "execution_count": 8,
   "metadata": {},
   "outputs": [
    {
     "data": {
      "text/html": [
       "<style>\n",
       "\t\t\t\t\t\t\t\t\t\t\t.grid-container {\n",
       "\t\t\t\t\t\t\t\t\t\t\t\tdisplay: inline-grid;\n",
       "\t\t\t\t\t\t\t\t\t\t\t\tgrid-template-columns: auto auto;\n",
       "\t\t\t\t\t\t\t\t\t\t\t}\n",
       "\t\t\t\t\t\t\t\t\t\t</style>\n",
       "\n",
       "\t\t\t\t\t\t\t\t\t\t<div><div class=\"grid-container\"><div class=\"grid-item\">\n",
       "\t\t\t\t\t\t\t\t\t\t\t\t\t<div class=\"prompt output_prompt\" style=\"text-align:left;padding:0em;padding-right:20px;line-height:20px;\">\n",
       "\t\t\t\t\t\t\t\t\t\t\t\t\t\tOut[8]:\n",
       "\t\t\t\t\t\t\t\t\t\t\t\t\t</div>\n",
       "\t\t\t\t\t\t\t\t\t\t\t\t</div>\n",
       "\t\t\t\t\t\t\t\t\t\t\t\t<div class=\"grid-item\"><img alt=\"Output\" src=\"data:image/png;base64,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\"></div><div class=\"grid-item\">\n",
       "\t\t\t\t\t\t\t\t\t\t\t\t\t<div class=\"prompt output_prompt\" style=\"text-align:left;padding:0em;padding-right:20px;line-height:20px;\">\n",
       "\t\t\t\t\t\t\t\t\t\t\t\t\t\tOut[9]:\n",
       "\t\t\t\t\t\t\t\t\t\t\t\t\t</div>\n",
       "\t\t\t\t\t\t\t\t\t\t\t\t</div>\n",
       "\t\t\t\t\t\t\t\t\t\t\t\t<div class=\"grid-item\"><img alt=\"Output\" src=\"data:image/png;base64,iVBORw0KGgoAAAANSUhEUgAAAAcAAAAPCAIAAACnY0LpAAAAhXpUWHRSYXcgcHJvZmlsZSB0eXBlIGV4aWYAAHjaVYvBDcMwDAP/mqIjyLJM2uMYiQNkg45fuu0n9yApgbT1vi97felp2dgxABc5csRU6P6juNciDXn+X9MfZGWgoRhTluEkhnJXkqKFN+LCAahYcIbnIV8gNQN3o86928QyPusLVffpbh/5eCey76LuBgAAAAlwSFlzAAALEwAACxMBAJqcGAAAADx0RVh0U29mdHdhcmUAQ3JlYXRlZCB3aXRoIHRoZSBXb2xmcmFtIExhbmd1YWdlIDogd3d3LndvbGZyYW0uY29tXKKmhQAAACF0RVh0Q3JlYXRpb24gVGltZQAyMDE5OjA1OjI4IDE2OjIwOjA4ZgvbDwAAAFtJREFUGJW1kLsNgDAUAx3GyggM8mjZgybTvGzABKkIuxwFv0gpEe58OsmSA6AuQ49+pALc3moOINrUFGV+0VaWOQxSnsaS6uOea/tWbi0v89qvxZRM5hA+/3AABrpBYOlTkiQAAAAASUVORK5CYII=\"></div><div class=\"grid-item\">\n",
       "\t\t\t\t\t\t\t\t\t\t\t\t\t<div class=\"prompt output_prompt\" style=\"text-align:left;padding:0em;padding-right:20px;line-height:20px;\">\n",
       "\t\t\t\t\t\t\t\t\t\t\t\t\t\tOut[10]:\n",
       "\t\t\t\t\t\t\t\t\t\t\t\t\t</div>\n",
       "\t\t\t\t\t\t\t\t\t\t\t\t</div>\n",
       "\t\t\t\t\t\t\t\t\t\t\t\t<div class=\"grid-item\"><img alt=\"Output\" src=\"data:image/png;base64,iVBORw0KGgoAAAANSUhEUgAAAcAAAAAgCAIAAAAKdD8SAAAAhXpUWHRSYXcgcHJvZmlsZSB0eXBlIGV4aWYAAHjaVYvBDcMwDAP/mqIjyLJM2uMYiQNkg45fuu0n9yApgbT1vi97felp2dgxABc5csRU6P6juNciDXn+X9MfZGWgoRhTluEkhnJXkqKFN+LCAahYcIbnIV8gNQN3o86928QyPusLVffpbh/5eCey76LuBgAAAAlwSFlzAAALEwAACxMBAJqcGAAAADx0RVh0U29mdHdhcmUAQ3JlYXRlZCB3aXRoIHRoZSBXb2xmcmFtIExhbmd1YWdlIDogd3d3LndvbGZyYW0uY29tXKKmhQAAACF0RVh0Q3JlYXRpb24gVGltZQAyMDE5OjA1OjI4IDE2OjIwOjA4ZgvbDwAABaRJREFUeJztnT12ozAQx4d9exRw4ZcTwAmwGyq36aDETbot06WBMu7SuqIJnMCcwC+F4S7awoD5ECBs2WDy/zXxU6SRNDOM5AFhhTFGAAAAhvNn7AHMkMhRcpyIiIhS38g+AQBmBAKobCInsFiOdfLTyFG0bbxblQIqAGAWKPgKL5XU9xPXNRulxsfi8FkvBgA8N9iByiUh0sYeAwDgQSCASiU90UJtFqvrzRFf4QGYHX/HHsDvQHUPzB17EAAAyWAHCgAAV4IACgAAV4IACgAAV/KHKHJwbwP8alLfyE4+GH469mDmSOobM72DKrQDLR2tudbBziJGds/UN5pWHG1kc9FqwcNWYp4dWw97Cego+tiSlzDGGDu46qCmQ+oVBp9lJCGi8kp0wywn4dWisaI3gKa+oawozI/WVBxsCFZ4S+s7Yn4yxsLNYzudoVZTP1gm450VUN2DFfCu2X77pqcjvfCePhNVr6ALmZ8s8bww8ZZ9NZ+T1De0/SbJnbrsC6p7qBZ0MiGvrsIxdB5A89WxHvfT731sh82pl5aai9eWCvvXj4aE1DcM33cURcn+lE6SN/sq7d+K7spltWsp9Q1F0bYxnY9UDl7gIl/mgjgXrVamRJaoy4vMqEXhXXY035anYbue80BK4vp2TYNs0WzlfMsRmNNjmtGcgT/IUv3IURw/73NqXj0sVjAW2kRkh4wxlng66V6xhnAKGqWlz6GdieEQhpX/8CQknk5khyy0iXQvSTxd95Kq1NDOWhUfKh+r8ptj4ZcyxljoNUQMrJD34LVpoDaO+Wh1wMSL/lpndKnUofDWcbSOotN8reJq6u2xRVsXoV1oMrTJDsuDFFKFCM05jOEMiacTEadyvXYp5oQ21eRMwqtFY8V5B5rvhtT1Ro9/kr714Hsf2/+y7Ybq/rOzJtpS362EFqY2CWRbJhGRvlnnm5n0dCxWAmW165ZbLCvaNu4dxMR4bq02jrBWV/3KIi4+o6GoCzrdM3N2zcijgHKbkPlW+/reLbBDh/UaDdOM4gyqe2CMJZu91r+xzGOOttQ7O5x4rOjJgaqLF+qPqHll98AYY1YwYH/fS/ITVxaNc2rEtOx4q50VdfS+zuqNnNWxtFLJIdPzanvuTkpq+zdo1fysLNvljFb3jO6hcFlcZYvlsv3tCN0CO3RIRNIcXrYzqO6BsdCOtx8Pvlk2RqyoBtDoYxtngT3DfPP03apqWnW90XfvmWOn/vtOr7iI+ckST98FHdrrkVDGtDiWSP33Y6Gp3K/S07E8D163ixc6DtyiZE6c79vlpLZnpVUiItKIBBeEyxj4MxJQeKsdW15FIBsBW1zQ6Oe7GGry83OzwIJO04zpDFnN9h6HMPVYkeUjMjjZC36FS1nRpBLJ6+mDRjqpKSHPOmSJijyvURXc7L/UW1Goex4/uXQRVZ3pY3OgjRk8uVYZE1ZQ34wE5bXYsT0PKSUH2m2L1i5KzXS9kiQUU0U7PaZ5sDNwGzQ2eHbIKsnKpvYn4tVisYL4lpFOUyk3Sasknrmp4YEChS//bobcS5HAlLQa2nJuh1xPh/Kvs+8g9cpyoYkg/RIb0PWEvJonkHMT6QEEq3sltKJg1/IYn1hzR1GU1V7miB7HhLRqvi3fx0xYRs4rrTlPGt5iX0H1PrULiXDjJTaUCXl1rTnH0DcF49GofC943NrYy4N3oJKZqlbBCMzGGe47Efykh1T4v+gBAJgneBsTAABcCQLoPcgPlE3qIUYAgGwQQOWyWGhE0cf5nQrJZv+KEArAfEEAlUpyOhFFwXGzVlPf0Lax8IEjAMDzgQAqk+hEa5WI4q2mvNKXxBOlAIAJggAqj8gJFq5KpC113UsOrpp+718s3JIHYLYggN5E+Q3cSmBl77Ryv87vo9H2mzfETwDmC54DBQCAK8EOFAAAruQ/SmzSzmsH14oAAAAASUVORK5CYII=\"></div><div class=\"grid-item\">\n",
       "\t\t\t\t\t\t\t\t\t\t\t\t\t<div class=\"prompt output_prompt\" style=\"text-align:left;padding:0em;padding-right:20px;line-height:20px;\">\n",
       "\t\t\t\t\t\t\t\t\t\t\t\t\t\tOut[11]:\n",
       "\t\t\t\t\t\t\t\t\t\t\t\t\t</div>\n",
       "\t\t\t\t\t\t\t\t\t\t\t\t</div>\n",
       "\t\t\t\t\t\t\t\t\t\t\t\t<div class=\"grid-item\"><img alt=\"Output\" src=\"data:image/png;base64,iVBORw0KGgoAAAANSUhEUgAAAAcAAAAPCAIAAACnY0LpAAAAhXpUWHRSYXcgcHJvZmlsZSB0eXBlIGV4aWYAAHjaVYvBDcMwDAP/mqIjyLJM2uMYiQNkg45fuu0n9yApgbT1vi97felp2dgxABc5csRU6P6juNciDXn+X9MfZGWgoRhTluEkhnJXkqKFN+LCAahYcIbnIV8gNQN3o86928QyPusLVffpbh/5eCey76LuBgAAAAlwSFlzAAALEwAACxMBAJqcGAAAADx0RVh0U29mdHdhcmUAQ3JlYXRlZCB3aXRoIHRoZSBXb2xmcmFtIExhbmd1YWdlIDogd3d3LndvbGZyYW0uY29tXKKmhQAAACF0RVh0Q3JlYXRpb24gVGltZQAyMDE5OjA1OjI4IDE2OjIwOjA4ZgvbDwAAAG5JREFUGJWlkLENwjAABO8RozCFmcCiZwS7ZY80Tski9gYZgcbs8hSJkKIoafLdn15XvGyzyWWLjmjLyu2UAYCWJUm6j18AuyYgVdvuJRBK97xN9R0Bbo9nmD59x3tdtTa8plTj37sklG7bOv3DD+xgKaXJSGqzAAAAAElFTkSuQmCC\"></div><div class=\"grid-item\">\n",
       "\t\t\t\t\t\t\t\t\t\t\t\t\t<div class=\"prompt output_prompt\" style=\"text-align:left;padding:0em;padding-right:20px;line-height:20px;\">\n",
       "\t\t\t\t\t\t\t\t\t\t\t\t\t\tOut[12]:\n",
       "\t\t\t\t\t\t\t\t\t\t\t\t\t</div>\n",
       "\t\t\t\t\t\t\t\t\t\t\t\t</div>\n",
       "\t\t\t\t\t\t\t\t\t\t\t\t<div class=\"grid-item\"><img alt=\"Output\" src=\"data:image/png;base64,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\"></div></div></div>"
      ]
     },
     "execution_count": 8,
     "metadata": {
      "text/html": []
     },
     "output_type": "execute_result"
    }
   ],
   "source": [
    "u = a Cos[omega t] + b Sin[omega t]/omega + Integrate[Sin[omega (t-s)]/omega * f[s], {s, 0, t}]\n",
    "u/.t->0\n",
    "D[u, t]\n",
    "D[u, t]/.t->0\n",
    "D[u, {t,2}]"
   ]
  },
  {
   "cell_type": "markdown",
   "metadata": {},
   "source": [
    "#### 共振\n",
    "\n",
    "$\\ddot u(t) = -\\omega^2 u(t) + f(t)$ の解\n",
    "\n",
    "$$\n",
    "u(t) = a\\cos(\\omega t) + b\\frac{\\sin(\\omega t)}{\\omega} +\n",
    "\\int_0^t \\frac{\\sin(\\omega(t-s))}{\\omega} f(s)\\,ds.　\n",
    "$$\n",
    "\n",
    "が $f(t) = \\cos(\\alpha t), \\sin(\\alpha t)$ の場合にどうなるかを調べてみよう. そのためには三角函数に関する公式\n",
    "\n",
    "$$\n",
    "\\begin{aligned}\n",
    "&\n",
    "\\sin x\\cdot \\cos y = \\frac{1}{2}(\\sin(x-y) + \\sin(x+y)), \n",
    "\\\\ &\n",
    "\\sin x\\cdot \\sin y = \\frac{1}{2}(\\cos(x-y) - \\cos(x+y)) \n",
    "\\end{aligned}\n",
    "$$\n",
    "\n",
    "を使う. この公式より\n",
    "\n",
    "$$\n",
    "\\begin{aligned}\n",
    "&\n",
    "\\frac{\\sin(\\omega(t-s))}{\\omega}\\cos(\\alpha s) = \n",
    "\\frac{1}{2\\omega}(\\sin(\\omega t - (\\omega+\\alpha)s) + \\sin(\\omega t - (\\omega-\\alpha)s)),\n",
    "\\\\ &\n",
    "\\frac{\\sin(\\omega(t-s))}{\\omega}\\sin(\\alpha s) = \n",
    "\\frac{1}{2\\omega}(\\cos(\\omega t - (\\omega+\\alpha)s) - \\cos(\\omega t - (\\omega-\\alpha)s)).\n",
    "\\end{aligned}\n",
    "$$\n",
    "\n",
    "ゆえに, $\\alpha\\ne\\pm\\omega$ の場合には, \n",
    "\n",
    "$$\n",
    "\\begin{aligned}\n",
    "\\int_0^t \\frac{\\sin(\\omega(t-s))}{\\omega}\\cos(\\alpha s)\\,ds &=\n",
    "\\frac{1}{2\\omega}\\left[\n",
    "\\frac{\\cos(\\omega t - (\\omega+\\alpha)s)}{\\omega+\\alpha} + \n",
    "\\frac{\\cos(\\omega t - (\\omega-\\alpha)s)}{\\omega-\\alpha}\n",
    "\\right]_{s=0}^{s=t}\n",
    "\\\\ & = \n",
    "\\frac{1}{2\\omega}\\left(\n",
    "\\frac{\\cos(\\alpha t)}{\\omega+\\alpha} + \n",
    "\\frac{\\cos(\\alpha t)}{\\omega-\\alpha} -\n",
    "\\frac{\\cos(\\omega t)}{\\omega+\\alpha} -\n",
    "\\frac{\\cos(\\omega t)}{\\omega-\\alpha}\n",
    "\\right)\n",
    "\\\\ & =\n",
    "\\frac{\\cos(\\alpha t)}{\\omega^2-\\alpha^2} - \\frac{\\cos(\\omega t)}{\\omega^2-\\alpha^2}\n",
    "\\\\ &=\n",
    "-\\frac{\\cos(\\alpha t)-\\cos(\\omega t)}{\\alpha^2-\\omega^2},\n",
    "\\\\\n",
    "\\int_0^t \\frac{\\sin(\\omega(t-s))}{\\omega}\\sin(\\alpha s)\\,ds &=\n",
    "\\frac{1}{2\\omega}\\left[\n",
    "\\frac{-\\sin(\\omega t - (\\omega+\\alpha)s)}{\\omega+\\alpha} - \n",
    "\\frac{-\\sin(\\omega t - (\\omega-\\alpha)s)}{\\omega-\\alpha}\n",
    "\\right]_{s=0}^{s=t}\n",
    "\\\\ & =\n",
    "\\frac{1}{2\\omega}\\left(\n",
    "\\frac{\\sin(\\alpha t)}{\\omega+\\alpha} +\n",
    "\\frac{\\sin(\\alpha t)}{\\omega-\\alpha} +\n",
    "\\frac{\\sin(\\omega t)}{\\omega+\\alpha} -\n",
    "\\frac{\\sin(\\omega t)}{\\omega-\\alpha}\n",
    "\\right)\n",
    "\\\\ & =\n",
    "\\frac{\\sin(\\alpha t)}{\\omega^2-\\alpha^2} - \n",
    "\\frac{\\alpha}{\\omega}\\frac{\\sin(\\omega t)}{\\omega^2-\\alpha^2}\n",
    "\\\\ & = -\\frac{\\alpha}{\\omega}\n",
    "\\frac{(\\omega/\\alpha)\\sin(\\alpha t) - \\sin(\\omega t)}{\\alpha^2-\\omega^2}.\n",
    "\\end{aligned}\n",
    "$$\n",
    "\n",
    "これらの函数の振幅は $\\alpha^2$ が $\\omega^2$ に近付くと大きくなる.\n",
    "\n",
    "$\\alpha=\\omega$ の場合には上の公式で $\\alpha\\to\\omega$ の極限を取ると, \n",
    "\n",
    "$$\n",
    "\\begin{aligned}\n",
    "\\int_0^t \\frac{\\sin(\\omega(t-s))}{\\omega}\\cos(\\omega s)\\,ds &=\n",
    "\\frac{t\\sin(\\omega t)}{2\\omega},\n",
    "\\\\\n",
    "\\int_0^t \\frac{\\sin(\\omega(t-s))}{\\omega}\\sin(\\omega s)\\,ds &=\n",
    "\\frac{-t\\cos(\\omega t) + (1/\\omega)\\sin(\\omega t)}{2\\omega}.\n",
    "\\end{aligned}\n",
    "$$\n",
    "\n",
    "$\\alpha=-\\omega$ の場合の公式はこの公式で $\\omega$ を $-\\omega$ に置き換えれば得られる. \n",
    "\n",
    "したがって, $\\alpha=\\pm\\omega$ の場合には時刻 $t$ に比例して振幅が大きくなる項が出て来る.  すなわち, 調和振動子に与える外力の周期が調和振動子の周期 $2\\pi/|\\omega|$ に等しい場合には, 外力が与えられた調和振動子の振幅は時間に比例して幾らでも大きくなる."
   ]
  },
  {
   "cell_type": "code",
   "execution_count": 13,
   "metadata": {},
   "outputs": [
    {
     "data": {
      "text/html": [
       "<div><pre style=\"&#102;&#111;&#110;&#116;&#45;&#102;&#97;&#109;&#105;&#108;&#121;&#58;&#32;&#34;&#67;&#111;&#117;&#114;&#105;&#101;&#114;&#32;&#78;&#101;&#119;&#34;&#44;&#67;&#111;&#117;&#114;&#105;&#101;&#114;&#44;&#109;&#111;&#110;&#111;&#115;&#112;&#97;&#99;&#101;&#59;\">&#48;</pre></div>"
      ]
     },
     "execution_count": 13,
     "metadata": {
      "text/html": []
     },
     "output_type": "execute_result"
    }
   ],
   "source": [
    "Simplify[Sin[x-y] + Sin[x+y] - 2 Sin[x] Cos[y]]"
   ]
  },
  {
   "cell_type": "code",
   "execution_count": 14,
   "metadata": {},
   "outputs": [
    {
     "data": {
      "text/html": [
       "<div><pre style=\"&#102;&#111;&#110;&#116;&#45;&#102;&#97;&#109;&#105;&#108;&#121;&#58;&#32;&#34;&#67;&#111;&#117;&#114;&#105;&#101;&#114;&#32;&#78;&#101;&#119;&#34;&#44;&#67;&#111;&#117;&#114;&#105;&#101;&#114;&#44;&#109;&#111;&#110;&#111;&#115;&#112;&#97;&#99;&#101;&#59;\">&#48;</pre></div>"
      ]
     },
     "execution_count": 14,
     "metadata": {
      "text/html": []
     },
     "output_type": "execute_result"
    }
   ],
   "source": [
    "Simplify[Cos[x-y] - Cos[x+y] - 2 Sin[x] Sin[y]]"
   ]
  },
  {
   "cell_type": "code",
   "execution_count": 15,
   "metadata": {},
   "outputs": [
    {
     "data": {
      "text/html": [
       "<div><img alt=\"Output\" src=\"data:image/png;base64,iVBORw0KGgoAAAANSUhEUgAAAMAAAAAlCAIAAACbN3FhAAAAhXpUWHRSYXcgcHJvZmlsZSB0eXBlIGV4aWYAAHjaVYvBDcMwDAP/mqIjyLJM2uMYiQNkg45fuu0n9yApgbT1vi97felp2dgxABc5csRU6P6juNciDXn+X9MfZGWgoRhTluEkhnJXkqKFN+LCAahYcIbnIV8gNQN3o86928QyPusLVffpbh/5eCey76LuBgAAAAlwSFlzAAALEwAACxMBAJqcGAAAADx0RVh0U29mdHdhcmUAQ3JlYXRlZCB3aXRoIHRoZSBXb2xmcmFtIExhbmd1YWdlIDogd3d3LndvbGZyYW0uY29tXKKmhQAAACF0RVh0Q3JlYXRpb24gVGltZQAyMDE5OjA1OjI4IDE2OjIwOjA5EQzrmQAAA+lJREFUeJztnD12ozAQgKV9OUAOgVP45QTyCSCNK7fbidI06VKkcJdGlKZL68pNxAnCCfxSBO6iLUAGAUb8CcRaX2OsoNF4GGkG0AQyxoDB0Jc/cytQJnRhihtKT5SdYlBPWwe6XlcIN37Sa6hUhKy3fWSMxQT1GkJO4m+qftdOs0Yms49iOtunjQMl/gY6gLKM773VT7ktHdJbIfaRMUZ3fbvftX1aOFDydYowPdqVdn8DK+Gm0CidS4VZ2xyNQhe6PhcsiOUiro0NMhN/A+HKi0Dg9FoqQr/+fGX2qUpI/M3G910IYfbBJdeOVbQFH258+zAZMUEAkbihtXBMMcC0LCGD0lt/YTFBQr/Sd4oByL7nYxUaKQbVYcsym1oZY4ySyo9sdYIq+9RJiAkCAFNGMQCIxDFBiMSiVIpz+/DuhUNR/gj2yVcg0V8l7pd8nSL8lq221v4NRz8xAACs1ihw5AlweciVF0lO5VPcetmhbKy8cbXOU6YOMhUy3D63JAC8tQEAAO1eeKxLfi/XVQM6QbPcse2TO5B9FDzrGoutp2dwvWQyrP03Y4xtz9KwBEDoOpfCDBsFFTK5zR3PW9VMLWX2aU38EwkLTHrp7C2OUoWhcyGf6eUc3z4tciD7laDAEX+t9bJDwSGzZOIfArReFbscWUxQcG6yUPJ74YfhR+vZEH54UTYHe8m0np7B5bfbjU42tfgaXk5z1dhHIkFQYIsj76MkK/EPl6tXcZVV2Kcu3NUEQJz3KETWUovo1eVQWsmBrgIQIbiQ4xTB9MboxcBfCNx1MkXyEcS8oG8OpM4+VQn8h2ZJDc+BRMHV8QujjW6flg40Bg1JtKxnQ+o5GlIHUq5Ab/vUShNuLGrT6I4CZUm0es5O93vnSQhdCKFzmlsNdfYJzwF4fur9gKnRPoO8ciImWYH+N4RwOXT5uQ1k5mWqYQDavUw1LAvjQIZBGAcyDOIh/Xh/f59VDcOS8Dzv8fExPTZJtGEQJoQZBmEcyDCIu3UgvgVL633VC1DyXh0o+QJvjLGYXA4avlvJWIKSy3Cg8Us1rP0+2xMy4B2Rapag5DIcSFGpRuj+BZ/Vzcx6obmSD3MrMBuhC89bdtR1Zqfor6R2K9BEpRqh6wTZRuI+GyimqZcYqOQ0KHrLPwLTlWr0UGz6eglN0W4F0qFUo7lAZSn1EtOgmwNpUapxq0ClM7PWS0yDZg40T6lGN2aql9AV5UGyI/OUavTWcsp6CS1Z7tv47A5X2wckNwld6ADKNQ9deFjHOv5LhXZoFsLujoH1EvNzvw8SZ8N+JWjlwOyeDJH4e3mraM5yQ5hBC0wIMwziH9nmB3TmEJhHAAAAAElFTkSuQmCC\"></div>"
      ]
     },
     "execution_count": 15,
     "metadata": {
      "text/html": []
     },
     "output_type": "execute_result"
    }
   ],
   "source": [
    "Integrate[Sin[omega (t-s)] Cos[alpha s] / omega, {s, 0, t}]"
   ]
  },
  {
   "cell_type": "code",
   "execution_count": 16,
   "metadata": {},
   "outputs": [
    {
     "data": {
      "text/html": [
       "<div><img alt=\"Output\" src=\"data:image/png;base64,iVBORw0KGgoAAAANSUhEUgAAAGEAAAAjCAIAAAAL9POTAAAAhXpUWHRSYXcgcHJvZmlsZSB0eXBlIGV4aWYAAHjaVYvBDcMwDAP/mqIjyLJM2uMYiQNkg45fuu0n9yApgbT1vi97felp2dgxABc5csRU6P6juNciDXn+X9MfZGWgoRhTluEkhnJXkqKFN+LCAahYcIbnIV8gNQN3o86928QyPusLVffpbh/5eCey76LuBgAAAAlwSFlzAAALEwAACxMBAJqcGAAAADx0RVh0U29mdHdhcmUAQ3JlYXRlZCB3aXRoIHRoZSBXb2xmcmFtIExhbmd1YWdlIDogd3d3LndvbGZyYW0uY29tXKKmhQAAACF0RVh0Q3JlYXRpb24gVGltZQAyMDE5OjA1OjI4IDE2OjIwOjA5EQzrmQAAAv5JREFUaIHtmbGWojAUhm/27APMQ8AUc3yC8AS4jZXtdKGEZjuLKeymScqx29Zqmg1PIE/AmcLkXbJFEgGJBjXquIevAQm5JD83P3BFSikYOcqPSwNIliCUlSHG8l1payRZcni2kiXIcrYkZYYQQgmTZ/YPgnOax0Y2LI8kS+L1XCjDR9o0Rfmme+AoM66U2uTRwNNvR/qhlOJzZ5vRSLIEobioYDXVqTLoXmvxu4lVZihjNuf8UVrpqYNIliSMZQghs7HBe2d2RtC6XPvYXr6cN01QDYJiIFw5ERQDAGAqXC2tXpwAmN+cwF48zvl+VxvR7guKAQhXnABgKgTFmAqlOGlCcWJ67XY6u74JHZ4mp/3pKaWGenaUb5RSYr6O/eoTrtde/IKPxpR/1xVZmIUX5QtSfQkdYJYCAOD5L7so5bbe3Xs0XR0f6y6R4qLyz8zPac+1KN8oxUlVvN/4QSa+qk6aaEtLZ6QqYq1bTf9otctsWrdyMwBtjaLnCdRbr4Nsa8AvcYBrR7/meLU0OSnZcnU4bDpz3BjJlvVOOPsgkNvatpfvzjwaNs0WnTxKf1Mw96W7nNo2GBcTrgekXbSxwJNfCaJ8wyfmgvF6Lo488NIPQWu72MzoonxhezcGHeULm1zLF0qcsQ5N8xAu77oae559abTOM8Hp2icGvMyzA/E5vdY7ZPm5gsnz2S9eZYYQmq7djRcJf2c6nnxpEh0GqfGb1seN19pDMmrkZ9TIz0+9eXt7u+swvh1FUTw9Pen90bP9jGvNz6iRn1EjP6NGfkJr1FRU71zZD0hYjSR7/VqYTykoXv8Xla70HegoZqvOR6huExRjSgkAmI3t0zvTxmzY1bShf2ZQrqWRo7B+nwp/AK7j2WUWFxPe/dftUSr8fcJrJFmCpsCH/y/Z564V/j6BNZIsiYuJU6A7VfhDEHLh9u7kvj00BmvyxHqIMRjrR91QLRfqx94dxJSS6/jR49Rqg1f4B/Og79kXVvhP5Da3IgQ3qvD3GetHfv4BSPNThdHPE/oAAAAASUVORK5CYII=\"></div>"
      ]
     },
     "execution_count": 16,
     "metadata": {
      "text/html": []
     },
     "output_type": "execute_result"
    }
   ],
   "source": [
    "Integrate[Sin[omega (t-s)] Cos[omega s] / omega, {s, 0, t}]"
   ]
  },
  {
   "cell_type": "code",
   "execution_count": 17,
   "metadata": {},
   "outputs": [
    {
     "data": {
      "text/html": [
       "<div><img alt=\"Output\" src=\"data:image/png;base64,iVBORw0KGgoAAAANSUhEUgAAAGEAAAAjCAIAAAAL9POTAAAAhXpUWHRSYXcgcHJvZmlsZSB0eXBlIGV4aWYAAHjaVYvBDcMwDAP/mqIjyLJM2uMYiQNkg45fuu0n9yApgbT1vi97felp2dgxABc5csRU6P6juNciDXn+X9MfZGWgoRhTluEkhnJXkqKFN+LCAahYcIbnIV8gNQN3o86928QyPusLVffpbh/5eCey76LuBgAAAAlwSFlzAAALEwAACxMBAJqcGAAAADx0RVh0U29mdHdhcmUAQ3JlYXRlZCB3aXRoIHRoZSBXb2xmcmFtIExhbmd1YWdlIDogd3d3LndvbGZyYW0uY29tXKKmhQAAACF0RVh0Q3JlYXRpb24gVGltZQAyMDE5OjA1OjI4IDE2OjIwOjEwcctifAAAAv5JREFUaIHtmbGWojAUhm/27APMQ8AUc3yC8AS4jZXtdKGEZjuLKeymScqx29Zqmg1PIE/AmcLkXbJFEgGJBjXquIevAQm5JD83P3BFSikYOcqPSwNIliCUlSHG8l1payRZcni2kiXIcrYkZYYQQgmTZ/YPgnOax0Y2LI8kS+L1XCjDR9o0Rfmme+AoM66U2uTRwNNvR/qhlOJzZ5vRSLIEobioYDXVqTLoXmvxu4lVZihjNuf8UVrpqYNIliSMZQghs7HBe2d2RtC6XPvYXr6cN01QDYJiIFw5ERQDAGAqXC2tXpwAmN+cwF48zvl+VxvR7guKAQhXnABgKgTFmAqlOGlCcWJ67XY6u74JHZ4mp/3pKaWGenaUb5RSYr6O/eoTrtde/IKPxpR/1xVZmIUX5QtSfQkdYJYCAOD5L7so5bbe3Xs0XR0f6y6R4qLyz8zPac+1KN8oxUlVvN/4QSa+qk6aaEtLZ6QqYq1bTf9otctsWrdyMwBtjaLnCdRbr4Nsa8AvcYBrR7/meLU0OSnZcnU4bDpz3BjJlvVOOPsgkNvatpfvzjwaNs0WnTxKf1Mw96W7nNo2GBcTrgekXbSxwJNfCaJ8wyfmgvF6Lo488NIPQWu72MzoonxhezcGHeULm1zLF0qcsQ5N8xAu77oae559abTOM8Hp2icGvMyzA/E5vdY7ZPm5gsnz2S9eZYYQmq7djRcJf2c6nnxpEh0GqfGb1seN19pDMmrkZ9TIz0+9eXt7u+swvh1FUTw9Pen90bP9jGvNz6iRn1EjP6NGfkJr1FRU71zZD0hYjSR7/VqYTykoXv8Xla70HegoZqvOR6huExRjSgkAmI3t0zvTxmzY1bShf2ZQrqWRo7B+nwp/AK7j2WUWFxPe/dftUSr8fcJrJFmCpsCH/y/Z564V/j6BNZIsiYuJU6A7VfhDEHLh9u7kvj00BmvyxHqIMRjrR91QLRfqx94dxJSS6/jR49Rqg1f4B/Og79kXVvhP5Da3IgQ3qvD3GetHfv4BSPNThdHPE/oAAAAASUVORK5CYII=\"></div>"
      ]
     },
     "execution_count": 17,
     "metadata": {
      "text/html": []
     },
     "output_type": "execute_result"
    }
   ],
   "source": [
    "Integrate[Sin[omega (t-s)] Cos[-omega s] / omega, {s, 0, t}]"
   ]
  },
  {
   "cell_type": "code",
   "execution_count": 18,
   "metadata": {},
   "outputs": [
    {
     "data": {
      "text/html": [
       "<div><img alt=\"Output\" src=\"data:image/png;base64,iVBORw0KGgoAAAANSUhEUgAAAQMAAAAlCAIAAADJMRsDAAAAhXpUWHRSYXcgcHJvZmlsZSB0eXBlIGV4aWYAAHjaVYvBDcMwDAP/mqIjyLJM2uMYiQNkg45fuu0n9yApgbT1vi97felp2dgxABc5csRU6P6juNciDXn+X9MfZGWgoRhTluEkhnJXkqKFN+LCAahYcIbnIV8gNQN3o86928QyPusLVffpbh/5eCey76LuBgAAAAlwSFlzAAALEwAACxMBAJqcGAAAADx0RVh0U29mdHdhcmUAQ3JlYXRlZCB3aXRoIHRoZSBXb2xmcmFtIExhbmd1YWdlIDogd3d3LndvbGZyYW0uY29tXKKmhQAAACF0RVh0Q3JlYXRpb24gVGltZQAyMDE5OjA1OjI4IDE2OjIwOjExBsxS6gAABIBJREFUeJztnDGaqjAQgCfvewfYQ8AWfp4ATyDbWNm+DkpotrPYwm6bUGq3rdU2G06gJ+CzMNwlr0hQVEDAkACbv9FFmGSYTIbJkkGMMTAYfj1/dHegiDSaIeTHMkXGPuI8Ehv7kluWjB5FOrBI39DqCWk0Q6imYUvhQ2MWpZVnzTeMMYqdlo08Io1m9xrU61lDulVEoUU6prFF9HlCGs3s3ZIywWZ++ckK9tcHKlkQxtg+sDrp5TPMN4wxstTdjdr8bovkPCE3H3BnSqPZLIp8hJD4yJzs7kyAXNhGF7/LH6s5xRRF/9hHfpS1+XCuqd1oudhMxPlghcw0miFkhwfYujU7WBfFijzsRmuLKB5aLS0iJgCKHXAwvfpOsQPgEUY8AAdTih0HU8aIBx4RlxFPXHX+cvX1AsXO5arcMYCCk2/PJh6A+Jt4cCOHkBux5Y2Wi72oX9lWiSJlRxljjOB79RqjSpFOLKJjaLWwiIgJ6c/u4K1EPLOClXc4UgAA8BZzAABn+ZbFuvSUnJ0NudtqPzt7rh0e7n60gj1jjC539mO/9QiPzfbk8RNyZaPFYq23pZOpXNhWA5l1uZ7pim6AckW6sIiWodWC5nkCPR6u/JI/D84X3iG0uQoJ/uKKx76b5CaDYqxgzxjxDuGnnKWJWo32QCZ/aL29jx03qsUitZE9tBohPMF6WzrbtZgE0mi9dSZ2yRXzRcE9SqN1ctYhs2l6SrLf489Kx01PCZS32Ij6jeaJP8ODmKNaybRep5CcpC6W6FEkf6Yci2gaWo0tksUEK9iTqfA8e7ekFZn/fENxksUwEUOtYJVdfclhrGCVefN6gr0bMfmHAzucEt4iz5gu6U7jpbziRsvEZrHYTTAtXxqpVoTflHcM4gZIypjVK9KZRVQPLS6rqUWKcormXKdNhYlNV1RkzI+u9EpyKplIyZgftaFCkfq0t0ihNNlDqzpjlkr8vYXpq7LV5G9X3kQsldhHCLk73d1QT3cWeXJoVVrkKfe6cJW2qAsIT9GzqbQ9o1GkEEVDCzHzBp7B0NM38AwG5RhPMBgAjCcYDJy//OPj40NrNwwGDYRh+PLywr+bjNlgADBPRwYDx3iCwQBgPKE52V6Sce/qbczdnqChYTyhIekPrBhjFCfrodq8E8Q75mSabY4YGiP3BPmVIKwgEK96Kny1agjwWLmevNfd7dwzRu4JHVWCiP1/8FV7g/vvgO93Wx3tgT42/tXdgeER++h7wTYmIBRRZ3dtPxlPTFBUCSL23a3Ys1KQHOqqDxJHpUmLmi5lh+zjaqixsqN3XHWirqTF/Tnqizjw80v2A2ns0tAYWEyoqgehu6RFD4s49LBLvWVgnlBeD2IwJS0AZBZxEGPSDfmF7VfztdaV6AMD84RS9FaCAABNRRyyZXzxdHSzW15zyZJBMRZP0FTS4uZ8LUUcBtal3iIz6RgGfd31q7E+SBk97FJnjCUmjA3F9UHq0MMuycT8Z603zN+xY7tILNs4mO61L8z3sEudYXbqGAwA48mYDYbn+A/Yi90uNjprDQAAAABJRU5ErkJggg==\"></div>"
      ]
     },
     "execution_count": 18,
     "metadata": {
      "text/html": []
     },
     "output_type": "execute_result"
    }
   ],
   "source": [
    "Integrate[Sin[omega (t-s)] Sin[alpha s] / omega, {s, 0, t}]"
   ]
  },
  {
   "cell_type": "code",
   "execution_count": 19,
   "metadata": {},
   "outputs": [
    {
     "data": {
      "text/html": [
       "<div><img alt=\"Output\" src=\"data:image/png;base64,iVBORw0KGgoAAAANSUhEUgAAAPAAAAAlCAIAAADzxPNZAAAAhXpUWHRSYXcgcHJvZmlsZSB0eXBlIGV4aWYAAHjaVYvBDcMwDAP/mqIjyLJM2uMYiQNkg45fuu0n9yApgbT1vi97felp2dgxABc5csRU6P6juNciDXn+X9MfZGWgoRhTluEkhnJXkqKFN+LCAahYcIbnIV8gNQN3o86928QyPusLVffpbh/5eCey76LuBgAAAAlwSFlzAAALEwAACxMBAJqcGAAAADx0RVh0U29mdHdhcmUAQ3JlYXRlZCB3aXRoIHRoZSBXb2xmcmFtIExhbmd1YWdlIDogd3d3LndvbGZyYW0uY29tXKKmhQAAACF0RVh0Q3JlYXRpb24gVGltZQAyMDE5OjA1OjI4IDE2OjIwOjExBsxS6gAABCpJREFUeJztnD12ozAQgId9e4AcAlL4+QTiBHgbV27TQQnNdi5SuNtGKu0urSs3gROYE/BSBN1FW4AA8R/smJ/M1xgLIY2GmWGQJWtCCECQpfBrbAGQB8KZqWlOMLYY38lkDZozs031gaNJTMYH9ZA0MfTqO1E7zJsl48zM1DPYfuepn8kadAucmdoGfJFydfVh7Wz9W67+RqyjEMLfDbyaM9M472KpnqOVn9Ldq1rQyiz108+gCx6fuAtnpsmYo2la+iHdqFITQAmnmWcVy0ouyJmpaYYXwmlTF4P5+zm0/eptqe26UNgdayY1zE4C9qX6mSQFMQJHc5gcykL0IzqJKQFCY+U4pgTA9oVvAxAax5QQGgvh22DLyOnb6VXZgXKotp9d1VFaEqddSKEKVMb3lTMTG6bwaaWJvhViSgCgRoZyd74NkH73bSgJMk/95BFa9Z/cHfj7ObT36YNHd/d2+BEDAIC9tQAAyO6PfCjxzyhzJ21zavekrD/DC3s4XjtNQhorctr0yiNnMcye6O5VCBHvzkZ3XJPPOmNFWtuci35yg7aOiqUPyZ3ij1DxvKQNa2uHnpGMLqJvSbuBs4kK7v4F9Oc1SGV2V3avQgixvdQ80gbzkGG2kNrAxku6a7JY3b0K4duh9+/B0xqj6qc7h9b/7MjpkCqNs8OJrIyGqta2Rn2cHaJseNJN+Gckzwf/al1Tf15D9Fl3q6y/lJw2qnV2CGkdRUzJ6dJyZyc3zGbS0COfuW2hh39G0DyQrzAb/dSlJ9V8xZbVU9eTqU2aDcnkSfWzQspUIM2IskJCaX2imzdVTbiKTVa7yeorXl/uo5QjTm2Yg3PoWjkqAdD2hZLsVpPVeeqnn0Hfgvq2Ufs+MA7VG3ZTa/ceZqdBfzfz1M+D56GDywnWzxOZ2bxsvj5X1o8bhxk4mqZtzveUaAjz1M9NXtIL5WE3lfB8f37IMAfzIP1oAhcnIQtijj99I0gjaNDIokCDRhbF7+Tj9fV1VDEQZDie5z09PSXH+FKILApMOZBFgQaNLAo06OkjV8svezPgnUCDnjz8HfZCiJhGh3H3982C32MLgHShu3J96GRWwUwYjNCt5HvjRt79HDgv8NZ7e+sPBg26Bc5ePvbpyhrwXkYz6cDRLtspbr+eIt+06GlpVPeQCmUBWXIupoRQakO6Xj0rr9aUbeZkW0mhVLNQhIv4OkGD7kXN5uNxdkEjHWDK0YPAMbx16Z9A5rIL+qeBBt2B/JumG17Ixt4l/qNAg26DM9Pw1rXWPNIuaKQDNOhmOHvxQsizBfWnOt29+us0xBrnXdwyC2EdYxplrSQTgLq7l1fnbevuXobtw4raTe0hzeBqu5EInGImEzjaYdXmE0hPMEJPgUlthp83GKHHgjMzn8ggFMPzfUCDRhYFphzIovgPwPMyaMmUCmUAAAAASUVORK5CYII=\"></div>"
      ]
     },
     "execution_count": 19,
     "metadata": {
      "text/html": []
     },
     "output_type": "execute_result"
    }
   ],
   "source": [
    "Integrate[Sin[omega (t-s)] Sin[omega s] / omega, {s, 0, t}]"
   ]
  },
  {
   "cell_type": "code",
   "execution_count": 20,
   "metadata": {},
   "outputs": [
    {
     "data": {
      "text/html": [
       "<div><img alt=\"Output\" src=\"data:image/png;base64,iVBORw0KGgoAAAANSUhEUgAAAOcAAAAlCAIAAAA2tmnIAAAAhXpUWHRSYXcgcHJvZmlsZSB0eXBlIGV4aWYAAHjaVYvBDcMwDAP/mqIjyLJM2uMYiQNkg45fuu0n9yApgbT1vi97felp2dgxABc5csRU6P6juNciDXn+X9MfZGWgoRhTluEkhnJXkqKFN+LCAahYcIbnIV8gNQN3o86928QyPusLVffpbh/5eCey76LuBgAAAAlwSFlzAAALEwAACxMBAJqcGAAAADx0RVh0U29mdHdhcmUAQ3JlYXRlZCB3aXRoIHRoZSBXb2xmcmFtIExhbmd1YWdlIDogd3d3LndvbGZyYW0uY29tXKKmhQAAACF0RVh0Q3JlYXRpb24gVGltZQAyMDE5OjA1OjI4IDE2OjIwOjExBsxS6gAABA1JREFUeJztnD96qzAMwOX39QA9BHTIlxOYE5C3ZMraDUZY3pahQ7YuZky2rpmyFE4QTsDXofgufgMYMDikJX/ArX5LqAEjqZIQxAoRQgCCGMWfsQVArg2PHEL8ZGwxbsm4Xssjp8++iU8kTsQHXaGYYujZV0Kr5sWS8cipzDPYSc20z2RzLY8csoBYlBwDa9g8y/iSs2+IuxVCxKuBZ/PIsferXJpn69a7rOCoDvRipH0aXtuI3cLxeeQ4UeQTQsoPGRCdIwGUxFjFSHOsFUw8cgixwxR2C1025e/71Iu7ttdeujF4PmtMSs1rU0nSECPxiR9JVX6IfcpgzRkFynJlO2cUwItF7AFQlueMUpYLEXvgyRwYe+VZ1YayWZMzWp91ZrQljn60sd0UqE0cK3smpqaIWWeKr5IzCgAaGdqXiz2A8u/Yg5YgZtqnzLX8fZ966/I+YQVrL/3IAQDAW7oAAHT1V95D+GdWBQZZ7PpjoooyO0y/EEL9nBLSntHd4ku1nRFqtqY8lYKs4CiEyFd7+3yGkncte0Z7L2qKfb5f1+YfqRJDRU3kLr00tAsVMvZWKJ74i6wRuN/AepqDtNj5g4OjEEIsD5o70GDuomYP7lbJLqcqTys4ChF7afh655cGo9qn9Frr74ruNmXA8mizozP7xBnuUmMjHm2ySgdpYf6Zyf3JqzbIrKc5ZJ+6NOH+Y3S3UF3wjJDuVuSM7g49/77JqXkV+GcGpxX5DsbYp1FDeHKsDCJZbpQViixo1IhplDENyiqlGqSM6YvPeqpuEdScsnuZ6nglftvXaNVtU1NzcF2rlaOTyrxYKAVot4A00z6gGRuAWuZrC/Fx6P5XLprt2mpe8DR2Hcy0zy3e1yaHHcyfJvIG8LC41eumC9VMfELIYn9NiYZgpn0uCoUa5d40lUR7fX6JmoO5k32IwNUziGlM9htdBDkJei1iHui1iHk8FB8vLy+jioEgZwjD8PHxsdjGpzHEPLBCQMwDvRYxD/TaCSKXW//s5q8LQK+dHvwd1kKInGWbcfu5JsvD2AIgHaxALqadzGqOiYG5VqXuhRq5bzXxn+Htyz2Lvwz02iY8ev5Yl8tAIHwezW8TnxyWU2ycnQo3WpVjPN3GQKEsaSr25YxSxjwoFzxX490j5Zw1VX8gtI5sDOGyMi3otXo0baPj9K8iGrBC0JH4djhv/RqDKf2rvwH02jbyR28ueBIau7/3x4Neq8Ajxw7nWpcdqX8V0YBe24BHz2EK9c1d/XLKCo7xvEyW9n6V9zzju9ucZdUsxTs0K1jLs+u5rWAtE/BmxrxT8yEquObrXiR+s/BIfLKZ9Tk+0gPm2lGYVBuzeWCuvRs8curXBJRhoh0Oei1iHlghIObxH92JftzYW4SHAAAAAElFTkSuQmCC\"></div>"
      ]
     },
     "execution_count": 20,
     "metadata": {
      "text/html": []
     },
     "output_type": "execute_result"
    }
   ],
   "source": [
    "Integrate[Sin[omega (t-s)] Sin[-omega s] / omega, {s, 0, t}]"
   ]
  },
  {
   "cell_type": "markdown",
   "metadata": {},
   "source": [
    "### 非斉次な波動方程式 (より高級な話題)\n",
    "\n",
    "この節の内容は先走った内容になっているので, 初めて読む読者は飛ばしてよい. 後で必要になってから戻って来ても遅くない.  しかし, 筆者的には実用的な内容を含んでいるので計算を追ってみて欲しいと思う.\n",
    "\n",
    "#### 解の表示\n",
    "\n",
    "$u=u(t,x)$ に関する次の方程式を非斉次な波動方程式の初期値問題と呼ぶ:\n",
    "\n",
    "$$\n",
    "u_{tt}(t,x) = u_{xx}(t,x) + f(t,x), \\quad u(0,x)=a(x), \\quad u_t(0,x)=b(x).\n",
    "$$\n",
    "\n",
    "これの解は次のように書ける:\n",
    "\n",
    "$$\n",
    "u(t,x) = \\frac{a(x+t)+a(x-t)}{2} + \n",
    "\\frac{1}{2}\\int_{x-t}^{x+t} b(y)\\,dy +\n",
    "\\frac{1}{2}\\int_0^t ds\\,\\int_{x-(t-s)}^{x+(t-s)} f(s,y)\\,dy.\n",
    "\\tag{$*$}\n",
    "$$\n",
    "\n",
    "これが実際に上の条件を満たしていることは直接的に確認できる:\n",
    "\n",
    "$$\n",
    "\\begin{aligned}\n",
    "u(0,x) &= a(x),\n",
    "\\\\\n",
    "u_t(t,x) &= \\frac{a'(x+t)-a'(x-t)}{2} +\n",
    "\\frac{b(x+t)+b(x-t)}{2} \n",
    "\\\\ &+ \n",
    "\\int_0^t\\frac{f(s,x+(t-s))+f(s,x-(t-s))}{2}\\,ds,\n",
    "\\\\\n",
    "u_t(0,x) &= b(x),\n",
    "\\\\\n",
    "u_{tt}(t,x) &= \\frac{a''(x+t)+a''(x-t)}{2} +\n",
    "\\frac{b'(x+t)-b'(x-t)}{2} \n",
    "\\\\ &+ \n",
    "\\int_0^t\\frac{f'(s,x+(t-s))-f'(s,x-(t-s))}{2}\\,ds + f(t,x),\n",
    "\\\\\n",
    "u_x(t,x) &= \\frac{a'(x+t)+a'(x-t)}{2} +\n",
    "\\frac{b(x+t)-b(x-t)}{2} \n",
    "\\\\ &+ \n",
    "\\int_0^t\\frac{f(s,x+(t-s))-f(s,x-(t-s))}{2}\\,ds,\n",
    "\\\\\n",
    "u_{xx}(t,x) &= \\frac{a''(x+t)+a''(x-t)}{2} +\n",
    "\\frac{b'(x+t)-b'(x-t)}{2} \n",
    "\\\\ &+ \n",
    "\\int_0^t\\frac{f'(s,x+(t-s))-f'(s,x-(t-s))}{2}\\,ds.\n",
    "\\end{aligned}\n",
    "$$\n",
    "\n",
    "ゆえに $u_{tt}(t,x) = u_{xx}(t,x) + f(t,x)$."
   ]
  },
  {
   "cell_type": "markdown",
   "metadata": {},
   "source": [
    "それでは天下りに与えた解の表示($*$)はどのようにして発見できるであろうか?\n",
    "\n",
    "非斉次な波動方程式を $x$ についてFourier変換すれば前節の非斉次な調和振動子に帰着し, 逆Fourier変換でもとに戻せば解の表示($*$)が得られる. 以下の節では実際にそれを実行してみよう."
   ]
  },
  {
   "cell_type": "code",
   "execution_count": 21,
   "metadata": {},
   "outputs": [
    {
     "data": {
      "text/html": [
       "<style>\n",
       "\t\t\t\t\t\t\t\t\t\t\t.grid-container {\n",
       "\t\t\t\t\t\t\t\t\t\t\t\tdisplay: inline-grid;\n",
       "\t\t\t\t\t\t\t\t\t\t\t\tgrid-template-columns: auto auto;\n",
       "\t\t\t\t\t\t\t\t\t\t\t}\n",
       "\t\t\t\t\t\t\t\t\t\t</style>\n",
       "\n",
       "\t\t\t\t\t\t\t\t\t\t<div><div class=\"grid-container\"><div class=\"grid-item\">\n",
       "\t\t\t\t\t\t\t\t\t\t\t\t\t<div class=\"prompt output_prompt\" style=\"text-align:left;padding:0em;padding-right:20px;line-height:20px;\">\n",
       "\t\t\t\t\t\t\t\t\t\t\t\t\t\tOut[21]:\n",
       "\t\t\t\t\t\t\t\t\t\t\t\t\t</div>\n",
       "\t\t\t\t\t\t\t\t\t\t\t\t</div>\n",
       "\t\t\t\t\t\t\t\t\t\t\t\t<div class=\"grid-item\"><img alt=\"Output\" src=\"data:image/png;base64,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\"></div><div class=\"grid-item\">\n",
       "\t\t\t\t\t\t\t\t\t\t\t\t\t<div class=\"prompt output_prompt\" style=\"text-align:left;padding:0em;padding-right:20px;line-height:20px;\">\n",
       "\t\t\t\t\t\t\t\t\t\t\t\t\t\tOut[22]:\n",
       "\t\t\t\t\t\t\t\t\t\t\t\t\t</div>\n",
       "\t\t\t\t\t\t\t\t\t\t\t\t</div>\n",
       "\t\t\t\t\t\t\t\t\t\t\t\t<div class=\"grid-item\"><img alt=\"Output\" src=\"data:image/png;base64,iVBORw0KGgoAAAANSUhEUgAAAB4AAAAPCAIAAAB82OjLAAAAhXpUWHRSYXcgcHJvZmlsZSB0eXBlIGV4aWYAAHjaVYvBDcMwDAP/mqIjyLJM2uMYiQNkg45fuu0n9yApgbT1vi97felp2dgxABc5csRU6P6juNciDXn+X9MfZGWgoRhTluEkhnJXkqKFN+LCAahYcIbnIV8gNQN3o86928QyPusLVffpbh/5eCey76LuBgAAAAlwSFlzAAALEwAACxMBAJqcGAAAADx0RVh0U29mdHdhcmUAQ3JlYXRlZCB3aXRoIHRoZSBXb2xmcmFtIExhbmd1YWdlIDogd3d3LndvbGZyYW0uY29tXKKmhQAAACF0RVh0Q3JlYXRpb24gVGltZQAyMDE5OjA1OjI4IDE2OjIwOjEyn8UDUAAAAMlJREFUOI3dlL0RAiEQhR/U4jWBFUgBlgCh9mGyhoaXXmS0VHBWQCT2gsH9Mjpw4wyJL1vmze7HmwURY0QdyUp9/7a1s0IIsb++fvDFvJi54FibicJSyXniIOvKcJPH2fx9krGBFEyC+UnNBjAcIxuoNeRX6gW7OT8KmQKHWyCvhdDg/rTLGCXgrPbjtECq2BoAoFTZKPF6+qlwlw3Uzjbdse1b8rqwOGN6AwuRyWfNBnPCgRTSuNOsKy9fVne9/cnobn0kYrWf7w2Fc3aD6lGC3wAAAABJRU5ErkJggg==\"></div><div class=\"grid-item\">\n",
       "\t\t\t\t\t\t\t\t\t\t\t\t\t<div class=\"prompt output_prompt\" style=\"text-align:left;padding:0em;padding-right:20px;line-height:20px;\">\n",
       "\t\t\t\t\t\t\t\t\t\t\t\t\t\tOut[23]:\n",
       "\t\t\t\t\t\t\t\t\t\t\t\t\t</div>\n",
       "\t\t\t\t\t\t\t\t\t\t\t\t</div>\n",
       "\t\t\t\t\t\t\t\t\t\t\t\t<div class=\"grid-item\"><img alt=\"Output\" src=\"data:image/png;base64,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\"></div><div class=\"grid-item\">\n",
       "\t\t\t\t\t\t\t\t\t\t\t\t\t<div class=\"prompt output_prompt\" style=\"text-align:left;padding:0em;padding-right:20px;line-height:20px;\">\n",
       "\t\t\t\t\t\t\t\t\t\t\t\t\t\tOut[24]:\n",
       "\t\t\t\t\t\t\t\t\t\t\t\t\t</div>\n",
       "\t\t\t\t\t\t\t\t\t\t\t\t</div>\n",
       "\t\t\t\t\t\t\t\t\t\t\t\t<div class=\"grid-item\"><img alt=\"Output\" src=\"data:image/png;base64,iVBORw0KGgoAAAANSUhEUgAAAB4AAAAPCAIAAAB82OjLAAAAhXpUWHRSYXcgcHJvZmlsZSB0eXBlIGV4aWYAAHjaVYvBDcMwDAP/mqIjyLJM2uMYiQNkg45fuu0n9yApgbT1vi97felp2dgxABc5csRU6P6juNciDXn+X9MfZGWgoRhTluEkhnJXkqKFN+LCAahYcIbnIV8gNQN3o86928QyPusLVffpbh/5eCey76LuBgAAAAlwSFlzAAALEwAACxMBAJqcGAAAADx0RVh0U29mdHdhcmUAQ3JlYXRlZCB3aXRoIHRoZSBXb2xmcmFtIExhbmd1YWdlIDogd3d3LndvbGZyYW0uY29tXKKmhQAAACF0RVh0Q3JlYXRpb24gVGltZQAyMDE5OjA1OjI4IDE2OjIwOjEyn8UDUAAAANtJREFUOI21lD0SwiAQhXc9S7wEniDYWOUIUOo9bLBMmTaV1XKCeALHBu/yLGLMjw6oM7xy5+OxvAUYAOXRKpNvdmtv2fo81lF5y8y8Od1/55KB7ARAty8SWFkDkGpaGqz7XZP9ecv8is/bOA+IISIjABCcIuUCRokI5hLT02IWKCBuWui7NlKXRETFtlKXW0gcPbirZtYk8Zz+vHxKqSQzt/bHw8XsyugKb9dt1XSNu+rEYJ5ZD90s0ltmLWZkglOLBfOsCXG9jzEGfxhjRGf9/ZPR7bTEyPbzPQAZBh3BWfzimwAAAABJRU5ErkJggg==\"></div><div class=\"grid-item\">\n",
       "\t\t\t\t\t\t\t\t\t\t\t\t\t<div class=\"prompt output_prompt\" style=\"text-align:left;padding:0em;padding-right:20px;line-height:20px;\">\n",
       "\t\t\t\t\t\t\t\t\t\t\t\t\t\tOut[25]:\n",
       "\t\t\t\t\t\t\t\t\t\t\t\t\t</div>\n",
       "\t\t\t\t\t\t\t\t\t\t\t\t</div>\n",
       "\t\t\t\t\t\t\t\t\t\t\t\t<div class=\"grid-item\"><img alt=\"Output\" src=\"data:image/png;base64,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\"></div><div class=\"grid-item\">\n",
       "\t\t\t\t\t\t\t\t\t\t\t\t\t<div class=\"prompt output_prompt\" style=\"text-align:left;padding:0em;padding-right:20px;line-height:20px;\">\n",
       "\t\t\t\t\t\t\t\t\t\t\t\t\t\tOut[26]:\n",
       "\t\t\t\t\t\t\t\t\t\t\t\t\t</div>\n",
       "\t\t\t\t\t\t\t\t\t\t\t\t</div>\n",
       "\t\t\t\t\t\t\t\t\t\t\t\t<div class=\"grid-item\"><img alt=\"Output\" src=\"data:image/png;base64,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\"></div><div class=\"grid-item\">\n",
       "\t\t\t\t\t\t\t\t\t\t\t\t\t<div class=\"prompt output_prompt\" style=\"text-align:left;padding:0em;padding-right:20px;line-height:20px;\">\n",
       "\t\t\t\t\t\t\t\t\t\t\t\t\t\tOut[27]:\n",
       "\t\t\t\t\t\t\t\t\t\t\t\t\t</div>\n",
       "\t\t\t\t\t\t\t\t\t\t\t\t</div>\n",
       "\t\t\t\t\t\t\t\t\t\t\t\t<div class=\"grid-item\"><img alt=\"Output\" src=\"data:image/png;base64,iVBORw0KGgoAAAANSUhEUgAAAAcAAAAPCAIAAACnY0LpAAAAhXpUWHRSYXcgcHJvZmlsZSB0eXBlIGV4aWYAAHjaVYvBDcMwDAP/mqIjyLJM2uMYiQNkg45fuu0n9yApgbT1vi97felp2dgxABc5csRU6P6juNciDXn+X9MfZGWgoRhTluEkhnJXkqKFN+LCAahYcIbnIV8gNQN3o86928QyPusLVffpbh/5eCey76LuBgAAAAlwSFlzAAALEwAACxMBAJqcGAAAADx0RVh0U29mdHdhcmUAQ3JlYXRlZCB3aXRoIHRoZSBXb2xmcmFtIExhbmd1YWdlIDogd3d3LndvbGZyYW0uY29tXKKmhQAAACF0RVh0Q3JlYXRpb24gVGltZQAyMDE5OjA1OjI4IDE2OjIwOjEyn8UDUAAAAHpJREFUGJWlkLENg0AQBOeoxRC5AujABVDCEdLK04YLOCpwB0TwvayDN0YWGd5sR7obaU0Sp1RndIXmqbOSbsoASOHgIUnaUouHhMJp0/aF4KEqrwv35gbzYPWzT86y5o9tHuxB6DU2pSscfn54qNh2uIs5LBw39vcOb/BnVrg4y0B+AAAAAElFTkSuQmCC\"></div></div></div>"
      ]
     },
     "execution_count": 21,
     "metadata": {
      "text/html": []
     },
     "output_type": "execute_result"
    }
   ],
   "source": [
    "u = (a[x+t]+a[x-t])/2 + (1/2) Integrate[b[y],{y,x-t,x+t}] + (1/2) Integrate[Integrate[f[s,y],{y,x-(t-s),x+(t-s)}],{s,0,t}]\n",
    "u/.t->0\n",
    "D[u,t]\n",
    "D[u,t]/.t->0\n",
    "A = D[u,t,t]\n",
    "B = D[u,x,x]\n",
    "Simplify[A - B - f[t,x]]"
   ]
  },
  {
   "cell_type": "markdown",
   "metadata": {},
   "source": [
    "#### Fourier変換に関する公式\n",
    "\n",
    "十分に広いクラスの函数 $f(x)$ について\n",
    "\n",
    "$$\n",
    "\\hat{f}(\\omega) = \\int_{-\\infty}^\\infty e^{-i\\omega x}f(x)\\,dx\n",
    "$$\n",
    "\n",
    "でFourier変換 $\\hat{f}(\\omega)$ を定義すると, 逆変換によって $\\hat{f}(\\omega)$ から $f(x)$ が得られる:\n",
    "\n",
    "$$\n",
    "f(x) = \\frac{1}{2\\pi}\\int_{-\\infty}^\\infty e^{i\\omega x}\\hat{f}(\\omega)\\,d\\omega.\n",
    "$$\n",
    "\n",
    "部分積分によって, \n",
    "\n",
    "$$\n",
    "\\hat{f'}(\\omega) = \n",
    "\\int_{-\\infty}^\\infty e^{-i\\omega x}f'(x)\\,dx = -\n",
    "\\int_{-\\infty}^\\infty (e^{-i\\omega x})' f(x)\\,dx = i\\omega\\hat{f}(\\omega).\n",
    "$$\n",
    "\n",
    "ゆえに\n",
    "\n",
    "$$\n",
    "\\hat{f''}(\\omega) = -\\omega^2\\hat{f}(\\omega).\n",
    "\\tag{1}\n",
    "$$\n",
    "\n",
    "簡単のため $t>0$ とする.  $f(x)$ が\n",
    "\n",
    "$$\n",
    "f(x) = \\frac{1}{2}\\chi_{[-t,t]}(x) =\n",
    "\\begin{cases}\n",
    "1 & (-t\\leqq x\\leqq t) \\\\\n",
    "0 & (\\text{otherwise})\n",
    "\\end{cases}\n",
    "$$\n",
    "\n",
    "のとき, \n",
    "\n",
    "$$\n",
    "\\hat{f}(\\omega) = \\frac{1}{2}\\int_{-t}^t e^{-i\\omega x}\\,dx = \\frac{\\sin(\\omega t)}{\\omega}\n",
    "$$\n",
    "\n",
    "なので\n",
    "\n",
    "$$\n",
    "\\frac{1}{2}\\chi_{[-t,t]}(x) =\n",
    "\\frac{1}{2\\pi}\\int_{-\\infty}^\\infty e^{i\\omega x}\\frac{\\sin(\\omega t)}{\\omega}\\,d\\omega.\n",
    "\\tag{2}\n",
    "$$\n",
    "\n",
    "これの両辺の $x$ に $x-y$ を代入し, $f(y)$ をかけて $y$ について積分すると, \n",
    "\n",
    "$$\n",
    "\\frac{1}{2}\\int_{x-t}^{x+t} f(y)\\,dy =\n",
    "\\frac{1}{2\\pi}\\int_{-\\infty}^\\infty e^{i\\omega x}\\frac{\\sin(\\omega t)}{\\omega}\\hat{f}(\\omega)\\,d\\omega.\n",
    "\\tag{3}\n",
    "$$\n",
    "\n",
    "これの両辺を $t$ で微分すると\n",
    "\n",
    "$$\n",
    "\\frac{f(x+t)+f(x-t)}{2} = \n",
    "\\frac{1}{2\\pi}\\int_{-\\infty}^\\infty e^{i\\omega x}\\cos(\\omega t)\\hat{f}(\\omega)\\,d\\omega.\n",
    "$$"
   ]
  },
  {
   "cell_type": "code",
   "execution_count": 28,
   "metadata": {},
   "outputs": [
    {
     "data": {
      "text/html": [
       "<div><img alt=\"Output\" src=\"data:image/png;base64,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\"></div>"
      ]
     },
     "execution_count": 29,
     "metadata": {
      "text/html": []
     },
     "output_type": "execute_result"
    }
   ],
   "source": [
    "Chi[t_,x_] := UnitBox[x/(2t)]\n",
    "Plot[Chi[-3,x]/2, {x,-5,5}]"
   ]
  },
  {
   "cell_type": "code",
   "execution_count": 30,
   "metadata": {},
   "outputs": [
    {
     "data": {
      "text/html": [
       "<div><img alt=\"Output\" src=\"data:image/png;base64,iVBORw0KGgoAAAANSUhEUgAAAIgAAAAPCAIAAACwbRBlAAAAhXpUWHRSYXcgcHJvZmlsZSB0eXBlIGV4aWYAAHjaVYvBDcMwDAP/mqIjyLJM2uMYiQNkg45fuu0n9yApgbT1vi97felp2dgxABc5csRU6P6juNciDXn+X9MfZGWgoRhTluEkhnJXkqKFN+LCAahYcIbnIV8gNQN3o86928QyPusLVffpbh/5eCey76LuBgAAAAlwSFlzAAALEwAACxMBAJqcGAAAADx0RVh0U29mdHdhcmUAQ3JlYXRlZCB3aXRoIHRoZSBXb2xmcmFtIExhbmd1YWdlIDogd3d3LndvbGZyYW0uY29tXKKmhQAAACF0RVh0Q3JlYXRpb24gVGltZQAyMDE5OjA1OjI4IDE2OjIwOjEz6MIzxgAAArVJREFUWIXtVj124yAQHnwWaQu/nACdQHbjSkdApd1sl9JdGiijbltVagwniE6gl8LiLrMFSAYZWbJjZ/3e5qt4MMx8zC8EEeEHz4fFvybwgzB+AvOkGAuMykmuvpXJFLRIyLNxeiC6wKicEJIIfbsmlZOhCi2Sc1cG5DxokZAO943DlOVvwVyf2MCoquGSQ3n4AumNRMSPbTQhlr4joszCh1okcZm1aPGeno6i7Ye/8TCG34+AT0xgVNVk63SdDSJjAumG0knny5mnRUJIvKuhWM0Rn0BHxM01lZNcdHRc7b3wdMU5zzGiWiSJEKZ7iNxRcSY5sNRzcPcG5q/zCSKiZJS3iNhyahaIkgEAk2h2wW5LZvcCkPLspOV0RF5y3ob2zR2AzuAFbQ5DybqVu5xi6LyrX7ecAjCJkgFQ3nYOcd8tmb3VL7zl1Ovn+mQBoMW+ePkVAUDk1QyTpnFE64zWny0AQLykxeqxIzjafiBim5XxdJl1DOMltTuqKij/Pavf6UNZs1fb16LtK7NvBLZJAQBotu56nj42fZaTVXFZb18y8a6ew2MEC9CHsi+ueFfXl+aM8RpuqvtP5oAhyerd2zN8w9rP2isIM6bSDat3sQlWw/+YEKt81ThVeDsW+lDWTmm15z8A9barbRZZpO/YclpUU06Lfr1Ac7x1tuhjA3QZX3UnXtK5wYzWGS32tiS12BfjttJNIEW02Dd9tLofhT423bl6C1bMbJ8MW55t0pKdRPps8XJg2CgDM8a94ffgsRnjmj2ZGOYek+j1fa9vu8I+x3OGJ3OWXqfJDo3T0HW1enN4aKvfpJyHJ/I8n0DIPTchGJhR4dHh/0BcxXBam/fNCI7/KxUOh/+9UK1m/YpVTghZlfezOx8zGd4AVRVgPlC3XQ/45EtB/q/hNdivlssZ/gL/4XzwGHgkqAAAAABJRU5ErkJggg==\"></div>"
      ]
     },
     "execution_count": 30,
     "metadata": {
      "text/html": []
     },
     "output_type": "execute_result"
    }
   ],
   "source": [
    "Sqrt[2 Pi] FourierTransform[Chi[t,x]/2, x, omega]"
   ]
  },
  {
   "cell_type": "code",
   "execution_count": 31,
   "metadata": {},
   "outputs": [
    {
     "data": {
      "text/html": [
       "<style>\n",
       "\t\t\t\t\t\t\t\t\t\t\t.grid-container {\n",
       "\t\t\t\t\t\t\t\t\t\t\t\tdisplay: inline-grid;\n",
       "\t\t\t\t\t\t\t\t\t\t\t\tgrid-template-columns: auto auto;\n",
       "\t\t\t\t\t\t\t\t\t\t\t}\n",
       "\t\t\t\t\t\t\t\t\t\t</style>\n",
       "\n",
       "\t\t\t\t\t\t\t\t\t\t<div><div class=\"grid-container\"><div class=\"grid-item\">\n",
       "\t\t\t\t\t\t\t\t\t\t\t\t\t<div class=\"prompt output_prompt\" style=\"text-align:left;padding:0em;padding-right:20px;line-height:20px;\">\n",
       "\t\t\t\t\t\t\t\t\t\t\t\t\t\tOut[31]:\n",
       "\t\t\t\t\t\t\t\t\t\t\t\t\t</div>\n",
       "\t\t\t\t\t\t\t\t\t\t\t\t</div>\n",
       "\t\t\t\t\t\t\t\t\t\t\t\t<div class=\"grid-item\"><img alt=\"Output\" src=\"data:image/png;base64,iVBORw0KGgoAAAANSUhEUgAAAOIAAAAhCAIAAABLDuCaAAAAhXpUWHRSYXcgcHJvZmlsZSB0eXBlIGV4aWYAAHjaVYvBDcMwDAP/mqIjyLJM2uMYiQNkg45fuu0n9yApgbT1vi97felp2dgxABc5csRU6P6juNciDXn+X9MfZGWgoRhTluEkhnJXkqKFN+LCAahYcIbnIV8gNQN3o86928QyPusLVffpbh/5eCey76LuBgAAAAlwSFlzAAALEwAACxMBAJqcGAAAADx0RVh0U29mdHdhcmUAQ3JlYXRlZCB3aXRoIHRoZSBXb2xmcmFtIExhbmd1YWdlIDogd3d3LndvbGZyYW0uY29tXKKmhQAAACF0RVh0Q3JlYXRpb24gVGltZQAyMDE5OjA1OjI4IDE2OjIwOjEz6MIzxgAAA+lJREFUeJztmz+WqjAUxm/emQXMIsDCwwpwBWBjZfs6UkJj94op7F4TSu1sqWhMViAr4LxC2EteASgoyP9RnPtrxgmQfLl+yU08hEgpAUFem18PrwpKqPgmJf2I3QWZitZxeOsIFG0qKCFk4cbd6xOU3FYRu4v78JXcV11j7unYXZCMYb+TpsqHb6Yd7xqB2F1Ut1SwqfBDxhl4xx4+XXEp5clWam4zdlJKvq6tLnb9ebQzsn8WqreOZEpWDACg2KdiQXsaKu9J046X88YRUOzTyq8yat6mwg/XS2O5vvFp4v68/3MD+vG0ELsLQlQngL3Z5PaSCo6wqg1bJrA47i+l14YFJdTNtI+rXNCcHkHbPi/cdrc/MQJVUjtEwNjMzxU+lRe4pbNIShkxPfkgJbcAwOIyKYW0mFtpWQmc312JmF5xP2csKivPPcr4TYEOAJmQB61wC3KduArPusMtuBHVSnkTsiZyUi6X6jpefcPLReBBX9pH4O4LT7nMprG73WszBQCUwnxq8SSRKMu1HvyLAADUub43v2W5HgGohQLFPkkpo7WndlzgZd1R53o/acWpqkyLsYtYaBJiAh8wkb5OBOppHwFlBueyLmU2jY/eZXpXnSB4tD5NIiVX/vCr+GYo9klKbgXO38rGjZUVOCohhBAzZIfh11vGrjDcq74GXW9nhtT9ppOIr/LhK0SgodS2ESgltWl89ILc5B7d76PEXyewVvkVurGTEdP3fp1PlZkGYekYqUUFiCouxecQ9LladdXdhpes0nku66EcAARVvfXhdGCh2XzWS92f5cRH0p8dgXqp7SMQn2FWJjWxaXz0Ch5UZlo2ULMFtBmydMed20CpjsbrN5fGhkE6rltmqZsckE+0qqOlmSTRc13sUwGg2H+0tMn7rUVzuisXNJvDFPvAwFF7/cyXr/atI3C3ysuoWP12pWQZ/uDmup2ElNzqtIcp7g9KlvAlj7RR3pMGHe/dxAQjULWBym2hhsI3Gw08QQkhpldbnbGZb/tORMLfg1aaSwo0VN6Tph0fttEpREDQ37CsSs0jj5pnkf5uk1A/kbwhbxUBIvHVE+TlGTzpI8jwoE2RCYA2RSbAR/Ln6+vrqTIQ5BbHcT4/P5PPuIVCJgAmfWQCoE2RCYA2RSYA2hSZAGjTviSvJ5W9gDTGebcfCtq0H4KqnmaN/h78Twdt2gdBzZAdNvO7C73PKiIF0KbdSUxa+mK8Yp+K591GP1b83nw8W8BkEdQELm0FAOfJ0cHZtBuxu93njjjC3sTEPiJo026kp2ullNfkfpvY+534Q3KgTUek+3k3pAi+eoJMAJxNkQnwH9jLrXXFERCpAAAAAElFTkSuQmCC\"></div><div class=\"grid-item\">\n",
       "\t\t\t\t\t\t\t\t\t\t\t\t\t<div class=\"prompt output_prompt\" style=\"text-align:left;padding:0em;padding-right:20px;line-height:20px;\">\n",
       "\t\t\t\t\t\t\t\t\t\t\t\t\t\tOut[32]:\n",
       "\t\t\t\t\t\t\t\t\t\t\t\t\t</div>\n",
       "\t\t\t\t\t\t\t\t\t\t\t\t</div>\n",
       "\t\t\t\t\t\t\t\t\t\t\t\t<div class=\"grid-item\"><img alt=\"Output\" src=\"data:image/png;base64,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\"></div></div></div>"
      ]
     },
     "execution_count": 31,
     "metadata": {
      "text/html": []
     },
     "output_type": "execute_result"
    }
   ],
   "source": [
    "F = 1/Sqrt[2 Pi] InverseFourierTransform[Abs[t] Sinc[omega t], omega, x]\n",
    "Plot[F/.t->-3, {x,-5,5}]"
   ]
  },
  {
   "cell_type": "markdown",
   "metadata": {},
   "source": [
    "#### 非斉次な波動方程式のFourier変換による解法\n",
    "\n",
    "非斉次な波動方程式の初期値問題\n",
    "\n",
    "$$\n",
    "u_{tt}(t,x) = u_{xx}(t,x) + f(t,x), \\quad u(0,x)=a(x), \\quad u_t(0,x)=b(x)\n",
    "$$\n",
    "\n",
    "は(1)より\n",
    "\n",
    "$$\n",
    "\\hat{u}_{tt}(t,\\omega) = -\\omega^2\\hat{u}_{xx}(t,\\omega) + \\hat{f}(t,\\omega),\n",
    "\\quad \\hat{u}(t,\\omega)=\\hat{a}(\\omega), \\quad \\hat{u}_t(0,x)=\\hat{b}(\\omega).\n",
    "$$\n",
    "\n",
    "と書き直される. これは非斉次な調和振動子である. ゆえに次のように解ける:\n",
    "\n",
    "$$\n",
    "\\hat{u}(t,\\omega) = \n",
    "\\hat{a}(\\omega)\\cos(\\omega t) +\n",
    "\\hat{b}(\\omega)\\frac{\\sin(\\omega t)}{\\omega} +\n",
    "\\int_0^t \\frac{\\sin(\\omega(t-s))}{\\omega}\\hat{f}(s,\\omega)\\,ds.\n",
    "$$\n",
    "\n",
    "この等式の両辺に $e^{i\\omega x}$ をかけて $\\omega$ について積分して $2\\pi$ で割ると, (2),(3)より,\n",
    "\n",
    "$$\n",
    "u(t,x) =\n",
    "\\frac{a(x+t)+a(x-t)}{2} +\n",
    "\\frac{1}{2}\\int_{x-t}^{x+t} b(y)\\, dy +\n",
    "\\frac{1}{2}\\int_0^t ds\\int_{x-(t-s)}^{x+(t-s)} f(s,y)\\,dy.\n",
    "$$\n",
    "\n",
    "これが欲しい解の表示であった. \n",
    "\n",
    "特に斉次の場合の通常の波動方程式の初期値問題の解は\n",
    "\n",
    "$$\n",
    "u(t,x) =\n",
    "\\frac{a(x+t)+a(x-t)}{2} +\n",
    "\\frac{1}{2}\\int_{x-t}^{x+t} b(y)\\, dy\n",
    "$$\n",
    "\n",
    "と書ける. これは $B(x)=\\int b(x)\\,dx$, $f(x)=(a(x)+B(x))/2$, $g(x)=(a(x)-B(x))/2$ とおくと, \n",
    "\n",
    "$$\n",
    "u(t,x) = f(x+t) + g(x-t)\n",
    "$$\n",
    "\n",
    "と書き直される. これが $u_{tt}=u_{xx}$ を満たしていることを確認することは易しい."
   ]
  },
  {
   "cell_type": "code",
   "execution_count": null,
   "metadata": {},
   "outputs": [],
   "source": []
  }
 ],
 "metadata": {
  "@webio": {
   "lastCommId": null,
   "lastKernelId": null
  },
  "_draft": {
   "nbviewer_url": "https://gist.github.com/cc4bb2fbd82f65f3609b5417f6efbdac"
  },
  "gist": {
   "data": {
    "description": "08-1 Linear inhomogeneous ODEs with constant coefficients.ipynb",
    "public": true
   },
   "id": "cc4bb2fbd82f65f3609b5417f6efbdac"
  },
  "kernelspec": {
   "display_name": "Wolfram Language 12",
   "language": "Wolfram Language",
   "name": "wolframlanguage12"
  },
  "language_info": {
   "codemirror_mode": "python",
   "file_extension": ".m",
   "mimetype": "application/vnd.wolfram.m",
   "name": "Wolfram Language",
   "pygments_lexer": "python",
   "version": "12.0"
  },
  "toc": {
   "nav_menu": {},
   "number_sections": true,
   "sideBar": true,
   "skip_h1_title": true,
   "title_cell": "目次",
   "title_sidebar": "目次",
   "toc_cell": true,
   "toc_position": {},
   "toc_section_display": true,
   "toc_window_display": false
  }
 },
 "nbformat": 4,
 "nbformat_minor": 2
}
