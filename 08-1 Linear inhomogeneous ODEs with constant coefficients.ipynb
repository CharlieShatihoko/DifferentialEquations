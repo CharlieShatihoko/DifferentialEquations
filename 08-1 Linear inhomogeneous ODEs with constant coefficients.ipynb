{
 "cells": [
  {
   "cell_type": "markdown",
   "metadata": {},
   "source": [
    "# 定数係数線形常微分方程式(非斉次)\n",
    "\n",
    "* Author: 黒木玄\n",
    "* Date: 2019-04-23～2019-05-06\n",
    "* Repository: https://github.com/genkuroki/DifferentialEquations\n",
    "$\n",
    "\\newcommand\\ds{\\displaystyle}\n",
    "\\newcommand\\Z{{\\mathbb Z}}\n",
    "\\newcommand\\R{{\\mathbb R}}\n",
    "\\newcommand\\C{{\\mathbb C}}\n",
    "\\newcommand\\eps{\\varepsilon}\n",
    "\\newcommand\\QED{\\text{□}}\n",
    "\\newcommand\\d{\\partial}\n",
    "\\newcommand\\real{\\operatorname{Re}}\n",
    "\\newcommand\\imag{\\operatorname{Im}}\n",
    "\\newcommand\\tr{\\operatorname{tr}}\n",
    "$\n",
    "\n",
    "このファイルは [nbviewer](https://nbviewer.jupyter.org/github/genkuroki/DifferentialEquations/blob/master/08-1%20Linear%20inhomogeneous%20ODEs%20with%20constant%20coefficients.ipynb) でも閲覧できる.\n",
    "\n",
    "[Julia言語](https://julialang.org/) と [Jupyter環境](https://jupyter.org/) の簡単な解説については次を参照せよ:\n",
    "\n",
    "* [JuliaとJupyterのすすめ](https://nbviewer.jupyter.org/github/genkuroki/msfd28/blob/master/msfd28genkuroki.ipynb?flush_cached=true)\n",
    "\n",
    "[Julia言語](https://julialang.org/) 環境の整備の仕方については次を参照せよ:\n",
    "\n",
    "* [Julia v1.1.0 の Windows 8.1 へのインストール](https://nbviewer.jupyter.org/github/genkuroki/msfd28/blob/master/install.ipynb)\n",
    "\n",
    "[Wolfram言語](http://www.wolfram.com/language/fast-introduction-for-programmers/ja/) 環境の整備の仕方については次を参照せよ:\n",
    "\n",
    "* [Free Wolfram EngineをJupyterで使う方法](https://nbviewer.jupyter.org/github/genkuroki/msfd28/blob/master/Free%20Wolfram%20Engine.ipynb)"
   ]
  },
  {
   "cell_type": "markdown",
   "metadata": {
    "toc": true
   },
   "source": [
    "<h1>目次<span class=\"tocSkip\"></span></h1>\n",
    "<div class=\"toc\"><ul class=\"toc-item\"><li><span><a href=\"#非斉次の定数係数線形常微分方程式\" data-toc-modified-id=\"非斉次の定数係数線形常微分方程式-1\"><span class=\"toc-item-num\">1&nbsp;&nbsp;</span>非斉次の定数係数線形常微分方程式</a></span><ul class=\"toc-item\"><li><span><a href=\"#斉次な場合の一般解\" data-toc-modified-id=\"斉次な場合の一般解-1.1\"><span class=\"toc-item-num\">1.1&nbsp;&nbsp;</span>斉次な場合の一般解</a></span><ul class=\"toc-item\"><li><span><a href=\"#例:-斉次調和振動子\" data-toc-modified-id=\"例:-斉次調和振動子-1.1.1\"><span class=\"toc-item-num\">1.1.1&nbsp;&nbsp;</span>例: 斉次調和振動子</a></span></li></ul></li><li><span><a href=\"#非斉次な場合の一般解\" data-toc-modified-id=\"非斉次な場合の一般解-1.2\"><span class=\"toc-item-num\">1.2&nbsp;&nbsp;</span>非斉次な場合の一般解</a></span><ul class=\"toc-item\"><li><span><a href=\"#非斉次な調和振動子\" data-toc-modified-id=\"非斉次な調和振動子-1.2.1\"><span class=\"toc-item-num\">1.2.1&nbsp;&nbsp;</span>非斉次な調和振動子</a></span></li><li><span><a href=\"#共振\" data-toc-modified-id=\"共振-1.2.2\"><span class=\"toc-item-num\">1.2.2&nbsp;&nbsp;</span>共振</a></span></li></ul></li></ul></li><li><span><a href=\"#非斉次な波動方程式-(より高級な話題)\" data-toc-modified-id=\"非斉次な波動方程式-(より高級な話題)-2\"><span class=\"toc-item-num\">2&nbsp;&nbsp;</span>非斉次な波動方程式 (より高級な話題)</a></span><ul class=\"toc-item\"><li><span><a href=\"#解の表示\" data-toc-modified-id=\"解の表示-2.1\"><span class=\"toc-item-num\">2.1&nbsp;&nbsp;</span>解の表示</a></span></li><li><span><a href=\"#Fourier変換に関する公式\" data-toc-modified-id=\"Fourier変換に関する公式-2.2\"><span class=\"toc-item-num\">2.2&nbsp;&nbsp;</span>Fourier変換に関する公式</a></span></li><li><span><a href=\"#非斉次な波動方程式のFourier変換による解法\" data-toc-modified-id=\"非斉次な波動方程式のFourier変換による解法-2.3\"><span class=\"toc-item-num\">2.3&nbsp;&nbsp;</span>非斉次な波動方程式のFourier変換による解法</a></span></li></ul></li></ul></div>"
   ]
  },
  {
   "cell_type": "markdown",
   "metadata": {},
   "source": [
    "## 非斉次の定数係数線形常微分方程式\n",
    "\n",
    "斉次の定数係数線形常微分方程式とは, 定数 $p_1,p_2,\\ldots,p_n$ に関する\n",
    "\n",
    "$$\n",
    "u^{(n)}(x) + p_{n-1}u^{(n-1)}(x) + \\cdots + p_1 u'(x) + p_0 u(x) = 0\n",
    "\\tag{$*$}\n",
    "$$\n",
    "\n",
    "の形の微分方程式のことである. \n",
    "\n",
    "非斉次の定数係数線形常微分方程式とは, 定数 $p_1,p_2,\\ldots,p_n$ と任意函数 $f(x)$ に関する\n",
    "\n",
    "$$\n",
    "u^{(n)}(x) + p_{n-1}u^{(n-1)}(x) + \\cdots + p_1 u'(x) + p_0 u(x) = f(x)\n",
    "\\tag{$**$}\n",
    "$$\n",
    "\n",
    "の形の微分方程式のことである. 右辺が $0$ ではなく $f(x)$ であることが斉次の場合と異なる. この微分方程式は\n",
    "\n",
    "$$\n",
    "w(x) = \\begin{bmatrix}\n",
    "u_0(x) \\\\ u_1(x) \\\\ \\vdots \\\\ u_{n-2}(x) \\\\ u_{n-1}(x) \\\\\n",
    "\\end{bmatrix} =\n",
    "\\begin{bmatrix}\n",
    "u(x) \\\\ u'(x) \\\\ \\vdots \\\\ u^{(n-2)}(x) \\\\ u^{(n-1)}(x) \\\\\n",
    "\\end{bmatrix}, \\qquad\n",
    "b(x) = \\begin{bmatrix}\n",
    "0 \\\\ 0 \\\\ \\vdots \\\\ 0 \\\\ f(x) \\\\\n",
    "\\end{bmatrix}\n",
    "$$\n",
    "\n",
    "とおけば\n",
    "\n",
    "$$\n",
    "u_0' = u_1,\\; \\ldots,\\; u_{n-2}' = u_{n-1},\\;\n",
    "u_{n-1}' = u^{(n)} = -p_{n-1}u_{n-1}-\\cdots-p_1 u_1 - p_0 u_0 \n",
    "$$\n",
    "\n",
    "なので次のように書き直される:\n",
    "\n",
    "$$\n",
    "\\frac{dw(x)}{dx} = Au(x) + b(x).\n",
    "\\tag{$**'$}\n",
    "$$\n",
    "\n",
    "ここで\n",
    "\n",
    "$$\n",
    "A = \\begin{bmatrix}\n",
    "0   & 1  & & & \\\\\n",
    "    & 0  & \\ddots & & \\\\ \n",
    "    &    & \\ddots & 1 & \\\\\n",
    "-p_0&-p_1& \\cdots & -p_{n-2} & -p_{n-1} \\\\\n",
    "\\end{bmatrix}\n",
    "$$\n",
    "\n",
    "とおいた. \n",
    "\n",
    "斉次な定数係数線形常微分方程式 ($*$) は\n",
    "\n",
    "$$\n",
    "\\frac{dw(x)}{dx} = Au(x).\n",
    "\\tag{$*'$}\n",
    "$$\n",
    "\n",
    "と書き直される.  ゆえに方程式 ($*$) と ($**$) の取り扱いは, ($*'$) や ($**'$) の形の微分方程式の取り扱いに帰着される."
   ]
  },
  {
   "cell_type": "markdown",
   "metadata": {},
   "source": [
    "### 斉次な場合の一般解\n",
    "\n",
    "$A$ は定数を成分とする $n\\times n$ 行列であるとし, $w(x)$ は $x$ の函数を成分とする $n$ 次元縦ベクトルであるとし, $c$ は定数を成分とする $n$ 次元縦ベクトルであるとする.\n",
    "\n",
    "$w(x)$ に関する線形微分方程式の初期値問題\n",
    "\n",
    "$$\n",
    "\\frac{dw(x)}{dx} = Aw(x), \\quad w(0) = c\n",
    "$$\n",
    "\n",
    "の解は次の形に表わされるのであった:\n",
    "\n",
    "$$\n",
    "w(x) = e^{xA}c.\n",
    "$$"
   ]
  },
  {
   "cell_type": "markdown",
   "metadata": {},
   "source": [
    "#### 例: 斉次調和振動子\n",
    "\n",
    "$\\omega \\ne 0$ であるとし, $a,b$ は与えられた定数であるとする.\n",
    "\n",
    "微分方程式の初期値問題\n",
    "\n",
    "$$\n",
    "\\ddot u(t) = -\\omega^2 u(t), \\quad u(0) = a, \\quad \\dot u(0) = b\n",
    "$$\n",
    "\n",
    "は $w(t) = \\begin{bmatrix}u(t) \\\\ \\dot u(t)\\end{bmatrix}$, $c=\\begin{bmatrix} a \\\\ b \\end{bmatrix}$, $A=\\begin{bmatrix}\n",
    "0 & 1 \\\\\n",
    "-\\omega^2 & 0 \\\\\n",
    "\\end{bmatrix}$ とおくと, \n",
    "\n",
    "$$\n",
    "\\frac{dw(t)}{dt}=Aw(t), \\quad w(0) = c\n",
    "$$\n",
    "\n",
    "の形に書き直される. このとき, $2\\times 2$ の単位行列を $E$ と書くと, \n",
    "\n",
    "$$\n",
    "A^{2k} = (-\\omega^2)^k E, \\quad A^{2k+1} = (-\\omega^2)^k A\n",
    "$$\n",
    "\n",
    "が成立するので, \n",
    "\n",
    "$$\n",
    "\\begin{aligned}\n",
    "e^{tA} &=\n",
    "\\sum_{k=0}^\\infty \\frac{t^{2k}}{(2k)!}(-\\omega^2)^k E +\n",
    "\\sum_{k=0}^\\infty \\frac{t^{2k+1}}{(2k)!}(-\\omega^2)^k A \n",
    "\\\\ &=\n",
    "\\begin{bmatrix}\n",
    "\\cos(\\omega t) & \\sin(\\omega t)/\\omega \\\\\n",
    "-\\omega\\sin(\\omega t) & \\cos(\\omega t) \\\\\n",
    "\\end{bmatrix}.\n",
    "\\end{aligned}\n",
    "$$\n",
    "\n",
    "ゆえに, $\\dot w(t)=Aw(t)$, $w(0) = c$ の解は\n",
    "\n",
    "$$\n",
    "\\begin{aligned}\n",
    "w(t) = \\begin{bmatrix}\n",
    "u(t) \\\\ \\dot u(t)\n",
    "\\end{bmatrix} &=\n",
    "\\begin{bmatrix}\n",
    "\\cos(\\omega t) & \\sin(\\omega t)/\\omega \\\\\n",
    "-\\omega\\sin(\\omega t) & \\cos(\\omega t) \\\\\n",
    "\\end{bmatrix}\n",
    "\\begin{bmatrix}\n",
    "a \\\\\n",
    "b \\\\\n",
    "\\end{bmatrix}\n",
    "\\\\ &=\n",
    "\\begin{bmatrix}\n",
    "a\\cos(\\omega t) + b\\sin(\\omega t)/\\omega \\\\\n",
    "-a\\omega\\sin(\\omega t) + b\\cos(\\omega t) \\\\\n",
    "\\end{bmatrix}\n",
    "\\end{aligned}\n",
    "$$\n",
    "\n",
    "と表わされる. 特に\n",
    "\n",
    "$$\n",
    "u(t) = a\\cos(\\omega t) + b\\frac{\\sin(\\omega t)}{\\omega}\n",
    "$$\n",
    "\n",
    "である. $\\QED$"
   ]
  },
  {
   "cell_type": "code",
   "execution_count": 1,
   "metadata": {},
   "outputs": [
    {
     "data": {
      "text/html": [
       "<style>\n",
       "\t\t\t\t\t\t\t\t\t\t\t.grid-container {\n",
       "\t\t\t\t\t\t\t\t\t\t\t\tdisplay: inline-grid;\n",
       "\t\t\t\t\t\t\t\t\t\t\t\tgrid-template-columns: auto auto;\n",
       "\t\t\t\t\t\t\t\t\t\t\t}\n",
       "\t\t\t\t\t\t\t\t\t\t</style>\n",
       "\n",
       "\t\t\t\t\t\t\t\t\t\t<div><div class=\"grid-container\"><div class=\"grid-item\">\n",
       "\t\t\t\t\t\t\t\t\t\t\t\t\t<div class=\"prompt output_prompt\" style=\"text-align:left;padding:0em;padding-right:20px;line-height:20px;\">\n",
       "\t\t\t\t\t\t\t\t\t\t\t\t\t\tOut[1]:\n",
       "\t\t\t\t\t\t\t\t\t\t\t\t\t</div>\n",
       "\t\t\t\t\t\t\t\t\t\t\t\t</div>\n",
       "\t\t\t\t\t\t\t\t\t\t\t\t<div class=\"grid-item\"><img alt=\"Output\" src=\"data:image/png;base64,iVBORw0KGgoAAAANSUhEUgAAAMsAAAAjCAIAAAC1jmmLAAAAhXpUWHRSYXcgcHJvZmlsZSB0eXBlIGV4aWYAAHjaVYvBDcMwDAP/mqIjyLJM2uMYiQNkg45fuu0n9yApgbT1vi97felp2dgxABc5csRU6P6juNciDXn+X9MfZGWgoRhTluEkhnJXkqKFN+LCAahYcIbnIV8gNQN3o86928QyPusLVffpbh/5eCey76LuBgAAAAlwSFlzAAALEwAACxMBAJqcGAAAADx0RVh0U29mdHdhcmUAQ3JlYXRlZCB3aXRoIHRoZSBXb2xmcmFtIExhbmd1YWdlIDogd3d3LndvbGZyYW0uY29tXKKmhQAAACF0RVh0Q3JlYXRpb24gVGltZQAyMDE5OjA1OjI4IDE4OjA2OjQ0BEUlwQAABABJREFUeJztmz1yqzAQx1eZd4AcAlJ4fAJxAkjjykeAEprXpUjhLo0oTfdaV24iTmBOwKSwuMu+QsgWBoNt8AeOfk0YfaykyXq10h8IIoLBcDVe7j2B5yANSJBe0K+IHXJZz9FgPOwmFLFDFBc7VBoQQogTF4NO7UyK2KmvoG1mxsOuTxE79mousGTp7quscFMtaGXGEXETWleZZR/cJSLyeWOd8bDhkL/kk6OMaq6HhDQgQaziXbcdLTRKI0XsOHEcEELKP8p4rWVlBtpwetlBrCpihxA7yiDxzlkoGgaA+wDgc0REwShQJirVglEAqBWXNbLfoR3ug16DiJzzw67KonoWjAL4HLkPQJkQjFImELm/N8X9stfuofJ4dGqtpYiInNWXh4gmhg2Fz+VuZ73PafYjKnVWuEFEMV/Z3b98Zcee0Nbxiu9V5n+UW6YVfvhqUH/mAgDQ+bvaTottvos7xEva17ELYnaUtbc8DeNht8MKN4jcz6KvGx8exU9WCVEylXNnfhbZ0uty9k/6ahp4uRYXB8B42NCkX1FWhpEGim0OdGIPMI71PqfJooyHRbxIjpt1Zw1uXcSLfOd26vhQbHNVn341xjDrbQr59ozjrPGwoVDbkJczUT0d6smzHU25/HfK3HufOJ99iWGFGz4tg5C9mouWQ6a7FCxX22S5TVvhh+q9T+ut8EMFtsWE+Y22/jIo+5lM/8k4yPT7WqucJBpz/TMNmkx/9Ky9a924pusEpm8XX7SlASHEWzXWETS65C+liJ39cZGytl22DyfFMC2RuPQXNE7F46mRVygl11MKOj2siB3iAe89k1EqHob+vECrUCDv9XhdOWtUIbTCJ1E8dqTx7wtyA1HJ+2uSQJME0qxXYFWbqB00Rql4nNHAcIQ/AABpoGkJjZcgFaResdnrFdFaAFhgT2jikcTnnW8LNFp4h1LxWEvF41s23eaQJGQ3Pcpa7J65kKH4/Py82VijIIqi19dX+fxnJxSEljxe/OhNrbcpZD8C4JT8yQo3GMq9yoMT/OwkpOJxmMC5M9/zbBIBAFAmlrri0biQi9GcNoqOnLmMh7Xw0iEUuH8ZTbxqUtOhV7hLFIwm65Y76rEoHlAeBPa75COeVR4cLF8ZAQCgjDWlUlzbb7Ts56CkqpQeWqnfR9csqCypTKxUHlY1XB9fG61rIbqpau5m8rCrcSvVaJyKh6E/N1ONRql4GPozUtXoRoqHoT8j9TDDaDDvVjwwt5U9rsW9E0HDEe4jewyPiWEPylg+9OjEeNj4ueuHHp0YD3tQ7iR7DI/xsEflTh96DI65rXhS0oB4sHv7IA3IYnKfW0MTw34DPWWPXpgY9qw8iuxhPMxwXf4D9qyGA00NXnsAAAAASUVORK5CYII=\"></div><div class=\"grid-item\">\n",
       "\t\t\t\t\t\t\t\t\t\t\t\t\t<div class=\"prompt output_prompt\" style=\"text-align:left;padding:0em;padding-right:20px;line-height:20px;\">\n",
       "\t\t\t\t\t\t\t\t\t\t\t\t\t\tOut[2]:\n",
       "\t\t\t\t\t\t\t\t\t\t\t\t\t</div>\n",
       "\t\t\t\t\t\t\t\t\t\t\t\t</div>\n",
       "\t\t\t\t\t\t\t\t\t\t\t\t<div class=\"grid-item\"><img alt=\"Output\" src=\"data:image/png;base64,iVBORw0KGgoAAAANSUhEUgAAAAcAAAAPCAIAAACnY0LpAAAAhXpUWHRSYXcgcHJvZmlsZSB0eXBlIGV4aWYAAHjaVYvBDcMwDAP/mqIjyLJM2uMYiQNkg45fuu0n9yApgbT1vi97felp2dgxABc5csRU6P6juNciDXn+X9MfZGWgoRhTluEkhnJXkqKFN+LCAahYcIbnIV8gNQN3o86928QyPusLVffpbh/5eCey76LuBgAAAAlwSFlzAAALEwAACxMBAJqcGAAAADx0RVh0U29mdHdhcmUAQ3JlYXRlZCB3aXRoIHRoZSBXb2xmcmFtIExhbmd1YWdlIDogd3d3LndvbGZyYW0uY29tXKKmhQAAACF0RVh0Q3JlYXRpb24gVGltZQAyMDE5OjA1OjI4IDE4OjA2OjQ1c0IVVwAAAFtJREFUGJW1kLsNgDAUAx3GyggM8mjZgybTvGzABKkIuxwFv0gpEe58OsmSA6AuQ49+pALc3moOINrUFGV+0VaWOQxSnsaS6uOea/tWbi0v89qvxZRM5hA+/3AABrpBYOlTkiQAAAAASUVORK5CYII=\"></div><div class=\"grid-item\">\n",
       "\t\t\t\t\t\t\t\t\t\t\t\t\t<div class=\"prompt output_prompt\" style=\"text-align:left;padding:0em;padding-right:20px;line-height:20px;\">\n",
       "\t\t\t\t\t\t\t\t\t\t\t\t\t\tOut[3]:\n",
       "\t\t\t\t\t\t\t\t\t\t\t\t\t</div>\n",
       "\t\t\t\t\t\t\t\t\t\t\t\t</div>\n",
       "\t\t\t\t\t\t\t\t\t\t\t\t<div class=\"grid-item\"><img alt=\"Output\" src=\"data:image/png;base64,iVBORw0KGgoAAAANSUhEUgAAAAcAAAAPCAIAAACnY0LpAAAAhXpUWHRSYXcgcHJvZmlsZSB0eXBlIGV4aWYAAHjaVYvBDcMwDAP/mqIjyLJM2uMYiQNkg45fuu0n9yApgbT1vi97felp2dgxABc5csRU6P6juNciDXn+X9MfZGWgoRhTluEkhnJXkqKFN+LCAahYcIbnIV8gNQN3o86928QyPusLVffpbh/5eCey76LuBgAAAAlwSFlzAAALEwAACxMBAJqcGAAAADx0RVh0U29mdHdhcmUAQ3JlYXRlZCB3aXRoIHRoZSBXb2xmcmFtIExhbmd1YWdlIDogd3d3LndvbGZyYW0uY29tXKKmhQAAACF0RVh0Q3JlYXRpb24gVGltZQAyMDE5OjA1OjI4IDE4OjA2OjQ1c0IVVwAAAG5JREFUGJWlkLENwjAABO8RozCFmcCiZwS7ZY80Tski9gYZgcbs8hSJkKIoafLdn15XvGyzyWWLjmjLyu2UAYCWJUm6j18AuyYgVdvuJRBK97xN9R0Bbo9nmD59x3tdtTa8plTj37sklG7bOv3DD+xgKaXJSGqzAAAAAElFTkSuQmCC\"></div><div class=\"grid-item\">\n",
       "\t\t\t\t\t\t\t\t\t\t\t\t\t<div class=\"prompt output_prompt\" style=\"text-align:left;padding:0em;padding-right:20px;line-height:20px;\">\n",
       "\t\t\t\t\t\t\t\t\t\t\t\t\t\tOut[4]:\n",
       "\t\t\t\t\t\t\t\t\t\t\t\t\t</div>\n",
       "\t\t\t\t\t\t\t\t\t\t\t\t</div>\n",
       "\t\t\t\t\t\t\t\t\t\t\t\t<div class=\"grid-item\"><img alt=\"Output\" src=\"data:image/png;base64,iVBORw0KGgoAAAANSUhEUgAAAAcAAAAPCAIAAACnY0LpAAAAhXpUWHRSYXcgcHJvZmlsZSB0eXBlIGV4aWYAAHjaVYvBDcMwDAP/mqIjyLJM2uMYiQNkg45fuu0n9yApgbT1vi97felp2dgxABc5csRU6P6juNciDXn+X9MfZGWgoRhTluEkhnJXkqKFN+LCAahYcIbnIV8gNQN3o86928QyPusLVffpbh/5eCey76LuBgAAAAlwSFlzAAALEwAACxMBAJqcGAAAADx0RVh0U29mdHdhcmUAQ3JlYXRlZCB3aXRoIHRoZSBXb2xmcmFtIExhbmd1YWdlIDogd3d3LndvbGZyYW0uY29tXKKmhQAAACF0RVh0Q3JlYXRpb24gVGltZQAyMDE5OjA1OjI4IDE4OjA2OjQ1c0IVVwAAAHpJREFUGJWlkLENg0AQBOeoxRC5AujABVDCEdLK04YLOCpwB0TwvayDN0YWGd5sR7obaU0Sp1RndIXmqbOSbsoASOHgIUnaUouHhMJp0/aF4KEqrwv35gbzYPWzT86y5o9tHuxB6DU2pSscfn54qNh2uIs5LBw39vcOb/BnVrg4y0B+AAAAAElFTkSuQmCC\"></div></div></div>"
      ]
     },
     "execution_count": 1,
     "metadata": {
      "text/html": []
     },
     "output_type": "execute_result"
    }
   ],
   "source": [
    "u = a Cos[omega t] + b Sin[omega t]/omega\n",
    "u/.t->0\n",
    "D[u,t]/.t->0\n",
    "Simplify[D[u,t,t] + omega^2 u]"
   ]
  },
  {
   "cell_type": "markdown",
   "metadata": {},
   "source": [
    "### 非斉次な場合の一般解\n",
    "\n",
    "$b(x)$ は与えられた函数を成分とする $n$ 次元縦ベクトルであるとし, 非斉次な定数係数線形微分方程式の初期値問題\n",
    "\n",
    "$$\n",
    "\\frac{dw(x)}{dx} = Aw(x) + b(x), \\quad w(0) = c\n",
    "$$\n",
    "\n",
    "について考える. これは所謂**定数変化法**で解くことができる. 斉次の場合すなわち $b(x)=0$ の場合の解は\n",
    "\n",
    "$$\n",
    "w(x) = e^{xA}c\n",
    "$$\n",
    "\n",
    "と書けるのであった. 非斉次の場合については, 定数を成分とするベクトル $c$ を函数を成分とするベクトル $c(x)$ に置き換えた\n",
    "\n",
    "$$\n",
    "w(x) = e^{xA}c(x)\n",
    "$$\n",
    "\n",
    "の形の解を探してみよう. 定数 $c$ を変化する $c(x)$ に置き換えるので, この方法は**定数変化法**と呼ばれている.\n",
    "\n",
    "$w(x)=e^{xA}c(x)$ を $w'(x)=Aw(x)+b(x)$ に代入すると,\n",
    "\n",
    "$$\n",
    "w'(x)=Ae^{xA}c(x) + e^{xA}c'(x) = Aw(x)+e^{xA}c'(x) = Aw(x) + b(x)\n",
    "$$\n",
    "\n",
    "なので, $c(x)$ が $e^{xA}c'(x)=b(x)$, $c(0)=c$ を満たしていれば, $w(x)$ は $w'(x)=Aw(x)+b(x)$, $w(0)=c$ を満たす. $c(x)$ に関する方程式 $e^{xA}c'(x)=b(x)$, $c(0)=c$ は $c'(x) = e^{-xA}b(x)$, $c(0)=x$ と同値であり, \n",
    "\n",
    "$$\n",
    "c(x) = c + \\int_0^x e^{-yA}b(y)\\,dy\n",
    "$$\n",
    "\n",
    "と解ける.  これを $w(x)=e^{xA}c(t)$ に代入すると\n",
    "\n",
    "$$\n",
    "w(x) = e^{xA}c + \\int_0^x e^{(x-y)A}b(y)\\,dy.\n",
    "$$\n",
    "\n",
    "これが $w'(x)=Aw(x)+b(x)$, $w(0)=c$ を満たしていることは直接的に確認できる. ただし, 一般に $F(x,z)$ について\n",
    "\n",
    "$$\n",
    "\\frac{d}{dx}F(x,x) = F_x(x,x) + F_z(x,z)\n",
    "$$\n",
    "\n",
    "が成立することを, $F(x,z)=\\int_0^z e^{(x-y)A}b(y)\\,dy$ に適用すると\n",
    "\n",
    "$$\n",
    "\\frac{d}{dx} \\int_0^x e^{(x-y)A}b(y)\\,dy = \n",
    "A \\int_0^x e^{(x-y)A}b(y)\\,dy + b(x)\n",
    "$$\n",
    "\n",
    "が得られることに注意せよ.\n",
    "\n",
    "これで解きたい非斉次な定数係数線形微分方程式を解くことができた."
   ]
  },
  {
   "cell_type": "markdown",
   "metadata": {},
   "source": [
    "#### 非斉次な調和振動子\n",
    "\n",
    "$\\omega \\ne 0$ であるとし, $a,b$ は与えられた定数であるとし, $f(t)$ は与えられた函数であるとする.\n",
    "\n",
    "微分方程式の初期値問題\n",
    "\n",
    "$$\n",
    "\\ddot u(t) = -\\omega^2 u(t) + f(t), \\quad u(0) = a, \\quad \\dot u(0) = b\n",
    "$$\n",
    "\n",
    "は $w(t) = \\begin{bmatrix}u(t) \\\\ \\dot u(t)\\end{bmatrix}$, $c=\\begin{bmatrix} a \\\\ b \\end{bmatrix}$, $g(t)=\\begin{bmatrix} 0 \\\\ f(t)\\end{bmatrix}$, $A=\\begin{bmatrix}\n",
    "0 & 1 \\\\\n",
    "-\\omega^2 & 0 \\\\\n",
    "\\end{bmatrix}$ とおくと, \n",
    "\n",
    "$$\n",
    "\\frac{dw(t)}{dt}=Aw(t) + g(t), \\quad w(0) = c\n",
    "$$\n",
    "\n",
    "の形に書き直される. このとき, \n",
    "\n",
    "$$\n",
    "A^{2k} =\n",
    "\\begin{bmatrix}\n",
    "(-\\omega^2)^k & 0 \\\\\n",
    "0 & (-\\omega^2)^k \\\\\n",
    "\\end{bmatrix},\n",
    "\\quad\n",
    "A^{2k+1} =\n",
    "\\begin{bmatrix}\n",
    "0 & (-\\omega^2)^k \\\\\n",
    "(-\\omega^2)^{k+1} & 0 \\\\\n",
    "\\end{bmatrix}\n",
    "$$\n",
    "\n",
    "なので\n",
    "\n",
    "$$\n",
    "e^{tA} =\n",
    "\\begin{bmatrix}\n",
    "  \\sum_{k=0}^\\infty (-1)^k\\frac{(\\omega t)^{2k}}{(2k)!} \n",
    "& \\frac{1}{\\omega}\\sum_{k=0}^\\infty (-1)^k\\frac{(\\omega t)^{2k+1}}{(2k+1)!}\n",
    "\\\\         -\\omega\\sum_{k=0}^\\infty (-1)^k\\frac{(\\omega t)^{2k+1}}{(2k+1)!}\n",
    "& \\sum_{k=0}^\\infty (-1)^k\\frac{(\\omega t)^{2k}}{(2k)!} \\\\\n",
    "\\end{bmatrix} =\n",
    "\\begin{bmatrix}\n",
    "\\cos(\\omega t) & \\sin(\\omega t)/\\omega \\\\\n",
    "-\\omega\\sin(\\omega t) & \\cos(\\omega t) \\\\\n",
    "\\end{bmatrix}\n",
    "$$\n",
    "\n",
    "となるのであった. "
   ]
  },
  {
   "cell_type": "code",
   "execution_count": 5,
   "metadata": {},
   "outputs": [
    {
     "data": {
      "text/html": [
       "<style>\n",
       "\t\t\t\t\t\t\t\t\t\t\t.grid-container {\n",
       "\t\t\t\t\t\t\t\t\t\t\t\tdisplay: inline-grid;\n",
       "\t\t\t\t\t\t\t\t\t\t\t\tgrid-template-columns: auto auto;\n",
       "\t\t\t\t\t\t\t\t\t\t\t}\n",
       "\t\t\t\t\t\t\t\t\t\t</style>\n",
       "\n",
       "\t\t\t\t\t\t\t\t\t\t<div><div class=\"grid-container\"><div class=\"grid-item\">\n",
       "\t\t\t\t\t\t\t\t\t\t\t\t\t<div class=\"prompt output_prompt\" style=\"text-align:left;padding:0em;padding-right:20px;line-height:20px;\">\n",
       "\t\t\t\t\t\t\t\t\t\t\t\t\t\tOut[5]:\n",
       "\t\t\t\t\t\t\t\t\t\t\t\t\t</div>\n",
       "\t\t\t\t\t\t\t\t\t\t\t\t</div>\n",
       "\t\t\t\t\t\t\t\t\t\t\t\t<div class=\"grid-item\"><img alt=\"Output\" src=\"data:image/png;base64,iVBORw0KGgoAAAANSUhEUgAAAJgAAAASCAIAAAAoi4DIAAAAhXpUWHRSYXcgcHJvZmlsZSB0eXBlIGV4aWYAAHjaVYvBDcMwDAP/mqIjyLJM2uMYiQNkg45fuu0n9yApgbT1vi97felp2dgxABc5csRU6P6juNciDXn+X9MfZGWgoRhTluEkhnJXkqKFN+LCAahYcIbnIV8gNQN3o86928QyPusLVffpbh/5eCey76LuBgAAAAlwSFlzAAALEwAACxMBAJqcGAAAADx0RVh0U29mdHdhcmUAQ3JlYXRlZCB3aXRoIHRoZSBXb2xmcmFtIExhbmd1YWdlIDogd3d3LndvbGZyYW0uY29tXKKmhQAAACF0RVh0Q3JlYXRpb24gVGltZQAyMDE5OjA1OjI4IDE4OjA2OjQ1c0IVVwAAAyVJREFUaIHtWT2ymzAQXmVyFETh8QnECSCNK7evgxKadJTu0ojSdK+lcmM4gTkBQ4F0F6UAgwBhEPY4dsZf9d4OWq3259uVjIQQ8MEjwSMLBzmAm4qj/bRdf0h/Zx5CyIr40zZ/AF7PZn6GUAjBaHG426yp06nkokWapuLd8Lo2M0rcx9iWUsrm5T/vzJkPlMi8L/i+PI9Y+9Q6AR5ZCCEvG0qQLqk1y2RNKu1vj8xDp93FN3TWrHRphwWBZGYohNS3Mw8H25o12D7BC2OQeegLvhklA7nhX4RIN9ULdbn7kHlODLGjFZN1Lu1hQSCHm55iQn/bAAD8nOQQnxZtax+FZpI+HF3WNwzAI8uKonpwiDyJLUZfAjQTRos6SLKs+dI+tn1r6YFXurQH7UDyqoCtaQBkHsLJnrpQvEU18cjCyZ41g0jhNNWSB+VOpG4eJBvGKCkqDpB5uAyvEwU415A5RTNcpC4Q+u0bIEeN0cJZ2SAe4tI2kDyqQNmcs6rCY6GHHEjFxTd1N1TCNuG8IhsUNvfLpiM3fk5yN2wqxPBDNy8ZAAC4OxsAgOx/XauHV0VDjQghJ75tQrsfDnL9Aww0qV1qm+UfVYb05XUgeWThBMbxAh5ZTmnKBGGYW4idw4aJoy0l070oA93OoLZZIjYdcpPBypzIg32tw965eYDr4BZNPcplOu7+izHnUrwpHNU42JeLjhuo+t4zvKulLpCOZEC6LaUu9P4fg1Gi+kB5VZrXNm2zemciOZ1Q1lrTnIhRQigbneq6hIxslHTOG3vri2mXCiFYmirvkX151yMNcyFN2ke2T9rcZNIzFN4QmOrUNQfhIG9oa77+bmnTtRnA8C/ptikpnOzZjVq1j4wWTp+dDT+8ru4mG8MPr2V62FB3/XGmXQoArKqUCgdyKS0mXkk0Xk9UubxonfLxYoG2p73s9G2RKmitCo11i152lkytJ2dBBfHIUqXTLOp1yYO0PQfZKdabDJ5xHCnCL/tuOY3n2dwbZvTL8Q583lofCsO/CP9fG3EDErXi6vBqPwnN4h1t1kDmIYQG978JORKfH5b/C/wF9cRRVzjH4j4AAAAASUVORK5CYII=\"></div><div class=\"grid-item\">\n",
       "\t\t\t\t\t\t\t\t\t\t\t\t\t<div class=\"prompt output_prompt\" style=\"text-align:left;padding:0em;padding-right:20px;line-height:20px;\">\n",
       "\t\t\t\t\t\t\t\t\t\t\t\t\t\tOut[6]:\n",
       "\t\t\t\t\t\t\t\t\t\t\t\t\t</div>\n",
       "\t\t\t\t\t\t\t\t\t\t\t\t</div>\n",
       "\t\t\t\t\t\t\t\t\t\t\t\t<div class=\"grid-item\"><img alt=\"Output\" src=\"data:image/png;base64,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\"></div><div class=\"grid-item\">\n",
       "\t\t\t\t\t\t\t\t\t\t\t\t\t<div class=\"prompt output_prompt\" style=\"text-align:left;padding:0em;padding-right:20px;line-height:20px;\">\n",
       "\t\t\t\t\t\t\t\t\t\t\t\t\t\tOut[7]:\n",
       "\t\t\t\t\t\t\t\t\t\t\t\t\t</div>\n",
       "\t\t\t\t\t\t\t\t\t\t\t\t</div>\n",
       "\t\t\t\t\t\t\t\t\t\t\t\t<div class=\"grid-item\"><img alt=\"Output\" src=\"data:image/png;base64,iVBORw0KGgoAAAANSUhEUgAAAG0AAAAPCAIAAABhptZQAAAAhXpUWHRSYXcgcHJvZmlsZSB0eXBlIGV4aWYAAHjaVYvBDcMwDAP/mqIjyLJM2uMYiQNkg45fuu0n9yApgbT1vi97felp2dgxABc5csRU6P6juNciDXn+X9MfZGWgoRhTluEkhnJXkqKFN+LCAahYcIbnIV8gNQN3o86928QyPusLVffpbh/5eCey76LuBgAAAAlwSFlzAAALEwAACxMBAJqcGAAAADx0RVh0U29mdHdhcmUAQ3JlYXRlZCB3aXRoIHRoZSBXb2xmcmFtIExhbmd1YWdlIDogd3d3LndvbGZyYW0uY29tXKKmhQAAACF0RVh0Q3JlYXRpb24gVGltZQAyMDE5OjA1OjI4IDE4OjA2OjQ1c0IVVwAAAVdJREFUWIXtmL1xg0AQhd96XIog8FABqgBFjlQChETu4xRKJRAp0VGBXAER0Ms5kPXDcQt3mPFZHr5I88TbfbPDLQyklMLCj3nxHeCfsMxxHpY5zsPDHNvdmoiyUr+kr18UIqL1rrVuZXZxXV1q/nY2k65uSCmVCV2XKZBepEbE159jDLqkEI1VlT+Urau7n+vyeIjFRwIA7an4xOFocy9Ncz1PNuc5tnWFKFwBZUZBsRUpqnr8/ExzPVG2+xzLug5MVxj1MqMNpDrnoUsz1pWEOE0Zq89smq4Gl4lBlymA+Hs3WC+hEdfDhrLGd7aOPu05c22qtZAp2HHwLsXs8qFqvrP19Anvj8m+2RYBERFtKtHsk9s/wVsMbkvzLo6har6z9Xh1twCr/Kxykx5GQPTOxOBcbJfBan6z9dHOkeHW5/QujYhx3zL2mH221XxkM+qklu89c/AF4bkSz9WxskAAAAAASUVORK5CYII=\"></div></div></div>"
      ]
     },
     "execution_count": 5,
     "metadata": {
      "text/html": []
     },
     "output_type": "execute_result"
    }
   ],
   "source": [
    "A = {{0, 1}, {-omega^2, 0}}\n",
    "U = {{Cos[omega t], Sin[omega t]/omega}, {-omega Sin[omega t], Cos[omega t]}}\n",
    "Simplify[MatrixExp[t A] - U]"
   ]
  },
  {
   "cell_type": "markdown",
   "metadata": {},
   "source": [
    "$w(t)=e^{tA}c(t)$ の形で解を探してみよう. \n",
    "\n",
    "$$\n",
    "\\dot w(t) = Ae^{tA}c(t) + e^{tA}\\dot c(t) = Aw(t) + e^{tA}\\dot c(t)\n",
    "$$\n",
    "\n",
    "なので, $\\dot c(t) = e^{-tA}g(t)$, $c(0)=c$ ならば $w(t)$ は欲しい解になっている. そのような $c(t)$ は\n",
    "\n",
    "$$\n",
    "c(t) = c + \\int_0^t e^{-As}g(s)\\,ds\n",
    "$$\n",
    "\n",
    "と書ける.  ゆえに欲しい解は\n",
    "\n",
    "$$\n",
    "w(t) = e^{tA}c + \\int_0^t e^{(t-s)A}g(s)\\,ds\n",
    "$$\n",
    "\n",
    "と書ける. そして, \n",
    "\n",
    "$$\n",
    "e^{tA}c =\n",
    "\\begin{bmatrix}\n",
    "a\\cos(\\omega t) + b\\sin(\\omega t)/\\omega \\\\\n",
    "-a\\omega\\sin(\\omega t) + b\\cos(\\omega t) \\\\\n",
    "\\end{bmatrix},\n",
    "\\quad\n",
    "e^{(t-s)A}g(s) =\n",
    "\\begin{bmatrix}\n",
    "\\sin(\\omega(t-s))/\\omega \\\\\n",
    "\\cos(\\omega(t-s)) \\\\\n",
    "\\end{bmatrix}\n",
    "f(s)\n",
    "$$\n",
    "\n",
    "なので $w(t)$ の第1成分の $u(t)$ は次のように表わされる:\n",
    "\n",
    "$$\n",
    "u(t) = a\\cos(\\omega t) + b\\frac{\\sin(\\omega t)}{\\omega} +\n",
    "\\int_0^t \\frac{\\sin(\\omega(t-s))}{\\omega} f(s)\\,ds.\n",
    "$$\n",
    "\n",
    "これが実際に欲しい解になっていることを直接確認してみよう:\n",
    "\n",
    "$$\n",
    "\\begin{aligned}\n",
    "u(0) &= a,\n",
    "\\\\\n",
    "\\dot u(t) &= -\\omega a \\sin(\\omega t) + \\omega b \\frac{\\cos(\\omega t)}{\\omega} +\n",
    "\\omega\\int_0^t \\frac{\\cos(\\omega(t-s))}{\\omega} f(s)\\,ds,\n",
    "\\\\\n",
    "\\dot u(0) &= b,\n",
    "\\\\\n",
    "\\ddot u(t) &= -\\omega^2 a\\cos(\\omega t) - \\omega^2 b\\frac{\\sin(\\omega t)}{\\omega} -\n",
    "\\omega^2\\int_0^t \\frac{\\sin(\\omega(t-s))}{\\omega} f(s)\\,ds + f(t)\n",
    "\\\\ & = -\n",
    "\\omega^2 u(t) + f(t).\n",
    "\\end{aligned}\n",
    "$$\n",
    "\n",
    "非斉次な調和振動子は外力 $f(t)$ が与えられた場合の調和振動子になっている."
   ]
  },
  {
   "cell_type": "code",
   "execution_count": 8,
   "metadata": {},
   "outputs": [
    {
     "data": {
      "text/html": [
       "<style>\n",
       "\t\t\t\t\t\t\t\t\t\t\t.grid-container {\n",
       "\t\t\t\t\t\t\t\t\t\t\t\tdisplay: inline-grid;\n",
       "\t\t\t\t\t\t\t\t\t\t\t\tgrid-template-columns: auto auto;\n",
       "\t\t\t\t\t\t\t\t\t\t\t}\n",
       "\t\t\t\t\t\t\t\t\t\t</style>\n",
       "\n",
       "\t\t\t\t\t\t\t\t\t\t<div><div class=\"grid-container\"><div class=\"grid-item\">\n",
       "\t\t\t\t\t\t\t\t\t\t\t\t\t<div class=\"prompt output_prompt\" style=\"text-align:left;padding:0em;padding-right:20px;line-height:20px;\">\n",
       "\t\t\t\t\t\t\t\t\t\t\t\t\t\tOut[8]:\n",
       "\t\t\t\t\t\t\t\t\t\t\t\t\t</div>\n",
       "\t\t\t\t\t\t\t\t\t\t\t\t</div>\n",
       "\t\t\t\t\t\t\t\t\t\t\t\t<div class=\"grid-item\"><img alt=\"Output\" src=\"data:image/png;base64,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\"></div><div class=\"grid-item\">\n",
       "\t\t\t\t\t\t\t\t\t\t\t\t\t<div class=\"prompt output_prompt\" style=\"text-align:left;padding:0em;padding-right:20px;line-height:20px;\">\n",
       "\t\t\t\t\t\t\t\t\t\t\t\t\t\tOut[9]:\n",
       "\t\t\t\t\t\t\t\t\t\t\t\t\t</div>\n",
       "\t\t\t\t\t\t\t\t\t\t\t\t</div>\n",
       "\t\t\t\t\t\t\t\t\t\t\t\t<div class=\"grid-item\"><img alt=\"Output\" src=\"data:image/png;base64,iVBORw0KGgoAAAANSUhEUgAAAAcAAAAPCAIAAACnY0LpAAAAhXpUWHRSYXcgcHJvZmlsZSB0eXBlIGV4aWYAAHjaVYvBDcMwDAP/mqIjyLJM2uMYiQNkg45fuu0n9yApgbT1vi97felp2dgxABc5csRU6P6juNciDXn+X9MfZGWgoRhTluEkhnJXkqKFN+LCAahYcIbnIV8gNQN3o86928QyPusLVffpbh/5eCey76LuBgAAAAlwSFlzAAALEwAACxMBAJqcGAAAADx0RVh0U29mdHdhcmUAQ3JlYXRlZCB3aXRoIHRoZSBXb2xmcmFtIExhbmd1YWdlIDogd3d3LndvbGZyYW0uY29tXKKmhQAAACF0RVh0Q3JlYXRpb24gVGltZQAyMDE5OjA1OjI4IDE4OjA2OjQ26ktE7QAAAFtJREFUGJW1kLsNgDAUAx3GyggM8mjZgybTvGzABKkIuxwFv0gpEe58OsmSA6AuQ49+pALc3moOINrUFGV+0VaWOQxSnsaS6uOea/tWbi0v89qvxZRM5hA+/3AABrpBYOlTkiQAAAAASUVORK5CYII=\"></div><div class=\"grid-item\">\n",
       "\t\t\t\t\t\t\t\t\t\t\t\t\t<div class=\"prompt output_prompt\" style=\"text-align:left;padding:0em;padding-right:20px;line-height:20px;\">\n",
       "\t\t\t\t\t\t\t\t\t\t\t\t\t\tOut[10]:\n",
       "\t\t\t\t\t\t\t\t\t\t\t\t\t</div>\n",
       "\t\t\t\t\t\t\t\t\t\t\t\t</div>\n",
       "\t\t\t\t\t\t\t\t\t\t\t\t<div class=\"grid-item\"><img alt=\"Output\" src=\"data:image/png;base64,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\"></div><div class=\"grid-item\">\n",
       "\t\t\t\t\t\t\t\t\t\t\t\t\t<div class=\"prompt output_prompt\" style=\"text-align:left;padding:0em;padding-right:20px;line-height:20px;\">\n",
       "\t\t\t\t\t\t\t\t\t\t\t\t\t\tOut[11]:\n",
       "\t\t\t\t\t\t\t\t\t\t\t\t\t</div>\n",
       "\t\t\t\t\t\t\t\t\t\t\t\t</div>\n",
       "\t\t\t\t\t\t\t\t\t\t\t\t<div class=\"grid-item\"><img alt=\"Output\" src=\"data:image/png;base64,iVBORw0KGgoAAAANSUhEUgAAAAcAAAAPCAIAAACnY0LpAAAAhXpUWHRSYXcgcHJvZmlsZSB0eXBlIGV4aWYAAHjaVYvBDcMwDAP/mqIjyLJM2uMYiQNkg45fuu0n9yApgbT1vi97felp2dgxABc5csRU6P6juNciDXn+X9MfZGWgoRhTluEkhnJXkqKFN+LCAahYcIbnIV8gNQN3o86928QyPusLVffpbh/5eCey76LuBgAAAAlwSFlzAAALEwAACxMBAJqcGAAAADx0RVh0U29mdHdhcmUAQ3JlYXRlZCB3aXRoIHRoZSBXb2xmcmFtIExhbmd1YWdlIDogd3d3LndvbGZyYW0uY29tXKKmhQAAACF0RVh0Q3JlYXRpb24gVGltZQAyMDE5OjA1OjI4IDE4OjA2OjQ26ktE7QAAAG5JREFUGJWlkLENwjAABO8RozCFmcCiZwS7ZY80Tski9gYZgcbs8hSJkKIoafLdn15XvGyzyWWLjmjLyu2UAYCWJUm6j18AuyYgVdvuJRBK97xN9R0Bbo9nmD59x3tdtTa8plTj37sklG7bOv3DD+xgKaXJSGqzAAAAAElFTkSuQmCC\"></div><div class=\"grid-item\">\n",
       "\t\t\t\t\t\t\t\t\t\t\t\t\t<div class=\"prompt output_prompt\" style=\"text-align:left;padding:0em;padding-right:20px;line-height:20px;\">\n",
       "\t\t\t\t\t\t\t\t\t\t\t\t\t\tOut[12]:\n",
       "\t\t\t\t\t\t\t\t\t\t\t\t\t</div>\n",
       "\t\t\t\t\t\t\t\t\t\t\t\t</div>\n",
       "\t\t\t\t\t\t\t\t\t\t\t\t<div class=\"grid-item\"><img alt=\"Output\" src=\"data:image/png;base64,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\"></div></div></div>"
      ]
     },
     "execution_count": 8,
     "metadata": {
      "text/html": []
     },
     "output_type": "execute_result"
    }
   ],
   "source": [
    "u = a Cos[omega t] + b Sin[omega t]/omega + Integrate[Sin[omega (t-s)]/omega * f[s], {s, 0, t}]\n",
    "u/.t->0\n",
    "D[u, t]\n",
    "D[u, t]/.t->0\n",
    "D[u, {t,2}]"
   ]
  },
  {
   "cell_type": "markdown",
   "metadata": {},
   "source": [
    "#### 共振\n",
    "\n",
    "$\\ddot u(t) = -\\omega^2 u(t) + f(t)$ の解\n",
    "\n",
    "$$\n",
    "u(t) = a\\cos(\\omega t) + b\\frac{\\sin(\\omega t)}{\\omega} +\n",
    "\\int_0^t \\frac{\\sin(\\omega(t-s))}{\\omega} f(s)\\,ds.　\n",
    "$$\n",
    "\n",
    "が $f(t) = \\cos(\\alpha t), \\sin(\\alpha t)$ の場合にどうなるかを調べてみよう. そのためには三角函数に関する公式\n",
    "\n",
    "$$\n",
    "\\begin{aligned}\n",
    "&\n",
    "\\sin x\\cdot \\cos y = \\frac{1}{2}(\\sin(x-y) + \\sin(x+y)), \n",
    "\\\\ &\n",
    "\\sin x\\cdot \\sin y = \\frac{1}{2}(\\cos(x-y) - \\cos(x+y)) \n",
    "\\end{aligned}\n",
    "$$\n",
    "\n",
    "を使う. この公式より\n",
    "\n",
    "$$\n",
    "\\begin{aligned}\n",
    "&\n",
    "\\frac{\\sin(\\omega(t-s))}{\\omega}\\cos(\\alpha s) = \n",
    "\\frac{1}{2\\omega}(\\sin(\\omega t - (\\omega+\\alpha)s) + \\sin(\\omega t - (\\omega-\\alpha)s)),\n",
    "\\\\ &\n",
    "\\frac{\\sin(\\omega(t-s))}{\\omega}\\sin(\\alpha s) = \n",
    "\\frac{1}{2\\omega}(\\cos(\\omega t - (\\omega+\\alpha)s) - \\cos(\\omega t - (\\omega-\\alpha)s)).\n",
    "\\end{aligned}\n",
    "$$\n",
    "\n",
    "ゆえに, $\\alpha\\ne\\pm\\omega$ の場合には, \n",
    "\n",
    "$$\n",
    "\\begin{aligned}\n",
    "\\int_0^t \\frac{\\sin(\\omega(t-s))}{\\omega}\\cos(\\alpha s)\\,ds &=\n",
    "\\frac{1}{2\\omega}\\left[\n",
    "\\frac{\\cos(\\omega t - (\\omega+\\alpha)s)}{\\omega+\\alpha} + \n",
    "\\frac{\\cos(\\omega t - (\\omega-\\alpha)s)}{\\omega-\\alpha}\n",
    "\\right]_{s=0}^{s=t}\n",
    "\\\\ & = \n",
    "\\frac{1}{2\\omega}\\left(\n",
    "\\frac{\\cos(\\alpha t)}{\\omega+\\alpha} + \n",
    "\\frac{\\cos(\\alpha t)}{\\omega-\\alpha} -\n",
    "\\frac{\\cos(\\omega t)}{\\omega+\\alpha} -\n",
    "\\frac{\\cos(\\omega t)}{\\omega-\\alpha}\n",
    "\\right)\n",
    "\\\\ & =\n",
    "\\frac{\\cos(\\alpha t)}{\\omega^2-\\alpha^2} - \\frac{\\cos(\\omega t)}{\\omega^2-\\alpha^2}\n",
    "\\\\ &=\n",
    "-\\frac{\\cos(\\alpha t)-\\cos(\\omega t)}{\\alpha^2-\\omega^2},\n",
    "\\\\\n",
    "\\int_0^t \\frac{\\sin(\\omega(t-s))}{\\omega}\\sin(\\alpha s)\\,ds &=\n",
    "\\frac{1}{2\\omega}\\left[\n",
    "\\frac{-\\sin(\\omega t - (\\omega+\\alpha)s)}{\\omega+\\alpha} - \n",
    "\\frac{-\\sin(\\omega t - (\\omega-\\alpha)s)}{\\omega-\\alpha}\n",
    "\\right]_{s=0}^{s=t}\n",
    "\\\\ & =\n",
    "\\frac{1}{2\\omega}\\left(\n",
    "\\frac{\\sin(\\alpha t)}{\\omega+\\alpha} +\n",
    "\\frac{\\sin(\\alpha t)}{\\omega-\\alpha} +\n",
    "\\frac{\\sin(\\omega t)}{\\omega+\\alpha} -\n",
    "\\frac{\\sin(\\omega t)}{\\omega-\\alpha}\n",
    "\\right)\n",
    "\\\\ & =\n",
    "\\frac{\\sin(\\alpha t)}{\\omega^2-\\alpha^2} - \n",
    "\\frac{\\alpha}{\\omega}\\frac{\\sin(\\omega t)}{\\omega^2-\\alpha^2}\n",
    "\\\\ & = -\\frac{\\alpha}{\\omega}\n",
    "\\frac{(\\omega/\\alpha)\\sin(\\alpha t) - \\sin(\\omega t)}{\\alpha^2-\\omega^2}.\n",
    "\\end{aligned}\n",
    "$$\n",
    "\n",
    "これらの函数の振幅は $\\alpha^2$ が $\\omega^2$ に近付くと大きくなる.\n",
    "\n",
    "$\\alpha=\\omega$ の場合には上の公式で $\\alpha\\to\\omega$ の極限を取ると, \n",
    "\n",
    "$$\n",
    "\\begin{aligned}\n",
    "\\int_0^t \\frac{\\sin(\\omega(t-s))}{\\omega}\\cos(\\omega s)\\,ds &=\n",
    "\\frac{t\\sin(\\omega t)}{2\\omega},\n",
    "\\\\\n",
    "\\int_0^t \\frac{\\sin(\\omega(t-s))}{\\omega}\\sin(\\omega s)\\,ds &=\n",
    "\\frac{-t\\cos(\\omega t) + (1/\\omega)\\sin(\\omega t)}{2\\omega}.\n",
    "\\end{aligned}\n",
    "$$\n",
    "\n",
    "$\\alpha=-\\omega$ の場合の公式はこの公式で $\\omega$ を $-\\omega$ に置き換えれば得られる. \n",
    "\n",
    "このように, $\\alpha=\\pm\\omega$ の場合には時刻 $t$ に比例して振幅が大きくなる項が出て来る.  すなわち, 調和振動子に与える外力の周期が調和振動子の周期 $2\\pi/|\\omega|$ に等しい場合には, 外力が与えられた調和振動子の振幅は時間に比例して幾らでも大きくなる."
   ]
  },
  {
   "cell_type": "code",
   "execution_count": 13,
   "metadata": {},
   "outputs": [
    {
     "data": {
      "text/html": [
       "<div><pre style=\"&#102;&#111;&#110;&#116;&#45;&#102;&#97;&#109;&#105;&#108;&#121;&#58;&#32;&#34;&#67;&#111;&#117;&#114;&#105;&#101;&#114;&#32;&#78;&#101;&#119;&#34;&#44;&#67;&#111;&#117;&#114;&#105;&#101;&#114;&#44;&#109;&#111;&#110;&#111;&#115;&#112;&#97;&#99;&#101;&#59;\">&#48;</pre></div>"
      ]
     },
     "execution_count": 13,
     "metadata": {
      "text/html": []
     },
     "output_type": "execute_result"
    }
   ],
   "source": [
    "Simplify[Sin[x-y] + Sin[x+y] - 2 Sin[x] Cos[y]]"
   ]
  },
  {
   "cell_type": "code",
   "execution_count": 14,
   "metadata": {},
   "outputs": [
    {
     "data": {
      "text/html": [
       "<div><pre style=\"&#102;&#111;&#110;&#116;&#45;&#102;&#97;&#109;&#105;&#108;&#121;&#58;&#32;&#34;&#67;&#111;&#117;&#114;&#105;&#101;&#114;&#32;&#78;&#101;&#119;&#34;&#44;&#67;&#111;&#117;&#114;&#105;&#101;&#114;&#44;&#109;&#111;&#110;&#111;&#115;&#112;&#97;&#99;&#101;&#59;\">&#48;</pre></div>"
      ]
     },
     "execution_count": 14,
     "metadata": {
      "text/html": []
     },
     "output_type": "execute_result"
    }
   ],
   "source": [
    "Simplify[Cos[x-y] - Cos[x+y] - 2 Sin[x] Sin[y]]"
   ]
  },
  {
   "cell_type": "code",
   "execution_count": 15,
   "metadata": {},
   "outputs": [
    {
     "data": {
      "text/html": [
       "<div><img alt=\"Output\" src=\"data:image/png;base64,iVBORw0KGgoAAAANSUhEUgAAAMAAAAAlCAIAAACbN3FhAAAAhXpUWHRSYXcgcHJvZmlsZSB0eXBlIGV4aWYAAHjaVYvBDcMwDAP/mqIjyLJM2uMYiQNkg45fuu0n9yApgbT1vi97felp2dgxABc5csRU6P6juNciDXn+X9MfZGWgoRhTluEkhnJXkqKFN+LCAahYcIbnIV8gNQN3o86928QyPusLVffpbh/5eCey76LuBgAAAAlwSFlzAAALEwAACxMBAJqcGAAAADx0RVh0U29mdHdhcmUAQ3JlYXRlZCB3aXRoIHRoZSBXb2xmcmFtIExhbmd1YWdlIDogd3d3LndvbGZyYW0uY29tXKKmhQAAACF0RVh0Q3JlYXRpb24gVGltZQAyMDE5OjA1OjI4IDE4OjA2OjQ3nUx0ewAAA+lJREFUeJztnD12ozAQgKV9OUAOgVP45QTyCSCNK7fbidI06VKkcJdGlKZL68pNxAnCCfxSBO6iLUAGAUb8CcRaX2OsoNF4GGkG0AQyxoDB0Jc/cytQJnRhihtKT5SdYlBPWwe6XlcIN37Sa6hUhKy3fWSMxQT1GkJO4m+qftdOs0Yms49iOtunjQMl/gY6gLKM773VT7ktHdJbIfaRMUZ3fbvftX1aOFDydYowPdqVdn8DK+Gm0CidS4VZ2xyNQhe6PhcsiOUiro0NMhN/A+HKi0Dg9FoqQr/+fGX2qUpI/M3G910IYfbBJdeOVbQFH258+zAZMUEAkbihtXBMMcC0LCGD0lt/YTFBQr/Sd4oByL7nYxUaKQbVYcsym1oZY4ySyo9sdYIq+9RJiAkCAFNGMQCIxDFBiMSiVIpz+/DuhUNR/gj2yVcg0V8l7pd8nSL8lq221v4NRz8xAACs1ihw5AlweciVF0lO5VPcetmhbKy8cbXOU6YOMhUy3D63JAC8tQEAAO1eeKxLfi/XVQM6QbPcse2TO5B9FDzrGoutp2dwvWQyrP03Y4xtz9KwBEDoOpfCDBsFFTK5zR3PW9VMLWX2aU38EwkLTHrp7C2OUoWhcyGf6eUc3z4tciD7laDAEX+t9bJDwSGzZOIfArReFbscWUxQcG6yUPJ74YfhR+vZEH54UTYHe8m0np7B5bfbjU42tfgaXk5z1dhHIkFQYIsj76MkK/EPl6tXcZVV2Kcu3NUEQJz3KETWUovo1eVQWsmBrgIQIbiQ4xTB9MboxcBfCNx1MkXyEcS8oG8OpM4+VQn8h2ZJDc+BRMHV8QujjW6flg40Bg1JtKxnQ+o5GlIHUq5Ab/vUShNuLGrT6I4CZUm0es5O93vnSQhdCKFzmlsNdfYJzwF4fur9gKnRPoO8ciImWYH+N4RwOXT5uQ1k5mWqYQDavUw1LAvjQIZBGAcyDOIh/Xh/f59VDcOS8Dzv8fExPTZJtGEQJoQZBmEcyDCIu3UgvgVL633VC1DyXh0o+QJvjLGYXA4avlvJWIKSy3Cg8Us1rP0+2xMy4B2Rapag5DIcSFGpRuj+BZ/Vzcx6obmSD3MrMBuhC89bdtR1Zqfor6R2K9BEpRqh6wTZRuI+GyimqZcYqOQ0KHrLPwLTlWr0UGz6eglN0W4F0qFUo7lAZSn1EtOgmwNpUapxq0ClM7PWS0yDZg40T6lGN2aql9AV5UGyI/OUavTWcsp6CS1Z7tv47A5X2wckNwld6ADKNQ9deFjHOv5LhXZoFsLujoH1EvNzvw8SZ8N+JWjlwOyeDJH4e3mraM5yQ5hBC0wIMwziH9nmB3TmEJhHAAAAAElFTkSuQmCC\"></div>"
      ]
     },
     "execution_count": 15,
     "metadata": {
      "text/html": []
     },
     "output_type": "execute_result"
    }
   ],
   "source": [
    "Integrate[Sin[omega (t-s)] Cos[alpha s] / omega, {s, 0, t}]"
   ]
  },
  {
   "cell_type": "code",
   "execution_count": 16,
   "metadata": {},
   "outputs": [
    {
     "data": {
      "text/html": [
       "<div><img alt=\"Output\" src=\"data:image/png;base64,iVBORw0KGgoAAAANSUhEUgAAAGEAAAAjCAIAAAAL9POTAAAAhXpUWHRSYXcgcHJvZmlsZSB0eXBlIGV4aWYAAHjaVYvBDcMwDAP/mqIjyLJM2uMYiQNkg45fuu0n9yApgbT1vi97felp2dgxABc5csRU6P6juNciDXn+X9MfZGWgoRhTluEkhnJXkqKFN+LCAahYcIbnIV8gNQN3o86928QyPusLVffpbh/5eCey76LuBgAAAAlwSFlzAAALEwAACxMBAJqcGAAAADx0RVh0U29mdHdhcmUAQ3JlYXRlZCB3aXRoIHRoZSBXb2xmcmFtIExhbmd1YWdlIDogd3d3LndvbGZyYW0uY29tXKKmhQAAACF0RVh0Q3JlYXRpb24gVGltZQAyMDE5OjA1OjI4IDE4OjA2OjQ3nUx0ewAAAv5JREFUaIHtmbGWojAUhm/27APMQ8AUc3yC8AS4jZXtdKGEZjuLKeymScqx29Zqmg1PIE/AmcLkXbJFEgGJBjXquIevAQm5JD83P3BFSikYOcqPSwNIliCUlSHG8l1payRZcni2kiXIcrYkZYYQQgmTZ/YPgnOax0Y2LI8kS+L1XCjDR9o0Rfmme+AoM66U2uTRwNNvR/qhlOJzZ5vRSLIEobioYDXVqTLoXmvxu4lVZihjNuf8UVrpqYNIliSMZQghs7HBe2d2RtC6XPvYXr6cN01QDYJiIFw5ERQDAGAqXC2tXpwAmN+cwF48zvl+VxvR7guKAQhXnABgKgTFmAqlOGlCcWJ67XY6u74JHZ4mp/3pKaWGenaUb5RSYr6O/eoTrtde/IKPxpR/1xVZmIUX5QtSfQkdYJYCAOD5L7so5bbe3Xs0XR0f6y6R4qLyz8zPac+1KN8oxUlVvN/4QSa+qk6aaEtLZ6QqYq1bTf9otctsWrdyMwBtjaLnCdRbr4Nsa8AvcYBrR7/meLU0OSnZcnU4bDpz3BjJlvVOOPsgkNvatpfvzjwaNs0WnTxKf1Mw96W7nNo2GBcTrgekXbSxwJNfCaJ8wyfmgvF6Lo488NIPQWu72MzoonxhezcGHeULm1zLF0qcsQ5N8xAu77oae559abTOM8Hp2icGvMyzA/E5vdY7ZPm5gsnz2S9eZYYQmq7djRcJf2c6nnxpEh0GqfGb1seN19pDMmrkZ9TIz0+9eXt7u+swvh1FUTw9Pen90bP9jGvNz6iRn1EjP6NGfkJr1FRU71zZD0hYjSR7/VqYTykoXv8Xla70HegoZqvOR6huExRjSgkAmI3t0zvTxmzY1bShf2ZQrqWRo7B+nwp/AK7j2WUWFxPe/dftUSr8fcJrJFmCpsCH/y/Z564V/j6BNZIsiYuJU6A7VfhDEHLh9u7kvj00BmvyxHqIMRjrR91QLRfqx94dxJSS6/jR49Rqg1f4B/Og79kXVvhP5Da3IgQ3qvD3GetHfv4BSPNThdHPE/oAAAAASUVORK5CYII=\"></div>"
      ]
     },
     "execution_count": 16,
     "metadata": {
      "text/html": []
     },
     "output_type": "execute_result"
    }
   ],
   "source": [
    "Integrate[Sin[omega (t-s)] Cos[omega s] / omega, {s, 0, t}]"
   ]
  },
  {
   "cell_type": "code",
   "execution_count": 17,
   "metadata": {},
   "outputs": [
    {
     "data": {
      "text/html": [
       "<div><img alt=\"Output\" src=\"data:image/png;base64,iVBORw0KGgoAAAANSUhEUgAAAGEAAAAjCAIAAAAL9POTAAAAhXpUWHRSYXcgcHJvZmlsZSB0eXBlIGV4aWYAAHjaVYvBDcMwDAP/mqIjyLJM2uMYiQNkg45fuu0n9yApgbT1vi97felp2dgxABc5csRU6P6juNciDXn+X9MfZGWgoRhTluEkhnJXkqKFN+LCAahYcIbnIV8gNQN3o86928QyPusLVffpbh/5eCey76LuBgAAAAlwSFlzAAALEwAACxMBAJqcGAAAADx0RVh0U29mdHdhcmUAQ3JlYXRlZCB3aXRoIHRoZSBXb2xmcmFtIExhbmd1YWdlIDogd3d3LndvbGZyYW0uY29tXKKmhQAAACF0RVh0Q3JlYXRpb24gVGltZQAyMDE5OjA1OjI4IDE4OjA2OjQ3nUx0ewAAAv5JREFUaIHtmbGWojAUhm/27APMQ8AUc3yC8AS4jZXtdKGEZjuLKeymScqx29Zqmg1PIE/AmcLkXbJFEgGJBjXquIevAQm5JD83P3BFSikYOcqPSwNIliCUlSHG8l1payRZcni2kiXIcrYkZYYQQgmTZ/YPgnOax0Y2LI8kS+L1XCjDR9o0Rfmme+AoM66U2uTRwNNvR/qhlOJzZ5vRSLIEobioYDXVqTLoXmvxu4lVZihjNuf8UVrpqYNIliSMZQghs7HBe2d2RtC6XPvYXr6cN01QDYJiIFw5ERQDAGAqXC2tXpwAmN+cwF48zvl+VxvR7guKAQhXnABgKgTFmAqlOGlCcWJ67XY6u74JHZ4mp/3pKaWGenaUb5RSYr6O/eoTrtde/IKPxpR/1xVZmIUX5QtSfQkdYJYCAOD5L7so5bbe3Xs0XR0f6y6R4qLyz8zPac+1KN8oxUlVvN/4QSa+qk6aaEtLZ6QqYq1bTf9otctsWrdyMwBtjaLnCdRbr4Nsa8AvcYBrR7/meLU0OSnZcnU4bDpz3BjJlvVOOPsgkNvatpfvzjwaNs0WnTxKf1Mw96W7nNo2GBcTrgekXbSxwJNfCaJ8wyfmgvF6Lo488NIPQWu72MzoonxhezcGHeULm1zLF0qcsQ5N8xAu77oae559abTOM8Hp2icGvMyzA/E5vdY7ZPm5gsnz2S9eZYYQmq7djRcJf2c6nnxpEh0GqfGb1seN19pDMmrkZ9TIz0+9eXt7u+swvh1FUTw9Pen90bP9jGvNz6iRn1EjP6NGfkJr1FRU71zZD0hYjSR7/VqYTykoXv8Xla70HegoZqvOR6huExRjSgkAmI3t0zvTxmzY1bShf2ZQrqWRo7B+nwp/AK7j2WUWFxPe/dftUSr8fcJrJFmCpsCH/y/Z564V/j6BNZIsiYuJU6A7VfhDEHLh9u7kvj00BmvyxHqIMRjrR91QLRfqx94dxJSS6/jR49Rqg1f4B/Og79kXVvhP5Da3IgQ3qvD3GetHfv4BSPNThdHPE/oAAAAASUVORK5CYII=\"></div>"
      ]
     },
     "execution_count": 17,
     "metadata": {
      "text/html": []
     },
     "output_type": "execute_result"
    }
   ],
   "source": [
    "Integrate[Sin[omega (t-s)] Cos[-omega s] / omega, {s, 0, t}]"
   ]
  },
  {
   "cell_type": "code",
   "execution_count": 18,
   "metadata": {},
   "outputs": [
    {
     "data": {
      "text/html": [
       "<div><img alt=\"Output\" src=\"data:image/png;base64,iVBORw0KGgoAAAANSUhEUgAAAQMAAAAlCAIAAADJMRsDAAAAhXpUWHRSYXcgcHJvZmlsZSB0eXBlIGV4aWYAAHjaVYvBDcMwDAP/mqIjyLJM2uMYiQNkg45fuu0n9yApgbT1vi97felp2dgxABc5csRU6P6juNciDXn+X9MfZGWgoRhTluEkhnJXkqKFN+LCAahYcIbnIV8gNQN3o86928QyPusLVffpbh/5eCey76LuBgAAAAlwSFlzAAALEwAACxMBAJqcGAAAADx0RVh0U29mdHdhcmUAQ3JlYXRlZCB3aXRoIHRoZSBXb2xmcmFtIExhbmd1YWdlIDogd3d3LndvbGZyYW0uY29tXKKmhQAAACF0RVh0Q3JlYXRpb24gVGltZQAyMDE5OjA1OjI4IDE4OjA2OjQ4DfNp6gAABIBJREFUeJztnDGaqjAQgCfvewfYQ8AWfp4ATyDbWNm+DkpotrPYwm6bUGq3rdU2G06gJ+CzMNwlr0hQVEDAkACbv9FFmGSYTIbJkkGMMTAYfj1/dHegiDSaIeTHMkXGPuI8Ehv7kluWjB5FOrBI39DqCWk0Q6imYUvhQ2MWpZVnzTeMMYqdlo08Io1m9xrU61lDulVEoUU6prFF9HlCGs3s3ZIywWZ++ckK9tcHKlkQxtg+sDrp5TPMN4wxstTdjdr8bovkPCE3H3BnSqPZLIp8hJD4yJzs7kyAXNhGF7/LH6s5xRRF/9hHfpS1+XCuqd1oudhMxPlghcw0miFkhwfYujU7WBfFijzsRmuLKB5aLS0iJgCKHXAwvfpOsQPgEUY8AAdTih0HU8aIBx4RlxFPXHX+cvX1AsXO5arcMYCCk2/PJh6A+Jt4cCOHkBux5Y2Wi72oX9lWiSJlRxljjOB79RqjSpFOLKJjaLWwiIgJ6c/u4K1EPLOClXc4UgAA8BZzAABn+ZbFuvSUnJ0NudtqPzt7rh0e7n60gj1jjC539mO/9QiPzfbk8RNyZaPFYq23pZOpXNhWA5l1uZ7pim6AckW6sIiWodWC5nkCPR6u/JI/D84X3iG0uQoJ/uKKx76b5CaDYqxgzxjxDuGnnKWJWo32QCZ/aL29jx03qsUitZE9tBohPMF6WzrbtZgE0mi9dSZ2yRXzRcE9SqN1ctYhs2l6SrLf489Kx01PCZS32Ij6jeaJP8ODmKNaybRep5CcpC6W6FEkf6Yci2gaWo0tksUEK9iTqfA8e7ekFZn/fENxksUwEUOtYJVdfclhrGCVefN6gr0bMfmHAzucEt4iz5gu6U7jpbziRsvEZrHYTTAtXxqpVoTflHcM4gZIypjVK9KZRVQPLS6rqUWKcormXKdNhYlNV1RkzI+u9EpyKplIyZgftaFCkfq0t0ihNNlDqzpjlkr8vYXpq7LV5G9X3kQsldhHCLk73d1QT3cWeXJoVVrkKfe6cJW2qAsIT9GzqbQ9o1GkEEVDCzHzBp7B0NM38AwG5RhPMBgAjCcYDJy//OPj40NrNwwGDYRh+PLywr+bjNlgADBPRwYDx3iCwQBgPKE52V6Sce/qbczdnqChYTyhIekPrBhjFCfrodq8E8Q75mSabY4YGiP3BPmVIKwgEK96Kny1agjwWLmevNfd7dwzRu4JHVWCiP1/8FV7g/vvgO93Wx3tgT42/tXdgeER++h7wTYmIBRRZ3dtPxlPTFBUCSL23a3Ys1KQHOqqDxJHpUmLmi5lh+zjaqixsqN3XHWirqTF/Tnqizjw80v2A2ns0tAYWEyoqgehu6RFD4s49LBLvWVgnlBeD2IwJS0AZBZxEGPSDfmF7VfztdaV6AMD84RS9FaCAABNRRyyZXzxdHSzW15zyZJBMRZP0FTS4uZ8LUUcBtal3iIz6RgGfd31q7E+SBk97FJnjCUmjA3F9UHq0MMuycT8Z603zN+xY7tILNs4mO61L8z3sEudYXbqGAwA48mYDYbn+A/Yi90uNjprDQAAAABJRU5ErkJggg==\"></div>"
      ]
     },
     "execution_count": 18,
     "metadata": {
      "text/html": []
     },
     "output_type": "execute_result"
    }
   ],
   "source": [
    "Integrate[Sin[omega (t-s)] Sin[alpha s] / omega, {s, 0, t}]"
   ]
  },
  {
   "cell_type": "code",
   "execution_count": 19,
   "metadata": {},
   "outputs": [
    {
     "data": {
      "text/html": [
       "<div><img alt=\"Output\" src=\"data:image/png;base64,iVBORw0KGgoAAAANSUhEUgAAAPAAAAAlCAIAAADzxPNZAAAAhXpUWHRSYXcgcHJvZmlsZSB0eXBlIGV4aWYAAHjaVYvBDcMwDAP/mqIjyLJM2uMYiQNkg45fuu0n9yApgbT1vi97felp2dgxABc5csRU6P6juNciDXn+X9MfZGWgoRhTluEkhnJXkqKFN+LCAahYcIbnIV8gNQN3o86928QyPusLVffpbh/5eCey76LuBgAAAAlwSFlzAAALEwAACxMBAJqcGAAAADx0RVh0U29mdHdhcmUAQ3JlYXRlZCB3aXRoIHRoZSBXb2xmcmFtIExhbmd1YWdlIDogd3d3LndvbGZyYW0uY29tXKKmhQAAACF0RVh0Q3JlYXRpb24gVGltZQAyMDE5OjA1OjI4IDE4OjA2OjQ4DfNp6gAABCpJREFUeJztnD12ozAQgId9e4AcAlL4+QTiBHgbV27TQQnNdi5SuNtGKu0urSs3gROYE/BSBN1FW4AA8R/smJ/M1xgLIY2GmWGQJWtCCECQpfBrbAGQB8KZqWlOMLYY38lkDZozs031gaNJTMYH9ZA0MfTqO1E7zJsl48zM1DPYfuepn8kadAucmdoGfJFydfVh7Wz9W67+RqyjEMLfDbyaM9M472KpnqOVn9Ldq1rQyiz108+gCx6fuAtnpsmYo2la+iHdqFITQAmnmWcVy0ouyJmpaYYXwmlTF4P5+zm0/eptqe26UNgdayY1zE4C9qX6mSQFMQJHc5gcykL0IzqJKQFCY+U4pgTA9oVvAxAax5QQGgvh22DLyOnb6VXZgXKotp9d1VFaEqddSKEKVMb3lTMTG6bwaaWJvhViSgCgRoZyd74NkH73bSgJMk/95BFa9Z/cHfj7ObT36YNHd/d2+BEDAIC9tQAAyO6PfCjxzyhzJ21zavekrD/DC3s4XjtNQhorctr0yiNnMcye6O5VCBHvzkZ3XJPPOmNFWtuci35yg7aOiqUPyZ3ij1DxvKQNa2uHnpGMLqJvSbuBs4kK7v4F9Oc1SGV2V3avQgixvdQ80gbzkGG2kNrAxku6a7JY3b0K4duh9+/B0xqj6qc7h9b/7MjpkCqNs8OJrIyGqta2Rn2cHaJseNJN+Gckzwf/al1Tf15D9Fl3q6y/lJw2qnV2CGkdRUzJ6dJyZyc3zGbS0COfuW2hh39G0DyQrzAb/dSlJ9V8xZbVU9eTqU2aDcnkSfWzQspUIM2IskJCaX2imzdVTbiKTVa7yeorXl/uo5QjTm2Yg3PoWjkqAdD2hZLsVpPVeeqnn0Hfgvq2Ufs+MA7VG3ZTa/ceZqdBfzfz1M+D56GDywnWzxOZ2bxsvj5X1o8bhxk4mqZtzveUaAjz1M9NXtIL5WE3lfB8f37IMAfzIP1oAhcnIQtijj99I0gjaNDIokCDRhbF7+Tj9fV1VDEQZDie5z09PSXH+FKILApMOZBFgQaNLAo06OkjV8svezPgnUCDnjz8HfZCiJhGh3H3982C32MLgHShu3J96GRWwUwYjNCt5HvjRt79HDgv8NZ7e+sPBg26Bc5ePvbpyhrwXkYz6cDRLtspbr+eIt+06GlpVPeQCmUBWXIupoRQakO6Xj0rr9aUbeZkW0mhVLNQhIv4OkGD7kXN5uNxdkEjHWDK0YPAMbx16Z9A5rIL+qeBBt2B/JumG17Ixt4l/qNAg26DM9Pw1rXWPNIuaKQDNOhmOHvxQsizBfWnOt29+us0xBrnXdwyC2EdYxplrSQTgLq7l1fnbevuXobtw4raTe0hzeBqu5EInGImEzjaYdXmE0hPMEJPgUlthp83GKHHgjMzn8ggFMPzfUCDRhYFphzIovgPwPMyaMmUCmUAAAAASUVORK5CYII=\"></div>"
      ]
     },
     "execution_count": 19,
     "metadata": {
      "text/html": []
     },
     "output_type": "execute_result"
    }
   ],
   "source": [
    "Integrate[Sin[omega (t-s)] Sin[omega s] / omega, {s, 0, t}]"
   ]
  },
  {
   "cell_type": "code",
   "execution_count": 20,
   "metadata": {},
   "outputs": [
    {
     "data": {
      "text/html": [
       "<div><img alt=\"Output\" src=\"data:image/png;base64,iVBORw0KGgoAAAANSUhEUgAAAOcAAAAlCAIAAAA2tmnIAAAAhXpUWHRSYXcgcHJvZmlsZSB0eXBlIGV4aWYAAHjaVYvBDcMwDAP/mqIjyLJM2uMYiQNkg45fuu0n9yApgbT1vi97felp2dgxABc5csRU6P6juNciDXn+X9MfZGWgoRhTluEkhnJXkqKFN+LCAahYcIbnIV8gNQN3o86928QyPusLVffpbh/5eCey76LuBgAAAAlwSFlzAAALEwAACxMBAJqcGAAAADx0RVh0U29mdHdhcmUAQ3JlYXRlZCB3aXRoIHRoZSBXb2xmcmFtIExhbmd1YWdlIDogd3d3LndvbGZyYW0uY29tXKKmhQAAACF0RVh0Q3JlYXRpb24gVGltZQAyMDE5OjA1OjI4IDE4OjA2OjQ5evRZfAAABA1JREFUeJztnD96qzAMwOX39QA9BHTIlxOYE5C3ZMraDUZY3pahQ7YuZky2rpmyFE4QTsDXofgufgMYMDikJX/ArX5LqAEjqZIQxAoRQgCCGMWfsQVArg2PHEL8ZGwxbsm4Xssjp8++iU8kTsQHXaGYYujZV0Kr5sWS8cipzDPYSc20z2RzLY8csoBYlBwDa9g8y/iSs2+IuxVCxKuBZ/PIsferXJpn69a7rOCoDvRipH0aXtuI3cLxeeQ4UeQTQsoPGRCdIwGUxFjFSHOsFUw8cgixwxR2C1025e/71Iu7ttdeujF4PmtMSs1rU0nSECPxiR9JVX6IfcpgzRkFynJlO2cUwItF7AFQlueMUpYLEXvgyRwYe+VZ1YayWZMzWp91ZrQljn60sd0UqE0cK3smpqaIWWeKr5IzCgAaGdqXiz2A8u/Yg5YgZtqnzLX8fZ966/I+YQVrL/3IAQDAW7oAAHT1V95D+GdWBQZZ7PpjoooyO0y/EEL9nBLSntHd4ku1nRFqtqY8lYKs4CiEyFd7+3yGkncte0Z7L2qKfb5f1+YfqRJDRU3kLr00tAsVMvZWKJ74i6wRuN/AepqDtNj5g4OjEEIsD5o70GDuomYP7lbJLqcqTys4ChF7afh655cGo9qn9Frr74ruNmXA8mizozP7xBnuUmMjHm2ySgdpYf6Zyf3JqzbIrKc5ZJ+6NOH+Y3S3UF3wjJDuVuSM7g49/77JqXkV+GcGpxX5DsbYp1FDeHKsDCJZbpQViixo1IhplDENyiqlGqSM6YvPeqpuEdScsnuZ6nglftvXaNVtU1NzcF2rlaOTyrxYKAVot4A00z6gGRuAWuZrC/Fx6P5XLprt2mpe8DR2Hcy0zy3e1yaHHcyfJvIG8LC41eumC9VMfELIYn9NiYZgpn0uCoUa5d40lUR7fX6JmoO5k32IwNUziGlM9htdBDkJei1iHui1iHk8FB8vLy+jioEgZwjD8PHxsdjGpzHEPLBCQMwDvRYxD/TaCSKXW//s5q8LQK+dHvwd1kKInGWbcfu5JsvD2AIgHaxALqadzGqOiYG5VqXuhRq5bzXxn+Htyz2Lvwz02iY8ev5Yl8tAIHwezW8TnxyWU2ycnQo3WpVjPN3GQKEsaSr25YxSxjwoFzxX490j5Zw1VX8gtI5sDOGyMi3otXo0baPj9K8iGrBC0JH4djhv/RqDKf2rvwH02jbyR28ueBIau7/3x4Neq8Ajxw7nWpcdqX8V0YBe24BHz2EK9c1d/XLKCo7xvEyW9n6V9zzju9ucZdUsxTs0K1jLs+u5rWAtE/BmxrxT8yEquObrXiR+s/BIfLKZ9Tk+0gPm2lGYVBuzeWCuvRs8curXBJRhoh0Oei1iHlghIObxH92JftzYW4SHAAAAAElFTkSuQmCC\"></div>"
      ]
     },
     "execution_count": 20,
     "metadata": {
      "text/html": []
     },
     "output_type": "execute_result"
    }
   ],
   "source": [
    "Integrate[Sin[omega (t-s)] Sin[-omega s] / omega, {s, 0, t}]"
   ]
  },
  {
   "cell_type": "markdown",
   "metadata": {},
   "source": [
    "**まとめ:** $\\omega\\ne 0$ のとき, \n",
    "\n",
    "$$\n",
    "\\ddot u(t) = -\\omega^2 u(t) + A\\cos(\\alpha t) + B\\sin(\\alpha t), \\quad\n",
    "u(0)=u_0, \\quad \\dot u(0)=v_0\n",
    "\\tag{$*$}\n",
    "$$\n",
    "\n",
    "の形の微分方程式の初期値問題の解は, $\\alpha\\ne\\pm\\omega$ のとき\n",
    "\n",
    "$$\n",
    "u(t) = a\\cos(\\omega t) + b\\sin(\\omega t) + c\\cos(\\alpha t) + d\\sin(\\alpha t)\n",
    "$$\n",
    "\n",
    "の形になり, $\\alpha=\\pm\\omega$ のとき\n",
    "\n",
    "$$\n",
    "u(t) = a\\cos(\\omega t) + b\\sin(\\omega t) + c\\,t\\cos(\\omega t)+ d\\,t\\sin(\\alpha t)\n",
    "$$\n",
    "\n",
    "の形になる. \n",
    "\n",
    "**証明:** $\\alpha\\ne\\pm\\omega$ の場合.\n",
    "\n",
    "\n",
    "$\\alpha=\\omega$ の場合. $u(t) = a\\cos(\\omega t) + b\\sin(\\omega t) + c\\,t\\cos(\\omega t) + d\\,t\\sin(\\omega t)$ とおくと,\n",
    "\n",
    "$$\n",
    "\\begin{aligned}\n",
    "u(0) &= a,\n",
    "\\\\\n",
    "\\dot u(t) &= -\n",
    "\\omega a\\sin(\\omega t) + \\omega b\\cos(\\omega t) + \n",
    "c(-\\omega t\\sin(\\omega t) + \\cos(\\omega t)) + d(\\omega t\\cos(\\omega t) + \\sin(\\omega t)),\n",
    "\\\\\n",
    "\\dot u(0) &= \\omega b + c,\n",
    "\\\\\n",
    "\\ddot u(t) &= -\n",
    "\\omega^2 a\\cos(\\omega t) - \\omega b\\sin(\\omega t) + \n",
    "c(-\\omega^2 t\\cos(\\omega t) - 2\\omega \\sin(\\omega t)) + d(-\\omega^2 t\\sin(\\omega t) + 2\\omega\\cos(\\omega t)),\n",
    "\\\\ & =\n",
    "-\\omega^2 u(t) + 2\\omega d\\cos t -2\\omega c\\sin t.\n",
    "\\end{aligned}\n",
    "$$\n",
    "\n",
    "これと($*$)を比較すると,\n",
    "\n",
    "$$\n",
    "a = u_0, \\quad \\omega b+c = v_0, \\quad 2\\omega d = A, \\quad -2\\omega c=B.\n",
    "$$\n",
    "\n",
    "これを解くと, \n",
    "\n",
    "$$\n",
    "a = u_0, \\quad b = \\frac{v_0}{\\omega} + \\frac{B}{2\\omega^2}, \\quad c = -\\frac{B}{2\\omega}, \\quad d = \\frac{A}{2\\omega}.\n",
    "$$\n",
    "\n",
    "$a,b,c,d$ をこのように定めると上の $u(t)$ が($*$)の解であることは容易に確認できる. $\\QED$"
   ]
  },
  {
   "cell_type": "code",
   "execution_count": null,
   "metadata": {},
   "outputs": [],
   "source": [
    "u = u0 Cos[omega t]"
   ]
  },
  {
   "cell_type": "markdown",
   "metadata": {},
   "source": [
    "**例:** $\\ddot u(t) = -u(t) + \\cos(\\sqrt{2}\\;t)$, $u(0)=1$, $\\dot u(0)=0$ の解は\n",
    "\n",
    "$$\n",
    "u(t) = 2\\cos t - \\cos(\\sqrt{2}\\;t).\n",
    "$$"
   ]
  },
  {
   "cell_type": "code",
   "execution_count": 84,
   "metadata": {},
   "outputs": [
    {
     "data": {
      "text/html": [
       "<style>\n",
       "\t\t\t\t\t\t\t\t\t\t\t.grid-container {\n",
       "\t\t\t\t\t\t\t\t\t\t\t\tdisplay: inline-grid;\n",
       "\t\t\t\t\t\t\t\t\t\t\t\tgrid-template-columns: auto auto;\n",
       "\t\t\t\t\t\t\t\t\t\t\t}\n",
       "\t\t\t\t\t\t\t\t\t\t</style>\n",
       "\n",
       "\t\t\t\t\t\t\t\t\t\t<div><div class=\"grid-container\"><div class=\"grid-item\">\n",
       "\t\t\t\t\t\t\t\t\t\t\t\t\t<div class=\"prompt output_prompt\" style=\"text-align:left;padding:0em;padding-right:20px;line-height:20px;\">\n",
       "\t\t\t\t\t\t\t\t\t\t\t\t\t\tOut[84]:\n",
       "\t\t\t\t\t\t\t\t\t\t\t\t\t</div>\n",
       "\t\t\t\t\t\t\t\t\t\t\t\t</div>\n",
       "\t\t\t\t\t\t\t\t\t\t\t\t<div class=\"grid-item\"><img alt=\"Output\" src=\"data:image/png;base64,iVBORw0KGgoAAAANSUhEUgAAAIoAAAAUCAIAAADdiTIAAAAAhXpUWHRSYXcgcHJvZmlsZSB0eXBlIGV4aWYAAHjaVYvBDcMwDAP/mqIjyLJM2uMYiQNkg45fuu0n9yApgbT1vi97felp2dgxABc5csRU6P6juNciDXn+X9MfZGWgoRhTluEkhnJXkqKFN+LCAahYcIbnIV8gNQN3o86928QyPusLVffpbh/5eCey76LuBgAAAAlwSFlzAAALEwAACxMBAJqcGAAAADx0RVh0U29mdHdhcmUAQ3JlYXRlZCB3aXRoIHRoZSBXb2xmcmFtIExhbmd1YWdlIDogd3d3LndvbGZyYW0uY29tXKKmhQAAACF0RVh0Q3JlYXRpb24gVGltZQAyMDE5OjA1OjI4IDE4OjQ1OjAzGXh8SAAAApNJREFUaIHtmS2Q4jAUxxPmRCUOiWFvmJsVlQwINBiqbnCLKnWsrGAGiSxI1jC1a1hzLQ4Qu4PrYNZQgUMii3snKPQrabOlBUR/iqYv7/2TkPdCwACAMh6V3L0FZITx694CHhK9i5tvqDrafvZKdKvlcqmqarFYDPHE87wgCPGjQkYQTdMYrGRZPhwOSYcejbbOU5bc4nM8HvP5fKohsuWJyW63KxQKaUfJIYSQOa7hE7WxSTDSuxiHGkRzcuHpbY5ruKtH28ULdZVaBubzub+oRE2jzzQwdgI5hMzxy3cfAAC2I/T64vNsjmu4iS6pOLRWhiFoTL0bEwDQ/saLkZzaaDabTblc9oQOm8a4eOuSiJDoqYrbUdXX4rTbOK9djVV3gQN/sXUZksy95fEHpKPWsixFUXRdd7fIskyVEZxGspbosSN/z+Dq+LV7W12fNZEuinAWos1l/OVJSe1wODQMo9PpXFpms9lisQiTQXUdZUI9uendp9dnbdKI3HDmv/cvsW/njVKvL359bxFC6OlP9a2JmXJqXFx1hbW2XK9WlmWe51ut1nq9PrWsVqtKpUKTyDiNLNjLc87Zfq+l38/IHk40pd4nAIDwgXFai9SYeL5qvtqSqlpBEFRVvTxyHBe0oU1jfOydRt2NpJeUdBG2d0k/9DSRkIqCG/wnpKgWABRFMQzDMIzpdMoWmwrj2FGwVAUiaKLz8uzTabtE8TjyOyEO2OmR0NEgVbUAlmVJkjQYDPb7PX0stGmk2TMfDVKE7ZrkbHzN8iQBXa2iKO12O83Q97nU+WgylXK9izFuvt9EUhwkSarX6zcLd6sb68YEYJKg3b3gOE6SpJuFy+7cHppseYgwpuJkISR2DNmf2Q/Mf4foNWN9TqckAAAAAElFTkSuQmCC\"></div><div class=\"grid-item\">\n",
       "\t\t\t\t\t\t\t\t\t\t\t\t\t<div class=\"prompt output_prompt\" style=\"text-align:left;padding:0em;padding-right:20px;line-height:20px;\">\n",
       "\t\t\t\t\t\t\t\t\t\t\t\t\t\tOut[85]:\n",
       "\t\t\t\t\t\t\t\t\t\t\t\t\t</div>\n",
       "\t\t\t\t\t\t\t\t\t\t\t\t</div>\n",
       "\t\t\t\t\t\t\t\t\t\t\t\t<div class=\"grid-item\"><img alt=\"Output\" src=\"data:image/png;base64,iVBORw0KGgoAAAANSUhEUgAAAAcAAAAPCAIAAACnY0LpAAAAhXpUWHRSYXcgcHJvZmlsZSB0eXBlIGV4aWYAAHjaVYvBDcMwDAP/mqIjyLJM2uMYiQNkg45fuu0n9yApgbT1vi97felp2dgxABc5csRU6P6juNciDXn+X9MfZGWgoRhTluEkhnJXkqKFN+LCAahYcIbnIV8gNQN3o86928QyPusLVffpbh/5eCey76LuBgAAAAlwSFlzAAALEwAACxMBAJqcGAAAADx0RVh0U29mdHdhcmUAQ3JlYXRlZCB3aXRoIHRoZSBXb2xmcmFtIExhbmd1YWdlIDogd3d3LndvbGZyYW0uY29tXKKmhQAAACF0RVh0Q3JlYXRpb24gVGltZQAyMDE5OjA1OjI4IDE4OjQ1OjA0hxzp6wAAAENJREFUGJVj/P//PwMGYMIUIkv0zkRrRkZGxvTtCNHt6YzxDAtvT7BCUes58//RfBWauAED/P+/LQ1VJG3bf0aKwwEAV/YVEWVE42MAAAAASUVORK5CYII=\"></div><div class=\"grid-item\">\n",
       "\t\t\t\t\t\t\t\t\t\t\t\t\t<div class=\"prompt output_prompt\" style=\"text-align:left;padding:0em;padding-right:20px;line-height:20px;\">\n",
       "\t\t\t\t\t\t\t\t\t\t\t\t\t\tOut[86]:\n",
       "\t\t\t\t\t\t\t\t\t\t\t\t\t</div>\n",
       "\t\t\t\t\t\t\t\t\t\t\t\t</div>\n",
       "\t\t\t\t\t\t\t\t\t\t\t\t<div class=\"grid-item\"><img alt=\"Output\" src=\"data:image/png;base64,iVBORw0KGgoAAAANSUhEUgAAAK0AAAAUCAIAAABwCCqpAAAAhXpUWHRSYXcgcHJvZmlsZSB0eXBlIGV4aWYAAHjaVYvBDcMwDAP/mqIjyLJM2uMYiQNkg45fuu0n9yApgbT1vi97felp2dgxABc5csRU6P6juNciDXn+X9MfZGWgoRhTluEkhnJXkqKFN+LCAahYcIbnIV8gNQN3o86928QyPusLVffpbh/5eCey76LuBgAAAAlwSFlzAAALEwAACxMBAJqcGAAAADx0RVh0U29mdHdhcmUAQ3JlYXRlZCB3aXRoIHRoZSBXb2xmcmFtIExhbmd1YWdlIDogd3d3LndvbGZyYW0uY29tXKKmhQAAACF0RVh0Q3JlYXRpb24gVGltZQAyMDE5OjA1OjI4IDE4OjQ1OjA0hxzp6wAAAw1JREFUaIHtWq9P61AUPnd5AolDzrSwkCWrJKsARzZD1TKHa+daOfES/oAn6JXgKkE91VZuYmRyJASxVeCQSObuE+u2/u7d6710yfq59Z6e8303X++5nIAIIVDh4FErm0CFvcCvsgmUjNFoZFlWvV7PiJEkSVEULuUdDXUfoW0uJrqQHsWaZFJVctgYDodfX1+llbdtmyKKC0nbNBfbX4feF5bL5fHxcdkscvADJPn4wMMyQprDJTdDfHx8nJycME7KWjsXkjHk+cDDMlpBxl7GagHpjhZL72E5ni8hriBc14321Gy9yZF8LV+IZPJOJiDbBx6+ff9NCCFkYYJxGy7qYVl87m16zENnuyTok/CDTCg2ISTzogQAAJ0HQojdo0xKg9fX10ajEXiQqRdCgYy08yS5C7J9IOgTX5Fw2oSX9wVFxtVnG/5IHA1peG3ibA97WEZINF7gsUtp+Uh5nBi/XC5N03RdN/gk1nT/R2+oeDHtbEnutJO09wNv/gaqEnK5oFsmGGI0f+eBELIw25EEj8bKxLb6YvzJOKgEfbJ6XfVv0vkHBQ1M07y6unp6eto8cV33+vo6LT5Bb5glD+1sSe60kzUIuDjVNo4mGk07dtgJ+oQQsug9i/nfreq/Lp5Hd+lHMBwOJUm6ubmZTqerJ+Px+OLiIjk6RW8QPLQzJ0mPGvgu3iJiGw/LqAt2essT9Em+1fnDd3PXMMTUQ1BRFMuyNj+Pjo7iMbl6g+ChnTlJGuT0BQ/LotHMr+fN36B9LjIiBcJpE97mu12AfDevxyNph+DZ2dlsNpvNZq1WK75Kqzf0DlvtACxJUu9k1sgp1unU4PTLVpOWou+o9io0uB5KkzxT26ZpB8dekSlYAvICvr+/B4PB3d3d5+fnbnpDVXhqZ0UyGp+1k3swV6abra6D83xAgfv7+36/XzQLE6Rr505y/+bKf7tUfx46GkKo+1y83mAwuLy8LJ6HK36YJCLV/x+UCMdxOh12M6edSmMs6ptL1D6cBxXKR+WDckHZE9kiocNWfaECAMA/cARX43AdV74AAAAASUVORK5CYII=\"></div><div class=\"grid-item\">\n",
       "\t\t\t\t\t\t\t\t\t\t\t\t\t<div class=\"prompt output_prompt\" style=\"text-align:left;padding:0em;padding-right:20px;line-height:20px;\">\n",
       "\t\t\t\t\t\t\t\t\t\t\t\t\t\tOut[87]:\n",
       "\t\t\t\t\t\t\t\t\t\t\t\t\t</div>\n",
       "\t\t\t\t\t\t\t\t\t\t\t\t</div>\n",
       "\t\t\t\t\t\t\t\t\t\t\t\t<div class=\"grid-item\"><img alt=\"Output\" src=\"data:image/png;base64,iVBORw0KGgoAAAANSUhEUgAAAAcAAAAPCAIAAACnY0LpAAAAhXpUWHRSYXcgcHJvZmlsZSB0eXBlIGV4aWYAAHjaVYvBDcMwDAP/mqIjyLJM2uMYiQNkg45fuu0n9yApgbT1vi97felp2dgxABc5csRU6P6juNciDXn+X9MfZGWgoRhTluEkhnJXkqKFN+LCAahYcIbnIV8gNQN3o86928QyPusLVffpbh/5eCey76LuBgAAAAlwSFlzAAALEwAACxMBAJqcGAAAADx0RVh0U29mdHdhcmUAQ3JlYXRlZCB3aXRoIHRoZSBXb2xmcmFtIExhbmd1YWdlIDogd3d3LndvbGZyYW0uY29tXKKmhQAAACF0RVh0Q3JlYXRpb24gVGltZQAyMDE5OjA1OjI4IDE4OjQ1OjA0hxzp6wAAAHpJREFUGJWlkLENg0AQBOeoxRC5AujABVDCEdLK04YLOCpwB0TwvayDN0YWGd5sR7obaU0Sp1RndIXmqbOSbsoASOHgIUnaUouHhMJp0/aF4KEqrwv35gbzYPWzT86y5o9tHuxB6DU2pSscfn54qNh2uIs5LBw39vcOb/BnVrg4y0B+AAAAAElFTkSuQmCC\"></div><div class=\"grid-item\">\n",
       "\t\t\t\t\t\t\t\t\t\t\t\t\t<div class=\"prompt output_prompt\" style=\"text-align:left;padding:0em;padding-right:20px;line-height:20px;\">\n",
       "\t\t\t\t\t\t\t\t\t\t\t\t\t\tOut[88]:\n",
       "\t\t\t\t\t\t\t\t\t\t\t\t\t</div>\n",
       "\t\t\t\t\t\t\t\t\t\t\t\t</div>\n",
       "\t\t\t\t\t\t\t\t\t\t\t\t<div class=\"grid-item\"><img alt=\"Output\" src=\"data:image/png;base64,iVBORw0KGgoAAAANSUhEUgAAAEYAAAAUCAIAAAC/CtwvAAAAhXpUWHRSYXcgcHJvZmlsZSB0eXBlIGV4aWYAAHjaVYvBDcMwDAP/mqIjyLJM2uMYiQNkg45fuu0n9yApgbT1vi97felp2dgxABc5csRU6P6juNciDXn+X9MfZGWgoRhTluEkhnJXkqKFN+LCAahYcIbnIV8gNQN3o86928QyPusLVffpbh/5eCey76LuBgAAAAlwSFlzAAALEwAACxMBAJqcGAAAADx0RVh0U29mdHdhcmUAQ3JlYXRlZCB3aXRoIHRoZSBXb2xmcmFtIExhbmd1YWdlIDogd3d3LndvbGZyYW0uY29tXKKmhQAAACF0RVh0Q3JlYXRpb24gVGltZQAyMDE5OjA1OjI4IDE4OjQ1OjA0hxzp6wAAAjJJREFUWIXdVyGP4kAUnmlOVOKQmHYhGxIqyfQX0BNUXXCLauvAXFJBgtkEyVRuXS0GzEIdICA4SnJZsa3AIZHUzQkKbaFlm73SS/hU583LfPNe3/fyBhJCwGOB+t8XSB8/UjtpIkNBBwjbixYT7zWbzQzDKBQKN07iOE4Uxe+zkrQwHo8TeKmqut/vUyP1qDG2/VXWhee6bi6XuytFpiFtt9t8Pn9vFi+kiQxP4DXnXmSmaV6KxNH4pLyOxkN58jULdXQVwFkIN9X9b9hsNqVSKXTLl48OIYQQG4P2SzrJpIDzPlhK47fa5Y6fv0BuAsbbWXVdF2NsmmbQcqUiprXwiJmnMlh+2DGnORoPIdteAl1IQG5jBFCwYXhJ862B77EEpLi+Fu54vV5vvV43m82zZTgcTqfTuKZlYxR/9FcuSTqe8z5YSh2vAplWR/ISyD4jXYBJKlpVVY7j6vX6arU6WubzebVajfaeyGy7HFEp3wJ1+49fgGktCCFEHIXLMRaiKBqGcV7SNH3tc5JySgEBQIHab4x0IXw/5ucvpL969eporzp6ZgPbtTdiY6SPErQfUCwWLcuyLKtSqVzvOhrPtsvJ4mGeyuDPZ4IOQjyNnHGSkG87S83GyPe7LOuY6eFwOCiK0u12d7tdlDpCSKCmiytFaCmLgajf7zcajdSIIqhDIaU3tsZDUZRIFd0JWQxENE0ripIB0REP+F5KMaSRcN8JMRITGUIoDIImSB7uof4XoR6NP/vOwiYAAAAASUVORK5CYII=\"></div><div class=\"grid-item\">\n",
       "\t\t\t\t\t\t\t\t\t\t\t\t\t<div class=\"prompt output_prompt\" style=\"text-align:left;padding:0em;padding-right:20px;line-height:20px;\">\n",
       "\t\t\t\t\t\t\t\t\t\t\t\t\t\tOut[89]:\n",
       "\t\t\t\t\t\t\t\t\t\t\t\t\t</div>\n",
       "\t\t\t\t\t\t\t\t\t\t\t\t</div>\n",
       "\t\t\t\t\t\t\t\t\t\t\t\t<div class=\"grid-item\"><img alt=\"Output\" src=\"data:image/png;base64,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\"></div></div></div>"
      ]
     },
     "execution_count": 84,
     "metadata": {
      "text/html": []
     },
     "output_type": "execute_result"
    }
   ],
   "source": [
    "u = 2 Cos[t] - Cos[Sqrt[2] t]\n",
    "u/.t->0\n",
    "D[u,t]\n",
    "D[u,t]/.t->0\n",
    "D[u,t,t] + u\n",
    "Plot[u, {t,0,100}]"
   ]
  },
  {
   "cell_type": "markdown",
   "metadata": {},
   "source": [
    "**例:** $\\ddot u(t) = -u(t) + \\sin(\\sqrt{2}\\;t)$, $u(0)=1$, $\\dot u(0)=0$ の解は\n",
    "\n",
    "$$\n",
    "u(t) = \\cos t + \\sqrt{2}\\sin t - \\sin(\\sqrt{2}\\;t).\n",
    "$$"
   ]
  },
  {
   "cell_type": "code",
   "execution_count": 69,
   "metadata": {},
   "outputs": [
    {
     "data": {
      "text/html": [
       "<style>\n",
       "\t\t\t\t\t\t\t\t\t\t\t.grid-container {\n",
       "\t\t\t\t\t\t\t\t\t\t\t\tdisplay: inline-grid;\n",
       "\t\t\t\t\t\t\t\t\t\t\t\tgrid-template-columns: auto auto;\n",
       "\t\t\t\t\t\t\t\t\t\t\t}\n",
       "\t\t\t\t\t\t\t\t\t\t</style>\n",
       "\n",
       "\t\t\t\t\t\t\t\t\t\t<div><div class=\"grid-container\"><div class=\"grid-item\">\n",
       "\t\t\t\t\t\t\t\t\t\t\t\t\t<div class=\"prompt output_prompt\" style=\"text-align:left;padding:0em;padding-right:20px;line-height:20px;\">\n",
       "\t\t\t\t\t\t\t\t\t\t\t\t\t\tOut[69]:\n",
       "\t\t\t\t\t\t\t\t\t\t\t\t\t</div>\n",
       "\t\t\t\t\t\t\t\t\t\t\t\t</div>\n",
       "\t\t\t\t\t\t\t\t\t\t\t\t<div class=\"grid-item\"><img alt=\"Output\" src=\"data:image/png;base64,iVBORw0KGgoAAAANSUhEUgAAANQAAAAUCAIAAAB6VIT7AAAAhXpUWHRSYXcgcHJvZmlsZSB0eXBlIGV4aWYAAHjaVYvBDcMwDAP/mqIjyLJM2uMYiQNkg45fuu0n9yApgbT1vi97felp2dgxABc5csRU6P6juNciDXn+X9MfZGWgoRhTluEkhnJXkqKFN+LCAahYcIbnIV8gNQN3o86928QyPusLVffpbh/5eCey76LuBgAAAAlwSFlzAAALEwAACxMBAJqcGAAAADx0RVh0U29mdHdhcmUAQ3JlYXRlZCB3aXRoIHRoZSBXb2xmcmFtIExhbmd1YWdlIDogd3d3LndvbGZyYW0uY29tXKKmhQAAACF0RVh0Q3JlYXRpb24gVGltZQAyMDE5OjA1OjI4IDE4OjM4OjQySlmNFwAAA3pJREFUaIHtmi9M60Acx6/LE0gcEtMCIUuYJK1At09QteBAtXOteckECYYE8QStXN3sDBjaOUBswbElBEErcMjJzd0T6/pnvdv659o+Rj9qvf7u7vf73fXue+0oCCGoqCiDWtkOVPxcfpXtABmenp663e7u7u4Km0ajIYpiYS79v1gyJRiA1eyBQuOtSKcU1SvcCNrt9mQyKduLb4JpmjGsckmpqWm2f7Uh2+5sNtve3i7bi42igJRuwuT7/Pzc2dkh3KijcxQlW4RbzQvS3uaS0gju5LNkagGnO6lamjcRqu3oXDQjCLuM9Pv9ZeXh6FzMcHzLDKNXWOxEvI1BppSiY0dQm5sKwJMBK1XoKkQzVm2+AyE0m+n6QDIejw8ODgIFjn7+fgkhhNDWgHqOz5Wjc0yv6amQDu/fopVBuGAlhcROzNv1pE9pEmrAeegNJTPqeOAh82dxoHD1/Hd0jqIYdQgMIdWCaulI+9lspmlav98PlkSkCa0M3HjovToYvttJegaBfSDw+FoyJeuL6PONvVhvyaY0Wey2xgI2eARxp7dfGvhtSkDCnZQQZyhbYzH24VNPfIObm5vX19eLiwuv5O7u7vHxEdcM3oOAAQCIDCxXNSUA3GtTAkuNko29WG+JpzR+7OgDh/PQG0qX7i5CK5eSO9WZQ9YQytTh7Xa70Wicnp6+vLzMS56fn4+Pj9HWlsyodcSiHoBWBhBCu9lj1q9Qi/2BOWRTOb+WgPJGLxp5eEs8pfGpJdqY5sFD8T4/wesOgKCqDHbVFkWx2+16l1tbW1GbhZKNlSdaGUBoSkP1b6nHW74TWiZwGjIPb4mnNA41wP/RWEMIzyT6d5M1rt1xd/Rrgz1kArf5DrQ11rhfFzu9VwdvH8n0jjsAi/UZNwD7+/uj0Wg0Gh0dHUXvOjrHqPVkaXI+3kA4zEykiT0BhL0FgGRKY8fuSwSXhaDwyzyJ4UqOOcubOvK9uV8jrFPSaj6P6XTaarWurq6+vr7wnWJc9XuRUGbL9SUThuRuVNKQjR1Hrt6SSumy/arYyX1ei/fRBulEOm5vb8/OzrK2QoTCY88E3tvcU5rb57V7IdZbBUumKEroZe+v1WqdnJxkb4cERceeEwWnlILV//l+GpZl8Ty5F9KJutZ1RvFk/CZ82634plST7wcSUySQBSE5qm23ojT+AQncm9JyK5jnAAAAAElFTkSuQmCC\"></div><div class=\"grid-item\">\n",
       "\t\t\t\t\t\t\t\t\t\t\t\t\t<div class=\"prompt output_prompt\" style=\"text-align:left;padding:0em;padding-right:20px;line-height:20px;\">\n",
       "\t\t\t\t\t\t\t\t\t\t\t\t\t\tOut[70]:\n",
       "\t\t\t\t\t\t\t\t\t\t\t\t\t</div>\n",
       "\t\t\t\t\t\t\t\t\t\t\t\t</div>\n",
       "\t\t\t\t\t\t\t\t\t\t\t\t<div class=\"grid-item\"><img alt=\"Output\" src=\"data:image/png;base64,iVBORw0KGgoAAAANSUhEUgAAAAcAAAAPCAIAAACnY0LpAAAAhXpUWHRSYXcgcHJvZmlsZSB0eXBlIGV4aWYAAHjaVYvBDcMwDAP/mqIjyLJM2uMYiQNkg45fuu0n9yApgbT1vi97felp2dgxABc5csRU6P6juNciDXn+X9MfZGWgoRhTluEkhnJXkqKFN+LCAahYcIbnIV8gNQN3o86928QyPusLVffpbh/5eCey76LuBgAAAAlwSFlzAAALEwAACxMBAJqcGAAAADx0RVh0U29mdHdhcmUAQ3JlYXRlZCB3aXRoIHRoZSBXb2xmcmFtIExhbmd1YWdlIDogd3d3LndvbGZyYW0uY29tXKKmhQAAACF0RVh0Q3JlYXRpb24gVGltZQAyMDE5OjA1OjI4IDE4OjM4OjQySlmNFwAAAENJREFUGJVj/P//PwMGYMIUIkv0zkRrRkZGxvTtCNHt6YzxDAtvT7BCUes58//RfBWauAED/P+/LQ1VJG3bf0aKwwEAV/YVEWVE42MAAAAASUVORK5CYII=\"></div><div class=\"grid-item\">\n",
       "\t\t\t\t\t\t\t\t\t\t\t\t\t<div class=\"prompt output_prompt\" style=\"text-align:left;padding:0em;padding-right:20px;line-height:20px;\">\n",
       "\t\t\t\t\t\t\t\t\t\t\t\t\t\tOut[71]:\n",
       "\t\t\t\t\t\t\t\t\t\t\t\t\t</div>\n",
       "\t\t\t\t\t\t\t\t\t\t\t\t</div>\n",
       "\t\t\t\t\t\t\t\t\t\t\t\t<div class=\"grid-item\"><img alt=\"Output\" src=\"data:image/png;base64,iVBORw0KGgoAAAANSUhEUgAAAO4AAAAUCAIAAAAFhZYKAAAAhXpUWHRSYXcgcHJvZmlsZSB0eXBlIGV4aWYAAHjaVYvBDcMwDAP/mqIjyLJM2uMYiQNkg45fuu0n9yApgbT1vi97felp2dgxABc5csRU6P6juNciDXn+X9MfZGWgoRhTluEkhnJXkqKFN+LCAahYcIbnIV8gNQN3o86928QyPusLVffpbh/5eCey76LuBgAAAAlwSFlzAAALEwAACxMBAJqcGAAAADx0RVh0U29mdHdhcmUAQ3JlYXRlZCB3aXRoIHRoZSBXb2xmcmFtIExhbmd1YWdlIDogd3d3LndvbGZyYW0uY29tXKKmhQAAACF0RVh0Q3JlYXRpb24gVGltZQAyMDE5OjA1OjI4IDE4OjM4OjQySlmNFwAAA3tJREFUaIHtWi1M80AYvpJPIHFITAuELGGStAK9foKqBQeqm9sMyQQJhgTxCVq5utkZMFznALEFx0gIglbgkEjm7hN0/dtd1/Tu1pb0Udv1vbvnee/vfXsVEEKgQoXyYy1vAhUqsMEf0oOHh4fBYLC1tZVQuV6va5rGgVXOyFm73RJUC8iGM+6IZCvWJNP1WmQgAnq93tfXF+np70bO2iGEKay4kISG4TBucmUgBhiz2WxjY2OVi6o4KIX2UpBcJfBT+ePjY3Nzc8VUCoJSaC8FSQ+uqQhCy+beD34qj0ajeIzlmorwA8V0lzRqtwQhtXFSE5HarqksegRjR4n8tXMnifUkNQICFDOXYtzxU/nl5WV3dzdC8+TtHCGEkGOA7kmCr1xTEVTgB3uZcwgNpqrd6COEYDNbH1gUQDtXknzgmoo0bPpxdr8RPBI742hBIrKP+9psNjMMYzQa+UW4IEzsjD0y4nYNTN4coqS74USHi8RDSzZYYaHC5J3ENRVBkLoTYKksN7xSaGdLkpMnSfDPqNC2areEljlXz3Lcr66unp+fT09P/Uzw5ubm/v6elCc6hgx0YobtGDKQF5LgcGnoN9TJLWGyeHLPWfPuUmhnS3KJCcUbDMeQAQAYD8S7gzoA3n+ogxgRinFf6/V69Xr96Ojo6enpZ3I/Pj4eHByQVpnUrWE2nkS4d8OJfu6dGWLnXPc2DWlPtlS+GUEocsUs6lJoXwHJNEj2JPDiCOQ0h9LyvX5+dkl7MjuGXqysadpgMPBL19fXF03nkWCSn5YcwTHjzhghhLRbqkQhEY1+ZBljY7BSaGdFMjPSeBJ4uqA+6f7j/8oihiDt29nZmU6n0+l0f39/0c41FalbW+6mxpkhW2p0bMS/Tdm69Napa15a8p4UrtJHjiFbt8u0i9s18PrOJbIrvHZ2JAHg6kkAAHDfX0FUJhVSs/XX2ff3d7vdvri4+Pz8JMRBARKDMagHhvPQKSjzg6lIo/EGsTdeQY1oREZ9R1UC7SxJcvBkWHfQe5yWDlEkTVgMgynGPXJxfX19fXx8nEkKa6S7vJ0bM7huLYV27iRzv7imGPfIe+V2u314eAgKgVs1/Y2EOqTvr0jaiSgFSTpkH3cBVd8rFw22bTcaPFK3FF2bptQp6Zdx1ffKFX4JqqlcQKQ8ZNmCWaiWF6oAo8IvwX90LRMt91/uVAAAAABJRU5ErkJggg==\"></div><div class=\"grid-item\">\n",
       "\t\t\t\t\t\t\t\t\t\t\t\t\t<div class=\"prompt output_prompt\" style=\"text-align:left;padding:0em;padding-right:20px;line-height:20px;\">\n",
       "\t\t\t\t\t\t\t\t\t\t\t\t\t\tOut[72]:\n",
       "\t\t\t\t\t\t\t\t\t\t\t\t\t</div>\n",
       "\t\t\t\t\t\t\t\t\t\t\t\t</div>\n",
       "\t\t\t\t\t\t\t\t\t\t\t\t<div class=\"grid-item\"><img alt=\"Output\" src=\"data:image/png;base64,iVBORw0KGgoAAAANSUhEUgAAAAcAAAAPCAIAAACnY0LpAAAAhXpUWHRSYXcgcHJvZmlsZSB0eXBlIGV4aWYAAHjaVYvBDcMwDAP/mqIjyLJM2uMYiQNkg45fuu0n9yApgbT1vi97felp2dgxABc5csRU6P6juNciDXn+X9MfZGWgoRhTluEkhnJXkqKFN+LCAahYcIbnIV8gNQN3o86928QyPusLVffpbh/5eCey76LuBgAAAAlwSFlzAAALEwAACxMBAJqcGAAAADx0RVh0U29mdHdhcmUAQ3JlYXRlZCB3aXRoIHRoZSBXb2xmcmFtIExhbmd1YWdlIDogd3d3LndvbGZyYW0uY29tXKKmhQAAACF0RVh0Q3JlYXRpb24gVGltZQAyMDE5OjA1OjI4IDE4OjM4OjQySlmNFwAAAHpJREFUGJWlkLENg0AQBOeoxRC5AujABVDCEdLK04YLOCpwB0TwvayDN0YWGd5sR7obaU0Sp1RndIXmqbOSbsoASOHgIUnaUouHhMJp0/aF4KEqrwv35gbzYPWzT86y5o9tHuxB6DU2pSscfn54qNh2uIs5LBw39vcOb/BnVrg4y0B+AAAAAElFTkSuQmCC\"></div><div class=\"grid-item\">\n",
       "\t\t\t\t\t\t\t\t\t\t\t\t\t<div class=\"prompt output_prompt\" style=\"text-align:left;padding:0em;padding-right:20px;line-height:20px;\">\n",
       "\t\t\t\t\t\t\t\t\t\t\t\t\t\tOut[73]:\n",
       "\t\t\t\t\t\t\t\t\t\t\t\t\t</div>\n",
       "\t\t\t\t\t\t\t\t\t\t\t\t</div>\n",
       "\t\t\t\t\t\t\t\t\t\t\t\t<div class=\"grid-item\"><img alt=\"Output\" src=\"data:image/png;base64,iVBORw0KGgoAAAANSUhEUgAAAEYAAAAUCAIAAAC/CtwvAAAAhXpUWHRSYXcgcHJvZmlsZSB0eXBlIGV4aWYAAHjaVYvBDcMwDAP/mqIjyLJM2uMYiQNkg45fuu0n9yApgbT1vi97felp2dgxABc5csRU6P6juNciDXn+X9MfZGWgoRhTluEkhnJXkqKFN+LCAahYcIbnIV8gNQN3o86928QyPusLVffpbh/5eCey76LuBgAAAAlwSFlzAAALEwAACxMBAJqcGAAAADx0RVh0U29mdHdhcmUAQ3JlYXRlZCB3aXRoIHRoZSBXb2xmcmFtIExhbmd1YWdlIDogd3d3LndvbGZyYW0uY29tXKKmhQAAACF0RVh0Q3JlYXRpb24gVGltZQAyMDE5OjA1OjI4IDE4OjM4OjQySlmNFwAAAitJREFUWIXdVyGP4kAUfkNWVOKQmHYhGxIqSfsLDkPVBreotq7IikuQiBO0ctfVYjg1rQNECY6SbFZsK3BIJHWzgm6hlHZ7d7Ncwufmzev75r2+72UGEULgtlD63wegjztqkWwFtV9AMHxXY7O9ZrOZZVnVajUnEs/zkiT9PSuhBYxxAS9d13e7HTXSiNow/OPq2o0XhmG5XP5WityUAlNESLGpkW02m0qlQi1cBkoA0dEjUMwgBcdxzkVypBbNIP/rwBQLna4EgSly48e4F59/HDdZzU0a/hHr9bperydO+fT2kxBCiG9A/+mrpIohs/FsJf3bbAUp5mdZ86sahqFhGI7jnFpSKmI1N6oYe9+AxZufES0wRYS4/gJe2gXICSG+IQAACKdjg0S1E0A+DjIsA0RrLMPpDjmfeMPhcLVa9Xq92DKZTKbTadbQOmP6M5f0xGM1lxDiP465r1taxoeycg9Cnhvous7zfKfTWS6XB8t8Pm+1Wpe9bYXrNzClFj82Hqu5hGB50f9Fb0BIkmRZVrxkGCbtE5giagOmp9mkloL3VxAeOEqxAQCgVqt5nud5XrPZTO8Gpsj1G8XyYe8b8PpeYIIcBBLjs1kjfSXtWE7s52kpxn6/V1V1MBhst9tL6kiz5KvpgKTuk1q6xoVoNBp1u11qRBeoEynRu7ZmQ1XViyr6JlzjjscwjKqqVyA64AbfSxRT+t0uclOjDFtBCLXHpyZEbu6h/gG+JnsTuVroRQAAAABJRU5ErkJggg==\"></div><div class=\"grid-item\">\n",
       "\t\t\t\t\t\t\t\t\t\t\t\t\t<div class=\"prompt output_prompt\" style=\"text-align:left;padding:0em;padding-right:20px;line-height:20px;\">\n",
       "\t\t\t\t\t\t\t\t\t\t\t\t\t\tOut[74]:\n",
       "\t\t\t\t\t\t\t\t\t\t\t\t\t</div>\n",
       "\t\t\t\t\t\t\t\t\t\t\t\t</div>\n",
       "\t\t\t\t\t\t\t\t\t\t\t\t<div class=\"grid-item\"><img alt=\"Output\" src=\"data:image/png;base64,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\"></div></div></div>"
      ]
     },
     "execution_count": 69,
     "metadata": {
      "text/html": []
     },
     "output_type": "execute_result"
    }
   ],
   "source": [
    "u = Cos[t] + Sqrt[2] Sin[t] - Sin[Sqrt[2] t]\n",
    "u/.t->0\n",
    "D[u,t]\n",
    "D[u,t]/.t->0\n",
    "D[u,t,t] + u\n",
    "Plot[u, {t,0,100}]"
   ]
  },
  {
   "cell_type": "markdown",
   "metadata": {},
   "source": [
    "**例:** $\\ddot u(t) = -u(t) + \\cos t$, $u(0)=1$, $\\dot u(0)=0$ の解は\n",
    "\n",
    "$$\n",
    "u(t) = \\cos t + \\frac{t}{2}\\sin t.\n",
    "$$"
   ]
  },
  {
   "cell_type": "code",
   "execution_count": 90,
   "metadata": {},
   "outputs": [
    {
     "data": {
      "text/html": [
       "<style>\n",
       "\t\t\t\t\t\t\t\t\t\t\t.grid-container {\n",
       "\t\t\t\t\t\t\t\t\t\t\t\tdisplay: inline-grid;\n",
       "\t\t\t\t\t\t\t\t\t\t\t\tgrid-template-columns: auto auto;\n",
       "\t\t\t\t\t\t\t\t\t\t\t}\n",
       "\t\t\t\t\t\t\t\t\t\t</style>\n",
       "\n",
       "\t\t\t\t\t\t\t\t\t\t<div><div class=\"grid-container\"><div class=\"grid-item\">\n",
       "\t\t\t\t\t\t\t\t\t\t\t\t\t<div class=\"prompt output_prompt\" style=\"text-align:left;padding:0em;padding-right:20px;line-height:20px;\">\n",
       "\t\t\t\t\t\t\t\t\t\t\t\t\t\tOut[90]:\n",
       "\t\t\t\t\t\t\t\t\t\t\t\t\t</div>\n",
       "\t\t\t\t\t\t\t\t\t\t\t\t</div>\n",
       "\t\t\t\t\t\t\t\t\t\t\t\t<div class=\"grid-item\"><img alt=\"Output\" src=\"data:image/png;base64,iVBORw0KGgoAAAANSUhEUgAAAH8AAAAfCAIAAABBK4UeAAAAhXpUWHRSYXcgcHJvZmlsZSB0eXBlIGV4aWYAAHjaVYvBDcMwDAP/mqIjyLJM2uMYiQNkg45fuu0n9yApgbT1vi97felp2dgxABc5csRU6P6juNciDXn+X9MfZGWgoRhTluEkhnJXkqKFN+LCAahYcIbnIV8gNQN3o86928QyPusLVffpbh/5eCey76LuBgAAAAlwSFlzAAALEwAACxMBAJqcGAAAADx0RVh0U29mdHdhcmUAQ3JlYXRlZCB3aXRoIHRoZSBXb2xmcmFtIExhbmd1YWdlIDogd3d3LndvbGZyYW0uY29tXKKmhQAAACF0RVh0Q3JlYXRpb24gVGltZQAyMDE5OjA1OjI4IDE4OjQ3OjAzs3G0wwAAApZJREFUaIHtmjGaqjAQx2f89gAeArbw8wThBPCarWztoITmdRYW272GlNJta2WzyQn0BH4WkrvkFYIGQR8SNC/78auEJDDzZzIkgyilhAFDjEwb0BlBPUTEiJs2RANL1ecRzuErT4lpQ/SwVH1/JbexY9oKbSxV/4cwqG+SQX2TDOqbBO1c7/MIg0w5Dplc+cas6Yyl6v8QhsxjkkH9GoJ6r9pCF+rzCEs8Kjpd6XSJymhBvbobDf2eRqMBamNJZ7H1vB6degfAZEHnPeQHazXaX0kp2azbPXpDUM9dz/LSafWV7cRb2f4druX1CMT3ehey+t2U0Lg8SeXk/egV1EN0kx1kQacpxanm5OhmwDkHKMHLI4xo6XfPXucpAZKeg6BAPav8ZiGETDbDWK0lT8mN/iyt3fLBDq24bcCpDaDB9+tRLAQojlkIV9fT8/qt+Rl+r3fhYnuaTk68CJNNDuCAOyFZgJnp1fVyubw6kyTJeDx+6CJOvJUxCOq5mABJ83vZo8wN7oTA4VFr7/DmvE9hd8gB2mT7k8XAI8TgSTscZR+VJNAsS139zjjxVsY8wuAPj18fUSPwf6ckC6ovaefXjGSfRc4S9DMjE1dp9lcyT0m2+ddCwXmfwv74WP72V5VJqldHbmeAOO6h6qAWj3h9SW0FZSK8nDunxsrXjOvU1pAB1RHV/PqivH/HAMXjiy/Xn2tCJisvu3pK1/Ma9B28Z8fNzj2Jaxw9r3vc626CVus6HiFisO7vvmbR87rnWHgZt2a3VVha5xF0flhIKaXMU0jmLylbPAH7K8w8wgDsLO/bX+MUxz2EHzZKD9bHvs2BD1bHflmbtVV6sFd9QT03mVotPYClK87aXwhvVl7/byzP+5bzF/1Tz+MTZU90AAAAAElFTkSuQmCC\"></div><div class=\"grid-item\">\n",
       "\t\t\t\t\t\t\t\t\t\t\t\t\t<div class=\"prompt output_prompt\" style=\"text-align:left;padding:0em;padding-right:20px;line-height:20px;\">\n",
       "\t\t\t\t\t\t\t\t\t\t\t\t\t\tOut[91]:\n",
       "\t\t\t\t\t\t\t\t\t\t\t\t\t</div>\n",
       "\t\t\t\t\t\t\t\t\t\t\t\t</div>\n",
       "\t\t\t\t\t\t\t\t\t\t\t\t<div class=\"grid-item\"><img alt=\"Output\" src=\"data:image/png;base64,iVBORw0KGgoAAAANSUhEUgAAAAcAAAAPCAIAAACnY0LpAAAAhXpUWHRSYXcgcHJvZmlsZSB0eXBlIGV4aWYAAHjaVYvBDcMwDAP/mqIjyLJM2uMYiQNkg45fuu0n9yApgbT1vi97felp2dgxABc5csRU6P6juNciDXn+X9MfZGWgoRhTluEkhnJXkqKFN+LCAahYcIbnIV8gNQN3o86928QyPusLVffpbh/5eCey76LuBgAAAAlwSFlzAAALEwAACxMBAJqcGAAAADx0RVh0U29mdHdhcmUAQ3JlYXRlZCB3aXRoIHRoZSBXb2xmcmFtIExhbmd1YWdlIDogd3d3LndvbGZyYW0uY29tXKKmhQAAACF0RVh0Q3JlYXRpb24gVGltZQAyMDE5OjA1OjI4IDE4OjQ3OjAzs3G0wwAAAENJREFUGJVj/P//PwMGYMIUIkv0zkRrRkZGxvTtCNHt6YzxDAtvT7BCUes58//RfBWauAED/P+/LQ1VJG3bf0aKwwEAV/YVEWVE42MAAAAASUVORK5CYII=\"></div><div class=\"grid-item\">\n",
       "\t\t\t\t\t\t\t\t\t\t\t\t\t<div class=\"prompt output_prompt\" style=\"text-align:left;padding:0em;padding-right:20px;line-height:20px;\">\n",
       "\t\t\t\t\t\t\t\t\t\t\t\t\t\tOut[92]:\n",
       "\t\t\t\t\t\t\t\t\t\t\t\t\t</div>\n",
       "\t\t\t\t\t\t\t\t\t\t\t\t</div>\n",
       "\t\t\t\t\t\t\t\t\t\t\t\t<div class=\"grid-item\"><img alt=\"Output\" src=\"data:image/png;base64,iVBORw0KGgoAAAANSUhEUgAAAIMAAAAgCAIAAAC+d1xxAAAAhXpUWHRSYXcgcHJvZmlsZSB0eXBlIGV4aWYAAHjaVYvBDcMwDAP/mqIjyLJM2uMYiQNkg45fuu0n9yApgbT1vi97felp2dgxABc5csRU6P6juNciDXn+X9MfZGWgoRhTluEkhnJXkqKFN+LCAahYcIbnIV8gNQN3o86928QyPusLVffpbh/5eCey76LuBgAAAAlwSFlzAAALEwAACxMBAJqcGAAAADx0RVh0U29mdHdhcmUAQ3JlYXRlZCB3aXRoIHRoZSBXb2xmcmFtIExhbmd1YWdlIDogd3d3LndvbGZyYW0uY29tXKKmhQAAACF0RVh0Q3JlYXRpb24gVGltZQAyMDE5OjA1OjI4IDE4OjQ3OjAzs3G0wwAAAshJREFUaIHtmTGaqjAQxzN+7wAeArbw8wRwAnjNVrZ2UEKznYXFdq+BErptrWw2nABP4LeFcJd5RUQSAYEVFCS/SpOYyExm/skAiEgkA2D27D8wVFJfB7Cjxy3IeyL1dYDHLv98zg8Ndz15ZAMA6H4qzluYr2TchRk3aE2+Ek/75Z8ZJamvq7tVgmcCI+9SnFhsuMk7RcTYUWqGGQEi0lVp34wbVD/TRGBbVwySyAbbz+KnfFdnpL4OoLoHEppNhp+Ztk4ozpdHXPXaVkaAiMX0ELo/G0REah3cfzcSmeLE7OcWZbHWaItP2xNnq2Gy2qn1e9eiLFupiz5S+NQ9wVCcuH6r94z0REZ6OhJtoXY1nfK2JMdTA33I4M9OwOvMJM6yF2kGANVdUpbQ2cH2XlMYH0yCmio2Qcn9UEpbDPa8pKRZZqdO2JuNtn5kA4C5K+0DlHWnYdA2Jkov8Tlc4m2WHKumuK9yMEY6zE6pr4NJLgnz1zf2DioHo6S50hQunZqgPPylsuJneTfXqF3pl6h+NYtWqN8YaXt2qrI3Jp5WMKrYyn2mVvkkiKXnkMpFX8kTf9hO2263V7Hiuu58Pr8z4NLv3cHaxCzRKM7GcvcJIQpRF1poQmjR5tXOtkQ2mGH+VfOSYsIrPvWD4Y1c6Ym2KG9LcvhJCGmiDooTo8NE1yT9+MMIEIOaMU/3BE9bxa6+xBsfnhaa4hFH+bvSws/z8Sb1P0OxnGAEmHhauK+7w7auHIyS1vks19CiLFArnzjrzdsu4wUZvhaA0vtq1aIvpBPDq3Z0UTkYIwOsdnRQORgluVNupR2JSA+2usRE6q/Zu0FMPOKuX6aI0Ae92KqsAhjZYJIej/qvRHe2KtGJ9HQk1rt0QxM6tFUhJmRANKdTWwkxkVVTpRvq6d5W4nGgsi4n4enDVpknCtVn6ZNK+rGVfHs6FP4DeHSt552kv3wAAAAASUVORK5CYII=\"></div><div class=\"grid-item\">\n",
       "\t\t\t\t\t\t\t\t\t\t\t\t\t<div class=\"prompt output_prompt\" style=\"text-align:left;padding:0em;padding-right:20px;line-height:20px;\">\n",
       "\t\t\t\t\t\t\t\t\t\t\t\t\t\tOut[93]:\n",
       "\t\t\t\t\t\t\t\t\t\t\t\t\t</div>\n",
       "\t\t\t\t\t\t\t\t\t\t\t\t</div>\n",
       "\t\t\t\t\t\t\t\t\t\t\t\t<div class=\"grid-item\"><img alt=\"Output\" src=\"data:image/png;base64,iVBORw0KGgoAAAANSUhEUgAAAAcAAAAPCAIAAACnY0LpAAAAhXpUWHRSYXcgcHJvZmlsZSB0eXBlIGV4aWYAAHjaVYvBDcMwDAP/mqIjyLJM2uMYiQNkg45fuu0n9yApgbT1vi97felp2dgxABc5csRU6P6juNciDXn+X9MfZGWgoRhTluEkhnJXkqKFN+LCAahYcIbnIV8gNQN3o86928QyPusLVffpbh/5eCey76LuBgAAAAlwSFlzAAALEwAACxMBAJqcGAAAADx0RVh0U29mdHdhcmUAQ3JlYXRlZCB3aXRoIHRoZSBXb2xmcmFtIExhbmd1YWdlIDogd3d3LndvbGZyYW0uY29tXKKmhQAAACF0RVh0Q3JlYXRpb24gVGltZQAyMDE5OjA1OjI4IDE4OjQ3OjAzs3G0wwAAAHpJREFUGJWlkLENg0AQBOeoxRC5AujABVDCEdLK04YLOCpwB0TwvayDN0YWGd5sR7obaU0Sp1RndIXmqbOSbsoASOHgIUnaUouHhMJp0/aF4KEqrwv35gbzYPWzT86y5o9tHuxB6DU2pSscfn54qNh2uIs5LBw39vcOb/BnVrg4y0B+AAAAAElFTkSuQmCC\"></div><div class=\"grid-item\">\n",
       "\t\t\t\t\t\t\t\t\t\t\t\t\t<div class=\"prompt output_prompt\" style=\"text-align:left;padding:0em;padding-right:20px;line-height:20px;\">\n",
       "\t\t\t\t\t\t\t\t\t\t\t\t\t\tOut[94]:\n",
       "\t\t\t\t\t\t\t\t\t\t\t\t\t</div>\n",
       "\t\t\t\t\t\t\t\t\t\t\t\t</div>\n",
       "\t\t\t\t\t\t\t\t\t\t\t\t<div class=\"grid-item\"><img alt=\"Output\" src=\"data:image/png;base64,iVBORw0KGgoAAAANSUhEUgAAACwAAAAPCAIAAAAQ3rrOAAAAhXpUWHRSYXcgcHJvZmlsZSB0eXBlIGV4aWYAAHjaVYvBDcMwDAP/mqIjyLJM2uMYiQNkg45fuu0n9yApgbT1vi97felp2dgxABc5csRU6P6juNciDXn+X9MfZGWgoRhTluEkhnJXkqKFN+LCAahYcIbnIV8gNQN3o86928QyPusLVffpbh/5eCey76LuBgAAAAlwSFlzAAALEwAACxMBAJqcGAAAADx0RVh0U29mdHdhcmUAQ3JlYXRlZCB3aXRoIHRoZSBXb2xmcmFtIExhbmd1YWdlIDogd3d3LndvbGZyYW0uY29tXKKmhQAAACF0RVh0Q3JlYXRpb24gVGltZQAyMDE5OjA1OjI4IDE4OjQ3OjAzs3G0wwAAAQ9JREFUOI3tlTESgjAQRXc5C1g4niCcwFRWHiGUeAAPEUo9ApWNywnkCDbJXdYCkABBGHRGC1/FbP4mn/0ZQGaGbxN82wDA30RLbaJIsCHO7KKdqi063TaLMSmmdUEllUBcc0vDRSZgR7O6tydmpr1bCsBe81LRadsX2yxuhtO+jVN8PTGbxYjRoYSznCE3WoDQhru4VeeZFChiP0SDFaPFiJ60e6T/YtprXqpjPdkwParybgAAorU4Sxzm/CZBuNpAfcQ0YXpjZt5duiG9TTW0/tRG4ng1aU8cTMoT9TAOaMRPmq629tzHaNHq+mH7TDgdXTM+E5/Aa2JUPONiLuIiZ33qigQRZe6WkH/gL/oAP2MIatHP7s0AAAAASUVORK5CYII=\"></div><div class=\"grid-item\">\n",
       "\t\t\t\t\t\t\t\t\t\t\t\t\t<div class=\"prompt output_prompt\" style=\"text-align:left;padding:0em;padding-right:20px;line-height:20px;\">\n",
       "\t\t\t\t\t\t\t\t\t\t\t\t\t\tOut[95]:\n",
       "\t\t\t\t\t\t\t\t\t\t\t\t\t</div>\n",
       "\t\t\t\t\t\t\t\t\t\t\t\t</div>\n",
       "\t\t\t\t\t\t\t\t\t\t\t\t<div class=\"grid-item\"><img alt=\"Output\" src=\"data:image/png;base64,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\"></div></div></div>"
      ]
     },
     "execution_count": 90,
     "metadata": {
      "text/html": []
     },
     "output_type": "execute_result"
    }
   ],
   "source": [
    "u = Cos[t] + t/2 Sin[t]\n",
    "u/.t->0\n",
    "D[u,t]\n",
    "D[u,t]/.t->0\n",
    "D[u,t,t] + u\n",
    "Plot[u, {t,0,100}]"
   ]
  },
  {
   "cell_type": "markdown",
   "metadata": {},
   "source": [
    "**例:** $\\ddot u(t) = -u(t) + \\sin t$, $u(0)=1$, $\\dot u(0)=0$ の解は\n",
    "\n",
    "$$\n",
    "u(t) = \\cos t + \\frac{1}{2}\\sin t - \\frac{t}{2}\\cos t.\n",
    "$$\n",
    "\n",
    "これは以下のようにして求めることができる.\n",
    "\n",
    "$$\n",
    "u(t) = a\\cos t + b\\sin t + c\\;t\\cos t + d\\;t\\sin t\n",
    "$$\n",
    "\n",
    "とおくと,\n",
    "\n",
    "$$\n",
    "\\begin{aligned}\n",
    "u(0) &= a,\n",
    "\\\\\n",
    "\\dot u(t) &= -a\\sin t + b\\cos t + c(-t\\sin t + \\cos t) + d(t\\cos t + \\sin t),\n",
    "\\\\\n",
    "\\dot u(0) &= b+c,\n",
    "\\\\\n",
    "\\ddot u(t) &= -a\\cos t - b\\sin t + c(-t\\cos t -2\\sin t) + d(-t\\sin t + 2\\cos t)\n",
    "\\\\ & =\n",
    "-u(t) + 2d\\cos t -2c\\sin t.\n",
    "\\end{aligned}\n",
    "$$\n",
    "\n",
    "これと $\\ddot u(t) = -u(t) + \\sin t$, $u(0)=1$, $\\dot u(0)=0$ を比較すれば, $a=1$, $d=0$, $c=-1/2$, $b=1/2$ を得る. "
   ]
  },
  {
   "cell_type": "code",
   "execution_count": 102,
   "metadata": {},
   "outputs": [
    {
     "data": {
      "text/html": [
       "<style>\n",
       "\t\t\t\t\t\t\t\t\t\t\t.grid-container {\n",
       "\t\t\t\t\t\t\t\t\t\t\t\tdisplay: inline-grid;\n",
       "\t\t\t\t\t\t\t\t\t\t\t\tgrid-template-columns: auto auto;\n",
       "\t\t\t\t\t\t\t\t\t\t\t}\n",
       "\t\t\t\t\t\t\t\t\t\t</style>\n",
       "\n",
       "\t\t\t\t\t\t\t\t\t\t<div><div class=\"grid-container\"><div class=\"grid-item\">\n",
       "\t\t\t\t\t\t\t\t\t\t\t\t\t<div class=\"prompt output_prompt\" style=\"text-align:left;padding:0em;padding-right:20px;line-height:20px;\">\n",
       "\t\t\t\t\t\t\t\t\t\t\t\t\t\tOut[102]:\n",
       "\t\t\t\t\t\t\t\t\t\t\t\t\t</div>\n",
       "\t\t\t\t\t\t\t\t\t\t\t\t</div>\n",
       "\t\t\t\t\t\t\t\t\t\t\t\t<div class=\"grid-item\"><img alt=\"Output\" src=\"data:image/png;base64,iVBORw0KGgoAAAANSUhEUgAAAL0AAAAgCAIAAADITe76AAAAhXpUWHRSYXcgcHJvZmlsZSB0eXBlIGV4aWYAAHjaVYvBDcMwDAP/mqIjyLJM2uMYiQNkg45fuu0n9yApgbT1vi97felp2dgxABc5csRU6P6juNciDXn+X9MfZGWgoRhTluEkhnJXkqKFN+LCAahYcIbnIV8gNQN3o86928QyPusLVffpbh/5eCey76LuBgAAAAlwSFlzAAALEwAACxMBAJqcGAAAADx0RVh0U29mdHdhcmUAQ3JlYXRlZCB3aXRoIHRoZSBXb2xmcmFtIExhbmd1YWdlIDogd3d3LndvbGZyYW0uY29tXKKmhQAAACF0RVh0Q3JlYXRpb24gVGltZQAyMDE5OjA1OjI4IDE4OjQ4OjA37H9gjAAAAwZJREFUeJztmj+WqjAUxnPnzAJcBEzhcQWyAqimsrWDkjSvs7B/DZTaTWs1zQsrwBV4phD2cl8RkX9RMmMAM+RXzYFEc7+5fPeSCIhIDIZv8jL2AgwqyGMHIEiG+0J98yaPHYBhxRqfS9DwUORJAADgxHn9c1ufJxh3RdO8SQJYk48sWo69kCHJY8c+rDK8sHPLW1aY1i/c5Z0hYhpaHcPcHSKylfCepnnj7iTingjcFuoGlAQQxIU3iR2jII8dAJseyd6TGX5B07yZJFb4ERFqN/+z7g4R29a7p18bRETmH+nfOyXNClM+3Wfcx6QeSJM3OmGFKSJmq4Pd7Qs+43XLnvdRzE3e6IcVpt020jMmb/QkP5/Icm6r+jjrbUFOZ4m+pkDTvOG9YNnNTeJt/NoAA4BNF4w3IvzV/FEp3D+8dZLti8HsF0+OJElcV/adPYljO2x3ypr6jeERPj0pW0kCAPAOwnvGbww/4eI3ldIpVd4EqNi9Vo1wAc2l/Lqoh+CFx+kRVmxf/3gfVsHu9YBMM2p11LYKq1R2IMvblYvLKKuNZ4yJZ4uGs6gxWzkdC3jOqPuXRRUki5YtMbgAxdXK38wXio2ITQWvM8XjBxLo5gKeNGp98uZVaEL5v8PR36TcfK1w49PPjBCL2PPl3oO9z+TPXr9LEoC3rz2w7SKw3W4bVyils9nswa8eMWoZ2lEPTFXkV+ttQY5fGSEy9d0KUwx5k+eRfnR0d4i7jjGPK/hsUVeeFkqln5YxuRTlhrHecOz6gPocgWMj8wXVAHE4Q765gOeMWp86RRARkfllIhUhl9euItTavmYJFylYmTF0X9yxAMRnjFq3vFGBUMGbg7URqINpRo2o8JxBwe61hkwzaqLObwbmXgEy1OlBK03PNfN4zX8FiVlE6PrXbN/3QS9a6X+umQTgkZG3VnRBnVaa+k1Jfj4R/90kjQwKtdLcb4zZyKNUK439pjjRNknTjXKtdM2bPHZsujBJI0MvWql5LRuY1u8Vbp5XG/rRSvP+xjAS/wH10ZAU5izbHgAAAABJRU5ErkJggg==\"></div><div class=\"grid-item\">\n",
       "\t\t\t\t\t\t\t\t\t\t\t\t\t<div class=\"prompt output_prompt\" style=\"text-align:left;padding:0em;padding-right:20px;line-height:20px;\">\n",
       "\t\t\t\t\t\t\t\t\t\t\t\t\t\tOut[103]:\n",
       "\t\t\t\t\t\t\t\t\t\t\t\t\t</div>\n",
       "\t\t\t\t\t\t\t\t\t\t\t\t</div>\n",
       "\t\t\t\t\t\t\t\t\t\t\t\t<div class=\"grid-item\"><img alt=\"Output\" src=\"data:image/png;base64,iVBORw0KGgoAAAANSUhEUgAAAAcAAAAPCAIAAACnY0LpAAAAhXpUWHRSYXcgcHJvZmlsZSB0eXBlIGV4aWYAAHjaVYvBDcMwDAP/mqIjyLJM2uMYiQNkg45fuu0n9yApgbT1vi97felp2dgxABc5csRU6P6juNciDXn+X9MfZGWgoRhTluEkhnJXkqKFN+LCAahYcIbnIV8gNQN3o86928QyPusLVffpbh/5eCey76LuBgAAAAlwSFlzAAALEwAACxMBAJqcGAAAADx0RVh0U29mdHdhcmUAQ3JlYXRlZCB3aXRoIHRoZSBXb2xmcmFtIExhbmd1YWdlIDogd3d3LndvbGZyYW0uY29tXKKmhQAAACF0RVh0Q3JlYXRpb24gVGltZQAyMDE5OjA1OjI4IDE4OjQ4OjA37H9gjAAAAENJREFUGJVj/P//PwMGYMIUIkv0zkRrRkZGxvTtCNHt6YzxDAtvT7BCUes58//RfBWauAED/P+/LQ1VJG3bf0aKwwEAV/YVEWVE42MAAAAASUVORK5CYII=\"></div><div class=\"grid-item\">\n",
       "\t\t\t\t\t\t\t\t\t\t\t\t\t<div class=\"prompt output_prompt\" style=\"text-align:left;padding:0em;padding-right:20px;line-height:20px;\">\n",
       "\t\t\t\t\t\t\t\t\t\t\t\t\t\tOut[104]:\n",
       "\t\t\t\t\t\t\t\t\t\t\t\t\t</div>\n",
       "\t\t\t\t\t\t\t\t\t\t\t\t</div>\n",
       "\t\t\t\t\t\t\t\t\t\t\t\t<div class=\"grid-item\"><img alt=\"Output\" src=\"data:image/png;base64,iVBORw0KGgoAAAANSUhEUgAAAIgAAAAfCAIAAACzuxL+AAAAhXpUWHRSYXcgcHJvZmlsZSB0eXBlIGV4aWYAAHjaVYvBDcMwDAP/mqIjyLJM2uMYiQNkg45fuu0n9yApgbT1vi97felp2dgxABc5csRU6P6juNciDXn+X9MfZGWgoRhTluEkhnJXkqKFN+LCAahYcIbnIV8gNQN3o86928QyPusLVffpbh/5eCey76LuBgAAAAlwSFlzAAALEwAACxMBAJqcGAAAADx0RVh0U29mdHdhcmUAQ3JlYXRlZCB3aXRoIHRoZSBXb2xmcmFtIExhbmd1YWdlIDogd3d3LndvbGZyYW0uY29tXKKmhQAAACF0RVh0Q3JlYXRpb24gVGltZQAyMDE5OjA1OjI4IDE4OjQ4OjA4fMB9HQAAAjlJREFUaIHtmjF2ozAQhmf25QA+hLVFnk8AJ4AqVVp3qETNdlu43waVpNs2VSrpBM4J/FIY3WW2wOtgQwgGjIQeX4clxAy/RiMNRiKCBff4YduAe2BkiIjItW1DBuCfMJrjFv4WWWDbkGH4J0yU0z5d27ZiMP4J4wmLMI6yCOMoizCOgt6dYzTH+KVynSjKI2vW9MY/YTxhWcocpa8wRoYzP1r3YUKvvxPmVN3AQSUOzRERQ2kux62N19DvbjQaUG207HWrMEaG7PW5oBPVHLpO99Q9qT4pog7n8SgnIvXccdB74YbXfZayUuLLyaQ5cvl/nrXPeSNDRCbe4SXu0r3+eDkwpPoZMLXX1MqpFhhkRVNLos6XKgE4XasEqi1EpJS6uvv69mrnrP6w2zp04msD3PD6AWo7/yArzvG3TveUgpEhQ3HR0ECiyiBnjwF8tE6GO7Lb7a5+EUKsVqubBnHB6wcoF7n8W0M1x/iPTi0e1ioTSAhofmN1YXpj1+vOOcYcDxA8srGeu/65gcPxtlwR5RdRP6y4380Ae163CnPOd4jIxEaVr6LcS37msX77yehXBoL1Sf4j8aUBjnjdmiFHoiENtnQeJbc7wDCvpynJvMWdAkNzRIxfJzFpAoZ5PfI0cYHP7/0NG9654F8R08jtx28iIioyEFsr+WsEvC77a44xzPNzjNdlf3M8QPI0R1XA54iZc7iArxFjZDhrVcBLYYwMmdjMWhXwcCkzMmTivfLD8meMhTH5B0iqvE80IJPtAAAAAElFTkSuQmCC\"></div><div class=\"grid-item\">\n",
       "\t\t\t\t\t\t\t\t\t\t\t\t\t<div class=\"prompt output_prompt\" style=\"text-align:left;padding:0em;padding-right:20px;line-height:20px;\">\n",
       "\t\t\t\t\t\t\t\t\t\t\t\t\t\tOut[105]:\n",
       "\t\t\t\t\t\t\t\t\t\t\t\t\t</div>\n",
       "\t\t\t\t\t\t\t\t\t\t\t\t</div>\n",
       "\t\t\t\t\t\t\t\t\t\t\t\t<div class=\"grid-item\"><img alt=\"Output\" src=\"data:image/png;base64,iVBORw0KGgoAAAANSUhEUgAAAAcAAAAPCAIAAACnY0LpAAAAhXpUWHRSYXcgcHJvZmlsZSB0eXBlIGV4aWYAAHjaVYvBDcMwDAP/mqIjyLJM2uMYiQNkg45fuu0n9yApgbT1vi97felp2dgxABc5csRU6P6juNciDXn+X9MfZGWgoRhTluEkhnJXkqKFN+LCAahYcIbnIV8gNQN3o86928QyPusLVffpbh/5eCey76LuBgAAAAlwSFlzAAALEwAACxMBAJqcGAAAADx0RVh0U29mdHdhcmUAQ3JlYXRlZCB3aXRoIHRoZSBXb2xmcmFtIExhbmd1YWdlIDogd3d3LndvbGZyYW0uY29tXKKmhQAAACF0RVh0Q3JlYXRpb24gVGltZQAyMDE5OjA1OjI4IDE4OjQ4OjA4fMB9HQAAAHpJREFUGJWlkLENg0AQBOeoxRC5AujABVDCEdLK04YLOCpwB0TwvayDN0YWGd5sR7obaU0Sp1RndIXmqbOSbsoASOHgIUnaUouHhMJp0/aF4KEqrwv35gbzYPWzT86y5o9tHuxB6DU2pSscfn54qNh2uIs5LBw39vcOb/BnVrg4y0B+AAAAAElFTkSuQmCC\"></div><div class=\"grid-item\">\n",
       "\t\t\t\t\t\t\t\t\t\t\t\t\t<div class=\"prompt output_prompt\" style=\"text-align:left;padding:0em;padding-right:20px;line-height:20px;\">\n",
       "\t\t\t\t\t\t\t\t\t\t\t\t\t\tOut[106]:\n",
       "\t\t\t\t\t\t\t\t\t\t\t\t\t</div>\n",
       "\t\t\t\t\t\t\t\t\t\t\t\t</div>\n",
       "\t\t\t\t\t\t\t\t\t\t\t\t<div class=\"grid-item\"><img alt=\"Output\" src=\"data:image/png;base64,iVBORw0KGgoAAAANSUhEUgAAACwAAAAPCAIAAAAQ3rrOAAAAhXpUWHRSYXcgcHJvZmlsZSB0eXBlIGV4aWYAAHjaVYvBDcMwDAP/mqIjyLJM2uMYiQNkg45fuu0n9yApgbT1vi97felp2dgxABc5csRU6P6juNciDXn+X9MfZGWgoRhTluEkhnJXkqKFN+LCAahYcIbnIV8gNQN3o86928QyPusLVffpbh/5eCey76LuBgAAAAlwSFlzAAALEwAACxMBAJqcGAAAADx0RVh0U29mdHdhcmUAQ3JlYXRlZCB3aXRoIHRoZSBXb2xmcmFtIExhbmd1YWdlIDogd3d3LndvbGZyYW0uY29tXKKmhQAAACF0RVh0Q3JlYXRpb24gVGltZQAyMDE5OjA1OjI4IDE4OjQ4OjA4fMB9HQAAAQZJREFUOI3VVbuVwjAQnL1aLAIeFUgV2AVcCXJoJ1cFiRRCCUQXrSswFRBh9bIEZ2MwtjGfO7jJtG+fNDs780Qiglfj49UEgP9AInhDlBZ/QyJ4Qw3ufrNIiYiMD20peHN5X08fpHIa2lXyKJi5W6qchr2oioiwO31xcB0/hM+lKVJKfaPa+SxdBG+IVL7FOpnQXhMG+uTojMIWqM9s0RnyQSWirBSR6nOjrg4Iy6sYANRcj7XdhnYdUVaKsN3my9+PwyAJAAj7HfRcPevyaLbAbj+qbE3i6EAiUvmCyyxCk9rWWfclN/5yyNUkYz4HPcYcaZ4W0dvxnVz3NersJ5vTEskb/KIHJZ+wx2bTIakAAAAASUVORK5CYII=\"></div><div class=\"grid-item\">\n",
       "\t\t\t\t\t\t\t\t\t\t\t\t\t<div class=\"prompt output_prompt\" style=\"text-align:left;padding:0em;padding-right:20px;line-height:20px;\">\n",
       "\t\t\t\t\t\t\t\t\t\t\t\t\t\tOut[107]:\n",
       "\t\t\t\t\t\t\t\t\t\t\t\t\t</div>\n",
       "\t\t\t\t\t\t\t\t\t\t\t\t</div>\n",
       "\t\t\t\t\t\t\t\t\t\t\t\t<div class=\"grid-item\"><img alt=\"Output\" src=\"data:image/png;base64,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\"></div></div></div>"
      ]
     },
     "execution_count": 102,
     "metadata": {
      "text/html": []
     },
     "output_type": "execute_result"
    }
   ],
   "source": [
    "u = Cos[t] + 1/2 Sin[t] - t/2 Cos[t]\n",
    "u/.t->0\n",
    "D[u,t]\n",
    "D[u,t]/.t->0\n",
    "D[u,t,t] + u\n",
    "Plot[u, {t,0,100}]"
   ]
  },
  {
   "cell_type": "markdown",
   "metadata": {},
   "source": [
    "## 非斉次な波動方程式 (より高級な話題)\n",
    "\n",
    "この節の内容は先走った内容になっているので, 初めて読む読者は飛ばしてよい. 後で必要になってから戻って来ても遅くない.  しかし, 筆者的には実用的な内容を含んでいるので計算を追ってみて欲しいと思う.\n",
    "\n",
    "### 解の表示\n",
    "\n",
    "$u=u(t,x)$ に関する次の方程式を非斉次な波動方程式の初期値問題と呼ぶ:\n",
    "\n",
    "$$\n",
    "u_{tt}(t,x) = u_{xx}(t,x) + f(t,x), \\quad u(0,x)=a(x), \\quad u_t(0,x)=b(x).\n",
    "$$\n",
    "\n",
    "これの解は次のように書ける:\n",
    "\n",
    "$$\n",
    "u(t,x) = \\frac{a(x+t)+a(x-t)}{2} + \n",
    "\\frac{1}{2}\\int_{x-t}^{x+t} b(y)\\,dy +\n",
    "\\frac{1}{2}\\int_0^t ds\\,\\int_{x-(t-s)}^{x+(t-s)} f(s,y)\\,dy.\n",
    "\\tag{$*$}\n",
    "$$\n",
    "\n",
    "これが実際に上の条件を満たしていることは直接的に確認できる:\n",
    "\n",
    "$$\n",
    "\\begin{aligned}\n",
    "u(0,x) &= a(x),\n",
    "\\\\\n",
    "u_t(t,x) &= \\frac{a'(x+t)-a'(x-t)}{2} +\n",
    "\\frac{b(x+t)+b(x-t)}{2} \n",
    "\\\\ &+ \n",
    "\\int_0^t\\frac{f(s,x+(t-s))+f(s,x-(t-s))}{2}\\,ds,\n",
    "\\\\\n",
    "u_t(0,x) &= b(x),\n",
    "\\\\\n",
    "u_{tt}(t,x) &= \\frac{a''(x+t)+a''(x-t)}{2} +\n",
    "\\frac{b'(x+t)-b'(x-t)}{2} \n",
    "\\\\ &+ \n",
    "\\int_0^t\\frac{f'(s,x+(t-s))-f'(s,x-(t-s))}{2}\\,ds + f(t,x),\n",
    "\\\\\n",
    "u_x(t,x) &= \\frac{a'(x+t)+a'(x-t)}{2} +\n",
    "\\frac{b(x+t)-b(x-t)}{2} \n",
    "\\\\ &+ \n",
    "\\int_0^t\\frac{f(s,x+(t-s))-f(s,x-(t-s))}{2}\\,ds,\n",
    "\\\\\n",
    "u_{xx}(t,x) &= \\frac{a''(x+t)+a''(x-t)}{2} +\n",
    "\\frac{b'(x+t)-b'(x-t)}{2} \n",
    "\\\\ &+ \n",
    "\\int_0^t\\frac{f'(s,x+(t-s))-f'(s,x-(t-s))}{2}\\,ds.\n",
    "\\end{aligned}\n",
    "$$\n",
    "\n",
    "ゆえに $u_{tt}(t,x) = u_{xx}(t,x) + f(t,x)$."
   ]
  },
  {
   "cell_type": "code",
   "execution_count": 21,
   "metadata": {},
   "outputs": [
    {
     "data": {
      "text/html": [
       "<style>\n",
       "\t\t\t\t\t\t\t\t\t\t\t.grid-container {\n",
       "\t\t\t\t\t\t\t\t\t\t\t\tdisplay: inline-grid;\n",
       "\t\t\t\t\t\t\t\t\t\t\t\tgrid-template-columns: auto auto;\n",
       "\t\t\t\t\t\t\t\t\t\t\t}\n",
       "\t\t\t\t\t\t\t\t\t\t</style>\n",
       "\n",
       "\t\t\t\t\t\t\t\t\t\t<div><div class=\"grid-container\"><div class=\"grid-item\">\n",
       "\t\t\t\t\t\t\t\t\t\t\t\t\t<div class=\"prompt output_prompt\" style=\"text-align:left;padding:0em;padding-right:20px;line-height:20px;\">\n",
       "\t\t\t\t\t\t\t\t\t\t\t\t\t\tOut[21]:\n",
       "\t\t\t\t\t\t\t\t\t\t\t\t\t</div>\n",
       "\t\t\t\t\t\t\t\t\t\t\t\t</div>\n",
       "\t\t\t\t\t\t\t\t\t\t\t\t<div class=\"grid-item\"><img alt=\"Output\" src=\"data:image/png;base64,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\"></div><div class=\"grid-item\">\n",
       "\t\t\t\t\t\t\t\t\t\t\t\t\t<div class=\"prompt output_prompt\" style=\"text-align:left;padding:0em;padding-right:20px;line-height:20px;\">\n",
       "\t\t\t\t\t\t\t\t\t\t\t\t\t\tOut[22]:\n",
       "\t\t\t\t\t\t\t\t\t\t\t\t\t</div>\n",
       "\t\t\t\t\t\t\t\t\t\t\t\t</div>\n",
       "\t\t\t\t\t\t\t\t\t\t\t\t<div class=\"grid-item\"><img alt=\"Output\" src=\"data:image/png;base64,iVBORw0KGgoAAAANSUhEUgAAAB4AAAAPCAIAAAB82OjLAAAAhXpUWHRSYXcgcHJvZmlsZSB0eXBlIGV4aWYAAHjaVYvBDcMwDAP/mqIjyLJM2uMYiQNkg45fuu0n9yApgbT1vi97felp2dgxABc5csRU6P6juNciDXn+X9MfZGWgoRhTluEkhnJXkqKFN+LCAahYcIbnIV8gNQN3o86928QyPusLVffpbh/5eCey76LuBgAAAAlwSFlzAAALEwAACxMBAJqcGAAAADx0RVh0U29mdHdhcmUAQ3JlYXRlZCB3aXRoIHRoZSBXb2xmcmFtIExhbmd1YWdlIDogd3d3LndvbGZyYW0uY29tXKKmhQAAACF0RVh0Q3JlYXRpb24gVGltZQAyMDE5OjA1OjI4IDE4OjA2OjQ5evRZfAAAAMlJREFUOI3dlL0RAiEQhR/U4jWBFUgBlgCh9mGyhoaXXmS0VHBWQCT2gsH9Mjpw4wyJL1vmze7HmwURY0QdyUp9/7a1s0IIsb++fvDFvJi54FibicJSyXniIOvKcJPH2fx9krGBFEyC+UnNBjAcIxuoNeRX6gW7OT8KmQKHWyCvhdDg/rTLGCXgrPbjtECq2BoAoFTZKPF6+qlwlw3Uzjbdse1b8rqwOGN6AwuRyWfNBnPCgRTSuNOsKy9fVne9/cnobn0kYrWf7w2Fc3aD6lGC3wAAAABJRU5ErkJggg==\"></div><div class=\"grid-item\">\n",
       "\t\t\t\t\t\t\t\t\t\t\t\t\t<div class=\"prompt output_prompt\" style=\"text-align:left;padding:0em;padding-right:20px;line-height:20px;\">\n",
       "\t\t\t\t\t\t\t\t\t\t\t\t\t\tOut[23]:\n",
       "\t\t\t\t\t\t\t\t\t\t\t\t\t</div>\n",
       "\t\t\t\t\t\t\t\t\t\t\t\t</div>\n",
       "\t\t\t\t\t\t\t\t\t\t\t\t<div class=\"grid-item\"><img alt=\"Output\" src=\"data:image/png;base64,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\"></div><div class=\"grid-item\">\n",
       "\t\t\t\t\t\t\t\t\t\t\t\t\t<div class=\"prompt output_prompt\" style=\"text-align:left;padding:0em;padding-right:20px;line-height:20px;\">\n",
       "\t\t\t\t\t\t\t\t\t\t\t\t\t\tOut[24]:\n",
       "\t\t\t\t\t\t\t\t\t\t\t\t\t</div>\n",
       "\t\t\t\t\t\t\t\t\t\t\t\t</div>\n",
       "\t\t\t\t\t\t\t\t\t\t\t\t<div class=\"grid-item\"><img alt=\"Output\" src=\"data:image/png;base64,iVBORw0KGgoAAAANSUhEUgAAAB4AAAAPCAIAAAB82OjLAAAAhXpUWHRSYXcgcHJvZmlsZSB0eXBlIGV4aWYAAHjaVYvBDcMwDAP/mqIjyLJM2uMYiQNkg45fuu0n9yApgbT1vi97felp2dgxABc5csRU6P6juNciDXn+X9MfZGWgoRhTluEkhnJXkqKFN+LCAahYcIbnIV8gNQN3o86928QyPusLVffpbh/5eCey76LuBgAAAAlwSFlzAAALEwAACxMBAJqcGAAAADx0RVh0U29mdHdhcmUAQ3JlYXRlZCB3aXRoIHRoZSBXb2xmcmFtIExhbmd1YWdlIDogd3d3LndvbGZyYW0uY29tXKKmhQAAACF0RVh0Q3JlYXRpb24gVGltZQAyMDE5OjA1OjI4IDE4OjA2OjQ5evRZfAAAANtJREFUOI21lD0SwiAQhXc9S7wEniDYWOUIUOo9bLBMmTaV1XKCeALHBu/yLGLMjw6oM7xy5+OxvAUYAOXRKpNvdmtv2fo81lF5y8y8Od1/55KB7ARAty8SWFkDkGpaGqz7XZP9ecv8is/bOA+IISIjABCcIuUCRokI5hLT02IWKCBuWui7NlKXRETFtlKXW0gcPbirZtYk8Zz+vHxKqSQzt/bHw8XsyugKb9dt1XSNu+rEYJ5ZD90s0ltmLWZkglOLBfOsCXG9jzEGfxhjRGf9/ZPR7bTEyPbzPQAZBh3BWfzimwAAAABJRU5ErkJggg==\"></div><div class=\"grid-item\">\n",
       "\t\t\t\t\t\t\t\t\t\t\t\t\t<div class=\"prompt output_prompt\" style=\"text-align:left;padding:0em;padding-right:20px;line-height:20px;\">\n",
       "\t\t\t\t\t\t\t\t\t\t\t\t\t\tOut[25]:\n",
       "\t\t\t\t\t\t\t\t\t\t\t\t\t</div>\n",
       "\t\t\t\t\t\t\t\t\t\t\t\t</div>\n",
       "\t\t\t\t\t\t\t\t\t\t\t\t<div class=\"grid-item\"><img alt=\"Output\" src=\"data:image/png;base64,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\"></div><div class=\"grid-item\">\n",
       "\t\t\t\t\t\t\t\t\t\t\t\t\t<div class=\"prompt output_prompt\" style=\"text-align:left;padding:0em;padding-right:20px;line-height:20px;\">\n",
       "\t\t\t\t\t\t\t\t\t\t\t\t\t\tOut[26]:\n",
       "\t\t\t\t\t\t\t\t\t\t\t\t\t</div>\n",
       "\t\t\t\t\t\t\t\t\t\t\t\t</div>\n",
       "\t\t\t\t\t\t\t\t\t\t\t\t<div class=\"grid-item\"><img alt=\"Output\" src=\"data:image/png;base64,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\"></div><div class=\"grid-item\">\n",
       "\t\t\t\t\t\t\t\t\t\t\t\t\t<div class=\"prompt output_prompt\" style=\"text-align:left;padding:0em;padding-right:20px;line-height:20px;\">\n",
       "\t\t\t\t\t\t\t\t\t\t\t\t\t\tOut[27]:\n",
       "\t\t\t\t\t\t\t\t\t\t\t\t\t</div>\n",
       "\t\t\t\t\t\t\t\t\t\t\t\t</div>\n",
       "\t\t\t\t\t\t\t\t\t\t\t\t<div class=\"grid-item\"><img alt=\"Output\" src=\"data:image/png;base64,iVBORw0KGgoAAAANSUhEUgAAAAcAAAAPCAIAAACnY0LpAAAAhXpUWHRSYXcgcHJvZmlsZSB0eXBlIGV4aWYAAHjaVYvBDcMwDAP/mqIjyLJM2uMYiQNkg45fuu0n9yApgbT1vi97felp2dgxABc5csRU6P6juNciDXn+X9MfZGWgoRhTluEkhnJXkqKFN+LCAahYcIbnIV8gNQN3o86928QyPusLVffpbh/5eCey76LuBgAAAAlwSFlzAAALEwAACxMBAJqcGAAAADx0RVh0U29mdHdhcmUAQ3JlYXRlZCB3aXRoIHRoZSBXb2xmcmFtIExhbmd1YWdlIDogd3d3LndvbGZyYW0uY29tXKKmhQAAACF0RVh0Q3JlYXRpb24gVGltZQAyMDE5OjA1OjI4IDE4OjA2OjUwGjPQmQAAAHpJREFUGJWlkLENg0AQBOeoxRC5AujABVDCEdLK04YLOCpwB0TwvayDN0YWGd5sR7obaU0Sp1RndIXmqbOSbsoASOHgIUnaUouHhMJp0/aF4KEqrwv35gbzYPWzT86y5o9tHuxB6DU2pSscfn54qNh2uIs5LBw39vcOb/BnVrg4y0B+AAAAAElFTkSuQmCC\"></div></div></div>"
      ]
     },
     "execution_count": 21,
     "metadata": {
      "text/html": []
     },
     "output_type": "execute_result"
    }
   ],
   "source": [
    "u = (a[x+t]+a[x-t])/2 + (1/2) Integrate[b[y],{y,x-t,x+t}] + (1/2) Integrate[Integrate[f[s,y],{y,x-(t-s),x+(t-s)}],{s,0,t}]\n",
    "u/.t->0\n",
    "D[u,t]\n",
    "D[u,t]/.t->0\n",
    "A = D[u,t,t]\n",
    "B = D[u,x,x]\n",
    "Simplify[A - B - f[t,x]]"
   ]
  },
  {
   "cell_type": "markdown",
   "metadata": {},
   "source": [
    "それでは天下りに与えた解の表示($*$)はどのようにして発見できるであろうか?\n",
    "\n",
    "非斉次な波動方程式を $x$ についてFourier変換すれば前節の非斉次な調和振動子に帰着し, 逆Fourier変換でもとに戻せば解の表示($*$)が得られる. 以下の節では実際にそれを実行してみよう."
   ]
  },
  {
   "cell_type": "markdown",
   "metadata": {},
   "source": [
    "### Fourier変換に関する公式\n",
    "\n",
    "その絶対値およびその導函数の絶対値などが $|x|\\to\\infty$ で十分速く減少する函数 $f(x)$ について\n",
    "\n",
    "$$\n",
    "\\mathscr{F}[f](\\omega) = \\hat{f}(\\omega) = \\int_{-\\infty}^\\infty e^{-i\\omega x}f(x)\\,dx\n",
    "$$\n",
    "\n",
    "でFourier変換 $\\hat{f}(\\omega)$ を定義すると, 逆変換によって $\\hat{f}(\\omega)$ から $f(x)$ が得られる:\n",
    "\n",
    "$$\n",
    "f(x) = \\frac{1}{2\\pi}\\int_{-\\infty}^\\infty e^{i\\omega x}\\hat{f}(\\omega)\\,d\\omega.\n",
    "$$\n",
    "\n",
    "部分積分によって, \n",
    "\n",
    "$$\n",
    "\\mathscr{F}[f'](\\omega) = \n",
    "\\int_{-\\infty}^\\infty e^{-i\\omega x}f'(x)\\,dx = -\n",
    "\\int_{-\\infty}^\\infty (e^{-i\\omega x})' f(x)\\,dx = i\\omega\\hat{f}(\\omega).\n",
    "$$\n",
    "\n",
    "ゆえに\n",
    "\n",
    "$$\n",
    "\\mathscr{F}[f''](\\omega) = -\\omega^2\\hat{f}(\\omega).\n",
    "\\tag{1}\n",
    "$$\n",
    "\n",
    "簡単のため $t>0$ とする.  $f(x)$ が\n",
    "\n",
    "$$\n",
    "f(x) = \\frac{1}{2}\\chi_{[-t,t]}(x) =\n",
    "\\begin{cases}\n",
    "1/2 & (-t\\leqq x\\leqq t) \\\\\n",
    "0 & (\\text{otherwise})\n",
    "\\end{cases}\n",
    "$$\n",
    "\n",
    "のとき, \n",
    "\n",
    "$$\n",
    "\\hat{f}(\\omega) = \\frac{1}{2}\\int_{-t}^t e^{-i\\omega x}\\,dx = \\frac{\\sin(\\omega t)}{\\omega}\n",
    "$$\n",
    "\n",
    "なので\n",
    "\n",
    "$$\n",
    "\\frac{1}{2}\\chi_{[-t,t]}(x) =\n",
    "\\frac{1}{2\\pi}\\int_{-\\infty}^\\infty e^{i\\omega x}\\frac{\\sin(\\omega t)}{\\omega}\\,d\\omega.\n",
    "$$\n",
    "\n",
    "これの両辺の $x$ に $x-y$ を代入し, $f(y)$ をかけて $y$ について積分すると, \n",
    "\n",
    "$$\n",
    "\\frac{1}{2}\\int_{x-t}^{x+t} f(y)\\,dy =\n",
    "\\frac{1}{2\\pi}\\int_{-\\infty}^\\infty e^{i\\omega x}\\frac{\\sin(\\omega t)}{\\omega}\\hat{f}(\\omega)\\,d\\omega.\n",
    "\\tag{2}\n",
    "$$\n",
    "\n",
    "これの両辺を $t$ で微分すると\n",
    "\n",
    "$$\n",
    "\\frac{f(x+t)+f(x-t)}{2} = \n",
    "\\frac{1}{2\\pi}\\int_{-\\infty}^\\infty e^{i\\omega x}\\cos(\\omega t)\\hat{f}(\\omega)\\,d\\omega.\n",
    "\\tag{3}\n",
    "$$"
   ]
  },
  {
   "cell_type": "code",
   "execution_count": 28,
   "metadata": {},
   "outputs": [
    {
     "data": {
      "text/html": [
       "<div><img alt=\"Output\" src=\"data:image/png;base64,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\"></div>"
      ]
     },
     "execution_count": 28,
     "metadata": {
      "text/html": []
     },
     "output_type": "execute_result"
    }
   ],
   "source": [
    "Plot[(HeavisidePi[x/(2t)]/2)/.t->-2, {x,-4,4}, Exclusions->None]"
   ]
  },
  {
   "cell_type": "code",
   "execution_count": 29,
   "metadata": {},
   "outputs": [
    {
     "data": {
      "text/html": [
       "<div><img alt=\"Output\" src=\"data:image/png;base64,iVBORw0KGgoAAAANSUhEUgAAAIgAAAAPCAIAAACwbRBlAAAAhXpUWHRSYXcgcHJvZmlsZSB0eXBlIGV4aWYAAHjaVYvBDcMwDAP/mqIjyLJM2uMYiQNkg45fuu0n9yApgbT1vi97felp2dgxABc5csRU6P6juNciDXn+X9MfZGWgoRhTluEkhnJXkqKFN+LCAahYcIbnIV8gNQN3o86928QyPusLVffpbh/5eCey76LuBgAAAAlwSFlzAAALEwAACxMBAJqcGAAAADx0RVh0U29mdHdhcmUAQ3JlYXRlZCB3aXRoIHRoZSBXb2xmcmFtIExhbmd1YWdlIDogd3d3LndvbGZyYW0uY29tXKKmhQAAACF0RVh0Q3JlYXRpb24gVGltZQAyMDE5OjA1OjI4IDE4OjA2OjUwGjPQmQAAArVJREFUWIXtVj124yAQHnwWaQu/nACdQHbjSkdApd1sl9JdGiijbltVagwniE6gl8LiLrMFSAYZWbJjZ/3e5qt4MMx8zC8EEeEHz4fFvybwgzB+AvOkGAuMykmuvpXJFLRIyLNxeiC6wKicEJIIfbsmlZOhCi2Sc1cG5DxokZAO943DlOVvwVyf2MCoquGSQ3n4AumNRMSPbTQhlr4joszCh1okcZm1aPGeno6i7Ye/8TCG34+AT0xgVNVk63SdDSJjAumG0knny5mnRUJIvKuhWM0Rn0BHxM01lZNcdHRc7b3wdMU5zzGiWiSJEKZ7iNxRcSY5sNRzcPcG5q/zCSKiZJS3iNhyahaIkgEAk2h2wW5LZvcCkPLspOV0RF5y3ob2zR2AzuAFbQ5DybqVu5xi6LyrX7ecAjCJkgFQ3nYOcd8tmb3VL7zl1Ovn+mQBoMW+ePkVAUDk1QyTpnFE64zWny0AQLykxeqxIzjafiBim5XxdJl1DOMltTuqKij/Pavf6UNZs1fb16LtK7NvBLZJAQBotu56nj42fZaTVXFZb18y8a6ew2MEC9CHsi+ueFfXl+aM8RpuqvtP5oAhyerd2zN8w9rP2isIM6bSDat3sQlWw/+YEKt81ThVeDsW+lDWTmm15z8A9barbRZZpO/YclpUU06Lfr1Ac7x1tuhjA3QZX3UnXtK5wYzWGS32tiS12BfjttJNIEW02Dd9tLofhT423bl6C1bMbJ8MW55t0pKdRPps8XJg2CgDM8a94ffgsRnjmj2ZGOYek+j1fa9vu8I+x3OGJ3OWXqfJDo3T0HW1enN4aKvfpJyHJ/I8n0DIPTchGJhR4dHh/0BcxXBam/fNCI7/KxUOh/+9UK1m/YpVTghZlfezOx8zGd4AVRVgPlC3XQ/45EtB/q/hNdivlssZ/gL/4XzwGHgkqAAAAABJRU5ErkJggg==\"></div>"
      ]
     },
     "execution_count": 29,
     "metadata": {
      "text/html": []
     },
     "output_type": "execute_result"
    }
   ],
   "source": [
    "Sqrt[2 Pi] FourierTransform[HeavisidePi[x/(2t)]/2, x, omega]"
   ]
  },
  {
   "cell_type": "code",
   "execution_count": 30,
   "metadata": {},
   "outputs": [
    {
     "data": {
      "text/html": [
       "<style>\n",
       "\t\t\t\t\t\t\t\t\t\t\t.grid-container {\n",
       "\t\t\t\t\t\t\t\t\t\t\t\tdisplay: inline-grid;\n",
       "\t\t\t\t\t\t\t\t\t\t\t\tgrid-template-columns: auto auto;\n",
       "\t\t\t\t\t\t\t\t\t\t\t}\n",
       "\t\t\t\t\t\t\t\t\t\t</style>\n",
       "\n",
       "\t\t\t\t\t\t\t\t\t\t<div><div class=\"grid-container\"><div class=\"grid-item\">\n",
       "\t\t\t\t\t\t\t\t\t\t\t\t\t<div class=\"prompt output_prompt\" style=\"text-align:left;padding:0em;padding-right:20px;line-height:20px;\">\n",
       "\t\t\t\t\t\t\t\t\t\t\t\t\t\tOut[30]:\n",
       "\t\t\t\t\t\t\t\t\t\t\t\t\t</div>\n",
       "\t\t\t\t\t\t\t\t\t\t\t\t</div>\n",
       "\t\t\t\t\t\t\t\t\t\t\t\t<div class=\"grid-item\"><img alt=\"Output\" src=\"data:image/png;base64,iVBORw0KGgoAAAANSUhEUgAAAOIAAAAhCAIAAABLDuCaAAAAhXpUWHRSYXcgcHJvZmlsZSB0eXBlIGV4aWYAAHjaVYvBDcMwDAP/mqIjyLJM2uMYiQNkg45fuu0n9yApgbT1vi97felp2dgxABc5csRU6P6juNciDXn+X9MfZGWgoRhTluEkhnJXkqKFN+LCAahYcIbnIV8gNQN3o86928QyPusLVffpbh/5eCey76LuBgAAAAlwSFlzAAALEwAACxMBAJqcGAAAADx0RVh0U29mdHdhcmUAQ3JlYXRlZCB3aXRoIHRoZSBXb2xmcmFtIExhbmd1YWdlIDogd3d3LndvbGZyYW0uY29tXKKmhQAAACF0RVh0Q3JlYXRpb24gVGltZQAyMDE5OjA1OjI4IDE4OjA2OjUwGjPQmQAAA+lJREFUeJztmz+WqjAUxm/emQXMIsDCwwpwBWBjZfs6UkJj94op7F4TSu1sqWhMViAr4LxC2EteASgoyP9RnPtrxgmQfLl+yU08hEgpAUFem18PrwpKqPgmJf2I3QWZitZxeOsIFG0qKCFk4cbd6xOU3FYRu4v78JXcV11j7unYXZCMYb+TpsqHb6Yd7xqB2F1Ut1SwqfBDxhl4xx4+XXEp5clWam4zdlJKvq6tLnb9ebQzsn8WqreOZEpWDACg2KdiQXsaKu9J046X88YRUOzTyq8yat6mwg/XS2O5vvFp4v68/3MD+vG0ELsLQlQngL3Z5PaSCo6wqg1bJrA47i+l14YFJdTNtI+rXNCcHkHbPi/cdrc/MQJVUjtEwNjMzxU+lRe4pbNIShkxPfkgJbcAwOIyKYW0mFtpWQmc312JmF5xP2csKivPPcr4TYEOAJmQB61wC3KduArPusMtuBHVSnkTsiZyUi6X6jpefcPLReBBX9pH4O4LT7nMprG73WszBQCUwnxq8SSRKMu1HvyLAADUub43v2W5HgGohQLFPkkpo7WndlzgZd1R53o/acWpqkyLsYtYaBJiAh8wkb5OBOppHwFlBueyLmU2jY/eZXpXnSB4tD5NIiVX/vCr+GYo9klKbgXO38rGjZUVOCohhBAzZIfh11vGrjDcq74GXW9nhtT9ppOIr/LhK0SgodS2ESgltWl89ILc5B7d76PEXyewVvkVurGTEdP3fp1PlZkGYekYqUUFiCouxecQ9LladdXdhpes0nku66EcAARVvfXhdGCh2XzWS92f5cRH0p8dgXqp7SMQn2FWJjWxaXz0Ch5UZlo2ULMFtBmydMed20CpjsbrN5fGhkE6rltmqZsckE+0qqOlmSTRc13sUwGg2H+0tMn7rUVzuisXNJvDFPvAwFF7/cyXr/atI3C3ysuoWP12pWQZ/uDmup2ElNzqtIcp7g9KlvAlj7RR3pMGHe/dxAQjULWBym2hhsI3Gw08QQkhpldbnbGZb/tORMLfg1aaSwo0VN6Tph0fttEpREDQ37CsSs0jj5pnkf5uk1A/kbwhbxUBIvHVE+TlGTzpI8jwoE2RCYA2RSbAR/Ln6+vrqTIQ5BbHcT4/P5PPuIVCJgAmfWQCoE2RCYA2RSYA2hSZAGjTviSvJ5W9gDTGebcfCtq0H4KqnmaN/h78Twdt2gdBzZAdNvO7C73PKiIF0KbdSUxa+mK8Yp+K591GP1b83nw8W8BkEdQELm0FAOfJ0cHZtBuxu93njjjC3sTEPiJo026kp2ullNfkfpvY+534Q3KgTUek+3k3pAi+eoJMAJxNkQnwH9jLrXXFERCpAAAAAElFTkSuQmCC\"></div><div class=\"grid-item\">\n",
       "\t\t\t\t\t\t\t\t\t\t\t\t\t<div class=\"prompt output_prompt\" style=\"text-align:left;padding:0em;padding-right:20px;line-height:20px;\">\n",
       "\t\t\t\t\t\t\t\t\t\t\t\t\t\tOut[31]:\n",
       "\t\t\t\t\t\t\t\t\t\t\t\t\t</div>\n",
       "\t\t\t\t\t\t\t\t\t\t\t\t</div>\n",
       "\t\t\t\t\t\t\t\t\t\t\t\t<div class=\"grid-item\"><img alt=\"Output\" src=\"data:image/png;base64,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\"></div></div></div>"
      ]
     },
     "execution_count": 30,
     "metadata": {
      "text/html": []
     },
     "output_type": "execute_result"
    }
   ],
   "source": [
    "F = 1/Sqrt[2 Pi] InverseFourierTransform[Abs[t] Sinc[omega t], omega, x]\n",
    "Plot[F/.t->-2, {x,-4,4}]"
   ]
  },
  {
   "cell_type": "markdown",
   "metadata": {},
   "source": [
    "### 非斉次な波動方程式のFourier変換による解法\n",
    "\n",
    "非斉次な波動方程式の初期値問題\n",
    "\n",
    "$$\n",
    "u_{tt}(t,x) = u_{xx}(t,x) + f(t,x), \\quad u(0,x)=a(x), \\quad u_t(0,x)=b(x)\n",
    "$$\n",
    "\n",
    "は(1)より\n",
    "\n",
    "$$\n",
    "\\hat{u}_{tt}(t,\\omega) = -\\omega^2\\hat{u}_{xx}(t,\\omega) + \\hat{f}(t,\\omega),\n",
    "\\quad \\hat{u}(t,\\omega)=\\hat{a}(\\omega), \\quad \\hat{u}_t(0,x)=\\hat{b}(\\omega).\n",
    "$$\n",
    "\n",
    "と書き直される. これは非斉次な調和振動子である. ゆえに次のように解ける:\n",
    "\n",
    "$$\n",
    "\\hat{u}(t,\\omega) = \n",
    "\\hat{a}(\\omega)\\cos(\\omega t) +\n",
    "\\hat{b}(\\omega)\\frac{\\sin(\\omega t)}{\\omega} +\n",
    "\\int_0^t \\frac{\\sin(\\omega(t-s))}{\\omega}\\hat{f}(s,\\omega)\\,ds.\n",
    "$$\n",
    "\n",
    "この等式の両辺に $e^{i\\omega x}$ をかけて $\\omega$ について積分して $2\\pi$ で割ると, (2),(3)より,\n",
    "\n",
    "$$\n",
    "u(t,x) =\n",
    "\\frac{a(x+t)+a(x-t)}{2} +\n",
    "\\frac{1}{2}\\int_{x-t}^{x+t} b(y)\\, dy +\n",
    "\\frac{1}{2}\\int_0^t ds\\int_{x-(t-s)}^{x+(t-s)} f(s,y)\\,dy.\n",
    "$$\n",
    "\n",
    "これが欲しい解の表示であった. \n",
    "\n",
    "特に斉次の場合の通常の波動方程式の初期値問題の解は\n",
    "\n",
    "$$\n",
    "u(t,x) =\n",
    "\\frac{a(x+t)+a(x-t)}{2} +\n",
    "\\frac{1}{2}\\int_{x-t}^{x+t} b(y)\\, dy\n",
    "$$\n",
    "\n",
    "と書ける. これは $B(x)=\\int b(x)\\,dx$, $f(x)=(a(x)+B(x))/2$, $g(x)=(a(x)-B(x))/2$ とおくと, \n",
    "\n",
    "$$\n",
    "u(t,x) = f(x+t) + g(x-t)\n",
    "$$\n",
    "\n",
    "と書き直される. これが $u_{tt}=u_{xx}$ を満たしていることを確認することは易しい."
   ]
  },
  {
   "cell_type": "code",
   "execution_count": null,
   "metadata": {},
   "outputs": [],
   "source": []
  }
 ],
 "metadata": {
  "@webio": {
   "lastCommId": null,
   "lastKernelId": null
  },
  "_draft": {
   "nbviewer_url": "https://gist.github.com/cc4bb2fbd82f65f3609b5417f6efbdac"
  },
  "gist": {
   "data": {
    "description": "08-1 Linear inhomogeneous ODEs with constant coefficients.ipynb",
    "public": true
   },
   "id": "cc4bb2fbd82f65f3609b5417f6efbdac"
  },
  "kernelspec": {
   "display_name": "Wolfram Language 12",
   "language": "Wolfram Language",
   "name": "wolframlanguage12"
  },
  "language_info": {
   "codemirror_mode": "python",
   "file_extension": ".m",
   "mimetype": "application/vnd.wolfram.m",
   "name": "Wolfram Language",
   "pygments_lexer": "python",
   "version": "12.0"
  },
  "toc": {
   "nav_menu": {},
   "number_sections": true,
   "sideBar": true,
   "skip_h1_title": true,
   "title_cell": "目次",
   "title_sidebar": "目次",
   "toc_cell": true,
   "toc_position": {},
   "toc_section_display": true,
   "toc_window_display": false
  }
 },
 "nbformat": 4,
 "nbformat_minor": 2
}
