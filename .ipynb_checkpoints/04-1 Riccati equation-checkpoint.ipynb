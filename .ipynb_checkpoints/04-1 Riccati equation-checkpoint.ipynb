{
 "cells": [
  {
   "cell_type": "markdown",
   "metadata": {},
   "source": [
    "# Riccati方程式について\n",
    "\n",
    "* Author: 黒木玄\n",
    "* Date: 2019-05-31\n",
    "* Repository: https://github.com/genkuroki/DifferentialEquations\n",
    "$\n",
    "\\newcommand\\ds{\\displaystyle}\n",
    "\\newcommand\\Z{{\\mathbb Z}}\n",
    "\\newcommand\\R{{\\mathbb R}}\n",
    "\\newcommand\\C{{\\mathbb C}}\n",
    "\\newcommand\\eps{\\varepsilon}\n",
    "\\newcommand\\QED{\\text{□}}\n",
    "\\newcommand\\d{\\partial}\n",
    "\\newcommand\\real{\\operatorname{Re}}\n",
    "\\newcommand\\imag{\\operatorname{Im}}\n",
    "\\newcommand\\tr{\\operatorname{tr}}\n",
    "$\n",
    "\n",
    "このファイルは [nbviewer](https://nbviewer.jupyter.org/github/genkuroki/DifferentialEquations/blob/master/08-1%20Linear%20inhomogeneous%20ODEs%20with%20constant%20coefficients.ipynb) でも閲覧できる.\n",
    "\n",
    "[Julia言語](https://julialang.org/) と [Jupyter環境](https://jupyter.org/) の簡単な解説については次を参照せよ:\n",
    "\n",
    "* [JuliaとJupyterのすすめ](https://nbviewer.jupyter.org/github/genkuroki/msfd28/blob/master/msfd28genkuroki.ipynb?flush_cached=true)\n",
    "\n",
    "[Julia言語](https://julialang.org/) 環境の整備の仕方については次を参照せよ:\n",
    "\n",
    "* [Julia v1.1.0 の Windows 8.1 へのインストール](https://nbviewer.jupyter.org/github/genkuroki/msfd28/blob/master/install.ipynb)\n",
    "\n",
    "[Wolfram言語](http://www.wolfram.com/language/fast-introduction-for-programmers/ja/) 環境の整備の仕方については次を参照せよ:\n",
    "\n",
    "* [Free Wolfram EngineをJupyterで使う方法](https://nbviewer.jupyter.org/github/genkuroki/msfd28/blob/master/Free%20Wolfram%20Engine.ipynb)\n",
    "\n",
    "**注意:** このノートブックの出力結果は\n",
    "\n",
    "* https://gist.github.com/genkuroki/89466deb696fd09889f8d3aad296aef0\n",
    "\n",
    "においてある修正を [OutputHandlingUtilities.wl の toOutText 函数](https://github.com/WolframResearch/WolframLanguageForJupyter/blob/master/WolframLanguageForJupyter/Resources/OutputHandlingUtilities.wl#L123-L136) に施した場合にのみ得られる出力である. `<pre>`～`</pre>` で囲んである部分を `$$`～`$$` で囲むように修正している."
   ]
  },
  {
   "cell_type": "code",
   "execution_count": 1,
   "metadata": {},
   "outputs": [
    {
     "data": {
      "text/html": [
       "<style>\n",
       "\t\t\t\t\t\t\t\t\t\t\t.grid-container {\n",
       "\t\t\t\t\t\t\t\t\t\t\t\tdisplay: inline-grid;\n",
       "\t\t\t\t\t\t\t\t\t\t\t\tgrid-template-columns: auto auto;\n",
       "\t\t\t\t\t\t\t\t\t\t\t}\n",
       "\t\t\t\t\t\t\t\t\t\t</style>\n",
       "\n",
       "\t\t\t\t\t\t\t\t\t\t<div><div class=\"grid-container\"><div class=\"grid-item\">\n",
       "\t\t\t\t\t\t\t\t\t\t\t\t\t<div class=\"prompt output_prompt\" style=\"text-align:left;padding:0em;padding-right:20px;line-height:20px;\">\n",
       "\t\t\t\t\t\t\t\t\t\t\t\t\t\tOut[2]:\n",
       "\t\t\t\t\t\t\t\t\t\t\t\t\t</div>\n",
       "\t\t\t\t\t\t\t\t\t\t\t\t</div>\n",
       "\t\t\t\t\t\t\t\t\t\t\t\t<div class=\"grid-item\">$$&#84;&#101;&#88;$$</div><div class=\"grid-item\">\n",
       "\t\t\t\t\t\t\t\t\t\t\t\t\t<div class=\"prompt output_prompt\" style=\"text-align:left;padding:0em;padding-right:20px;line-height:20px;\">\n",
       "\t\t\t\t\t\t\t\t\t\t\t\t\t\tOut[3]:\n",
       "\t\t\t\t\t\t\t\t\t\t\t\t\t</div>\n",
       "\t\t\t\t\t\t\t\t\t\t\t\t</div>\n",
       "\t\t\t\t\t\t\t\t\t\t\t\t<div class=\"grid-item\">$$&#56;&#56;$$</div></div></div>"
      ]
     },
     "execution_count": 2,
     "metadata": {
      "text/html": []
     },
     "output_type": "execute_result"
    }
   ],
   "source": [
    "TeX[expr_] := ToString[TeXForm[expr]]\n",
    "JupyterOutTextForm = \"TeX\"\n",
    "JupyterImageResolution = 88"
   ]
  },
  {
   "cell_type": "markdown",
   "metadata": {
    "toc": true
   },
   "source": [
    "<h1>目次<span class=\"tocSkip\"></span></h1>\n",
    "<div class=\"toc\"><ul class=\"toc-item\"><li><span><a href=\"#2階の線形常微分方程式について\" data-toc-modified-id=\"2階の線形常微分方程式について-1\"><span class=\"toc-item-num\">1&nbsp;&nbsp;</span>2階の線形常微分方程式について</a></span><ul class=\"toc-item\"><li><span><a href=\"#2階の線形常微分方程式の0でない解が1つ得られている場合\" data-toc-modified-id=\"2階の線形常微分方程式の0でない解が1つ得られている場合-1.1\"><span class=\"toc-item-num\">1.1&nbsp;&nbsp;</span>2階の線形常微分方程式の0でない解が1つ得られている場合</a></span></li><li><span><a href=\"#解から逆に線形常微分方程式を作れること\" data-toc-modified-id=\"解から逆に線形常微分方程式を作れること-1.2\"><span class=\"toc-item-num\">1.2&nbsp;&nbsp;</span>解から逆に線形常微分方程式を作れること</a></span></li></ul></li><li><span><a href=\"#Riccati方程式\" data-toc-modified-id=\"Riccati方程式-2\"><span class=\"toc-item-num\">2&nbsp;&nbsp;</span>Riccati方程式</a></span><ul class=\"toc-item\"><li><span><a href=\"#Riccati方程式の定義\" data-toc-modified-id=\"Riccati方程式の定義-2.1\"><span class=\"toc-item-num\">2.1&nbsp;&nbsp;</span>Riccati方程式の定義</a></span></li><li><span><a href=\"#Riccati方程式の数学的由来の1つが分かる補題\" data-toc-modified-id=\"Riccati方程式の数学的由来の1つが分かる補題-2.2\"><span class=\"toc-item-num\">2.2&nbsp;&nbsp;</span>Riccati方程式の数学的由来の1つが分かる補題</a></span></li><li><span><a href=\"#Riccati方程式に関する基本定理\" data-toc-modified-id=\"Riccati方程式に関する基本定理-2.3\"><span class=\"toc-item-num\">2.3&nbsp;&nbsp;</span>Riccati方程式に関する基本定理</a></span></li><li><span><a href=\"#Riccati方程式の解法\" data-toc-modified-id=\"Riccati方程式の解法-2.4\"><span class=\"toc-item-num\">2.4&nbsp;&nbsp;</span>Riccati方程式の解法</a></span><ul class=\"toc-item\"><li><span><a href=\"#$a=a(x)=1$-の場合のRiccati方程式の解法\" data-toc-modified-id=\"$a=a(x)=1$-の場合のRiccati方程式の解法-2.4.1\"><span class=\"toc-item-num\">2.4.1&nbsp;&nbsp;</span>$a=a(x)=1$ の場合のRiccati方程式の解法</a></span></li><li><span><a href=\"#一般の場合のRiccati方程式の解法\" data-toc-modified-id=\"一般の場合のRiccati方程式の解法-2.4.2\"><span class=\"toc-item-num\">2.4.2&nbsp;&nbsp;</span>一般の場合のRiccati方程式の解法</a></span></li><li><span><a href=\"#Riccati方程式の解が1つ分かっている場合\" data-toc-modified-id=\"Riccati方程式の解が1つ分かっている場合-2.4.3\"><span class=\"toc-item-num\">2.4.3&nbsp;&nbsp;</span>Riccati方程式の解が1つ分かっている場合</a></span></li></ul></li><li><span><a href=\"#Riccati方程式に定数解が存在する場合\" data-toc-modified-id=\"Riccati方程式に定数解が存在する場合-2.5\"><span class=\"toc-item-num\">2.5&nbsp;&nbsp;</span>Riccati方程式に定数解が存在する場合</a></span></li></ul></li></ul></div>"
   ]
  },
  {
   "cell_type": "markdown",
   "metadata": {},
   "source": [
    "## 2階の線形常微分方程式について\n",
    "\n",
    "$\\d = d/dx$ とおく."
   ]
  },
  {
   "cell_type": "markdown",
   "metadata": {},
   "source": [
    "### 2階の線形常微分方程式の0でない解が1つ得られている場合\n",
    "\n",
    "$f$ は $\\psi$ に関する2階の線形常微分方程式\n",
    "\n",
    "$$\n",
    "(\\d^2 + b\\d + c)\\psi = 0\n",
    "\\tag{$\\#$}\n",
    "$$\n",
    "\n",
    "の $0$ でない解であると仮定する. このとき, $\\psi=\\phi f$ を方程式に代入すると,\n",
    "\n",
    "$$\n",
    "\\begin{aligned}\n",
    "0 &= \n",
    "\\phi'' f + 2\\phi' f' + \\phi f'' + b\\phi' f + b\\phi f' + c\\phi f \n",
    "\\\\ &=\n",
    "\\phi'' f + 2\\phi' f' + b\\phi' f\n",
    "\\end{aligned}\n",
    "$$\n",
    "\n",
    "すなわち, \n",
    "\n",
    "$$\n",
    "\\phi'' = - \\left(b + \\frac{2f'}{f}\\right)\\phi'\n",
    "$$\n",
    "\n",
    "となるので, $\\phi'$ に関する1階の常微分方程式が得られる. これが満たされることと, $\\phi f$ が ($\\#$) の解になることは同値であり, \n",
    "\n",
    "$$\n",
    "\\phi' = \\exp\\left[-\\int\\left(b + \\frac{2f'}{f}\\right)\\,dx\\right] =\n",
    "\\frac{1}{f^2}e^{-\\int b\\,dx}\n",
    "$$\n",
    "\n",
    "と解ける. $\\phi$ はこれの不定積分になり, $\\phi f$ は ($\\#$) の解になる.\n",
    "\n",
    "この方法によって, 2階の線形常微分方程式の0でない解が1つ分かっている場合には, (少なくとも原理的には)もう1つの解を求めることができる."
   ]
  },
  {
   "cell_type": "code",
   "execution_count": 4,
   "metadata": {},
   "outputs": [
    {
     "data": {
      "text/html": [
       "<div>$$&#92;&#102;&#114;&#97;&#99;&#123;&#101;&#94;&#123;&#45;&#92;&#105;&#110;&#116;&#32;&#98;&#40;&#120;&#41;&#32;&#92;&#44;&#32;&#100;&#120;&#125;&#125;&#123;&#102;&#40;&#120;&#41;&#94;&#50;&#125;$$</div>"
      ]
     },
     "execution_count": 6,
     "metadata": {
      "text/html": []
     },
     "output_type": "execute_result"
    }
   ],
   "source": [
    "Clear[a,b,c,f,p,q,u,alpha,beta,dphi,phi,psi,L,R]\n",
    "dphi = (1/f[x]^2) Exp[-Integrate[b[x], x]];\n",
    "dphi // TeX"
   ]
  },
  {
   "cell_type": "code",
   "execution_count": 7,
   "metadata": {},
   "outputs": [
    {
     "data": {
      "text/html": [
       "<div>$$&#45;&#98;&#40;&#120;&#41;&#45;&#92;&#102;&#114;&#97;&#99;&#123;&#50;&#32;&#102;&#39;&#40;&#120;&#41;&#125;&#123;&#102;&#40;&#120;&#41;&#125;$$</div>"
      ]
     },
     "execution_count": 7,
     "metadata": {
      "text/html": []
     },
     "output_type": "execute_result"
    }
   ],
   "source": [
    "D[dphi, x]/dphi // Simplify // TeX"
   ]
  },
  {
   "cell_type": "code",
   "execution_count": 8,
   "metadata": {},
   "outputs": [
    {
     "data": {
      "text/html": [
       "<div>$$&#102;&#40;&#120;&#41;&#32;&#92;&#105;&#110;&#116;&#32;&#92;&#102;&#114;&#97;&#99;&#123;&#101;&#94;&#123;&#45;&#92;&#105;&#110;&#116;&#32;&#98;&#40;&#120;&#41;&#32;&#92;&#44;&#32;&#100;&#120;&#125;&#125;&#123;&#102;&#40;&#120;&#41;&#94;&#50;&#125;&#32;&#92;&#44;&#32;&#100;&#120;$$</div>"
      ]
     },
     "execution_count": 9,
     "metadata": {
      "text/html": []
     },
     "output_type": "execute_result"
    }
   ],
   "source": [
    "g = f[x] Integrate[dphi, x];\n",
    "g // TeX"
   ]
  },
  {
   "cell_type": "code",
   "execution_count": 10,
   "metadata": {},
   "outputs": [
    {
     "data": {
      "text/html": [
       "<div>$$&#92;&#108;&#101;&#102;&#116;&#40;&#92;&#105;&#110;&#116;&#32;&#92;&#102;&#114;&#97;&#99;&#123;&#101;&#94;&#123;&#45;&#92;&#105;&#110;&#116;&#32;&#98;&#40;&#120;&#41;&#32;&#92;&#44;&#32;&#100;&#120;&#125;&#125;&#123;&#102;&#40;&#120;&#41;&#94;&#50;&#125;&#32;&#92;&#44;&#32;&#100;&#120;&#92;&#114;&#105;&#103;&#104;&#116;&#41;&#32;&#92;&#108;&#101;&#102;&#116;&#40;&#98;&#40;&#120;&#41;&#32;&#102;&#39;&#40;&#120;&#41;&#43;&#99;&#40;&#120;&#41;&#32;&#102;&#40;&#120;&#41;&#43;&#102;&#39;&#39;&#40;&#120;&#41;&#92;&#114;&#105;&#103;&#104;&#116;&#41;$$</div>"
      ]
     },
     "execution_count": 11,
     "metadata": {
      "text/html": []
     },
     "output_type": "execute_result"
    }
   ],
   "source": [
    "eqg = D[g,x,x] + b[x] D[g,x] + c[x] g;\n",
    "Simplify[eqg] // TeX"
   ]
  },
  {
   "cell_type": "markdown",
   "metadata": {},
   "source": [
    "### 解から逆に線形常微分方程式を作れること\n",
    "\n",
    "函数 $f$ は $0$ ではなく, $f$ で割れると仮定する. このとき, \n",
    "\n",
    "$$\n",
    "\\left(\\d - \\frac{f'}{f}\\right)f = f' - \\frac{f'}{f}f = 0.\n",
    "$$\n",
    "\n",
    "すなわち, $f$ を解に持つ1階の線形常微分方程式\n",
    "\n",
    "$$\n",
    "\\left(\\d - \\frac{f'}{f}\\right)\\psi = 0\n",
    "$$\n",
    "\n",
    "を構成できた.\n",
    "\n",
    "この結果は次のように2階の線形常微分方程式に拡張される. 函数 $f,g$ のWrinskian\n",
    "\n",
    "$$\n",
    "\\begin{vmatrix}\n",
    "f  & g  \\\\\n",
    "f' & g' \\\\\n",
    "\\end{vmatrix}\n",
    "$$\n",
    "\n",
    "は $0$ ではなく, このWronskianで割れると仮定する. 定数 $\\alpha,\\beta$ に対して $\\psi=\\alpha f+\\beta g$ とおくと, $f,g,\\psi$ は一次従属なので至る所\n",
    "\n",
    "$$\n",
    "\\begin{vmatrix}\n",
    "f   & g   & \\psi \\\\\n",
    "f'  & g'  & \\psi' \\\\\n",
    "f'' & g'' & \\psi'' \\\\\n",
    "\\end{vmatrix} = 0\n",
    "$$\n",
    "\n",
    "を満たしている. これは\n",
    "\n",
    "$$\n",
    "\\begin{vmatrix}\n",
    "f   & g   & \\psi \\\\\n",
    "f'  & g'  & \\psi' \\\\\n",
    "f'' & g'' & \\psi'' \\\\\n",
    "\\end{vmatrix} =\n",
    "\\begin{vmatrix}\n",
    "f'  & g'  \\\\\n",
    "f'' & g'' \\\\\n",
    "\\end{vmatrix}\n",
    "\\psi -\n",
    "\\begin{vmatrix}\n",
    "f   & g \\\\\n",
    "f'' & g'' \\\\\n",
    "\\end{vmatrix}\n",
    "\\psi' +\n",
    "\\begin{vmatrix}\n",
    "f  & g \\\\\n",
    "f' & g' \\\\\n",
    "\\end{vmatrix}\n",
    "\\psi''\n",
    "$$\n",
    "\n",
    "であるから, \n",
    "\n",
    "$$\n",
    "b = - \\frac{\n",
    "\\begin{vmatrix}\n",
    "f   & g   \\\\\n",
    "f'' & g'' \\\\\n",
    "\\end{vmatrix}\n",
    "}{\n",
    "\\begin{vmatrix}\n",
    "f  & g  \\\\\n",
    "f' & g' \\\\\n",
    "\\end{vmatrix}\n",
    "},\n",
    "\\quad\n",
    "c = \\frac{\n",
    "\\begin{vmatrix}\n",
    "f'  & g'  \\\\\n",
    "f'' & g'' \\\\\n",
    "\\end{vmatrix}\n",
    "}{\n",
    "\\begin{vmatrix}\n",
    "f  & g  \\\\\n",
    "f' & g' \\\\\n",
    "\\end{vmatrix}\n",
    "}\n",
    "$$\n",
    "\n",
    "とおくと, \n",
    "\n",
    "$$\n",
    "(\\d^2 + b\\d + c)\\psi = 0\n",
    "$$\n",
    "\n",
    "を満たしていることを意味する. これで $f,g$ の一次結合を解に持つ2階の線形常微分方程式を構成できた.\n",
    "\n",
    "このように, 方程式から解を得ることだけではなく, 解から方程式を作ることができる."
   ]
  },
  {
   "cell_type": "code",
   "execution_count": 12,
   "metadata": {},
   "outputs": [
    {
     "data": {
      "text/html": [
       "<style>\n",
       "\t\t\t\t\t\t\t\t\t\t\t.grid-container {\n",
       "\t\t\t\t\t\t\t\t\t\t\t\tdisplay: inline-grid;\n",
       "\t\t\t\t\t\t\t\t\t\t\t\tgrid-template-columns: auto auto;\n",
       "\t\t\t\t\t\t\t\t\t\t\t}\n",
       "\t\t\t\t\t\t\t\t\t\t</style>\n",
       "\n",
       "\t\t\t\t\t\t\t\t\t\t<div><div class=\"grid-container\"><div class=\"grid-item\">\n",
       "\t\t\t\t\t\t\t\t\t\t\t\t\t<div class=\"prompt output_prompt\" style=\"text-align:left;padding:0em;padding-right:20px;line-height:20px;\">\n",
       "\t\t\t\t\t\t\t\t\t\t\t\t\t\tOut[16]:\n",
       "\t\t\t\t\t\t\t\t\t\t\t\t\t</div>\n",
       "\t\t\t\t\t\t\t\t\t\t\t\t</div>\n",
       "\t\t\t\t\t\t\t\t\t\t\t\t<div class=\"grid-item\">$$&#102;&#40;&#120;&#41;&#32;&#103;&#39;&#40;&#120;&#41;&#45;&#103;&#40;&#120;&#41;&#32;&#102;&#39;&#40;&#120;&#41;$$</div><div class=\"grid-item\">\n",
       "\t\t\t\t\t\t\t\t\t\t\t\t\t<div class=\"prompt output_prompt\" style=\"text-align:left;padding:0em;padding-right:20px;line-height:20px;\">\n",
       "\t\t\t\t\t\t\t\t\t\t\t\t\t\tOut[17]:\n",
       "\t\t\t\t\t\t\t\t\t\t\t\t\t</div>\n",
       "\t\t\t\t\t\t\t\t\t\t\t\t</div>\n",
       "\t\t\t\t\t\t\t\t\t\t\t\t<div class=\"grid-item\">$$&#45;&#92;&#102;&#114;&#97;&#99;&#123;&#102;&#40;&#120;&#41;&#32;&#103;&#39;&#39;&#40;&#120;&#41;&#45;&#103;&#40;&#120;&#41;&#32;&#102;&#39;&#39;&#40;&#120;&#41;&#125;&#123;&#102;&#40;&#120;&#41;&#32;&#103;&#39;&#40;&#120;&#41;&#45;&#103;&#40;&#120;&#41;&#32;&#102;&#39;&#40;&#120;&#41;&#125;$$</div><div class=\"grid-item\">\n",
       "\t\t\t\t\t\t\t\t\t\t\t\t\t<div class=\"prompt output_prompt\" style=\"text-align:left;padding:0em;padding-right:20px;line-height:20px;\">\n",
       "\t\t\t\t\t\t\t\t\t\t\t\t\t\tOut[18]:\n",
       "\t\t\t\t\t\t\t\t\t\t\t\t\t</div>\n",
       "\t\t\t\t\t\t\t\t\t\t\t\t</div>\n",
       "\t\t\t\t\t\t\t\t\t\t\t\t<div class=\"grid-item\">$$&#92;&#102;&#114;&#97;&#99;&#123;&#102;&#39;&#40;&#120;&#41;&#32;&#103;&#39;&#39;&#40;&#120;&#41;&#45;&#102;&#39;&#39;&#40;&#120;&#41;&#32;&#103;&#39;&#40;&#120;&#41;&#125;&#123;&#102;&#40;&#120;&#41;&#32;&#103;&#39;&#40;&#120;&#41;&#45;&#103;&#40;&#120;&#41;&#32;&#102;&#39;&#40;&#120;&#41;&#125;$$</div></div></div>"
      ]
     },
     "execution_count": 16,
     "metadata": {
      "text/html": []
     },
     "output_type": "execute_result"
    }
   ],
   "source": [
    "Clear[a,b,c,f,g,p,q,u,w,x,alpha,beta,dphi,phi,psi,L,R]\n",
    "w =  Det[{{f[x], g[x]}, {f'[x], g'[x]}}] // Simplify;\n",
    "b = -Det[{{f[x], g[x]}, {f''[x], g''[x]}}]/w;\n",
    "c =  Det[{{f'[x], g'[x]}, {f''[x], g''[x]}}]/w;\n",
    "w // TeX\n",
    "b // TeX\n",
    "c // TeX"
   ]
  },
  {
   "cell_type": "code",
   "execution_count": 19,
   "metadata": {},
   "outputs": [
    {
     "data": {
      "text/html": [
       "<style>\n",
       "\t\t\t\t\t\t\t\t\t\t\t.grid-container {\n",
       "\t\t\t\t\t\t\t\t\t\t\t\tdisplay: inline-grid;\n",
       "\t\t\t\t\t\t\t\t\t\t\t\tgrid-template-columns: auto auto;\n",
       "\t\t\t\t\t\t\t\t\t\t\t}\n",
       "\t\t\t\t\t\t\t\t\t\t</style>\n",
       "\n",
       "\t\t\t\t\t\t\t\t\t\t<div><div class=\"grid-container\"><div class=\"grid-item\">\n",
       "\t\t\t\t\t\t\t\t\t\t\t\t\t<div class=\"prompt output_prompt\" style=\"text-align:left;padding:0em;padding-right:20px;line-height:20px;\">\n",
       "\t\t\t\t\t\t\t\t\t\t\t\t\t\tOut[20]:\n",
       "\t\t\t\t\t\t\t\t\t\t\t\t\t</div>\n",
       "\t\t\t\t\t\t\t\t\t\t\t\t</div>\n",
       "\t\t\t\t\t\t\t\t\t\t\t\t<div class=\"grid-item\">$$&#92;&#97;&#108;&#112;&#104;&#97;&#32;&#32;&#102;&#40;&#120;&#41;&#43;&#92;&#98;&#101;&#116;&#97;&#32;&#32;&#103;&#40;&#120;&#41;$$</div><div class=\"grid-item\">\n",
       "\t\t\t\t\t\t\t\t\t\t\t\t\t<div class=\"prompt output_prompt\" style=\"text-align:left;padding:0em;padding-right:20px;line-height:20px;\">\n",
       "\t\t\t\t\t\t\t\t\t\t\t\t\t\tOut[21]:\n",
       "\t\t\t\t\t\t\t\t\t\t\t\t\t</div>\n",
       "\t\t\t\t\t\t\t\t\t\t\t\t</div>\n",
       "\t\t\t\t\t\t\t\t\t\t\t\t<div class=\"grid-item\">$$&#48;$$</div></div></div>"
      ]
     },
     "execution_count": 20,
     "metadata": {
      "text/html": []
     },
     "output_type": "execute_result"
    }
   ],
   "source": [
    "psi = alpha f[x] + beta g[x];\n",
    "psi // TeX\n",
    "D[psi,x,x] + b D[psi,x] + c psi // Simplify // TeX"
   ]
  },
  {
   "cell_type": "markdown",
   "metadata": {},
   "source": [
    "## Riccati方程式"
   ]
  },
  {
   "cell_type": "markdown",
   "metadata": {},
   "source": [
    "### Riccati方程式の定義\n",
    "\n",
    "函数 $a=a(x)$, $b=b(x)$, $c=c(x)$ が与えられているとし, $a=a(x)$ で割ることができると仮定する. さらに\n",
    "\n",
    "$$\n",
    "\\d = \\d_x = \\frac{d}{dx}\n",
    "$$\n",
    "\n",
    "とおく. $d/dx$ を $\\d$ と略して書くと以下の議論が楽になる.\n",
    "\n",
    "$u=u(x)$ に関する(非線形)常微分方程式\n",
    "\n",
    "$$\n",
    "u' + au^2 + bu + c = 0\n",
    "\\tag{$*$}\n",
    "$$\n",
    "\n",
    "を **Riccati方程式 (リッカティ方程式)** と呼ぶ.  $v=au$ ($u=v/a$) とおくと,\n",
    "\n",
    "$$\n",
    "\\begin{aligned}\n",
    "(*) & \\iff\n",
    "\\frac{v'}{a} - \\frac{a'}{a^2}v + \\frac{1}{a}v^2 + \\frac{b}{a}v + c = 0\n",
    "\\\\ & \\iff\n",
    "v' + v^2 + \\left(b - \\frac{a'}{a}\\right)v + ac = 0.\n",
    "\\end{aligned}\n",
    "$$\n",
    "\n",
    "ゆえに, 一般的なRiccati方程式($*$)の解くことは, $a=a(x)=1$ の場合のRiccati方程式\n",
    "\n",
    "$$\n",
    "u' + u^2 + bu + c = 0.\n",
    "\\tag{$*'$}\n",
    "$$\n",
    "\n",
    "を解くことに帰着できる."
   ]
  },
  {
   "cell_type": "code",
   "execution_count": 22,
   "metadata": {},
   "outputs": [
    {
     "data": {
      "text/html": [
       "<style>\n",
       "\t\t\t\t\t\t\t\t\t\t\t.grid-container {\n",
       "\t\t\t\t\t\t\t\t\t\t\t\tdisplay: inline-grid;\n",
       "\t\t\t\t\t\t\t\t\t\t\t\tgrid-template-columns: auto auto;\n",
       "\t\t\t\t\t\t\t\t\t\t\t}\n",
       "\t\t\t\t\t\t\t\t\t\t</style>\n",
       "\n",
       "\t\t\t\t\t\t\t\t\t\t<div><div class=\"grid-container\"><div class=\"grid-item\">\n",
       "\t\t\t\t\t\t\t\t\t\t\t\t\t<div class=\"prompt output_prompt\" style=\"text-align:left;padding:0em;padding-right:20px;line-height:20px;\">\n",
       "\t\t\t\t\t\t\t\t\t\t\t\t\t\tOut[24]:\n",
       "\t\t\t\t\t\t\t\t\t\t\t\t\t</div>\n",
       "\t\t\t\t\t\t\t\t\t\t\t\t</div>\n",
       "\t\t\t\t\t\t\t\t\t\t\t\t<div class=\"grid-item\">$$&#92;&#102;&#114;&#97;&#99;&#123;&#118;&#40;&#120;&#41;&#125;&#123;&#97;&#40;&#120;&#41;&#125;$$</div><div class=\"grid-item\">\n",
       "\t\t\t\t\t\t\t\t\t\t\t\t\t<div class=\"prompt output_prompt\" style=\"text-align:left;padding:0em;padding-right:20px;line-height:20px;\">\n",
       "\t\t\t\t\t\t\t\t\t\t\t\t\t\tOut[25]:\n",
       "\t\t\t\t\t\t\t\t\t\t\t\t\t</div>\n",
       "\t\t\t\t\t\t\t\t\t\t\t\t</div>\n",
       "\t\t\t\t\t\t\t\t\t\t\t\t<div class=\"grid-item\">$$&#45;&#92;&#102;&#114;&#97;&#99;&#123;&#118;&#40;&#120;&#41;&#32;&#97;&#39;&#40;&#120;&#41;&#125;&#123;&#97;&#40;&#120;&#41;&#125;&#43;&#97;&#40;&#120;&#41;&#32;&#99;&#40;&#120;&#41;&#43;&#98;&#40;&#120;&#41;&#32;&#118;&#40;&#120;&#41;&#43;&#118;&#39;&#40;&#120;&#41;&#43;&#118;&#40;&#120;&#41;&#94;&#50;$$</div></div></div>"
      ]
     },
     "execution_count": 24,
     "metadata": {
      "text/html": []
     },
     "output_type": "execute_result"
    }
   ],
   "source": [
    "Clear[a,b,c,f,g,p,q,u,w,x,alpha,beta,dphi,phi,psi,L,R]\n",
    "u = v[x]/a[x];\n",
    "u // TeX\n",
    "a[x] (D[u,x] + a[x] u^2 + b[x] u + c[x]) // Simplify // TeX"
   ]
  },
  {
   "cell_type": "markdown",
   "metadata": {},
   "source": [
    "### Riccati方程式の数学的由来の1つが分かる補題\n",
    "\n",
    "$a=a(x)=1$ の場合のRiccati方程式\n",
    "\n",
    "$$\n",
    "u' + u^2 + bu + c = 0.\n",
    "\\tag{$*'$}\n",
    "$$\n",
    "\n",
    "の数学的な由来の1つは次の補題およびその証明を見れば分かる.\n",
    "\n",
    "**補題:** 微分作用素 $\\d^2+b\\d+c$ が微分作用素 $\\d-u$ で右から割り切れることとRiccati方程式($*'$)が成立することは同値である.\n",
    "\n",
    "**証明:** $\\d^2+b\\d+c$ を $\\d-u$ で左から割ったときの余りを求めよう. 多項式の商と余りを求める割り算と同様にして以下が成立することを示せる:\n",
    "\n",
    "$$\n",
    "\\d^2+b\\d+c = (\\d+u+b)(\\d-u) + u'+u^2+bu+c.\n",
    "\\tag{1}\n",
    "$$\n",
    "\n",
    "これが成立することは, 微分作用素として $\\d f=f\\d + f'$ が成立することを使えば, 直接的に以下のようにして確認できる.\n",
    "\n",
    "$$\n",
    "\\begin{aligned}\n",
    "(\\d+u+b))(\\d-u) &= \n",
    "\\d^2 -u\\d -u' + (u+b)\\d -(u^2+bu)\n",
    "\\\\ &=\n",
    "\\d^2+b\\d -(u'+u^2+bu)\n",
    "\\\\ &=\n",
    "\\d^2+b\\d+c -(u'+u^2+bu+c).\n",
    "\\end{aligned}\n",
    "$$\n",
    "\n",
    "これより, (1)が成立することがわかる. (1)より, $\\d^2+b\\d+c$ が $\\d-u$ で右から割り切れるための必要十分条件は($*'$) $u'+u^2+bu+c=0$ が成立することだとわかる. $\\QED$"
   ]
  },
  {
   "cell_type": "markdown",
   "metadata": {},
   "source": [
    "**注意:** 常微分作用素を常微分作用素で右から割った商と余りを求める割算の筆算とは以下のような計算のことである:\n",
    "\n",
    "$$\n",
    "\\require{enclose}\n",
    "\\begin{aligned}\n",
    "&\n",
    "\\begin{array}{rlll}\n",
    "\\text{R}\\backslash\\text{L}\\!\\!\\!\\!\\!\\!\\!\\! & \\;\\;\\,\\d\\,\\phantom{+u+b} \\\\[-2pt]\n",
    "\\d-u \\!\\!\\!\\!\\! & \\enclose{longdiv}{\\d^2+b\\d+c\\quad\\quad\\quad\\;\\,}\\kern-.3ex \\\\[-2pt]\n",
    "     & \\;\\;\\d^2-u\\d-u'\\quad\\quad\\;\\;\\;\\, \\\\[-2pt]\n",
    "     & \\;\\phantom{(u+b)\\d+u'+c} \\\\[-2pt]\n",
    "     & \\;\\phantom{\\underline{\\;(u+b)\\d-(u^2+bu)\\;}} \\\\[-2pt]\n",
    "%     & \\;\\;\\quad\\;\\phantom{u'+u^2+bu+c}\\\\\n",
    "\\end{array}\n",
    "\\longrightarrow\n",
    "\\begin{array}{rlll}\n",
    "\\text{R}\\backslash\\text{L}\\!\\!\\!\\!\\!\\!\\!\\! & \\;\\;\\,\\d\\,\\phantom{+u+b} \\\\[-2pt]\n",
    "\\d-u \\!\\!\\!\\!\\! & \\enclose{longdiv}{\\d^2+b\\d+c\\quad\\quad\\quad\\;\\,}\\kern-.3ex \\\\[-2pt]\n",
    "     & \\;\\underline{\\;\\d^2-u\\d-u'\\quad\\quad\\;\\;\\;\\,} \\\\[-2pt]\n",
    "     & \\;(u+b)\\d+u'+c \\\\[-2pt]\n",
    "     & \\;\\phantom{\\underline{\\;(u+b)\\d-(u^2+bu)\\;}} \\\\[-2pt]\n",
    "%     & \\;\\;\\quad\\;\\phantom{u'+u^2+bu+c}\\\\\n",
    "\\end{array}\n",
    "\\\\ \\longrightarrow &\n",
    "\\begin{array}{rlll}\n",
    "\\text{R}\\backslash\\text{L}\\!\\!\\!\\!\\!\\!\\!\\! & \\;\\;\\,\\d\\,+u+b \\\\[-2pt]\n",
    "\\d-u \\!\\!\\!\\!\\! & \\enclose{longdiv}{\\d^2+b\\d+c\\quad\\quad\\quad\\;\\,}\\kern-.3ex \\\\[-2pt]\n",
    "     & \\;\\underline{\\;\\d^2-u\\d-u'\\quad\\quad\\;\\;\\;\\,} \\\\[-2pt]\n",
    "     & \\;\\;(u+b)\\d+u'+c \\\\[-2pt]\n",
    "     & \\;\\;(u+b)\\d-(u^2+bu)\\; \\\\[-2pt]\n",
    "     & \\;\\;\\quad\\;\\phantom{u'+u^2+bu+c}\\\\\n",
    "\\end{array}\n",
    "\\longrightarrow\n",
    "\\begin{array}{rlll}\n",
    "\\text{R}\\backslash\\text{L}\\!\\!\\!\\!\\!\\!\\!\\! & \\;\\;\\,\\d\\,+u+b \\\\[-2pt]\n",
    "\\d-u \\!\\!\\!\\!\\! & \\enclose{longdiv}{\\d^2+b\\d+c\\quad\\quad\\quad\\;\\,}\\kern-.3ex \\\\[-2pt]\n",
    "     & \\;\\underline{\\;\\d^2-u\\d+u'\\quad\\quad\\;\\;\\;\\,} \\\\[-2pt]\n",
    "     & \\;\\;(u+b)\\d+u'+c \\\\[-2pt]\n",
    "     & \\;\\underline{\\;(u+b)\\d-(u^2+bu)\\;} \\\\[-2pt]\n",
    "     & \\;\\;\\quad\\;u'+u^2+bu+c\\\\\n",
    "\\end{array}\n",
    "\\end{aligned}\n",
    "$$\n",
    "\n",
    "$R\\backslash L$ は $L$ の側を $R$ の側に左からかけることを意味している. 最初の段階では $\\d u=u\\d+u'$ を用いて\n",
    "\n",
    "$$\n",
    "\\d(\\d-u)=\\d^2-u\\d-u'\n",
    "$$\n",
    "\n",
    "と計算した. それ以後も同様である. $\\QED$"
   ]
  },
  {
   "cell_type": "code",
   "execution_count": 26,
   "metadata": {},
   "outputs": [
    {
     "data": {
      "text/html": [
       "<style>\n",
       "\t\t\t\t\t\t\t\t\t\t\t.grid-container {\n",
       "\t\t\t\t\t\t\t\t\t\t\t\tdisplay: inline-grid;\n",
       "\t\t\t\t\t\t\t\t\t\t\t\tgrid-template-columns: auto auto;\n",
       "\t\t\t\t\t\t\t\t\t\t\t}\n",
       "\t\t\t\t\t\t\t\t\t\t</style>\n",
       "\n",
       "\t\t\t\t\t\t\t\t\t\t<div><div class=\"grid-container\"><div class=\"grid-item\">\n",
       "\t\t\t\t\t\t\t\t\t\t\t\t\t<div class=\"prompt output_prompt\" style=\"text-align:left;padding:0em;padding-right:20px;line-height:20px;\">\n",
       "\t\t\t\t\t\t\t\t\t\t\t\t\t\tOut[28]:\n",
       "\t\t\t\t\t\t\t\t\t\t\t\t\t</div>\n",
       "\t\t\t\t\t\t\t\t\t\t\t\t</div>\n",
       "\t\t\t\t\t\t\t\t\t\t\t\t<div class=\"grid-item\">$$&#92;&#112;&#115;&#105;&#32;&#39;&#40;&#120;&#41;&#45;&#92;&#112;&#115;&#105;&#32;&#40;&#120;&#41;&#32;&#117;&#40;&#120;&#41;$$</div><div class=\"grid-item\">\n",
       "\t\t\t\t\t\t\t\t\t\t\t\t\t<div class=\"prompt output_prompt\" style=\"text-align:left;padding:0em;padding-right:20px;line-height:20px;\">\n",
       "\t\t\t\t\t\t\t\t\t\t\t\t\t\tOut[30]:\n",
       "\t\t\t\t\t\t\t\t\t\t\t\t\t</div>\n",
       "\t\t\t\t\t\t\t\t\t\t\t\t</div>\n",
       "\t\t\t\t\t\t\t\t\t\t\t\t<div class=\"grid-item\">$$&#98;&#40;&#120;&#41;&#32;&#92;&#112;&#115;&#105;&#32;&#39;&#40;&#120;&#41;&#45;&#98;&#40;&#120;&#41;&#32;&#92;&#112;&#115;&#105;&#32;&#40;&#120;&#41;&#32;&#117;&#40;&#120;&#41;&#43;&#92;&#112;&#115;&#105;&#32;&#39;&#39;&#40;&#120;&#41;&#45;&#92;&#112;&#115;&#105;&#32;&#40;&#120;&#41;&#32;&#117;&#39;&#40;&#120;&#41;&#45;&#92;&#112;&#115;&#105;&#32;&#40;&#120;&#41;&#32;&#117;&#40;&#120;&#41;&#94;&#50;$$</div><div class=\"grid-item\">\n",
       "\t\t\t\t\t\t\t\t\t\t\t\t\t<div class=\"prompt output_prompt\" style=\"text-align:left;padding:0em;padding-right:20px;line-height:20px;\">\n",
       "\t\t\t\t\t\t\t\t\t\t\t\t\t\tOut[32]:\n",
       "\t\t\t\t\t\t\t\t\t\t\t\t\t</div>\n",
       "\t\t\t\t\t\t\t\t\t\t\t\t</div>\n",
       "\t\t\t\t\t\t\t\t\t\t\t\t<div class=\"grid-item\">$$&#98;&#40;&#120;&#41;&#32;&#117;&#40;&#120;&#41;&#43;&#99;&#40;&#120;&#41;&#43;&#117;&#39;&#40;&#120;&#41;&#43;&#117;&#40;&#120;&#41;&#94;&#50;$$</div><div class=\"grid-item\">\n",
       "\t\t\t\t\t\t\t\t\t\t\t\t\t<div class=\"prompt output_prompt\" style=\"text-align:left;padding:0em;padding-right:20px;line-height:20px;\">\n",
       "\t\t\t\t\t\t\t\t\t\t\t\t\t\tOut[33]:\n",
       "\t\t\t\t\t\t\t\t\t\t\t\t\t</div>\n",
       "\t\t\t\t\t\t\t\t\t\t\t\t</div>\n",
       "\t\t\t\t\t\t\t\t\t\t\t\t<div class=\"grid-item\">$$&#98;&#40;&#120;&#41;&#32;&#92;&#112;&#115;&#105;&#32;&#39;&#40;&#120;&#41;&#43;&#99;&#40;&#120;&#41;&#32;&#92;&#112;&#115;&#105;&#32;&#40;&#120;&#41;&#43;&#92;&#112;&#115;&#105;&#32;&#39;&#39;&#40;&#120;&#41;$$</div></div></div>"
      ]
     },
     "execution_count": 28,
     "metadata": {
      "text/html": []
     },
     "output_type": "execute_result"
    }
   ],
   "source": [
    "Clear[a,b,c,f,g,p,q,u,w,x,alpha,beta,dphi,phi,psi,L,R]\n",
    "Qpsi = D[psi[x],x] - u[x] psi[x];\n",
    "Qpsi // TeX\n",
    "PQpsi = D[Qpsi,x] + (u[x]+b[x])*Qpsi // ExpandAll;\n",
    "PQpsi // TeX\n",
    "R = u'[x] + u[x]^2 + b[x]u[x] + c[x];\n",
    "R // TeX\n",
    "PQpsi + R psi[x] // Simplify // TeX"
   ]
  },
  {
   "cell_type": "markdown",
   "metadata": {},
   "source": [
    "### Riccati方程式に関する基本定理\n",
    "\n",
    "**定理:** Riccati方程式 ($*'$) $u'+u^2+bu+c=0$ のすべての解 $u$ は線形常微分方程式 $(\\d^2+b\\d+c)f = 0$ の $0$ でない解 $f$ を用いて $u=f'/f$ と表わされ, 線形常微分方程式 $(\\d^2+b\\d+c)f = 0$ の $0$ でない任意の解 $f$ に対して $u=f'/f$ とおくと $u$ はRiccati方程式 ($*'$) $u'+u^2+bu+c=0$ の解になる.\n",
    "\n",
    "**証明:** $u$ はRiccati方程式 ($*'$) $u'+u^2+bu+c=0$ の解であると仮定する. このとき, 「Riccati方程式の数学的由来の1つが分かる補題」より, \n",
    "\n",
    "$$\n",
    "\\d^2+b\\d+c = (\\d+u+b)(\\d-u)\n",
    "$$\n",
    "\n",
    "が成立しているので, 微分方程式 $(\\d-u)f=0$ の $0$ でない解 $f$ を取れば, $u=f'/f$ でかつ $(\\d^2+b\\d+c)f=0$ が成立する.\n",
    "\n",
    "$f$ は線形常微分方程式 $(\\d^2+b\\d+c)f=0$ の $0$ でない解であるとし, $u=f'/f$ とおく.  このとき, $f$ は $(\\d-u)f=0$ を満たしている.  $\\d-u$ で右から $P = \\d^2+b\\d+c$ を割って商 $Q$ と余り $R$ ($R$ は $0$ 階の常微分作用素, すなわち函数)を求められる.\n",
    "\n",
    "$$\n",
    "P = Q(\\d-u)+R.\n",
    "$$\n",
    "\n",
    "$Pf=0$, $(\\d-u)f=0$ より $Rf=0$ すなわち $R=0$ が得られる. 「Riccati方程式の数学的由来の1つが分かる補題」の証明より, $R=u'+u^2+bu+c$ なので, $u$ がRiccati方程式($*'$) $u'+u^2+bu+c=0$ を満たしていることがわかった. $\\QED$"
   ]
  },
  {
   "cell_type": "code",
   "execution_count": 34,
   "metadata": {},
   "outputs": [
    {
     "data": {
      "text/html": [
       "<style>\n",
       "\t\t\t\t\t\t\t\t\t\t\t.grid-container {\n",
       "\t\t\t\t\t\t\t\t\t\t\t\tdisplay: inline-grid;\n",
       "\t\t\t\t\t\t\t\t\t\t\t\tgrid-template-columns: auto auto;\n",
       "\t\t\t\t\t\t\t\t\t\t\t}\n",
       "\t\t\t\t\t\t\t\t\t\t</style>\n",
       "\n",
       "\t\t\t\t\t\t\t\t\t\t<div><div class=\"grid-container\"><div class=\"grid-item\">\n",
       "\t\t\t\t\t\t\t\t\t\t\t\t\t<div class=\"prompt output_prompt\" style=\"text-align:left;padding:0em;padding-right:20px;line-height:20px;\">\n",
       "\t\t\t\t\t\t\t\t\t\t\t\t\t\tOut[36]:\n",
       "\t\t\t\t\t\t\t\t\t\t\t\t\t</div>\n",
       "\t\t\t\t\t\t\t\t\t\t\t\t</div>\n",
       "\t\t\t\t\t\t\t\t\t\t\t\t<div class=\"grid-item\">$$&#92;&#102;&#114;&#97;&#99;&#123;&#102;&#39;&#40;&#120;&#41;&#125;&#123;&#102;&#40;&#120;&#41;&#125;$$</div><div class=\"grid-item\">\n",
       "\t\t\t\t\t\t\t\t\t\t\t\t\t<div class=\"prompt output_prompt\" style=\"text-align:left;padding:0em;padding-right:20px;line-height:20px;\">\n",
       "\t\t\t\t\t\t\t\t\t\t\t\t\t\tOut[38]:\n",
       "\t\t\t\t\t\t\t\t\t\t\t\t\t</div>\n",
       "\t\t\t\t\t\t\t\t\t\t\t\t</div>\n",
       "\t\t\t\t\t\t\t\t\t\t\t\t<div class=\"grid-item\">$$&#92;&#102;&#114;&#97;&#99;&#123;&#98;&#40;&#120;&#41;&#32;&#102;&#39;&#40;&#120;&#41;&#43;&#99;&#40;&#120;&#41;&#32;&#102;&#40;&#120;&#41;&#43;&#102;&#39;&#39;&#40;&#120;&#41;&#125;&#123;&#102;&#40;&#120;&#41;&#125;$$</div></div></div>"
      ]
     },
     "execution_count": 36,
     "metadata": {
      "text/html": []
     },
     "output_type": "execute_result"
    }
   ],
   "source": [
    "Clear[a,b,c,f,g,p,q,u,w,x,alpha,beta,dphi,phi,psi,L,R]\n",
    "u = f'[x]/f[x];\n",
    "u // TeX\n",
    "R = D[u,x]+u^2+b[x] u+c[x];\n",
    "R // Factor // TeX"
   ]
  },
  {
   "cell_type": "markdown",
   "metadata": {},
   "source": [
    "### Riccati方程式の解法\n",
    "\n",
    "#### $a=a(x)=1$ の場合のRiccati方程式の解法\n",
    "\n",
    "Riccati方程式に関する基本定理より, Riccati方程式\n",
    "\n",
    "$$\n",
    "u'+u^2+bu+c=0\n",
    "\\tag{$*'$}\n",
    "$$\n",
    "\n",
    "を解くためには(すなわちすべての解を求めるためには), $\\psi$ に関する線形常微分方程式\n",
    "\n",
    "$$\n",
    "(\\d^2+b\\d+c)\\psi = 0\n",
    "$$\n",
    "\n",
    "の $0$ でない解 $\\psi=f$ に対する $u=f'/f$ を求めればよい.\n",
    "\n",
    "\n",
    "#### 一般の場合のRiccati方程式の解法\n",
    "\n",
    "一般のRiccati方程式 ($*$)\n",
    "\n",
    "$$\n",
    "u'+au^2+bu+c=0\n",
    "\\tag{$*$}\n",
    "$$\n",
    "\n",
    "を解くためには, $v=au$ とおいて, 方程式を\n",
    "\n",
    "$$\n",
    "v' + v^2 + \\left(b - \\frac{a'}{a}\\right)v + ac = 0\n",
    "$$\n",
    "\n",
    "の形に変形し, $\\psi$ に関する線形常微分方程式\n",
    "\n",
    "$$\n",
    "\\left(\\d^2+\\left(b - \\frac{a'}{a}\\right)\\d+ac\\right)\\psi = 0\n",
    "$$\n",
    "\n",
    "の $0$ でない解 $f$ に対して $v=au=f'/f$ から $u$ を求めればよい.  $a$ が定数ならば, $\\psi$ に関する線形常微分方程式\n",
    "\n",
    "$$\n",
    "\\left(\\d^2+b\\d+ac\\right)\\psi = 0\n",
    "$$\n",
    "\n",
    "の $0$ でない解 $f$ に対して $v=au=f'/f$ から $u$ を求めればよい."
   ]
  },
  {
   "cell_type": "code",
   "execution_count": 39,
   "metadata": {},
   "outputs": [
    {
     "data": {
      "text/html": [
       "<style>\n",
       "\t\t\t\t\t\t\t\t\t\t\t.grid-container {\n",
       "\t\t\t\t\t\t\t\t\t\t\t\tdisplay: inline-grid;\n",
       "\t\t\t\t\t\t\t\t\t\t\t\tgrid-template-columns: auto auto;\n",
       "\t\t\t\t\t\t\t\t\t\t\t}\n",
       "\t\t\t\t\t\t\t\t\t\t</style>\n",
       "\n",
       "\t\t\t\t\t\t\t\t\t\t<div><div class=\"grid-container\"><div class=\"grid-item\">\n",
       "\t\t\t\t\t\t\t\t\t\t\t\t\t<div class=\"prompt output_prompt\" style=\"text-align:left;padding:0em;padding-right:20px;line-height:20px;\">\n",
       "\t\t\t\t\t\t\t\t\t\t\t\t\t\tOut[41]:\n",
       "\t\t\t\t\t\t\t\t\t\t\t\t\t</div>\n",
       "\t\t\t\t\t\t\t\t\t\t\t\t</div>\n",
       "\t\t\t\t\t\t\t\t\t\t\t\t<div class=\"grid-item\">$$&#102;$$</div><div class=\"grid-item\">\n",
       "\t\t\t\t\t\t\t\t\t\t\t\t\t<div class=\"prompt output_prompt\" style=\"text-align:left;padding:0em;padding-right:20px;line-height:20px;\">\n",
       "\t\t\t\t\t\t\t\t\t\t\t\t\t\tOut[43]:\n",
       "\t\t\t\t\t\t\t\t\t\t\t\t\t</div>\n",
       "\t\t\t\t\t\t\t\t\t\t\t\t</div>\n",
       "\t\t\t\t\t\t\t\t\t\t\t\t<div class=\"grid-item\">$$&#92;&#102;&#114;&#97;&#99;&#123;&#102;&#39;&#40;&#120;&#41;&#125;&#123;&#97;&#40;&#120;&#41;&#32;&#102;&#40;&#120;&#41;&#125;$$</div><div class=\"grid-item\">\n",
       "\t\t\t\t\t\t\t\t\t\t\t\t\t<div class=\"prompt output_prompt\" style=\"text-align:left;padding:0em;padding-right:20px;line-height:20px;\">\n",
       "\t\t\t\t\t\t\t\t\t\t\t\t\t\tOut[45]:\n",
       "\t\t\t\t\t\t\t\t\t\t\t\t\t</div>\n",
       "\t\t\t\t\t\t\t\t\t\t\t\t</div>\n",
       "\t\t\t\t\t\t\t\t\t\t\t\t<div class=\"grid-item\">$$&#92;&#102;&#114;&#97;&#99;&#123;&#45;&#92;&#102;&#114;&#97;&#99;&#123;&#97;&#39;&#40;&#120;&#41;&#32;&#102;&#39;&#40;&#120;&#41;&#125;&#123;&#97;&#40;&#120;&#41;&#125;&#43;&#97;&#40;&#120;&#41;&#32;&#99;&#40;&#120;&#41;&#32;&#102;&#40;&#120;&#41;&#43;&#98;&#40;&#120;&#41;&#32;&#102;&#39;&#40;&#120;&#41;&#43;&#102;&#39;&#39;&#40;&#120;&#41;&#125;&#123;&#97;&#40;&#120;&#41;&#32;&#102;&#40;&#120;&#41;&#125;$$</div><div class=\"grid-item\">\n",
       "\t\t\t\t\t\t\t\t\t\t\t\t\t<div class=\"prompt output_prompt\" style=\"text-align:left;padding:0em;padding-right:20px;line-height:20px;\">\n",
       "\t\t\t\t\t\t\t\t\t\t\t\t\t\tOut[46]:\n",
       "\t\t\t\t\t\t\t\t\t\t\t\t\t</div>\n",
       "\t\t\t\t\t\t\t\t\t\t\t\t</div>\n",
       "\t\t\t\t\t\t\t\t\t\t\t\t<div class=\"grid-item\">$$&#48;$$</div></div></div>"
      ]
     },
     "execution_count": 41,
     "metadata": {
      "text/html": []
     },
     "output_type": "execute_result"
    }
   ],
   "source": [
    "Clear[a,b,c,f,g,p,q,u,w,x,alpha,beta,dphi,phi,psi,L,R]\n",
    "rulef = f''[x] -> -(b[x]-a'[x]/a[x])f'[x]-a[x]c[x]f[x];\n",
    "f // TeX\n",
    "u = 1/a[x] f'[x]/f[x];\n",
    "u // TeX\n",
    "R = Simplify[(D[u,x] + a[x] u^2 + b[x] u + c[x])a[x]f[x]]/(a[x]f[x]);\n",
    "R // TeX\n",
    "R/.rulef // Simplify // TeX"
   ]
  },
  {
   "cell_type": "markdown",
   "metadata": {},
   "source": [
    "**例:** 簡単に解ける場合\n",
    "\n",
    "* https://reference.wolfram.com/language/tutorial/DSolveRiccatiEquations.html より.\n",
    "\n",
    "$$\n",
    "u' - 3 u^2 + \\frac{2}{x^2} = 0.\n",
    "$$\n",
    "\n",
    "これは $u = (-1/3)\\psi'/\\psi$ とおくことによって, 次の2階の常微分方程式に帰着する:\n",
    "\n",
    "$$\n",
    "\\left(\\d^2 - \\frac{6}{x^2}\\right)\\psi = \\psi'' - \\frac{6}{x^2}\\psi = 0.\n",
    "$$\n",
    "\n",
    "この2階の線形常微分方程式は $x^3$ と $1/x^2$ を解に持つので, 上のRiccati方程式の解は\n",
    "\n",
    "$$\n",
    "\\psi = \\alpha x^3 + \\frac{\\beta}{x^2}\n",
    "$$\n",
    "\n",
    "とおくと, \n",
    "\n",
    "$$\n",
    "u = \\frac{1}{-3}\\frac{\\psi'}{\\psi} =\n",
    "-\\frac{1}{3}\\frac{3\\alpha x^2-2\\beta/x^3}{\\alpha x^3+\\beta/x^2} =\n",
    "-\\frac{1}{3}\\frac{3\\alpha x^5-2\\beta}{\\alpha x^6+\\beta x}\n",
    "$$\n",
    "\n",
    "と書ける."
   ]
  },
  {
   "cell_type": "code",
   "execution_count": 47,
   "metadata": {},
   "outputs": [
    {
     "data": {
      "text/html": [
       "<style>\n",
       "\t\t\t\t\t\t\t\t\t\t\t.grid-container {\n",
       "\t\t\t\t\t\t\t\t\t\t\t\tdisplay: inline-grid;\n",
       "\t\t\t\t\t\t\t\t\t\t\t\tgrid-template-columns: auto auto;\n",
       "\t\t\t\t\t\t\t\t\t\t\t}\n",
       "\t\t\t\t\t\t\t\t\t\t</style>\n",
       "\n",
       "\t\t\t\t\t\t\t\t\t\t<div><div class=\"grid-container\"><div class=\"grid-item\">\n",
       "\t\t\t\t\t\t\t\t\t\t\t\t\t<div class=\"prompt output_prompt\" style=\"text-align:left;padding:0em;padding-right:20px;line-height:20px;\">\n",
       "\t\t\t\t\t\t\t\t\t\t\t\t\t\tOut[49]:\n",
       "\t\t\t\t\t\t\t\t\t\t\t\t\t</div>\n",
       "\t\t\t\t\t\t\t\t\t\t\t\t</div>\n",
       "\t\t\t\t\t\t\t\t\t\t\t\t<div class=\"grid-item\">$$&#117;&#39;&#40;&#120;&#41;&#45;&#51;&#32;&#117;&#40;&#120;&#41;&#94;&#50;&#43;&#92;&#102;&#114;&#97;&#99;&#123;&#50;&#125;&#123;&#120;&#94;&#50;&#125;&#61;&#48;$$</div><div class=\"grid-item\">\n",
       "\t\t\t\t\t\t\t\t\t\t\t\t\t<div class=\"prompt output_prompt\" style=\"text-align:left;padding:0em;padding-right:20px;line-height:20px;\">\n",
       "\t\t\t\t\t\t\t\t\t\t\t\t\t\tOut[51]:\n",
       "\t\t\t\t\t\t\t\t\t\t\t\t\t</div>\n",
       "\t\t\t\t\t\t\t\t\t\t\t\t</div>\n",
       "\t\t\t\t\t\t\t\t\t\t\t\t<div class=\"grid-item\">$$&#45;&#92;&#102;&#114;&#97;&#99;&#123;&#92;&#112;&#115;&#105;&#32;&#39;&#40;&#120;&#41;&#125;&#123;&#51;&#32;&#92;&#112;&#115;&#105;&#32;&#40;&#120;&#41;&#125;$$</div><div class=\"grid-item\">\n",
       "\t\t\t\t\t\t\t\t\t\t\t\t\t<div class=\"prompt output_prompt\" style=\"text-align:left;padding:0em;padding-right:20px;line-height:20px;\">\n",
       "\t\t\t\t\t\t\t\t\t\t\t\t\t\tOut[53]:\n",
       "\t\t\t\t\t\t\t\t\t\t\t\t\t</div>\n",
       "\t\t\t\t\t\t\t\t\t\t\t\t</div>\n",
       "\t\t\t\t\t\t\t\t\t\t\t\t<div class=\"grid-item\">$$&#92;&#112;&#115;&#105;&#32;&#39;&#39;&#40;&#120;&#41;&#45;&#92;&#102;&#114;&#97;&#99;&#123;&#54;&#32;&#92;&#112;&#115;&#105;&#32;&#40;&#120;&#41;&#125;&#123;&#120;&#94;&#50;&#125;&#61;&#48;$$</div></div></div>"
      ]
     },
     "execution_count": 49,
     "metadata": {
      "text/html": []
     },
     "output_type": "execute_result"
    }
   ],
   "source": [
    "Clear[a,b,c,f,g,p,q,u,w,x,alpha,beta,dphi,phi,psi,L,R]\n",
    "R = u'[x] - 3u[x]^2 + 2/x^2;\n",
    "R == 0 // TeX\n",
    "u[x_] := -1/3 psi'[x]/psi[x]\n",
    "u[x] // TeX\n",
    "L = -3psi[x] R // Expand;\n",
    "L == 0 // TeX"
   ]
  },
  {
   "cell_type": "code",
   "execution_count": 54,
   "metadata": {},
   "outputs": [
    {
     "data": {
      "text/html": [
       "<style>\n",
       "\t\t\t\t\t\t\t\t\t\t\t.grid-container {\n",
       "\t\t\t\t\t\t\t\t\t\t\t\tdisplay: inline-grid;\n",
       "\t\t\t\t\t\t\t\t\t\t\t\tgrid-template-columns: auto auto;\n",
       "\t\t\t\t\t\t\t\t\t\t\t}\n",
       "\t\t\t\t\t\t\t\t\t\t</style>\n",
       "\n",
       "\t\t\t\t\t\t\t\t\t\t<div><div class=\"grid-container\"><div class=\"grid-item\">\n",
       "\t\t\t\t\t\t\t\t\t\t\t\t\t<div class=\"prompt output_prompt\" style=\"text-align:left;padding:0em;padding-right:20px;line-height:20px;\">\n",
       "\t\t\t\t\t\t\t\t\t\t\t\t\t\tOut[56]:\n",
       "\t\t\t\t\t\t\t\t\t\t\t\t\t</div>\n",
       "\t\t\t\t\t\t\t\t\t\t\t\t</div>\n",
       "\t\t\t\t\t\t\t\t\t\t\t\t<div class=\"grid-item\">$$&#120;&#94;&#51;$$</div><div class=\"grid-item\">\n",
       "\t\t\t\t\t\t\t\t\t\t\t\t\t<div class=\"prompt output_prompt\" style=\"text-align:left;padding:0em;padding-right:20px;line-height:20px;\">\n",
       "\t\t\t\t\t\t\t\t\t\t\t\t\t\tOut[58]:\n",
       "\t\t\t\t\t\t\t\t\t\t\t\t\t</div>\n",
       "\t\t\t\t\t\t\t\t\t\t\t\t</div>\n",
       "\t\t\t\t\t\t\t\t\t\t\t\t<div class=\"grid-item\">$$&#92;&#102;&#114;&#97;&#99;&#123;&#49;&#125;&#123;&#120;&#94;&#50;&#125;$$</div></div></div>"
      ]
     },
     "execution_count": 56,
     "metadata": {
      "text/html": []
     },
     "output_type": "execute_result"
    }
   ],
   "source": [
    "Clear[a,b,c,f,g,p,q,u,w,x,alpha,beta,dphi,phi,psi,L,R]\n",
    "f = x^3;\n",
    "f // TeX\n",
    "g = 1/x^2;\n",
    "g // TeX"
   ]
  },
  {
   "cell_type": "code",
   "execution_count": 59,
   "metadata": {},
   "outputs": [
    {
     "data": {
      "text/html": [
       "<style>\n",
       "\t\t\t\t\t\t\t\t\t\t\t.grid-container {\n",
       "\t\t\t\t\t\t\t\t\t\t\t\tdisplay: inline-grid;\n",
       "\t\t\t\t\t\t\t\t\t\t\t\tgrid-template-columns: auto auto;\n",
       "\t\t\t\t\t\t\t\t\t\t\t}\n",
       "\t\t\t\t\t\t\t\t\t\t</style>\n",
       "\n",
       "\t\t\t\t\t\t\t\t\t\t<div><div class=\"grid-container\"><div class=\"grid-item\">\n",
       "\t\t\t\t\t\t\t\t\t\t\t\t\t<div class=\"prompt output_prompt\" style=\"text-align:left;padding:0em;padding-right:20px;line-height:20px;\">\n",
       "\t\t\t\t\t\t\t\t\t\t\t\t\t\tOut[61]:\n",
       "\t\t\t\t\t\t\t\t\t\t\t\t\t</div>\n",
       "\t\t\t\t\t\t\t\t\t\t\t\t</div>\n",
       "\t\t\t\t\t\t\t\t\t\t\t\t<div class=\"grid-item\">$$&#92;&#102;&#114;&#97;&#99;&#123;&#92;&#97;&#108;&#112;&#104;&#97;&#32;&#32;&#120;&#94;&#53;&#43;&#92;&#98;&#101;&#116;&#97;&#32;&#125;&#123;&#120;&#94;&#50;&#125;$$</div><div class=\"grid-item\">\n",
       "\t\t\t\t\t\t\t\t\t\t\t\t\t<div class=\"prompt output_prompt\" style=\"text-align:left;padding:0em;padding-right:20px;line-height:20px;\">\n",
       "\t\t\t\t\t\t\t\t\t\t\t\t\t\tOut[62]:\n",
       "\t\t\t\t\t\t\t\t\t\t\t\t\t</div>\n",
       "\t\t\t\t\t\t\t\t\t\t\t\t</div>\n",
       "\t\t\t\t\t\t\t\t\t\t\t\t<div class=\"grid-item\">$$&#48;$$</div></div></div>"
      ]
     },
     "execution_count": 61,
     "metadata": {
      "text/html": []
     },
     "output_type": "execute_result"
    }
   ],
   "source": [
    "L[psi_] := D[psi,x,x] - 6 psi/x^2\n",
    "psi = alpha f + beta g // Simplify;\n",
    "psi // TeX\n",
    "L[psi] // TeX"
   ]
  },
  {
   "cell_type": "code",
   "execution_count": 63,
   "metadata": {},
   "outputs": [
    {
     "data": {
      "text/html": [
       "<style>\n",
       "\t\t\t\t\t\t\t\t\t\t\t.grid-container {\n",
       "\t\t\t\t\t\t\t\t\t\t\t\tdisplay: inline-grid;\n",
       "\t\t\t\t\t\t\t\t\t\t\t\tgrid-template-columns: auto auto;\n",
       "\t\t\t\t\t\t\t\t\t\t\t}\n",
       "\t\t\t\t\t\t\t\t\t\t</style>\n",
       "\n",
       "\t\t\t\t\t\t\t\t\t\t<div><div class=\"grid-container\"><div class=\"grid-item\">\n",
       "\t\t\t\t\t\t\t\t\t\t\t\t\t<div class=\"prompt output_prompt\" style=\"text-align:left;padding:0em;padding-right:20px;line-height:20px;\">\n",
       "\t\t\t\t\t\t\t\t\t\t\t\t\t\tOut[64]:\n",
       "\t\t\t\t\t\t\t\t\t\t\t\t\t</div>\n",
       "\t\t\t\t\t\t\t\t\t\t\t\t</div>\n",
       "\t\t\t\t\t\t\t\t\t\t\t\t<div class=\"grid-item\">$$&#92;&#102;&#114;&#97;&#99;&#123;&#50;&#32;&#92;&#98;&#101;&#116;&#97;&#32;&#45;&#51;&#32;&#92;&#97;&#108;&#112;&#104;&#97;&#32;&#32;&#120;&#94;&#53;&#125;&#123;&#51;&#32;&#92;&#97;&#108;&#112;&#104;&#97;&#32;&#32;&#120;&#94;&#54;&#43;&#51;&#32;&#92;&#98;&#101;&#116;&#97;&#32;&#32;&#120;&#125;$$</div><div class=\"grid-item\">\n",
       "\t\t\t\t\t\t\t\t\t\t\t\t\t<div class=\"prompt output_prompt\" style=\"text-align:left;padding:0em;padding-right:20px;line-height:20px;\">\n",
       "\t\t\t\t\t\t\t\t\t\t\t\t\t\tOut[66]:\n",
       "\t\t\t\t\t\t\t\t\t\t\t\t\t</div>\n",
       "\t\t\t\t\t\t\t\t\t\t\t\t</div>\n",
       "\t\t\t\t\t\t\t\t\t\t\t\t<div class=\"grid-item\">$$&#48;$$</div></div></div>"
      ]
     },
     "execution_count": 64,
     "metadata": {
      "text/html": []
     },
     "output_type": "execute_result"
    }
   ],
   "source": [
    "u = 1/(-3) D[psi,x]/psi // Simplify;\n",
    "u // TeX\n",
    "R = D[u,x] - 3u^2 + 2/x^2 // Simplify;\n",
    "R // TeX"
   ]
  },
  {
   "cell_type": "code",
   "execution_count": 67,
   "metadata": {},
   "outputs": [
    {
     "data": {
      "text/html": [
       "<style>\n",
       "\t\t\t\t\t\t\t\t\t\t\t.grid-container {\n",
       "\t\t\t\t\t\t\t\t\t\t\t\tdisplay: inline-grid;\n",
       "\t\t\t\t\t\t\t\t\t\t\t\tgrid-template-columns: auto auto;\n",
       "\t\t\t\t\t\t\t\t\t\t\t}\n",
       "\t\t\t\t\t\t\t\t\t\t</style>\n",
       "\n",
       "\t\t\t\t\t\t\t\t\t\t<div><div class=\"grid-container\"><div class=\"grid-item\">\n",
       "\t\t\t\t\t\t\t\t\t\t\t\t\t<div class=\"prompt output_prompt\" style=\"text-align:left;padding:0em;padding-right:20px;line-height:20px;\">\n",
       "\t\t\t\t\t\t\t\t\t\t\t\t\t\tOut[69]:\n",
       "\t\t\t\t\t\t\t\t\t\t\t\t\t</div>\n",
       "\t\t\t\t\t\t\t\t\t\t\t\t</div>\n",
       "\t\t\t\t\t\t\t\t\t\t\t\t<div class=\"grid-item\">$$&#117;&#39;&#40;&#120;&#41;&#45;&#51;&#32;&#117;&#40;&#120;&#41;&#94;&#50;&#43;&#92;&#102;&#114;&#97;&#99;&#123;&#50;&#125;&#123;&#120;&#94;&#50;&#125;&#61;&#48;$$</div><div class=\"grid-item\">\n",
       "\t\t\t\t\t\t\t\t\t\t\t\t\t<div class=\"prompt output_prompt\" style=\"text-align:left;padding:0em;padding-right:20px;line-height:20px;\">\n",
       "\t\t\t\t\t\t\t\t\t\t\t\t\t\tOut[70]:\n",
       "\t\t\t\t\t\t\t\t\t\t\t\t\t</div>\n",
       "\t\t\t\t\t\t\t\t\t\t\t\t</div>\n",
       "\t\t\t\t\t\t\t\t\t\t\t\t<div class=\"grid-item\">$$&#92;&#108;&#101;&#102;&#116;&#92;&#123;&#92;&#108;&#101;&#102;&#116;&#92;&#123;&#117;&#40;&#120;&#41;&#92;&#116;&#111;&#32;&#45;&#92;&#102;&#114;&#97;&#99;&#123;&#51;&#32;&#120;&#94;&#53;&#45;&#50;&#32;&#99;&#95;&#49;&#125;&#123;&#51;&#32;&#99;&#95;&#49;&#32;&#120;&#43;&#51;&#32;&#120;&#94;&#54;&#125;&#92;&#114;&#105;&#103;&#104;&#116;&#92;&#125;&#92;&#114;&#105;&#103;&#104;&#116;&#92;&#125;$$</div></div></div>"
      ]
     },
     "execution_count": 69,
     "metadata": {
      "text/html": []
     },
     "output_type": "execute_result"
    }
   ],
   "source": [
    "Clear[a,b,c,f,g,p,q,u,w,x,alpha,beta,dphi,phi,psi,L,R]\n",
    "R = u'[x] - 3 u[x]^2 + 2/x^2;\n",
    "R == 0 // TeX\n",
    "DSolve[R==0, u[x], x] // Simplify // TeX"
   ]
  },
  {
   "cell_type": "markdown",
   "metadata": {},
   "source": [
    "**例:** 帰着する先の2階の線形常微分方程式がLegendre方程式になる場合.\n",
    "\n",
    "* https://reference.wolfram.com/language/tutorial/DSolveRiccatiEquations.html より."
   ]
  },
  {
   "cell_type": "code",
   "execution_count": 71,
   "metadata": {},
   "outputs": [
    {
     "data": {
      "text/html": [
       "<div>$$&#117;&#39;&#40;&#120;&#41;&#43;&#92;&#102;&#114;&#97;&#99;&#123;&#50;&#32;&#120;&#32;&#117;&#40;&#120;&#41;&#125;&#123;&#120;&#94;&#50;&#45;&#49;&#125;&#43;&#117;&#40;&#120;&#41;&#94;&#50;&#43;&#92;&#102;&#114;&#97;&#99;&#123;&#49;&#53;&#125;&#123;&#52;&#32;&#92;&#108;&#101;&#102;&#116;&#40;&#49;&#45;&#120;&#94;&#50;&#92;&#114;&#105;&#103;&#104;&#116;&#41;&#125;&#61;&#48;$$</div>"
      ]
     },
     "execution_count": 73,
     "metadata": {
      "text/html": []
     },
     "output_type": "execute_result"
    }
   ],
   "source": [
    "Clear[a,b,c,f,g,p,q,u,w,x,alpha,beta,dphi,phi,psi,L,R]\n",
    "R = u'[x] + u[x]^2 + (2 x)/(x^2-1) u[x] + (15/4)/(1 - x^2);\n",
    "R == 0 // TeX"
   ]
  },
  {
   "cell_type": "code",
   "execution_count": 74,
   "metadata": {},
   "outputs": [
    {
     "data": {
      "text/html": [
       "<div><img alt=\"Output\" src=\"data:image/png;base64,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\"></div>"
      ]
     },
     "execution_count": 74,
     "metadata": {
      "text/html": []
     },
     "output_type": "execute_result"
    }
   ],
   "source": [
    "sol = DSolve[R==0, u[x], x] // Simplify"
   ]
  },
  {
   "cell_type": "code",
   "execution_count": 75,
   "metadata": {},
   "outputs": [
    {
     "data": {
      "text/html": [
       "<div>$$&#92;&#102;&#114;&#97;&#99;&#123;&#53;&#32;&#92;&#108;&#101;&#102;&#116;&#40;&#99;&#95;&#49;&#32;&#40;&#45;&#120;&#41;&#32;&#80;&#95;&#123;&#92;&#102;&#114;&#97;&#99;&#123;&#51;&#125;&#123;&#50;&#125;&#125;&#40;&#120;&#41;&#43;&#99;&#95;&#49;&#32;&#80;&#95;&#123;&#92;&#102;&#114;&#97;&#99;&#123;&#53;&#125;&#123;&#50;&#125;&#125;&#40;&#120;&#41;&#45;&#120;&#32;&#81;&#95;&#123;&#92;&#102;&#114;&#97;&#99;&#123;&#51;&#125;&#123;&#50;&#125;&#125;&#40;&#120;&#41;&#43;&#81;&#95;&#123;&#92;&#102;&#114;&#97;&#99;&#123;&#53;&#125;&#123;&#50;&#125;&#125;&#40;&#120;&#41;&#92;&#114;&#105;&#103;&#104;&#116;&#41;&#125;&#123;&#50;&#32;&#92;&#108;&#101;&#102;&#116;&#40;&#120;&#94;&#50;&#45;&#49;&#92;&#114;&#105;&#103;&#104;&#116;&#41;&#32;&#92;&#108;&#101;&#102;&#116;&#40;&#99;&#95;&#49;&#32;&#80;&#95;&#123;&#92;&#102;&#114;&#97;&#99;&#123;&#51;&#125;&#123;&#50;&#125;&#125;&#40;&#120;&#41;&#43;&#81;&#95;&#123;&#92;&#102;&#114;&#97;&#99;&#123;&#51;&#125;&#123;&#50;&#125;&#125;&#40;&#120;&#41;&#92;&#114;&#105;&#103;&#104;&#116;&#41;&#125;$$</div>"
      ]
     },
     "execution_count": 75,
     "metadata": {
      "text/html": []
     },
     "output_type": "execute_result"
    }
   ],
   "source": [
    "u[x]/.sol[[1]][[1]] // TeX"
   ]
  },
  {
   "cell_type": "markdown",
   "metadata": {},
   "source": [
    "#### Riccati方程式の解が1つ分かっている場合\n",
    "\n",
    "$$\n",
    "p=b-\\frac{a'}{a}, \\quad q=ac\n",
    "$$\n",
    "\n",
    "とおき, Riccati方程式\n",
    "\n",
    "$$\n",
    "u' + au^2 + bu + c = 0\n",
    "\\tag{$*$}\n",
    "$$\n",
    "\n",
    "の解 \n",
    "\n",
    "$$\n",
    "u = \\frac{1}{a}\\frac{f'}{f}\n",
    "$$\n",
    "が1つ分かっていると仮定する. ここで $f$ は $\\psi$ に関する線形常微分方程式\n",
    "\n",
    "$$\n",
    "(\\d^2+p\\d+q)\\psi = 0\n",
    "\\tag{$**$}\n",
    "$$\n",
    "\n",
    "の $0$ でない解である.  この線形常微分方程式の $f$ と一次独立な解 $g$ を\n",
    "\n",
    "$$\n",
    "\\begin{aligned}\n",
    "&\n",
    "\\phi = \\int\\frac{1}{f^2}e^{-\\int p\\,dx}\\,dx =\n",
    "\\int\\frac{a}{f^2}e^{-\\int b\\,dx}\\,dx, \n",
    "\\\\ &\n",
    "g = \\phi f = f\\int\\frac{a}{f^2}e^{-\\int b\\,dx}\\,dx\n",
    "\\end{aligned}\n",
    "$$\n",
    "\n",
    "によって構成できる. \n",
    "\n",
    "ゆえに, Riccati方程式 ($*$) のすべての解は, 線形常微分方程式 ($**$) の $0$ でないある解\n",
    "\n",
    "$$\n",
    "\\psi = \\alpha f + \\beta g =\n",
    "f\\cdot\\left(\\alpha + \\beta \\phi \\right) =\n",
    "f\\cdot\\left(\\alpha + \\beta \\int\\frac{a}{f^2}e^{-\\int b\\,dx}\\,dx \\right)\n",
    "$$\n",
    "\n",
    "によって, \n",
    "\n",
    "$$\n",
    "u = \\frac{1}{a}\\frac{\\psi'}{\\psi} = \\frac{1}{a}(\\log\\psi)' =\n",
    "\\frac{1}{a}\\frac{f'}{f} + \n",
    "\\frac{\\beta(1/f^2)e^{-\\int b\\,dx}}{\\alpha + \\beta \\int(a/f^2)e^{-\\int b\\,dx}\\,dx}\n",
    "$$\n",
    "\n",
    "と表わされる."
   ]
  },
  {
   "cell_type": "markdown",
   "metadata": {},
   "source": [
    "コンピューターによる以上の結果の確認."
   ]
  },
  {
   "cell_type": "code",
   "execution_count": 76,
   "metadata": {},
   "outputs": [
    {
     "data": {
      "text/html": [
       "<style>\n",
       "\t\t\t\t\t\t\t\t\t\t\t.grid-container {\n",
       "\t\t\t\t\t\t\t\t\t\t\t\tdisplay: inline-grid;\n",
       "\t\t\t\t\t\t\t\t\t\t\t\tgrid-template-columns: auto auto;\n",
       "\t\t\t\t\t\t\t\t\t\t\t}\n",
       "\t\t\t\t\t\t\t\t\t\t</style>\n",
       "\n",
       "\t\t\t\t\t\t\t\t\t\t<div><div class=\"grid-container\"><div class=\"grid-item\">\n",
       "\t\t\t\t\t\t\t\t\t\t\t\t\t<div class=\"prompt output_prompt\" style=\"text-align:left;padding:0em;padding-right:20px;line-height:20px;\">\n",
       "\t\t\t\t\t\t\t\t\t\t\t\t\t\tOut[78]:\n",
       "\t\t\t\t\t\t\t\t\t\t\t\t\t</div>\n",
       "\t\t\t\t\t\t\t\t\t\t\t\t</div>\n",
       "\t\t\t\t\t\t\t\t\t\t\t\t<div class=\"grid-item\">$$&#98;&#40;&#120;&#41;&#45;&#92;&#102;&#114;&#97;&#99;&#123;&#97;&#39;&#40;&#120;&#41;&#125;&#123;&#97;&#40;&#120;&#41;&#125;$$</div><div class=\"grid-item\">\n",
       "\t\t\t\t\t\t\t\t\t\t\t\t\t<div class=\"prompt output_prompt\" style=\"text-align:left;padding:0em;padding-right:20px;line-height:20px;\">\n",
       "\t\t\t\t\t\t\t\t\t\t\t\t\t\tOut[80]:\n",
       "\t\t\t\t\t\t\t\t\t\t\t\t\t</div>\n",
       "\t\t\t\t\t\t\t\t\t\t\t\t</div>\n",
       "\t\t\t\t\t\t\t\t\t\t\t\t<div class=\"grid-item\">$$&#97;&#40;&#120;&#41;&#32;&#99;&#40;&#120;&#41;$$</div><div class=\"grid-item\">\n",
       "\t\t\t\t\t\t\t\t\t\t\t\t\t<div class=\"prompt output_prompt\" style=\"text-align:left;padding:0em;padding-right:20px;line-height:20px;\">\n",
       "\t\t\t\t\t\t\t\t\t\t\t\t\t\tOut[82]:\n",
       "\t\t\t\t\t\t\t\t\t\t\t\t\t</div>\n",
       "\t\t\t\t\t\t\t\t\t\t\t\t</div>\n",
       "\t\t\t\t\t\t\t\t\t\t\t\t<div class=\"grid-item\">$$&#102;&#39;&#39;&#40;&#120;&#41;&#92;&#116;&#111;&#32;&#45;&#102;&#39;&#40;&#120;&#41;&#32;&#92;&#108;&#101;&#102;&#116;&#40;&#98;&#40;&#120;&#41;&#45;&#92;&#102;&#114;&#97;&#99;&#123;&#97;&#39;&#40;&#120;&#41;&#125;&#123;&#97;&#40;&#120;&#41;&#125;&#92;&#114;&#105;&#103;&#104;&#116;&#41;&#45;&#97;&#40;&#120;&#41;&#32;&#99;&#40;&#120;&#41;&#32;&#102;&#40;&#120;&#41;$$</div></div></div>"
      ]
     },
     "execution_count": 78,
     "metadata": {
      "text/html": []
     },
     "output_type": "execute_result"
    }
   ],
   "source": [
    "Clear[a,b,c,f,g,p,q,u,w,x,alpha,beta,dphi,phi,psi,L,R]\n",
    "p = b[x] - a'[x]/a[x];\n",
    "p // TeX\n",
    "q = a[x]c[x];\n",
    "q // TeX\n",
    "rulef = f''[x] -> -p f'[x] -q f[x];\n",
    "rulef // TeX"
   ]
  },
  {
   "cell_type": "code",
   "execution_count": 83,
   "metadata": {},
   "outputs": [
    {
     "data": {
      "text/html": [
       "<style>\n",
       "\t\t\t\t\t\t\t\t\t\t\t.grid-container {\n",
       "\t\t\t\t\t\t\t\t\t\t\t\tdisplay: inline-grid;\n",
       "\t\t\t\t\t\t\t\t\t\t\t\tgrid-template-columns: auto auto;\n",
       "\t\t\t\t\t\t\t\t\t\t\t}\n",
       "\t\t\t\t\t\t\t\t\t\t</style>\n",
       "\n",
       "\t\t\t\t\t\t\t\t\t\t<div><div class=\"grid-container\"><div class=\"grid-item\">\n",
       "\t\t\t\t\t\t\t\t\t\t\t\t\t<div class=\"prompt output_prompt\" style=\"text-align:left;padding:0em;padding-right:20px;line-height:20px;\">\n",
       "\t\t\t\t\t\t\t\t\t\t\t\t\t\tOut[84]:\n",
       "\t\t\t\t\t\t\t\t\t\t\t\t\t</div>\n",
       "\t\t\t\t\t\t\t\t\t\t\t\t</div>\n",
       "\t\t\t\t\t\t\t\t\t\t\t\t<div class=\"grid-item\">$$&#92;&#102;&#114;&#97;&#99;&#123;&#97;&#40;&#120;&#41;&#32;&#101;&#94;&#123;&#45;&#92;&#105;&#110;&#116;&#32;&#98;&#40;&#120;&#41;&#32;&#92;&#44;&#32;&#100;&#120;&#125;&#125;&#123;&#102;&#40;&#120;&#41;&#94;&#50;&#125;$$</div><div class=\"grid-item\">\n",
       "\t\t\t\t\t\t\t\t\t\t\t\t\t<div class=\"prompt output_prompt\" style=\"text-align:left;padding:0em;padding-right:20px;line-height:20px;\">\n",
       "\t\t\t\t\t\t\t\t\t\t\t\t\t\tOut[86]:\n",
       "\t\t\t\t\t\t\t\t\t\t\t\t\t</div>\n",
       "\t\t\t\t\t\t\t\t\t\t\t\t</div>\n",
       "\t\t\t\t\t\t\t\t\t\t\t\t<div class=\"grid-item\">$$&#92;&#105;&#110;&#116;&#32;&#92;&#102;&#114;&#97;&#99;&#123;&#97;&#40;&#120;&#41;&#32;&#101;&#94;&#123;&#45;&#92;&#105;&#110;&#116;&#32;&#98;&#40;&#120;&#41;&#32;&#92;&#44;&#32;&#100;&#120;&#125;&#125;&#123;&#102;&#40;&#120;&#41;&#94;&#50;&#125;&#32;&#92;&#44;&#32;&#100;&#120;$$</div><div class=\"grid-item\">\n",
       "\t\t\t\t\t\t\t\t\t\t\t\t\t<div class=\"prompt output_prompt\" style=\"text-align:left;padding:0em;padding-right:20px;line-height:20px;\">\n",
       "\t\t\t\t\t\t\t\t\t\t\t\t\t\tOut[88]:\n",
       "\t\t\t\t\t\t\t\t\t\t\t\t\t</div>\n",
       "\t\t\t\t\t\t\t\t\t\t\t\t</div>\n",
       "\t\t\t\t\t\t\t\t\t\t\t\t<div class=\"grid-item\">$$&#102;&#40;&#120;&#41;&#32;&#92;&#105;&#110;&#116;&#32;&#92;&#102;&#114;&#97;&#99;&#123;&#97;&#40;&#120;&#41;&#32;&#101;&#94;&#123;&#45;&#92;&#105;&#110;&#116;&#32;&#98;&#40;&#120;&#41;&#32;&#92;&#44;&#32;&#100;&#120;&#125;&#125;&#123;&#102;&#40;&#120;&#41;&#94;&#50;&#125;&#32;&#92;&#44;&#32;&#100;&#120;$$</div></div></div>"
      ]
     },
     "execution_count": 84,
     "metadata": {
      "text/html": []
     },
     "output_type": "execute_result"
    }
   ],
   "source": [
    "dphi = a[x]/f[x]^2 Exp[-Integrate[b[x], x]];\n",
    "dphi // TeX\n",
    "phi = Integrate[dphi, x];\n",
    "phi // TeX\n",
    "g = f[x] phi;\n",
    "g // TeX"
   ]
  },
  {
   "cell_type": "code",
   "execution_count": 89,
   "metadata": {},
   "outputs": [
    {
     "data": {
      "text/html": [
       "<style>\n",
       "\t\t\t\t\t\t\t\t\t\t\t.grid-container {\n",
       "\t\t\t\t\t\t\t\t\t\t\t\tdisplay: inline-grid;\n",
       "\t\t\t\t\t\t\t\t\t\t\t\tgrid-template-columns: auto auto;\n",
       "\t\t\t\t\t\t\t\t\t\t\t}\n",
       "\t\t\t\t\t\t\t\t\t\t</style>\n",
       "\n",
       "\t\t\t\t\t\t\t\t\t\t<div><div class=\"grid-container\"><div class=\"grid-item\">\n",
       "\t\t\t\t\t\t\t\t\t\t\t\t\t<div class=\"prompt output_prompt\" style=\"text-align:left;padding:0em;padding-right:20px;line-height:20px;\">\n",
       "\t\t\t\t\t\t\t\t\t\t\t\t\t\tOut[90]:\n",
       "\t\t\t\t\t\t\t\t\t\t\t\t\t</div>\n",
       "\t\t\t\t\t\t\t\t\t\t\t\t</div>\n",
       "\t\t\t\t\t\t\t\t\t\t\t\t<div class=\"grid-item\">$$&#92;&#108;&#101;&#102;&#116;&#40;&#92;&#105;&#110;&#116;&#32;&#92;&#102;&#114;&#97;&#99;&#123;&#97;&#40;&#120;&#41;&#32;&#101;&#94;&#123;&#45;&#92;&#105;&#110;&#116;&#32;&#98;&#40;&#120;&#41;&#32;&#92;&#44;&#32;&#100;&#120;&#125;&#125;&#123;&#102;&#40;&#120;&#41;&#94;&#50;&#125;&#32;&#92;&#44;&#32;&#100;&#120;&#92;&#114;&#105;&#103;&#104;&#116;&#41;&#32;&#92;&#108;&#101;&#102;&#116;&#40;&#45;&#92;&#102;&#114;&#97;&#99;&#123;&#97;&#39;&#40;&#120;&#41;&#32;&#102;&#39;&#40;&#120;&#41;&#125;&#123;&#97;&#40;&#120;&#41;&#125;&#43;&#97;&#40;&#120;&#41;&#32;&#99;&#40;&#120;&#41;&#32;&#102;&#40;&#120;&#41;&#43;&#98;&#40;&#120;&#41;&#32;&#102;&#39;&#40;&#120;&#41;&#43;&#102;&#39;&#39;&#40;&#120;&#41;&#92;&#114;&#105;&#103;&#104;&#116;&#41;$$</div><div class=\"grid-item\">\n",
       "\t\t\t\t\t\t\t\t\t\t\t\t\t<div class=\"prompt output_prompt\" style=\"text-align:left;padding:0em;padding-right:20px;line-height:20px;\">\n",
       "\t\t\t\t\t\t\t\t\t\t\t\t\t\tOut[91]:\n",
       "\t\t\t\t\t\t\t\t\t\t\t\t\t</div>\n",
       "\t\t\t\t\t\t\t\t\t\t\t\t</div>\n",
       "\t\t\t\t\t\t\t\t\t\t\t\t<div class=\"grid-item\">$$&#48;$$</div></div></div>"
      ]
     },
     "execution_count": 90,
     "metadata": {
      "text/html": []
     },
     "output_type": "execute_result"
    }
   ],
   "source": [
    "L = Expand[(D[g,x,x] + p D[g,x] + q g)/phi]*phi;\n",
    "L // TeX\n",
    "L/.rulef // Simplify // TeX"
   ]
  },
  {
   "cell_type": "code",
   "execution_count": 92,
   "metadata": {},
   "outputs": [
    {
     "data": {
      "text/html": [
       "<style>\n",
       "\t\t\t\t\t\t\t\t\t\t\t.grid-container {\n",
       "\t\t\t\t\t\t\t\t\t\t\t\tdisplay: inline-grid;\n",
       "\t\t\t\t\t\t\t\t\t\t\t\tgrid-template-columns: auto auto;\n",
       "\t\t\t\t\t\t\t\t\t\t\t}\n",
       "\t\t\t\t\t\t\t\t\t\t</style>\n",
       "\n",
       "\t\t\t\t\t\t\t\t\t\t<div><div class=\"grid-container\"><div class=\"grid-item\">\n",
       "\t\t\t\t\t\t\t\t\t\t\t\t\t<div class=\"prompt output_prompt\" style=\"text-align:left;padding:0em;padding-right:20px;line-height:20px;\">\n",
       "\t\t\t\t\t\t\t\t\t\t\t\t\t\tOut[93]:\n",
       "\t\t\t\t\t\t\t\t\t\t\t\t\t</div>\n",
       "\t\t\t\t\t\t\t\t\t\t\t\t</div>\n",
       "\t\t\t\t\t\t\t\t\t\t\t\t<div class=\"grid-item\">$$&#92;&#102;&#114;&#97;&#99;&#123;&#92;&#98;&#101;&#116;&#97;&#32;&#32;&#101;&#94;&#123;&#45;&#92;&#105;&#110;&#116;&#32;&#98;&#40;&#120;&#41;&#32;&#92;&#44;&#32;&#100;&#120;&#125;&#125;&#123;&#102;&#40;&#120;&#41;&#94;&#50;&#32;&#92;&#108;&#101;&#102;&#116;&#40;&#92;&#98;&#101;&#116;&#97;&#32;&#32;&#92;&#105;&#110;&#116;&#32;&#92;&#102;&#114;&#97;&#99;&#123;&#97;&#40;&#120;&#41;&#32;&#101;&#94;&#123;&#45;&#92;&#105;&#110;&#116;&#32;&#98;&#40;&#120;&#41;&#32;&#92;&#44;&#32;&#100;&#120;&#125;&#125;&#123;&#102;&#40;&#120;&#41;&#94;&#50;&#125;&#32;&#92;&#44;&#32;&#100;&#120;&#43;&#92;&#97;&#108;&#112;&#104;&#97;&#32;&#92;&#114;&#105;&#103;&#104;&#116;&#41;&#125;&#43;&#92;&#102;&#114;&#97;&#99;&#123;&#102;&#39;&#40;&#120;&#41;&#125;&#123;&#97;&#40;&#120;&#41;&#32;&#102;&#40;&#120;&#41;&#125;$$</div><div class=\"grid-item\">\n",
       "\t\t\t\t\t\t\t\t\t\t\t\t\t<div class=\"prompt output_prompt\" style=\"text-align:left;padding:0em;padding-right:20px;line-height:20px;\">\n",
       "\t\t\t\t\t\t\t\t\t\t\t\t\t\tOut[95]:\n",
       "\t\t\t\t\t\t\t\t\t\t\t\t\t</div>\n",
       "\t\t\t\t\t\t\t\t\t\t\t\t</div>\n",
       "\t\t\t\t\t\t\t\t\t\t\t\t<div class=\"grid-item\">$$&#45;&#92;&#102;&#114;&#97;&#99;&#123;&#97;&#39;&#40;&#120;&#41;&#32;&#102;&#39;&#40;&#120;&#41;&#125;&#123;&#97;&#40;&#120;&#41;&#125;&#43;&#97;&#40;&#120;&#41;&#32;&#99;&#40;&#120;&#41;&#32;&#102;&#40;&#120;&#41;&#43;&#98;&#40;&#120;&#41;&#32;&#102;&#39;&#40;&#120;&#41;&#43;&#102;&#39;&#39;&#40;&#120;&#41;$$</div><div class=\"grid-item\">\n",
       "\t\t\t\t\t\t\t\t\t\t\t\t\t<div class=\"prompt output_prompt\" style=\"text-align:left;padding:0em;padding-right:20px;line-height:20px;\">\n",
       "\t\t\t\t\t\t\t\t\t\t\t\t\t\tOut[96]:\n",
       "\t\t\t\t\t\t\t\t\t\t\t\t\t</div>\n",
       "\t\t\t\t\t\t\t\t\t\t\t\t</div>\n",
       "\t\t\t\t\t\t\t\t\t\t\t\t<div class=\"grid-item\">$$&#48;$$</div></div></div>"
      ]
     },
     "execution_count": 93,
     "metadata": {
      "text/html": []
     },
     "output_type": "execute_result"
    }
   ],
   "source": [
    "u = 1/a[x] D[alpha f[x]+beta g,x]/(alpha f[x]+beta g);\n",
    "u // Simplify // Expand // TeX\n",
    "R = Expand[Simplify[D[u,x] + a[x] u^2 + b[x]u + c[x]]a[x]f[x]];\n",
    "R // TeX\n",
    "R /.rulef // Simplify // TeX"
   ]
  },
  {
   "cell_type": "markdown",
   "metadata": {},
   "source": [
    "$a=1$ の易しい場合のコンピューターによる以上の結果の確認. ただし, $b,c$ を $p,q$ と書く."
   ]
  },
  {
   "cell_type": "code",
   "execution_count": 97,
   "metadata": {},
   "outputs": [
    {
     "data": {
      "text/html": [
       "<div>$$&#102;&#39;&#39;&#40;&#120;&#41;&#92;&#116;&#111;&#32;&#45;&#112;&#40;&#120;&#41;&#32;&#102;&#39;&#40;&#120;&#41;&#45;&#102;&#40;&#120;&#41;&#32;&#113;&#40;&#120;&#41;$$</div>"
      ]
     },
     "execution_count": 99,
     "metadata": {
      "text/html": []
     },
     "output_type": "execute_result"
    }
   ],
   "source": [
    "Clear[a,b,c,f,g,p,q,u,w,x,alpha,beta,dphi,phi,psi,L,R]\n",
    "rulef = f''[x] -> -p[x]f'[x]-q[x]f[x];\n",
    "rulef // TeX"
   ]
  },
  {
   "cell_type": "code",
   "execution_count": 100,
   "metadata": {},
   "outputs": [
    {
     "data": {
      "text/html": [
       "<style>\n",
       "\t\t\t\t\t\t\t\t\t\t\t.grid-container {\n",
       "\t\t\t\t\t\t\t\t\t\t\t\tdisplay: inline-grid;\n",
       "\t\t\t\t\t\t\t\t\t\t\t\tgrid-template-columns: auto auto;\n",
       "\t\t\t\t\t\t\t\t\t\t\t}\n",
       "\t\t\t\t\t\t\t\t\t\t</style>\n",
       "\n",
       "\t\t\t\t\t\t\t\t\t\t<div><div class=\"grid-container\"><div class=\"grid-item\">\n",
       "\t\t\t\t\t\t\t\t\t\t\t\t\t<div class=\"prompt output_prompt\" style=\"text-align:left;padding:0em;padding-right:20px;line-height:20px;\">\n",
       "\t\t\t\t\t\t\t\t\t\t\t\t\t\tOut[101]:\n",
       "\t\t\t\t\t\t\t\t\t\t\t\t\t</div>\n",
       "\t\t\t\t\t\t\t\t\t\t\t\t</div>\n",
       "\t\t\t\t\t\t\t\t\t\t\t\t<div class=\"grid-item\">$$&#92;&#102;&#114;&#97;&#99;&#123;&#101;&#94;&#123;&#45;&#92;&#105;&#110;&#116;&#32;&#112;&#40;&#120;&#41;&#32;&#92;&#44;&#32;&#100;&#120;&#125;&#125;&#123;&#102;&#40;&#120;&#41;&#94;&#50;&#125;$$</div><div class=\"grid-item\">\n",
       "\t\t\t\t\t\t\t\t\t\t\t\t\t<div class=\"prompt output_prompt\" style=\"text-align:left;padding:0em;padding-right:20px;line-height:20px;\">\n",
       "\t\t\t\t\t\t\t\t\t\t\t\t\t\tOut[103]:\n",
       "\t\t\t\t\t\t\t\t\t\t\t\t\t</div>\n",
       "\t\t\t\t\t\t\t\t\t\t\t\t</div>\n",
       "\t\t\t\t\t\t\t\t\t\t\t\t<div class=\"grid-item\">$$&#92;&#105;&#110;&#116;&#32;&#92;&#102;&#114;&#97;&#99;&#123;&#101;&#94;&#123;&#45;&#92;&#105;&#110;&#116;&#32;&#112;&#40;&#120;&#41;&#32;&#92;&#44;&#32;&#100;&#120;&#125;&#125;&#123;&#102;&#40;&#120;&#41;&#94;&#50;&#125;&#32;&#92;&#44;&#32;&#100;&#120;$$</div><div class=\"grid-item\">\n",
       "\t\t\t\t\t\t\t\t\t\t\t\t\t<div class=\"prompt output_prompt\" style=\"text-align:left;padding:0em;padding-right:20px;line-height:20px;\">\n",
       "\t\t\t\t\t\t\t\t\t\t\t\t\t\tOut[105]:\n",
       "\t\t\t\t\t\t\t\t\t\t\t\t\t</div>\n",
       "\t\t\t\t\t\t\t\t\t\t\t\t</div>\n",
       "\t\t\t\t\t\t\t\t\t\t\t\t<div class=\"grid-item\">$$&#102;&#40;&#120;&#41;&#32;&#92;&#105;&#110;&#116;&#32;&#92;&#102;&#114;&#97;&#99;&#123;&#101;&#94;&#123;&#45;&#92;&#105;&#110;&#116;&#32;&#112;&#40;&#120;&#41;&#32;&#92;&#44;&#32;&#100;&#120;&#125;&#125;&#123;&#102;&#40;&#120;&#41;&#94;&#50;&#125;&#32;&#92;&#44;&#32;&#100;&#120;$$</div></div></div>"
      ]
     },
     "execution_count": 101,
     "metadata": {
      "text/html": []
     },
     "output_type": "execute_result"
    }
   ],
   "source": [
    "dphi = 1/f[x]^2 Exp[-Integrate[p[x], x]];\n",
    "dphi // TeX\n",
    "phi = Integrate[dphi, x];\n",
    "phi // TeX\n",
    "g = f[x] phi;\n",
    "g // TeX"
   ]
  },
  {
   "cell_type": "code",
   "execution_count": 106,
   "metadata": {},
   "outputs": [
    {
     "data": {
      "text/html": [
       "<style>\n",
       "\t\t\t\t\t\t\t\t\t\t\t.grid-container {\n",
       "\t\t\t\t\t\t\t\t\t\t\t\tdisplay: inline-grid;\n",
       "\t\t\t\t\t\t\t\t\t\t\t\tgrid-template-columns: auto auto;\n",
       "\t\t\t\t\t\t\t\t\t\t\t}\n",
       "\t\t\t\t\t\t\t\t\t\t</style>\n",
       "\n",
       "\t\t\t\t\t\t\t\t\t\t<div><div class=\"grid-container\"><div class=\"grid-item\">\n",
       "\t\t\t\t\t\t\t\t\t\t\t\t\t<div class=\"prompt output_prompt\" style=\"text-align:left;padding:0em;padding-right:20px;line-height:20px;\">\n",
       "\t\t\t\t\t\t\t\t\t\t\t\t\t\tOut[107]:\n",
       "\t\t\t\t\t\t\t\t\t\t\t\t\t</div>\n",
       "\t\t\t\t\t\t\t\t\t\t\t\t</div>\n",
       "\t\t\t\t\t\t\t\t\t\t\t\t<div class=\"grid-item\">$$&#92;&#108;&#101;&#102;&#116;&#40;&#92;&#105;&#110;&#116;&#32;&#92;&#102;&#114;&#97;&#99;&#123;&#101;&#94;&#123;&#45;&#92;&#105;&#110;&#116;&#32;&#112;&#40;&#120;&#41;&#32;&#92;&#44;&#32;&#100;&#120;&#125;&#125;&#123;&#102;&#40;&#120;&#41;&#94;&#50;&#125;&#32;&#92;&#44;&#32;&#100;&#120;&#92;&#114;&#105;&#103;&#104;&#116;&#41;&#32;&#92;&#108;&#101;&#102;&#116;&#40;&#102;&#39;&#39;&#40;&#120;&#41;&#43;&#112;&#40;&#120;&#41;&#32;&#102;&#39;&#40;&#120;&#41;&#43;&#102;&#40;&#120;&#41;&#32;&#113;&#40;&#120;&#41;&#92;&#114;&#105;&#103;&#104;&#116;&#41;$$</div><div class=\"grid-item\">\n",
       "\t\t\t\t\t\t\t\t\t\t\t\t\t<div class=\"prompt output_prompt\" style=\"text-align:left;padding:0em;padding-right:20px;line-height:20px;\">\n",
       "\t\t\t\t\t\t\t\t\t\t\t\t\t\tOut[108]:\n",
       "\t\t\t\t\t\t\t\t\t\t\t\t\t</div>\n",
       "\t\t\t\t\t\t\t\t\t\t\t\t</div>\n",
       "\t\t\t\t\t\t\t\t\t\t\t\t<div class=\"grid-item\">$$&#48;$$</div></div></div>"
      ]
     },
     "execution_count": 107,
     "metadata": {
      "text/html": []
     },
     "output_type": "execute_result"
    }
   ],
   "source": [
    "L = D[g,x,x] + p[x] D[g,x] + q[x] g // Simplify;\n",
    "L // TeX\n",
    "L/.rulef // TeX"
   ]
  },
  {
   "cell_type": "code",
   "execution_count": 109,
   "metadata": {},
   "outputs": [
    {
     "data": {
      "text/html": [
       "<style>\n",
       "\t\t\t\t\t\t\t\t\t\t\t.grid-container {\n",
       "\t\t\t\t\t\t\t\t\t\t\t\tdisplay: inline-grid;\n",
       "\t\t\t\t\t\t\t\t\t\t\t\tgrid-template-columns: auto auto;\n",
       "\t\t\t\t\t\t\t\t\t\t\t}\n",
       "\t\t\t\t\t\t\t\t\t\t</style>\n",
       "\n",
       "\t\t\t\t\t\t\t\t\t\t<div><div class=\"grid-container\"><div class=\"grid-item\">\n",
       "\t\t\t\t\t\t\t\t\t\t\t\t\t<div class=\"prompt output_prompt\" style=\"text-align:left;padding:0em;padding-right:20px;line-height:20px;\">\n",
       "\t\t\t\t\t\t\t\t\t\t\t\t\t\tOut[110]:\n",
       "\t\t\t\t\t\t\t\t\t\t\t\t\t</div>\n",
       "\t\t\t\t\t\t\t\t\t\t\t\t</div>\n",
       "\t\t\t\t\t\t\t\t\t\t\t\t<div class=\"grid-item\">$$&#92;&#102;&#114;&#97;&#99;&#123;&#92;&#98;&#101;&#116;&#97;&#32;&#32;&#101;&#94;&#123;&#45;&#92;&#105;&#110;&#116;&#32;&#112;&#40;&#120;&#41;&#32;&#92;&#44;&#32;&#100;&#120;&#125;&#125;&#123;&#102;&#40;&#120;&#41;&#94;&#50;&#32;&#92;&#108;&#101;&#102;&#116;&#40;&#92;&#97;&#108;&#112;&#104;&#97;&#32;&#43;&#92;&#98;&#101;&#116;&#97;&#32;&#32;&#92;&#105;&#110;&#116;&#32;&#92;&#102;&#114;&#97;&#99;&#123;&#101;&#94;&#123;&#45;&#92;&#105;&#110;&#116;&#32;&#112;&#40;&#120;&#41;&#32;&#92;&#44;&#32;&#100;&#120;&#125;&#125;&#123;&#102;&#40;&#120;&#41;&#94;&#50;&#125;&#32;&#92;&#44;&#32;&#100;&#120;&#92;&#114;&#105;&#103;&#104;&#116;&#41;&#125;&#43;&#92;&#102;&#114;&#97;&#99;&#123;&#102;&#39;&#40;&#120;&#41;&#125;&#123;&#102;&#40;&#120;&#41;&#125;$$</div><div class=\"grid-item\">\n",
       "\t\t\t\t\t\t\t\t\t\t\t\t\t<div class=\"prompt output_prompt\" style=\"text-align:left;padding:0em;padding-right:20px;line-height:20px;\">\n",
       "\t\t\t\t\t\t\t\t\t\t\t\t\t\tOut[112]:\n",
       "\t\t\t\t\t\t\t\t\t\t\t\t\t</div>\n",
       "\t\t\t\t\t\t\t\t\t\t\t\t</div>\n",
       "\t\t\t\t\t\t\t\t\t\t\t\t<div class=\"grid-item\">$$&#92;&#102;&#114;&#97;&#99;&#123;&#102;&#39;&#39;&#40;&#120;&#41;&#43;&#112;&#40;&#120;&#41;&#32;&#102;&#39;&#40;&#120;&#41;&#43;&#102;&#40;&#120;&#41;&#32;&#113;&#40;&#120;&#41;&#125;&#123;&#102;&#40;&#120;&#41;&#125;$$</div><div class=\"grid-item\">\n",
       "\t\t\t\t\t\t\t\t\t\t\t\t\t<div class=\"prompt output_prompt\" style=\"text-align:left;padding:0em;padding-right:20px;line-height:20px;\">\n",
       "\t\t\t\t\t\t\t\t\t\t\t\t\t\tOut[113]:\n",
       "\t\t\t\t\t\t\t\t\t\t\t\t\t</div>\n",
       "\t\t\t\t\t\t\t\t\t\t\t\t</div>\n",
       "\t\t\t\t\t\t\t\t\t\t\t\t<div class=\"grid-item\">$$&#48;$$</div></div></div>"
      ]
     },
     "execution_count": 110,
     "metadata": {
      "text/html": []
     },
     "output_type": "execute_result"
    }
   ],
   "source": [
    "u = D[alpha f[x]+beta g,x]/(alpha f[x]+beta g);\n",
    "u // Simplify // Expand // TeX\n",
    "R = D[u,x] + u^2 + p[x]u + q[x] // Simplify;\n",
    "R // TeX\n",
    "R/.rulef // TeX"
   ]
  },
  {
   "cell_type": "markdown",
   "metadata": {},
   "source": [
    "### Riccati方程式に定数解が存在する場合\n",
    "\n",
    "$$\n",
    "p=b-\\frac{a'}{a}, \\quad q=ac\n",
    "$$\n",
    "\n",
    "とおき, Riccati方程式\n",
    "\n",
    "$$\n",
    "u' + au^2 + bu + c = 0\n",
    "\\tag{$*$}\n",
    "$$\n",
    "\n",
    "が定数解 $\\kappa$ を持つ場合を考える. そのとき, \n",
    "\n",
    "$$\n",
    "\\kappa^2 a + \\kappa b + c = 0, \\quad\n",
    "\\kappa=\\frac{1}{a}\\frac{f'}{f}, \\quad\n",
    "f=e^{\\kappa\\int a\\,dx}\n",
    "$$ \n",
    "\n",
    "でかつ, $f$ は $\\psi$ に関する線形常微分方程式\n",
    "\n",
    "$$\n",
    "(\\d^2+p\\d+q)\\psi = 0\n",
    "\\tag{$**$}\n",
    "$$\n",
    "\n",
    "の $0$ でない解になっている.  そのことは以下のようにして直接的にも確認できる:\n",
    "\n",
    "$$\n",
    "\\begin{aligned}\n",
    "&\n",
    "f' = \\kappa a f,\n",
    "\\\\ &\n",
    "f'' = \\kappa af' + \\kappa a'f = \\kappa^2 a^2 f + \\kappa a'f,\n",
    "\\\\ &\n",
    "\\left(\\d^2+p\\d+q\\right)f =\n",
    "\\kappa^2 a^2 f + \\kappa a'f + \\left(b - \\frac{a'}{a}\\right)\\kappa a f + acf\n",
    "\\\\ & \\phantom{\\left(\\d^2+p\\d+q\\right)f} =\n",
    "(\\kappa^2 a + b\\kappa + c)af = 0.\n",
    "\\end{aligned}\n",
    "$$\n",
    "\n",
    "線形常微分方程式 ($**$) の $f$ と一次独立な解 $g$ を\n",
    "\n",
    "$$\n",
    "\\begin{aligned}\n",
    "&\n",
    "\\phi' = \\frac{1}{f^2}e^{-\\int p\\,dx} = \n",
    "\\frac{a}{f^2}e^{-\\int b\\,dx} =\n",
    "a e^{-\\int(2\\kappa a + b)\\,dx},\n",
    "\\\\ &\n",
    "\\phi = \\int a e^{-\\int(2\\kappa a+b)\\,dx}\\,dx, \n",
    "\\\\ &\n",
    "g = \\phi f = f\\int a e^{-\\int(2\\kappa a+b)\\,dx}\\,dx\n",
    "\\end{aligned}\n",
    "$$\n",
    "\n",
    "によって構成できる.\n",
    "\n",
    "ゆえに, 定数解を持つ場合の Riccati方程式 ($*$) のすべての解は, 線形常微分方程式 ($**$) の $0$ でないある解\n",
    "\n",
    "$$\n",
    "\\psi = \\alpha f + \\beta g =\n",
    "f\\cdot\\left(\\alpha + \\beta \\phi \\right) =\n",
    "f\\cdot\\left(\\alpha + \\beta \\int a e^{-\\int(2\\kappa a+b)\\,dx}\\,dx \\right)\n",
    "$$\n",
    "\n",
    "によって, \n",
    "\n",
    "$$\n",
    "u = \\frac{1}{a}\\frac{\\psi'}{\\psi} = \\frac{1}{a}(\\log\\psi)' =\n",
    "\\kappa + \\frac{\\beta\\phi'/a}{\\alpha+\\beta\\phi}=\n",
    "\\kappa + \n",
    "\\frac{\\beta e^{-\\int(2\\kappa a+b)\\,dx}}\n",
    "{\\alpha + \\beta \\int a e^{-\\int(2\\kappa a+b)\\,dx}\\,dx}\n",
    "$$\n",
    "\n",
    "と表わされる."
   ]
  },
  {
   "cell_type": "code",
   "execution_count": 114,
   "metadata": {},
   "outputs": [
    {
     "data": {
      "text/html": [
       "<div>$$&#99;&#40;&#120;&#41;&#92;&#116;&#111;&#32;&#92;&#107;&#97;&#112;&#112;&#97;&#32;&#94;&#50;&#32;&#40;&#45;&#97;&#40;&#120;&#41;&#41;&#45;&#92;&#107;&#97;&#112;&#112;&#97;&#32;&#32;&#98;&#40;&#120;&#41;$$</div>"
      ]
     },
     "execution_count": 116,
     "metadata": {
      "text/html": []
     },
     "output_type": "execute_result"
    }
   ],
   "source": [
    "Clear[a,b,c,f,g,p,q,u,w,x,alpha,beta,dphi,phi,psi,L,R]\n",
    "rulec = c[x]->-kappa^2 a[x]-kappa b[x];\n",
    "rulec // TeX"
   ]
  },
  {
   "cell_type": "code",
   "execution_count": 117,
   "metadata": {},
   "outputs": [
    {
     "data": {
      "text/html": [
       "<div>$$&#101;&#94;&#123;&#92;&#107;&#97;&#112;&#112;&#97;&#32;&#32;&#92;&#105;&#110;&#116;&#32;&#97;&#40;&#120;&#41;&#32;&#92;&#44;&#32;&#100;&#120;&#125;$$</div>"
      ]
     },
     "execution_count": 118,
     "metadata": {
      "text/html": []
     },
     "output_type": "execute_result"
    }
   ],
   "source": [
    "f[x_] := Exp[Integrate[kappa a[x], x]]\n",
    "f[x] // TeX"
   ]
  },
  {
   "cell_type": "code",
   "execution_count": 119,
   "metadata": {},
   "outputs": [
    {
     "data": {
      "text/html": [
       "<div>$$&#97;&#40;&#120;&#41;&#32;&#101;&#94;&#123;&#45;&#50;&#32;&#92;&#107;&#97;&#112;&#112;&#97;&#32;&#32;&#92;&#105;&#110;&#116;&#32;&#97;&#40;&#120;&#41;&#32;&#92;&#44;&#32;&#100;&#120;&#45;&#92;&#105;&#110;&#116;&#32;&#98;&#40;&#120;&#41;&#32;&#92;&#44;&#32;&#100;&#120;&#125;$$</div>"
      ]
     },
     "execution_count": 120,
     "metadata": {
      "text/html": []
     },
     "output_type": "execute_result"
    }
   ],
   "source": [
    "dphi = a[x]/f[x]^2 Exp[-Integrate[b[x], x]];\n",
    "dphi // TeX"
   ]
  },
  {
   "cell_type": "code",
   "execution_count": 121,
   "metadata": {},
   "outputs": [
    {
     "data": {
      "text/html": [
       "<div>$$&#92;&#105;&#110;&#116;&#32;&#97;&#40;&#120;&#41;&#32;&#101;&#94;&#123;&#45;&#50;&#32;&#92;&#107;&#97;&#112;&#112;&#97;&#32;&#32;&#92;&#105;&#110;&#116;&#32;&#97;&#40;&#120;&#41;&#32;&#92;&#44;&#32;&#100;&#120;&#45;&#92;&#105;&#110;&#116;&#32;&#98;&#40;&#120;&#41;&#32;&#92;&#44;&#32;&#100;&#120;&#125;&#32;&#92;&#44;&#32;&#100;&#120;$$</div>"
      ]
     },
     "execution_count": 122,
     "metadata": {
      "text/html": []
     },
     "output_type": "execute_result"
    }
   ],
   "source": [
    "phi = Integrate[dphi, x];\n",
    "phi // TeX"
   ]
  },
  {
   "cell_type": "code",
   "execution_count": 123,
   "metadata": {},
   "outputs": [
    {
     "data": {
      "text/html": [
       "<div>$$&#101;&#94;&#123;&#92;&#107;&#97;&#112;&#112;&#97;&#32;&#32;&#92;&#105;&#110;&#116;&#32;&#97;&#40;&#120;&#41;&#32;&#92;&#44;&#32;&#100;&#120;&#125;&#32;&#92;&#105;&#110;&#116;&#32;&#97;&#40;&#120;&#41;&#32;&#101;&#94;&#123;&#45;&#50;&#32;&#92;&#107;&#97;&#112;&#112;&#97;&#32;&#32;&#92;&#105;&#110;&#116;&#32;&#97;&#40;&#120;&#41;&#32;&#92;&#44;&#32;&#100;&#120;&#45;&#92;&#105;&#110;&#116;&#32;&#98;&#40;&#120;&#41;&#32;&#92;&#44;&#32;&#100;&#120;&#125;&#32;&#92;&#44;&#32;&#100;&#120;$$</div>"
      ]
     },
     "execution_count": 124,
     "metadata": {
      "text/html": []
     },
     "output_type": "execute_result"
    }
   ],
   "source": [
    "g = phi f[x];\n",
    "g // TeX"
   ]
  },
  {
   "cell_type": "code",
   "execution_count": 125,
   "metadata": {},
   "outputs": [
    {
     "data": {
      "text/html": [
       "<style>\n",
       "\t\t\t\t\t\t\t\t\t\t\t.grid-container {\n",
       "\t\t\t\t\t\t\t\t\t\t\t\tdisplay: inline-grid;\n",
       "\t\t\t\t\t\t\t\t\t\t\t\tgrid-template-columns: auto auto;\n",
       "\t\t\t\t\t\t\t\t\t\t\t}\n",
       "\t\t\t\t\t\t\t\t\t\t</style>\n",
       "\n",
       "\t\t\t\t\t\t\t\t\t\t<div><div class=\"grid-container\"><div class=\"grid-item\">\n",
       "\t\t\t\t\t\t\t\t\t\t\t\t\t<div class=\"prompt output_prompt\" style=\"text-align:left;padding:0em;padding-right:20px;line-height:20px;\">\n",
       "\t\t\t\t\t\t\t\t\t\t\t\t\t\tOut[126]:\n",
       "\t\t\t\t\t\t\t\t\t\t\t\t\t</div>\n",
       "\t\t\t\t\t\t\t\t\t\t\t\t</div>\n",
       "\t\t\t\t\t\t\t\t\t\t\t\t<div class=\"grid-item\">$$&#98;&#40;&#120;&#41;&#45;&#92;&#102;&#114;&#97;&#99;&#123;&#97;&#39;&#40;&#120;&#41;&#125;&#123;&#97;&#40;&#120;&#41;&#125;$$</div><div class=\"grid-item\">\n",
       "\t\t\t\t\t\t\t\t\t\t\t\t\t<div class=\"prompt output_prompt\" style=\"text-align:left;padding:0em;padding-right:20px;line-height:20px;\">\n",
       "\t\t\t\t\t\t\t\t\t\t\t\t\t\tOut[128]:\n",
       "\t\t\t\t\t\t\t\t\t\t\t\t\t</div>\n",
       "\t\t\t\t\t\t\t\t\t\t\t\t</div>\n",
       "\t\t\t\t\t\t\t\t\t\t\t\t<div class=\"grid-item\">$$&#97;&#40;&#120;&#41;&#32;&#99;&#40;&#120;&#41;$$</div><div class=\"grid-item\">\n",
       "\t\t\t\t\t\t\t\t\t\t\t\t\t<div class=\"prompt output_prompt\" style=\"text-align:left;padding:0em;padding-right:20px;line-height:20px;\">\n",
       "\t\t\t\t\t\t\t\t\t\t\t\t\t\tOut[130]:\n",
       "\t\t\t\t\t\t\t\t\t\t\t\t\t</div>\n",
       "\t\t\t\t\t\t\t\t\t\t\t\t</div>\n",
       "\t\t\t\t\t\t\t\t\t\t\t\t<div class=\"grid-item\">$$&#97;&#40;&#120;&#41;&#32;&#92;&#108;&#101;&#102;&#116;&#40;&#92;&#107;&#97;&#112;&#112;&#97;&#32;&#94;&#50;&#32;&#97;&#40;&#120;&#41;&#43;&#92;&#107;&#97;&#112;&#112;&#97;&#32;&#32;&#98;&#40;&#120;&#41;&#43;&#99;&#40;&#120;&#41;&#92;&#114;&#105;&#103;&#104;&#116;&#41;&#32;&#101;&#94;&#123;&#92;&#107;&#97;&#112;&#112;&#97;&#32;&#32;&#92;&#105;&#110;&#116;&#32;&#97;&#40;&#120;&#41;&#32;&#92;&#44;&#32;&#100;&#120;&#125;&#32;&#92;&#105;&#110;&#116;&#32;&#97;&#40;&#120;&#41;&#32;&#101;&#94;&#123;&#45;&#50;&#32;&#92;&#107;&#97;&#112;&#112;&#97;&#32;&#32;&#92;&#105;&#110;&#116;&#32;&#97;&#40;&#120;&#41;&#32;&#92;&#44;&#32;&#100;&#120;&#45;&#92;&#105;&#110;&#116;&#32;&#98;&#40;&#120;&#41;&#32;&#92;&#44;&#32;&#100;&#120;&#125;&#32;&#92;&#44;&#32;&#100;&#120;$$</div><div class=\"grid-item\">\n",
       "\t\t\t\t\t\t\t\t\t\t\t\t\t<div class=\"prompt output_prompt\" style=\"text-align:left;padding:0em;padding-right:20px;line-height:20px;\">\n",
       "\t\t\t\t\t\t\t\t\t\t\t\t\t\tOut[131]:\n",
       "\t\t\t\t\t\t\t\t\t\t\t\t\t</div>\n",
       "\t\t\t\t\t\t\t\t\t\t\t\t</div>\n",
       "\t\t\t\t\t\t\t\t\t\t\t\t<div class=\"grid-item\">$$&#48;$$</div></div></div>"
      ]
     },
     "execution_count": 126,
     "metadata": {
      "text/html": []
     },
     "output_type": "execute_result"
    }
   ],
   "source": [
    "p = b[x] - a'[x]/a[x];\n",
    "p // TeX\n",
    "q = a[x]c[x];\n",
    "q // TeX\n",
    "L = D[g,x,x] + p D[g,x] + q g // Simplify;\n",
    "L // TeX\n",
    "L/.rulec // Simplify //TeX"
   ]
  },
  {
   "cell_type": "code",
   "execution_count": 132,
   "metadata": {},
   "outputs": [
    {
     "data": {
      "text/html": [
       "<style>\n",
       "\t\t\t\t\t\t\t\t\t\t\t.grid-container {\n",
       "\t\t\t\t\t\t\t\t\t\t\t\tdisplay: inline-grid;\n",
       "\t\t\t\t\t\t\t\t\t\t\t\tgrid-template-columns: auto auto;\n",
       "\t\t\t\t\t\t\t\t\t\t\t}\n",
       "\t\t\t\t\t\t\t\t\t\t</style>\n",
       "\n",
       "\t\t\t\t\t\t\t\t\t\t<div><div class=\"grid-container\"><div class=\"grid-item\">\n",
       "\t\t\t\t\t\t\t\t\t\t\t\t\t<div class=\"prompt output_prompt\" style=\"text-align:left;padding:0em;padding-right:20px;line-height:20px;\">\n",
       "\t\t\t\t\t\t\t\t\t\t\t\t\t\tOut[133]:\n",
       "\t\t\t\t\t\t\t\t\t\t\t\t\t</div>\n",
       "\t\t\t\t\t\t\t\t\t\t\t\t</div>\n",
       "\t\t\t\t\t\t\t\t\t\t\t\t<div class=\"grid-item\">$$&#92;&#102;&#114;&#97;&#99;&#123;&#92;&#98;&#101;&#116;&#97;&#32;&#32;&#101;&#94;&#123;&#45;&#50;&#32;&#92;&#107;&#97;&#112;&#112;&#97;&#32;&#32;&#92;&#105;&#110;&#116;&#32;&#97;&#40;&#120;&#41;&#32;&#92;&#44;&#32;&#100;&#120;&#45;&#92;&#105;&#110;&#116;&#32;&#98;&#40;&#120;&#41;&#32;&#92;&#44;&#32;&#100;&#120;&#125;&#125;&#123;&#92;&#98;&#101;&#116;&#97;&#32;&#32;&#92;&#105;&#110;&#116;&#32;&#97;&#40;&#120;&#41;&#32;&#101;&#94;&#123;&#45;&#50;&#32;&#92;&#107;&#97;&#112;&#112;&#97;&#32;&#32;&#92;&#105;&#110;&#116;&#32;&#97;&#40;&#120;&#41;&#32;&#92;&#44;&#32;&#100;&#120;&#45;&#92;&#105;&#110;&#116;&#32;&#98;&#40;&#120;&#41;&#32;&#92;&#44;&#32;&#100;&#120;&#125;&#32;&#92;&#44;&#32;&#100;&#120;&#43;&#92;&#97;&#108;&#112;&#104;&#97;&#32;&#125;&#43;&#92;&#107;&#97;&#112;&#112;&#97;$$</div><div class=\"grid-item\">\n",
       "\t\t\t\t\t\t\t\t\t\t\t\t\t<div class=\"prompt output_prompt\" style=\"text-align:left;padding:0em;padding-right:20px;line-height:20px;\">\n",
       "\t\t\t\t\t\t\t\t\t\t\t\t\t\tOut[135]:\n",
       "\t\t\t\t\t\t\t\t\t\t\t\t\t</div>\n",
       "\t\t\t\t\t\t\t\t\t\t\t\t</div>\n",
       "\t\t\t\t\t\t\t\t\t\t\t\t<div class=\"grid-item\">$$&#92;&#107;&#97;&#112;&#112;&#97;&#32;&#94;&#50;&#32;&#97;&#40;&#120;&#41;&#43;&#92;&#107;&#97;&#112;&#112;&#97;&#32;&#32;&#98;&#40;&#120;&#41;&#43;&#99;&#40;&#120;&#41;$$</div><div class=\"grid-item\">\n",
       "\t\t\t\t\t\t\t\t\t\t\t\t\t<div class=\"prompt output_prompt\" style=\"text-align:left;padding:0em;padding-right:20px;line-height:20px;\">\n",
       "\t\t\t\t\t\t\t\t\t\t\t\t\t\tOut[136]:\n",
       "\t\t\t\t\t\t\t\t\t\t\t\t\t</div>\n",
       "\t\t\t\t\t\t\t\t\t\t\t\t</div>\n",
       "\t\t\t\t\t\t\t\t\t\t\t\t<div class=\"grid-item\">$$&#48;$$</div></div></div>"
      ]
     },
     "execution_count": 133,
     "metadata": {
      "text/html": []
     },
     "output_type": "execute_result"
    }
   ],
   "source": [
    "u = 1/a[x] D[alpha f[x]+ beta g,x]/(alpha f[x]+beta g);\n",
    "u // Simplify // Collect[#, kappa]& // TeX\n",
    "R = D[u,x] + a[x] u^2 + b[x] u + c[x] // Simplify;\n",
    "R // TeX\n",
    "R/.rulec // Simplify // TeX"
   ]
  },
  {
   "cell_type": "markdown",
   "metadata": {},
   "source": [
    "**例:** $a(x)=x+1$, $b(x)=-1$, $c(x)=-x$ の場合の次のRiccati方程式を考える:\n",
    "\n",
    "$$\n",
    "u'+(x+1) u^2-u-x = 0.\n",
    "$$\n",
    "\n",
    "これは $\\kappa=1$ を解に持つ. $\\kappa=1=f'/((x+1)f)$ を満たす $f$ として\n",
    "\n",
    "$$\n",
    "f = e^{(x+1)^2/2}\n",
    "$$\n",
    "\n",
    "が取れ, $p=b-a'/a=-1-1/(x+1)=-(x+2)/(x+1)$, $q=ac=-x(x+1)$ なので, $f$ は $\\psi$ に関する線形常微分方程式\n",
    "\n",
    "$$\n",
    "\\left(\\d^2 - \\frac{x+2}{x+1}\\d - x(x+1)\\right)\\psi = 0\n",
    "$$\n",
    "\n",
    "の解であり, $f$ と一次独立なもう1つの解は, $a\\kappa a+b=2a+b=2x+1$, $\\int(2x+1)\\,dx=(x+1/2)^2$, x+1=(2x+1)/2+1/2 なので\n",
    "\n",
    "$$\n",
    "\\begin{aligned}\n",
    "\\phi' &= a e^{-\\int(2\\kappa a+b)\\,dx} = (x+1) e^{-(x+1/2)^2},\n",
    "\\\\\n",
    "\\phi &= \\int (x+1) e^{-(x+1/2)^2}\\,dx =\n",
    "\\frac{1}{2}\\left(-e^{-(x+1/2)^2} + \\int e^{-(x+1/2)^2}\\,dx\\right)\n",
    "\\\\\n",
    "g &= f \\phi\n",
    "e^{\\int\\kappa a\\,dx} \\int a e^{-\\int(2\\kappa a+b)\\,dx}\\,dx\n",
    "\\\\ &=\n",
    "e^{(x+1)^2/2} \\int (x+1) e^{-(x+1/2)^2}\\,dx\n",
    "\\\\ &=\n",
    "e^{(x+1)^2/2}\\frac{1}{2}\\left(-e^{-(x+1/2)^2} + \\int e^{-(x+1/2)^2}\\,dx\\right)\n",
    "\\end{aligned}\n",
    "$$\n",
    "\n",
    "と取れる. ゆえにRiccati方程式の解は\n",
    "\n",
    "$$\n",
    "u = 1 + \\frac\n",
    "{\\beta e^{-(x+1/2)^2}}\n",
    "{\\alpha + \\beta\\frac{1}{2}\\left(-e^{-(x+1/2)^2} + \\int e^{-(x+1/2)^2}\\,dx\\right)}\n",
    "$$\n",
    "\n",
    "と書ける."
   ]
  },
  {
   "cell_type": "markdown",
   "metadata": {},
   "source": [
    "以下はコンピューターによる上の例の確認"
   ]
  },
  {
   "cell_type": "code",
   "execution_count": 137,
   "metadata": {},
   "outputs": [
    {
     "data": {
      "text/html": [
       "<style>\n",
       "\t\t\t\t\t\t\t\t\t\t\t.grid-container {\n",
       "\t\t\t\t\t\t\t\t\t\t\t\tdisplay: inline-grid;\n",
       "\t\t\t\t\t\t\t\t\t\t\t\tgrid-template-columns: auto auto;\n",
       "\t\t\t\t\t\t\t\t\t\t\t}\n",
       "\t\t\t\t\t\t\t\t\t\t</style>\n",
       "\n",
       "\t\t\t\t\t\t\t\t\t\t<div><div class=\"grid-container\"><div class=\"grid-item\">\n",
       "\t\t\t\t\t\t\t\t\t\t\t\t\t<div class=\"prompt output_prompt\" style=\"text-align:left;padding:0em;padding-right:20px;line-height:20px;\">\n",
       "\t\t\t\t\t\t\t\t\t\t\t\t\t\tOut[139]:\n",
       "\t\t\t\t\t\t\t\t\t\t\t\t\t</div>\n",
       "\t\t\t\t\t\t\t\t\t\t\t\t</div>\n",
       "\t\t\t\t\t\t\t\t\t\t\t\t<div class=\"grid-item\">$$&#101;&#94;&#123;&#45;&#92;&#108;&#101;&#102;&#116;&#40;&#120;&#43;&#92;&#102;&#114;&#97;&#99;&#123;&#49;&#125;&#123;&#50;&#125;&#92;&#114;&#105;&#103;&#104;&#116;&#41;&#94;&#50;&#125;&#32;&#40;&#120;&#43;&#49;&#41;$$</div><div class=\"grid-item\">\n",
       "\t\t\t\t\t\t\t\t\t\t\t\t\t<div class=\"prompt output_prompt\" style=\"text-align:left;padding:0em;padding-right:20px;line-height:20px;\">\n",
       "\t\t\t\t\t\t\t\t\t\t\t\t\t\tOut[141]:\n",
       "\t\t\t\t\t\t\t\t\t\t\t\t\t</div>\n",
       "\t\t\t\t\t\t\t\t\t\t\t\t</div>\n",
       "\t\t\t\t\t\t\t\t\t\t\t\t<div class=\"grid-item\">$$&#92;&#102;&#114;&#97;&#99;&#123;&#49;&#125;&#123;&#50;&#125;&#32;&#92;&#108;&#101;&#102;&#116;&#40;&#92;&#102;&#114;&#97;&#99;&#123;&#49;&#125;&#123;&#50;&#125;&#32;&#92;&#115;&#113;&#114;&#116;&#123;&#92;&#112;&#105;&#32;&#125;&#32;&#92;&#116;&#101;&#120;&#116;&#123;&#101;&#114;&#102;&#125;&#92;&#108;&#101;&#102;&#116;&#40;&#120;&#43;&#92;&#102;&#114;&#97;&#99;&#123;&#49;&#125;&#123;&#50;&#125;&#92;&#114;&#105;&#103;&#104;&#116;&#41;&#45;&#101;&#94;&#123;&#45;&#92;&#108;&#101;&#102;&#116;&#40;&#120;&#43;&#92;&#102;&#114;&#97;&#99;&#123;&#49;&#125;&#123;&#50;&#125;&#92;&#114;&#105;&#103;&#104;&#116;&#41;&#94;&#50;&#125;&#92;&#114;&#105;&#103;&#104;&#116;&#41;$$</div><div class=\"grid-item\">\n",
       "\t\t\t\t\t\t\t\t\t\t\t\t\t<div class=\"prompt output_prompt\" style=\"text-align:left;padding:0em;padding-right:20px;line-height:20px;\">\n",
       "\t\t\t\t\t\t\t\t\t\t\t\t\t\tOut[142]:\n",
       "\t\t\t\t\t\t\t\t\t\t\t\t\t</div>\n",
       "\t\t\t\t\t\t\t\t\t\t\t\t</div>\n",
       "\t\t\t\t\t\t\t\t\t\t\t\t<div class=\"grid-item\">$$&#48;$$</div></div></div>"
      ]
     },
     "execution_count": 139,
     "metadata": {
      "text/html": []
     },
     "output_type": "execute_result"
    }
   ],
   "source": [
    "Clear[a,b,c,f,g,p,q,u,w,x,alpha,beta,dphi,phi,psi,L,R]\n",
    "dphi = (x+1)Exp[-(x+1/2)^2];\n",
    "dphi // TeX\n",
    "phi = (1/2)(-Exp[-(x+1/2)^2] + Integrate[Exp[-(x+1/2)^2], x]);\n",
    "phi // TeX\n",
    "D[phi,x] - dphi // Simplify // TeX"
   ]
  },
  {
   "cell_type": "code",
   "execution_count": 143,
   "metadata": {},
   "outputs": [
    {
     "data": {
      "text/html": [
       "<style>\n",
       "\t\t\t\t\t\t\t\t\t\t\t.grid-container {\n",
       "\t\t\t\t\t\t\t\t\t\t\t\tdisplay: inline-grid;\n",
       "\t\t\t\t\t\t\t\t\t\t\t\tgrid-template-columns: auto auto;\n",
       "\t\t\t\t\t\t\t\t\t\t\t}\n",
       "\t\t\t\t\t\t\t\t\t\t</style>\n",
       "\n",
       "\t\t\t\t\t\t\t\t\t\t<div><div class=\"grid-container\"><div class=\"grid-item\">\n",
       "\t\t\t\t\t\t\t\t\t\t\t\t\t<div class=\"prompt output_prompt\" style=\"text-align:left;padding:0em;padding-right:20px;line-height:20px;\">\n",
       "\t\t\t\t\t\t\t\t\t\t\t\t\t\tOut[143]:\n",
       "\t\t\t\t\t\t\t\t\t\t\t\t\t</div>\n",
       "\t\t\t\t\t\t\t\t\t\t\t\t</div>\n",
       "\t\t\t\t\t\t\t\t\t\t\t\t<div class=\"grid-item\">$$&#92;&#102;&#114;&#97;&#99;&#123;&#50;&#32;&#101;&#94;&#123;&#45;&#120;&#94;&#50;&#125;&#125;&#123;&#92;&#115;&#113;&#114;&#116;&#123;&#92;&#112;&#105;&#32;&#125;&#125;$$</div><div class=\"grid-item\">\n",
       "\t\t\t\t\t\t\t\t\t\t\t\t\t<div class=\"prompt output_prompt\" style=\"text-align:left;padding:0em;padding-right:20px;line-height:20px;\">\n",
       "\t\t\t\t\t\t\t\t\t\t\t\t\t\tOut[144]:\n",
       "\t\t\t\t\t\t\t\t\t\t\t\t\t</div>\n",
       "\t\t\t\t\t\t\t\t\t\t\t\t</div>\n",
       "\t\t\t\t\t\t\t\t\t\t\t\t<div class=\"grid-item\">$$&#101;&#94;&#123;&#45;&#92;&#108;&#101;&#102;&#116;&#40;&#120;&#43;&#92;&#102;&#114;&#97;&#99;&#123;&#49;&#125;&#123;&#50;&#125;&#92;&#114;&#105;&#103;&#104;&#116;&#41;&#94;&#50;&#125;$$</div></div></div>"
      ]
     },
     "execution_count": 143,
     "metadata": {
      "text/html": []
     },
     "output_type": "execute_result"
    }
   ],
   "source": [
    "D[Erf[x],x] // TeX\n",
    "D[Sqrt[Pi]/2 Erf[x+1/2], x] // TeX"
   ]
  },
  {
   "cell_type": "code",
   "execution_count": 145,
   "metadata": {},
   "outputs": [
    {
     "data": {
      "text/html": [
       "<style>\n",
       "\t\t\t\t\t\t\t\t\t\t\t.grid-container {\n",
       "\t\t\t\t\t\t\t\t\t\t\t\tdisplay: inline-grid;\n",
       "\t\t\t\t\t\t\t\t\t\t\t\tgrid-template-columns: auto auto;\n",
       "\t\t\t\t\t\t\t\t\t\t\t}\n",
       "\t\t\t\t\t\t\t\t\t\t</style>\n",
       "\n",
       "\t\t\t\t\t\t\t\t\t\t<div><div class=\"grid-container\"><div class=\"grid-item\">\n",
       "\t\t\t\t\t\t\t\t\t\t\t\t\t<div class=\"prompt output_prompt\" style=\"text-align:left;padding:0em;padding-right:20px;line-height:20px;\">\n",
       "\t\t\t\t\t\t\t\t\t\t\t\t\t\tOut[146]:\n",
       "\t\t\t\t\t\t\t\t\t\t\t\t\t</div>\n",
       "\t\t\t\t\t\t\t\t\t\t\t\t</div>\n",
       "\t\t\t\t\t\t\t\t\t\t\t\t<div class=\"grid-item\">$$&#101;&#94;&#123;&#92;&#102;&#114;&#97;&#99;&#123;&#49;&#125;&#123;&#50;&#125;&#32;&#40;&#120;&#43;&#49;&#41;&#94;&#50;&#125;$$</div><div class=\"grid-item\">\n",
       "\t\t\t\t\t\t\t\t\t\t\t\t\t<div class=\"prompt output_prompt\" style=\"text-align:left;padding:0em;padding-right:20px;line-height:20px;\">\n",
       "\t\t\t\t\t\t\t\t\t\t\t\t\t\tOut[147]:\n",
       "\t\t\t\t\t\t\t\t\t\t\t\t\t</div>\n",
       "\t\t\t\t\t\t\t\t\t\t\t\t</div>\n",
       "\t\t\t\t\t\t\t\t\t\t\t\t<div class=\"grid-item\">$$&#48;$$</div><div class=\"grid-item\">\n",
       "\t\t\t\t\t\t\t\t\t\t\t\t\t<div class=\"prompt output_prompt\" style=\"text-align:left;padding:0em;padding-right:20px;line-height:20px;\">\n",
       "\t\t\t\t\t\t\t\t\t\t\t\t\t\tOut[150]:\n",
       "\t\t\t\t\t\t\t\t\t\t\t\t\t</div>\n",
       "\t\t\t\t\t\t\t\t\t\t\t\t</div>\n",
       "\t\t\t\t\t\t\t\t\t\t\t\t<div class=\"grid-item\">$$&#92;&#102;&#114;&#97;&#99;&#123;&#49;&#125;&#123;&#50;&#125;&#32;&#101;&#94;&#123;&#92;&#102;&#114;&#97;&#99;&#123;&#49;&#125;&#123;&#50;&#125;&#32;&#40;&#120;&#43;&#49;&#41;&#94;&#50;&#125;&#32;&#92;&#108;&#101;&#102;&#116;&#40;&#92;&#102;&#114;&#97;&#99;&#123;&#49;&#125;&#123;&#50;&#125;&#32;&#92;&#115;&#113;&#114;&#116;&#123;&#92;&#112;&#105;&#32;&#125;&#32;&#92;&#116;&#101;&#120;&#116;&#123;&#101;&#114;&#102;&#125;&#92;&#108;&#101;&#102;&#116;&#40;&#120;&#43;&#92;&#102;&#114;&#97;&#99;&#123;&#49;&#125;&#123;&#50;&#125;&#92;&#114;&#105;&#103;&#104;&#116;&#41;&#45;&#101;&#94;&#123;&#45;&#92;&#108;&#101;&#102;&#116;&#40;&#120;&#43;&#92;&#102;&#114;&#97;&#99;&#123;&#49;&#125;&#123;&#50;&#125;&#92;&#114;&#105;&#103;&#104;&#116;&#41;&#94;&#50;&#125;&#92;&#114;&#105;&#103;&#104;&#116;&#41;$$</div><div class=\"grid-item\">\n",
       "\t\t\t\t\t\t\t\t\t\t\t\t\t<div class=\"prompt output_prompt\" style=\"text-align:left;padding:0em;padding-right:20px;line-height:20px;\">\n",
       "\t\t\t\t\t\t\t\t\t\t\t\t\t\tOut[151]:\n",
       "\t\t\t\t\t\t\t\t\t\t\t\t\t</div>\n",
       "\t\t\t\t\t\t\t\t\t\t\t\t</div>\n",
       "\t\t\t\t\t\t\t\t\t\t\t\t<div class=\"grid-item\">$$&#48;$$</div></div></div>"
      ]
     },
     "execution_count": 146,
     "metadata": {
      "text/html": []
     },
     "output_type": "execute_result"
    }
   ],
   "source": [
    "f = Exp[(x+1)^2/2];\n",
    "f // TeX\n",
    "D[f,x,x] - (x+2)/(x+1) D[f,x] - x(x+1)f // Simplify // TeX\n",
    "\n",
    "g = phi f;\n",
    "g // TeX\n",
    "D[g,x,x] - (x+2)/(x+1) D[g,x] - x(x+1)g // Simplify // TeX"
   ]
  },
  {
   "cell_type": "code",
   "execution_count": 152,
   "metadata": {},
   "outputs": [
    {
     "data": {
      "text/html": [
       "<style>\n",
       "\t\t\t\t\t\t\t\t\t\t\t.grid-container {\n",
       "\t\t\t\t\t\t\t\t\t\t\t\tdisplay: inline-grid;\n",
       "\t\t\t\t\t\t\t\t\t\t\t\tgrid-template-columns: auto auto;\n",
       "\t\t\t\t\t\t\t\t\t\t\t}\n",
       "\t\t\t\t\t\t\t\t\t\t</style>\n",
       "\n",
       "\t\t\t\t\t\t\t\t\t\t<div><div class=\"grid-container\"><div class=\"grid-item\">\n",
       "\t\t\t\t\t\t\t\t\t\t\t\t\t<div class=\"prompt output_prompt\" style=\"text-align:left;padding:0em;padding-right:20px;line-height:20px;\">\n",
       "\t\t\t\t\t\t\t\t\t\t\t\t\t\tOut[153]:\n",
       "\t\t\t\t\t\t\t\t\t\t\t\t\t</div>\n",
       "\t\t\t\t\t\t\t\t\t\t\t\t</div>\n",
       "\t\t\t\t\t\t\t\t\t\t\t\t<div class=\"grid-item\">$$&#92;&#102;&#114;&#97;&#99;&#123;&#92;&#98;&#101;&#116;&#97;&#32;&#32;&#101;&#94;&#123;&#45;&#92;&#108;&#101;&#102;&#116;&#40;&#120;&#43;&#92;&#102;&#114;&#97;&#99;&#123;&#49;&#125;&#123;&#50;&#125;&#92;&#114;&#105;&#103;&#104;&#116;&#41;&#94;&#50;&#125;&#125;&#123;&#92;&#97;&#108;&#112;&#104;&#97;&#32;&#43;&#92;&#102;&#114;&#97;&#99;&#123;&#49;&#125;&#123;&#50;&#125;&#32;&#92;&#98;&#101;&#116;&#97;&#32;&#32;&#92;&#108;&#101;&#102;&#116;&#40;&#92;&#102;&#114;&#97;&#99;&#123;&#49;&#125;&#123;&#50;&#125;&#32;&#92;&#115;&#113;&#114;&#116;&#123;&#92;&#112;&#105;&#32;&#125;&#32;&#92;&#116;&#101;&#120;&#116;&#123;&#101;&#114;&#102;&#125;&#92;&#108;&#101;&#102;&#116;&#40;&#120;&#43;&#92;&#102;&#114;&#97;&#99;&#123;&#49;&#125;&#123;&#50;&#125;&#92;&#114;&#105;&#103;&#104;&#116;&#41;&#45;&#101;&#94;&#123;&#45;&#92;&#108;&#101;&#102;&#116;&#40;&#120;&#43;&#92;&#102;&#114;&#97;&#99;&#123;&#49;&#125;&#123;&#50;&#125;&#92;&#114;&#105;&#103;&#104;&#116;&#41;&#94;&#50;&#125;&#92;&#114;&#105;&#103;&#104;&#116;&#41;&#125;&#43;&#49;$$</div><div class=\"grid-item\">\n",
       "\t\t\t\t\t\t\t\t\t\t\t\t\t<div class=\"prompt output_prompt\" style=\"text-align:left;padding:0em;padding-right:20px;line-height:20px;\">\n",
       "\t\t\t\t\t\t\t\t\t\t\t\t\t\tOut[154]:\n",
       "\t\t\t\t\t\t\t\t\t\t\t\t\t</div>\n",
       "\t\t\t\t\t\t\t\t\t\t\t\t</div>\n",
       "\t\t\t\t\t\t\t\t\t\t\t\t<div class=\"grid-item\">$$&#48;$$</div></div></div>"
      ]
     },
     "execution_count": 153,
     "metadata": {
      "text/html": []
     },
     "output_type": "execute_result"
    }
   ],
   "source": [
    "u = 1 + beta Exp[-(x+1/2)^2]/(alpha + beta phi);\n",
    "u // TeX\n",
    "D[u,x] + (x+1)u^2 - u - x // Simplify // TeX"
   ]
  },
  {
   "cell_type": "markdown",
   "metadata": {},
   "source": [
    "Wolfram言語の `DSolve` 函数による解."
   ]
  },
  {
   "cell_type": "code",
   "execution_count": 155,
   "metadata": {},
   "outputs": [
    {
     "data": {
      "text/html": [
       "<style>\n",
       "\t\t\t\t\t\t\t\t\t\t\t.grid-container {\n",
       "\t\t\t\t\t\t\t\t\t\t\t\tdisplay: inline-grid;\n",
       "\t\t\t\t\t\t\t\t\t\t\t\tgrid-template-columns: auto auto;\n",
       "\t\t\t\t\t\t\t\t\t\t\t}\n",
       "\t\t\t\t\t\t\t\t\t\t</style>\n",
       "\n",
       "\t\t\t\t\t\t\t\t\t\t<div><div class=\"grid-container\"><div class=\"grid-item\">\n",
       "\t\t\t\t\t\t\t\t\t\t\t\t\t<div class=\"prompt output_prompt\" style=\"text-align:left;padding:0em;padding-right:20px;line-height:20px;\">\n",
       "\t\t\t\t\t\t\t\t\t\t\t\t\t\tOut[157]:\n",
       "\t\t\t\t\t\t\t\t\t\t\t\t\t</div>\n",
       "\t\t\t\t\t\t\t\t\t\t\t\t</div>\n",
       "\t\t\t\t\t\t\t\t\t\t\t\t<div class=\"grid-item\">$$&#117;&#39;&#40;&#120;&#41;&#43;&#40;&#120;&#43;&#49;&#41;&#32;&#117;&#40;&#120;&#41;&#94;&#50;&#45;&#117;&#40;&#120;&#41;&#45;&#120;$$</div><div class=\"grid-item\">\n",
       "\t\t\t\t\t\t\t\t\t\t\t\t\t<div class=\"prompt output_prompt\" style=\"text-align:left;padding:0em;padding-right:20px;line-height:20px;\">\n",
       "\t\t\t\t\t\t\t\t\t\t\t\t\t\tOut[158]:\n",
       "\t\t\t\t\t\t\t\t\t\t\t\t\t</div>\n",
       "\t\t\t\t\t\t\t\t\t\t\t\t</div>\n",
       "\t\t\t\t\t\t\t\t\t\t\t\t<div class=\"grid-item\">$$&#48;$$</div></div></div>"
      ]
     },
     "execution_count": 157,
     "metadata": {
      "text/html": []
     },
     "output_type": "execute_result"
    }
   ],
   "source": [
    "Clear[a,f,p,q,u,alpha,beta,dphi,phi,psi,L,R]\n",
    "R = u'[x] + (x+1) u[x]^2 - u[x] - x;\n",
    "R // TeX\n",
    "R/.{u'[x]->0, u[x]->1} // TeX"
   ]
  },
  {
   "cell_type": "code",
   "execution_count": 159,
   "metadata": {},
   "outputs": [
    {
     "data": {
      "text/html": [
       "<div><img alt=\"Output\" src=\"data:image/png;base64,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\"></div>"
      ]
     },
     "execution_count": 159,
     "metadata": {
      "text/html": []
     },
     "output_type": "execute_result"
    }
   ],
   "source": [
    "sol = DSolve[R==0, u, x]"
   ]
  },
  {
   "cell_type": "code",
   "execution_count": 160,
   "metadata": {},
   "outputs": [
    {
     "data": {
      "text/html": [
       "<style>\n",
       "\t\t\t\t\t\t\t\t\t\t\t.grid-container {\n",
       "\t\t\t\t\t\t\t\t\t\t\t\tdisplay: inline-grid;\n",
       "\t\t\t\t\t\t\t\t\t\t\t\tgrid-template-columns: auto auto;\n",
       "\t\t\t\t\t\t\t\t\t\t\t}\n",
       "\t\t\t\t\t\t\t\t\t\t</style>\n",
       "\n",
       "\t\t\t\t\t\t\t\t\t\t<div><div class=\"grid-container\"><div class=\"grid-item\">\n",
       "\t\t\t\t\t\t\t\t\t\t\t\t\t<div class=\"prompt output_prompt\" style=\"text-align:left;padding:0em;padding-right:20px;line-height:20px;\">\n",
       "\t\t\t\t\t\t\t\t\t\t\t\t\t\tOut[160]:\n",
       "\t\t\t\t\t\t\t\t\t\t\t\t\t</div>\n",
       "\t\t\t\t\t\t\t\t\t\t\t\t</div>\n",
       "\t\t\t\t\t\t\t\t\t\t\t\t<div class=\"grid-item\">$$&#92;&#102;&#114;&#97;&#99;&#123;&#101;&#94;&#123;&#45;&#120;&#94;&#50;&#45;&#120;&#125;&#125;&#123;&#99;&#95;&#49;&#43;&#92;&#102;&#114;&#97;&#99;&#123;&#49;&#125;&#123;&#52;&#125;&#32;&#92;&#108;&#101;&#102;&#116;&#40;&#92;&#115;&#113;&#114;&#116;&#91;&#52;&#93;&#123;&#101;&#125;&#32;&#92;&#115;&#113;&#114;&#116;&#123;&#92;&#112;&#105;&#32;&#125;&#32;&#92;&#116;&#101;&#120;&#116;&#123;&#101;&#114;&#102;&#125;&#92;&#108;&#101;&#102;&#116;&#40;&#120;&#43;&#92;&#102;&#114;&#97;&#99;&#123;&#49;&#125;&#123;&#50;&#125;&#92;&#114;&#105;&#103;&#104;&#116;&#41;&#45;&#50;&#32;&#101;&#94;&#123;&#45;&#120;&#32;&#40;&#120;&#43;&#49;&#41;&#125;&#92;&#114;&#105;&#103;&#104;&#116;&#41;&#125;&#43;&#49;$$</div><div class=\"grid-item\">\n",
       "\t\t\t\t\t\t\t\t\t\t\t\t\t<div class=\"prompt output_prompt\" style=\"text-align:left;padding:0em;padding-right:20px;line-height:20px;\">\n",
       "\t\t\t\t\t\t\t\t\t\t\t\t\t\tOut[161]:\n",
       "\t\t\t\t\t\t\t\t\t\t\t\t\t</div>\n",
       "\t\t\t\t\t\t\t\t\t\t\t\t</div>\n",
       "\t\t\t\t\t\t\t\t\t\t\t\t<div class=\"grid-item\">$$&#48;$$</div></div></div>"
      ]
     },
     "execution_count": 160,
     "metadata": {
      "text/html": []
     },
     "output_type": "execute_result"
    }
   ],
   "source": [
    "(u/.sol[[1]][[1]])[x] // TeX\n",
    "R/.sol[[1]] // Simplify // TeX"
   ]
  },
  {
   "cell_type": "code",
   "execution_count": 162,
   "metadata": {},
   "outputs": [
    {
     "data": {
      "text/html": [
       "<div>$$&#92;&#112;&#115;&#105;&#32;&#39;&#39;&#40;&#120;&#41;&#45;&#92;&#102;&#114;&#97;&#99;&#123;&#40;&#120;&#43;&#50;&#41;&#32;&#92;&#112;&#115;&#105;&#32;&#39;&#40;&#120;&#41;&#125;&#123;&#120;&#43;&#49;&#125;&#45;&#120;&#32;&#40;&#120;&#43;&#49;&#41;&#32;&#92;&#112;&#115;&#105;&#32;&#40;&#120;&#41;$$</div>"
      ]
     },
     "execution_count": 163,
     "metadata": {
      "text/html": []
     },
     "output_type": "execute_result"
    }
   ],
   "source": [
    "L = psi''[x]-(x+2)/(x+1) psi'[x] - x(x+1)psi[x];\n",
    "L // TeX"
   ]
  },
  {
   "cell_type": "code",
   "execution_count": 164,
   "metadata": {},
   "outputs": [
    {
     "data": {
      "text/html": [
       "<div><img alt=\"Output\" src=\"data:image/png;base64,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\"></div>"
      ]
     },
     "execution_count": 164,
     "metadata": {
      "text/html": []
     },
     "output_type": "execute_result"
    }
   ],
   "source": [
    "lsol = DSolve[L==0, psi, x]"
   ]
  },
  {
   "cell_type": "code",
   "execution_count": 165,
   "metadata": {},
   "outputs": [
    {
     "data": {
      "text/html": [
       "<style>\n",
       "\t\t\t\t\t\t\t\t\t\t\t.grid-container {\n",
       "\t\t\t\t\t\t\t\t\t\t\t\tdisplay: inline-grid;\n",
       "\t\t\t\t\t\t\t\t\t\t\t\tgrid-template-columns: auto auto;\n",
       "\t\t\t\t\t\t\t\t\t\t\t}\n",
       "\t\t\t\t\t\t\t\t\t\t</style>\n",
       "\n",
       "\t\t\t\t\t\t\t\t\t\t<div><div class=\"grid-container\"><div class=\"grid-item\">\n",
       "\t\t\t\t\t\t\t\t\t\t\t\t\t<div class=\"prompt output_prompt\" style=\"text-align:left;padding:0em;padding-right:20px;line-height:20px;\">\n",
       "\t\t\t\t\t\t\t\t\t\t\t\t\t\tOut[165]:\n",
       "\t\t\t\t\t\t\t\t\t\t\t\t\t</div>\n",
       "\t\t\t\t\t\t\t\t\t\t\t\t</div>\n",
       "\t\t\t\t\t\t\t\t\t\t\t\t<div class=\"grid-item\">$$&#99;&#95;&#49;&#32;&#101;&#94;&#123;&#92;&#102;&#114;&#97;&#99;&#123;&#49;&#125;&#123;&#50;&#125;&#32;&#40;&#120;&#43;&#49;&#41;&#94;&#50;&#125;&#45;&#92;&#102;&#114;&#97;&#99;&#123;&#49;&#125;&#123;&#52;&#125;&#32;&#99;&#95;&#50;&#32;&#101;&#94;&#123;&#45;&#92;&#102;&#114;&#97;&#99;&#123;&#49;&#125;&#123;&#50;&#125;&#32;&#40;&#120;&#43;&#49;&#41;&#94;&#50;&#45;&#92;&#102;&#114;&#97;&#99;&#123;&#51;&#125;&#123;&#52;&#125;&#125;&#32;&#92;&#108;&#101;&#102;&#116;&#40;&#50;&#32;&#101;&#94;&#123;&#120;&#43;&#92;&#102;&#114;&#97;&#99;&#123;&#51;&#125;&#123;&#52;&#125;&#125;&#45;&#92;&#115;&#113;&#114;&#116;&#123;&#92;&#112;&#105;&#32;&#125;&#32;&#101;&#94;&#123;&#40;&#120;&#43;&#49;&#41;&#94;&#50;&#125;&#32;&#92;&#116;&#101;&#120;&#116;&#123;&#101;&#114;&#102;&#125;&#92;&#108;&#101;&#102;&#116;&#40;&#120;&#43;&#92;&#102;&#114;&#97;&#99;&#123;&#49;&#125;&#123;&#50;&#125;&#92;&#114;&#105;&#103;&#104;&#116;&#41;&#92;&#114;&#105;&#103;&#104;&#116;&#41;$$</div><div class=\"grid-item\">\n",
       "\t\t\t\t\t\t\t\t\t\t\t\t\t<div class=\"prompt output_prompt\" style=\"text-align:left;padding:0em;padding-right:20px;line-height:20px;\">\n",
       "\t\t\t\t\t\t\t\t\t\t\t\t\t\tOut[166]:\n",
       "\t\t\t\t\t\t\t\t\t\t\t\t\t</div>\n",
       "\t\t\t\t\t\t\t\t\t\t\t\t</div>\n",
       "\t\t\t\t\t\t\t\t\t\t\t\t<div class=\"grid-item\">$$&#48;$$</div></div></div>"
      ]
     },
     "execution_count": 165,
     "metadata": {
      "text/html": []
     },
     "output_type": "execute_result"
    }
   ],
   "source": [
    "(psi/.lsol[[1]][[1]])[x] // TeX\n",
    "L/.lsol[[1]] // Simplify // TeX"
   ]
  },
  {
   "cell_type": "code",
   "execution_count": null,
   "metadata": {},
   "outputs": [],
   "source": []
  }
 ],
 "metadata": {
  "@webio": {
   "lastCommId": null,
   "lastKernelId": null
  },
  "kernelspec": {
   "display_name": "Wolfram Language 12",
   "language": "Wolfram Language",
   "name": "wolframlanguage12"
  },
  "language_info": {
   "codemirror_mode": "mathematica",
   "file_extension": ".m",
   "mimetype": "application/vnd.wolfram.m",
   "name": "Wolfram Language",
   "pygments_lexer": "python",
   "version": "12.0"
  },
  "toc": {
   "nav_menu": {},
   "number_sections": true,
   "sideBar": true,
   "skip_h1_title": true,
   "title_cell": "目次",
   "title_sidebar": "目次",
   "toc_cell": true,
   "toc_position": {},
   "toc_section_display": true,
   "toc_window_display": false
  }
 },
 "nbformat": 4,
 "nbformat_minor": 2
}
