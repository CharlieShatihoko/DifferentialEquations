{
 "cells": [
  {
   "cell_type": "markdown",
   "metadata": {},
   "source": [
    "# Riccati方程式について\n",
    "\n",
    "* Author: 黒木玄\n",
    "* Date: 2019-05-31～2019-06-03\n",
    "* Repository: https://github.com/genkuroki/DifferentialEquations\n",
    "$\n",
    "\\newcommand\\ds{\\displaystyle}\n",
    "\\newcommand\\Z{{\\mathbb Z}}\n",
    "\\newcommand\\R{{\\mathbb R}}\n",
    "\\newcommand\\C{{\\mathbb C}}\n",
    "\\newcommand\\eps{\\varepsilon}\n",
    "\\newcommand\\QED{\\text{□}}\n",
    "\\newcommand\\d{\\partial}\n",
    "\\newcommand\\real{\\operatorname{Re}}\n",
    "\\newcommand\\imag{\\operatorname{Im}}\n",
    "\\newcommand\\tr{\\operatorname{tr}}\n",
    "$\n",
    "\n",
    "このファイルは [nbviewer](https://nbviewer.jupyter.org/github/genkuroki/DifferentialEquations/blob/master/04-1%20Riccati%20equation.ipynb) でも閲覧できる.\n",
    "\n",
    "[Julia言語](https://julialang.org/) と [Jupyter環境](https://jupyter.org/) の簡単な解説については次を参照せよ:\n",
    "\n",
    "* [JuliaとJupyterのすすめ](https://nbviewer.jupyter.org/github/genkuroki/msfd28/blob/master/msfd28genkuroki.ipynb?flush_cached=true)\n",
    "\n",
    "[Julia言語](https://julialang.org/) 環境の整備の仕方については次を参照せよ:\n",
    "\n",
    "* [Julia v1.1.0 の Windows 8.1 へのインストール](https://nbviewer.jupyter.org/github/genkuroki/msfd28/blob/master/install.ipynb)\n",
    "\n",
    "[Wolfram言語](http://www.wolfram.com/language/fast-introduction-for-programmers/ja/) 環境の整備の仕方については次を参照せよ:\n",
    "\n",
    "* [Free Wolfram EngineをJupyterで使う方法](https://nbviewer.jupyter.org/github/genkuroki/msfd28/blob/master/Free%20Wolfram%20Engine.ipynb)\n",
    "\n",
    "**注意:** このノートブックの出力結果は\n",
    "\n",
    "* https://gist.github.com/genkuroki/89466deb696fd09889f8d3aad296aef0\n",
    "\n",
    "においてある修正を [OutputHandlingUtilities.wl の toOutText 函数](https://github.com/WolframResearch/WolframLanguageForJupyter/blob/master/WolframLanguageForJupyter/Resources/OutputHandlingUtilities.wl#L123-L136) に施した場合にのみ得られる出力である. `<pre>`～`</pre>` で囲んである部分を `$$`～`$$` で囲むように修正している."
   ]
  },
  {
   "cell_type": "code",
   "execution_count": 1,
   "metadata": {},
   "outputs": [
    {
     "data": {
      "text/html": [
       "<style>\n",
       "\t\t\t\t\t\t\t\t\t\t\t.grid-container {\n",
       "\t\t\t\t\t\t\t\t\t\t\t\tdisplay: inline-grid;\n",
       "\t\t\t\t\t\t\t\t\t\t\t\tgrid-template-columns: auto auto;\n",
       "\t\t\t\t\t\t\t\t\t\t\t}\n",
       "\t\t\t\t\t\t\t\t\t\t</style>\n",
       "\n",
       "\t\t\t\t\t\t\t\t\t\t<div><div class=\"grid-container\"><div class=\"grid-item\">\n",
       "\t\t\t\t\t\t\t\t\t\t\t\t\t<div class=\"prompt output_prompt\" style=\"text-align:left;padding:0em;padding-right:20px;line-height:20px;\">\n",
       "\t\t\t\t\t\t\t\t\t\t\t\t\t\tOut[2]:\n",
       "\t\t\t\t\t\t\t\t\t\t\t\t\t</div>\n",
       "\t\t\t\t\t\t\t\t\t\t\t\t</div>\n",
       "\t\t\t\t\t\t\t\t\t\t\t\t<div class=\"grid-item\">$$&#84;&#101;&#88;$$</div><div class=\"grid-item\">\n",
       "\t\t\t\t\t\t\t\t\t\t\t\t\t<div class=\"prompt output_prompt\" style=\"text-align:left;padding:0em;padding-right:20px;line-height:20px;\">\n",
       "\t\t\t\t\t\t\t\t\t\t\t\t\t\tOut[3]:\n",
       "\t\t\t\t\t\t\t\t\t\t\t\t\t</div>\n",
       "\t\t\t\t\t\t\t\t\t\t\t\t</div>\n",
       "\t\t\t\t\t\t\t\t\t\t\t\t<div class=\"grid-item\">$$&#56;&#56;$$</div></div></div>"
      ]
     },
     "execution_count": 2,
     "metadata": {
      "text/html": []
     },
     "output_type": "execute_result"
    }
   ],
   "source": [
    "TeX[expr_] := ToString[TeXForm[expr]]\n",
    "JupyterOutTextForm = \"TeX\"\n",
    "JupyterImageResolution = 88"
   ]
  },
  {
   "cell_type": "markdown",
   "metadata": {
    "toc": true
   },
   "source": [
    "<h1>目次<span class=\"tocSkip\"></span></h1>\n",
    "<div class=\"toc\"><ul class=\"toc-item\"><li><span><a href=\"#2階の線形常微分方程式について\" data-toc-modified-id=\"2階の線形常微分方程式について-1\"><span class=\"toc-item-num\">1&nbsp;&nbsp;</span>2階の線形常微分方程式について</a></span><ul class=\"toc-item\"><li><span><a href=\"#2階の線形常微分方程式の0でない解が1つ得られている場合\" data-toc-modified-id=\"2階の線形常微分方程式の0でない解が1つ得られている場合-1.1\"><span class=\"toc-item-num\">1.1&nbsp;&nbsp;</span>2階の線形常微分方程式の0でない解が1つ得られている場合</a></span></li><li><span><a href=\"#解から逆に線形常微分方程式を作れること\" data-toc-modified-id=\"解から逆に線形常微分方程式を作れること-1.2\"><span class=\"toc-item-num\">1.2&nbsp;&nbsp;</span>解から逆に線形常微分方程式を作れること</a></span></li></ul></li><li><span><a href=\"#Riccati方程式\" data-toc-modified-id=\"Riccati方程式-2\"><span class=\"toc-item-num\">2&nbsp;&nbsp;</span>Riccati方程式</a></span><ul class=\"toc-item\"><li><span><a href=\"#Riccati方程式の定義\" data-toc-modified-id=\"Riccati方程式の定義-2.1\"><span class=\"toc-item-num\">2.1&nbsp;&nbsp;</span>Riccati方程式の定義</a></span></li><li><span><a href=\"#Riccati方程式の解法の短いまとめ\" data-toc-modified-id=\"Riccati方程式の解法の短いまとめ-2.2\"><span class=\"toc-item-num\">2.2&nbsp;&nbsp;</span>Riccati方程式の解法の短いまとめ</a></span></li><li><span><a href=\"#Riccati方程式の数学的由来の1つが分かる補題\" data-toc-modified-id=\"Riccati方程式の数学的由来の1つが分かる補題-2.3\"><span class=\"toc-item-num\">2.3&nbsp;&nbsp;</span>Riccati方程式の数学的由来の1つが分かる補題</a></span></li><li><span><a href=\"#Riccati方程式に関する基本定理\" data-toc-modified-id=\"Riccati方程式に関する基本定理-2.4\"><span class=\"toc-item-num\">2.4&nbsp;&nbsp;</span>Riccati方程式に関する基本定理</a></span></li><li><span><a href=\"#Riccati方程式の解法\" data-toc-modified-id=\"Riccati方程式の解法-2.5\"><span class=\"toc-item-num\">2.5&nbsp;&nbsp;</span>Riccati方程式の解法</a></span><ul class=\"toc-item\"><li><span><a href=\"#$a=a(x)=1$-の場合のRiccati方程式の解法\" data-toc-modified-id=\"$a=a(x)=1$-の場合のRiccati方程式の解法-2.5.1\"><span class=\"toc-item-num\">2.5.1&nbsp;&nbsp;</span>$a=a(x)=1$ の場合のRiccati方程式の解法</a></span></li><li><span><a href=\"#一般の場合のRiccati方程式の解法\" data-toc-modified-id=\"一般の場合のRiccati方程式の解法-2.5.2\"><span class=\"toc-item-num\">2.5.2&nbsp;&nbsp;</span>一般の場合のRiccati方程式の解法</a></span></li><li><span><a href=\"#Riccati方程式の解が1つ分かっている場合\" data-toc-modified-id=\"Riccati方程式の解が1つ分かっている場合-2.5.3\"><span class=\"toc-item-num\">2.5.3&nbsp;&nbsp;</span>Riccati方程式の解が1つ分かっている場合</a></span></li></ul></li><li><span><a href=\"#Riccati方程式に定数解が存在する場合\" data-toc-modified-id=\"Riccati方程式に定数解が存在する場合-2.6\"><span class=\"toc-item-num\">2.6&nbsp;&nbsp;</span>Riccati方程式に定数解が存在する場合</a></span></li></ul></li></ul></div>"
   ]
  },
  {
   "cell_type": "markdown",
   "metadata": {},
   "source": [
    "## 2階の線形常微分方程式について\n",
    "\n",
    "$\\d = d/dx$ とおく."
   ]
  },
  {
   "cell_type": "markdown",
   "metadata": {},
   "source": [
    "### 2階の線形常微分方程式の0でない解が1つ得られている場合\n",
    "\n",
    "$f$ は $\\psi$ に関する2階の線形常微分方程式\n",
    "\n",
    "$$\n",
    "(\\d^2 + b\\d + c)\\psi = 0\n",
    "\\tag{$\\#$}\n",
    "$$\n",
    "\n",
    "の $0$ でない解であると仮定する. このとき, $\\psi=\\phi f$ を方程式に代入すると,\n",
    "\n",
    "$$\n",
    "\\begin{aligned}\n",
    "0 &= \n",
    "\\phi'' f + 2\\phi' f' + \\phi f'' + b\\phi' f + b\\phi f' + c\\phi f \n",
    "\\\\ &=\n",
    "\\phi'' f + 2\\phi' f' + b\\phi' f\n",
    "\\end{aligned}\n",
    "$$\n",
    "\n",
    "すなわち, \n",
    "\n",
    "$$\n",
    "\\phi'' = - \\left(b + \\frac{2f'}{f}\\right)\\phi'\n",
    "$$\n",
    "\n",
    "となるので, $\\phi'$ に関する1階の常微分方程式が得られる. これが満たされることと, $\\phi f$ が ($\\#$) の解になることは同値であり, \n",
    "\n",
    "$$\n",
    "\\phi' = \\exp\\left[-\\int\\left(b + \\frac{2f'}{f}\\right)\\,dx\\right] =\n",
    "\\frac{1}{f^2}e^{-\\int b\\,dx}\n",
    "$$\n",
    "\n",
    "と解ける. $\\phi$ はこれの不定積分になり, $\\phi f$ は ($\\#$) の解になる.\n",
    "\n",
    "この方法によって, 2階の線形常微分方程式の0でない解が1つ分かっている場合には, (少なくとも原理的には)もう1つの解を求めることができる."
   ]
  },
  {
   "cell_type": "code",
   "execution_count": 4,
   "metadata": {},
   "outputs": [
    {
     "data": {
      "text/html": [
       "<div>$$&#92;&#102;&#114;&#97;&#99;&#123;&#101;&#94;&#123;&#45;&#92;&#105;&#110;&#116;&#32;&#98;&#40;&#120;&#41;&#32;&#92;&#44;&#32;&#100;&#120;&#125;&#125;&#123;&#102;&#40;&#120;&#41;&#94;&#50;&#125;$$</div>"
      ]
     },
     "execution_count": 6,
     "metadata": {
      "text/html": []
     },
     "output_type": "execute_result"
    }
   ],
   "source": [
    "Clear[a,b,c,f,p,q,u,alpha,beta,dphi,phi,psi,L,R]\n",
    "dphi = (1/f[x]^2) Exp[-Integrate[b[x], x]];\n",
    "dphi // TeX"
   ]
  },
  {
   "cell_type": "code",
   "execution_count": 7,
   "metadata": {},
   "outputs": [
    {
     "data": {
      "text/html": [
       "<div>$$&#45;&#98;&#40;&#120;&#41;&#45;&#92;&#102;&#114;&#97;&#99;&#123;&#50;&#32;&#102;&#39;&#40;&#120;&#41;&#125;&#123;&#102;&#40;&#120;&#41;&#125;$$</div>"
      ]
     },
     "execution_count": 7,
     "metadata": {
      "text/html": []
     },
     "output_type": "execute_result"
    }
   ],
   "source": [
    "D[dphi, x]/dphi // Simplify // TeX"
   ]
  },
  {
   "cell_type": "code",
   "execution_count": 8,
   "metadata": {},
   "outputs": [
    {
     "data": {
      "text/html": [
       "<div>$$&#102;&#40;&#120;&#41;&#32;&#92;&#105;&#110;&#116;&#32;&#92;&#102;&#114;&#97;&#99;&#123;&#101;&#94;&#123;&#45;&#92;&#105;&#110;&#116;&#32;&#98;&#40;&#120;&#41;&#32;&#92;&#44;&#32;&#100;&#120;&#125;&#125;&#123;&#102;&#40;&#120;&#41;&#94;&#50;&#125;&#32;&#92;&#44;&#32;&#100;&#120;$$</div>"
      ]
     },
     "execution_count": 9,
     "metadata": {
      "text/html": []
     },
     "output_type": "execute_result"
    }
   ],
   "source": [
    "g = f[x] Integrate[dphi, x];\n",
    "g // TeX"
   ]
  },
  {
   "cell_type": "code",
   "execution_count": 10,
   "metadata": {},
   "outputs": [
    {
     "data": {
      "text/html": [
       "<div>$$&#92;&#108;&#101;&#102;&#116;&#40;&#92;&#105;&#110;&#116;&#32;&#92;&#102;&#114;&#97;&#99;&#123;&#101;&#94;&#123;&#45;&#92;&#105;&#110;&#116;&#32;&#98;&#40;&#120;&#41;&#32;&#92;&#44;&#32;&#100;&#120;&#125;&#125;&#123;&#102;&#40;&#120;&#41;&#94;&#50;&#125;&#32;&#92;&#44;&#32;&#100;&#120;&#92;&#114;&#105;&#103;&#104;&#116;&#41;&#32;&#92;&#108;&#101;&#102;&#116;&#40;&#98;&#40;&#120;&#41;&#32;&#102;&#39;&#40;&#120;&#41;&#43;&#99;&#40;&#120;&#41;&#32;&#102;&#40;&#120;&#41;&#43;&#102;&#39;&#39;&#40;&#120;&#41;&#92;&#114;&#105;&#103;&#104;&#116;&#41;$$</div>"
      ]
     },
     "execution_count": 11,
     "metadata": {
      "text/html": []
     },
     "output_type": "execute_result"
    }
   ],
   "source": [
    "eqg = D[g,x,x] + b[x] D[g,x] + c[x] g;\n",
    "Simplify[eqg] // TeX"
   ]
  },
  {
   "cell_type": "markdown",
   "metadata": {},
   "source": [
    "### 解から逆に線形常微分方程式を作れること\n",
    "\n",
    "函数 $f$ は $0$ ではなく, $f$ で割れると仮定する. このとき, \n",
    "\n",
    "$$\n",
    "\\left(\\d - \\frac{f'}{f}\\right)f = f' - \\frac{f'}{f}f = 0.\n",
    "$$\n",
    "\n",
    "すなわち, $f$ を解に持つ1階の線形常微分方程式\n",
    "\n",
    "$$\n",
    "\\left(\\d - \\frac{f'}{f}\\right)\\psi = 0\n",
    "$$\n",
    "\n",
    "を構成できた.\n",
    "\n",
    "この結果は次のように2階の線形常微分方程式に拡張される. 函数 $f,g$ のWrinskian\n",
    "\n",
    "$$\n",
    "\\begin{vmatrix}\n",
    "f  & g  \\\\\n",
    "f' & g' \\\\\n",
    "\\end{vmatrix}\n",
    "$$\n",
    "\n",
    "は $0$ ではなく, このWronskianで割れると仮定する. 定数 $\\alpha,\\beta$ に対して $\\psi=\\alpha f+\\beta g$ とおくと, $f,g,\\psi$ は一次従属なので至る所\n",
    "\n",
    "$$\n",
    "\\begin{vmatrix}\n",
    "f   & g   & \\psi \\\\\n",
    "f'  & g'  & \\psi' \\\\\n",
    "f'' & g'' & \\psi'' \\\\\n",
    "\\end{vmatrix} = 0\n",
    "$$\n",
    "\n",
    "を満たしている. これは\n",
    "\n",
    "$$\n",
    "\\begin{vmatrix}\n",
    "f   & g   & \\psi \\\\\n",
    "f'  & g'  & \\psi' \\\\\n",
    "f'' & g'' & \\psi'' \\\\\n",
    "\\end{vmatrix} =\n",
    "\\begin{vmatrix}\n",
    "f'  & g'  \\\\\n",
    "f'' & g'' \\\\\n",
    "\\end{vmatrix}\n",
    "\\psi -\n",
    "\\begin{vmatrix}\n",
    "f   & g \\\\\n",
    "f'' & g'' \\\\\n",
    "\\end{vmatrix}\n",
    "\\psi' +\n",
    "\\begin{vmatrix}\n",
    "f  & g \\\\\n",
    "f' & g' \\\\\n",
    "\\end{vmatrix}\n",
    "\\psi''\n",
    "$$\n",
    "\n",
    "であるから, \n",
    "\n",
    "$$\n",
    "b = - \\frac{\n",
    "\\begin{vmatrix}\n",
    "f   & g   \\\\\n",
    "f'' & g'' \\\\\n",
    "\\end{vmatrix}\n",
    "}{\n",
    "\\begin{vmatrix}\n",
    "f  & g  \\\\\n",
    "f' & g' \\\\\n",
    "\\end{vmatrix}\n",
    "},\n",
    "\\quad\n",
    "c = \\frac{\n",
    "\\begin{vmatrix}\n",
    "f'  & g'  \\\\\n",
    "f'' & g'' \\\\\n",
    "\\end{vmatrix}\n",
    "}{\n",
    "\\begin{vmatrix}\n",
    "f  & g  \\\\\n",
    "f' & g' \\\\\n",
    "\\end{vmatrix}\n",
    "}\n",
    "$$\n",
    "\n",
    "とおくと, \n",
    "\n",
    "$$\n",
    "(\\d^2 + b\\d + c)\\psi = 0\n",
    "$$\n",
    "\n",
    "を満たしていることを意味する. これで $f,g$ の一次結合を解に持つ2階の線形常微分方程式を構成できた.\n",
    "\n",
    "このように, 方程式から解を得ることだけではなく, 解から方程式を作ることができる."
   ]
  },
  {
   "cell_type": "code",
   "execution_count": 12,
   "metadata": {},
   "outputs": [
    {
     "data": {
      "text/html": [
       "<style>\n",
       "\t\t\t\t\t\t\t\t\t\t\t.grid-container {\n",
       "\t\t\t\t\t\t\t\t\t\t\t\tdisplay: inline-grid;\n",
       "\t\t\t\t\t\t\t\t\t\t\t\tgrid-template-columns: auto auto;\n",
       "\t\t\t\t\t\t\t\t\t\t\t}\n",
       "\t\t\t\t\t\t\t\t\t\t</style>\n",
       "\n",
       "\t\t\t\t\t\t\t\t\t\t<div><div class=\"grid-container\"><div class=\"grid-item\">\n",
       "\t\t\t\t\t\t\t\t\t\t\t\t\t<div class=\"prompt output_prompt\" style=\"text-align:left;padding:0em;padding-right:20px;line-height:20px;\">\n",
       "\t\t\t\t\t\t\t\t\t\t\t\t\t\tOut[16]:\n",
       "\t\t\t\t\t\t\t\t\t\t\t\t\t</div>\n",
       "\t\t\t\t\t\t\t\t\t\t\t\t</div>\n",
       "\t\t\t\t\t\t\t\t\t\t\t\t<div class=\"grid-item\">$$&#102;&#40;&#120;&#41;&#32;&#103;&#39;&#40;&#120;&#41;&#45;&#103;&#40;&#120;&#41;&#32;&#102;&#39;&#40;&#120;&#41;$$</div><div class=\"grid-item\">\n",
       "\t\t\t\t\t\t\t\t\t\t\t\t\t<div class=\"prompt output_prompt\" style=\"text-align:left;padding:0em;padding-right:20px;line-height:20px;\">\n",
       "\t\t\t\t\t\t\t\t\t\t\t\t\t\tOut[17]:\n",
       "\t\t\t\t\t\t\t\t\t\t\t\t\t</div>\n",
       "\t\t\t\t\t\t\t\t\t\t\t\t</div>\n",
       "\t\t\t\t\t\t\t\t\t\t\t\t<div class=\"grid-item\">$$&#45;&#92;&#102;&#114;&#97;&#99;&#123;&#102;&#40;&#120;&#41;&#32;&#103;&#39;&#39;&#40;&#120;&#41;&#45;&#103;&#40;&#120;&#41;&#32;&#102;&#39;&#39;&#40;&#120;&#41;&#125;&#123;&#102;&#40;&#120;&#41;&#32;&#103;&#39;&#40;&#120;&#41;&#45;&#103;&#40;&#120;&#41;&#32;&#102;&#39;&#40;&#120;&#41;&#125;$$</div><div class=\"grid-item\">\n",
       "\t\t\t\t\t\t\t\t\t\t\t\t\t<div class=\"prompt output_prompt\" style=\"text-align:left;padding:0em;padding-right:20px;line-height:20px;\">\n",
       "\t\t\t\t\t\t\t\t\t\t\t\t\t\tOut[18]:\n",
       "\t\t\t\t\t\t\t\t\t\t\t\t\t</div>\n",
       "\t\t\t\t\t\t\t\t\t\t\t\t</div>\n",
       "\t\t\t\t\t\t\t\t\t\t\t\t<div class=\"grid-item\">$$&#92;&#102;&#114;&#97;&#99;&#123;&#102;&#39;&#40;&#120;&#41;&#32;&#103;&#39;&#39;&#40;&#120;&#41;&#45;&#102;&#39;&#39;&#40;&#120;&#41;&#32;&#103;&#39;&#40;&#120;&#41;&#125;&#123;&#102;&#40;&#120;&#41;&#32;&#103;&#39;&#40;&#120;&#41;&#45;&#103;&#40;&#120;&#41;&#32;&#102;&#39;&#40;&#120;&#41;&#125;$$</div></div></div>"
      ]
     },
     "execution_count": 16,
     "metadata": {
      "text/html": []
     },
     "output_type": "execute_result"
    }
   ],
   "source": [
    "Clear[a,b,c,f,g,p,q,u,w,x,alpha,beta,dphi,phi,psi,L,R]\n",
    "w =  Det[{{f[x], g[x]}, {f'[x], g'[x]}}] // Simplify;\n",
    "b = -Det[{{f[x], g[x]}, {f''[x], g''[x]}}]/w;\n",
    "c =  Det[{{f'[x], g'[x]}, {f''[x], g''[x]}}]/w;\n",
    "w // TeX\n",
    "b // TeX\n",
    "c // TeX"
   ]
  },
  {
   "cell_type": "code",
   "execution_count": 19,
   "metadata": {},
   "outputs": [
    {
     "data": {
      "text/html": [
       "<style>\n",
       "\t\t\t\t\t\t\t\t\t\t\t.grid-container {\n",
       "\t\t\t\t\t\t\t\t\t\t\t\tdisplay: inline-grid;\n",
       "\t\t\t\t\t\t\t\t\t\t\t\tgrid-template-columns: auto auto;\n",
       "\t\t\t\t\t\t\t\t\t\t\t}\n",
       "\t\t\t\t\t\t\t\t\t\t</style>\n",
       "\n",
       "\t\t\t\t\t\t\t\t\t\t<div><div class=\"grid-container\"><div class=\"grid-item\">\n",
       "\t\t\t\t\t\t\t\t\t\t\t\t\t<div class=\"prompt output_prompt\" style=\"text-align:left;padding:0em;padding-right:20px;line-height:20px;\">\n",
       "\t\t\t\t\t\t\t\t\t\t\t\t\t\tOut[20]:\n",
       "\t\t\t\t\t\t\t\t\t\t\t\t\t</div>\n",
       "\t\t\t\t\t\t\t\t\t\t\t\t</div>\n",
       "\t\t\t\t\t\t\t\t\t\t\t\t<div class=\"grid-item\">$$&#92;&#97;&#108;&#112;&#104;&#97;&#32;&#32;&#102;&#40;&#120;&#41;&#43;&#92;&#98;&#101;&#116;&#97;&#32;&#32;&#103;&#40;&#120;&#41;$$</div><div class=\"grid-item\">\n",
       "\t\t\t\t\t\t\t\t\t\t\t\t\t<div class=\"prompt output_prompt\" style=\"text-align:left;padding:0em;padding-right:20px;line-height:20px;\">\n",
       "\t\t\t\t\t\t\t\t\t\t\t\t\t\tOut[21]:\n",
       "\t\t\t\t\t\t\t\t\t\t\t\t\t</div>\n",
       "\t\t\t\t\t\t\t\t\t\t\t\t</div>\n",
       "\t\t\t\t\t\t\t\t\t\t\t\t<div class=\"grid-item\">$$&#48;$$</div></div></div>"
      ]
     },
     "execution_count": 20,
     "metadata": {
      "text/html": []
     },
     "output_type": "execute_result"
    }
   ],
   "source": [
    "psi = alpha f[x] + beta g[x];\n",
    "psi // TeX\n",
    "D[psi,x,x] + b D[psi,x] + c psi // Simplify // TeX"
   ]
  },
  {
   "cell_type": "markdown",
   "metadata": {},
   "source": [
    "## Riccati方程式"
   ]
  },
  {
   "cell_type": "markdown",
   "metadata": {},
   "source": [
    "### Riccati方程式の定義\n",
    "\n",
    "函数 $a=a(x)$, $b=b(x)$, $c=c(x)$ が与えられているとし, $a=a(x)$ で割ることができると仮定する. さらに\n",
    "\n",
    "$$\n",
    "\\d = \\d_x = \\frac{d}{dx}\n",
    "$$\n",
    "\n",
    "とおく. $d/dx$ を $\\d$ と略して書くと以下の議論が楽になる.\n",
    "\n",
    "$u=u(x)$ に関する(非線形)常微分方程式\n",
    "\n",
    "$$\n",
    "u' + au^2 + bu + c = 0\n",
    "\\tag{$*$}\n",
    "$$\n",
    "\n",
    "を **Riccati方程式 (リッカティ方程式)** と呼ぶ.  $v=au$ ($u=v/a$) とおくと,\n",
    "\n",
    "$$\n",
    "\\begin{aligned}\n",
    "(*) & \\iff\n",
    "\\frac{v'}{a} - \\frac{a'}{a^2}v + \\frac{1}{a}v^2 + \\frac{b}{a}v + c = 0\n",
    "\\\\ & \\iff\n",
    "v' + v^2 + \\left(b - \\frac{a'}{a}\\right)v + ac = 0.\n",
    "\\end{aligned}\n",
    "$$\n",
    "\n",
    "ゆえに, 一般的なRiccati方程式($*$)の解くことは, $a=a(x)=1$ の場合のRiccati方程式\n",
    "\n",
    "$$\n",
    "u' + u^2 + bu + c = 0.\n",
    "\\tag{$*'$}\n",
    "$$\n",
    "\n",
    "を解くことに帰着できる."
   ]
  },
  {
   "cell_type": "code",
   "execution_count": 22,
   "metadata": {},
   "outputs": [
    {
     "data": {
      "text/html": [
       "<style>\n",
       "\t\t\t\t\t\t\t\t\t\t\t.grid-container {\n",
       "\t\t\t\t\t\t\t\t\t\t\t\tdisplay: inline-grid;\n",
       "\t\t\t\t\t\t\t\t\t\t\t\tgrid-template-columns: auto auto;\n",
       "\t\t\t\t\t\t\t\t\t\t\t}\n",
       "\t\t\t\t\t\t\t\t\t\t</style>\n",
       "\n",
       "\t\t\t\t\t\t\t\t\t\t<div><div class=\"grid-container\"><div class=\"grid-item\">\n",
       "\t\t\t\t\t\t\t\t\t\t\t\t\t<div class=\"prompt output_prompt\" style=\"text-align:left;padding:0em;padding-right:20px;line-height:20px;\">\n",
       "\t\t\t\t\t\t\t\t\t\t\t\t\t\tOut[24]:\n",
       "\t\t\t\t\t\t\t\t\t\t\t\t\t</div>\n",
       "\t\t\t\t\t\t\t\t\t\t\t\t</div>\n",
       "\t\t\t\t\t\t\t\t\t\t\t\t<div class=\"grid-item\">$$&#92;&#102;&#114;&#97;&#99;&#123;&#118;&#40;&#120;&#41;&#125;&#123;&#97;&#40;&#120;&#41;&#125;$$</div><div class=\"grid-item\">\n",
       "\t\t\t\t\t\t\t\t\t\t\t\t\t<div class=\"prompt output_prompt\" style=\"text-align:left;padding:0em;padding-right:20px;line-height:20px;\">\n",
       "\t\t\t\t\t\t\t\t\t\t\t\t\t\tOut[25]:\n",
       "\t\t\t\t\t\t\t\t\t\t\t\t\t</div>\n",
       "\t\t\t\t\t\t\t\t\t\t\t\t</div>\n",
       "\t\t\t\t\t\t\t\t\t\t\t\t<div class=\"grid-item\">$$&#45;&#92;&#102;&#114;&#97;&#99;&#123;&#118;&#40;&#120;&#41;&#32;&#97;&#39;&#40;&#120;&#41;&#125;&#123;&#97;&#40;&#120;&#41;&#125;&#43;&#97;&#40;&#120;&#41;&#32;&#99;&#40;&#120;&#41;&#43;&#98;&#40;&#120;&#41;&#32;&#118;&#40;&#120;&#41;&#43;&#118;&#39;&#40;&#120;&#41;&#43;&#118;&#40;&#120;&#41;&#94;&#50;$$</div></div></div>"
      ]
     },
     "execution_count": 24,
     "metadata": {
      "text/html": []
     },
     "output_type": "execute_result"
    }
   ],
   "source": [
    "Clear[a,b,c,f,g,p,q,u,w,x,alpha,beta,dphi,phi,psi,L,R]\n",
    "u = v[x]/a[x];\n",
    "u // TeX\n",
    "a[x] (D[u,x] + a[x] u^2 + b[x] u + c[x]) // Simplify // TeX"
   ]
  },
  {
   "cell_type": "markdown",
   "metadata": {},
   "source": [
    "### Riccati方程式の解法の短いまとめ\n",
    "\n",
    "Riccati方程式を単に解きたいだけの人は以下を知っているだけで十分である.\n",
    "\n",
    "Riccati方程式\n",
    "\n",
    "$$\n",
    "u' + au^2 + bu + c = 0\n",
    "\\tag{$*$}\n",
    "$$\n",
    "\n",
    "は\n",
    "\n",
    "$$\n",
    "u = \\frac{1}{a}\\frac{\\psi'}{\\psi}\n",
    "$$\n",
    "\n",
    "とおけば2階の線形常微分方程式\n",
    "\n",
    "$$\n",
    "\\left(\\d^2+\\left(b-\\frac{a'}{a}\\right)+ac\\right)\\psi = 0\n",
    "\\tag{$\\#$}\n",
    "$$\n",
    "\n",
    "に帰着する. このことは以下のような計算で確認できる.  \n",
    "\n",
    "Riccati方程式 ($*$) の左辺に $u=(1/a)\\psi'/\\psi$ を代入すると,\n",
    "\n",
    "$$\n",
    "\\begin{aligned}\n",
    "&\n",
    "u' = -\\frac{a'}{a^2}\\frac{\\psi'}{\\psi} + \\frac{1}{a}\\frac{\\psi''}{\\psi} - \\frac{1}{a}\\frac{(\\psi')^2}{\\psi^2} =\n",
    "\\frac{-(a'/a)\\psi + \\psi''}{a\\psi} - au^2\n",
    "\\\\ &\n",
    "u' + au^2 + bu + c =\n",
    "\\frac{-(a'/a)\\psi + \\psi'' + b\\psi' + ac\\psi}{a\\psi} =\n",
    "\\frac{1}{a\\psi}\\left(\\d^2 + \\left(b-\\frac{a'}{a}\\right)+ac\\right)\\psi.\n",
    "\\end{aligned}\n",
    "$$\n",
    "\n",
    "これより, 2階の線形常微分方程式 ($\\#$) の $0$ でない解 $\\psi$ に対して, $u=(1/a)\\psi'/\\psi$ がRiccati方程式 ($*$) の解になっていることがわかる.\n",
    "\n",
    "逆に $u=(1/a)\\psi'/\\psi$ を満たす $\\psi$ を\n",
    "\n",
    "$$\n",
    "\\psi = e^{\\int au\\,dx}\n",
    "$$\n",
    "\n",
    "と構成して, 2階の線形常微分方程式 ($\\#$) の左辺に代入すると, \n",
    "\n",
    "$$\n",
    "\\begin{aligned}\n",
    "&\n",
    "\\psi' = au\\psi,\n",
    "\\\\ &\n",
    "\\psi'' = (a'u + au' + a^2u^2)\\psi,\n",
    "\\\\ &\n",
    "\\left(\\d^2 + \\left(b-\\frac{a'}{a}\\right)+ac\\right)\\psi =\n",
    "\\left(a'u + au' + a^2u^2 + \\left(b-\\frac{a'}{a}\\right)au + ac\\right)\\psi =\n",
    "a\\psi(u'+au^2+bu+c).\n",
    "\\end{aligned}\n",
    "$$\n",
    "\n",
    "これより, Riccati方程式 ($*$) の解に対して, $u=(1/a)\\psi'/\\psi$ を満たす $0$ でない $\\psi$ は2階の線形常微分方程式 ($\\#$) の解になっていることがわかる."
   ]
  },
  {
   "cell_type": "markdown",
   "metadata": {},
   "source": [
    "**例:** 定数 $\\kappa\\ne \\lambda$ が定める(特殊な)Riccati方程式\n",
    "\n",
    "$$\n",
    "u' + (u-\\kappa)(u-\\lambda) = 0\n",
    "$$\n",
    "\n",
    "は定数解 $u=\\kappa,\\lambda$ を持つ. $u=\\psi'/\\psi$ とおくと, このRiccati方程式は定数係数の2解の線形常微分方程式\n",
    "\n",
    "$$\n",
    "(\\d^2-(\\kappa+\\lambda)\\d+\\kappa\\lambda)\\psi = (\\d-\\kappa)(\\d-\\lambda)\\psi = 0\n",
    "$$\n",
    "\n",
    "に帰着する. これの $0$ でない解は\n",
    "\n",
    "$$\n",
    "\\psi = \\alpha e^{\\kappa x} + \\beta e^{\\lambda x}, \\quad (\\alpha,\\beta)\\ne(0,0)\n",
    "$$\n",
    "\n",
    "と書け, 対応するRiccati方程式の解は\n",
    "\n",
    "$$\n",
    "u = \\frac{\\psi'}{\\psi} = \\frac{\\alpha\\kappa e^{\\kappa x} + \\beta\\lambda e^{\\lambda x}}{\\alpha e^{\\kappa x} + \\beta e^{\\lambda x}}\n",
    "$$\n",
    "\n",
    "と書ける. $\\QED$"
   ]
  },
  {
   "cell_type": "code",
   "execution_count": 26,
   "metadata": {},
   "outputs": [
    {
     "data": {
      "text/html": [
       "<div>$$&#40;&#117;&#40;&#120;&#41;&#45;&#92;&#107;&#97;&#112;&#112;&#97;&#32;&#41;&#32;&#40;&#117;&#40;&#120;&#41;&#45;&#92;&#108;&#97;&#109;&#98;&#100;&#97;&#32;&#41;&#43;&#117;&#39;&#40;&#120;&#41;$$</div>"
      ]
     },
     "execution_count": 28,
     "metadata": {
      "text/html": []
     },
     "output_type": "execute_result"
    }
   ],
   "source": [
    "Clear[a,b,c,f,g,p,q,u,w,x,alpha,beta,kappa,lambda,dphi,phi,psi,L,R]\n",
    "R = u'[x] + (u[x] - kappa)(u[x] - lambda);\n",
    "R // TeX"
   ]
  },
  {
   "cell_type": "code",
   "execution_count": 29,
   "metadata": {},
   "outputs": [
    {
     "data": {
      "text/html": [
       "<div>$$&#92;&#108;&#101;&#102;&#116;&#92;&#123;&#92;&#108;&#101;&#102;&#116;&#92;&#123;&#117;&#40;&#120;&#41;&#92;&#116;&#111;&#32;&#92;&#102;&#114;&#97;&#99;&#123;&#92;&#108;&#97;&#109;&#98;&#100;&#97;&#32;&#32;&#101;&#94;&#123;&#99;&#95;&#49;&#32;&#92;&#107;&#97;&#112;&#112;&#97;&#32;&#43;&#92;&#108;&#97;&#109;&#98;&#100;&#97;&#32;&#32;&#120;&#125;&#45;&#92;&#107;&#97;&#112;&#112;&#97;&#32;&#32;&#101;&#94;&#123;&#99;&#95;&#49;&#32;&#92;&#108;&#97;&#109;&#98;&#100;&#97;&#32;&#43;&#92;&#107;&#97;&#112;&#112;&#97;&#32;&#32;&#120;&#125;&#125;&#123;&#101;&#94;&#123;&#99;&#95;&#49;&#32;&#92;&#107;&#97;&#112;&#112;&#97;&#32;&#43;&#92;&#108;&#97;&#109;&#98;&#100;&#97;&#32;&#32;&#120;&#125;&#45;&#101;&#94;&#123;&#99;&#95;&#49;&#32;&#92;&#108;&#97;&#109;&#98;&#100;&#97;&#32;&#43;&#92;&#107;&#97;&#112;&#112;&#97;&#32;&#32;&#120;&#125;&#125;&#92;&#114;&#105;&#103;&#104;&#116;&#92;&#125;&#92;&#114;&#105;&#103;&#104;&#116;&#92;&#125;$$</div>"
      ]
     },
     "execution_count": 29,
     "metadata": {
      "text/html": []
     },
     "output_type": "execute_result"
    }
   ],
   "source": [
    "sol = DSolve[R == 0, u[x], x] // TeX"
   ]
  },
  {
   "cell_type": "code",
   "execution_count": 30,
   "metadata": {},
   "outputs": [
    {
     "data": {
      "text/html": [
       "<div>$$&#45;&#40;&#92;&#107;&#97;&#112;&#112;&#97;&#32;&#43;&#92;&#108;&#97;&#109;&#98;&#100;&#97;&#32;&#41;&#32;&#92;&#112;&#115;&#105;&#32;&#39;&#40;&#120;&#41;&#43;&#92;&#107;&#97;&#112;&#112;&#97;&#32;&#32;&#92;&#108;&#97;&#109;&#98;&#100;&#97;&#32;&#32;&#92;&#112;&#115;&#105;&#32;&#40;&#120;&#41;&#43;&#92;&#112;&#115;&#105;&#32;&#39;&#39;&#40;&#120;&#41;$$</div>"
      ]
     },
     "execution_count": 31,
     "metadata": {
      "text/html": []
     },
     "output_type": "execute_result"
    }
   ],
   "source": [
    "L = psi''[x] - (kappa+lambda) psi'[x] + kappa lambda psi[x];\n",
    "L // TeX"
   ]
  },
  {
   "cell_type": "code",
   "execution_count": 32,
   "metadata": {},
   "outputs": [
    {
     "data": {
      "text/html": [
       "<div>$$&#92;&#108;&#101;&#102;&#116;&#92;&#123;&#92;&#108;&#101;&#102;&#116;&#92;&#123;&#92;&#112;&#115;&#105;&#32;&#40;&#120;&#41;&#92;&#116;&#111;&#32;&#99;&#95;&#50;&#32;&#101;&#94;&#123;&#92;&#107;&#97;&#112;&#112;&#97;&#32;&#32;&#120;&#125;&#43;&#99;&#95;&#49;&#32;&#101;&#94;&#123;&#92;&#108;&#97;&#109;&#98;&#100;&#97;&#32;&#32;&#120;&#125;&#92;&#114;&#105;&#103;&#104;&#116;&#92;&#125;&#92;&#114;&#105;&#103;&#104;&#116;&#92;&#125;$$</div>"
      ]
     },
     "execution_count": 32,
     "metadata": {
      "text/html": []
     },
     "output_type": "execute_result"
    }
   ],
   "source": [
    "lsol = DSolve[L == 0, psi[x], x] // TeX"
   ]
  },
  {
   "cell_type": "markdown",
   "metadata": {},
   "source": [
    "**問題:** Riccati方程式\n",
    "\n",
    "$$\n",
    "u'+ (u-\\kappa)^2 = 0\n",
    "$$\n",
    "\n",
    "を解け.\n",
    "\n",
    "**解答例:** $u = \\psi'/\\psi = (\\log\\psi)'$ とおくと, $(\\d-\\kappa)^2\\psi=0$ に帰着する. $(\\d-\\kappa)^2\\psi=0$ の $0$ でない解は\n",
    "\n",
    "$$\n",
    "\\psi = (\\alpha + \\beta x)e^{\\kappa x}, \\quad (\\alpha,\\beta)\\ne(0,0)\n",
    "$$\n",
    "\n",
    "と書けるので, Riccati方程式の解は\n",
    "\n",
    "$$\n",
    "u = (\\log\\psi)' = \\frac{\\beta}{\\alpha+\\beta x} + \\kappa\n",
    "$$\n",
    "\n",
    "と書ける. $\\QED$"
   ]
  },
  {
   "cell_type": "code",
   "execution_count": 33,
   "metadata": {},
   "outputs": [
    {
     "data": {
      "text/html": [
       "<div>$$&#40;&#117;&#40;&#120;&#41;&#45;&#92;&#107;&#97;&#112;&#112;&#97;&#32;&#41;&#94;&#50;&#43;&#117;&#39;&#40;&#120;&#41;$$</div>"
      ]
     },
     "execution_count": 35,
     "metadata": {
      "text/html": []
     },
     "output_type": "execute_result"
    }
   ],
   "source": [
    "Clear[a,b,c,f,g,p,q,u,w,x,alpha,beta,kappa,lambda,dphi,phi,psi,L,R]\n",
    "R = u'[x] + (u[x] - kappa)^2;\n",
    "R // TeX"
   ]
  },
  {
   "cell_type": "code",
   "execution_count": 36,
   "metadata": {},
   "outputs": [
    {
     "data": {
      "text/html": [
       "<div>$$&#92;&#108;&#101;&#102;&#116;&#92;&#123;&#92;&#108;&#101;&#102;&#116;&#92;&#123;&#117;&#40;&#120;&#41;&#92;&#116;&#111;&#32;&#92;&#102;&#114;&#97;&#99;&#123;&#45;&#99;&#95;&#49;&#32;&#92;&#107;&#97;&#112;&#112;&#97;&#32;&#43;&#92;&#107;&#97;&#112;&#112;&#97;&#32;&#32;&#120;&#43;&#49;&#125;&#123;&#120;&#45;&#99;&#95;&#49;&#125;&#92;&#114;&#105;&#103;&#104;&#116;&#92;&#125;&#92;&#114;&#105;&#103;&#104;&#116;&#92;&#125;$$</div>"
      ]
     },
     "execution_count": 36,
     "metadata": {
      "text/html": []
     },
     "output_type": "execute_result"
    }
   ],
   "source": [
    "sol = DSolve[R == 0, u[x], x] // TeX"
   ]
  },
  {
   "cell_type": "code",
   "execution_count": 37,
   "metadata": {},
   "outputs": [
    {
     "data": {
      "text/html": [
       "<div>$$&#92;&#107;&#97;&#112;&#112;&#97;&#32;&#94;&#50;&#32;&#92;&#112;&#115;&#105;&#32;&#40;&#120;&#41;&#45;&#50;&#32;&#92;&#107;&#97;&#112;&#112;&#97;&#32;&#32;&#92;&#112;&#115;&#105;&#32;&#39;&#40;&#120;&#41;&#43;&#92;&#112;&#115;&#105;&#32;&#39;&#39;&#40;&#120;&#41;$$</div>"
      ]
     },
     "execution_count": 38,
     "metadata": {
      "text/html": []
     },
     "output_type": "execute_result"
    }
   ],
   "source": [
    "L = psi''[x] - 2 kappa psi'[x] + kappa^2 psi[x];\n",
    "L // TeX"
   ]
  },
  {
   "cell_type": "code",
   "execution_count": 39,
   "metadata": {},
   "outputs": [
    {
     "data": {
      "text/html": [
       "<div>$$&#92;&#108;&#101;&#102;&#116;&#92;&#123;&#92;&#108;&#101;&#102;&#116;&#92;&#123;&#92;&#112;&#115;&#105;&#32;&#40;&#120;&#41;&#92;&#116;&#111;&#32;&#99;&#95;&#49;&#32;&#101;&#94;&#123;&#92;&#107;&#97;&#112;&#112;&#97;&#32;&#32;&#120;&#125;&#43;&#99;&#95;&#50;&#32;&#120;&#32;&#101;&#94;&#123;&#92;&#107;&#97;&#112;&#112;&#97;&#32;&#32;&#120;&#125;&#92;&#114;&#105;&#103;&#104;&#116;&#92;&#125;&#92;&#114;&#105;&#103;&#104;&#116;&#92;&#125;$$</div>"
      ]
     },
     "execution_count": 39,
     "metadata": {
      "text/html": []
     },
     "output_type": "execute_result"
    }
   ],
   "source": [
    "lsol = DSolve[L == 0, psi[x], x] // TeX"
   ]
  },
  {
   "cell_type": "markdown",
   "metadata": {},
   "source": [
    "**問題:** 定数 $\\kappa\\ne\\lambda$ に対する次のRiccati方程式を解け:\n",
    "\n",
    "$$\n",
    "u' + \\frac{1}{x}(u-\\kappa)(u-\\lambda).\n",
    "$$\n",
    "\n",
    "**解答例:** $u = x\\psi'/\\psi$ とおくと, \n",
    "\n",
    "$$\n",
    "\\left(\\d^2+\\left(-\\frac{\\kappa+\\lambda}{x}+\\frac{1}{x}\\right)\\d+\\frac{1}{x}\\frac{\\kappa\\lambda}{x}\\right)\\psi = \n",
    "\\left(\\d^2-\\frac{\\kappa+\\lambda-1}{x}\\d+\\frac{\\kappa\\lambda}{x^2}\\right)\\psi = 0\n",
    "$$\n",
    "\n",
    "に帰着する. \n",
    "\n",
    "$$\n",
    "\\d^2-\\frac{\\kappa+\\lambda-1}{x}\\d+\\frac{\\kappa\\lambda}{x^2} =\n",
    "\\left(\\d - \\frac{\\kappa-1}{x}\\right)\\left(\\d - \\frac{\\lambda}{x}\\right) =\n",
    "\\left(\\d - \\frac{\\lambda-1}{x}\\right)\\left(\\d - \\frac{\\kappa}{x}\\right)\n",
    "$$\n",
    "\n",
    "なので, $\\psi$ に関する階の線形常微分方程式は $(\\d-\\kappa/x)\\psi=0$ と $(\\d-\\lambda/x)\\psi=0$ の解 $\\psi=x^　＄￥\\kappa,x^\\lambda$ を持つ. $\\kappa\\ne \\lambda$ という仮定より, それらは一次独立なので, $\\psi$ に関する階の線形常微分方程式の $0$ でない解は\n",
    "\n",
    "$$\n",
    "\\psi = \\alpha x^\\kappa + \\beta x^\\lambda, \\quad (\\alpha,\\beta)\\ne(0,0)\n",
    "$$\n",
    "\n",
    "と表され, 対応するRiccati方程式の解は\n",
    "\n",
    "$$\n",
    "u = x\\frac{\\psi'}{\\psi} = \\frac{\\alpha\\kappa x^\\kappa + \\beta\\lambda x^\\lambda}{\\alpha x^\\kappa + \\beta x^\\lambda}\n",
    "$$\n",
    "\n",
    "と表わされる. $\\QED$"
   ]
  },
  {
   "cell_type": "code",
   "execution_count": 40,
   "metadata": {},
   "outputs": [
    {
     "data": {
      "text/html": [
       "<div>$$&#92;&#102;&#114;&#97;&#99;&#123;&#40;&#117;&#40;&#120;&#41;&#45;&#92;&#107;&#97;&#112;&#112;&#97;&#32;&#41;&#32;&#40;&#117;&#40;&#120;&#41;&#45;&#92;&#108;&#97;&#109;&#98;&#100;&#97;&#32;&#41;&#125;&#123;&#120;&#125;&#43;&#117;&#39;&#40;&#120;&#41;$$</div>"
      ]
     },
     "execution_count": 42,
     "metadata": {
      "text/html": []
     },
     "output_type": "execute_result"
    }
   ],
   "source": [
    "Clear[a,b,c,f,g,p,q,u,w,x,alpha,beta,kappa,lambda,dphi,phi,psi,L,R]\n",
    "R = u'[x] + 1/x (u[x] - kappa)(u[x] - lambda);\n",
    "R // TeX"
   ]
  },
  {
   "cell_type": "code",
   "execution_count": 43,
   "metadata": {},
   "outputs": [
    {
     "data": {
      "text/html": [
       "<div>$$&#92;&#108;&#101;&#102;&#116;&#92;&#123;&#92;&#108;&#101;&#102;&#116;&#92;&#123;&#117;&#40;&#120;&#41;&#92;&#116;&#111;&#32;&#92;&#102;&#114;&#97;&#99;&#123;&#92;&#107;&#97;&#112;&#112;&#97;&#32;&#32;&#101;&#94;&#123;&#99;&#95;&#49;&#32;&#92;&#108;&#97;&#109;&#98;&#100;&#97;&#32;&#125;&#32;&#120;&#94;&#123;&#92;&#107;&#97;&#112;&#112;&#97;&#32;&#125;&#45;&#92;&#108;&#97;&#109;&#98;&#100;&#97;&#32;&#32;&#101;&#94;&#123;&#99;&#95;&#49;&#32;&#92;&#107;&#97;&#112;&#112;&#97;&#32;&#125;&#32;&#120;&#94;&#123;&#92;&#108;&#97;&#109;&#98;&#100;&#97;&#32;&#125;&#125;&#123;&#101;&#94;&#123;&#99;&#95;&#49;&#32;&#92;&#108;&#97;&#109;&#98;&#100;&#97;&#32;&#125;&#32;&#120;&#94;&#123;&#92;&#107;&#97;&#112;&#112;&#97;&#32;&#125;&#45;&#101;&#94;&#123;&#99;&#95;&#49;&#32;&#92;&#107;&#97;&#112;&#112;&#97;&#32;&#125;&#32;&#120;&#94;&#123;&#92;&#108;&#97;&#109;&#98;&#100;&#97;&#32;&#125;&#125;&#92;&#114;&#105;&#103;&#104;&#116;&#92;&#125;&#92;&#114;&#105;&#103;&#104;&#116;&#92;&#125;$$</div>"
      ]
     },
     "execution_count": 43,
     "metadata": {
      "text/html": []
     },
     "output_type": "execute_result"
    }
   ],
   "source": [
    "sol = DSolve[R == 0, u[x], x] // TeX"
   ]
  },
  {
   "cell_type": "code",
   "execution_count": 44,
   "metadata": {},
   "outputs": [
    {
     "data": {
      "text/html": [
       "<div>$$&#45;&#92;&#102;&#114;&#97;&#99;&#123;&#40;&#92;&#107;&#97;&#112;&#112;&#97;&#32;&#43;&#92;&#108;&#97;&#109;&#98;&#100;&#97;&#32;&#45;&#49;&#41;&#32;&#92;&#112;&#115;&#105;&#32;&#39;&#40;&#120;&#41;&#125;&#123;&#120;&#125;&#43;&#92;&#102;&#114;&#97;&#99;&#123;&#92;&#107;&#97;&#112;&#112;&#97;&#32;&#32;&#92;&#108;&#97;&#109;&#98;&#100;&#97;&#32;&#32;&#92;&#112;&#115;&#105;&#32;&#40;&#120;&#41;&#125;&#123;&#120;&#94;&#50;&#125;&#43;&#92;&#112;&#115;&#105;&#32;&#39;&#39;&#40;&#120;&#41;$$</div>"
      ]
     },
     "execution_count": 45,
     "metadata": {
      "text/html": []
     },
     "output_type": "execute_result"
    }
   ],
   "source": [
    "L = psi''[x] - (kappa+lambda-1)/x psi'[x] + kappa lambda/x^2 psi[x];\n",
    "L // TeX"
   ]
  },
  {
   "cell_type": "code",
   "execution_count": 46,
   "metadata": {},
   "outputs": [
    {
     "data": {
      "text/html": [
       "<div>$$&#92;&#108;&#101;&#102;&#116;&#92;&#123;&#92;&#108;&#101;&#102;&#116;&#92;&#123;&#92;&#112;&#115;&#105;&#32;&#40;&#120;&#41;&#92;&#116;&#111;&#32;&#99;&#95;&#49;&#32;&#120;&#94;&#123;&#92;&#107;&#97;&#112;&#112;&#97;&#32;&#125;&#43;&#99;&#95;&#50;&#32;&#120;&#94;&#123;&#92;&#108;&#97;&#109;&#98;&#100;&#97;&#32;&#125;&#92;&#114;&#105;&#103;&#104;&#116;&#92;&#125;&#92;&#114;&#105;&#103;&#104;&#116;&#92;&#125;$$</div>"
      ]
     },
     "execution_count": 46,
     "metadata": {
      "text/html": []
     },
     "output_type": "execute_result"
    }
   ],
   "source": [
    "lsol = DSolve[L == 0, psi[x], x] // TeX"
   ]
  },
  {
   "cell_type": "markdown",
   "metadata": {},
   "source": [
    "**問題:** 定数 $\\kappa$ に対する次のRiccati方程式を解け:\n",
    "\n",
    "$$\n",
    "u'+\\frac{1}{x}(u-\\kappa)^2 = 0.\n",
    "$$\n",
    "\n",
    "**解答例:** $u=x\\psi'/\\psi = x(\\log\\psi)'$ とおくと, \n",
    "\n",
    "$$\n",
    "\\left(\\d^2-\\frac{2\\kappa-1}{x}\\d+\\frac{\\kappa^2}{x^2}\\right)\\psi = 0\n",
    "$$\n",
    "\n",
    "に帰着する. この2階の線形常微分方程式の $0$ でない解は\n",
    "\n",
    "$$\n",
    "\\psi = x^\\kappa(\\alpha + \\beta\\log x)\n",
    "\\quad (\\alpha,\\beta)\\ne(0,0)\n",
    "$$\n",
    "\n",
    "と書けるので, 対応するRiccati方程式の解は\n",
    "\n",
    "$$\n",
    "u = x(\\log\\psi)' = \\kappa + \\frac{\\beta}{\\alpha + \\beta\\log x}\n",
    "$$\n",
    "\n",
    "と書ける. $\\QED$"
   ]
  },
  {
   "cell_type": "code",
   "execution_count": 47,
   "metadata": {},
   "outputs": [
    {
     "data": {
      "text/html": [
       "<div>$$&#92;&#102;&#114;&#97;&#99;&#123;&#40;&#117;&#40;&#120;&#41;&#45;&#92;&#107;&#97;&#112;&#112;&#97;&#32;&#41;&#94;&#50;&#125;&#123;&#120;&#125;&#43;&#117;&#39;&#40;&#120;&#41;$$</div>"
      ]
     },
     "execution_count": 49,
     "metadata": {
      "text/html": []
     },
     "output_type": "execute_result"
    }
   ],
   "source": [
    "Clear[a,b,c,f,g,p,q,u,w,x,alpha,beta,kappa,lambda,dphi,phi,psi,L,R]\n",
    "R = u'[x] + 1/x (u[x] - kappa)^2;\n",
    "R // TeX"
   ]
  },
  {
   "cell_type": "code",
   "execution_count": 50,
   "metadata": {},
   "outputs": [
    {
     "data": {
      "text/html": [
       "<div>$$&#92;&#108;&#101;&#102;&#116;&#92;&#123;&#92;&#108;&#101;&#102;&#116;&#92;&#123;&#117;&#40;&#120;&#41;&#92;&#116;&#111;&#32;&#92;&#102;&#114;&#97;&#99;&#123;&#99;&#95;&#49;&#32;&#92;&#107;&#97;&#112;&#112;&#97;&#32;&#45;&#92;&#107;&#97;&#112;&#112;&#97;&#32;&#32;&#92;&#108;&#111;&#103;&#32;&#40;&#120;&#41;&#45;&#49;&#125;&#123;&#99;&#95;&#49;&#45;&#92;&#108;&#111;&#103;&#32;&#40;&#120;&#41;&#125;&#92;&#114;&#105;&#103;&#104;&#116;&#92;&#125;&#92;&#114;&#105;&#103;&#104;&#116;&#92;&#125;$$</div>"
      ]
     },
     "execution_count": 50,
     "metadata": {
      "text/html": []
     },
     "output_type": "execute_result"
    }
   ],
   "source": [
    "sol = DSolve[R == 0, u[x], x] // TeX"
   ]
  },
  {
   "cell_type": "code",
   "execution_count": 51,
   "metadata": {},
   "outputs": [
    {
     "data": {
      "text/html": [
       "<div>$$&#92;&#102;&#114;&#97;&#99;&#123;&#92;&#107;&#97;&#112;&#112;&#97;&#32;&#94;&#50;&#32;&#92;&#112;&#115;&#105;&#32;&#40;&#120;&#41;&#125;&#123;&#120;&#94;&#50;&#125;&#45;&#92;&#102;&#114;&#97;&#99;&#123;&#40;&#50;&#32;&#92;&#107;&#97;&#112;&#112;&#97;&#32;&#45;&#49;&#41;&#32;&#92;&#112;&#115;&#105;&#32;&#39;&#40;&#120;&#41;&#125;&#123;&#120;&#125;&#43;&#92;&#112;&#115;&#105;&#32;&#39;&#39;&#40;&#120;&#41;$$</div>"
      ]
     },
     "execution_count": 52,
     "metadata": {
      "text/html": []
     },
     "output_type": "execute_result"
    }
   ],
   "source": [
    "L = psi''[x] - (2kappa-1)/x psi'[x] + kappa^2/x^2 psi[x];\n",
    "L // TeX"
   ]
  },
  {
   "cell_type": "code",
   "execution_count": 53,
   "metadata": {},
   "outputs": [
    {
     "data": {
      "text/html": [
       "<div>$$&#92;&#108;&#101;&#102;&#116;&#92;&#123;&#92;&#108;&#101;&#102;&#116;&#92;&#123;&#92;&#112;&#115;&#105;&#32;&#40;&#120;&#41;&#92;&#116;&#111;&#32;&#99;&#95;&#49;&#32;&#120;&#94;&#123;&#92;&#107;&#97;&#112;&#112;&#97;&#32;&#125;&#43;&#99;&#95;&#50;&#32;&#92;&#107;&#97;&#112;&#112;&#97;&#32;&#32;&#120;&#94;&#123;&#92;&#107;&#97;&#112;&#112;&#97;&#32;&#125;&#32;&#92;&#108;&#111;&#103;&#32;&#40;&#120;&#41;&#92;&#114;&#105;&#103;&#104;&#116;&#92;&#125;&#92;&#114;&#105;&#103;&#104;&#116;&#92;&#125;$$</div>"
      ]
     },
     "execution_count": 53,
     "metadata": {
      "text/html": []
     },
     "output_type": "execute_result"
    }
   ],
   "source": [
    "lsol = DSolve[L == 0, psi[x], x] // TeX"
   ]
  },
  {
   "cell_type": "markdown",
   "metadata": {},
   "source": [
    "以下では, $u=(1/a)\\psi'/\\psi$ という「処方箋」の背景について調べて行く.  "
   ]
  },
  {
   "cell_type": "markdown",
   "metadata": {},
   "source": [
    "### Riccati方程式の数学的由来の1つが分かる補題\n",
    "\n",
    "$a=a(x)=1$ の場合のRiccati方程式\n",
    "\n",
    "$$\n",
    "u' + u^2 + bu + c = 0.\n",
    "\\tag{$*'$}\n",
    "$$\n",
    "\n",
    "の数学的な由来の1つは次の補題およびその証明を見れば分かる.\n",
    "\n",
    "**補題:** 微分作用素 $\\d^2+b\\d+c$ が微分作用素 $\\d-u$ で右から割り切れることとRiccati方程式($*'$)が成立することは同値である.\n",
    "\n",
    "**証明:** $\\d^2+b\\d+c$ を $\\d-u$ で左から割ったときの余りを求めよう. 多項式の商と余りを求める割り算と同様にして以下が成立することを示せる:\n",
    "\n",
    "$$\n",
    "\\d^2+b\\d+c = (\\d+u+b)(\\d-u) + u'+u^2+bu+c.\n",
    "\\tag{1}\n",
    "$$\n",
    "\n",
    "これが成立することは, 微分作用素として $\\d f=f\\d + f'$ が成立することを使えば, 直接的に以下のようにして確認できる.\n",
    "\n",
    "$$\n",
    "\\begin{aligned}\n",
    "(\\d+u+b))(\\d-u) &= \n",
    "\\d^2 -u\\d -u' + (u+b)\\d -(u^2+bu)\n",
    "\\\\ &=\n",
    "\\d^2+b\\d -(u'+u^2+bu)\n",
    "\\\\ &=\n",
    "\\d^2+b\\d+c -(u'+u^2+bu+c).\n",
    "\\end{aligned}\n",
    "$$\n",
    "\n",
    "これより, (1)が成立することがわかる. (1)より, $\\d^2+b\\d+c$ が $\\d-u$ で右から割り切れるための必要十分条件は($*'$) $u'+u^2+bu+c=0$ が成立することだとわかる. $\\QED$"
   ]
  },
  {
   "cell_type": "markdown",
   "metadata": {},
   "source": [
    "**注意:** 常微分作用素を常微分作用素で右から割った商と余りを求める割算の筆算とは以下のような計算のことである:\n",
    "\n",
    "$$\n",
    "\\require{enclose}\n",
    "\\begin{aligned}\n",
    "&\n",
    "\\begin{array}{rlll}\n",
    "\\text{R}\\backslash\\text{L}\\!\\!\\!\\!\\!\\!\\!\\! & \\;\\;\\,\\d\\,\\phantom{+u+b} \\\\[-2pt]\n",
    "\\d-u \\!\\!\\!\\!\\! & \\enclose{longdiv}{\\d^2+b\\d+c\\quad\\quad\\quad\\;\\,}\\kern-.3ex \\\\[-2pt]\n",
    "     & \\;\\;\\d^2-u\\d-u'\\quad\\quad\\;\\;\\;\\, \\\\[-2pt]\n",
    "     & \\;\\phantom{(u+b)\\d+u'+c} \\\\[-2pt]\n",
    "     & \\;\\phantom{\\underline{\\;(u+b)\\d-(u^2+bu)\\;}} \\\\[-2pt]\n",
    "%     & \\;\\;\\quad\\;\\phantom{u'+u^2+bu+c}\\\\\n",
    "\\end{array}\n",
    "\\longrightarrow\n",
    "\\begin{array}{rlll}\n",
    "\\text{R}\\backslash\\text{L}\\!\\!\\!\\!\\!\\!\\!\\! & \\;\\;\\,\\d\\,\\phantom{+u+b} \\\\[-2pt]\n",
    "\\d-u \\!\\!\\!\\!\\! & \\enclose{longdiv}{\\d^2+b\\d+c\\quad\\quad\\quad\\;\\,}\\kern-.3ex \\\\[-2pt]\n",
    "     & \\;\\underline{\\;\\d^2-u\\d-u'\\quad\\quad\\;\\;\\;\\,} \\\\[-2pt]\n",
    "     & \\;(u+b)\\d+u'+c \\\\[-2pt]\n",
    "     & \\;\\phantom{\\underline{\\;(u+b)\\d-(u^2+bu)\\;}} \\\\[-2pt]\n",
    "%     & \\;\\;\\quad\\;\\phantom{u'+u^2+bu+c}\\\\\n",
    "\\end{array}\n",
    "\\\\ \\longrightarrow &\n",
    "\\begin{array}{rlll}\n",
    "\\text{R}\\backslash\\text{L}\\!\\!\\!\\!\\!\\!\\!\\! & \\;\\;\\,\\d\\,+u+b \\\\[-2pt]\n",
    "\\d-u \\!\\!\\!\\!\\! & \\enclose{longdiv}{\\d^2+b\\d+c\\quad\\quad\\quad\\;\\,}\\kern-.3ex \\\\[-2pt]\n",
    "     & \\;\\underline{\\;\\d^2-u\\d-u'\\quad\\quad\\;\\;\\;\\,} \\\\[-2pt]\n",
    "     & \\;\\;(u+b)\\d+u'+c \\\\[-2pt]\n",
    "     & \\;\\;(u+b)\\d-(u^2+bu)\\; \\\\[-2pt]\n",
    "     & \\;\\;\\quad\\;\\phantom{u'+u^2+bu+c}\\\\\n",
    "\\end{array}\n",
    "\\longrightarrow\n",
    "\\begin{array}{rlll}\n",
    "\\text{R}\\backslash\\text{L}\\!\\!\\!\\!\\!\\!\\!\\! & \\;\\;\\,\\d\\,+u+b \\\\[-2pt]\n",
    "\\d-u \\!\\!\\!\\!\\! & \\enclose{longdiv}{\\d^2+b\\d+c\\quad\\quad\\quad\\;\\,}\\kern-.3ex \\\\[-2pt]\n",
    "     & \\;\\underline{\\;\\d^2-u\\d+u'\\quad\\quad\\;\\;\\;\\,} \\\\[-2pt]\n",
    "     & \\;\\;(u+b)\\d+u'+c \\\\[-2pt]\n",
    "     & \\;\\underline{\\;(u+b)\\d-(u^2+bu)\\;} \\\\[-2pt]\n",
    "     & \\;\\;\\quad\\;u'+u^2+bu+c\\\\\n",
    "\\end{array}\n",
    "\\end{aligned}\n",
    "$$\n",
    "\n",
    "$R\\backslash L$ は $L$ の側を $R$ の側に左からかけることを意味している. 最初の段階では $\\d u=u\\d+u'$ を用いて\n",
    "\n",
    "$$\n",
    "\\d(\\d-u)=\\d^2-u\\d-u'\n",
    "$$\n",
    "\n",
    "と計算した. それ以後も同様である. $\\QED$"
   ]
  },
  {
   "cell_type": "code",
   "execution_count": 54,
   "metadata": {},
   "outputs": [
    {
     "data": {
      "text/html": [
       "<style>\n",
       "\t\t\t\t\t\t\t\t\t\t\t.grid-container {\n",
       "\t\t\t\t\t\t\t\t\t\t\t\tdisplay: inline-grid;\n",
       "\t\t\t\t\t\t\t\t\t\t\t\tgrid-template-columns: auto auto;\n",
       "\t\t\t\t\t\t\t\t\t\t\t}\n",
       "\t\t\t\t\t\t\t\t\t\t</style>\n",
       "\n",
       "\t\t\t\t\t\t\t\t\t\t<div><div class=\"grid-container\"><div class=\"grid-item\">\n",
       "\t\t\t\t\t\t\t\t\t\t\t\t\t<div class=\"prompt output_prompt\" style=\"text-align:left;padding:0em;padding-right:20px;line-height:20px;\">\n",
       "\t\t\t\t\t\t\t\t\t\t\t\t\t\tOut[56]:\n",
       "\t\t\t\t\t\t\t\t\t\t\t\t\t</div>\n",
       "\t\t\t\t\t\t\t\t\t\t\t\t</div>\n",
       "\t\t\t\t\t\t\t\t\t\t\t\t<div class=\"grid-item\">$$&#92;&#112;&#115;&#105;&#32;&#39;&#40;&#120;&#41;&#45;&#92;&#112;&#115;&#105;&#32;&#40;&#120;&#41;&#32;&#117;&#40;&#120;&#41;$$</div><div class=\"grid-item\">\n",
       "\t\t\t\t\t\t\t\t\t\t\t\t\t<div class=\"prompt output_prompt\" style=\"text-align:left;padding:0em;padding-right:20px;line-height:20px;\">\n",
       "\t\t\t\t\t\t\t\t\t\t\t\t\t\tOut[58]:\n",
       "\t\t\t\t\t\t\t\t\t\t\t\t\t</div>\n",
       "\t\t\t\t\t\t\t\t\t\t\t\t</div>\n",
       "\t\t\t\t\t\t\t\t\t\t\t\t<div class=\"grid-item\">$$&#98;&#40;&#120;&#41;&#32;&#92;&#112;&#115;&#105;&#32;&#39;&#40;&#120;&#41;&#45;&#98;&#40;&#120;&#41;&#32;&#92;&#112;&#115;&#105;&#32;&#40;&#120;&#41;&#32;&#117;&#40;&#120;&#41;&#43;&#92;&#112;&#115;&#105;&#32;&#39;&#39;&#40;&#120;&#41;&#45;&#92;&#112;&#115;&#105;&#32;&#40;&#120;&#41;&#32;&#117;&#39;&#40;&#120;&#41;&#45;&#92;&#112;&#115;&#105;&#32;&#40;&#120;&#41;&#32;&#117;&#40;&#120;&#41;&#94;&#50;$$</div><div class=\"grid-item\">\n",
       "\t\t\t\t\t\t\t\t\t\t\t\t\t<div class=\"prompt output_prompt\" style=\"text-align:left;padding:0em;padding-right:20px;line-height:20px;\">\n",
       "\t\t\t\t\t\t\t\t\t\t\t\t\t\tOut[60]:\n",
       "\t\t\t\t\t\t\t\t\t\t\t\t\t</div>\n",
       "\t\t\t\t\t\t\t\t\t\t\t\t</div>\n",
       "\t\t\t\t\t\t\t\t\t\t\t\t<div class=\"grid-item\">$$&#98;&#40;&#120;&#41;&#32;&#117;&#40;&#120;&#41;&#43;&#99;&#40;&#120;&#41;&#43;&#117;&#39;&#40;&#120;&#41;&#43;&#117;&#40;&#120;&#41;&#94;&#50;$$</div><div class=\"grid-item\">\n",
       "\t\t\t\t\t\t\t\t\t\t\t\t\t<div class=\"prompt output_prompt\" style=\"text-align:left;padding:0em;padding-right:20px;line-height:20px;\">\n",
       "\t\t\t\t\t\t\t\t\t\t\t\t\t\tOut[61]:\n",
       "\t\t\t\t\t\t\t\t\t\t\t\t\t</div>\n",
       "\t\t\t\t\t\t\t\t\t\t\t\t</div>\n",
       "\t\t\t\t\t\t\t\t\t\t\t\t<div class=\"grid-item\">$$&#98;&#40;&#120;&#41;&#32;&#92;&#112;&#115;&#105;&#32;&#39;&#40;&#120;&#41;&#43;&#99;&#40;&#120;&#41;&#32;&#92;&#112;&#115;&#105;&#32;&#40;&#120;&#41;&#43;&#92;&#112;&#115;&#105;&#32;&#39;&#39;&#40;&#120;&#41;$$</div></div></div>"
      ]
     },
     "execution_count": 56,
     "metadata": {
      "text/html": []
     },
     "output_type": "execute_result"
    }
   ],
   "source": [
    "Clear[a,b,c,f,g,p,q,u,w,x,alpha,beta,dphi,phi,psi,L,R]\n",
    "Qpsi = D[psi[x],x] - u[x] psi[x];\n",
    "Qpsi // TeX\n",
    "PQpsi = D[Qpsi,x] + (u[x]+b[x])*Qpsi // ExpandAll;\n",
    "PQpsi // TeX\n",
    "R = u'[x] + u[x]^2 + b[x]u[x] + c[x];\n",
    "R // TeX\n",
    "PQpsi + R psi[x] // Simplify // TeX"
   ]
  },
  {
   "cell_type": "markdown",
   "metadata": {},
   "source": [
    "### Riccati方程式に関する基本定理\n",
    "\n",
    "**定理:** Riccati方程式 ($*'$) $u'+u^2+bu+c=0$ のすべての解 $u$ は線形常微分方程式 $(\\d^2+b\\d+c)f = 0$ の $0$ でない解 $f$ を用いて $u=f'/f$ と表わされ, 線形常微分方程式 $(\\d^2+b\\d+c)f = 0$ の $0$ でない任意の解 $f$ に対して $u=f'/f$ とおくと $u$ はRiccati方程式 ($*'$) $u'+u^2+bu+c=0$ の解になる.\n",
    "\n",
    "**証明:** $u$ はRiccati方程式 ($*'$) $u'+u^2+bu+c=0$ の解であると仮定する. このとき, 「Riccati方程式の数学的由来の1つが分かる補題」より, \n",
    "\n",
    "$$\n",
    "\\d^2+b\\d+c = (\\d+u+b)(\\d-u)\n",
    "$$\n",
    "\n",
    "が成立しているので, 微分方程式 $(\\d-u)f=0$ の $0$ でない解 $f$ を取れば, $u=f'/f$ でかつ $(\\d^2+b\\d+c)f=0$ が成立する.\n",
    "\n",
    "$f$ は線形常微分方程式 $(\\d^2+b\\d+c)f=0$ の $0$ でない解であるとし, $u=f'/f$ とおく.  このとき, $f$ は $(\\d-u)f=0$ を満たしている.  $\\d-u$ で右から $P = \\d^2+b\\d+c$ を割って商 $Q$ と余り $R$ ($R$ は $0$ 階の常微分作用素, すなわち函数)を求められる.\n",
    "\n",
    "$$\n",
    "P = Q(\\d-u)+R.\n",
    "$$\n",
    "\n",
    "$Pf=0$, $(\\d-u)f=0$ より $Rf=0$ すなわち $R=0$ が得られる. 「Riccati方程式の数学的由来の1つが分かる補題」の証明より, $R=u'+u^2+bu+c$ なので, $u$ がRiccati方程式($*'$) $u'+u^2+bu+c=0$ を満たしていることがわかった. $\\QED$"
   ]
  },
  {
   "cell_type": "code",
   "execution_count": 62,
   "metadata": {},
   "outputs": [
    {
     "data": {
      "text/html": [
       "<style>\n",
       "\t\t\t\t\t\t\t\t\t\t\t.grid-container {\n",
       "\t\t\t\t\t\t\t\t\t\t\t\tdisplay: inline-grid;\n",
       "\t\t\t\t\t\t\t\t\t\t\t\tgrid-template-columns: auto auto;\n",
       "\t\t\t\t\t\t\t\t\t\t\t}\n",
       "\t\t\t\t\t\t\t\t\t\t</style>\n",
       "\n",
       "\t\t\t\t\t\t\t\t\t\t<div><div class=\"grid-container\"><div class=\"grid-item\">\n",
       "\t\t\t\t\t\t\t\t\t\t\t\t\t<div class=\"prompt output_prompt\" style=\"text-align:left;padding:0em;padding-right:20px;line-height:20px;\">\n",
       "\t\t\t\t\t\t\t\t\t\t\t\t\t\tOut[64]:\n",
       "\t\t\t\t\t\t\t\t\t\t\t\t\t</div>\n",
       "\t\t\t\t\t\t\t\t\t\t\t\t</div>\n",
       "\t\t\t\t\t\t\t\t\t\t\t\t<div class=\"grid-item\">$$&#92;&#102;&#114;&#97;&#99;&#123;&#102;&#39;&#40;&#120;&#41;&#125;&#123;&#102;&#40;&#120;&#41;&#125;$$</div><div class=\"grid-item\">\n",
       "\t\t\t\t\t\t\t\t\t\t\t\t\t<div class=\"prompt output_prompt\" style=\"text-align:left;padding:0em;padding-right:20px;line-height:20px;\">\n",
       "\t\t\t\t\t\t\t\t\t\t\t\t\t\tOut[66]:\n",
       "\t\t\t\t\t\t\t\t\t\t\t\t\t</div>\n",
       "\t\t\t\t\t\t\t\t\t\t\t\t</div>\n",
       "\t\t\t\t\t\t\t\t\t\t\t\t<div class=\"grid-item\">$$&#92;&#102;&#114;&#97;&#99;&#123;&#98;&#40;&#120;&#41;&#32;&#102;&#39;&#40;&#120;&#41;&#43;&#99;&#40;&#120;&#41;&#32;&#102;&#40;&#120;&#41;&#43;&#102;&#39;&#39;&#40;&#120;&#41;&#125;&#123;&#102;&#40;&#120;&#41;&#125;$$</div></div></div>"
      ]
     },
     "execution_count": 64,
     "metadata": {
      "text/html": []
     },
     "output_type": "execute_result"
    }
   ],
   "source": [
    "Clear[a,b,c,f,g,p,q,u,w,x,alpha,beta,dphi,phi,psi,L,R]\n",
    "u = f'[x]/f[x];\n",
    "u // TeX\n",
    "R = D[u,x]+u^2+b[x] u+c[x];\n",
    "R // Factor // TeX"
   ]
  },
  {
   "cell_type": "markdown",
   "metadata": {},
   "source": [
    "### Riccati方程式の解法\n",
    "\n",
    "#### $a=a(x)=1$ の場合のRiccati方程式の解法\n",
    "\n",
    "Riccati方程式に関する基本定理より, Riccati方程式\n",
    "\n",
    "$$\n",
    "u'+u^2+bu+c=0\n",
    "\\tag{$*'$}\n",
    "$$\n",
    "\n",
    "を解くためには(すなわちすべての解を求めるためには), $\\psi$ に関する線形常微分方程式\n",
    "\n",
    "$$\n",
    "(\\d^2+b\\d+c)\\psi = 0\n",
    "$$\n",
    "\n",
    "の $0$ でない解 $\\psi=f$ に対する $u=f'/f$ を求めればよい.\n",
    "\n",
    "\n",
    "#### 一般の場合のRiccati方程式の解法\n",
    "\n",
    "一般のRiccati方程式 ($*$)\n",
    "\n",
    "$$\n",
    "u'+au^2+bu+c=0\n",
    "\\tag{$*$}\n",
    "$$\n",
    "\n",
    "を解くためには, $v=au$ とおいて, 方程式を\n",
    "\n",
    "$$\n",
    "v' + v^2 + \\left(b - \\frac{a'}{a}\\right)v + ac = 0\n",
    "$$\n",
    "\n",
    "の形に変形し, $\\psi$ に関する線形常微分方程式\n",
    "\n",
    "$$\n",
    "\\left(\\d^2+\\left(b - \\frac{a'}{a}\\right)\\d+ac\\right)\\psi = 0\n",
    "$$\n",
    "\n",
    "の $0$ でない解 $f$ に対して $v=au=f'/f$ から $u$ を求めればよい.  $a$ が定数ならば, $\\psi$ に関する線形常微分方程式\n",
    "\n",
    "$$\n",
    "\\left(\\d^2+b\\d+ac\\right)\\psi = 0\n",
    "$$\n",
    "\n",
    "の $0$ でない解 $f$ に対して $v=au=f'/f$ から $u$ を求めればよい."
   ]
  },
  {
   "cell_type": "code",
   "execution_count": 67,
   "metadata": {},
   "outputs": [
    {
     "data": {
      "text/html": [
       "<style>\n",
       "\t\t\t\t\t\t\t\t\t\t\t.grid-container {\n",
       "\t\t\t\t\t\t\t\t\t\t\t\tdisplay: inline-grid;\n",
       "\t\t\t\t\t\t\t\t\t\t\t\tgrid-template-columns: auto auto;\n",
       "\t\t\t\t\t\t\t\t\t\t\t}\n",
       "\t\t\t\t\t\t\t\t\t\t</style>\n",
       "\n",
       "\t\t\t\t\t\t\t\t\t\t<div><div class=\"grid-container\"><div class=\"grid-item\">\n",
       "\t\t\t\t\t\t\t\t\t\t\t\t\t<div class=\"prompt output_prompt\" style=\"text-align:left;padding:0em;padding-right:20px;line-height:20px;\">\n",
       "\t\t\t\t\t\t\t\t\t\t\t\t\t\tOut[69]:\n",
       "\t\t\t\t\t\t\t\t\t\t\t\t\t</div>\n",
       "\t\t\t\t\t\t\t\t\t\t\t\t</div>\n",
       "\t\t\t\t\t\t\t\t\t\t\t\t<div class=\"grid-item\">$$&#102;$$</div><div class=\"grid-item\">\n",
       "\t\t\t\t\t\t\t\t\t\t\t\t\t<div class=\"prompt output_prompt\" style=\"text-align:left;padding:0em;padding-right:20px;line-height:20px;\">\n",
       "\t\t\t\t\t\t\t\t\t\t\t\t\t\tOut[71]:\n",
       "\t\t\t\t\t\t\t\t\t\t\t\t\t</div>\n",
       "\t\t\t\t\t\t\t\t\t\t\t\t</div>\n",
       "\t\t\t\t\t\t\t\t\t\t\t\t<div class=\"grid-item\">$$&#92;&#102;&#114;&#97;&#99;&#123;&#102;&#39;&#40;&#120;&#41;&#125;&#123;&#97;&#40;&#120;&#41;&#32;&#102;&#40;&#120;&#41;&#125;$$</div><div class=\"grid-item\">\n",
       "\t\t\t\t\t\t\t\t\t\t\t\t\t<div class=\"prompt output_prompt\" style=\"text-align:left;padding:0em;padding-right:20px;line-height:20px;\">\n",
       "\t\t\t\t\t\t\t\t\t\t\t\t\t\tOut[73]:\n",
       "\t\t\t\t\t\t\t\t\t\t\t\t\t</div>\n",
       "\t\t\t\t\t\t\t\t\t\t\t\t</div>\n",
       "\t\t\t\t\t\t\t\t\t\t\t\t<div class=\"grid-item\">$$&#92;&#102;&#114;&#97;&#99;&#123;&#45;&#92;&#102;&#114;&#97;&#99;&#123;&#97;&#39;&#40;&#120;&#41;&#32;&#102;&#39;&#40;&#120;&#41;&#125;&#123;&#97;&#40;&#120;&#41;&#125;&#43;&#97;&#40;&#120;&#41;&#32;&#99;&#40;&#120;&#41;&#32;&#102;&#40;&#120;&#41;&#43;&#98;&#40;&#120;&#41;&#32;&#102;&#39;&#40;&#120;&#41;&#43;&#102;&#39;&#39;&#40;&#120;&#41;&#125;&#123;&#97;&#40;&#120;&#41;&#32;&#102;&#40;&#120;&#41;&#125;$$</div><div class=\"grid-item\">\n",
       "\t\t\t\t\t\t\t\t\t\t\t\t\t<div class=\"prompt output_prompt\" style=\"text-align:left;padding:0em;padding-right:20px;line-height:20px;\">\n",
       "\t\t\t\t\t\t\t\t\t\t\t\t\t\tOut[74]:\n",
       "\t\t\t\t\t\t\t\t\t\t\t\t\t</div>\n",
       "\t\t\t\t\t\t\t\t\t\t\t\t</div>\n",
       "\t\t\t\t\t\t\t\t\t\t\t\t<div class=\"grid-item\">$$&#48;$$</div></div></div>"
      ]
     },
     "execution_count": 69,
     "metadata": {
      "text/html": []
     },
     "output_type": "execute_result"
    }
   ],
   "source": [
    "Clear[a,b,c,f,g,p,q,u,w,x,alpha,beta,dphi,phi,psi,L,R]\n",
    "rulef = f''[x] -> -(b[x]-a'[x]/a[x])f'[x]-a[x]c[x]f[x];\n",
    "f // TeX\n",
    "u = 1/a[x] f'[x]/f[x];\n",
    "u // TeX\n",
    "R = Simplify[(D[u,x] + a[x] u^2 + b[x] u + c[x])a[x]f[x]]/(a[x]f[x]);\n",
    "R // TeX\n",
    "R/.rulef // Simplify // TeX"
   ]
  },
  {
   "cell_type": "markdown",
   "metadata": {},
   "source": [
    "**例:** 簡単に解ける場合\n",
    "\n",
    "* https://reference.wolfram.com/language/tutorial/DSolveRiccatiEquations.html より.\n",
    "\n",
    "$$\n",
    "u' - 3 u^2 + \\frac{2}{x^2} = 0.\n",
    "$$\n",
    "\n",
    "これは $u = (-1/3)\\psi'/\\psi$ とおくことによって, 次の2階の常微分方程式に帰着する:\n",
    "\n",
    "$$\n",
    "\\left(\\d^2 - \\frac{6}{x^2}\\right)\\psi = \\psi'' - \\frac{6}{x^2}\\psi = 0.\n",
    "$$\n",
    "\n",
    "この2階の線形常微分方程式は $x^3$ と $1/x^2$ を解に持つので, 上のRiccati方程式の解は\n",
    "\n",
    "$$\n",
    "\\psi = \\alpha x^3 + \\frac{\\beta}{x^2}\n",
    "$$\n",
    "\n",
    "とおくと, \n",
    "\n",
    "$$\n",
    "u = \\frac{1}{-3}\\frac{\\psi'}{\\psi} =\n",
    "-\\frac{1}{3}\\frac{3\\alpha x^2-2\\beta/x^3}{\\alpha x^3+\\beta/x^2} =\n",
    "-\\frac{1}{3}\\frac{3\\alpha x^5-2\\beta}{\\alpha x^6+\\beta x}\n",
    "$$\n",
    "\n",
    "と書ける."
   ]
  },
  {
   "cell_type": "code",
   "execution_count": 75,
   "metadata": {},
   "outputs": [
    {
     "data": {
      "text/html": [
       "<style>\n",
       "\t\t\t\t\t\t\t\t\t\t\t.grid-container {\n",
       "\t\t\t\t\t\t\t\t\t\t\t\tdisplay: inline-grid;\n",
       "\t\t\t\t\t\t\t\t\t\t\t\tgrid-template-columns: auto auto;\n",
       "\t\t\t\t\t\t\t\t\t\t\t}\n",
       "\t\t\t\t\t\t\t\t\t\t</style>\n",
       "\n",
       "\t\t\t\t\t\t\t\t\t\t<div><div class=\"grid-container\"><div class=\"grid-item\">\n",
       "\t\t\t\t\t\t\t\t\t\t\t\t\t<div class=\"prompt output_prompt\" style=\"text-align:left;padding:0em;padding-right:20px;line-height:20px;\">\n",
       "\t\t\t\t\t\t\t\t\t\t\t\t\t\tOut[77]:\n",
       "\t\t\t\t\t\t\t\t\t\t\t\t\t</div>\n",
       "\t\t\t\t\t\t\t\t\t\t\t\t</div>\n",
       "\t\t\t\t\t\t\t\t\t\t\t\t<div class=\"grid-item\">$$&#117;&#39;&#40;&#120;&#41;&#45;&#51;&#32;&#117;&#40;&#120;&#41;&#94;&#50;&#43;&#92;&#102;&#114;&#97;&#99;&#123;&#50;&#125;&#123;&#120;&#94;&#50;&#125;&#61;&#48;$$</div><div class=\"grid-item\">\n",
       "\t\t\t\t\t\t\t\t\t\t\t\t\t<div class=\"prompt output_prompt\" style=\"text-align:left;padding:0em;padding-right:20px;line-height:20px;\">\n",
       "\t\t\t\t\t\t\t\t\t\t\t\t\t\tOut[79]:\n",
       "\t\t\t\t\t\t\t\t\t\t\t\t\t</div>\n",
       "\t\t\t\t\t\t\t\t\t\t\t\t</div>\n",
       "\t\t\t\t\t\t\t\t\t\t\t\t<div class=\"grid-item\">$$&#45;&#92;&#102;&#114;&#97;&#99;&#123;&#92;&#112;&#115;&#105;&#32;&#39;&#40;&#120;&#41;&#125;&#123;&#51;&#32;&#92;&#112;&#115;&#105;&#32;&#40;&#120;&#41;&#125;$$</div><div class=\"grid-item\">\n",
       "\t\t\t\t\t\t\t\t\t\t\t\t\t<div class=\"prompt output_prompt\" style=\"text-align:left;padding:0em;padding-right:20px;line-height:20px;\">\n",
       "\t\t\t\t\t\t\t\t\t\t\t\t\t\tOut[81]:\n",
       "\t\t\t\t\t\t\t\t\t\t\t\t\t</div>\n",
       "\t\t\t\t\t\t\t\t\t\t\t\t</div>\n",
       "\t\t\t\t\t\t\t\t\t\t\t\t<div class=\"grid-item\">$$&#92;&#112;&#115;&#105;&#32;&#39;&#39;&#40;&#120;&#41;&#45;&#92;&#102;&#114;&#97;&#99;&#123;&#54;&#32;&#92;&#112;&#115;&#105;&#32;&#40;&#120;&#41;&#125;&#123;&#120;&#94;&#50;&#125;&#61;&#48;$$</div></div></div>"
      ]
     },
     "execution_count": 77,
     "metadata": {
      "text/html": []
     },
     "output_type": "execute_result"
    }
   ],
   "source": [
    "Clear[a,b,c,f,g,p,q,u,w,x,alpha,beta,dphi,phi,psi,L,R]\n",
    "R = u'[x] - 3u[x]^2 + 2/x^2;\n",
    "R == 0 // TeX\n",
    "u[x_] := -1/3 psi'[x]/psi[x]\n",
    "u[x] // TeX\n",
    "L = -3psi[x] R // Expand;\n",
    "L == 0 // TeX"
   ]
  },
  {
   "cell_type": "code",
   "execution_count": 82,
   "metadata": {},
   "outputs": [
    {
     "data": {
      "text/html": [
       "<style>\n",
       "\t\t\t\t\t\t\t\t\t\t\t.grid-container {\n",
       "\t\t\t\t\t\t\t\t\t\t\t\tdisplay: inline-grid;\n",
       "\t\t\t\t\t\t\t\t\t\t\t\tgrid-template-columns: auto auto;\n",
       "\t\t\t\t\t\t\t\t\t\t\t}\n",
       "\t\t\t\t\t\t\t\t\t\t</style>\n",
       "\n",
       "\t\t\t\t\t\t\t\t\t\t<div><div class=\"grid-container\"><div class=\"grid-item\">\n",
       "\t\t\t\t\t\t\t\t\t\t\t\t\t<div class=\"prompt output_prompt\" style=\"text-align:left;padding:0em;padding-right:20px;line-height:20px;\">\n",
       "\t\t\t\t\t\t\t\t\t\t\t\t\t\tOut[84]:\n",
       "\t\t\t\t\t\t\t\t\t\t\t\t\t</div>\n",
       "\t\t\t\t\t\t\t\t\t\t\t\t</div>\n",
       "\t\t\t\t\t\t\t\t\t\t\t\t<div class=\"grid-item\">$$&#120;&#94;&#51;$$</div><div class=\"grid-item\">\n",
       "\t\t\t\t\t\t\t\t\t\t\t\t\t<div class=\"prompt output_prompt\" style=\"text-align:left;padding:0em;padding-right:20px;line-height:20px;\">\n",
       "\t\t\t\t\t\t\t\t\t\t\t\t\t\tOut[86]:\n",
       "\t\t\t\t\t\t\t\t\t\t\t\t\t</div>\n",
       "\t\t\t\t\t\t\t\t\t\t\t\t</div>\n",
       "\t\t\t\t\t\t\t\t\t\t\t\t<div class=\"grid-item\">$$&#92;&#102;&#114;&#97;&#99;&#123;&#49;&#125;&#123;&#120;&#94;&#50;&#125;$$</div></div></div>"
      ]
     },
     "execution_count": 84,
     "metadata": {
      "text/html": []
     },
     "output_type": "execute_result"
    }
   ],
   "source": [
    "Clear[a,b,c,f,g,p,q,u,w,x,alpha,beta,dphi,phi,psi,L,R]\n",
    "f = x^3;\n",
    "f // TeX\n",
    "g = 1/x^2;\n",
    "g // TeX"
   ]
  },
  {
   "cell_type": "code",
   "execution_count": 87,
   "metadata": {},
   "outputs": [
    {
     "data": {
      "text/html": [
       "<style>\n",
       "\t\t\t\t\t\t\t\t\t\t\t.grid-container {\n",
       "\t\t\t\t\t\t\t\t\t\t\t\tdisplay: inline-grid;\n",
       "\t\t\t\t\t\t\t\t\t\t\t\tgrid-template-columns: auto auto;\n",
       "\t\t\t\t\t\t\t\t\t\t\t}\n",
       "\t\t\t\t\t\t\t\t\t\t</style>\n",
       "\n",
       "\t\t\t\t\t\t\t\t\t\t<div><div class=\"grid-container\"><div class=\"grid-item\">\n",
       "\t\t\t\t\t\t\t\t\t\t\t\t\t<div class=\"prompt output_prompt\" style=\"text-align:left;padding:0em;padding-right:20px;line-height:20px;\">\n",
       "\t\t\t\t\t\t\t\t\t\t\t\t\t\tOut[89]:\n",
       "\t\t\t\t\t\t\t\t\t\t\t\t\t</div>\n",
       "\t\t\t\t\t\t\t\t\t\t\t\t</div>\n",
       "\t\t\t\t\t\t\t\t\t\t\t\t<div class=\"grid-item\">$$&#92;&#102;&#114;&#97;&#99;&#123;&#92;&#97;&#108;&#112;&#104;&#97;&#32;&#32;&#120;&#94;&#53;&#43;&#92;&#98;&#101;&#116;&#97;&#32;&#125;&#123;&#120;&#94;&#50;&#125;$$</div><div class=\"grid-item\">\n",
       "\t\t\t\t\t\t\t\t\t\t\t\t\t<div class=\"prompt output_prompt\" style=\"text-align:left;padding:0em;padding-right:20px;line-height:20px;\">\n",
       "\t\t\t\t\t\t\t\t\t\t\t\t\t\tOut[90]:\n",
       "\t\t\t\t\t\t\t\t\t\t\t\t\t</div>\n",
       "\t\t\t\t\t\t\t\t\t\t\t\t</div>\n",
       "\t\t\t\t\t\t\t\t\t\t\t\t<div class=\"grid-item\">$$&#48;$$</div></div></div>"
      ]
     },
     "execution_count": 89,
     "metadata": {
      "text/html": []
     },
     "output_type": "execute_result"
    }
   ],
   "source": [
    "L[psi_] := D[psi,x,x] - 6 psi/x^2\n",
    "psi = alpha f + beta g // Simplify;\n",
    "psi // TeX\n",
    "L[psi] // TeX"
   ]
  },
  {
   "cell_type": "code",
   "execution_count": 91,
   "metadata": {},
   "outputs": [
    {
     "data": {
      "text/html": [
       "<style>\n",
       "\t\t\t\t\t\t\t\t\t\t\t.grid-container {\n",
       "\t\t\t\t\t\t\t\t\t\t\t\tdisplay: inline-grid;\n",
       "\t\t\t\t\t\t\t\t\t\t\t\tgrid-template-columns: auto auto;\n",
       "\t\t\t\t\t\t\t\t\t\t\t}\n",
       "\t\t\t\t\t\t\t\t\t\t</style>\n",
       "\n",
       "\t\t\t\t\t\t\t\t\t\t<div><div class=\"grid-container\"><div class=\"grid-item\">\n",
       "\t\t\t\t\t\t\t\t\t\t\t\t\t<div class=\"prompt output_prompt\" style=\"text-align:left;padding:0em;padding-right:20px;line-height:20px;\">\n",
       "\t\t\t\t\t\t\t\t\t\t\t\t\t\tOut[92]:\n",
       "\t\t\t\t\t\t\t\t\t\t\t\t\t</div>\n",
       "\t\t\t\t\t\t\t\t\t\t\t\t</div>\n",
       "\t\t\t\t\t\t\t\t\t\t\t\t<div class=\"grid-item\">$$&#92;&#102;&#114;&#97;&#99;&#123;&#50;&#32;&#92;&#98;&#101;&#116;&#97;&#32;&#45;&#51;&#32;&#92;&#97;&#108;&#112;&#104;&#97;&#32;&#32;&#120;&#94;&#53;&#125;&#123;&#51;&#32;&#92;&#97;&#108;&#112;&#104;&#97;&#32;&#32;&#120;&#94;&#54;&#43;&#51;&#32;&#92;&#98;&#101;&#116;&#97;&#32;&#32;&#120;&#125;$$</div><div class=\"grid-item\">\n",
       "\t\t\t\t\t\t\t\t\t\t\t\t\t<div class=\"prompt output_prompt\" style=\"text-align:left;padding:0em;padding-right:20px;line-height:20px;\">\n",
       "\t\t\t\t\t\t\t\t\t\t\t\t\t\tOut[94]:\n",
       "\t\t\t\t\t\t\t\t\t\t\t\t\t</div>\n",
       "\t\t\t\t\t\t\t\t\t\t\t\t</div>\n",
       "\t\t\t\t\t\t\t\t\t\t\t\t<div class=\"grid-item\">$$&#48;$$</div></div></div>"
      ]
     },
     "execution_count": 92,
     "metadata": {
      "text/html": []
     },
     "output_type": "execute_result"
    }
   ],
   "source": [
    "u = 1/(-3) D[psi,x]/psi // Simplify;\n",
    "u // TeX\n",
    "R = D[u,x] - 3u^2 + 2/x^2 // Simplify;\n",
    "R // TeX"
   ]
  },
  {
   "cell_type": "code",
   "execution_count": 95,
   "metadata": {},
   "outputs": [
    {
     "data": {
      "text/html": [
       "<style>\n",
       "\t\t\t\t\t\t\t\t\t\t\t.grid-container {\n",
       "\t\t\t\t\t\t\t\t\t\t\t\tdisplay: inline-grid;\n",
       "\t\t\t\t\t\t\t\t\t\t\t\tgrid-template-columns: auto auto;\n",
       "\t\t\t\t\t\t\t\t\t\t\t}\n",
       "\t\t\t\t\t\t\t\t\t\t</style>\n",
       "\n",
       "\t\t\t\t\t\t\t\t\t\t<div><div class=\"grid-container\"><div class=\"grid-item\">\n",
       "\t\t\t\t\t\t\t\t\t\t\t\t\t<div class=\"prompt output_prompt\" style=\"text-align:left;padding:0em;padding-right:20px;line-height:20px;\">\n",
       "\t\t\t\t\t\t\t\t\t\t\t\t\t\tOut[97]:\n",
       "\t\t\t\t\t\t\t\t\t\t\t\t\t</div>\n",
       "\t\t\t\t\t\t\t\t\t\t\t\t</div>\n",
       "\t\t\t\t\t\t\t\t\t\t\t\t<div class=\"grid-item\">$$&#117;&#39;&#40;&#120;&#41;&#45;&#51;&#32;&#117;&#40;&#120;&#41;&#94;&#50;&#43;&#92;&#102;&#114;&#97;&#99;&#123;&#50;&#125;&#123;&#120;&#94;&#50;&#125;&#61;&#48;$$</div><div class=\"grid-item\">\n",
       "\t\t\t\t\t\t\t\t\t\t\t\t\t<div class=\"prompt output_prompt\" style=\"text-align:left;padding:0em;padding-right:20px;line-height:20px;\">\n",
       "\t\t\t\t\t\t\t\t\t\t\t\t\t\tOut[98]:\n",
       "\t\t\t\t\t\t\t\t\t\t\t\t\t</div>\n",
       "\t\t\t\t\t\t\t\t\t\t\t\t</div>\n",
       "\t\t\t\t\t\t\t\t\t\t\t\t<div class=\"grid-item\">$$&#92;&#108;&#101;&#102;&#116;&#92;&#123;&#92;&#108;&#101;&#102;&#116;&#92;&#123;&#117;&#40;&#120;&#41;&#92;&#116;&#111;&#32;&#45;&#92;&#102;&#114;&#97;&#99;&#123;&#51;&#32;&#120;&#94;&#53;&#45;&#50;&#32;&#99;&#95;&#49;&#125;&#123;&#51;&#32;&#99;&#95;&#49;&#32;&#120;&#43;&#51;&#32;&#120;&#94;&#54;&#125;&#92;&#114;&#105;&#103;&#104;&#116;&#92;&#125;&#92;&#114;&#105;&#103;&#104;&#116;&#92;&#125;$$</div></div></div>"
      ]
     },
     "execution_count": 97,
     "metadata": {
      "text/html": []
     },
     "output_type": "execute_result"
    }
   ],
   "source": [
    "Clear[a,b,c,f,g,p,q,u,w,x,alpha,beta,dphi,phi,psi,L,R]\n",
    "R = u'[x] - 3 u[x]^2 + 2/x^2;\n",
    "R == 0 // TeX\n",
    "DSolve[R==0, u[x], x] // Simplify // TeX"
   ]
  },
  {
   "cell_type": "markdown",
   "metadata": {},
   "source": [
    "**例:** 帰着する先の2階の線形常微分方程式がLegendre方程式になる場合.\n",
    "\n",
    "* https://reference.wolfram.com/language/tutorial/DSolveRiccatiEquations.html より."
   ]
  },
  {
   "cell_type": "code",
   "execution_count": 99,
   "metadata": {},
   "outputs": [
    {
     "data": {
      "text/html": [
       "<div>$$&#117;&#39;&#40;&#120;&#41;&#43;&#92;&#102;&#114;&#97;&#99;&#123;&#50;&#32;&#120;&#32;&#117;&#40;&#120;&#41;&#125;&#123;&#120;&#94;&#50;&#45;&#49;&#125;&#43;&#117;&#40;&#120;&#41;&#94;&#50;&#43;&#92;&#102;&#114;&#97;&#99;&#123;&#49;&#53;&#125;&#123;&#52;&#32;&#92;&#108;&#101;&#102;&#116;&#40;&#49;&#45;&#120;&#94;&#50;&#92;&#114;&#105;&#103;&#104;&#116;&#41;&#125;&#61;&#48;$$</div>"
      ]
     },
     "execution_count": 101,
     "metadata": {
      "text/html": []
     },
     "output_type": "execute_result"
    }
   ],
   "source": [
    "Clear[a,b,c,f,g,p,q,u,w,x,alpha,beta,dphi,phi,psi,L,R]\n",
    "R = u'[x] + u[x]^2 + (2 x)/(x^2-1) u[x] + (15/4)/(1 - x^2);\n",
    "R == 0 // TeX"
   ]
  },
  {
   "cell_type": "code",
   "execution_count": 102,
   "metadata": {},
   "outputs": [
    {
     "data": {
      "text/html": [
       "<div><img alt=\"Output\" src=\"data:image/png;base64,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\" width=\"802\"></div>"
      ]
     },
     "execution_count": 102,
     "metadata": {
      "text/html": []
     },
     "output_type": "execute_result"
    }
   ],
   "source": [
    "sol = DSolve[R==0, u[x], x] // Simplify"
   ]
  },
  {
   "cell_type": "code",
   "execution_count": 103,
   "metadata": {},
   "outputs": [
    {
     "data": {
      "text/html": [
       "<div>$$&#92;&#102;&#114;&#97;&#99;&#123;&#53;&#32;&#92;&#108;&#101;&#102;&#116;&#40;&#99;&#95;&#49;&#32;&#40;&#45;&#120;&#41;&#32;&#80;&#95;&#123;&#92;&#102;&#114;&#97;&#99;&#123;&#51;&#125;&#123;&#50;&#125;&#125;&#40;&#120;&#41;&#43;&#99;&#95;&#49;&#32;&#80;&#95;&#123;&#92;&#102;&#114;&#97;&#99;&#123;&#53;&#125;&#123;&#50;&#125;&#125;&#40;&#120;&#41;&#45;&#120;&#32;&#81;&#95;&#123;&#92;&#102;&#114;&#97;&#99;&#123;&#51;&#125;&#123;&#50;&#125;&#125;&#40;&#120;&#41;&#43;&#81;&#95;&#123;&#92;&#102;&#114;&#97;&#99;&#123;&#53;&#125;&#123;&#50;&#125;&#125;&#40;&#120;&#41;&#92;&#114;&#105;&#103;&#104;&#116;&#41;&#125;&#123;&#50;&#32;&#92;&#108;&#101;&#102;&#116;&#40;&#120;&#94;&#50;&#45;&#49;&#92;&#114;&#105;&#103;&#104;&#116;&#41;&#32;&#92;&#108;&#101;&#102;&#116;&#40;&#99;&#95;&#49;&#32;&#80;&#95;&#123;&#92;&#102;&#114;&#97;&#99;&#123;&#51;&#125;&#123;&#50;&#125;&#125;&#40;&#120;&#41;&#43;&#81;&#95;&#123;&#92;&#102;&#114;&#97;&#99;&#123;&#51;&#125;&#123;&#50;&#125;&#125;&#40;&#120;&#41;&#92;&#114;&#105;&#103;&#104;&#116;&#41;&#125;$$</div>"
      ]
     },
     "execution_count": 103,
     "metadata": {
      "text/html": []
     },
     "output_type": "execute_result"
    }
   ],
   "source": [
    "u[x]/.sol[[1]][[1]] // TeX"
   ]
  },
  {
   "cell_type": "markdown",
   "metadata": {},
   "source": [
    "#### Riccati方程式の解が1つ分かっている場合\n",
    "\n",
    "$$\n",
    "p=b-\\frac{a'}{a}, \\quad q=ac\n",
    "$$\n",
    "\n",
    "とおき, Riccati方程式\n",
    "\n",
    "$$\n",
    "u' + au^2 + bu + c = 0\n",
    "\\tag{$*$}\n",
    "$$\n",
    "\n",
    "の解 \n",
    "\n",
    "$$\n",
    "u = \\frac{1}{a}\\frac{f'}{f}\n",
    "$$\n",
    "が1つ分かっていると仮定する. ここで $f$ は $\\psi$ に関する線形常微分方程式\n",
    "\n",
    "$$\n",
    "(\\d^2+p\\d+q)\\psi = 0\n",
    "\\tag{$**$}\n",
    "$$\n",
    "\n",
    "の $0$ でない解である.  この線形常微分方程式の $f$ と一次独立な解 $g$ を\n",
    "\n",
    "$$\n",
    "\\begin{aligned}\n",
    "&\n",
    "\\phi = \\int\\frac{1}{f^2}e^{-\\int p\\,dx}\\,dx =\n",
    "\\int\\frac{a}{f^2}e^{-\\int b\\,dx}\\,dx, \n",
    "\\\\ &\n",
    "g = \\phi f = f\\int\\frac{a}{f^2}e^{-\\int b\\,dx}\\,dx\n",
    "\\end{aligned}\n",
    "$$\n",
    "\n",
    "によって構成できる. \n",
    "\n",
    "ゆえに, Riccati方程式 ($*$) のすべての解は, 線形常微分方程式 ($**$) の $0$ でないある解\n",
    "\n",
    "$$\n",
    "\\psi = \\alpha f + \\beta g =\n",
    "f\\cdot\\left(\\alpha + \\beta \\phi \\right) =\n",
    "f\\cdot\\left(\\alpha + \\beta \\int\\frac{a}{f^2}e^{-\\int b\\,dx}\\,dx \\right)\n",
    "$$\n",
    "\n",
    "によって, \n",
    "\n",
    "$$\n",
    "u = \\frac{1}{a}\\frac{\\psi'}{\\psi} = \\frac{1}{a}(\\log\\psi)' =\n",
    "\\frac{1}{a}\\frac{f'}{f} + \n",
    "\\frac{\\beta(1/f^2)e^{-\\int b\\,dx}}{\\alpha + \\beta \\int(a/f^2)e^{-\\int b\\,dx}\\,dx}\n",
    "$$\n",
    "\n",
    "と表わされる."
   ]
  },
  {
   "cell_type": "markdown",
   "metadata": {},
   "source": [
    "コンピューターによる以上の結果の確認."
   ]
  },
  {
   "cell_type": "code",
   "execution_count": 104,
   "metadata": {},
   "outputs": [
    {
     "data": {
      "text/html": [
       "<style>\n",
       "\t\t\t\t\t\t\t\t\t\t\t.grid-container {\n",
       "\t\t\t\t\t\t\t\t\t\t\t\tdisplay: inline-grid;\n",
       "\t\t\t\t\t\t\t\t\t\t\t\tgrid-template-columns: auto auto;\n",
       "\t\t\t\t\t\t\t\t\t\t\t}\n",
       "\t\t\t\t\t\t\t\t\t\t</style>\n",
       "\n",
       "\t\t\t\t\t\t\t\t\t\t<div><div class=\"grid-container\"><div class=\"grid-item\">\n",
       "\t\t\t\t\t\t\t\t\t\t\t\t\t<div class=\"prompt output_prompt\" style=\"text-align:left;padding:0em;padding-right:20px;line-height:20px;\">\n",
       "\t\t\t\t\t\t\t\t\t\t\t\t\t\tOut[106]:\n",
       "\t\t\t\t\t\t\t\t\t\t\t\t\t</div>\n",
       "\t\t\t\t\t\t\t\t\t\t\t\t</div>\n",
       "\t\t\t\t\t\t\t\t\t\t\t\t<div class=\"grid-item\">$$&#98;&#40;&#120;&#41;&#45;&#92;&#102;&#114;&#97;&#99;&#123;&#97;&#39;&#40;&#120;&#41;&#125;&#123;&#97;&#40;&#120;&#41;&#125;$$</div><div class=\"grid-item\">\n",
       "\t\t\t\t\t\t\t\t\t\t\t\t\t<div class=\"prompt output_prompt\" style=\"text-align:left;padding:0em;padding-right:20px;line-height:20px;\">\n",
       "\t\t\t\t\t\t\t\t\t\t\t\t\t\tOut[108]:\n",
       "\t\t\t\t\t\t\t\t\t\t\t\t\t</div>\n",
       "\t\t\t\t\t\t\t\t\t\t\t\t</div>\n",
       "\t\t\t\t\t\t\t\t\t\t\t\t<div class=\"grid-item\">$$&#97;&#40;&#120;&#41;&#32;&#99;&#40;&#120;&#41;$$</div><div class=\"grid-item\">\n",
       "\t\t\t\t\t\t\t\t\t\t\t\t\t<div class=\"prompt output_prompt\" style=\"text-align:left;padding:0em;padding-right:20px;line-height:20px;\">\n",
       "\t\t\t\t\t\t\t\t\t\t\t\t\t\tOut[110]:\n",
       "\t\t\t\t\t\t\t\t\t\t\t\t\t</div>\n",
       "\t\t\t\t\t\t\t\t\t\t\t\t</div>\n",
       "\t\t\t\t\t\t\t\t\t\t\t\t<div class=\"grid-item\">$$&#102;&#39;&#39;&#40;&#120;&#41;&#92;&#116;&#111;&#32;&#45;&#102;&#39;&#40;&#120;&#41;&#32;&#92;&#108;&#101;&#102;&#116;&#40;&#98;&#40;&#120;&#41;&#45;&#92;&#102;&#114;&#97;&#99;&#123;&#97;&#39;&#40;&#120;&#41;&#125;&#123;&#97;&#40;&#120;&#41;&#125;&#92;&#114;&#105;&#103;&#104;&#116;&#41;&#45;&#97;&#40;&#120;&#41;&#32;&#99;&#40;&#120;&#41;&#32;&#102;&#40;&#120;&#41;$$</div></div></div>"
      ]
     },
     "execution_count": 106,
     "metadata": {
      "text/html": []
     },
     "output_type": "execute_result"
    }
   ],
   "source": [
    "Clear[a,b,c,f,g,p,q,u,w,x,alpha,beta,dphi,phi,psi,L,R]\n",
    "p = b[x] - a'[x]/a[x];\n",
    "p // TeX\n",
    "q = a[x]c[x];\n",
    "q // TeX\n",
    "rulef = f''[x] -> -p f'[x] -q f[x];\n",
    "rulef // TeX"
   ]
  },
  {
   "cell_type": "code",
   "execution_count": 111,
   "metadata": {},
   "outputs": [
    {
     "data": {
      "text/html": [
       "<style>\n",
       "\t\t\t\t\t\t\t\t\t\t\t.grid-container {\n",
       "\t\t\t\t\t\t\t\t\t\t\t\tdisplay: inline-grid;\n",
       "\t\t\t\t\t\t\t\t\t\t\t\tgrid-template-columns: auto auto;\n",
       "\t\t\t\t\t\t\t\t\t\t\t}\n",
       "\t\t\t\t\t\t\t\t\t\t</style>\n",
       "\n",
       "\t\t\t\t\t\t\t\t\t\t<div><div class=\"grid-container\"><div class=\"grid-item\">\n",
       "\t\t\t\t\t\t\t\t\t\t\t\t\t<div class=\"prompt output_prompt\" style=\"text-align:left;padding:0em;padding-right:20px;line-height:20px;\">\n",
       "\t\t\t\t\t\t\t\t\t\t\t\t\t\tOut[112]:\n",
       "\t\t\t\t\t\t\t\t\t\t\t\t\t</div>\n",
       "\t\t\t\t\t\t\t\t\t\t\t\t</div>\n",
       "\t\t\t\t\t\t\t\t\t\t\t\t<div class=\"grid-item\">$$&#92;&#102;&#114;&#97;&#99;&#123;&#97;&#40;&#120;&#41;&#32;&#101;&#94;&#123;&#45;&#92;&#105;&#110;&#116;&#32;&#98;&#40;&#120;&#41;&#32;&#92;&#44;&#32;&#100;&#120;&#125;&#125;&#123;&#102;&#40;&#120;&#41;&#94;&#50;&#125;$$</div><div class=\"grid-item\">\n",
       "\t\t\t\t\t\t\t\t\t\t\t\t\t<div class=\"prompt output_prompt\" style=\"text-align:left;padding:0em;padding-right:20px;line-height:20px;\">\n",
       "\t\t\t\t\t\t\t\t\t\t\t\t\t\tOut[114]:\n",
       "\t\t\t\t\t\t\t\t\t\t\t\t\t</div>\n",
       "\t\t\t\t\t\t\t\t\t\t\t\t</div>\n",
       "\t\t\t\t\t\t\t\t\t\t\t\t<div class=\"grid-item\">$$&#92;&#105;&#110;&#116;&#32;&#92;&#102;&#114;&#97;&#99;&#123;&#97;&#40;&#120;&#41;&#32;&#101;&#94;&#123;&#45;&#92;&#105;&#110;&#116;&#32;&#98;&#40;&#120;&#41;&#32;&#92;&#44;&#32;&#100;&#120;&#125;&#125;&#123;&#102;&#40;&#120;&#41;&#94;&#50;&#125;&#32;&#92;&#44;&#32;&#100;&#120;$$</div><div class=\"grid-item\">\n",
       "\t\t\t\t\t\t\t\t\t\t\t\t\t<div class=\"prompt output_prompt\" style=\"text-align:left;padding:0em;padding-right:20px;line-height:20px;\">\n",
       "\t\t\t\t\t\t\t\t\t\t\t\t\t\tOut[116]:\n",
       "\t\t\t\t\t\t\t\t\t\t\t\t\t</div>\n",
       "\t\t\t\t\t\t\t\t\t\t\t\t</div>\n",
       "\t\t\t\t\t\t\t\t\t\t\t\t<div class=\"grid-item\">$$&#102;&#40;&#120;&#41;&#32;&#92;&#105;&#110;&#116;&#32;&#92;&#102;&#114;&#97;&#99;&#123;&#97;&#40;&#120;&#41;&#32;&#101;&#94;&#123;&#45;&#92;&#105;&#110;&#116;&#32;&#98;&#40;&#120;&#41;&#32;&#92;&#44;&#32;&#100;&#120;&#125;&#125;&#123;&#102;&#40;&#120;&#41;&#94;&#50;&#125;&#32;&#92;&#44;&#32;&#100;&#120;$$</div></div></div>"
      ]
     },
     "execution_count": 112,
     "metadata": {
      "text/html": []
     },
     "output_type": "execute_result"
    }
   ],
   "source": [
    "dphi = a[x]/f[x]^2 Exp[-Integrate[b[x], x]];\n",
    "dphi // TeX\n",
    "phi = Integrate[dphi, x];\n",
    "phi // TeX\n",
    "g = f[x] phi;\n",
    "g // TeX"
   ]
  },
  {
   "cell_type": "code",
   "execution_count": 117,
   "metadata": {},
   "outputs": [
    {
     "data": {
      "text/html": [
       "<style>\n",
       "\t\t\t\t\t\t\t\t\t\t\t.grid-container {\n",
       "\t\t\t\t\t\t\t\t\t\t\t\tdisplay: inline-grid;\n",
       "\t\t\t\t\t\t\t\t\t\t\t\tgrid-template-columns: auto auto;\n",
       "\t\t\t\t\t\t\t\t\t\t\t}\n",
       "\t\t\t\t\t\t\t\t\t\t</style>\n",
       "\n",
       "\t\t\t\t\t\t\t\t\t\t<div><div class=\"grid-container\"><div class=\"grid-item\">\n",
       "\t\t\t\t\t\t\t\t\t\t\t\t\t<div class=\"prompt output_prompt\" style=\"text-align:left;padding:0em;padding-right:20px;line-height:20px;\">\n",
       "\t\t\t\t\t\t\t\t\t\t\t\t\t\tOut[118]:\n",
       "\t\t\t\t\t\t\t\t\t\t\t\t\t</div>\n",
       "\t\t\t\t\t\t\t\t\t\t\t\t</div>\n",
       "\t\t\t\t\t\t\t\t\t\t\t\t<div class=\"grid-item\">$$&#92;&#108;&#101;&#102;&#116;&#40;&#92;&#105;&#110;&#116;&#32;&#92;&#102;&#114;&#97;&#99;&#123;&#97;&#40;&#120;&#41;&#32;&#101;&#94;&#123;&#45;&#92;&#105;&#110;&#116;&#32;&#98;&#40;&#120;&#41;&#32;&#92;&#44;&#32;&#100;&#120;&#125;&#125;&#123;&#102;&#40;&#120;&#41;&#94;&#50;&#125;&#32;&#92;&#44;&#32;&#100;&#120;&#92;&#114;&#105;&#103;&#104;&#116;&#41;&#32;&#92;&#108;&#101;&#102;&#116;&#40;&#45;&#92;&#102;&#114;&#97;&#99;&#123;&#97;&#39;&#40;&#120;&#41;&#32;&#102;&#39;&#40;&#120;&#41;&#125;&#123;&#97;&#40;&#120;&#41;&#125;&#43;&#97;&#40;&#120;&#41;&#32;&#99;&#40;&#120;&#41;&#32;&#102;&#40;&#120;&#41;&#43;&#98;&#40;&#120;&#41;&#32;&#102;&#39;&#40;&#120;&#41;&#43;&#102;&#39;&#39;&#40;&#120;&#41;&#92;&#114;&#105;&#103;&#104;&#116;&#41;$$</div><div class=\"grid-item\">\n",
       "\t\t\t\t\t\t\t\t\t\t\t\t\t<div class=\"prompt output_prompt\" style=\"text-align:left;padding:0em;padding-right:20px;line-height:20px;\">\n",
       "\t\t\t\t\t\t\t\t\t\t\t\t\t\tOut[119]:\n",
       "\t\t\t\t\t\t\t\t\t\t\t\t\t</div>\n",
       "\t\t\t\t\t\t\t\t\t\t\t\t</div>\n",
       "\t\t\t\t\t\t\t\t\t\t\t\t<div class=\"grid-item\">$$&#48;$$</div></div></div>"
      ]
     },
     "execution_count": 118,
     "metadata": {
      "text/html": []
     },
     "output_type": "execute_result"
    }
   ],
   "source": [
    "L = Expand[(D[g,x,x] + p D[g,x] + q g)/phi]*phi;\n",
    "L // TeX\n",
    "L/.rulef // Simplify // TeX"
   ]
  },
  {
   "cell_type": "code",
   "execution_count": 120,
   "metadata": {},
   "outputs": [
    {
     "data": {
      "text/html": [
       "<style>\n",
       "\t\t\t\t\t\t\t\t\t\t\t.grid-container {\n",
       "\t\t\t\t\t\t\t\t\t\t\t\tdisplay: inline-grid;\n",
       "\t\t\t\t\t\t\t\t\t\t\t\tgrid-template-columns: auto auto;\n",
       "\t\t\t\t\t\t\t\t\t\t\t}\n",
       "\t\t\t\t\t\t\t\t\t\t</style>\n",
       "\n",
       "\t\t\t\t\t\t\t\t\t\t<div><div class=\"grid-container\"><div class=\"grid-item\">\n",
       "\t\t\t\t\t\t\t\t\t\t\t\t\t<div class=\"prompt output_prompt\" style=\"text-align:left;padding:0em;padding-right:20px;line-height:20px;\">\n",
       "\t\t\t\t\t\t\t\t\t\t\t\t\t\tOut[121]:\n",
       "\t\t\t\t\t\t\t\t\t\t\t\t\t</div>\n",
       "\t\t\t\t\t\t\t\t\t\t\t\t</div>\n",
       "\t\t\t\t\t\t\t\t\t\t\t\t<div class=\"grid-item\">$$&#92;&#102;&#114;&#97;&#99;&#123;&#92;&#98;&#101;&#116;&#97;&#32;&#32;&#101;&#94;&#123;&#45;&#92;&#105;&#110;&#116;&#32;&#98;&#40;&#120;&#41;&#32;&#92;&#44;&#32;&#100;&#120;&#125;&#125;&#123;&#102;&#40;&#120;&#41;&#94;&#50;&#32;&#92;&#108;&#101;&#102;&#116;&#40;&#92;&#98;&#101;&#116;&#97;&#32;&#32;&#92;&#105;&#110;&#116;&#32;&#92;&#102;&#114;&#97;&#99;&#123;&#97;&#40;&#120;&#41;&#32;&#101;&#94;&#123;&#45;&#92;&#105;&#110;&#116;&#32;&#98;&#40;&#120;&#41;&#32;&#92;&#44;&#32;&#100;&#120;&#125;&#125;&#123;&#102;&#40;&#120;&#41;&#94;&#50;&#125;&#32;&#92;&#44;&#32;&#100;&#120;&#43;&#92;&#97;&#108;&#112;&#104;&#97;&#32;&#92;&#114;&#105;&#103;&#104;&#116;&#41;&#125;&#43;&#92;&#102;&#114;&#97;&#99;&#123;&#102;&#39;&#40;&#120;&#41;&#125;&#123;&#97;&#40;&#120;&#41;&#32;&#102;&#40;&#120;&#41;&#125;$$</div><div class=\"grid-item\">\n",
       "\t\t\t\t\t\t\t\t\t\t\t\t\t<div class=\"prompt output_prompt\" style=\"text-align:left;padding:0em;padding-right:20px;line-height:20px;\">\n",
       "\t\t\t\t\t\t\t\t\t\t\t\t\t\tOut[123]:\n",
       "\t\t\t\t\t\t\t\t\t\t\t\t\t</div>\n",
       "\t\t\t\t\t\t\t\t\t\t\t\t</div>\n",
       "\t\t\t\t\t\t\t\t\t\t\t\t<div class=\"grid-item\">$$&#45;&#92;&#102;&#114;&#97;&#99;&#123;&#97;&#39;&#40;&#120;&#41;&#32;&#102;&#39;&#40;&#120;&#41;&#125;&#123;&#97;&#40;&#120;&#41;&#125;&#43;&#97;&#40;&#120;&#41;&#32;&#99;&#40;&#120;&#41;&#32;&#102;&#40;&#120;&#41;&#43;&#98;&#40;&#120;&#41;&#32;&#102;&#39;&#40;&#120;&#41;&#43;&#102;&#39;&#39;&#40;&#120;&#41;$$</div><div class=\"grid-item\">\n",
       "\t\t\t\t\t\t\t\t\t\t\t\t\t<div class=\"prompt output_prompt\" style=\"text-align:left;padding:0em;padding-right:20px;line-height:20px;\">\n",
       "\t\t\t\t\t\t\t\t\t\t\t\t\t\tOut[124]:\n",
       "\t\t\t\t\t\t\t\t\t\t\t\t\t</div>\n",
       "\t\t\t\t\t\t\t\t\t\t\t\t</div>\n",
       "\t\t\t\t\t\t\t\t\t\t\t\t<div class=\"grid-item\">$$&#48;$$</div></div></div>"
      ]
     },
     "execution_count": 121,
     "metadata": {
      "text/html": []
     },
     "output_type": "execute_result"
    }
   ],
   "source": [
    "u = 1/a[x] D[alpha f[x]+beta g,x]/(alpha f[x]+beta g);\n",
    "u // Simplify // Expand // TeX\n",
    "R = Expand[Simplify[D[u,x] + a[x] u^2 + b[x]u + c[x]]a[x]f[x]];\n",
    "R // TeX\n",
    "R /.rulef // Simplify // TeX"
   ]
  },
  {
   "cell_type": "markdown",
   "metadata": {},
   "source": [
    "$a=1$ の易しい場合のコンピューターによる以上の結果の確認. ただし, $b,c$ を $p,q$ と書く."
   ]
  },
  {
   "cell_type": "code",
   "execution_count": 125,
   "metadata": {},
   "outputs": [
    {
     "data": {
      "text/html": [
       "<div>$$&#102;&#39;&#39;&#40;&#120;&#41;&#92;&#116;&#111;&#32;&#45;&#112;&#40;&#120;&#41;&#32;&#102;&#39;&#40;&#120;&#41;&#45;&#102;&#40;&#120;&#41;&#32;&#113;&#40;&#120;&#41;$$</div>"
      ]
     },
     "execution_count": 127,
     "metadata": {
      "text/html": []
     },
     "output_type": "execute_result"
    }
   ],
   "source": [
    "Clear[a,b,c,f,g,p,q,u,w,x,alpha,beta,dphi,phi,psi,L,R]\n",
    "rulef = f''[x] -> -p[x]f'[x]-q[x]f[x];\n",
    "rulef // TeX"
   ]
  },
  {
   "cell_type": "code",
   "execution_count": 128,
   "metadata": {},
   "outputs": [
    {
     "data": {
      "text/html": [
       "<style>\n",
       "\t\t\t\t\t\t\t\t\t\t\t.grid-container {\n",
       "\t\t\t\t\t\t\t\t\t\t\t\tdisplay: inline-grid;\n",
       "\t\t\t\t\t\t\t\t\t\t\t\tgrid-template-columns: auto auto;\n",
       "\t\t\t\t\t\t\t\t\t\t\t}\n",
       "\t\t\t\t\t\t\t\t\t\t</style>\n",
       "\n",
       "\t\t\t\t\t\t\t\t\t\t<div><div class=\"grid-container\"><div class=\"grid-item\">\n",
       "\t\t\t\t\t\t\t\t\t\t\t\t\t<div class=\"prompt output_prompt\" style=\"text-align:left;padding:0em;padding-right:20px;line-height:20px;\">\n",
       "\t\t\t\t\t\t\t\t\t\t\t\t\t\tOut[129]:\n",
       "\t\t\t\t\t\t\t\t\t\t\t\t\t</div>\n",
       "\t\t\t\t\t\t\t\t\t\t\t\t</div>\n",
       "\t\t\t\t\t\t\t\t\t\t\t\t<div class=\"grid-item\">$$&#92;&#102;&#114;&#97;&#99;&#123;&#101;&#94;&#123;&#45;&#92;&#105;&#110;&#116;&#32;&#112;&#40;&#120;&#41;&#32;&#92;&#44;&#32;&#100;&#120;&#125;&#125;&#123;&#102;&#40;&#120;&#41;&#94;&#50;&#125;$$</div><div class=\"grid-item\">\n",
       "\t\t\t\t\t\t\t\t\t\t\t\t\t<div class=\"prompt output_prompt\" style=\"text-align:left;padding:0em;padding-right:20px;line-height:20px;\">\n",
       "\t\t\t\t\t\t\t\t\t\t\t\t\t\tOut[131]:\n",
       "\t\t\t\t\t\t\t\t\t\t\t\t\t</div>\n",
       "\t\t\t\t\t\t\t\t\t\t\t\t</div>\n",
       "\t\t\t\t\t\t\t\t\t\t\t\t<div class=\"grid-item\">$$&#92;&#105;&#110;&#116;&#32;&#92;&#102;&#114;&#97;&#99;&#123;&#101;&#94;&#123;&#45;&#92;&#105;&#110;&#116;&#32;&#112;&#40;&#120;&#41;&#32;&#92;&#44;&#32;&#100;&#120;&#125;&#125;&#123;&#102;&#40;&#120;&#41;&#94;&#50;&#125;&#32;&#92;&#44;&#32;&#100;&#120;$$</div><div class=\"grid-item\">\n",
       "\t\t\t\t\t\t\t\t\t\t\t\t\t<div class=\"prompt output_prompt\" style=\"text-align:left;padding:0em;padding-right:20px;line-height:20px;\">\n",
       "\t\t\t\t\t\t\t\t\t\t\t\t\t\tOut[133]:\n",
       "\t\t\t\t\t\t\t\t\t\t\t\t\t</div>\n",
       "\t\t\t\t\t\t\t\t\t\t\t\t</div>\n",
       "\t\t\t\t\t\t\t\t\t\t\t\t<div class=\"grid-item\">$$&#102;&#40;&#120;&#41;&#32;&#92;&#105;&#110;&#116;&#32;&#92;&#102;&#114;&#97;&#99;&#123;&#101;&#94;&#123;&#45;&#92;&#105;&#110;&#116;&#32;&#112;&#40;&#120;&#41;&#32;&#92;&#44;&#32;&#100;&#120;&#125;&#125;&#123;&#102;&#40;&#120;&#41;&#94;&#50;&#125;&#32;&#92;&#44;&#32;&#100;&#120;$$</div></div></div>"
      ]
     },
     "execution_count": 129,
     "metadata": {
      "text/html": []
     },
     "output_type": "execute_result"
    }
   ],
   "source": [
    "dphi = 1/f[x]^2 Exp[-Integrate[p[x], x]];\n",
    "dphi // TeX\n",
    "phi = Integrate[dphi, x];\n",
    "phi // TeX\n",
    "g = f[x] phi;\n",
    "g // TeX"
   ]
  },
  {
   "cell_type": "code",
   "execution_count": 134,
   "metadata": {},
   "outputs": [
    {
     "data": {
      "text/html": [
       "<style>\n",
       "\t\t\t\t\t\t\t\t\t\t\t.grid-container {\n",
       "\t\t\t\t\t\t\t\t\t\t\t\tdisplay: inline-grid;\n",
       "\t\t\t\t\t\t\t\t\t\t\t\tgrid-template-columns: auto auto;\n",
       "\t\t\t\t\t\t\t\t\t\t\t}\n",
       "\t\t\t\t\t\t\t\t\t\t</style>\n",
       "\n",
       "\t\t\t\t\t\t\t\t\t\t<div><div class=\"grid-container\"><div class=\"grid-item\">\n",
       "\t\t\t\t\t\t\t\t\t\t\t\t\t<div class=\"prompt output_prompt\" style=\"text-align:left;padding:0em;padding-right:20px;line-height:20px;\">\n",
       "\t\t\t\t\t\t\t\t\t\t\t\t\t\tOut[135]:\n",
       "\t\t\t\t\t\t\t\t\t\t\t\t\t</div>\n",
       "\t\t\t\t\t\t\t\t\t\t\t\t</div>\n",
       "\t\t\t\t\t\t\t\t\t\t\t\t<div class=\"grid-item\">$$&#92;&#108;&#101;&#102;&#116;&#40;&#92;&#105;&#110;&#116;&#32;&#92;&#102;&#114;&#97;&#99;&#123;&#101;&#94;&#123;&#45;&#92;&#105;&#110;&#116;&#32;&#112;&#40;&#120;&#41;&#32;&#92;&#44;&#32;&#100;&#120;&#125;&#125;&#123;&#102;&#40;&#120;&#41;&#94;&#50;&#125;&#32;&#92;&#44;&#32;&#100;&#120;&#92;&#114;&#105;&#103;&#104;&#116;&#41;&#32;&#92;&#108;&#101;&#102;&#116;&#40;&#102;&#39;&#39;&#40;&#120;&#41;&#43;&#112;&#40;&#120;&#41;&#32;&#102;&#39;&#40;&#120;&#41;&#43;&#102;&#40;&#120;&#41;&#32;&#113;&#40;&#120;&#41;&#92;&#114;&#105;&#103;&#104;&#116;&#41;$$</div><div class=\"grid-item\">\n",
       "\t\t\t\t\t\t\t\t\t\t\t\t\t<div class=\"prompt output_prompt\" style=\"text-align:left;padding:0em;padding-right:20px;line-height:20px;\">\n",
       "\t\t\t\t\t\t\t\t\t\t\t\t\t\tOut[136]:\n",
       "\t\t\t\t\t\t\t\t\t\t\t\t\t</div>\n",
       "\t\t\t\t\t\t\t\t\t\t\t\t</div>\n",
       "\t\t\t\t\t\t\t\t\t\t\t\t<div class=\"grid-item\">$$&#48;$$</div></div></div>"
      ]
     },
     "execution_count": 135,
     "metadata": {
      "text/html": []
     },
     "output_type": "execute_result"
    }
   ],
   "source": [
    "L = D[g,x,x] + p[x] D[g,x] + q[x] g // Simplify;\n",
    "L // TeX\n",
    "L/.rulef // TeX"
   ]
  },
  {
   "cell_type": "code",
   "execution_count": 137,
   "metadata": {},
   "outputs": [
    {
     "data": {
      "text/html": [
       "<style>\n",
       "\t\t\t\t\t\t\t\t\t\t\t.grid-container {\n",
       "\t\t\t\t\t\t\t\t\t\t\t\tdisplay: inline-grid;\n",
       "\t\t\t\t\t\t\t\t\t\t\t\tgrid-template-columns: auto auto;\n",
       "\t\t\t\t\t\t\t\t\t\t\t}\n",
       "\t\t\t\t\t\t\t\t\t\t</style>\n",
       "\n",
       "\t\t\t\t\t\t\t\t\t\t<div><div class=\"grid-container\"><div class=\"grid-item\">\n",
       "\t\t\t\t\t\t\t\t\t\t\t\t\t<div class=\"prompt output_prompt\" style=\"text-align:left;padding:0em;padding-right:20px;line-height:20px;\">\n",
       "\t\t\t\t\t\t\t\t\t\t\t\t\t\tOut[138]:\n",
       "\t\t\t\t\t\t\t\t\t\t\t\t\t</div>\n",
       "\t\t\t\t\t\t\t\t\t\t\t\t</div>\n",
       "\t\t\t\t\t\t\t\t\t\t\t\t<div class=\"grid-item\">$$&#92;&#102;&#114;&#97;&#99;&#123;&#92;&#98;&#101;&#116;&#97;&#32;&#32;&#101;&#94;&#123;&#45;&#92;&#105;&#110;&#116;&#32;&#112;&#40;&#120;&#41;&#32;&#92;&#44;&#32;&#100;&#120;&#125;&#125;&#123;&#102;&#40;&#120;&#41;&#94;&#50;&#32;&#92;&#108;&#101;&#102;&#116;&#40;&#92;&#97;&#108;&#112;&#104;&#97;&#32;&#43;&#92;&#98;&#101;&#116;&#97;&#32;&#32;&#92;&#105;&#110;&#116;&#32;&#92;&#102;&#114;&#97;&#99;&#123;&#101;&#94;&#123;&#45;&#92;&#105;&#110;&#116;&#32;&#112;&#40;&#120;&#41;&#32;&#92;&#44;&#32;&#100;&#120;&#125;&#125;&#123;&#102;&#40;&#120;&#41;&#94;&#50;&#125;&#32;&#92;&#44;&#32;&#100;&#120;&#92;&#114;&#105;&#103;&#104;&#116;&#41;&#125;&#43;&#92;&#102;&#114;&#97;&#99;&#123;&#102;&#39;&#40;&#120;&#41;&#125;&#123;&#102;&#40;&#120;&#41;&#125;$$</div><div class=\"grid-item\">\n",
       "\t\t\t\t\t\t\t\t\t\t\t\t\t<div class=\"prompt output_prompt\" style=\"text-align:left;padding:0em;padding-right:20px;line-height:20px;\">\n",
       "\t\t\t\t\t\t\t\t\t\t\t\t\t\tOut[140]:\n",
       "\t\t\t\t\t\t\t\t\t\t\t\t\t</div>\n",
       "\t\t\t\t\t\t\t\t\t\t\t\t</div>\n",
       "\t\t\t\t\t\t\t\t\t\t\t\t<div class=\"grid-item\">$$&#92;&#102;&#114;&#97;&#99;&#123;&#102;&#39;&#39;&#40;&#120;&#41;&#43;&#112;&#40;&#120;&#41;&#32;&#102;&#39;&#40;&#120;&#41;&#43;&#102;&#40;&#120;&#41;&#32;&#113;&#40;&#120;&#41;&#125;&#123;&#102;&#40;&#120;&#41;&#125;$$</div><div class=\"grid-item\">\n",
       "\t\t\t\t\t\t\t\t\t\t\t\t\t<div class=\"prompt output_prompt\" style=\"text-align:left;padding:0em;padding-right:20px;line-height:20px;\">\n",
       "\t\t\t\t\t\t\t\t\t\t\t\t\t\tOut[141]:\n",
       "\t\t\t\t\t\t\t\t\t\t\t\t\t</div>\n",
       "\t\t\t\t\t\t\t\t\t\t\t\t</div>\n",
       "\t\t\t\t\t\t\t\t\t\t\t\t<div class=\"grid-item\">$$&#48;$$</div></div></div>"
      ]
     },
     "execution_count": 138,
     "metadata": {
      "text/html": []
     },
     "output_type": "execute_result"
    }
   ],
   "source": [
    "u = D[alpha f[x]+beta g,x]/(alpha f[x]+beta g);\n",
    "u // Simplify // Expand // TeX\n",
    "R = D[u,x] + u^2 + p[x]u + q[x] // Simplify;\n",
    "R // TeX\n",
    "R/.rulef // TeX"
   ]
  },
  {
   "cell_type": "markdown",
   "metadata": {},
   "source": [
    "### Riccati方程式に定数解が存在する場合\n",
    "\n",
    "$$\n",
    "p=b-\\frac{a'}{a}, \\quad q=ac\n",
    "$$\n",
    "\n",
    "とおき, Riccati方程式\n",
    "\n",
    "$$\n",
    "u' + au^2 + bu + c = 0\n",
    "\\tag{$*$}\n",
    "$$\n",
    "\n",
    "が定数解 $\\kappa$ を持つ場合を考える. そのとき, \n",
    "\n",
    "$$\n",
    "\\kappa^2 a + \\kappa b + c = 0, \\quad\n",
    "\\kappa=\\frac{1}{a}\\frac{f'}{f}, \\quad\n",
    "f=e^{\\kappa\\int a\\,dx}\n",
    "$$ \n",
    "\n",
    "でかつ, $f$ は $\\psi$ に関する線形常微分方程式\n",
    "\n",
    "$$\n",
    "(\\d^2+p\\d+q)\\psi = 0\n",
    "\\tag{$**$}\n",
    "$$\n",
    "\n",
    "の $0$ でない解になっている.  そのことは以下のようにして直接的にも確認できる:\n",
    "\n",
    "$$\n",
    "\\begin{aligned}\n",
    "&\n",
    "f' = \\kappa a f,\n",
    "\\\\ &\n",
    "f'' = \\kappa af' + \\kappa a'f = \\kappa^2 a^2 f + \\kappa a'f,\n",
    "\\\\ &\n",
    "\\left(\\d^2+p\\d+q\\right)f =\n",
    "\\kappa^2 a^2 f + \\kappa a'f + \\left(b - \\frac{a'}{a}\\right)\\kappa a f + acf\n",
    "\\\\ & \\phantom{\\left(\\d^2+p\\d+q\\right)f} =\n",
    "(\\kappa^2 a + b\\kappa + c)af = 0.\n",
    "\\end{aligned}\n",
    "$$\n",
    "\n",
    "線形常微分方程式 ($**$) の $f$ と一次独立な解 $g$ を\n",
    "\n",
    "$$\n",
    "\\begin{aligned}\n",
    "&\n",
    "\\phi' = \\frac{1}{f^2}e^{-\\int p\\,dx} = \n",
    "\\frac{a}{f^2}e^{-\\int b\\,dx} =\n",
    "a e^{-\\int(2\\kappa a + b)\\,dx},\n",
    "\\\\ &\n",
    "\\phi = \\int a e^{-\\int(2\\kappa a+b)\\,dx}\\,dx, \n",
    "\\\\ &\n",
    "g = \\phi f = f\\int a e^{-\\int(2\\kappa a+b)\\,dx}\\,dx\n",
    "\\end{aligned}\n",
    "$$\n",
    "\n",
    "によって構成できる.\n",
    "\n",
    "ゆえに, 定数解を持つ場合の Riccati方程式 ($*$) のすべての解は, 線形常微分方程式 ($**$) の $0$ でないある解\n",
    "\n",
    "$$\n",
    "\\psi = \\alpha f + \\beta g =\n",
    "f\\cdot\\left(\\alpha + \\beta \\phi \\right) =\n",
    "f\\cdot\\left(\\alpha + \\beta \\int a e^{-\\int(2\\kappa a+b)\\,dx}\\,dx \\right)\n",
    "$$\n",
    "\n",
    "によって, \n",
    "\n",
    "$$\n",
    "u = \\frac{1}{a}\\frac{\\psi'}{\\psi} = \\frac{1}{a}(\\log\\psi)' =\n",
    "\\kappa + \\frac{\\beta\\phi'/a}{\\alpha+\\beta\\phi}=\n",
    "\\kappa + \n",
    "\\frac{\\beta e^{-\\int(2\\kappa a+b)\\,dx}}\n",
    "{\\alpha + \\beta \\int a e^{-\\int(2\\kappa a+b)\\,dx}\\,dx}\n",
    "$$\n",
    "\n",
    "と表わされる."
   ]
  },
  {
   "cell_type": "code",
   "execution_count": 142,
   "metadata": {},
   "outputs": [
    {
     "data": {
      "text/html": [
       "<div>$$&#99;&#40;&#120;&#41;&#92;&#116;&#111;&#32;&#92;&#107;&#97;&#112;&#112;&#97;&#32;&#94;&#50;&#32;&#40;&#45;&#97;&#40;&#120;&#41;&#41;&#45;&#92;&#107;&#97;&#112;&#112;&#97;&#32;&#32;&#98;&#40;&#120;&#41;$$</div>"
      ]
     },
     "execution_count": 144,
     "metadata": {
      "text/html": []
     },
     "output_type": "execute_result"
    }
   ],
   "source": [
    "Clear[a,b,c,f,g,p,q,u,w,x,alpha,beta,dphi,phi,psi,L,R]\n",
    "rulec = c[x]->-kappa^2 a[x]-kappa b[x];\n",
    "rulec // TeX"
   ]
  },
  {
   "cell_type": "code",
   "execution_count": 145,
   "metadata": {},
   "outputs": [
    {
     "data": {
      "text/html": [
       "<div>$$&#101;&#94;&#123;&#92;&#107;&#97;&#112;&#112;&#97;&#32;&#32;&#92;&#105;&#110;&#116;&#32;&#97;&#40;&#120;&#41;&#32;&#92;&#44;&#32;&#100;&#120;&#125;$$</div>"
      ]
     },
     "execution_count": 146,
     "metadata": {
      "text/html": []
     },
     "output_type": "execute_result"
    }
   ],
   "source": [
    "f[x_] := Exp[Integrate[kappa a[x], x]]\n",
    "f[x] // TeX"
   ]
  },
  {
   "cell_type": "code",
   "execution_count": 147,
   "metadata": {},
   "outputs": [
    {
     "data": {
      "text/html": [
       "<div>$$&#97;&#40;&#120;&#41;&#32;&#101;&#94;&#123;&#45;&#50;&#32;&#92;&#107;&#97;&#112;&#112;&#97;&#32;&#32;&#92;&#105;&#110;&#116;&#32;&#97;&#40;&#120;&#41;&#32;&#92;&#44;&#32;&#100;&#120;&#45;&#92;&#105;&#110;&#116;&#32;&#98;&#40;&#120;&#41;&#32;&#92;&#44;&#32;&#100;&#120;&#125;$$</div>"
      ]
     },
     "execution_count": 148,
     "metadata": {
      "text/html": []
     },
     "output_type": "execute_result"
    }
   ],
   "source": [
    "dphi = a[x]/f[x]^2 Exp[-Integrate[b[x], x]];\n",
    "dphi // TeX"
   ]
  },
  {
   "cell_type": "code",
   "execution_count": 149,
   "metadata": {},
   "outputs": [
    {
     "data": {
      "text/html": [
       "<div>$$&#92;&#105;&#110;&#116;&#32;&#97;&#40;&#120;&#41;&#32;&#101;&#94;&#123;&#45;&#50;&#32;&#92;&#107;&#97;&#112;&#112;&#97;&#32;&#32;&#92;&#105;&#110;&#116;&#32;&#97;&#40;&#120;&#41;&#32;&#92;&#44;&#32;&#100;&#120;&#45;&#92;&#105;&#110;&#116;&#32;&#98;&#40;&#120;&#41;&#32;&#92;&#44;&#32;&#100;&#120;&#125;&#32;&#92;&#44;&#32;&#100;&#120;$$</div>"
      ]
     },
     "execution_count": 150,
     "metadata": {
      "text/html": []
     },
     "output_type": "execute_result"
    }
   ],
   "source": [
    "phi = Integrate[dphi, x];\n",
    "phi // TeX"
   ]
  },
  {
   "cell_type": "code",
   "execution_count": 151,
   "metadata": {},
   "outputs": [
    {
     "data": {
      "text/html": [
       "<div>$$&#101;&#94;&#123;&#92;&#107;&#97;&#112;&#112;&#97;&#32;&#32;&#92;&#105;&#110;&#116;&#32;&#97;&#40;&#120;&#41;&#32;&#92;&#44;&#32;&#100;&#120;&#125;&#32;&#92;&#105;&#110;&#116;&#32;&#97;&#40;&#120;&#41;&#32;&#101;&#94;&#123;&#45;&#50;&#32;&#92;&#107;&#97;&#112;&#112;&#97;&#32;&#32;&#92;&#105;&#110;&#116;&#32;&#97;&#40;&#120;&#41;&#32;&#92;&#44;&#32;&#100;&#120;&#45;&#92;&#105;&#110;&#116;&#32;&#98;&#40;&#120;&#41;&#32;&#92;&#44;&#32;&#100;&#120;&#125;&#32;&#92;&#44;&#32;&#100;&#120;$$</div>"
      ]
     },
     "execution_count": 152,
     "metadata": {
      "text/html": []
     },
     "output_type": "execute_result"
    }
   ],
   "source": [
    "g = phi f[x];\n",
    "g // TeX"
   ]
  },
  {
   "cell_type": "code",
   "execution_count": 153,
   "metadata": {},
   "outputs": [
    {
     "data": {
      "text/html": [
       "<style>\n",
       "\t\t\t\t\t\t\t\t\t\t\t.grid-container {\n",
       "\t\t\t\t\t\t\t\t\t\t\t\tdisplay: inline-grid;\n",
       "\t\t\t\t\t\t\t\t\t\t\t\tgrid-template-columns: auto auto;\n",
       "\t\t\t\t\t\t\t\t\t\t\t}\n",
       "\t\t\t\t\t\t\t\t\t\t</style>\n",
       "\n",
       "\t\t\t\t\t\t\t\t\t\t<div><div class=\"grid-container\"><div class=\"grid-item\">\n",
       "\t\t\t\t\t\t\t\t\t\t\t\t\t<div class=\"prompt output_prompt\" style=\"text-align:left;padding:0em;padding-right:20px;line-height:20px;\">\n",
       "\t\t\t\t\t\t\t\t\t\t\t\t\t\tOut[154]:\n",
       "\t\t\t\t\t\t\t\t\t\t\t\t\t</div>\n",
       "\t\t\t\t\t\t\t\t\t\t\t\t</div>\n",
       "\t\t\t\t\t\t\t\t\t\t\t\t<div class=\"grid-item\">$$&#98;&#40;&#120;&#41;&#45;&#92;&#102;&#114;&#97;&#99;&#123;&#97;&#39;&#40;&#120;&#41;&#125;&#123;&#97;&#40;&#120;&#41;&#125;$$</div><div class=\"grid-item\">\n",
       "\t\t\t\t\t\t\t\t\t\t\t\t\t<div class=\"prompt output_prompt\" style=\"text-align:left;padding:0em;padding-right:20px;line-height:20px;\">\n",
       "\t\t\t\t\t\t\t\t\t\t\t\t\t\tOut[156]:\n",
       "\t\t\t\t\t\t\t\t\t\t\t\t\t</div>\n",
       "\t\t\t\t\t\t\t\t\t\t\t\t</div>\n",
       "\t\t\t\t\t\t\t\t\t\t\t\t<div class=\"grid-item\">$$&#97;&#40;&#120;&#41;&#32;&#99;&#40;&#120;&#41;$$</div><div class=\"grid-item\">\n",
       "\t\t\t\t\t\t\t\t\t\t\t\t\t<div class=\"prompt output_prompt\" style=\"text-align:left;padding:0em;padding-right:20px;line-height:20px;\">\n",
       "\t\t\t\t\t\t\t\t\t\t\t\t\t\tOut[158]:\n",
       "\t\t\t\t\t\t\t\t\t\t\t\t\t</div>\n",
       "\t\t\t\t\t\t\t\t\t\t\t\t</div>\n",
       "\t\t\t\t\t\t\t\t\t\t\t\t<div class=\"grid-item\">$$&#97;&#40;&#120;&#41;&#32;&#92;&#108;&#101;&#102;&#116;&#40;&#92;&#107;&#97;&#112;&#112;&#97;&#32;&#94;&#50;&#32;&#97;&#40;&#120;&#41;&#43;&#92;&#107;&#97;&#112;&#112;&#97;&#32;&#32;&#98;&#40;&#120;&#41;&#43;&#99;&#40;&#120;&#41;&#92;&#114;&#105;&#103;&#104;&#116;&#41;&#32;&#101;&#94;&#123;&#92;&#107;&#97;&#112;&#112;&#97;&#32;&#32;&#92;&#105;&#110;&#116;&#32;&#97;&#40;&#120;&#41;&#32;&#92;&#44;&#32;&#100;&#120;&#125;&#32;&#92;&#105;&#110;&#116;&#32;&#97;&#40;&#120;&#41;&#32;&#101;&#94;&#123;&#45;&#50;&#32;&#92;&#107;&#97;&#112;&#112;&#97;&#32;&#32;&#92;&#105;&#110;&#116;&#32;&#97;&#40;&#120;&#41;&#32;&#92;&#44;&#32;&#100;&#120;&#45;&#92;&#105;&#110;&#116;&#32;&#98;&#40;&#120;&#41;&#32;&#92;&#44;&#32;&#100;&#120;&#125;&#32;&#92;&#44;&#32;&#100;&#120;$$</div><div class=\"grid-item\">\n",
       "\t\t\t\t\t\t\t\t\t\t\t\t\t<div class=\"prompt output_prompt\" style=\"text-align:left;padding:0em;padding-right:20px;line-height:20px;\">\n",
       "\t\t\t\t\t\t\t\t\t\t\t\t\t\tOut[159]:\n",
       "\t\t\t\t\t\t\t\t\t\t\t\t\t</div>\n",
       "\t\t\t\t\t\t\t\t\t\t\t\t</div>\n",
       "\t\t\t\t\t\t\t\t\t\t\t\t<div class=\"grid-item\">$$&#48;$$</div></div></div>"
      ]
     },
     "execution_count": 154,
     "metadata": {
      "text/html": []
     },
     "output_type": "execute_result"
    }
   ],
   "source": [
    "p = b[x] - a'[x]/a[x];\n",
    "p // TeX\n",
    "q = a[x]c[x];\n",
    "q // TeX\n",
    "L = D[g,x,x] + p D[g,x] + q g // Simplify;\n",
    "L // TeX\n",
    "L/.rulec // Simplify //TeX"
   ]
  },
  {
   "cell_type": "code",
   "execution_count": 160,
   "metadata": {},
   "outputs": [
    {
     "data": {
      "text/html": [
       "<style>\n",
       "\t\t\t\t\t\t\t\t\t\t\t.grid-container {\n",
       "\t\t\t\t\t\t\t\t\t\t\t\tdisplay: inline-grid;\n",
       "\t\t\t\t\t\t\t\t\t\t\t\tgrid-template-columns: auto auto;\n",
       "\t\t\t\t\t\t\t\t\t\t\t}\n",
       "\t\t\t\t\t\t\t\t\t\t</style>\n",
       "\n",
       "\t\t\t\t\t\t\t\t\t\t<div><div class=\"grid-container\"><div class=\"grid-item\">\n",
       "\t\t\t\t\t\t\t\t\t\t\t\t\t<div class=\"prompt output_prompt\" style=\"text-align:left;padding:0em;padding-right:20px;line-height:20px;\">\n",
       "\t\t\t\t\t\t\t\t\t\t\t\t\t\tOut[161]:\n",
       "\t\t\t\t\t\t\t\t\t\t\t\t\t</div>\n",
       "\t\t\t\t\t\t\t\t\t\t\t\t</div>\n",
       "\t\t\t\t\t\t\t\t\t\t\t\t<div class=\"grid-item\">$$&#92;&#102;&#114;&#97;&#99;&#123;&#92;&#98;&#101;&#116;&#97;&#32;&#32;&#101;&#94;&#123;&#45;&#50;&#32;&#92;&#107;&#97;&#112;&#112;&#97;&#32;&#32;&#92;&#105;&#110;&#116;&#32;&#97;&#40;&#120;&#41;&#32;&#92;&#44;&#32;&#100;&#120;&#45;&#92;&#105;&#110;&#116;&#32;&#98;&#40;&#120;&#41;&#32;&#92;&#44;&#32;&#100;&#120;&#125;&#125;&#123;&#92;&#98;&#101;&#116;&#97;&#32;&#32;&#92;&#105;&#110;&#116;&#32;&#97;&#40;&#120;&#41;&#32;&#101;&#94;&#123;&#45;&#50;&#32;&#92;&#107;&#97;&#112;&#112;&#97;&#32;&#32;&#92;&#105;&#110;&#116;&#32;&#97;&#40;&#120;&#41;&#32;&#92;&#44;&#32;&#100;&#120;&#45;&#92;&#105;&#110;&#116;&#32;&#98;&#40;&#120;&#41;&#32;&#92;&#44;&#32;&#100;&#120;&#125;&#32;&#92;&#44;&#32;&#100;&#120;&#43;&#92;&#97;&#108;&#112;&#104;&#97;&#32;&#125;&#43;&#92;&#107;&#97;&#112;&#112;&#97;$$</div><div class=\"grid-item\">\n",
       "\t\t\t\t\t\t\t\t\t\t\t\t\t<div class=\"prompt output_prompt\" style=\"text-align:left;padding:0em;padding-right:20px;line-height:20px;\">\n",
       "\t\t\t\t\t\t\t\t\t\t\t\t\t\tOut[163]:\n",
       "\t\t\t\t\t\t\t\t\t\t\t\t\t</div>\n",
       "\t\t\t\t\t\t\t\t\t\t\t\t</div>\n",
       "\t\t\t\t\t\t\t\t\t\t\t\t<div class=\"grid-item\">$$&#92;&#107;&#97;&#112;&#112;&#97;&#32;&#94;&#50;&#32;&#97;&#40;&#120;&#41;&#43;&#92;&#107;&#97;&#112;&#112;&#97;&#32;&#32;&#98;&#40;&#120;&#41;&#43;&#99;&#40;&#120;&#41;$$</div><div class=\"grid-item\">\n",
       "\t\t\t\t\t\t\t\t\t\t\t\t\t<div class=\"prompt output_prompt\" style=\"text-align:left;padding:0em;padding-right:20px;line-height:20px;\">\n",
       "\t\t\t\t\t\t\t\t\t\t\t\t\t\tOut[164]:\n",
       "\t\t\t\t\t\t\t\t\t\t\t\t\t</div>\n",
       "\t\t\t\t\t\t\t\t\t\t\t\t</div>\n",
       "\t\t\t\t\t\t\t\t\t\t\t\t<div class=\"grid-item\">$$&#48;$$</div></div></div>"
      ]
     },
     "execution_count": 161,
     "metadata": {
      "text/html": []
     },
     "output_type": "execute_result"
    }
   ],
   "source": [
    "u = 1/a[x] D[alpha f[x]+ beta g,x]/(alpha f[x]+beta g);\n",
    "u // Simplify // Collect[#, kappa]& // TeX\n",
    "R = D[u,x] + a[x] u^2 + b[x] u + c[x] // Simplify;\n",
    "R // TeX\n",
    "R/.rulec // Simplify // TeX"
   ]
  },
  {
   "cell_type": "markdown",
   "metadata": {},
   "source": [
    "**例:** $a(x)=x+1$, $b(x)=-1$, $c(x)=-x$ の場合の次のRiccati方程式を考える:\n",
    "\n",
    "$$\n",
    "u'+(x+1) u^2-u-x = 0.\n",
    "$$\n",
    "\n",
    "これは $\\kappa=1$ を解に持つ. $\\kappa=1=f'/((x+1)f)$ を満たす $f$ として\n",
    "\n",
    "$$\n",
    "f = e^{(x+1)^2/2}\n",
    "$$\n",
    "\n",
    "が取れ, $p=b-a'/a=-1-1/(x+1)=-(x+2)/(x+1)$, $q=ac=-x(x+1)$ なので, $f$ は $\\psi$ に関する線形常微分方程式\n",
    "\n",
    "$$\n",
    "\\left(\\d^2 - \\frac{x+2}{x+1}\\d - x(x+1)\\right)\\psi = 0\n",
    "$$\n",
    "\n",
    "の解であり, $f$ と一次独立なもう1つの解は, $a\\kappa a+b=2a+b=2x+1$, $\\int(2x+1)\\,dx=(x+1/2)^2$, x+1=(2x+1)/2+1/2 なので\n",
    "\n",
    "$$\n",
    "\\begin{aligned}\n",
    "\\phi' &= a e^{-\\int(2\\kappa a+b)\\,dx} = (x+1) e^{-(x+1/2)^2},\n",
    "\\\\\n",
    "\\phi &= \\int (x+1) e^{-(x+1/2)^2}\\,dx =\n",
    "\\frac{1}{2}\\left(-e^{-(x+1/2)^2} + \\int e^{-(x+1/2)^2}\\,dx\\right)\n",
    "\\\\\n",
    "g &= f \\phi\n",
    "e^{\\int\\kappa a\\,dx} \\int a e^{-\\int(2\\kappa a+b)\\,dx}\\,dx\n",
    "\\\\ &=\n",
    "e^{(x+1)^2/2} \\int (x+1) e^{-(x+1/2)^2}\\,dx\n",
    "\\\\ &=\n",
    "e^{(x+1)^2/2}\\frac{1}{2}\\left(-e^{-(x+1/2)^2} + \\int e^{-(x+1/2)^2}\\,dx\\right)\n",
    "\\end{aligned}\n",
    "$$\n",
    "\n",
    "と取れる. ゆえにRiccati方程式の解は\n",
    "\n",
    "$$\n",
    "u = 1 + \\frac\n",
    "{\\beta e^{-(x+1/2)^2}}\n",
    "{\\alpha + \\beta\\frac{1}{2}\\left(-e^{-(x+1/2)^2} + \\int e^{-(x+1/2)^2}\\,dx\\right)}\n",
    "$$\n",
    "\n",
    "と書ける."
   ]
  },
  {
   "cell_type": "markdown",
   "metadata": {},
   "source": [
    "以下はコンピューターによる上の例の確認"
   ]
  },
  {
   "cell_type": "code",
   "execution_count": 165,
   "metadata": {},
   "outputs": [
    {
     "data": {
      "text/html": [
       "<style>\n",
       "\t\t\t\t\t\t\t\t\t\t\t.grid-container {\n",
       "\t\t\t\t\t\t\t\t\t\t\t\tdisplay: inline-grid;\n",
       "\t\t\t\t\t\t\t\t\t\t\t\tgrid-template-columns: auto auto;\n",
       "\t\t\t\t\t\t\t\t\t\t\t}\n",
       "\t\t\t\t\t\t\t\t\t\t</style>\n",
       "\n",
       "\t\t\t\t\t\t\t\t\t\t<div><div class=\"grid-container\"><div class=\"grid-item\">\n",
       "\t\t\t\t\t\t\t\t\t\t\t\t\t<div class=\"prompt output_prompt\" style=\"text-align:left;padding:0em;padding-right:20px;line-height:20px;\">\n",
       "\t\t\t\t\t\t\t\t\t\t\t\t\t\tOut[167]:\n",
       "\t\t\t\t\t\t\t\t\t\t\t\t\t</div>\n",
       "\t\t\t\t\t\t\t\t\t\t\t\t</div>\n",
       "\t\t\t\t\t\t\t\t\t\t\t\t<div class=\"grid-item\">$$&#101;&#94;&#123;&#45;&#92;&#108;&#101;&#102;&#116;&#40;&#120;&#43;&#92;&#102;&#114;&#97;&#99;&#123;&#49;&#125;&#123;&#50;&#125;&#92;&#114;&#105;&#103;&#104;&#116;&#41;&#94;&#50;&#125;&#32;&#40;&#120;&#43;&#49;&#41;$$</div><div class=\"grid-item\">\n",
       "\t\t\t\t\t\t\t\t\t\t\t\t\t<div class=\"prompt output_prompt\" style=\"text-align:left;padding:0em;padding-right:20px;line-height:20px;\">\n",
       "\t\t\t\t\t\t\t\t\t\t\t\t\t\tOut[169]:\n",
       "\t\t\t\t\t\t\t\t\t\t\t\t\t</div>\n",
       "\t\t\t\t\t\t\t\t\t\t\t\t</div>\n",
       "\t\t\t\t\t\t\t\t\t\t\t\t<div class=\"grid-item\">$$&#92;&#102;&#114;&#97;&#99;&#123;&#49;&#125;&#123;&#50;&#125;&#32;&#92;&#108;&#101;&#102;&#116;&#40;&#92;&#102;&#114;&#97;&#99;&#123;&#49;&#125;&#123;&#50;&#125;&#32;&#92;&#115;&#113;&#114;&#116;&#123;&#92;&#112;&#105;&#32;&#125;&#32;&#92;&#116;&#101;&#120;&#116;&#123;&#101;&#114;&#102;&#125;&#92;&#108;&#101;&#102;&#116;&#40;&#120;&#43;&#92;&#102;&#114;&#97;&#99;&#123;&#49;&#125;&#123;&#50;&#125;&#92;&#114;&#105;&#103;&#104;&#116;&#41;&#45;&#101;&#94;&#123;&#45;&#92;&#108;&#101;&#102;&#116;&#40;&#120;&#43;&#92;&#102;&#114;&#97;&#99;&#123;&#49;&#125;&#123;&#50;&#125;&#92;&#114;&#105;&#103;&#104;&#116;&#41;&#94;&#50;&#125;&#92;&#114;&#105;&#103;&#104;&#116;&#41;$$</div><div class=\"grid-item\">\n",
       "\t\t\t\t\t\t\t\t\t\t\t\t\t<div class=\"prompt output_prompt\" style=\"text-align:left;padding:0em;padding-right:20px;line-height:20px;\">\n",
       "\t\t\t\t\t\t\t\t\t\t\t\t\t\tOut[170]:\n",
       "\t\t\t\t\t\t\t\t\t\t\t\t\t</div>\n",
       "\t\t\t\t\t\t\t\t\t\t\t\t</div>\n",
       "\t\t\t\t\t\t\t\t\t\t\t\t<div class=\"grid-item\">$$&#48;$$</div></div></div>"
      ]
     },
     "execution_count": 167,
     "metadata": {
      "text/html": []
     },
     "output_type": "execute_result"
    }
   ],
   "source": [
    "Clear[a,b,c,f,g,p,q,u,w,x,alpha,beta,dphi,phi,psi,L,R]\n",
    "dphi = (x+1)Exp[-(x+1/2)^2];\n",
    "dphi // TeX\n",
    "phi = (1/2)(-Exp[-(x+1/2)^2] + Integrate[Exp[-(x+1/2)^2], x]);\n",
    "phi // TeX\n",
    "D[phi,x] - dphi // Simplify // TeX"
   ]
  },
  {
   "cell_type": "code",
   "execution_count": 171,
   "metadata": {},
   "outputs": [
    {
     "data": {
      "text/html": [
       "<style>\n",
       "\t\t\t\t\t\t\t\t\t\t\t.grid-container {\n",
       "\t\t\t\t\t\t\t\t\t\t\t\tdisplay: inline-grid;\n",
       "\t\t\t\t\t\t\t\t\t\t\t\tgrid-template-columns: auto auto;\n",
       "\t\t\t\t\t\t\t\t\t\t\t}\n",
       "\t\t\t\t\t\t\t\t\t\t</style>\n",
       "\n",
       "\t\t\t\t\t\t\t\t\t\t<div><div class=\"grid-container\"><div class=\"grid-item\">\n",
       "\t\t\t\t\t\t\t\t\t\t\t\t\t<div class=\"prompt output_prompt\" style=\"text-align:left;padding:0em;padding-right:20px;line-height:20px;\">\n",
       "\t\t\t\t\t\t\t\t\t\t\t\t\t\tOut[171]:\n",
       "\t\t\t\t\t\t\t\t\t\t\t\t\t</div>\n",
       "\t\t\t\t\t\t\t\t\t\t\t\t</div>\n",
       "\t\t\t\t\t\t\t\t\t\t\t\t<div class=\"grid-item\">$$&#92;&#102;&#114;&#97;&#99;&#123;&#50;&#32;&#101;&#94;&#123;&#45;&#120;&#94;&#50;&#125;&#125;&#123;&#92;&#115;&#113;&#114;&#116;&#123;&#92;&#112;&#105;&#32;&#125;&#125;$$</div><div class=\"grid-item\">\n",
       "\t\t\t\t\t\t\t\t\t\t\t\t\t<div class=\"prompt output_prompt\" style=\"text-align:left;padding:0em;padding-right:20px;line-height:20px;\">\n",
       "\t\t\t\t\t\t\t\t\t\t\t\t\t\tOut[172]:\n",
       "\t\t\t\t\t\t\t\t\t\t\t\t\t</div>\n",
       "\t\t\t\t\t\t\t\t\t\t\t\t</div>\n",
       "\t\t\t\t\t\t\t\t\t\t\t\t<div class=\"grid-item\">$$&#101;&#94;&#123;&#45;&#92;&#108;&#101;&#102;&#116;&#40;&#120;&#43;&#92;&#102;&#114;&#97;&#99;&#123;&#49;&#125;&#123;&#50;&#125;&#92;&#114;&#105;&#103;&#104;&#116;&#41;&#94;&#50;&#125;$$</div></div></div>"
      ]
     },
     "execution_count": 171,
     "metadata": {
      "text/html": []
     },
     "output_type": "execute_result"
    }
   ],
   "source": [
    "D[Erf[x],x] // TeX\n",
    "D[Sqrt[Pi]/2 Erf[x+1/2], x] // TeX"
   ]
  },
  {
   "cell_type": "code",
   "execution_count": 173,
   "metadata": {},
   "outputs": [
    {
     "data": {
      "text/html": [
       "<style>\n",
       "\t\t\t\t\t\t\t\t\t\t\t.grid-container {\n",
       "\t\t\t\t\t\t\t\t\t\t\t\tdisplay: inline-grid;\n",
       "\t\t\t\t\t\t\t\t\t\t\t\tgrid-template-columns: auto auto;\n",
       "\t\t\t\t\t\t\t\t\t\t\t}\n",
       "\t\t\t\t\t\t\t\t\t\t</style>\n",
       "\n",
       "\t\t\t\t\t\t\t\t\t\t<div><div class=\"grid-container\"><div class=\"grid-item\">\n",
       "\t\t\t\t\t\t\t\t\t\t\t\t\t<div class=\"prompt output_prompt\" style=\"text-align:left;padding:0em;padding-right:20px;line-height:20px;\">\n",
       "\t\t\t\t\t\t\t\t\t\t\t\t\t\tOut[174]:\n",
       "\t\t\t\t\t\t\t\t\t\t\t\t\t</div>\n",
       "\t\t\t\t\t\t\t\t\t\t\t\t</div>\n",
       "\t\t\t\t\t\t\t\t\t\t\t\t<div class=\"grid-item\">$$&#101;&#94;&#123;&#92;&#102;&#114;&#97;&#99;&#123;&#49;&#125;&#123;&#50;&#125;&#32;&#40;&#120;&#43;&#49;&#41;&#94;&#50;&#125;$$</div><div class=\"grid-item\">\n",
       "\t\t\t\t\t\t\t\t\t\t\t\t\t<div class=\"prompt output_prompt\" style=\"text-align:left;padding:0em;padding-right:20px;line-height:20px;\">\n",
       "\t\t\t\t\t\t\t\t\t\t\t\t\t\tOut[175]:\n",
       "\t\t\t\t\t\t\t\t\t\t\t\t\t</div>\n",
       "\t\t\t\t\t\t\t\t\t\t\t\t</div>\n",
       "\t\t\t\t\t\t\t\t\t\t\t\t<div class=\"grid-item\">$$&#48;$$</div><div class=\"grid-item\">\n",
       "\t\t\t\t\t\t\t\t\t\t\t\t\t<div class=\"prompt output_prompt\" style=\"text-align:left;padding:0em;padding-right:20px;line-height:20px;\">\n",
       "\t\t\t\t\t\t\t\t\t\t\t\t\t\tOut[178]:\n",
       "\t\t\t\t\t\t\t\t\t\t\t\t\t</div>\n",
       "\t\t\t\t\t\t\t\t\t\t\t\t</div>\n",
       "\t\t\t\t\t\t\t\t\t\t\t\t<div class=\"grid-item\">$$&#92;&#102;&#114;&#97;&#99;&#123;&#49;&#125;&#123;&#50;&#125;&#32;&#101;&#94;&#123;&#92;&#102;&#114;&#97;&#99;&#123;&#49;&#125;&#123;&#50;&#125;&#32;&#40;&#120;&#43;&#49;&#41;&#94;&#50;&#125;&#32;&#92;&#108;&#101;&#102;&#116;&#40;&#92;&#102;&#114;&#97;&#99;&#123;&#49;&#125;&#123;&#50;&#125;&#32;&#92;&#115;&#113;&#114;&#116;&#123;&#92;&#112;&#105;&#32;&#125;&#32;&#92;&#116;&#101;&#120;&#116;&#123;&#101;&#114;&#102;&#125;&#92;&#108;&#101;&#102;&#116;&#40;&#120;&#43;&#92;&#102;&#114;&#97;&#99;&#123;&#49;&#125;&#123;&#50;&#125;&#92;&#114;&#105;&#103;&#104;&#116;&#41;&#45;&#101;&#94;&#123;&#45;&#92;&#108;&#101;&#102;&#116;&#40;&#120;&#43;&#92;&#102;&#114;&#97;&#99;&#123;&#49;&#125;&#123;&#50;&#125;&#92;&#114;&#105;&#103;&#104;&#116;&#41;&#94;&#50;&#125;&#92;&#114;&#105;&#103;&#104;&#116;&#41;$$</div><div class=\"grid-item\">\n",
       "\t\t\t\t\t\t\t\t\t\t\t\t\t<div class=\"prompt output_prompt\" style=\"text-align:left;padding:0em;padding-right:20px;line-height:20px;\">\n",
       "\t\t\t\t\t\t\t\t\t\t\t\t\t\tOut[179]:\n",
       "\t\t\t\t\t\t\t\t\t\t\t\t\t</div>\n",
       "\t\t\t\t\t\t\t\t\t\t\t\t</div>\n",
       "\t\t\t\t\t\t\t\t\t\t\t\t<div class=\"grid-item\">$$&#48;$$</div></div></div>"
      ]
     },
     "execution_count": 174,
     "metadata": {
      "text/html": []
     },
     "output_type": "execute_result"
    }
   ],
   "source": [
    "f = Exp[(x+1)^2/2];\n",
    "f // TeX\n",
    "D[f,x,x] - (x+2)/(x+1) D[f,x] - x(x+1)f // Simplify // TeX\n",
    "\n",
    "g = phi f;\n",
    "g // TeX\n",
    "D[g,x,x] - (x+2)/(x+1) D[g,x] - x(x+1)g // Simplify // TeX"
   ]
  },
  {
   "cell_type": "code",
   "execution_count": 180,
   "metadata": {},
   "outputs": [
    {
     "data": {
      "text/html": [
       "<style>\n",
       "\t\t\t\t\t\t\t\t\t\t\t.grid-container {\n",
       "\t\t\t\t\t\t\t\t\t\t\t\tdisplay: inline-grid;\n",
       "\t\t\t\t\t\t\t\t\t\t\t\tgrid-template-columns: auto auto;\n",
       "\t\t\t\t\t\t\t\t\t\t\t}\n",
       "\t\t\t\t\t\t\t\t\t\t</style>\n",
       "\n",
       "\t\t\t\t\t\t\t\t\t\t<div><div class=\"grid-container\"><div class=\"grid-item\">\n",
       "\t\t\t\t\t\t\t\t\t\t\t\t\t<div class=\"prompt output_prompt\" style=\"text-align:left;padding:0em;padding-right:20px;line-height:20px;\">\n",
       "\t\t\t\t\t\t\t\t\t\t\t\t\t\tOut[181]:\n",
       "\t\t\t\t\t\t\t\t\t\t\t\t\t</div>\n",
       "\t\t\t\t\t\t\t\t\t\t\t\t</div>\n",
       "\t\t\t\t\t\t\t\t\t\t\t\t<div class=\"grid-item\">$$&#92;&#102;&#114;&#97;&#99;&#123;&#92;&#98;&#101;&#116;&#97;&#32;&#32;&#101;&#94;&#123;&#45;&#92;&#108;&#101;&#102;&#116;&#40;&#120;&#43;&#92;&#102;&#114;&#97;&#99;&#123;&#49;&#125;&#123;&#50;&#125;&#92;&#114;&#105;&#103;&#104;&#116;&#41;&#94;&#50;&#125;&#125;&#123;&#92;&#97;&#108;&#112;&#104;&#97;&#32;&#43;&#92;&#102;&#114;&#97;&#99;&#123;&#49;&#125;&#123;&#50;&#125;&#32;&#92;&#98;&#101;&#116;&#97;&#32;&#32;&#92;&#108;&#101;&#102;&#116;&#40;&#92;&#102;&#114;&#97;&#99;&#123;&#49;&#125;&#123;&#50;&#125;&#32;&#92;&#115;&#113;&#114;&#116;&#123;&#92;&#112;&#105;&#32;&#125;&#32;&#92;&#116;&#101;&#120;&#116;&#123;&#101;&#114;&#102;&#125;&#92;&#108;&#101;&#102;&#116;&#40;&#120;&#43;&#92;&#102;&#114;&#97;&#99;&#123;&#49;&#125;&#123;&#50;&#125;&#92;&#114;&#105;&#103;&#104;&#116;&#41;&#45;&#101;&#94;&#123;&#45;&#92;&#108;&#101;&#102;&#116;&#40;&#120;&#43;&#92;&#102;&#114;&#97;&#99;&#123;&#49;&#125;&#123;&#50;&#125;&#92;&#114;&#105;&#103;&#104;&#116;&#41;&#94;&#50;&#125;&#92;&#114;&#105;&#103;&#104;&#116;&#41;&#125;&#43;&#49;$$</div><div class=\"grid-item\">\n",
       "\t\t\t\t\t\t\t\t\t\t\t\t\t<div class=\"prompt output_prompt\" style=\"text-align:left;padding:0em;padding-right:20px;line-height:20px;\">\n",
       "\t\t\t\t\t\t\t\t\t\t\t\t\t\tOut[182]:\n",
       "\t\t\t\t\t\t\t\t\t\t\t\t\t</div>\n",
       "\t\t\t\t\t\t\t\t\t\t\t\t</div>\n",
       "\t\t\t\t\t\t\t\t\t\t\t\t<div class=\"grid-item\">$$&#48;$$</div></div></div>"
      ]
     },
     "execution_count": 181,
     "metadata": {
      "text/html": []
     },
     "output_type": "execute_result"
    }
   ],
   "source": [
    "u = 1 + beta Exp[-(x+1/2)^2]/(alpha + beta phi);\n",
    "u // TeX\n",
    "D[u,x] + (x+1)u^2 - u - x // Simplify // TeX"
   ]
  },
  {
   "cell_type": "markdown",
   "metadata": {},
   "source": [
    "Wolfram言語の `DSolve` 函数による解."
   ]
  },
  {
   "cell_type": "code",
   "execution_count": 183,
   "metadata": {},
   "outputs": [
    {
     "data": {
      "text/html": [
       "<style>\n",
       "\t\t\t\t\t\t\t\t\t\t\t.grid-container {\n",
       "\t\t\t\t\t\t\t\t\t\t\t\tdisplay: inline-grid;\n",
       "\t\t\t\t\t\t\t\t\t\t\t\tgrid-template-columns: auto auto;\n",
       "\t\t\t\t\t\t\t\t\t\t\t}\n",
       "\t\t\t\t\t\t\t\t\t\t</style>\n",
       "\n",
       "\t\t\t\t\t\t\t\t\t\t<div><div class=\"grid-container\"><div class=\"grid-item\">\n",
       "\t\t\t\t\t\t\t\t\t\t\t\t\t<div class=\"prompt output_prompt\" style=\"text-align:left;padding:0em;padding-right:20px;line-height:20px;\">\n",
       "\t\t\t\t\t\t\t\t\t\t\t\t\t\tOut[185]:\n",
       "\t\t\t\t\t\t\t\t\t\t\t\t\t</div>\n",
       "\t\t\t\t\t\t\t\t\t\t\t\t</div>\n",
       "\t\t\t\t\t\t\t\t\t\t\t\t<div class=\"grid-item\">$$&#117;&#39;&#40;&#120;&#41;&#43;&#40;&#120;&#43;&#49;&#41;&#32;&#117;&#40;&#120;&#41;&#94;&#50;&#45;&#117;&#40;&#120;&#41;&#45;&#120;$$</div><div class=\"grid-item\">\n",
       "\t\t\t\t\t\t\t\t\t\t\t\t\t<div class=\"prompt output_prompt\" style=\"text-align:left;padding:0em;padding-right:20px;line-height:20px;\">\n",
       "\t\t\t\t\t\t\t\t\t\t\t\t\t\tOut[186]:\n",
       "\t\t\t\t\t\t\t\t\t\t\t\t\t</div>\n",
       "\t\t\t\t\t\t\t\t\t\t\t\t</div>\n",
       "\t\t\t\t\t\t\t\t\t\t\t\t<div class=\"grid-item\">$$&#48;$$</div></div></div>"
      ]
     },
     "execution_count": 185,
     "metadata": {
      "text/html": []
     },
     "output_type": "execute_result"
    }
   ],
   "source": [
    "Clear[a,f,p,q,u,alpha,beta,dphi,phi,psi,L,R]\n",
    "R = u'[x] + (x+1) u[x]^2 - u[x] - x;\n",
    "R // TeX\n",
    "R/.{u'[x]->0, u[x]->1} // TeX"
   ]
  },
  {
   "cell_type": "code",
   "execution_count": 187,
   "metadata": {},
   "outputs": [
    {
     "data": {
      "text/html": [
       "<div><img alt=\"Output\" src=\"data:image/png;base64,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\" width=\"550\"></div>"
      ]
     },
     "execution_count": 187,
     "metadata": {
      "text/html": []
     },
     "output_type": "execute_result"
    }
   ],
   "source": [
    "sol = DSolve[R==0, u, x]"
   ]
  },
  {
   "cell_type": "code",
   "execution_count": 188,
   "metadata": {},
   "outputs": [
    {
     "data": {
      "text/html": [
       "<style>\n",
       "\t\t\t\t\t\t\t\t\t\t\t.grid-container {\n",
       "\t\t\t\t\t\t\t\t\t\t\t\tdisplay: inline-grid;\n",
       "\t\t\t\t\t\t\t\t\t\t\t\tgrid-template-columns: auto auto;\n",
       "\t\t\t\t\t\t\t\t\t\t\t}\n",
       "\t\t\t\t\t\t\t\t\t\t</style>\n",
       "\n",
       "\t\t\t\t\t\t\t\t\t\t<div><div class=\"grid-container\"><div class=\"grid-item\">\n",
       "\t\t\t\t\t\t\t\t\t\t\t\t\t<div class=\"prompt output_prompt\" style=\"text-align:left;padding:0em;padding-right:20px;line-height:20px;\">\n",
       "\t\t\t\t\t\t\t\t\t\t\t\t\t\tOut[188]:\n",
       "\t\t\t\t\t\t\t\t\t\t\t\t\t</div>\n",
       "\t\t\t\t\t\t\t\t\t\t\t\t</div>\n",
       "\t\t\t\t\t\t\t\t\t\t\t\t<div class=\"grid-item\">$$&#92;&#102;&#114;&#97;&#99;&#123;&#101;&#94;&#123;&#45;&#120;&#94;&#50;&#45;&#120;&#125;&#125;&#123;&#99;&#95;&#49;&#43;&#92;&#102;&#114;&#97;&#99;&#123;&#49;&#125;&#123;&#52;&#125;&#32;&#92;&#108;&#101;&#102;&#116;&#40;&#92;&#115;&#113;&#114;&#116;&#91;&#52;&#93;&#123;&#101;&#125;&#32;&#92;&#115;&#113;&#114;&#116;&#123;&#92;&#112;&#105;&#32;&#125;&#32;&#92;&#116;&#101;&#120;&#116;&#123;&#101;&#114;&#102;&#125;&#92;&#108;&#101;&#102;&#116;&#40;&#120;&#43;&#92;&#102;&#114;&#97;&#99;&#123;&#49;&#125;&#123;&#50;&#125;&#92;&#114;&#105;&#103;&#104;&#116;&#41;&#45;&#50;&#32;&#101;&#94;&#123;&#45;&#120;&#32;&#40;&#120;&#43;&#49;&#41;&#125;&#92;&#114;&#105;&#103;&#104;&#116;&#41;&#125;&#43;&#49;$$</div><div class=\"grid-item\">\n",
       "\t\t\t\t\t\t\t\t\t\t\t\t\t<div class=\"prompt output_prompt\" style=\"text-align:left;padding:0em;padding-right:20px;line-height:20px;\">\n",
       "\t\t\t\t\t\t\t\t\t\t\t\t\t\tOut[189]:\n",
       "\t\t\t\t\t\t\t\t\t\t\t\t\t</div>\n",
       "\t\t\t\t\t\t\t\t\t\t\t\t</div>\n",
       "\t\t\t\t\t\t\t\t\t\t\t\t<div class=\"grid-item\">$$&#48;$$</div></div></div>"
      ]
     },
     "execution_count": 188,
     "metadata": {
      "text/html": []
     },
     "output_type": "execute_result"
    }
   ],
   "source": [
    "(u/.sol[[1]][[1]])[x] // TeX\n",
    "R/.sol[[1]] // Simplify // TeX"
   ]
  },
  {
   "cell_type": "code",
   "execution_count": 190,
   "metadata": {},
   "outputs": [
    {
     "data": {
      "text/html": [
       "<div>$$&#92;&#112;&#115;&#105;&#32;&#39;&#39;&#40;&#120;&#41;&#45;&#92;&#102;&#114;&#97;&#99;&#123;&#40;&#120;&#43;&#50;&#41;&#32;&#92;&#112;&#115;&#105;&#32;&#39;&#40;&#120;&#41;&#125;&#123;&#120;&#43;&#49;&#125;&#45;&#120;&#32;&#40;&#120;&#43;&#49;&#41;&#32;&#92;&#112;&#115;&#105;&#32;&#40;&#120;&#41;$$</div>"
      ]
     },
     "execution_count": 191,
     "metadata": {
      "text/html": []
     },
     "output_type": "execute_result"
    }
   ],
   "source": [
    "L = psi''[x]-(x+2)/(x+1) psi'[x] - x(x+1)psi[x];\n",
    "L // TeX"
   ]
  },
  {
   "cell_type": "code",
   "execution_count": 192,
   "metadata": {},
   "outputs": [
    {
     "data": {
      "text/html": [
       "<div><img alt=\"Output\" src=\"data:image/png;base64,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\" width=\"707\"></div>"
      ]
     },
     "execution_count": 192,
     "metadata": {
      "text/html": []
     },
     "output_type": "execute_result"
    }
   ],
   "source": [
    "lsol = DSolve[L==0, psi, x]"
   ]
  },
  {
   "cell_type": "code",
   "execution_count": 193,
   "metadata": {},
   "outputs": [
    {
     "data": {
      "text/html": [
       "<style>\n",
       "\t\t\t\t\t\t\t\t\t\t\t.grid-container {\n",
       "\t\t\t\t\t\t\t\t\t\t\t\tdisplay: inline-grid;\n",
       "\t\t\t\t\t\t\t\t\t\t\t\tgrid-template-columns: auto auto;\n",
       "\t\t\t\t\t\t\t\t\t\t\t}\n",
       "\t\t\t\t\t\t\t\t\t\t</style>\n",
       "\n",
       "\t\t\t\t\t\t\t\t\t\t<div><div class=\"grid-container\"><div class=\"grid-item\">\n",
       "\t\t\t\t\t\t\t\t\t\t\t\t\t<div class=\"prompt output_prompt\" style=\"text-align:left;padding:0em;padding-right:20px;line-height:20px;\">\n",
       "\t\t\t\t\t\t\t\t\t\t\t\t\t\tOut[193]:\n",
       "\t\t\t\t\t\t\t\t\t\t\t\t\t</div>\n",
       "\t\t\t\t\t\t\t\t\t\t\t\t</div>\n",
       "\t\t\t\t\t\t\t\t\t\t\t\t<div class=\"grid-item\">$$&#99;&#95;&#49;&#32;&#101;&#94;&#123;&#92;&#102;&#114;&#97;&#99;&#123;&#49;&#125;&#123;&#50;&#125;&#32;&#40;&#120;&#43;&#49;&#41;&#94;&#50;&#125;&#45;&#92;&#102;&#114;&#97;&#99;&#123;&#49;&#125;&#123;&#52;&#125;&#32;&#99;&#95;&#50;&#32;&#101;&#94;&#123;&#45;&#92;&#102;&#114;&#97;&#99;&#123;&#49;&#125;&#123;&#50;&#125;&#32;&#40;&#120;&#43;&#49;&#41;&#94;&#50;&#45;&#92;&#102;&#114;&#97;&#99;&#123;&#51;&#125;&#123;&#52;&#125;&#125;&#32;&#92;&#108;&#101;&#102;&#116;&#40;&#50;&#32;&#101;&#94;&#123;&#120;&#43;&#92;&#102;&#114;&#97;&#99;&#123;&#51;&#125;&#123;&#52;&#125;&#125;&#45;&#92;&#115;&#113;&#114;&#116;&#123;&#92;&#112;&#105;&#32;&#125;&#32;&#101;&#94;&#123;&#40;&#120;&#43;&#49;&#41;&#94;&#50;&#125;&#32;&#92;&#116;&#101;&#120;&#116;&#123;&#101;&#114;&#102;&#125;&#92;&#108;&#101;&#102;&#116;&#40;&#120;&#43;&#92;&#102;&#114;&#97;&#99;&#123;&#49;&#125;&#123;&#50;&#125;&#92;&#114;&#105;&#103;&#104;&#116;&#41;&#92;&#114;&#105;&#103;&#104;&#116;&#41;$$</div><div class=\"grid-item\">\n",
       "\t\t\t\t\t\t\t\t\t\t\t\t\t<div class=\"prompt output_prompt\" style=\"text-align:left;padding:0em;padding-right:20px;line-height:20px;\">\n",
       "\t\t\t\t\t\t\t\t\t\t\t\t\t\tOut[194]:\n",
       "\t\t\t\t\t\t\t\t\t\t\t\t\t</div>\n",
       "\t\t\t\t\t\t\t\t\t\t\t\t</div>\n",
       "\t\t\t\t\t\t\t\t\t\t\t\t<div class=\"grid-item\">$$&#48;$$</div></div></div>"
      ]
     },
     "execution_count": 193,
     "metadata": {
      "text/html": []
     },
     "output_type": "execute_result"
    }
   ],
   "source": [
    "(psi/.lsol[[1]][[1]])[x] // TeX\n",
    "L/.lsol[[1]] // Simplify // TeX"
   ]
  },
  {
   "cell_type": "code",
   "execution_count": null,
   "metadata": {},
   "outputs": [],
   "source": []
  }
 ],
 "metadata": {
  "@webio": {
   "lastCommId": null,
   "lastKernelId": null
  },
  "_draft": {
   "nbviewer_url": "https://gist.github.com/4a6218f591d07a857a6d6c0eb3264cf4"
  },
  "gist": {
   "data": {
    "description": "04-1 Riccati equation.ipynb",
    "public": true
   },
   "id": "4a6218f591d07a857a6d6c0eb3264cf4"
  },
  "kernelspec": {
   "display_name": "Wolfram Language 12",
   "language": "Wolfram Language",
   "name": "wolframlanguage12"
  },
  "language_info": {
   "codemirror_mode": "mathematica",
   "file_extension": ".m",
   "mimetype": "application/vnd.wolfram.m",
   "name": "Wolfram Language",
   "pygments_lexer": "python",
   "version": "12.0"
  },
  "toc": {
   "nav_menu": {},
   "number_sections": true,
   "sideBar": true,
   "skip_h1_title": true,
   "title_cell": "目次",
   "title_sidebar": "目次",
   "toc_cell": true,
   "toc_position": {},
   "toc_section_display": true,
   "toc_window_display": false
  }
 },
 "nbformat": 4,
 "nbformat_minor": 2
}
