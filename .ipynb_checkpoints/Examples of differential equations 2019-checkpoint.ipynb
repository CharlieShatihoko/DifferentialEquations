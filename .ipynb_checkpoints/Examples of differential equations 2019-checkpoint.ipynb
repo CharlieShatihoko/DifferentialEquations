{
 "cells": [
  {
   "cell_type": "markdown",
   "metadata": {},
   "source": [
    "# 微分方程式の例 2019\n",
    "\n",
    "黒木玄\n",
    "\n",
    "2019-08-20"
   ]
  },
  {
   "cell_type": "code",
   "execution_count": 1,
   "metadata": {},
   "outputs": [],
   "source": [
    "JupyterImageResolution = 84;\n",
    "JupyterOutTextForm = \"TeX\";\n",
    "\n",
    "TeX[x_] := ToString[TeXForm[x]]\n",
    "TeX[x_, y__] := StringJoin[TeX[x], TeX[y]]\n",
    "TeXRaw[x__, y_] := StringJoin[x, TeX[y]]\n",
    "\n",
    "MappedBy[x_] := x\n",
    "MappedBy[x_, F___, G_] := MappedBy[x, F] // G\n",
    "\n",
    "SetAttributes[TeXEq, HoldFirst]\n",
    "TeXEq[x_] := TeX[HoldForm[x] == MappedBy[x, ReleaseHold, FullSimplify]]\n",
    "TeXEq[x_, F__] := TeX[HoldForm[x] == MappedBy[x, ReleaseHold, F]]\n",
    "TeXEqRaw[x_] := TeX[HoldForm[x] == ReleaseHold[x]]"
   ]
  },
  {
   "cell_type": "markdown",
   "metadata": {},
   "source": [
    "## 問題1\n",
    "\n",
    "$\\omega,\\alpha>0$, $\\omega\\ne\\alpha$ と仮定.\n",
    "\n",
    "(1) $\\ddot{u}+\\omega^2 u=0$, $u(0)=a$, $\\dot{u}(0) = 0$ の解は $u = a\\cos\\omega t + b\\sin\\omega t$ の形であり, $u(0)=a$, $\\dot{u}(0)=0$ より, $u = a\\cos\\omega t$."
   ]
  },
  {
   "cell_type": "code",
   "execution_count": 15,
   "metadata": {},
   "outputs": [
    {
     "data": {
      "text/html": [
       "<div>$$&#92;&#108;&#101;&#102;&#116;&#92;&#123;&#117;&#39;&#39;&#40;&#116;&#41;&#61;&#45;&#92;&#111;&#109;&#101;&#103;&#97;&#32;&#94;&#50;&#32;&#117;&#40;&#116;&#41;&#44;&#117;&#40;&#48;&#41;&#61;&#97;&#44;&#117;&#39;&#40;&#48;&#41;&#61;&#48;&#92;&#114;&#105;&#103;&#104;&#116;&#92;&#125;$$</div>"
      ]
     },
     "execution_count": 16,
     "metadata": {
      "text/html": []
     },
     "output_type": "execute_result"
    }
   ],
   "source": [
    "ode1a = {u''[t] == -omega^2 u[t], u[0] == a, u'[0] == 0};\n",
    "ode1a // TeX"
   ]
  },
  {
   "cell_type": "code",
   "execution_count": 17,
   "metadata": {},
   "outputs": [
    {
     "data": {
      "text/html": [
       "<div>$$&#92;&#123;&#92;&#123;&#117;&#40;&#116;&#41;&#92;&#116;&#111;&#32;&#97;&#32;&#92;&#99;&#111;&#115;&#32;&#40;&#92;&#111;&#109;&#101;&#103;&#97;&#32;&#32;&#116;&#41;&#92;&#125;&#92;&#125;$$</div>"
      ]
     },
     "execution_count": 17,
     "metadata": {
      "text/html": []
     },
     "output_type": "execute_result"
    }
   ],
   "source": [
    "DSolve[ode1a, u[t], t] // Simplify // TeX"
   ]
  },
  {
   "cell_type": "markdown",
   "metadata": {},
   "source": [
    "(2) $\\ddot{u}+\\omega^2 u=\\sin\\alpha t$, $u(0)=a$, $\\dot{u}(0) = 0$ の解は $u = a\\cos\\omega t + b\\sin\\omega t + c\\cos\\alpha t + d\\sin\\alpha t$ の形であり, $u(0)=a$, $\\dot{u}(0)=0$ より, \n",
    "\n",
    "$$\n",
    "u = \n",
    "a\\cos\\omega t +\\frac{-\\alpha/\\omega}{\\omega^2-\\alpha^2}\\sin\\omega t + \n",
    "\\frac{1}{\\omega^2-\\alpha^2}\\sin\\alpha t\n",
    "$$"
   ]
  },
  {
   "cell_type": "code",
   "execution_count": 18,
   "metadata": {},
   "outputs": [
    {
     "data": {
      "text/html": [
       "<div>$$&#92;&#116;&#101;&#120;&#116;&#123;&#111;&#100;&#101;&#49;&#98;&#125;&#61;&#92;&#108;&#101;&#102;&#116;&#92;&#123;&#92;&#115;&#105;&#110;&#32;&#40;&#92;&#97;&#108;&#112;&#104;&#97;&#32;&#32;&#116;&#41;&#61;&#92;&#111;&#109;&#101;&#103;&#97;&#32;&#94;&#50;&#32;&#117;&#40;&#116;&#41;&#43;&#117;&#39;&#39;&#40;&#116;&#41;&#44;&#97;&#61;&#117;&#40;&#48;&#41;&#44;&#117;&#39;&#40;&#48;&#41;&#61;&#48;&#92;&#114;&#105;&#103;&#104;&#116;&#92;&#125;$$</div>"
      ]
     },
     "execution_count": 19,
     "metadata": {
      "text/html": []
     },
     "output_type": "execute_result"
    }
   ],
   "source": [
    "ode1b = {u''[t] == -omega^2 u[t] + Sin[alpha t], u[0]==a, u'[0]==0};\n",
    "ode1b // TeXEq"
   ]
  },
  {
   "cell_type": "code",
   "execution_count": 20,
   "metadata": {},
   "outputs": [
    {
     "data": {
      "text/html": [
       "<div>$$&#92;&#108;&#101;&#102;&#116;&#92;&#123;&#92;&#108;&#101;&#102;&#116;&#92;&#123;&#117;&#40;&#116;&#41;&#92;&#116;&#111;&#32;&#92;&#102;&#114;&#97;&#99;&#123;&#97;&#32;&#92;&#111;&#109;&#101;&#103;&#97;&#32;&#32;&#92;&#108;&#101;&#102;&#116;&#40;&#92;&#111;&#109;&#101;&#103;&#97;&#32;&#94;&#50;&#45;&#92;&#97;&#108;&#112;&#104;&#97;&#32;&#94;&#50;&#92;&#114;&#105;&#103;&#104;&#116;&#41;&#32;&#92;&#99;&#111;&#115;&#32;&#40;&#92;&#111;&#109;&#101;&#103;&#97;&#32;&#32;&#116;&#41;&#43;&#92;&#111;&#109;&#101;&#103;&#97;&#32;&#32;&#92;&#115;&#105;&#110;&#32;&#40;&#92;&#97;&#108;&#112;&#104;&#97;&#32;&#32;&#116;&#41;&#45;&#92;&#97;&#108;&#112;&#104;&#97;&#32;&#32;&#92;&#115;&#105;&#110;&#32;&#40;&#92;&#111;&#109;&#101;&#103;&#97;&#32;&#32;&#116;&#41;&#125;&#123;&#92;&#111;&#109;&#101;&#103;&#97;&#32;&#94;&#51;&#45;&#92;&#97;&#108;&#112;&#104;&#97;&#32;&#94;&#50;&#32;&#92;&#111;&#109;&#101;&#103;&#97;&#32;&#125;&#92;&#114;&#105;&#103;&#104;&#116;&#92;&#125;&#92;&#114;&#105;&#103;&#104;&#116;&#92;&#125;$$</div>"
      ]
     },
     "execution_count": 20,
     "metadata": {
      "text/html": []
     },
     "output_type": "execute_result"
    }
   ],
   "source": [
    "DSolve[ode1b, u[t], t] // Simplify // TeX"
   ]
  },
  {
   "cell_type": "markdown",
   "metadata": {},
   "source": [
    "(3) $\\ddot{u}+\\omega^2 u=\\sin\\omega t$, $u(0)=a$, $\\dot{u}(0) = 0$ の解は $u = a\\cos\\omega t + b\\sin\\omega t + c\\,t\\cos\\alpha t + d\\,t\\sin\\alpha t$ の形であり, $u(0)=a$, $\\dot{u}(0)=0$ より, \n",
    "\n",
    "$$\n",
    "u = \n",
    "a\\cos\\omega t +\\frac{1}{2\\omega^2}\\sin\\omega t + \n",
    "\\frac{-1}{2\\omega}t\\cos\\omega t\n",
    "$$"
   ]
  },
  {
   "cell_type": "code",
   "execution_count": 21,
   "metadata": {},
   "outputs": [
    {
     "data": {
      "text/html": [
       "<div>$$&#92;&#108;&#101;&#102;&#116;&#92;&#123;&#117;&#39;&#39;&#40;&#116;&#41;&#61;&#92;&#115;&#105;&#110;&#32;&#40;&#92;&#111;&#109;&#101;&#103;&#97;&#32;&#32;&#116;&#41;&#45;&#92;&#111;&#109;&#101;&#103;&#97;&#32;&#94;&#50;&#32;&#117;&#40;&#116;&#41;&#44;&#117;&#40;&#48;&#41;&#61;&#97;&#44;&#117;&#39;&#40;&#48;&#41;&#61;&#48;&#92;&#114;&#105;&#103;&#104;&#116;&#92;&#125;$$</div>"
      ]
     },
     "execution_count": 22,
     "metadata": {
      "text/html": []
     },
     "output_type": "execute_result"
    }
   ],
   "source": [
    "ode1c = {u''[t] == -omega^2 u[t] + Sin[omega t], u[0]==a, u'[0]==0};\n",
    "ode1c // TeX"
   ]
  },
  {
   "cell_type": "code",
   "execution_count": 23,
   "metadata": {},
   "outputs": [
    {
     "data": {
      "text/html": [
       "<div>$$&#92;&#108;&#101;&#102;&#116;&#92;&#123;&#92;&#108;&#101;&#102;&#116;&#92;&#123;&#117;&#40;&#116;&#41;&#92;&#116;&#111;&#32;&#97;&#32;&#92;&#99;&#111;&#115;&#32;&#40;&#92;&#111;&#109;&#101;&#103;&#97;&#32;&#32;&#116;&#41;&#43;&#92;&#102;&#114;&#97;&#99;&#123;&#92;&#115;&#105;&#110;&#32;&#40;&#92;&#111;&#109;&#101;&#103;&#97;&#32;&#32;&#116;&#41;&#125;&#123;&#50;&#32;&#92;&#111;&#109;&#101;&#103;&#97;&#32;&#94;&#50;&#125;&#45;&#92;&#102;&#114;&#97;&#99;&#123;&#116;&#32;&#92;&#99;&#111;&#115;&#32;&#40;&#92;&#111;&#109;&#101;&#103;&#97;&#32;&#32;&#116;&#41;&#125;&#123;&#50;&#32;&#92;&#111;&#109;&#101;&#103;&#97;&#32;&#125;&#92;&#114;&#105;&#103;&#104;&#116;&#92;&#125;&#92;&#114;&#105;&#103;&#104;&#116;&#92;&#125;$$</div>"
      ]
     },
     "execution_count": 23,
     "metadata": {
      "text/html": []
     },
     "output_type": "execute_result"
    }
   ],
   "source": [
    "DSolve[ode1c, u[t], t] // Simplify // Expand // TeX"
   ]
  },
  {
   "cell_type": "markdown",
   "metadata": {},
   "source": [
    "## 問題2"
   ]
  },
  {
   "cell_type": "markdown",
   "metadata": {},
   "source": [
    "$A = \\begin{bmatrix}\n",
    "11 & -6 \\\\\n",
    "18 & -10 \\\\\n",
    "\\end{bmatrix}$ は $P = \\begin{bmatrix}\n",
    "2 & 1 \\\\\n",
    "3 & 2 \\\\\n",
    "\\end{bmatrix}$, $P^{-1} = \\begin{bmatrix}\n",
    "2 & -1 \\\\\n",
    "-3 & 2 \\\\\n",
    "\\end{bmatrix}$, $D = \\begin{bmatrix}\n",
    "2 & 0 \\\\\n",
    "0 & -1 \\\\\n",
    "\\end{bmatrix}$ によって, $A=PDP^{-1}$ と対角化される.  ゆえに, \n",
    "\n",
    "$$\n",
    "\\begin{bmatrix}\n",
    "u \\\\\n",
    "v \\\\\n",
    "\\end{bmatrix} =\n",
    "e^{tA}\n",
    "\\begin{bmatrix}\n",
    "1 \\\\\n",
    "1 \\\\\n",
    "\\end{bmatrix} =\n",
    "Pe^{tD}P^{-1}\n",
    "\\begin{bmatrix}\n",
    "1 \\\\\n",
    "1 \\\\\n",
    "\\end{bmatrix} =\n",
    "P\n",
    "\\begin{bmatrix}\n",
    "e^{2t} & 0 \\\\\n",
    "0 & e^{-t} \\\\\n",
    "\\end{bmatrix}\n",
    "P^{-1}\n",
    "\\begin{bmatrix}\n",
    "1 \\\\\n",
    "1 \\\\\n",
    "\\end{bmatrix} =\n",
    "\\begin{bmatrix}\n",
    "2 e^{2t} - e^{-t} \\\\\n",
    "3 e^{2t} - 2e^{-t} \\\\\n",
    "\\end{bmatrix}.\n",
    "$$"
   ]
  },
  {
   "cell_type": "code",
   "execution_count": 24,
   "metadata": {},
   "outputs": [
    {
     "data": {
      "text/html": [
       "<div>$$&#80;&#61;&#92;&#108;&#101;&#102;&#116;&#40;&#10;&#92;&#98;&#101;&#103;&#105;&#110;&#123;&#97;&#114;&#114;&#97;&#121;&#125;&#123;&#99;&#99;&#125;&#10;&#32;&#50;&#32;&#38;&#32;&#49;&#32;&#92;&#92;&#10;&#32;&#51;&#32;&#38;&#32;&#50;&#32;&#92;&#92;&#10;&#92;&#101;&#110;&#100;&#123;&#97;&#114;&#114;&#97;&#121;&#125;&#10;&#92;&#114;&#105;&#103;&#104;&#116;&#41;$$</div>"
      ]
     },
     "execution_count": 25,
     "metadata": {
      "text/html": []
     },
     "output_type": "execute_result"
    }
   ],
   "source": [
    "P = {{2, 1}, {3, 2}};\n",
    "P // TeXEq"
   ]
  },
  {
   "cell_type": "code",
   "execution_count": 26,
   "metadata": {},
   "outputs": [
    {
     "data": {
      "text/html": [
       "<div>$$&#80;&#94;&#123;&#45;&#49;&#125;&#61;&#92;&#108;&#101;&#102;&#116;&#40;&#10;&#92;&#98;&#101;&#103;&#105;&#110;&#123;&#97;&#114;&#114;&#97;&#121;&#125;&#123;&#99;&#99;&#125;&#10;&#32;&#50;&#32;&#38;&#32;&#45;&#49;&#32;&#92;&#92;&#10;&#32;&#45;&#51;&#32;&#38;&#32;&#50;&#32;&#92;&#92;&#10;&#92;&#101;&#110;&#100;&#123;&#97;&#114;&#114;&#97;&#121;&#125;&#10;&#92;&#114;&#105;&#103;&#104;&#116;&#41;$$</div>"
      ]
     },
     "execution_count": 26,
     "metadata": {
      "text/html": []
     },
     "output_type": "execute_result"
    }
   ],
   "source": [
    "Inverse[P] // TeXEq"
   ]
  },
  {
   "cell_type": "code",
   "execution_count": 27,
   "metadata": {},
   "outputs": [
    {
     "data": {
      "text/html": [
       "<div>$$&#71;&#61;&#92;&#108;&#101;&#102;&#116;&#40;&#10;&#92;&#98;&#101;&#103;&#105;&#110;&#123;&#97;&#114;&#114;&#97;&#121;&#125;&#123;&#99;&#99;&#125;&#10;&#32;&#50;&#32;&#38;&#32;&#48;&#32;&#92;&#92;&#10;&#32;&#48;&#32;&#38;&#32;&#45;&#49;&#32;&#92;&#92;&#10;&#92;&#101;&#110;&#100;&#123;&#97;&#114;&#114;&#97;&#121;&#125;&#10;&#92;&#114;&#105;&#103;&#104;&#116;&#41;$$</div>"
      ]
     },
     "execution_count": 28,
     "metadata": {
      "text/html": []
     },
     "output_type": "execute_result"
    }
   ],
   "source": [
    "G = {{2,0}, {0,-1}};\n",
    "G // TeXEq"
   ]
  },
  {
   "cell_type": "code",
   "execution_count": 29,
   "metadata": {},
   "outputs": [
    {
     "data": {
      "text/html": [
       "<div>$$&#65;&#61;&#92;&#108;&#101;&#102;&#116;&#40;&#10;&#92;&#98;&#101;&#103;&#105;&#110;&#123;&#97;&#114;&#114;&#97;&#121;&#125;&#123;&#99;&#99;&#125;&#10;&#32;&#49;&#49;&#32;&#38;&#32;&#45;&#54;&#32;&#92;&#92;&#10;&#32;&#49;&#56;&#32;&#38;&#32;&#45;&#49;&#48;&#32;&#92;&#92;&#10;&#92;&#101;&#110;&#100;&#123;&#97;&#114;&#114;&#97;&#121;&#125;&#10;&#92;&#114;&#105;&#103;&#104;&#116;&#41;$$</div>"
      ]
     },
     "execution_count": 30,
     "metadata": {
      "text/html": []
     },
     "output_type": "execute_result"
    }
   ],
   "source": [
    "A = P . G . Inverse[P];\n",
    "A // TeXEq"
   ]
  },
  {
   "cell_type": "code",
   "execution_count": 31,
   "metadata": {},
   "outputs": [
    {
     "data": {
      "text/html": [
       "<div>$$&#92;&#108;&#101;&#102;&#116;&#40;&#10;&#92;&#98;&#101;&#103;&#105;&#110;&#123;&#97;&#114;&#114;&#97;&#121;&#125;&#123;&#99;&#99;&#125;&#10;&#32;&#52;&#32;&#101;&#94;&#123;&#50;&#32;&#116;&#125;&#45;&#51;&#32;&#101;&#94;&#123;&#45;&#116;&#125;&#32;&#38;&#32;&#50;&#32;&#101;&#94;&#123;&#45;&#116;&#125;&#45;&#50;&#32;&#101;&#94;&#123;&#50;&#32;&#116;&#125;&#32;&#92;&#92;&#10;&#32;&#54;&#32;&#101;&#94;&#123;&#50;&#32;&#116;&#125;&#45;&#54;&#32;&#101;&#94;&#123;&#45;&#116;&#125;&#32;&#38;&#32;&#52;&#32;&#101;&#94;&#123;&#45;&#116;&#125;&#45;&#51;&#32;&#101;&#94;&#123;&#50;&#32;&#116;&#125;&#32;&#92;&#92;&#10;&#92;&#101;&#110;&#100;&#123;&#97;&#114;&#114;&#97;&#121;&#125;&#10;&#92;&#114;&#105;&#103;&#104;&#116;&#41;$$</div>"
      ]
     },
     "execution_count": 32,
     "metadata": {
      "text/html": []
     },
     "output_type": "execute_result"
    }
   ],
   "source": [
    "U = MatrixExp[t A] // Expand;\n",
    "U // TeX"
   ]
  },
  {
   "cell_type": "code",
   "execution_count": 33,
   "metadata": {},
   "outputs": [
    {
     "data": {
      "text/html": [
       "<div>$$&#92;&#108;&#101;&#102;&#116;&#40;&#10;&#92;&#98;&#101;&#103;&#105;&#110;&#123;&#97;&#114;&#114;&#97;&#121;&#125;&#123;&#99;&#125;&#10;&#32;&#50;&#32;&#101;&#94;&#123;&#50;&#32;&#116;&#125;&#45;&#101;&#94;&#123;&#45;&#116;&#125;&#32;&#92;&#92;&#10;&#32;&#51;&#32;&#101;&#94;&#123;&#50;&#32;&#116;&#125;&#45;&#50;&#32;&#101;&#94;&#123;&#45;&#116;&#125;&#32;&#92;&#92;&#10;&#92;&#101;&#110;&#100;&#123;&#97;&#114;&#114;&#97;&#121;&#125;&#10;&#92;&#114;&#105;&#103;&#104;&#116;&#41;$$</div>"
      ]
     },
     "execution_count": 33,
     "metadata": {
      "text/html": []
     },
     "output_type": "execute_result"
    }
   ],
   "source": [
    "U . {{1},{1}} // Expand // TeX"
   ]
  },
  {
   "cell_type": "code",
   "execution_count": 34,
   "metadata": {},
   "outputs": [
    {
     "data": {
      "text/html": [
       "<div>$$&#92;&#108;&#101;&#102;&#116;&#92;&#123;&#117;&#39;&#40;&#116;&#41;&#61;&#49;&#49;&#32;&#117;&#40;&#116;&#41;&#45;&#54;&#32;&#118;&#40;&#116;&#41;&#44;&#118;&#39;&#40;&#116;&#41;&#61;&#49;&#56;&#32;&#117;&#40;&#116;&#41;&#45;&#49;&#48;&#32;&#118;&#40;&#116;&#41;&#44;&#117;&#40;&#48;&#41;&#61;&#49;&#44;&#118;&#40;&#48;&#41;&#61;&#49;&#92;&#114;&#105;&#103;&#104;&#116;&#92;&#125;$$</div>"
      ]
     },
     "execution_count": 35,
     "metadata": {
      "text/html": []
     },
     "output_type": "execute_result"
    }
   ],
   "source": [
    "ode2a = {u'[t] == 11 u[t] - 6 v[t], v'[t] == 18 u[t] - 10 v[t], u[0]==1, v[0]==1};\n",
    "ode2a // TeX"
   ]
  },
  {
   "cell_type": "code",
   "execution_count": 36,
   "metadata": {},
   "outputs": [
    {
     "data": {
      "text/html": [
       "<div>$$&#92;&#108;&#101;&#102;&#116;&#92;&#123;&#92;&#108;&#101;&#102;&#116;&#92;&#123;&#117;&#40;&#116;&#41;&#92;&#116;&#111;&#32;&#50;&#32;&#101;&#94;&#123;&#50;&#32;&#116;&#125;&#45;&#101;&#94;&#123;&#45;&#116;&#125;&#44;&#118;&#40;&#116;&#41;&#92;&#116;&#111;&#32;&#51;&#32;&#101;&#94;&#123;&#50;&#32;&#116;&#125;&#45;&#50;&#32;&#101;&#94;&#123;&#45;&#116;&#125;&#92;&#114;&#105;&#103;&#104;&#116;&#92;&#125;&#92;&#114;&#105;&#103;&#104;&#116;&#92;&#125;$$</div>"
      ]
     },
     "execution_count": 37,
     "metadata": {
      "text/html": []
     },
     "output_type": "execute_result"
    }
   ],
   "source": [
    "sol2a = DSolve[ode2a, {u[t], v[t]}, t];\n",
    "sol2a // Expand // TeX"
   ]
  },
  {
   "cell_type": "markdown",
   "metadata": {},
   "source": [
    "## 問題3\n",
    "\n",
    "$\\ddot{u} = -2u+2v-2$, $\\ddot{v}=2u-2v-2$ の和と差と取ると, $(u+v)\\ddot{} = -4$, $(u-v)\\ddot{}= -4(u-v)$ となり,  $u(0)=-2$, $v(0)=2$, $\\dot{u}(0)=\\dot{v}(0)=0$ より, $(u+v)(0)=0$, $(u+v)\\dot{}(0)=0$, $(u-v)(0)=-4$, $(u-v)\\dot{}(0)=0$. ゆえに, $u+v=-2t^2$, $u-v=-4\\cos 2t$.  したがって, $u=-2\\cos 2t - t^2$, $v=2\\cos 2t -t^2$."
   ]
  },
  {
   "cell_type": "code",
   "execution_count": 38,
   "metadata": {},
   "outputs": [
    {
     "data": {
      "text/html": [
       "<div>$$&#92;&#108;&#101;&#102;&#116;&#92;&#123;&#117;&#39;&#39;&#40;&#116;&#41;&#61;&#45;&#50;&#32;&#117;&#40;&#116;&#41;&#43;&#50;&#32;&#118;&#40;&#116;&#41;&#45;&#50;&#44;&#118;&#39;&#39;&#40;&#116;&#41;&#61;&#50;&#32;&#117;&#40;&#116;&#41;&#45;&#50;&#32;&#118;&#40;&#116;&#41;&#45;&#50;&#44;&#117;&#40;&#48;&#41;&#61;&#45;&#50;&#44;&#118;&#40;&#48;&#41;&#61;&#50;&#44;&#117;&#39;&#40;&#48;&#41;&#61;&#48;&#44;&#118;&#39;&#40;&#48;&#41;&#61;&#48;&#92;&#114;&#105;&#103;&#104;&#116;&#92;&#125;$$</div>"
      ]
     },
     "execution_count": 39,
     "metadata": {
      "text/html": []
     },
     "output_type": "execute_result"
    }
   ],
   "source": [
    "ode3a = {u''[t] == -2u[t] + 2v[t] - 2, v''[t] == 2u[t] - 2v[t] - 2, u[0] == -2, v[0] == 2, u'[0] == 0, v'[0] == 0};\n",
    "ode3a // TeX"
   ]
  },
  {
   "cell_type": "code",
   "execution_count": 40,
   "metadata": {},
   "outputs": [
    {
     "data": {
      "text/html": [
       "<div>$$&#92;&#116;&#101;&#120;&#116;&#123;&#115;&#111;&#108;&#51;&#97;&#125;&#61;&#92;&#108;&#101;&#102;&#116;&#92;&#123;&#92;&#108;&#101;&#102;&#116;&#92;&#123;&#117;&#40;&#116;&#41;&#92;&#116;&#111;&#32;&#45;&#116;&#94;&#50;&#45;&#50;&#32;&#92;&#99;&#111;&#115;&#32;&#40;&#50;&#32;&#116;&#41;&#44;&#118;&#40;&#116;&#41;&#92;&#116;&#111;&#32;&#50;&#32;&#92;&#99;&#111;&#115;&#32;&#40;&#50;&#32;&#116;&#41;&#45;&#116;&#94;&#50;&#92;&#114;&#105;&#103;&#104;&#116;&#92;&#125;&#92;&#114;&#105;&#103;&#104;&#116;&#92;&#125;$$</div>"
      ]
     },
     "execution_count": 41,
     "metadata": {
      "text/html": []
     },
     "output_type": "execute_result"
    }
   ],
   "source": [
    "sol3a = DSolve[ode3a, {u[t], v[t]}, t];\n",
    "sol3a // TeXEq"
   ]
  },
  {
   "cell_type": "markdown",
   "metadata": {},
   "source": [
    "## 問題4\n",
    "\n",
    "(1) $f=at^3+bt^2+ct+d$ とおいて, $\\ddot{f}+2\\dot{f}+2f=2t^3$ に代入して $a,b,c,d$ を求めると, $f=t^3-3t^2+3t$. "
   ]
  },
  {
   "cell_type": "code",
   "execution_count": 42,
   "metadata": {},
   "outputs": [
    {
     "data": {
      "text/html": [
       "<div>$$&#92;&#102;&#114;&#97;&#99;&#123;&#92;&#112;&#97;&#114;&#116;&#105;&#97;&#108;&#32;&#94;&#50;&#92;&#108;&#101;&#102;&#116;&#40;&#116;&#94;&#51;&#45;&#51;&#32;&#116;&#94;&#50;&#43;&#51;&#32;&#116;&#92;&#114;&#105;&#103;&#104;&#116;&#41;&#125;&#123;&#92;&#112;&#97;&#114;&#116;&#105;&#97;&#108;&#32;&#116;&#94;&#50;&#125;&#43;&#50;&#32;&#92;&#102;&#114;&#97;&#99;&#123;&#92;&#112;&#97;&#114;&#116;&#105;&#97;&#108;&#32;&#92;&#108;&#101;&#102;&#116;&#40;&#116;&#94;&#51;&#45;&#51;&#32;&#116;&#94;&#50;&#43;&#51;&#32;&#116;&#92;&#114;&#105;&#103;&#104;&#116;&#41;&#125;&#123;&#92;&#112;&#97;&#114;&#116;&#105;&#97;&#108;&#32;&#116;&#125;&#43;&#50;&#32;&#92;&#108;&#101;&#102;&#116;&#40;&#116;&#94;&#51;&#45;&#51;&#32;&#116;&#94;&#50;&#43;&#51;&#32;&#116;&#92;&#114;&#105;&#103;&#104;&#116;&#41;&#61;&#50;&#32;&#116;&#94;&#51;$$</div>"
      ]
     },
     "execution_count": 42,
     "metadata": {
      "text/html": []
     },
     "output_type": "execute_result"
    }
   ],
   "source": [
    "D[t^3-3t^2+3t, {t,2}] + 2D[t^3-3t^2+3t, t] + 2(t^3-3t^2+3t) // TeXEq"
   ]
  },
  {
   "cell_type": "markdown",
   "metadata": {},
   "source": [
    "(2) $\\ddot{v}+2\\dot{v}+2v=0$ の一般解は $v = A e^{-t}\\cos t + B e^{-t}\\sin t$ となる.  そのとき,  $\\ddot{u}+2\\dot{u}+2u=2t^3$ の一般解は $u=v+f$ の形になる. $u(0)=a$, $\\dot{u}(0)=b-a+3$ より, $u=a e^{-t}\\cos t + b e^{-t}\\sin t + t^3-3t^2+3t$."
   ]
  },
  {
   "cell_type": "code",
   "execution_count": 43,
   "metadata": {},
   "outputs": [
    {
     "data": {
      "text/html": [
       "<div>$$&#92;&#108;&#101;&#102;&#116;&#92;&#123;&#117;&#39;&#39;&#40;&#116;&#41;&#43;&#50;&#32;&#117;&#39;&#40;&#116;&#41;&#43;&#50;&#32;&#117;&#40;&#116;&#41;&#61;&#48;&#44;&#117;&#40;&#48;&#41;&#61;&#97;&#44;&#117;&#39;&#40;&#48;&#41;&#61;&#98;&#92;&#114;&#105;&#103;&#104;&#116;&#92;&#125;$$</div>"
      ]
     },
     "execution_count": 44,
     "metadata": {
      "text/html": []
     },
     "output_type": "execute_result"
    }
   ],
   "source": [
    "ode4a = {u''[t] + 2u'[t] + 2u[t] == 0, u[0] == a, u'[0] == b};\n",
    "ode4a // TeX"
   ]
  },
  {
   "cell_type": "code",
   "execution_count": 45,
   "metadata": {},
   "outputs": [
    {
     "data": {
      "text/html": [
       "<div>$$&#92;&#108;&#101;&#102;&#116;&#92;&#123;&#92;&#108;&#101;&#102;&#116;&#92;&#123;&#117;&#40;&#116;&#41;&#92;&#116;&#111;&#32;&#97;&#32;&#101;&#94;&#123;&#45;&#116;&#125;&#32;&#92;&#115;&#105;&#110;&#32;&#40;&#116;&#41;&#43;&#97;&#32;&#101;&#94;&#123;&#45;&#116;&#125;&#32;&#92;&#99;&#111;&#115;&#32;&#40;&#116;&#41;&#43;&#98;&#32;&#101;&#94;&#123;&#45;&#116;&#125;&#32;&#92;&#115;&#105;&#110;&#32;&#40;&#116;&#41;&#92;&#114;&#105;&#103;&#104;&#116;&#92;&#125;&#92;&#114;&#105;&#103;&#104;&#116;&#92;&#125;$$</div>"
      ]
     },
     "execution_count": 46,
     "metadata": {
      "text/html": []
     },
     "output_type": "execute_result"
    }
   ],
   "source": [
    "sol4a = DSolve[ode4a, u[t], t];\n",
    "sol4a // Expand // TeX"
   ]
  },
  {
   "cell_type": "code",
   "execution_count": 47,
   "metadata": {},
   "outputs": [
    {
     "data": {
      "text/html": [
       "<div>$$&#92;&#108;&#101;&#102;&#116;&#92;&#123;&#117;&#39;&#39;&#40;&#116;&#41;&#43;&#50;&#32;&#117;&#39;&#40;&#116;&#41;&#43;&#50;&#32;&#117;&#40;&#116;&#41;&#61;&#50;&#32;&#116;&#94;&#51;&#44;&#117;&#40;&#48;&#41;&#61;&#97;&#44;&#117;&#39;&#40;&#48;&#41;&#61;&#45;&#97;&#43;&#98;&#43;&#51;&#92;&#114;&#105;&#103;&#104;&#116;&#92;&#125;$$</div>"
      ]
     },
     "execution_count": 48,
     "metadata": {
      "text/html": []
     },
     "output_type": "execute_result"
    }
   ],
   "source": [
    "ode4b = {u''[t] + 2u'[t] + 2u[t] == 2t^3, u[0] == a, u'[0] == b-a+3};\n",
    "ode4b // TeX"
   ]
  },
  {
   "cell_type": "code",
   "execution_count": 49,
   "metadata": {},
   "outputs": [
    {
     "data": {
      "text/html": [
       "<div>$$&#92;&#108;&#101;&#102;&#116;&#92;&#123;&#92;&#108;&#101;&#102;&#116;&#92;&#123;&#117;&#40;&#116;&#41;&#92;&#116;&#111;&#32;&#97;&#32;&#101;&#94;&#123;&#45;&#116;&#125;&#32;&#92;&#99;&#111;&#115;&#32;&#40;&#116;&#41;&#43;&#98;&#32;&#101;&#94;&#123;&#45;&#116;&#125;&#32;&#92;&#115;&#105;&#110;&#32;&#40;&#116;&#41;&#43;&#116;&#94;&#51;&#45;&#51;&#32;&#116;&#94;&#50;&#43;&#51;&#32;&#116;&#92;&#114;&#105;&#103;&#104;&#116;&#92;&#125;&#92;&#114;&#105;&#103;&#104;&#116;&#92;&#125;$$</div>"
      ]
     },
     "execution_count": 50,
     "metadata": {
      "text/html": []
     },
     "output_type": "execute_result"
    }
   ],
   "source": [
    "sol4b = DSolve[ode4b, u[t], t];\n",
    "sol4b // Expand // TeX"
   ]
  },
  {
   "cell_type": "markdown",
   "metadata": {},
   "source": [
    "## 問題5\n",
    "\n",
    "$p=2e^{2x}y+e^{-y}\\cos x$, $q=e^{2x}-e^{-y}\\sin x$ とおくと, $p_y=2e^{2x}-e^{-y}\\cos x=q_x$.\n",
    "\n",
    "$$\n",
    "\\begin{aligned}\n",
    "F(x,y) &=\n",
    "\\int_0^x p(s,0)\\,ds + \\int_0^y q(x,t)\\,dt \n",
    "\\\\ &=\n",
    "\\int_0^x \\cos s\\,ds + \\int_0^y (e{2x}-e^{-t}\\sin x)\\,dt \n",
    "\\\\ &=\n",
    "\\sin x + e^{2x}y + (e^{-y}-1)\\sin x\n",
    "\\\\ &= e^{2x}y + e^{-y}\\sin x.\n",
    "\\end{aligned}\n",
    "$$"
   ]
  },
  {
   "cell_type": "code",
   "execution_count": 51,
   "metadata": {},
   "outputs": [
    {
     "data": {
      "text/html": [
       "<div>$$&#70;&#61;&#101;&#94;&#123;&#50;&#32;&#120;&#125;&#32;&#121;&#43;&#101;&#94;&#123;&#45;&#121;&#125;&#32;&#92;&#115;&#105;&#110;&#32;&#40;&#120;&#41;$$</div>"
      ]
     },
     "execution_count": 52,
     "metadata": {
      "text/html": []
     },
     "output_type": "execute_result"
    }
   ],
   "source": [
    "F = Exp[2x]y + Exp[-y]Sin[x];\n",
    "F // TeXEq"
   ]
  },
  {
   "cell_type": "code",
   "execution_count": 53,
   "metadata": {},
   "outputs": [
    {
     "data": {
      "text/html": [
       "<div>$$&#92;&#116;&#101;&#120;&#116;&#123;&#100;&#120;&#125;&#32;&#92;&#108;&#101;&#102;&#116;&#40;&#50;&#32;&#101;&#94;&#123;&#50;&#32;&#120;&#125;&#32;&#121;&#43;&#101;&#94;&#123;&#45;&#121;&#125;&#32;&#92;&#99;&#111;&#115;&#32;&#40;&#120;&#41;&#92;&#114;&#105;&#103;&#104;&#116;&#41;&#43;&#92;&#116;&#101;&#120;&#116;&#123;&#100;&#121;&#125;&#32;&#92;&#108;&#101;&#102;&#116;&#40;&#101;&#94;&#123;&#50;&#32;&#120;&#125;&#45;&#101;&#94;&#123;&#45;&#121;&#125;&#32;&#92;&#115;&#105;&#110;&#32;&#40;&#120;&#41;&#92;&#114;&#105;&#103;&#104;&#116;&#41;$$</div>"
      ]
     },
     "execution_count": 53,
     "metadata": {
      "text/html": []
     },
     "output_type": "execute_result"
    }
   ],
   "source": [
    "D[F, x]*dx + D[F, y]*dy // TeX"
   ]
  },
  {
   "cell_type": "markdown",
   "metadata": {},
   "source": [
    "## 問題6\n",
    "\n",
    "(1) $w'=2w$ の一般解は $w=c e^{2x}$.  $v=c(x)e^{2x}$ を $v'=2v-2x$ に代入すると, $c'(x)e^{2x}+2c(x)e^{2x}=2c(x)e^{2x}-2x$ すなわち $c'(x)=-2x e^{-2x}$ なので\n",
    "\n",
    "$$\n",
    "c(x) = -2 \\int x e^{-2x}\\,dx = \\int x (e^{-2x})'\\,dx =\n",
    "x e^{-2x} - \\int e^{-2x}\\,dx = x e^{-2x} + \\frac{1}{2}e^{-2x} + C.\n",
    "$$\n",
    "\n",
    "ゆえに\n",
    "\n",
    "$$\n",
    "v = c(x)e^{2x} = C e^{2x} + x + \\frac{1}{2}.\n",
    "$$\n",
    "\n",
    "$v(0)=1$ より, \n",
    "\n",
    "$$\n",
    "v = \\frac{1}{2} e^{2x} + x + \\frac{1}{2} = \\frac{e^{2x}+2x+1}{2}.\n",
    "$$"
   ]
  },
  {
   "cell_type": "markdown",
   "metadata": {},
   "source": [
    "(2) $v = u^{1-3} = u^{-2}$ とおくと, (1)に帰着するので $u=\\pm v^{-1/2}$. しかし, $u(0)=1$ より, $u=v^{-1/2}$."
   ]
  },
  {
   "cell_type": "code",
   "execution_count": 54,
   "metadata": {},
   "outputs": [
    {
     "data": {
      "text/html": [
       "<div><img alt=\"Output\" src=\"data:image/png;base64,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\" width=\"243\"></div>"
      ]
     },
     "execution_count": 54,
     "metadata": {
      "text/html": []
     },
     "output_type": "execute_result"
    }
   ],
   "source": [
    "ode6a = {v'[x] == 2v[x] - 2x, v[0]==1}"
   ]
  },
  {
   "cell_type": "code",
   "execution_count": 55,
   "metadata": {},
   "outputs": [
    {
     "data": {
      "text/html": [
       "<div><img alt=\"Output\" src=\"data:image/png;base64,iVBORw0KGgoAAAANSUhEUgAAAZ0AAAA8CAIAAAAyivAKAAAAhXpUWHRSYXcgcHJvZmlsZSB0eXBlIGV4aWYAAHjaVYvBDcMwDAP/mqIjyLJM2uMYiQNkg45fuu0n9yApgbT1vi97felp2dgxABc5csRU6P6juNciDXn+X9MfZGWgoRhTluEkhnJXkqKFN+LCAahYcIbnIV8gNQN3o86928QyPusLVffpbh/5eCey76LuBgAAAAlwSFlzAAAZ1gAAGdYBGNHK7QAAADx0RVh0U29mdHdhcmUAQ3JlYXRlZCB3aXRoIHRoZSBXb2xmcmFtIExhbmd1YWdlIDogd3d3LndvbGZyYW0uY29tXKKmhQAAACF0RVh0Q3JlYXRpb24gVGltZQAyMDE5OjA4OjIwIDAzOjA5OjM3EDiGBAAACTRJREFUeJztnb12ozoQx4d77qNAihw/AX4CSJPK7Xa4hCZdyu3S4BK6tKncBMq7jf0EPikC77CPoFvwZRwDkhBIgvlVe7IevvXXSDMaGYQQQJZCujfcGADADrOTb8q+HASRwz+yLwARQn7YGoZRihqCrBzUNd0pFM0KzgDgJYkn+3oQRD6oa3qT7gtFAy8hhESO7OtBEBWg0bV0bxiGYRj7lOXIfFYIG85LaNthhpKGaMI8atKva8UYx4WEEAZvgM8K4cL0TxggQPTBiQghhCTgGoaxPeTTWPXoWn7YWsGGdXjDZ4UgyJpwIkJIsgksamljsurWtfQtgDBjFSc+KwRB1ocTZSEEb4wzVTRWnbqWHmN798Q6wOGzQhBklZhPOzs+sk7BD1v1za9tHngEis8KQaRTTU4XMA2QEE7Mh80UVpjngSBlrKud1XwOLAzm6wrqGsJGftgu0JUxn3Y22GFGKooE5/j34u5UJOp+C6hrCBP55weE78vLLDH9E7lOmHFeQhsAzl/Z/d+XC9duPbpyKKtmYxeO6b+H8PGp4L2iriEs5J8fsI7A0MAUjumfEg8AYrdRtvywdeN11Rwwn3ZKChvqGsJA+hasRNYg/74AgP1odf7CiVrKlh9+BWcAe4nebDfm0449U2N6UNcQetaTxlOKlPfaq1FOlIV2oWyVQbIaV62EL1NjalDXEGpWI2tlNQEvGUwwN/33QtloDZaHksKGuqY51fx1SZWqcA4s4ZlYK5G1sjanl9CtBCyVDVaqaqCmsGmpa+38SdFJRtMeXV/YZK1+inqFBhlFDa4qRUHsSrzXm/5t1ueuoLBpqWtQlhsrEdxLlqUDrrKYVMb0T2QIIVM++feFai2JxpV72UUN0n0ZASWJB3AOfklQtnRfFxa94hxYs3XK5sMGLt8q9V+66hoyM/nnx9l77m3uWlfuzQ9bZlGrVe3dN8vo6OzKVuaWQLurrx7+XC6k8+ydlUr3QF1DqMi+zn05D5pX7i2jmQAQu4ZBN6Crs9WqvI4ilfccWHNOXRR5dF7SfuROVEnbeZ4kDOvR7kxhlsHculZPu3S++2qiYExHczXZcO88zX/rNfkjkfQYD4xC11W5Nz9srR/ZalUIYeaJNie698yd59JnGxogCmksqo1E59a1cnkKQNc8Y/pWdJyjIm+mf8qq87i3L6vpm9eXbMRL/n3pTVEFULlyb8eapyv6Zinv3lRlcPOfHX+WgvVYtIAhP0pMY7EebZVGorOPQ82nXZ+wpcdismB0QkETfm+/rPpF2bLLX6Z7ffzF7OssowBVftiKcNutmzGmmiHukTf7g+yruOuh/giENBa+ekOT0aVrxSoSVmiseoWtkrWBPG8qqhV8rXFB7Q7KX+3iROx1kCVC0TxUIj9sDSvYJMU8U7tSR+xq06HwU7dFqv5ofGMZMcPGN4DtterStcFpYn4r038tn+APYatlrT/wRk25gq8OUxXxK3UGoLpIG18vJ5F0bwUQZiSCvRvfrEN3IpKFICUjY0YqTaJvSwIaC49A8enhoNX9OYXEa3VxlFBbVWHo69B095/vmQ/9pKGaOwDbtukOz3smTrLQBp6nPSOJx/TUahuAcXeWlaEIdrPitPU/7v5k8jfLBufNdhwKmL/1liFHY+HTDN5XMWB1T9e6v4ahE1Fb3VWw8o/DB2FVm1YqFavlHF+/6tKml67Vn3zfJ8lzS9MiTNeaz53nBrkbC/8TnUBwbsahReryx46tgBS7VRUWvR6KloPQCZYg1kFYADt8UTANwfRPWQjMiU+3mVa9/PnzZ5qLV456NqQv2lFFC5dGuWYCuANjEhqL6Z+y3YfFGNHpt7oRQGDuYPmsao+3Vnhqb43Zi2q8cuYL5fTX2mdkgels/7Hw9+9f9hspmctfo1mjMHgdzQhl6HBy/TUhN9smu5IkTs+Pv7GM9YCL58F64R1Wd8ahicfzWJitboStfMtUD4ZJberPxwtDnjmDeT5+voc+F3qNQ+uJHvXGmn2MHYcKELVRjWXE085Cm8O2z+pOPLQI0rGGi5itqrBoMRQtB6GiAqEV16vnIr+KZUstvHCHdG+4lxUVj56YOkXUerSVSoKfkGr9w5gq5OMbC18uUH74FWxYluXSWHVLofAYxQ8aH43FW6P3oproTtOBNT2ScM+QD7U9tQKez0FyPBS8hHdCWhL8/poIT210Y+F+1pPkXnTkr5lPO5u9p2O1Kpewxcf9MQbh05T1QuxWWmGdpaOE06aRp6aR42P676Edu9sD+K9ed4WNPNfmjvq4+s75PyQxjYVnSQpftdJBqx495PBUWK2uZynpRZviLL1dGH0gfEp/rbgKPeZ/aOZOaIIl7DEpbg+kerw/1hs0V6qWK8c9mUhB/7sT0lh4p9emSZWVXKeoXlQlNL+jmWy4nyxdd0MQu/IWCzovYcg8qyAJSVkRY5bSO1GxZMqN4aYsulGsRVBjdXqDpLoBghoLTWWELvhWHvda/ct1IeIw/RPx5z+oExESiT4tK6avVLvqw3zYwMd3Dk7PBU/yKsehxGueltG3KKixZF9n2Lwq8z1jXcllMHV5e9XqBiJqkX9fhCczjAF1TXtmKW/PF0hC1gJfnYzpQF3Tm9nK25sPG5XqBiJKQbupz2ygrunNfOXtnWcPR6LIXSg29ZkZXXXtenuNCfcP1WG3uJHl7amxHlXbJBJRhOxLMVnTU9eud/gkk+4fKv7os0Fb3p4aBXe/RZQgPcZKTa6BprqGUMBQ3p4SFDbkHnwrBqYFdW2hsJW3pwOFDfmJirKGurZQ2Mvb04DChtyipKyhri2RVsEZodODpv/qobAhDekxFrF5nGhQ1xZHXZpBuKoBADjPKGxITXqMFYuEFqCuLYvR5e0HcV7Cy2/5FZ4QBcgPvy9Kbhgifd07IpBm/DmmFNcQpn86TXNkRDPU/RT6/LUJtmFGJkNEJWgEmRm+LbcHrTp1baJtmJFJQFFD9IRvwfywVWfFyRl2R0aEIKS8PYLMz2R733XrWmnPXtuXzwrhpK7TjKKGaMWU8tIbD3UiQhJwGdeX81khXKT7eml+u9Z1C3wHiCo0ZSVcSKiXX7NaGYSQ8deKyKLJ6+jD02UfBQQRAuoagiBLA/NyEQRZGqhrCIIsjf8BgJD0ID1fCAgAAAAASUVORK5CYII=\" width=\"206\"></div>"
      ]
     },
     "execution_count": 55,
     "metadata": {
      "text/html": []
     },
     "output_type": "execute_result"
    }
   ],
   "source": [
    "DSolve[ode6a, v[x], x]"
   ]
  },
  {
   "cell_type": "code",
   "execution_count": 56,
   "metadata": {},
   "outputs": [
    {
     "data": {
      "text/html": [
       "<div><img alt=\"Output\" src=\"data:image/png;base64,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\" width=\"265\"></div>"
      ]
     },
     "execution_count": 56,
     "metadata": {
      "text/html": []
     },
     "output_type": "execute_result"
    }
   ],
   "source": [
    "ode6b = {u'[x] == -u[x] + x u[x]^3, u[0]==1}"
   ]
  },
  {
   "cell_type": "code",
   "execution_count": 57,
   "metadata": {},
   "outputs": [
    {
     "data": {
      "text/html": [
       "<div><pre style=\"&#99;&#111;&#108;&#111;&#114;&#58;&#114;&#101;&#100;&#59;&#32;&#102;&#111;&#110;&#116;&#45;&#102;&#97;&#109;&#105;&#108;&#121;&#58;&#32;&#34;&#67;&#111;&#117;&#114;&#105;&#101;&#114;&#32;&#78;&#101;&#119;&#34;&#44;&#67;&#111;&#117;&#114;&#105;&#101;&#114;&#44;&#109;&#111;&#110;&#111;&#115;&#112;&#97;&#99;&#101;&#59;\">&#13;&#10;&#68;&#83;&#111;&#108;&#118;&#101;&#58;&#58;&#98;&#118;&#110;&#117;&#108;&#58;&#32;&#70;&#111;&#114;&#32;&#115;&#111;&#109;&#101;&#32;&#98;&#114;&#97;&#110;&#99;&#104;&#101;&#115;&#32;&#111;&#102;&#32;&#116;&#104;&#101;&#32;&#103;&#101;&#110;&#101;&#114;&#97;&#108;&#32;&#115;&#111;&#108;&#117;&#116;&#105;&#111;&#110;&#44;&#32;&#116;&#104;&#101;&#32;&#103;&#105;&#118;&#101;&#110;&#32;&#98;&#111;&#117;&#110;&#100;&#97;&#114;&#121;&#13;&#10;&#32;&#32;&#32;&#32;&#99;&#111;&#110;&#100;&#105;&#116;&#105;&#111;&#110;&#115;&#32;&#108;&#101;&#97;&#100;&#32;&#116;&#111;&#32;&#97;&#110;&#32;&#101;&#109;&#112;&#116;&#121;&#32;&#115;&#111;&#108;&#117;&#116;&#105;&#111;&#110;&#46;&#13;&#10;</pre><img alt=\"Output\" src=\"data:image/png;base64,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\" width=\"193\"></div>"
      ]
     },
     "execution_count": 57,
     "metadata": {
      "text/html": []
     },
     "output_type": "execute_result"
    }
   ],
   "source": [
    "DSolve[ode6b, u[x], x]"
   ]
  },
  {
   "cell_type": "code",
   "execution_count": 58,
   "metadata": {},
   "outputs": [
    {
     "data": {
      "text/html": [
       "<style>\n",
       "\t\t\t\t\t\t\t\t\t\t\t.grid-container {\n",
       "\t\t\t\t\t\t\t\t\t\t\t\tdisplay: inline-grid;\n",
       "\t\t\t\t\t\t\t\t\t\t\t\tgrid-template-columns: auto auto;\n",
       "\t\t\t\t\t\t\t\t\t\t\t}\n",
       "\t\t\t\t\t\t\t\t\t\t</style>\n",
       "\n",
       "\t\t\t\t\t\t\t\t\t\t<div><div class=\"grid-container\"><div class=\"grid-item\">\n",
       "\t\t\t\t\t\t\t\t\t\t\t\t\t<div class=\"prompt output_prompt\" style=\"text-align:left;padding:0em;padding-right:20px;line-height:20px;\">\n",
       "\t\t\t\t\t\t\t\t\t\t\t\t\t\tOut[58]:\n",
       "\t\t\t\t\t\t\t\t\t\t\t\t\t</div>\n",
       "\t\t\t\t\t\t\t\t\t\t\t\t</div>\n",
       "\t\t\t\t\t\t\t\t\t\t\t\t<div class=\"grid-item\"><img alt=\"Output\" src=\"data:image/png;base64,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\" width=\"134\"></div><div class=\"grid-item\">\n",
       "\t\t\t\t\t\t\t\t\t\t\t\t\t<div class=\"prompt output_prompt\" style=\"text-align:left;padding:0em;padding-right:20px;line-height:20px;\">\n",
       "\t\t\t\t\t\t\t\t\t\t\t\t\t\tOut[59]:\n",
       "\t\t\t\t\t\t\t\t\t\t\t\t\t</div>\n",
       "\t\t\t\t\t\t\t\t\t\t\t\t</div>\n",
       "\t\t\t\t\t\t\t\t\t\t\t\t<div class=\"grid-item\"><img alt=\"Output\" src=\"data:image/png;base64,iVBORw0KGgoAAAANSUhEUgAAAL4AAAAkCAIAAAC46xfvAAAAhXpUWHRSYXcgcHJvZmlsZSB0eXBlIGV4aWYAAHjaVYvBDcMwDAP/mqIjyLJM2uMYiQNkg45fuu0n9yApgbT1vi97felp2dgxABc5csRU6P6juNciDXn+X9MfZGWgoRhTluEkhnJXkqKFN+LCAahYcIbnIV8gNQN3o86928QyPusLVffpbh/5eCey76LuBgAAAAlwSFlzAAAZ1gAAGdYBGNHK7QAAADx0RVh0U29mdHdhcmUAQ3JlYXRlZCB3aXRoIHRoZSBXb2xmcmFtIExhbmd1YWdlIDogd3d3LndvbGZyYW0uY29tXKKmhQAAACF0RVh0Q3JlYXRpb24gVGltZQAyMDE5OjA4OjIwIDAzOjA5OjM4gIeblQAAAzNJREFUeJztnC12s0AUhu98a4GKnKwAVgA1n6qtAwkmrrIuBmRwtVUxhRXACnIiCnuZigESwgyFSQMD3EdCQph3Xub+MCeEUgoIMpx/U98AMlfQOogkaB1EErQOIglaB5EErYNIgtZBJEHrIJJ0WidxCcMMi9bJIjRJP3jfXhoLUqMeyi93KrZO4hL7FOSUUkpTT/vzO0QURfNSSiml8dbXiZuIP0gFxA4YpXF6kgcGAAA48ZBvLZUlqJEHRsf9dwWs7ROuNatGe9p2nB05TS6zp3oZbKYIt6tjdZa7apaXEgTkOk1TOcOYtxrTVVhFaBKi+9nVocgWCDOIxCWE2FHzYObrivqHMUM1prHO6eiaTKc6lFa5QfR+14iK0GQ6NRK18uKZr98/F3/PTNWYxjpZFGVsPAerPKR5H+WIPr+k1SrC12oKGkWh5qU0dgAAIls988xUjckClhHkNyW/9vzC1DrnktdM9qVU9RRcYe3YZERH5bwzTzUmso4TP6BVlBzZ4rzRuaereuH0rVrGM081RNZJjpHoRx9G1YviPSU9KL5PAFDmgDxuk0W1UUENfWOIlyWOdYrQJMSGRzwJyLzQvDQGW1CMtayTuLqfgRHs5MyuAL/1b9f1SNyrhrULDH4x1rKOdaCU0rezrnAThI+6ucwU/I0aRWjq5zd+3BTkOtYuAH+vSinCGX4Rvrditb65p56tW7nqVe9NRlGDkex9EMYfUZrc/fpiJKqbaBWoLKq2Pl7Vs/7r8BWzLGUBILLVXHDHVOOC+EWm2lu9rP8OADRbV4krrA4ujTRf56R2RWj2W1PkeykPZSI1RKhtnbpzBZHdKCqNIK969Q00L2V9Ul5Vyns2L79UzgsAKJsujadGHxS3DmheSm9kcWJKU08ThVTrcPUOqIER5B1tEusQO4JTyjCeGn0QFW2xM+tdSlJU3hm4x225dJpA9VVnTMrWPRgvz2vq/MjSZR1FI/5jSFxS7U/4WFXPsIPqZQYfoXX0jXFXS2AuVBvo6n0t62o2d1F8fWZdLzLFga5MrhYe+OvceOHjHEafue+wDiN2UNZ1kQdGrxknFP/VC5ECKyxEkh8KksA+juRo3wAAAABJRU5ErkJggg==\" width=\"95\"></div></div></div>"
      ]
     },
     "execution_count": 58,
     "metadata": {
      "text/html": []
     },
     "output_type": "execute_result"
    }
   ],
   "source": [
    "ux = Sqrt[2/(Exp[2x]+2x+1)]\n",
    "ode6b/.{u[x]->ux, u'[x]->D[ux, x], u[0]->(ux/.x->0)} // Simplify"
   ]
  },
  {
   "cell_type": "code",
   "execution_count": 60,
   "metadata": {},
   "outputs": [
    {
     "data": {
      "text/html": [
       "<style>\n",
       "\t\t\t\t\t\t\t\t\t\t\t.grid-container {\n",
       "\t\t\t\t\t\t\t\t\t\t\t\tdisplay: inline-grid;\n",
       "\t\t\t\t\t\t\t\t\t\t\t\tgrid-template-columns: auto auto;\n",
       "\t\t\t\t\t\t\t\t\t\t\t}\n",
       "\t\t\t\t\t\t\t\t\t\t</style>\n",
       "\n",
       "\t\t\t\t\t\t\t\t\t\t<div><div class=\"grid-container\"><div class=\"grid-item\">\n",
       "\t\t\t\t\t\t\t\t\t\t\t\t\t<div class=\"prompt output_prompt\" style=\"text-align:left;padding:0em;padding-right:20px;line-height:20px;\">\n",
       "\t\t\t\t\t\t\t\t\t\t\t\t\t\tOut[60]:\n",
       "\t\t\t\t\t\t\t\t\t\t\t\t\t</div>\n",
       "\t\t\t\t\t\t\t\t\t\t\t\t</div>\n",
       "\t\t\t\t\t\t\t\t\t\t\t\t<div class=\"grid-item\"><img alt=\"Output\" src=\"data:image/png;base64,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\" width=\"144\"></div><div class=\"grid-item\">\n",
       "\t\t\t\t\t\t\t\t\t\t\t\t\t<div class=\"prompt output_prompt\" style=\"text-align:left;padding:0em;padding-right:20px;line-height:20px;\">\n",
       "\t\t\t\t\t\t\t\t\t\t\t\t\t\tOut[61]:\n",
       "\t\t\t\t\t\t\t\t\t\t\t\t\t</div>\n",
       "\t\t\t\t\t\t\t\t\t\t\t\t</div>\n",
       "\t\t\t\t\t\t\t\t\t\t\t\t<div class=\"grid-item\"><img alt=\"Output\" src=\"data:image/png;base64,iVBORw0KGgoAAAANSUhEUgAAAM4AAAAkCAIAAABOopJ3AAAAhXpUWHRSYXcgcHJvZmlsZSB0eXBlIGV4aWYAAHjaVYvBDcMwDAP/mqIjyLJM2uMYiQNkg45fuu0n9yApgbT1vi97felp2dgxABc5csRU6P6juNciDXn+X9MfZGWgoRhTluEkhnJXkqKFN+LCAahYcIbnIV8gNQN3o86928QyPusLVffpbh/5eCey76LuBgAAAAlwSFlzAAAZ1gAAGdYBGNHK7QAAADx0RVh0U29mdHdhcmUAQ3JlYXRlZCB3aXRoIHRoZSBXb2xmcmFtIExhbmd1YWdlIDogd3d3LndvbGZyYW0uY29tXKKmhQAAACF0RVh0Q3JlYXRpb24gVGltZQAyMDE5OjA4OjIwIDAzOjA5OjM594CrAwAABBNJREFUeJztnDt2qzAQhsVdC6TwyQpgBZDmVrdNByU07lKmSwOl6dKmchNYAazAx0VgL9xCD4z1sHgJ2dFXmpf0azSaGenY6roOGAzr82frBhh+C8bUDIowpmZQhDE1gyKMqRkUYUzNoAhjandEGVk0Ubl1syQxpmZQhNDUyCzyspa62GYeY46xYD39kNyUZKYH8g9dTxEu1Oq5kF7fGGe+qZWRFZzSpuu6rqtie/EWGh4EO66g7T8njnAydRyKELjI0CRpUhcAAEBYjHnqkVCqAPZqGsndpK6gOaIF9PnJ+DLDCOynZ8FVxWkBiv6Imx1GN9feF19lemX0Kk6AcJ2s6RsvMgO8ZdNKxifEeqyi3nYZaJt5luUk9cVPebCEyGVkWVaQD3+sE0dDeyujawkQebBQaxkqAwCgHvwZvIp625ja6Rh5sP9kacdxTv4+q0dt5kGdBoEmenmdOPpVoeiIGEVhC7S2jJCVUREUO39dVz1eEFeEYwNOmaB40MMrkfHz/c/CN6JXsURhPqAgjF4uLZBorPwtsundfPWERrPZAuqmzVUJxX75B2fPuZn4zvIDecqDT1/091DJ/KidY6NxdnDUTz8zXHz7cxpz+9rqbWRqYbFCqa48Que/c5iXcX40a/ikyAMtStlk7iaOxKdXV49nauUx5310NXAtkDWrJMCTuE4cdq3+OtjVBFYKyswVRmPHn2hNJJpwbW4R9Zydy3d7DFNrM8+yArCG3/klcOIVWlBefrgYdlyREAwA0FvSOh7WjqsC8JJnytRg0uKm+2muRQNuBeXaTCGSH9KB+8A8ZoIXi0FOVicO2yDmqufvU5edrFKmBrd0384yy7teqIvFFqHN3uGSRCdIK4F36xuyqr72Y7yMem3mOec3dhTEidX8fQqSD11SNUb3yUBdgNK2+ut7ilokZFJUemvOyKP9e1HsZe24wqW7i2R/nnqQ8iMB3PWQlxaIt7MUgRtBlT/6pWdwO8m4Xsd7ZJTqAwDyQIlDx/UMRm2H3b0VuMz8ZqnXw9841/topP8Xzr486F1NGXGzIZJxsSORNvPkfNb0yt4IyGS+7Bx7X2giZcT20f2ewMChLqUeF174t+5ugfSrOfGxmzboChVR3zgyyP3y5XMjj09dN1a2d9ymumlB904mVRh8eYoSU9UjT2u4WyAJla3D7laxzVvi/QNvWNy0ERTt/IPyc63+gR7bsOi6roqXKGmyXg8AwAbMVGKqejJMMtAHBY/LRKdmuGuvphK0NbNBTvgrEJnanRSolqGMLHx+5lOXGu+9Id7f55qas3NnlVjuBXzglJzT0mYz4e5ov79q0cY5f+HlpXiPBYmbH7yf6yJjKwJTgxShGQaDiCZ1pSzE6sy/RhqUYDJQgyL+AwONPpn2HjfGAAAAAElFTkSuQmCC\" width=\"103\"></div></div></div>"
      ]
     },
     "execution_count": 60,
     "metadata": {
      "text/html": []
     },
     "output_type": "execute_result"
    }
   ],
   "source": [
    "ux = -Sqrt[2/(Exp[2x]+2x+1)]\n",
    "ode6b/.{u[x]->ux, u'[x]->D[ux, x], u[0]->(ux/.x->0)} // Simplify"
   ]
  },
  {
   "cell_type": "markdown",
   "metadata": {},
   "source": [
    "## 問題7\n",
    "\n",
    "$$\n",
    "\\psi'' + \\frac{x}{1+x}\\psi' - \\frac{1}{1+x}\\psi = 0.\n",
    "$$\n",
    "\n",
    "(1) 方程式をじっと眺めると $\\psi = e^{-x}, x$ が特殊解になっていることがわかる. ゆえに一般解は $\\psi = Ae^{-x}+Bx$.  $\\psi(0)=a$, $\\psi'(0)=b-a$ より, $\\psi=ae^{-x}+bx$.\n",
    "\n",
    "**別解1:** $\\psi=e^{-x}$ が特殊解になっているので, $\\psi = c(x)e^{-x}$ とおくと, $c''(x)=(1+1/(1+x))c'(x)$ なので $c'(x)=(1+x)e^x$ はそれを満たす. そして, それを $c(x)=xe^x$ が満たす. ゆえに $\\psi=c(x)e^{-x}=x$ も特殊解になっている. 以下は上と同様.\n",
    "\n",
    "**別解2:** $\\psi=x$ が特殊解になっているので $\\psi = c(x)x$ とおくと, \n",
    "\n",
    "$$\n",
    "c''(x) = \\left(-\\frac{2}{x} -1 + \\frac{1}{1+x}\\right)c'(x).\n",
    "$$\n",
    "\n",
    "ゆえに\n",
    "\n",
    "$$\n",
    "c'(x) = x^{-2}e^{-x}(1+x) = \\frac{e^{-x}}{x}+\\frac{e^{-x}}{x^2}\n",
    "$$\n",
    "\n",
    "はそれを満たす. 両辺を不定積分し, そのとき $e^{-x}/x^2$ の積分で $1/x^2=-(1/x)'$ を用いた部分積分を適用すると,\n",
    "\n",
    "$$\n",
    "c(x) = -\\frac{e^x}{x}\n",
    "$$\n",
    "\n",
    "が上を満たしてることがわかる. これより, $\\psi=c(x)x=-e^{-x}$ も特殊解である. 以下は上と同様."
   ]
  },
  {
   "cell_type": "code",
   "execution_count": 62,
   "metadata": {},
   "outputs": [
    {
     "data": {
      "text/html": [
       "<div><img alt=\"Output\" src=\"data:image/png;base64,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\" width=\"413\"></div>"
      ]
     },
     "execution_count": 62,
     "metadata": {
      "text/html": []
     },
     "output_type": "execute_result"
    }
   ],
   "source": [
    "ode7a = {f''[x] + x/(1+x) f'[x] - 1/(1+x) f[x] == 0, f[0] == a, f'[0] == b-a}"
   ]
  },
  {
   "cell_type": "code",
   "execution_count": 63,
   "metadata": {},
   "outputs": [
    {
     "data": {
      "text/html": [
       "<div><img alt=\"Output\" src=\"data:image/png;base64,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\" width=\"279\"></div>"
      ]
     },
     "execution_count": 63,
     "metadata": {
      "text/html": []
     },
     "output_type": "execute_result"
    }
   ],
   "source": [
    "DSolve[ode7a, f[x], x]"
   ]
  },
  {
   "cell_type": "markdown",
   "metadata": {},
   "source": [
    "(2) $u=\\psi'/\\psi$ とおくと(1)に帰着する. ゆえに\n",
    "\n",
    "$$\n",
    "u = \\frac{-ae^{-2x}+b}{ae^{-x}+bx}, \\quad (a,b)\\ne(0,0).\n",
    "$$"
   ]
  },
  {
   "cell_type": "code",
   "execution_count": 64,
   "metadata": {},
   "outputs": [
    {
     "data": {
      "text/html": [
       "<div><img alt=\"Output\" src=\"data:image/png;base64,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\" width=\"270\"></div>"
      ]
     },
     "execution_count": 64,
     "metadata": {
      "text/html": []
     },
     "output_type": "execute_result"
    }
   ],
   "source": [
    "ode7b = {u'[x] + u[x]^2 + x/(1+x) u[x] - 1/(1+x) == 0}"
   ]
  },
  {
   "cell_type": "code",
   "execution_count": 65,
   "metadata": {},
   "outputs": [
    {
     "data": {
      "text/html": [
       "<div><img alt=\"Output\" src=\"data:image/png;base64,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\" width=\"304\"></div>"
      ]
     },
     "execution_count": 65,
     "metadata": {
      "text/html": []
     },
     "output_type": "execute_result"
    }
   ],
   "source": [
    "DSolve[ode7b, u[x], x]"
   ]
  },
  {
   "cell_type": "markdown",
   "metadata": {},
   "source": [
    "## 問題8\n",
    "\n",
    "$y=xy'-y'^3/3$ の両辺を微分すると, $y'=y'+xy'' - y'^2y''$ すなわち $y''(x-y'^2)=0$.\n",
    "\n",
    "$y''=0$ のとき, 定数 $y'$ を $a$ と書くと, $y=ax-a^3/3$.\n",
    "\n",
    "$y'^2=x$ すなわち $y'=\\pm\\sqrt{x}$ のとき, $y=\\pm x^{3/2} \\mp x^{3/2}/3 = \\pm(2/3)x^{3/2}$."
   ]
  },
  {
   "cell_type": "code",
   "execution_count": 66,
   "metadata": {},
   "outputs": [
    {
     "data": {
      "text/html": [
       "<div><img alt=\"Output\" src=\"data:image/png;base64,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\" width=\"202\"></div>"
      ]
     },
     "execution_count": 66,
     "metadata": {
      "text/html": []
     },
     "output_type": "execute_result"
    }
   ],
   "source": [
    "ode8a = {y[x] == x y'[x] - 1/3 y'[x]^3}"
   ]
  },
  {
   "cell_type": "code",
   "execution_count": 67,
   "metadata": {},
   "outputs": [
    {
     "data": {
      "text/html": [
       "<div><img alt=\"Output\" src=\"data:image/png;base64,iVBORw0KGgoAAAANSUhEUgAAAGQAAAAkCAIAAADw2AhvAAAAhXpUWHRSYXcgcHJvZmlsZSB0eXBlIGV4aWYAAHjaVYvBDcMwDAP/mqIjyLJM2uMYiQNkg45fuu0n9yApgbT1vi97felp2dgxABc5csRU6P6juNciDXn+X9MfZGWgoRhTluEkhnJXkqKFN+LCAahYcIbnIV8gNQN3o86928QyPusLVffpbh/5eCey76LuBgAAAAlwSFlzAAAZ1gAAGdYBGNHK7QAAADx0RVh0U29mdHdhcmUAQ3JlYXRlZCB3aXRoIHRoZSBXb2xmcmFtIExhbmd1YWdlIDogd3d3LndvbGZyYW0uY29tXKKmhQAAACF0RVh0Q3JlYXRpb24gVGltZQAyMDE5OjA4OjIwIDAzOjA5OjQwwR2FYAAAAppJREFUaIHtmjF2ozAQhkd7FpTCzycQJ4Bttto2HZTQuEuZzg2Upts2lZvACeAEfi6C7jIpBKwxEkbICXIeX4kw1vwa/ZrBJogIK9P4tfQEHolVLA1WsTRYxdJgFUuDVSwNVrE0WMXSYFSsIiQCN+WDQZ66ZBqyT1tFF8qNmarFKkLin5IaERHLyLn7DC3CiUpERMy3MSVhob4RFeQBsEaqidQJAwCAINf5lF3UCRuZ/9g23D796HyS4TxtR0a/2eAbF+xSvW981zugHZXujOZRCpvp7PaevrncachTlxAaVxeXMl8hjBZFSAjxs/7FKqbmii0j1ukYukKnziBax8tejSLiqSt06hlu8/AqpkZrsYxYVZZVIp6D11xyon9NRG/vs9Xi6XO7BL0D3IlKzAMAgMw3kGuxbciS+qogcX7/FWqd65nPLPaNVN0SXODtxGJkx9lqLSRWkH9B6VYcxQbcUOlwe9KdPuZmrkqs4pipvvTLaGtDWV5MgH+cAKDxchnXpi+Dbpg69SRi8dQlxIevWHv7caIyB19xcA7EKkIaV8CS3bzltYBbHcStJPB2CZMfnAOxvAMi4suZWt/+XmPuSQAAPHXp+UXuBgrP8nYJxHvj+vBOSMLn6evAgejGuPaAYh+DclepDH68Sfom2kkMignhFYPb29ojfjbZFeqW2O6Xf96fAAD6pWQRKs+1/4VtTCUWzVPXrJ2yW6yukoTM7xUALKnb/qiHE5WiUpdVELJs1MJyscCJSrySJcgRy8hRGYV3uOg0e7Cknl3ECVQHbB489Fu8uYyGbXtmWcWYWGYFy0PStkxylGLRDTMqWB4S/v5WjbXE6u3bmKTmzxaPypRoR8QS5MHPF6xO2KQYCa7//JvMehpq8AnwULE8rJoP7wAAAABJRU5ErkJggg==\" width=\"50\"></div>"
      ]
     },
     "execution_count": 67,
     "metadata": {
      "text/html": []
     },
     "output_type": "execute_result"
    }
   ],
   "source": [
    "ode8a/.{y[x] -> a x - 1/3 a^3, y'[x] -> a}"
   ]
  },
  {
   "cell_type": "code",
   "execution_count": 68,
   "metadata": {},
   "outputs": [
    {
     "data": {
      "text/html": [
       "<div><img alt=\"Output\" src=\"data:image/png;base64,iVBORw0KGgoAAAANSUhEUgAAAGQAAAAkCAIAAADw2AhvAAAAhXpUWHRSYXcgcHJvZmlsZSB0eXBlIGV4aWYAAHjaVYvBDcMwDAP/mqIjyLJM2uMYiQNkg45fuu0n9yApgbT1vi97felp2dgxABc5csRU6P6juNciDXn+X9MfZGWgoRhTluEkhnJXkqKFN+LCAahYcIbnIV8gNQN3o86928QyPusLVffpbh/5eCey76LuBgAAAAlwSFlzAAAZ1gAAGdYBGNHK7QAAADx0RVh0U29mdHdhcmUAQ3JlYXRlZCB3aXRoIHRoZSBXb2xmcmFtIExhbmd1YWdlIDogd3d3LndvbGZyYW0uY29tXKKmhQAAACF0RVh0Q3JlYXRpb24gVGltZQAyMDE5OjA4OjIwIDAzOjA5OjQwwR2FYAAAAppJREFUaIHtmjF2ozAQhkd7FpTCzycQJ4Bttto2HZTQuEuZzg2Upts2lZvACeAEfi6C7jIpBKwxEkbICXIeX4kw1vwa/ZrBJogIK9P4tfQEHolVLA1WsTRYxdJgFUuDVSwNVrE0WMXSYFSsIiQCN+WDQZ66ZBqyT1tFF8qNmarFKkLin5IaERHLyLn7DC3CiUpERMy3MSVhob4RFeQBsEaqidQJAwCAINf5lF3UCRuZ/9g23D796HyS4TxtR0a/2eAbF+xSvW981zugHZXujOZRCpvp7PaevrncachTlxAaVxeXMl8hjBZFSAjxs/7FKqbmii0j1ukYukKnziBax8tejSLiqSt06hlu8/AqpkZrsYxYVZZVIp6D11xyon9NRG/vs9Xi6XO7BL0D3IlKzAMAgMw3kGuxbciS+qogcX7/FWqd65nPLPaNVN0SXODtxGJkx9lqLSRWkH9B6VYcxQbcUOlwe9KdPuZmrkqs4pipvvTLaGtDWV5MgH+cAKDxchnXpi+Dbpg69SRi8dQlxIevWHv7caIyB19xcA7EKkIaV8CS3bzltYBbHcStJPB2CZMfnAOxvAMi4suZWt/+XmPuSQAAPHXp+UXuBgrP8nYJxHvj+vBOSMLn6evAgejGuPaAYh+DclepDH68Sfom2kkMignhFYPb29ojfjbZFeqW2O6Xf96fAAD6pWQRKs+1/4VtTCUWzVPXrJ2yW6yukoTM7xUALKnb/qiHE5WiUpdVELJs1MJyscCJSrySJcgRy8hRGYV3uOg0e7Cknl3ECVQHbB489Fu8uYyGbXtmWcWYWGYFy0PStkxylGLRDTMqWB4S/v5WjbXE6u3bmKTmzxaPypRoR8QS5MHPF6xO2KQYCa7//JvMehpq8AnwULE8rJoP7wAAAABJRU5ErkJggg==\" width=\"50\"></div>"
      ]
     },
     "execution_count": 68,
     "metadata": {
      "text/html": []
     },
     "output_type": "execute_result"
    }
   ],
   "source": [
    "ode8a/.{y[x] -> 2/3 x^(3/2), y'[x] -> x^(1/2)}"
   ]
  },
  {
   "cell_type": "code",
   "execution_count": 69,
   "metadata": {},
   "outputs": [
    {
     "data": {
      "text/html": [
       "<div><img alt=\"Output\" src=\"data:image/png;base64,iVBORw0KGgoAAAANSUhEUgAAAGQAAAAkCAIAAADw2AhvAAAAhXpUWHRSYXcgcHJvZmlsZSB0eXBlIGV4aWYAAHjaVYvBDcMwDAP/mqIjyLJM2uMYiQNkg45fuu0n9yApgbT1vi97felp2dgxABc5csRU6P6juNciDXn+X9MfZGWgoRhTluEkhnJXkqKFN+LCAahYcIbnIV8gNQN3o86928QyPusLVffpbh/5eCey76LuBgAAAAlwSFlzAAAZ1gAAGdYBGNHK7QAAADx0RVh0U29mdHdhcmUAQ3JlYXRlZCB3aXRoIHRoZSBXb2xmcmFtIExhbmd1YWdlIDogd3d3LndvbGZyYW0uY29tXKKmhQAAACF0RVh0Q3JlYXRpb24gVGltZQAyMDE5OjA4OjIwIDAzOjA5OjQxthq19gAAAppJREFUaIHtmjF2ozAQhkd7FpTCzycQJ4Bttto2HZTQuEuZzg2Upts2lZvACeAEfi6C7jIpBKwxEkbICXIeX4kw1vwa/ZrBJogIK9P4tfQEHolVLA1WsTRYxdJgFUuDVSwNVrE0WMXSYFSsIiQCN+WDQZ66ZBqyT1tFF8qNmarFKkLin5IaERHLyLn7DC3CiUpERMy3MSVhob4RFeQBsEaqidQJAwCAINf5lF3UCRuZ/9g23D796HyS4TxtR0a/2eAbF+xSvW981zugHZXujOZRCpvp7PaevrncachTlxAaVxeXMl8hjBZFSAjxs/7FKqbmii0j1ukYukKnziBax8tejSLiqSt06hlu8/AqpkZrsYxYVZZVIp6D11xyon9NRG/vs9Xi6XO7BL0D3IlKzAMAgMw3kGuxbciS+qogcX7/FWqd65nPLPaNVN0SXODtxGJkx9lqLSRWkH9B6VYcxQbcUOlwe9KdPuZmrkqs4pipvvTLaGtDWV5MgH+cAKDxchnXpi+Dbpg69SRi8dQlxIevWHv7caIyB19xcA7EKkIaV8CS3bzltYBbHcStJPB2CZMfnAOxvAMi4suZWt/+XmPuSQAAPHXp+UXuBgrP8nYJxHvj+vBOSMLn6evAgejGuPaAYh+DclepDH68Sfom2kkMignhFYPb29ojfjbZFeqW2O6Xf96fAAD6pWQRKs+1/4VtTCUWzVPXrJ2yW6yukoTM7xUALKnb/qiHE5WiUpdVELJs1MJyscCJSrySJcgRy8hRGYV3uOg0e7Cknl3ECVQHbB489Fu8uYyGbXtmWcWYWGYFy0PStkxylGLRDTMqWB4S/v5WjbXE6u3bmKTmzxaPypRoR8QS5MHPF6xO2KQYCa7//JvMehpq8AnwULE8rJoP7wAAAABJRU5ErkJggg==\" width=\"50\"></div>"
      ]
     },
     "execution_count": 69,
     "metadata": {
      "text/html": []
     },
     "output_type": "execute_result"
    }
   ],
   "source": [
    "ode8a/.{y[x] -> -2/3 x^(3/2), y'[x] -> -x^(1/2)}"
   ]
  },
  {
   "cell_type": "markdown",
   "metadata": {},
   "source": [
    "## 問題9\n",
    "\n",
    "正しくは $t>\\pi/2$ ではなく, $t > -\\pi/4$.\n",
    "\n",
    "$v\\geqq 0$ のとき, $v'=-(1+v^2)$, $v(0)=1$ より, $v=-\\tan(t-\\pi/4)$.  これより, $t\\leqq \\pi/4$ のとき $v=-\\tan(t-\\pi/4)$ で, $v(\\pi/4)=0$.\n",
    "\n",
    "$v\\leqq 0$ のとき, $v'=-(1-v^2)$, $v(\\pi/4)=0$ より, $v=-\\tanh(t-\\pi/4)$.  これは $t\\geqq \\pi/4$ の場合である.\n",
    "\n",
    "以上をまとめると, \n",
    "\n",
    "$$\n",
    "v = \\begin{cases}\n",
    "-\\tan(t - \\pi/4) & (-\\pi/4<t\\leqq \\pi/4) \\\\\n",
    "-\\tanh(t - \\pi/4) & (t\\geqq \\pi/4) \\\\\n",
    "\\end{cases}\n",
    "$$"
   ]
  },
  {
   "cell_type": "code",
   "execution_count": 70,
   "metadata": {},
   "outputs": [
    {
     "data": {
      "text/html": [
       "<div><img alt=\"Output\" src=\"data:image/png;base64,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\" width=\"226\"></div>"
      ]
     },
     "execution_count": 70,
     "metadata": {
      "text/html": []
     },
     "output_type": "execute_result"
    }
   ],
   "source": [
    "ode9a = {v'[t] == -1-v[t]^2, v[0] == 1}"
   ]
  },
  {
   "cell_type": "code",
   "execution_count": 71,
   "metadata": {},
   "outputs": [
    {
     "data": {
      "text/html": [
       "<div><img alt=\"Output\" src=\"data:image/png;base64,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\" width=\"168\"></div>"
      ]
     },
     "execution_count": 71,
     "metadata": {
      "text/html": []
     },
     "output_type": "execute_result"
    }
   ],
   "source": [
    "DSolve[ode9a, v[t], t] // Simplify"
   ]
  },
  {
   "cell_type": "code",
   "execution_count": 72,
   "metadata": {},
   "outputs": [
    {
     "data": {
      "text/html": [
       "<div>$$&#48;$$</div>"
      ]
     },
     "execution_count": 72,
     "metadata": {
      "text/html": []
     },
     "output_type": "execute_result"
    }
   ],
   "source": [
    "Cot[Pi/4 + t] + Tan[t - Pi/4] // Simplify"
   ]
  },
  {
   "cell_type": "code",
   "execution_count": 73,
   "metadata": {},
   "outputs": [
    {
     "data": {
      "text/html": [
       "<div><img alt=\"Output\" src=\"data:image/png;base64,iVBORw0KGgoAAAANSUhEUgAAAL4AAAAkCAIAAAC46xfvAAAAhXpUWHRSYXcgcHJvZmlsZSB0eXBlIGV4aWYAAHjaVYvBDcMwDAP/mqIjyLJM2uMYiQNkg45fuu0n9yApgbT1vi97felp2dgxABc5csRU6P6juNciDXn+X9MfZGWgoRhTluEkhnJXkqKFN+LCAahYcIbnIV8gNQN3o86928QyPusLVffpbh/5eCey76LuBgAAAAlwSFlzAAAZ1gAAGdYBGNHK7QAAADx0RVh0U29mdHdhcmUAQ3JlYXRlZCB3aXRoIHRoZSBXb2xmcmFtIExhbmd1YWdlIDogd3d3LndvbGZyYW0uY29tXKKmhQAAACF0RVh0Q3JlYXRpb24gVGltZQAyMDE5OjA4OjIwIDAzOjA5OjQxthq19gAAAzNJREFUeJztnC12s0AUhu98a4GKnKwAVgA1n6qtAwkmrrIuBmRwtVUxhRXACnIiCnuZigESwgyFSQMD3EdCQph3Xub+MCeEUgoIMpx/U98AMlfQOogkaB1EErQOIglaB5EErYNIgtZBJEHrIJJ0WidxCcMMi9bJIjRJP3jfXhoLUqMeyi93KrZO4hL7FOSUUkpTT/vzO0QURfNSSiml8dbXiZuIP0gFxA4YpXF6kgcGAAA48ZBvLZUlqJEHRsf9dwWs7ROuNatGe9p2nB05TS6zp3oZbKYIt6tjdZa7apaXEgTkOk1TOcOYtxrTVVhFaBKi+9nVocgWCDOIxCWE2FHzYObrivqHMUM1prHO6eiaTKc6lFa5QfR+14iK0GQ6NRK18uKZr98/F3/PTNWYxjpZFGVsPAerPKR5H+WIPr+k1SrC12oKGkWh5qU0dgAAIls988xUjckClhHkNyW/9vzC1DrnktdM9qVU9RRcYe3YZERH5bwzTzUmso4TP6BVlBzZ4rzRuaereuH0rVrGM081RNZJjpHoRx9G1YviPSU9KL5PAFDmgDxuk0W1UUENfWOIlyWOdYrQJMSGRzwJyLzQvDQGW1CMtayTuLqfgRHs5MyuAL/1b9f1SNyrhrULDH4x1rKOdaCU0rezrnAThI+6ucwU/I0aRWjq5zd+3BTkOtYuAH+vSinCGX4Rvrditb65p56tW7nqVe9NRlGDkex9EMYfUZrc/fpiJKqbaBWoLKq2Pl7Vs/7r8BWzLGUBILLVXHDHVOOC+EWm2lu9rP8OADRbV4krrA4ujTRf56R2RWj2W1PkeykPZSI1RKhtnbpzBZHdKCqNIK969Q00L2V9Ul5Vyns2L79UzgsAKJsujadGHxS3DmheSm9kcWJKU08ThVTrcPUOqIER5B1tEusQO4JTyjCeGn0QFW2xM+tdSlJU3hm4x225dJpA9VVnTMrWPRgvz2vq/MjSZR1FI/5jSFxS7U/4WFXPsIPqZQYfoXX0jXFXS2AuVBvo6n0t62o2d1F8fWZdLzLFga5MrhYe+OvceOHjHEafue+wDiN2UNZ1kQdGrxknFP/VC5ECKyxEkh8KksA+juRo3wAAAABJRU5ErkJggg==\" width=\"95\"></div>"
      ]
     },
     "execution_count": 73,
     "metadata": {
      "text/html": []
     },
     "output_type": "execute_result"
    }
   ],
   "source": [
    "ode9a/.{v[t]->-Tan[t - Pi/4], v'[t]->D[-Tan[t - Pi/4], t], v[0]->-Tan[-Pi/4]} // Simplify"
   ]
  },
  {
   "cell_type": "code",
   "execution_count": 74,
   "metadata": {
    "scrolled": true
   },
   "outputs": [
    {
     "data": {
      "text/html": [
       "<div><img alt=\"Output\" src=\"data:image/png;base64,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\" width=\"232\"></div>"
      ]
     },
     "execution_count": 74,
     "metadata": {
      "text/html": []
     },
     "output_type": "execute_result"
    }
   ],
   "source": [
    "ode9b = {v'[t] == -1+v[t]^2, v[Pi/4] == 0}"
   ]
  },
  {
   "cell_type": "code",
   "execution_count": 75,
   "metadata": {},
   "outputs": [
    {
     "data": {
      "text/html": [
       "<div><img alt=\"Output\" src=\"data:image/png;base64,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\" width=\"162\"></div>"
      ]
     },
     "execution_count": 75,
     "metadata": {
      "text/html": []
     },
     "output_type": "execute_result"
    }
   ],
   "source": [
    "DSolve[ode9b, v[t], t]"
   ]
  },
  {
   "cell_type": "code",
   "execution_count": 76,
   "metadata": {},
   "outputs": [
    {
     "data": {
      "text/html": [
       "<div><img alt=\"Output\" src=\"data:image/png;base64,iVBORw0KGgoAAAANSUhEUgAAAL4AAAAkCAIAAAC46xfvAAAAhXpUWHRSYXcgcHJvZmlsZSB0eXBlIGV4aWYAAHjaVYvBDcMwDAP/mqIjyLJM2uMYiQNkg45fuu0n9yApgbT1vi97felp2dgxABc5csRU6P6juNciDXn+X9MfZGWgoRhTluEkhnJXkqKFN+LCAahYcIbnIV8gNQN3o86928QyPusLVffpbh/5eCey76LuBgAAAAlwSFlzAAAZ1gAAGdYBGNHK7QAAADx0RVh0U29mdHdhcmUAQ3JlYXRlZCB3aXRoIHRoZSBXb2xmcmFtIExhbmd1YWdlIDogd3d3LndvbGZyYW0uY29tXKKmhQAAACF0RVh0Q3JlYXRpb24gVGltZQAyMDE5OjA4OjIwIDAzOjA5OjQyLxPkTAAAAzNJREFUeJztnC12s0AUhu98a4GKnKwAVgA1n6qtAwkmrrIuBmRwtVUxhRXACnIiCnuZigESwgyFSQMD3EdCQph3Xub+MCeEUgoIMpx/U98AMlfQOogkaB1EErQOIglaB5EErYNIgtZBJEHrIJJ0WidxCcMMi9bJIjRJP3jfXhoLUqMeyi93KrZO4hL7FOSUUkpTT/vzO0QURfNSSiml8dbXiZuIP0gFxA4YpXF6kgcGAAA48ZBvLZUlqJEHRsf9dwWs7ROuNatGe9p2nB05TS6zp3oZbKYIt6tjdZa7apaXEgTkOk1TOcOYtxrTVVhFaBKi+9nVocgWCDOIxCWE2FHzYObrivqHMUM1prHO6eiaTKc6lFa5QfR+14iK0GQ6NRK18uKZr98/F3/PTNWYxjpZFGVsPAerPKR5H+WIPr+k1SrC12oKGkWh5qU0dgAAIls988xUjckClhHkNyW/9vzC1DrnktdM9qVU9RRcYe3YZERH5bwzTzUmso4TP6BVlBzZ4rzRuaereuH0rVrGM081RNZJjpHoRx9G1YviPSU9KL5PAFDmgDxuk0W1UUENfWOIlyWOdYrQJMSGRzwJyLzQvDQGW1CMtayTuLqfgRHs5MyuAL/1b9f1SNyrhrULDH4x1rKOdaCU0rezrnAThI+6ucwU/I0aRWjq5zd+3BTkOtYuAH+vSinCGX4Rvrditb65p56tW7nqVe9NRlGDkex9EMYfUZrc/fpiJKqbaBWoLKq2Pl7Vs/7r8BWzLGUBILLVXHDHVOOC+EWm2lu9rP8OADRbV4krrA4ujTRf56R2RWj2W1PkeykPZSI1RKhtnbpzBZHdKCqNIK969Q00L2V9Ul5Vyns2L79UzgsAKJsujadGHxS3DmheSm9kcWJKU08ThVTrcPUOqIER5B1tEusQO4JTyjCeGn0QFW2xM+tdSlJU3hm4x225dJpA9VVnTMrWPRgvz2vq/MjSZR1FI/5jSFxS7U/4WFXPsIPqZQYfoXX0jXFXS2AuVBvo6n0t62o2d1F8fWZdLzLFga5MrhYe+OvceOHjHEafue+wDiN2UNZ1kQdGrxknFP/VC5ECKyxEkh8KksA+juRo3wAAAABJRU5ErkJggg==\" width=\"95\"></div>"
      ]
     },
     "execution_count": 76,
     "metadata": {
      "text/html": []
     },
     "output_type": "execute_result"
    }
   ],
   "source": [
    "ode9b/.{v[t]->-Tanh[t - Pi/4], v'[t]->D[-Tanh[t - Pi/4], t], v[Pi/4]->-Tanh[Pi/4-Pi/4]} // Simplify"
   ]
  },
  {
   "cell_type": "code",
   "execution_count": null,
   "metadata": {},
   "outputs": [],
   "source": []
  }
 ],
 "metadata": {
  "@webio": {
   "lastCommId": null,
   "lastKernelId": null
  },
  "gist": {
   "data": {
    "description": "DifferentialEquations-pdf/Examples of differential equations.ipynb",
    "public": true
   },
   "id": ""
  },
  "kernelspec": {
   "display_name": "Wolfram Language 12",
   "language": "Wolfram Language",
   "name": "wolframlanguage12"
  },
  "language_info": {
   "codemirror_mode": "mathematica",
   "file_extension": ".m",
   "mimetype": "application/vnd.wolfram.m",
   "name": "Wolfram Language",
   "pygments_lexer": "python",
   "version": "12.0"
  },
  "toc": {
   "base_numbering": 1,
   "nav_menu": {},
   "number_sections": true,
   "sideBar": true,
   "skip_h1_title": true,
   "title_cell": "Table of Contents",
   "title_sidebar": "Contents",
   "toc_cell": false,
   "toc_position": {},
   "toc_section_display": true,
   "toc_window_display": false
  }
 },
 "nbformat": 4,
 "nbformat_minor": 2
}
