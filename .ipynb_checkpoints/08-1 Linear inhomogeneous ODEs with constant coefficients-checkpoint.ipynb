{
 "cells": [
  {
   "cell_type": "markdown",
   "metadata": {},
   "source": [
    "# 定数係数線形常微分方程式(非斉次)\n",
    "\n",
    "* Author: 黒木玄\n",
    "* Date: 2019-04-23～2019-05-30\n",
    "* Repository: https://github.com/genkuroki/DifferentialEquations\n",
    "$\n",
    "\\newcommand\\ds{\\displaystyle}\n",
    "\\newcommand\\Z{{\\mathbb Z}}\n",
    "\\newcommand\\R{{\\mathbb R}}\n",
    "\\newcommand\\C{{\\mathbb C}}\n",
    "\\newcommand\\eps{\\varepsilon}\n",
    "\\newcommand\\QED{\\text{□}}\n",
    "\\newcommand\\d{\\partial}\n",
    "\\newcommand\\real{\\operatorname{Re}}\n",
    "\\newcommand\\imag{\\operatorname{Im}}\n",
    "\\newcommand\\tr{\\operatorname{tr}}\n",
    "$\n",
    "\n",
    "このファイルは [nbviewer](https://nbviewer.jupyter.org/github/genkuroki/DifferentialEquations/blob/master/08-1%20Linear%20inhomogeneous%20ODEs%20with%20constant%20coefficients.ipynb) でも閲覧できる.\n",
    "\n",
    "[Julia言語](https://julialang.org/) と [Jupyter環境](https://jupyter.org/) の簡単な解説については次を参照せよ:\n",
    "\n",
    "* [JuliaとJupyterのすすめ](https://nbviewer.jupyter.org/github/genkuroki/msfd28/blob/master/msfd28genkuroki.ipynb?flush_cached=true)\n",
    "\n",
    "[Julia言語](https://julialang.org/) 環境の整備の仕方については次を参照せよ:\n",
    "\n",
    "* [Julia v1.1.0 の Windows 8.1 へのインストール](https://nbviewer.jupyter.org/github/genkuroki/msfd28/blob/master/install.ipynb)\n",
    "\n",
    "[Wolfram言語](http://www.wolfram.com/language/fast-introduction-for-programmers/ja/) 環境の整備の仕方については次を参照せよ:\n",
    "\n",
    "* [Free Wolfram EngineをJupyterで使う方法](https://nbviewer.jupyter.org/github/genkuroki/msfd28/blob/master/Free%20Wolfram%20Engine.ipynb)\n",
    "\n",
    "**注意:** このノートブックの出力結果は\n",
    "\n",
    "* https://gist.github.com/genkuroki/89466deb696fd09889f8d3aad296aef0\n",
    "\n",
    "においてある修正を [OutputHandlingUtilities.wl の toOutText 函数](https://github.com/WolframResearch/WolframLanguageForJupyter/blob/master/WolframLanguageForJupyter/Resources/OutputHandlingUtilities.wl#L123-L136) に施した場合にのみ得られる出力である. `<pre>`～`</pre>` で囲んである部分を `$$`～`$$` で囲むように修正している."
   ]
  },
  {
   "cell_type": "code",
   "execution_count": 1,
   "metadata": {},
   "outputs": [
    {
     "data": {
      "text/html": [
       "<style>\n",
       "\t\t\t\t\t\t\t\t\t\t\t.grid-container {\n",
       "\t\t\t\t\t\t\t\t\t\t\t\tdisplay: inline-grid;\n",
       "\t\t\t\t\t\t\t\t\t\t\t\tgrid-template-columns: auto auto;\n",
       "\t\t\t\t\t\t\t\t\t\t\t}\n",
       "\t\t\t\t\t\t\t\t\t\t</style>\n",
       "\n",
       "\t\t\t\t\t\t\t\t\t\t<div><div class=\"grid-container\"><div class=\"grid-item\">\n",
       "\t\t\t\t\t\t\t\t\t\t\t\t\t<div class=\"prompt output_prompt\" style=\"text-align:left;padding:0em;padding-right:20px;line-height:20px;\">\n",
       "\t\t\t\t\t\t\t\t\t\t\t\t\t\tOut[2]:\n",
       "\t\t\t\t\t\t\t\t\t\t\t\t\t</div>\n",
       "\t\t\t\t\t\t\t\t\t\t\t\t</div>\n",
       "\t\t\t\t\t\t\t\t\t\t\t\t<div class=\"grid-item\">$$&#84;&#101;&#88;$$</div><div class=\"grid-item\">\n",
       "\t\t\t\t\t\t\t\t\t\t\t\t\t<div class=\"prompt output_prompt\" style=\"text-align:left;padding:0em;padding-right:20px;line-height:20px;\">\n",
       "\t\t\t\t\t\t\t\t\t\t\t\t\t\tOut[3]:\n",
       "\t\t\t\t\t\t\t\t\t\t\t\t\t</div>\n",
       "\t\t\t\t\t\t\t\t\t\t\t\t</div>\n",
       "\t\t\t\t\t\t\t\t\t\t\t\t<div class=\"grid-item\">$$&#55;&#50;$$</div></div></div>"
      ]
     },
     "execution_count": 2,
     "metadata": {
      "text/html": []
     },
     "output_type": "execute_result"
    }
   ],
   "source": [
    "TeX[expr_] := ToString[TeXForm[expr]]\n",
    "JupyterOutTextForm = \"TeX\"\n",
    "JupyterImageResolution = 72"
   ]
  },
  {
   "cell_type": "markdown",
   "metadata": {
    "toc": true
   },
   "source": [
    "<h1>目次<span class=\"tocSkip\"></span></h1>\n",
    "<div class=\"toc\"><ul class=\"toc-item\"><li><span><a href=\"#非斉次の定数係数線形常微分方程式\" data-toc-modified-id=\"非斉次の定数係数線形常微分方程式-1\"><span class=\"toc-item-num\">1&nbsp;&nbsp;</span>非斉次の定数係数線形常微分方程式</a></span><ul class=\"toc-item\"><li><span><a href=\"#斉次な場合の一般解\" data-toc-modified-id=\"斉次な場合の一般解-1.1\"><span class=\"toc-item-num\">1.1&nbsp;&nbsp;</span>斉次な場合の一般解</a></span><ul class=\"toc-item\"><li><span><a href=\"#例:-斉次調和振動子\" data-toc-modified-id=\"例:-斉次調和振動子-1.1.1\"><span class=\"toc-item-num\">1.1.1&nbsp;&nbsp;</span>例: 斉次調和振動子</a></span></li></ul></li><li><span><a href=\"#非斉次な場合の一般解\" data-toc-modified-id=\"非斉次な場合の一般解-1.2\"><span class=\"toc-item-num\">1.2&nbsp;&nbsp;</span>非斉次な場合の一般解</a></span><ul class=\"toc-item\"><li><span><a href=\"#非斉次な調和振動子\" data-toc-modified-id=\"非斉次な調和振動子-1.2.1\"><span class=\"toc-item-num\">1.2.1&nbsp;&nbsp;</span>非斉次な調和振動子</a></span></li><li><span><a href=\"#共振\" data-toc-modified-id=\"共振-1.2.2\"><span class=\"toc-item-num\">1.2.2&nbsp;&nbsp;</span>共振</a></span></li><li><span><a href=\"#共振再論\" data-toc-modified-id=\"共振再論-1.2.3\"><span class=\"toc-item-num\">1.2.3&nbsp;&nbsp;</span>共振再論</a></span></li></ul></li></ul></li><li><span><a href=\"#非斉次な波動方程式-(より高級な話題)\" data-toc-modified-id=\"非斉次な波動方程式-(より高級な話題)-2\"><span class=\"toc-item-num\">2&nbsp;&nbsp;</span>非斉次な波動方程式 (より高級な話題)</a></span><ul class=\"toc-item\"><li><span><a href=\"#解の表示\" data-toc-modified-id=\"解の表示-2.1\"><span class=\"toc-item-num\">2.1&nbsp;&nbsp;</span>解の表示</a></span></li><li><span><a href=\"#Fourier変換に関する公式\" data-toc-modified-id=\"Fourier変換に関する公式-2.2\"><span class=\"toc-item-num\">2.2&nbsp;&nbsp;</span>Fourier変換に関する公式</a></span></li><li><span><a href=\"#非斉次な波動方程式のFourier変換による解法\" data-toc-modified-id=\"非斉次な波動方程式のFourier変換による解法-2.3\"><span class=\"toc-item-num\">2.3&nbsp;&nbsp;</span>非斉次な波動方程式のFourier変換による解法</a></span></li></ul></li></ul></div>"
   ]
  },
  {
   "cell_type": "markdown",
   "metadata": {},
   "source": [
    "## 非斉次の定数係数線形常微分方程式\n",
    "\n",
    "斉次の定数係数線形常微分方程式とは, 定数 $p_1,p_2,\\ldots,p_n$ に関する\n",
    "\n",
    "$$\n",
    "u^{(n)}(x) + p_{n-1}u^{(n-1)}(x) + \\cdots + p_1 u'(x) + p_0 u(x) = 0\n",
    "\\tag{$*$}\n",
    "$$\n",
    "\n",
    "の形の微分方程式のことである. \n",
    "\n",
    "非斉次の定数係数線形常微分方程式とは, 定数 $p_1,p_2,\\ldots,p_n$ と任意函数 $f(x)$ に関する\n",
    "\n",
    "$$\n",
    "u^{(n)}(x) + p_{n-1}u^{(n-1)}(x) + \\cdots + p_1 u'(x) + p_0 u(x) = f(x)\n",
    "\\tag{$**$}\n",
    "$$\n",
    "\n",
    "の形の微分方程式のことである. 右辺が $0$ ではなく $f(x)$ であることが斉次の場合と異なる. この微分方程式は\n",
    "\n",
    "$$\n",
    "w(x) = \\begin{bmatrix}\n",
    "u_0(x) \\\\ u_1(x) \\\\ \\vdots \\\\ u_{n-2}(x) \\\\ u_{n-1}(x) \\\\\n",
    "\\end{bmatrix} =\n",
    "\\begin{bmatrix}\n",
    "u(x) \\\\ u'(x) \\\\ \\vdots \\\\ u^{(n-2)}(x) \\\\ u^{(n-1)}(x) \\\\\n",
    "\\end{bmatrix}, \\qquad\n",
    "b(x) = \\begin{bmatrix}\n",
    "0 \\\\ 0 \\\\ \\vdots \\\\ 0 \\\\ f(x) \\\\\n",
    "\\end{bmatrix}\n",
    "$$\n",
    "\n",
    "とおけば\n",
    "\n",
    "$$\n",
    "u_0' = u_1,\\; \\ldots,\\; u_{n-2}' = u_{n-1},\\;\n",
    "u_{n-1}' = u^{(n)} = -p_{n-1}u_{n-1}-\\cdots-p_1 u_1 - p_0 u_0 \n",
    "$$\n",
    "\n",
    "なので次のように書き直される:\n",
    "\n",
    "$$\n",
    "\\frac{dw(x)}{dx} = Au(x) + b(x).\n",
    "\\tag{$**'$}\n",
    "$$\n",
    "\n",
    "ここで\n",
    "\n",
    "$$\n",
    "A = \\begin{bmatrix}\n",
    "0   & 1  & & & \\\\\n",
    "    & 0  & \\ddots & & \\\\ \n",
    "    &    & \\ddots & 1 & \\\\\n",
    "-p_0&-p_1& \\cdots & -p_{n-2} & -p_{n-1} \\\\\n",
    "\\end{bmatrix}\n",
    "$$\n",
    "\n",
    "とおいた. \n",
    "\n",
    "斉次な定数係数線形常微分方程式 ($*$) は\n",
    "\n",
    "$$\n",
    "\\frac{dw(x)}{dx} = Au(x).\n",
    "\\tag{$*'$}\n",
    "$$\n",
    "\n",
    "と書き直される.  ゆえに方程式 ($*$) と ($**$) の取り扱いは, ($*'$) や ($**'$) の形の微分方程式の取り扱いに帰着される."
   ]
  },
  {
   "cell_type": "markdown",
   "metadata": {},
   "source": [
    "### 斉次な場合の一般解\n",
    "\n",
    "$A$ は定数を成分とする $n\\times n$ 行列であるとし, $w(x)$ は $x$ の函数を成分とする $n$ 次元縦ベクトルであるとし, $c$ は定数を成分とする $n$ 次元縦ベクトルであるとする.\n",
    "\n",
    "$w(x)$ に関する線形微分方程式の初期値問題\n",
    "\n",
    "$$\n",
    "\\frac{dw(x)}{dx} = Aw(x), \\quad w(0) = c\n",
    "$$\n",
    "\n",
    "の解は次の形に表わされるのであった:\n",
    "\n",
    "$$\n",
    "w(x) = e^{xA}c.\n",
    "$$"
   ]
  },
  {
   "cell_type": "markdown",
   "metadata": {},
   "source": [
    "#### 例: 斉次調和振動子\n",
    "\n",
    "$\\omega \\ne 0$ であるとし, $a,b$ は与えられた定数であるとする.\n",
    "\n",
    "微分方程式の初期値問題\n",
    "\n",
    "$$\n",
    "\\ddot u(t) = -\\omega^2 u(t), \\quad u(0) = a, \\quad \\dot u(0) = b\n",
    "$$\n",
    "\n",
    "は $w(t) = \\begin{bmatrix}u(t) \\\\ \\dot u(t)\\end{bmatrix}$, $c=\\begin{bmatrix} a \\\\ b \\end{bmatrix}$, $A=\\begin{bmatrix}\n",
    "0 & 1 \\\\\n",
    "-\\omega^2 & 0 \\\\\n",
    "\\end{bmatrix}$ とおくと, \n",
    "\n",
    "$$\n",
    "\\frac{dw(t)}{dt}=Aw(t), \\quad w(0) = c\n",
    "$$\n",
    "\n",
    "の形に書き直される. このとき, $2\\times 2$ の単位行列を $E$ と書くと, \n",
    "\n",
    "$$\n",
    "A^{2k} = (-\\omega^2)^k E, \\quad A^{2k+1} = (-\\omega^2)^k A\n",
    "$$\n",
    "\n",
    "が成立するので, \n",
    "\n",
    "$$\n",
    "\\begin{aligned}\n",
    "e^{tA} &=\n",
    "\\sum_{k=0}^\\infty \\frac{t^{2k}}{(2k)!}(-\\omega^2)^k E +\n",
    "\\sum_{k=0}^\\infty \\frac{t^{2k+1}}{(2k)!}(-\\omega^2)^k A \n",
    "\\\\ &=\n",
    "\\begin{bmatrix}\n",
    "\\cos(\\omega t) & \\sin(\\omega t)/\\omega \\\\\n",
    "-\\omega\\sin(\\omega t) & \\cos(\\omega t) \\\\\n",
    "\\end{bmatrix}.\n",
    "\\end{aligned}\n",
    "$$\n",
    "\n",
    "ゆえに, $\\dot w(t)=Aw(t)$, $w(0) = c$ の解は\n",
    "\n",
    "$$\n",
    "\\begin{aligned}\n",
    "w(t) = \\begin{bmatrix}\n",
    "u(t) \\\\ \\dot u(t)\n",
    "\\end{bmatrix} &=\n",
    "\\begin{bmatrix}\n",
    "\\cos(\\omega t) & \\sin(\\omega t)/\\omega \\\\\n",
    "-\\omega\\sin(\\omega t) & \\cos(\\omega t) \\\\\n",
    "\\end{bmatrix}\n",
    "\\begin{bmatrix}\n",
    "a \\\\\n",
    "b \\\\\n",
    "\\end{bmatrix}\n",
    "\\\\ &=\n",
    "\\begin{bmatrix}\n",
    "a\\cos(\\omega t) + b\\sin(\\omega t)/\\omega \\\\\n",
    "-a\\omega\\sin(\\omega t) + b\\cos(\\omega t) \\\\\n",
    "\\end{bmatrix}\n",
    "\\end{aligned}\n",
    "$$\n",
    "\n",
    "と表わされる. 特に\n",
    "\n",
    "$$\n",
    "u(t) = a\\cos(\\omega t) + b\\frac{\\sin(\\omega t)}{\\omega}\n",
    "$$\n",
    "\n",
    "である. $\\QED$"
   ]
  },
  {
   "cell_type": "code",
   "execution_count": 4,
   "metadata": {},
   "outputs": [
    {
     "data": {
      "text/html": [
       "<style>\n",
       "\t\t\t\t\t\t\t\t\t\t\t.grid-container {\n",
       "\t\t\t\t\t\t\t\t\t\t\t\tdisplay: inline-grid;\n",
       "\t\t\t\t\t\t\t\t\t\t\t\tgrid-template-columns: auto auto;\n",
       "\t\t\t\t\t\t\t\t\t\t\t}\n",
       "\t\t\t\t\t\t\t\t\t\t</style>\n",
       "\n",
       "\t\t\t\t\t\t\t\t\t\t<div><div class=\"grid-container\"><div class=\"grid-item\">\n",
       "\t\t\t\t\t\t\t\t\t\t\t\t\t<div class=\"prompt output_prompt\" style=\"text-align:left;padding:0em;padding-right:20px;line-height:20px;\">\n",
       "\t\t\t\t\t\t\t\t\t\t\t\t\t\tOut[5]:\n",
       "\t\t\t\t\t\t\t\t\t\t\t\t\t</div>\n",
       "\t\t\t\t\t\t\t\t\t\t\t\t</div>\n",
       "\t\t\t\t\t\t\t\t\t\t\t\t<div class=\"grid-item\">$$&#97;&#32;&#92;&#99;&#111;&#115;&#32;&#40;&#92;&#111;&#109;&#101;&#103;&#97;&#32;&#32;&#116;&#41;&#43;&#92;&#102;&#114;&#97;&#99;&#123;&#98;&#32;&#92;&#115;&#105;&#110;&#32;&#40;&#92;&#111;&#109;&#101;&#103;&#97;&#32;&#32;&#116;&#41;&#125;&#123;&#92;&#111;&#109;&#101;&#103;&#97;&#32;&#125;$$</div><div class=\"grid-item\">\n",
       "\t\t\t\t\t\t\t\t\t\t\t\t\t<div class=\"prompt output_prompt\" style=\"text-align:left;padding:0em;padding-right:20px;line-height:20px;\">\n",
       "\t\t\t\t\t\t\t\t\t\t\t\t\t\tOut[6]:\n",
       "\t\t\t\t\t\t\t\t\t\t\t\t\t</div>\n",
       "\t\t\t\t\t\t\t\t\t\t\t\t</div>\n",
       "\t\t\t\t\t\t\t\t\t\t\t\t<div class=\"grid-item\">$$&#97;$$</div><div class=\"grid-item\">\n",
       "\t\t\t\t\t\t\t\t\t\t\t\t\t<div class=\"prompt output_prompt\" style=\"text-align:left;padding:0em;padding-right:20px;line-height:20px;\">\n",
       "\t\t\t\t\t\t\t\t\t\t\t\t\t\tOut[7]:\n",
       "\t\t\t\t\t\t\t\t\t\t\t\t\t</div>\n",
       "\t\t\t\t\t\t\t\t\t\t\t\t</div>\n",
       "\t\t\t\t\t\t\t\t\t\t\t\t<div class=\"grid-item\">$$&#98;$$</div><div class=\"grid-item\">\n",
       "\t\t\t\t\t\t\t\t\t\t\t\t\t<div class=\"prompt output_prompt\" style=\"text-align:left;padding:0em;padding-right:20px;line-height:20px;\">\n",
       "\t\t\t\t\t\t\t\t\t\t\t\t\t\tOut[8]:\n",
       "\t\t\t\t\t\t\t\t\t\t\t\t\t</div>\n",
       "\t\t\t\t\t\t\t\t\t\t\t\t</div>\n",
       "\t\t\t\t\t\t\t\t\t\t\t\t<div class=\"grid-item\">$$&#48;$$</div></div></div>"
      ]
     },
     "execution_count": 5,
     "metadata": {
      "text/html": []
     },
     "output_type": "execute_result"
    }
   ],
   "source": [
    "Clear[a,b,omega,t]\n",
    "(u = a Cos[omega t] + b Sin[omega t]/omega) // TeX\n",
    "u/.t->0\n",
    "D[u,t]/.t->0\n",
    "Simplify[D[u,t,t] + omega^2 u]"
   ]
  },
  {
   "cell_type": "markdown",
   "metadata": {},
   "source": [
    "### 非斉次な場合の一般解\n",
    "\n",
    "$b(x)$ は与えられた函数を成分とする $n$ 次元縦ベクトルであるとし, 非斉次な定数係数線形微分方程式の初期値問題\n",
    "\n",
    "$$\n",
    "\\frac{dw(x)}{dx} = Aw(x) + b(x), \\quad w(0) = c\n",
    "$$\n",
    "\n",
    "について考える. これは所謂**定数変化法**で解くことができる. 斉次の場合すなわち $b(x)=0$ の場合の解は\n",
    "\n",
    "$$\n",
    "w(x) = e^{xA}c\n",
    "$$\n",
    "\n",
    "と書けるのであった. 非斉次の場合については, 定数を成分とするベクトル $c$ を函数を成分とするベクトル $c(x)$ に置き換えた\n",
    "\n",
    "$$\n",
    "w(x) = e^{xA}c(x)\n",
    "$$\n",
    "\n",
    "の形の解を探してみよう. 定数 $c$ を変化する $c(x)$ に置き換えるので, この方法は**定数変化法**と呼ばれている.\n",
    "\n",
    "$w(x)=e^{xA}c(x)$ を $w'(x)=Aw(x)+b(x)$ に代入すると,\n",
    "\n",
    "$$\n",
    "w'(x)=Ae^{xA}c(x) + e^{xA}c'(x) = Aw(x)+e^{xA}c'(x) = Aw(x) + b(x)\n",
    "$$\n",
    "\n",
    "なので, $c(x)$ が $e^{xA}c'(x)=b(x)$, $c(0)=c$ を満たしていれば, $w(x)$ は $w'(x)=Aw(x)+b(x)$, $w(0)=c$ を満たす. $c(x)$ に関する方程式 $e^{xA}c'(x)=b(x)$, $c(0)=c$ は $c'(x) = e^{-xA}b(x)$, $c(0)=x$ と同値であり, \n",
    "\n",
    "$$\n",
    "c(x) = c + \\int_0^x e^{-yA}b(y)\\,dy\n",
    "$$\n",
    "\n",
    "と解ける.  これを $w(x)=e^{xA}c(t)$ に代入すると\n",
    "\n",
    "$$\n",
    "w(x) = e^{xA}c + \\int_0^x e^{(x-y)A}b(y)\\,dy.\n",
    "$$\n",
    "\n",
    "これが $w'(x)=Aw(x)+b(x)$, $w(0)=c$ を満たしていることは直接的に確認できる. ただし, 一般に $F(x,z)$ について\n",
    "\n",
    "$$\n",
    "\\frac{d}{dx}F(x,x) = F_x(x,x) + F_z(x,z)\n",
    "$$\n",
    "\n",
    "が成立することを, $F(x,z)=\\int_0^z e^{(x-y)A}b(y)\\,dy$ に適用すると\n",
    "\n",
    "$$\n",
    "\\frac{d}{dx} \\int_0^x e^{(x-y)A}b(y)\\,dy = \n",
    "A \\int_0^x e^{(x-y)A}b(y)\\,dy + b(x)\n",
    "$$\n",
    "\n",
    "が得られることに注意せよ.\n",
    "\n",
    "これで解きたい非斉次な定数係数線形微分方程式を解くことができた."
   ]
  },
  {
   "cell_type": "markdown",
   "metadata": {},
   "source": [
    "#### 非斉次な調和振動子\n",
    "\n",
    "$\\omega \\ne 0$ であるとし, $a,b$ は与えられた定数であるとし, $f(t)$ は与えられた函数であるとする.\n",
    "\n",
    "微分方程式の初期値問題\n",
    "\n",
    "$$\n",
    "\\ddot u(t) = -\\omega^2 u(t) + f(t), \\quad u(0) = a, \\quad \\dot u(0) = b\n",
    "$$\n",
    "\n",
    "は $w(t) = \\begin{bmatrix}u(t) \\\\ \\dot u(t)\\end{bmatrix}$, $c=\\begin{bmatrix} a \\\\ b \\end{bmatrix}$, $g(t)=\\begin{bmatrix} 0 \\\\ f(t)\\end{bmatrix}$, $A=\\begin{bmatrix}\n",
    "0 & 1 \\\\\n",
    "-\\omega^2 & 0 \\\\\n",
    "\\end{bmatrix}$ とおくと, \n",
    "\n",
    "$$\n",
    "\\frac{dw(t)}{dt}=Aw(t) + g(t), \\quad w(0) = c\n",
    "$$\n",
    "\n",
    "の形に書き直される. このとき, \n",
    "\n",
    "$$\n",
    "A^{2k} =\n",
    "\\begin{bmatrix}\n",
    "(-\\omega^2)^k & 0 \\\\\n",
    "0 & (-\\omega^2)^k \\\\\n",
    "\\end{bmatrix},\n",
    "\\quad\n",
    "A^{2k+1} =\n",
    "\\begin{bmatrix}\n",
    "0 & (-\\omega^2)^k \\\\\n",
    "(-\\omega^2)^{k+1} & 0 \\\\\n",
    "\\end{bmatrix}\n",
    "$$\n",
    "\n",
    "なので\n",
    "\n",
    "$$\n",
    "e^{tA} =\n",
    "\\begin{bmatrix}\n",
    "  \\sum_{k=0}^\\infty (-1)^k\\frac{(\\omega t)^{2k}}{(2k)!} \n",
    "& \\frac{1}{\\omega}\\sum_{k=0}^\\infty (-1)^k\\frac{(\\omega t)^{2k+1}}{(2k+1)!}\n",
    "\\\\         -\\omega\\sum_{k=0}^\\infty (-1)^k\\frac{(\\omega t)^{2k+1}}{(2k+1)!}\n",
    "& \\sum_{k=0}^\\infty (-1)^k\\frac{(\\omega t)^{2k}}{(2k)!} \\\\\n",
    "\\end{bmatrix} =\n",
    "\\begin{bmatrix}\n",
    "\\cos(\\omega t) & \\sin(\\omega t)/\\omega \\\\\n",
    "-\\omega\\sin(\\omega t) & \\cos(\\omega t) \\\\\n",
    "\\end{bmatrix}\n",
    "$$\n",
    "\n",
    "となるのであった. "
   ]
  },
  {
   "cell_type": "code",
   "execution_count": 9,
   "metadata": {},
   "outputs": [
    {
     "data": {
      "text/html": [
       "<style>\n",
       "\t\t\t\t\t\t\t\t\t\t\t.grid-container {\n",
       "\t\t\t\t\t\t\t\t\t\t\t\tdisplay: inline-grid;\n",
       "\t\t\t\t\t\t\t\t\t\t\t\tgrid-template-columns: auto auto;\n",
       "\t\t\t\t\t\t\t\t\t\t\t}\n",
       "\t\t\t\t\t\t\t\t\t\t</style>\n",
       "\n",
       "\t\t\t\t\t\t\t\t\t\t<div><div class=\"grid-container\"><div class=\"grid-item\">\n",
       "\t\t\t\t\t\t\t\t\t\t\t\t\t<div class=\"prompt output_prompt\" style=\"text-align:left;padding:0em;padding-right:20px;line-height:20px;\">\n",
       "\t\t\t\t\t\t\t\t\t\t\t\t\t\tOut[10]:\n",
       "\t\t\t\t\t\t\t\t\t\t\t\t\t</div>\n",
       "\t\t\t\t\t\t\t\t\t\t\t\t</div>\n",
       "\t\t\t\t\t\t\t\t\t\t\t\t<div class=\"grid-item\">$$&#92;&#108;&#101;&#102;&#116;&#40;&#10;&#92;&#98;&#101;&#103;&#105;&#110;&#123;&#97;&#114;&#114;&#97;&#121;&#125;&#123;&#99;&#99;&#125;&#10;&#32;&#48;&#32;&#38;&#32;&#49;&#32;&#92;&#92;&#10;&#32;&#45;&#92;&#111;&#109;&#101;&#103;&#97;&#32;&#94;&#50;&#32;&#38;&#32;&#48;&#32;&#92;&#92;&#10;&#92;&#101;&#110;&#100;&#123;&#97;&#114;&#114;&#97;&#121;&#125;&#10;&#92;&#114;&#105;&#103;&#104;&#116;&#41;$$</div><div class=\"grid-item\">\n",
       "\t\t\t\t\t\t\t\t\t\t\t\t\t<div class=\"prompt output_prompt\" style=\"text-align:left;padding:0em;padding-right:20px;line-height:20px;\">\n",
       "\t\t\t\t\t\t\t\t\t\t\t\t\t\tOut[11]:\n",
       "\t\t\t\t\t\t\t\t\t\t\t\t\t</div>\n",
       "\t\t\t\t\t\t\t\t\t\t\t\t</div>\n",
       "\t\t\t\t\t\t\t\t\t\t\t\t<div class=\"grid-item\">$$&#92;&#108;&#101;&#102;&#116;&#40;&#10;&#92;&#98;&#101;&#103;&#105;&#110;&#123;&#97;&#114;&#114;&#97;&#121;&#125;&#123;&#99;&#99;&#125;&#10;&#32;&#92;&#99;&#111;&#115;&#32;&#40;&#92;&#111;&#109;&#101;&#103;&#97;&#32;&#32;&#116;&#41;&#32;&#38;&#32;&#92;&#102;&#114;&#97;&#99;&#123;&#92;&#115;&#105;&#110;&#32;&#40;&#92;&#111;&#109;&#101;&#103;&#97;&#32;&#32;&#116;&#41;&#125;&#123;&#92;&#111;&#109;&#101;&#103;&#97;&#32;&#125;&#32;&#92;&#92;&#10;&#32;&#45;&#92;&#111;&#109;&#101;&#103;&#97;&#32;&#32;&#92;&#115;&#105;&#110;&#32;&#40;&#92;&#111;&#109;&#101;&#103;&#97;&#32;&#32;&#116;&#41;&#32;&#38;&#32;&#92;&#99;&#111;&#115;&#32;&#40;&#92;&#111;&#109;&#101;&#103;&#97;&#32;&#32;&#116;&#41;&#32;&#92;&#92;&#10;&#92;&#101;&#110;&#100;&#123;&#97;&#114;&#114;&#97;&#121;&#125;&#10;&#92;&#114;&#105;&#103;&#104;&#116;&#41;$$</div></div></div>"
      ]
     },
     "execution_count": 10,
     "metadata": {
      "text/html": []
     },
     "output_type": "execute_result"
    }
   ],
   "source": [
    "Clear[omega, t]\n",
    "(A = {{0, 1}, {-omega^2, 0}}) // TeX\n",
    "MatrixExp[t A] // ExpToTrig // TeX"
   ]
  },
  {
   "cell_type": "markdown",
   "metadata": {},
   "source": [
    "$w(t)=e^{tA}c(t)$ の形で解を探してみよう. \n",
    "\n",
    "$$\n",
    "\\dot w(t) = Ae^{tA}c(t) + e^{tA}\\dot c(t) = Aw(t) + e^{tA}\\dot c(t)\n",
    "$$\n",
    "\n",
    "なので, $\\dot c(t) = e^{-tA}g(t)$, $c(0)=c$ ならば $w(t)$ は欲しい解になっている. そのような $c(t)$ は\n",
    "\n",
    "$$\n",
    "c(t) = c + \\int_0^t e^{-As}g(s)\\,ds\n",
    "$$\n",
    "\n",
    "と書ける.  ゆえに欲しい解は\n",
    "\n",
    "$$\n",
    "w(t) = e^{tA}c + \\int_0^t e^{(t-s)A}g(s)\\,ds\n",
    "$$\n",
    "\n",
    "と書ける. そして, \n",
    "\n",
    "$$\n",
    "e^{tA}c =\n",
    "\\begin{bmatrix}\n",
    "a\\cos(\\omega t) + b\\sin(\\omega t)/\\omega \\\\\n",
    "-a\\omega\\sin(\\omega t) + b\\cos(\\omega t) \\\\\n",
    "\\end{bmatrix},\n",
    "\\quad\n",
    "e^{(t-s)A}g(s) =\n",
    "\\begin{bmatrix}\n",
    "\\sin(\\omega(t-s))/\\omega \\\\\n",
    "\\cos(\\omega(t-s)) \\\\\n",
    "\\end{bmatrix}\n",
    "f(s)\n",
    "$$\n",
    "\n",
    "なので $w(t)$ の第1成分の $u(t)$ は次のように表わされる:\n",
    "\n",
    "$$\n",
    "u(t) = a\\cos(\\omega t) + b\\frac{\\sin(\\omega t)}{\\omega} +\n",
    "\\int_0^t \\frac{\\sin(\\omega(t-s))}{\\omega} f(s)\\,ds.\n",
    "$$\n",
    "\n",
    "これが実際に欲しい解になっていることを直接確認してみよう:\n",
    "\n",
    "$$\n",
    "\\begin{aligned}\n",
    "u(0) &= a,\n",
    "\\\\\n",
    "\\dot u(t) &= -\\omega a \\sin(\\omega t) + \\omega b \\frac{\\cos(\\omega t)}{\\omega} +\n",
    "\\omega\\int_0^t \\frac{\\cos(\\omega(t-s))}{\\omega} f(s)\\,ds,\n",
    "\\\\\n",
    "\\dot u(0) &= b,\n",
    "\\\\\n",
    "\\ddot u(t) &= -\\omega^2 a\\cos(\\omega t) - \\omega^2 b\\frac{\\sin(\\omega t)}{\\omega} -\n",
    "\\omega^2\\int_0^t \\frac{\\sin(\\omega(t-s))}{\\omega} f(s)\\,ds + f(t)\n",
    "\\\\ & = -\n",
    "\\omega^2 u(t) + f(t).\n",
    "\\end{aligned}\n",
    "$$\n",
    "\n",
    "非斉次な調和振動子は外力 $f(t)$ が与えられた場合の調和振動子になっている."
   ]
  },
  {
   "cell_type": "code",
   "execution_count": 12,
   "metadata": {},
   "outputs": [
    {
     "data": {
      "text/html": [
       "<style>\n",
       "\t\t\t\t\t\t\t\t\t\t\t.grid-container {\n",
       "\t\t\t\t\t\t\t\t\t\t\t\tdisplay: inline-grid;\n",
       "\t\t\t\t\t\t\t\t\t\t\t\tgrid-template-columns: auto auto;\n",
       "\t\t\t\t\t\t\t\t\t\t\t}\n",
       "\t\t\t\t\t\t\t\t\t\t</style>\n",
       "\n",
       "\t\t\t\t\t\t\t\t\t\t<div><div class=\"grid-container\"><div class=\"grid-item\">\n",
       "\t\t\t\t\t\t\t\t\t\t\t\t\t<div class=\"prompt output_prompt\" style=\"text-align:left;padding:0em;padding-right:20px;line-height:20px;\">\n",
       "\t\t\t\t\t\t\t\t\t\t\t\t\t\tOut[13]:\n",
       "\t\t\t\t\t\t\t\t\t\t\t\t\t</div>\n",
       "\t\t\t\t\t\t\t\t\t\t\t\t</div>\n",
       "\t\t\t\t\t\t\t\t\t\t\t\t<div class=\"grid-item\">$$&#97;&#32;&#92;&#99;&#111;&#115;&#32;&#40;&#92;&#111;&#109;&#101;&#103;&#97;&#32;&#32;&#116;&#41;&#43;&#92;&#102;&#114;&#97;&#99;&#123;&#98;&#32;&#92;&#115;&#105;&#110;&#32;&#40;&#92;&#111;&#109;&#101;&#103;&#97;&#32;&#32;&#116;&#41;&#125;&#123;&#92;&#111;&#109;&#101;&#103;&#97;&#32;&#125;&#43;&#92;&#105;&#110;&#116;&#95;&#48;&#94;&#116;&#32;&#92;&#102;&#114;&#97;&#99;&#123;&#102;&#40;&#115;&#41;&#32;&#92;&#115;&#105;&#110;&#32;&#40;&#92;&#111;&#109;&#101;&#103;&#97;&#32;&#32;&#40;&#116;&#45;&#115;&#41;&#41;&#125;&#123;&#92;&#111;&#109;&#101;&#103;&#97;&#32;&#125;&#32;&#92;&#44;&#32;&#100;&#115;$$</div><div class=\"grid-item\">\n",
       "\t\t\t\t\t\t\t\t\t\t\t\t\t<div class=\"prompt output_prompt\" style=\"text-align:left;padding:0em;padding-right:20px;line-height:20px;\">\n",
       "\t\t\t\t\t\t\t\t\t\t\t\t\t\tOut[14]:\n",
       "\t\t\t\t\t\t\t\t\t\t\t\t\t</div>\n",
       "\t\t\t\t\t\t\t\t\t\t\t\t</div>\n",
       "\t\t\t\t\t\t\t\t\t\t\t\t<div class=\"grid-item\">$$&#97;$$</div><div class=\"grid-item\">\n",
       "\t\t\t\t\t\t\t\t\t\t\t\t\t<div class=\"prompt output_prompt\" style=\"text-align:left;padding:0em;padding-right:20px;line-height:20px;\">\n",
       "\t\t\t\t\t\t\t\t\t\t\t\t\t\tOut[15]:\n",
       "\t\t\t\t\t\t\t\t\t\t\t\t\t</div>\n",
       "\t\t\t\t\t\t\t\t\t\t\t\t</div>\n",
       "\t\t\t\t\t\t\t\t\t\t\t\t<div class=\"grid-item\">$$&#45;&#97;&#32;&#92;&#111;&#109;&#101;&#103;&#97;&#32;&#32;&#92;&#115;&#105;&#110;&#32;&#40;&#92;&#111;&#109;&#101;&#103;&#97;&#32;&#32;&#116;&#41;&#43;&#98;&#32;&#92;&#99;&#111;&#115;&#32;&#40;&#92;&#111;&#109;&#101;&#103;&#97;&#32;&#32;&#116;&#41;&#43;&#92;&#105;&#110;&#116;&#95;&#48;&#94;&#116;&#32;&#102;&#40;&#115;&#41;&#32;&#92;&#99;&#111;&#115;&#32;&#40;&#92;&#111;&#109;&#101;&#103;&#97;&#32;&#32;&#40;&#116;&#45;&#115;&#41;&#41;&#32;&#92;&#44;&#32;&#100;&#115;$$</div><div class=\"grid-item\">\n",
       "\t\t\t\t\t\t\t\t\t\t\t\t\t<div class=\"prompt output_prompt\" style=\"text-align:left;padding:0em;padding-right:20px;line-height:20px;\">\n",
       "\t\t\t\t\t\t\t\t\t\t\t\t\t\tOut[16]:\n",
       "\t\t\t\t\t\t\t\t\t\t\t\t\t</div>\n",
       "\t\t\t\t\t\t\t\t\t\t\t\t</div>\n",
       "\t\t\t\t\t\t\t\t\t\t\t\t<div class=\"grid-item\">$$&#98;$$</div><div class=\"grid-item\">\n",
       "\t\t\t\t\t\t\t\t\t\t\t\t\t<div class=\"prompt output_prompt\" style=\"text-align:left;padding:0em;padding-right:20px;line-height:20px;\">\n",
       "\t\t\t\t\t\t\t\t\t\t\t\t\t\tOut[17]:\n",
       "\t\t\t\t\t\t\t\t\t\t\t\t\t</div>\n",
       "\t\t\t\t\t\t\t\t\t\t\t\t</div>\n",
       "\t\t\t\t\t\t\t\t\t\t\t\t<div class=\"grid-item\">$$&#45;&#97;&#32;&#92;&#111;&#109;&#101;&#103;&#97;&#32;&#94;&#50;&#32;&#92;&#99;&#111;&#115;&#32;&#40;&#92;&#111;&#109;&#101;&#103;&#97;&#32;&#32;&#116;&#41;&#45;&#98;&#32;&#92;&#111;&#109;&#101;&#103;&#97;&#32;&#32;&#92;&#115;&#105;&#110;&#32;&#40;&#92;&#111;&#109;&#101;&#103;&#97;&#32;&#32;&#116;&#41;&#43;&#92;&#105;&#110;&#116;&#95;&#48;&#94;&#116;&#32;&#45;&#92;&#111;&#109;&#101;&#103;&#97;&#32;&#32;&#102;&#40;&#115;&#41;&#32;&#92;&#115;&#105;&#110;&#32;&#40;&#92;&#111;&#109;&#101;&#103;&#97;&#32;&#32;&#40;&#116;&#45;&#115;&#41;&#41;&#32;&#92;&#44;&#32;&#100;&#115;&#43;&#102;&#40;&#116;&#41;$$</div></div></div>"
      ]
     },
     "execution_count": 13,
     "metadata": {
      "text/html": []
     },
     "output_type": "execute_result"
    }
   ],
   "source": [
    "Clear[a,b,omega,s,t]\n",
    "(u = a Cos[omega t] + b Sin[omega t]/omega + Integrate[Sin[omega (t-s)]/omega * f[s], {s, 0, t}])//TeX\n",
    "u/.t->0\n",
    "D[u, t] // TeX\n",
    "D[u, t]/.t->0\n",
    "D[u, {t,2}] // TeX"
   ]
  },
  {
   "cell_type": "markdown",
   "metadata": {},
   "source": [
    "#### 共振\n",
    "\n",
    "$\\ddot u(t) = -\\omega^2 u(t) + f(t)$ の解\n",
    "\n",
    "$$\n",
    "u(t) = a\\cos(\\omega t) + b\\frac{\\sin(\\omega t)}{\\omega} +\n",
    "\\int_0^t \\frac{\\sin(\\omega(t-s))}{\\omega} f(s)\\,ds.　\n",
    "$$\n",
    "\n",
    "が $f(t) = \\cos(\\alpha t), \\sin(\\alpha t)$ の場合にどうなるかを調べてみよう. そのためには三角函数に関する公式\n",
    "\n",
    "$$\n",
    "\\begin{aligned}\n",
    "&\n",
    "\\sin x\\cdot \\cos y = \\frac{1}{2}(\\sin(x-y) + \\sin(x+y)), \n",
    "\\\\ &\n",
    "\\sin x\\cdot \\sin y = \\frac{1}{2}(\\cos(x-y) - \\cos(x+y)) \n",
    "\\end{aligned}\n",
    "$$\n",
    "\n",
    "を使う. この公式より\n",
    "\n",
    "$$\n",
    "\\begin{aligned}\n",
    "&\n",
    "\\frac{\\sin(\\omega(t-s))}{\\omega}\\cos(\\alpha s) = \n",
    "\\frac{1}{2\\omega}(\\sin(\\omega t - (\\omega+\\alpha)s) + \\sin(\\omega t - (\\omega-\\alpha)s)),\n",
    "\\\\ &\n",
    "\\frac{\\sin(\\omega(t-s))}{\\omega}\\sin(\\alpha s) = \n",
    "\\frac{1}{2\\omega}(\\cos(\\omega t - (\\omega+\\alpha)s) - \\cos(\\omega t - (\\omega-\\alpha)s)).\n",
    "\\end{aligned}\n",
    "$$\n",
    "\n",
    "ゆえに, $\\alpha\\ne\\pm\\omega$ の場合には, \n",
    "\n",
    "$$\n",
    "\\begin{aligned}\n",
    "\\int_0^t \\frac{\\sin(\\omega(t-s))}{\\omega}\\cos(\\alpha s)\\,ds &=\n",
    "\\frac{1}{2\\omega}\\left[\n",
    "\\frac{\\cos(\\omega t - (\\omega+\\alpha)s)}{\\omega+\\alpha} + \n",
    "\\frac{\\cos(\\omega t - (\\omega-\\alpha)s)}{\\omega-\\alpha}\n",
    "\\right]_{s=0}^{s=t}\n",
    "\\\\ & = \n",
    "\\frac{1}{2\\omega}\\left(\n",
    "\\frac{\\cos(\\alpha t)}{\\omega+\\alpha} + \n",
    "\\frac{\\cos(\\alpha t)}{\\omega-\\alpha} -\n",
    "\\frac{\\cos(\\omega t)}{\\omega+\\alpha} -\n",
    "\\frac{\\cos(\\omega t)}{\\omega-\\alpha}\n",
    "\\right)\n",
    "\\\\ & =\n",
    "\\frac{\\cos(\\alpha t)}{\\omega^2-\\alpha^2} - \\frac{\\cos(\\omega t)}{\\omega^2-\\alpha^2}\n",
    "\\\\ &=\n",
    "-\\frac{\\cos(\\alpha t)-\\cos(\\omega t)}{\\alpha^2-\\omega^2},\n",
    "\\\\\n",
    "\\int_0^t \\frac{\\sin(\\omega(t-s))}{\\omega}\\sin(\\alpha s)\\,ds &=\n",
    "\\frac{1}{2\\omega}\\left[\n",
    "\\frac{-\\sin(\\omega t - (\\omega+\\alpha)s)}{\\omega+\\alpha} - \n",
    "\\frac{-\\sin(\\omega t - (\\omega-\\alpha)s)}{\\omega-\\alpha}\n",
    "\\right]_{s=0}^{s=t}\n",
    "\\\\ & =\n",
    "\\frac{1}{2\\omega}\\left(\n",
    "\\frac{\\sin(\\alpha t)}{\\omega+\\alpha} +\n",
    "\\frac{\\sin(\\alpha t)}{\\omega-\\alpha} +\n",
    "\\frac{\\sin(\\omega t)}{\\omega+\\alpha} -\n",
    "\\frac{\\sin(\\omega t)}{\\omega-\\alpha}\n",
    "\\right)\n",
    "\\\\ & =\n",
    "\\frac{\\sin(\\alpha t)}{\\omega^2-\\alpha^2} - \n",
    "\\frac{\\alpha}{\\omega}\\frac{\\sin(\\omega t)}{\\omega^2-\\alpha^2}\n",
    "\\\\ & = -\\frac{\\alpha}{\\omega}\n",
    "\\frac{(\\omega/\\alpha)\\sin(\\alpha t) - \\sin(\\omega t)}{\\alpha^2-\\omega^2}.\n",
    "\\end{aligned}\n",
    "$$\n",
    "\n",
    "これらの函数の振幅は $\\alpha^2$ が $\\omega^2$ に近付くと大きくなる.\n",
    "\n",
    "$\\alpha=\\omega$ の場合には上の公式で $\\alpha\\to\\omega$ の極限を取ると, \n",
    "\n",
    "$$\n",
    "\\begin{aligned}\n",
    "\\int_0^t \\frac{\\sin(\\omega(t-s))}{\\omega}\\cos(\\omega s)\\,ds &=\n",
    "\\frac{t\\sin(\\omega t)}{2\\omega},\n",
    "\\\\\n",
    "\\int_0^t \\frac{\\sin(\\omega(t-s))}{\\omega}\\sin(\\omega s)\\,ds &=\n",
    "\\frac{-t\\cos(\\omega t) + (1/\\omega)\\sin(\\omega t)}{2\\omega}.\n",
    "\\end{aligned}\n",
    "$$\n",
    "\n",
    "$\\alpha=-\\omega$ の場合の公式はこの公式で $\\omega$ を $-\\omega$ に置き換えれば得られる. \n",
    "\n",
    "このように, $\\alpha=\\pm\\omega$ の場合には時刻 $t$ に比例して振幅が大きくなる項が出て来る.  すなわち, 調和振動子に与える外力の周期が調和振動子の周期 $2\\pi/|\\omega|$ に等しい場合には, 外力が与えられた調和振動子の振幅は時間に比例して幾らでも大きくなる."
   ]
  },
  {
   "cell_type": "code",
   "execution_count": 18,
   "metadata": {},
   "outputs": [
    {
     "data": {
      "text/html": [
       "<div>$$&#48;$$</div>"
      ]
     },
     "execution_count": 18,
     "metadata": {
      "text/html": []
     },
     "output_type": "execute_result"
    }
   ],
   "source": [
    "Simplify[Sin[x-y] + Sin[x+y] - 2 Sin[x] Cos[y]]"
   ]
  },
  {
   "cell_type": "code",
   "execution_count": 19,
   "metadata": {},
   "outputs": [
    {
     "data": {
      "text/html": [
       "<div>$$&#48;$$</div>"
      ]
     },
     "execution_count": 19,
     "metadata": {
      "text/html": []
     },
     "output_type": "execute_result"
    }
   ],
   "source": [
    "Simplify[Cos[x-y] - Cos[x+y] - 2 Sin[x] Sin[y]]"
   ]
  },
  {
   "cell_type": "code",
   "execution_count": 20,
   "metadata": {},
   "outputs": [
    {
     "data": {
      "text/html": [
       "<div>$$&#92;&#102;&#114;&#97;&#99;&#123;&#92;&#99;&#111;&#115;&#32;&#40;&#92;&#111;&#109;&#101;&#103;&#97;&#32;&#32;&#116;&#41;&#45;&#92;&#99;&#111;&#115;&#32;&#40;&#92;&#97;&#108;&#112;&#104;&#97;&#32;&#32;&#116;&#41;&#125;&#123;&#92;&#97;&#108;&#112;&#104;&#97;&#32;&#94;&#50;&#45;&#92;&#111;&#109;&#101;&#103;&#97;&#32;&#94;&#50;&#125;$$</div>"
      ]
     },
     "execution_count": 20,
     "metadata": {
      "text/html": []
     },
     "output_type": "execute_result"
    }
   ],
   "source": [
    "Integrate[Sin[omega (t-s)] Cos[alpha s] / omega, {s, 0, t}] // TeX"
   ]
  },
  {
   "cell_type": "code",
   "execution_count": 21,
   "metadata": {},
   "outputs": [
    {
     "data": {
      "text/html": [
       "<div>$$&#92;&#102;&#114;&#97;&#99;&#123;&#116;&#32;&#92;&#115;&#105;&#110;&#32;&#40;&#92;&#111;&#109;&#101;&#103;&#97;&#32;&#32;&#116;&#41;&#125;&#123;&#50;&#32;&#92;&#111;&#109;&#101;&#103;&#97;&#32;&#125;$$</div>"
      ]
     },
     "execution_count": 21,
     "metadata": {
      "text/html": []
     },
     "output_type": "execute_result"
    }
   ],
   "source": [
    "Integrate[Sin[omega (t-s)] Cos[omega s] / omega, {s, 0, t}] // TeX"
   ]
  },
  {
   "cell_type": "code",
   "execution_count": 22,
   "metadata": {},
   "outputs": [
    {
     "data": {
      "text/html": [
       "<div>$$&#92;&#102;&#114;&#97;&#99;&#123;&#116;&#32;&#92;&#115;&#105;&#110;&#32;&#40;&#92;&#111;&#109;&#101;&#103;&#97;&#32;&#32;&#116;&#41;&#125;&#123;&#50;&#32;&#92;&#111;&#109;&#101;&#103;&#97;&#32;&#125;$$</div>"
      ]
     },
     "execution_count": 22,
     "metadata": {
      "text/html": []
     },
     "output_type": "execute_result"
    }
   ],
   "source": [
    "Integrate[Sin[omega (t-s)] Cos[-omega s] / omega, {s, 0, t}] // TeX"
   ]
  },
  {
   "cell_type": "code",
   "execution_count": 23,
   "metadata": {},
   "outputs": [
    {
     "data": {
      "text/html": [
       "<div>$$&#92;&#102;&#114;&#97;&#99;&#123;&#92;&#111;&#109;&#101;&#103;&#97;&#32;&#32;&#92;&#115;&#105;&#110;&#32;&#40;&#92;&#97;&#108;&#112;&#104;&#97;&#32;&#32;&#116;&#41;&#45;&#92;&#97;&#108;&#112;&#104;&#97;&#32;&#32;&#92;&#115;&#105;&#110;&#32;&#40;&#92;&#111;&#109;&#101;&#103;&#97;&#32;&#32;&#116;&#41;&#125;&#123;&#92;&#111;&#109;&#101;&#103;&#97;&#32;&#94;&#51;&#45;&#92;&#97;&#108;&#112;&#104;&#97;&#32;&#94;&#50;&#32;&#92;&#111;&#109;&#101;&#103;&#97;&#32;&#125;$$</div>"
      ]
     },
     "execution_count": 23,
     "metadata": {
      "text/html": []
     },
     "output_type": "execute_result"
    }
   ],
   "source": [
    "Integrate[Sin[omega (t-s)] Sin[alpha s] / omega, {s, 0, t}] // TeX"
   ]
  },
  {
   "cell_type": "code",
   "execution_count": 24,
   "metadata": {},
   "outputs": [
    {
     "data": {
      "text/html": [
       "<div>$$&#92;&#102;&#114;&#97;&#99;&#123;&#92;&#115;&#105;&#110;&#32;&#40;&#92;&#111;&#109;&#101;&#103;&#97;&#32;&#32;&#116;&#41;&#45;&#92;&#111;&#109;&#101;&#103;&#97;&#32;&#32;&#116;&#32;&#92;&#99;&#111;&#115;&#32;&#40;&#92;&#111;&#109;&#101;&#103;&#97;&#32;&#32;&#116;&#41;&#125;&#123;&#50;&#32;&#92;&#111;&#109;&#101;&#103;&#97;&#32;&#94;&#50;&#125;$$</div>"
      ]
     },
     "execution_count": 24,
     "metadata": {
      "text/html": []
     },
     "output_type": "execute_result"
    }
   ],
   "source": [
    "Integrate[Sin[omega (t-s)] Sin[omega s] / omega, {s, 0, t}] // TeX"
   ]
  },
  {
   "cell_type": "code",
   "execution_count": 25,
   "metadata": {},
   "outputs": [
    {
     "data": {
      "text/html": [
       "<div>$$&#92;&#102;&#114;&#97;&#99;&#123;&#92;&#111;&#109;&#101;&#103;&#97;&#32;&#32;&#116;&#32;&#92;&#99;&#111;&#115;&#32;&#40;&#92;&#111;&#109;&#101;&#103;&#97;&#32;&#32;&#116;&#41;&#45;&#92;&#115;&#105;&#110;&#32;&#40;&#92;&#111;&#109;&#101;&#103;&#97;&#32;&#32;&#116;&#41;&#125;&#123;&#50;&#32;&#92;&#111;&#109;&#101;&#103;&#97;&#32;&#94;&#50;&#125;$$</div>"
      ]
     },
     "execution_count": 25,
     "metadata": {
      "text/html": []
     },
     "output_type": "execute_result"
    }
   ],
   "source": [
    "Integrate[Sin[omega (t-s)] Sin[-omega s] / omega, {s, 0, t}] // TeX"
   ]
  },
  {
   "cell_type": "markdown",
   "metadata": {},
   "source": [
    "**まとめ:** $\\alpha,\\omega\\ne 0$ のとき, \n",
    "\n",
    "$$\n",
    "\\ddot u(t) = -\\omega^2 u(t) + A\\cos(\\alpha t) + B\\sin(\\alpha t), \\quad\n",
    "u(0)=q, \\quad \\dot u(0)=p\n",
    "\\tag{$*$}\n",
    "$$\n",
    "\n",
    "の形の微分方程式の初期値問題の解は, $\\alpha\\ne\\pm\\omega$ のとき\n",
    "\n",
    "$$\n",
    "u(t) = a\\cos(\\omega t) + b\\sin(\\omega t) + c\\cos(\\alpha t) + d\\sin(\\alpha t)\n",
    "$$\n",
    "\n",
    "の形になり, $\\alpha=\\pm\\omega$ のとき\n",
    "\n",
    "$$\n",
    "u(t) = a\\cos(\\omega t) + b\\sin(\\omega t) + c\\,t\\cos(\\omega t)+ d\\,t\\sin(\\omega t)\n",
    "$$\n",
    "\n",
    "の形になる. \n",
    "\n",
    "**証明:** $\\alpha\\ne\\pm\\omega$ の場合.\n",
    "\n",
    "$$\n",
    "u(t) = a\\cos(\\omega t) + b\\sin(\\omega t) + c\\cos(\\alpha t) + d\\sin(\\alpha t)\n",
    "$$\n",
    "\n",
    "とおくと, \n",
    "\n",
    "$$\n",
    "\\begin{aligned}\n",
    "u(0) &= a + c\n",
    "\\\\\n",
    "\\dot u(t) &= -\n",
    "\\omega a\\sin(\\omega t) + \\omega b\\cos(\\omega t) - \n",
    "\\alpha c\\sin(\\alpha t) + \\alpha d\\cos(\\alpha t),\n",
    "\\\\\n",
    "\\dot u(0) &= \\omega b + \\alpha d,\n",
    "\\\\\n",
    "\\ddot u(t) &= -\n",
    "\\omega^2 a\\cos(\\omega t) - \\omega^2 b\\sin(\\omega t) - \n",
    "\\alpha^2 c\\cos(\\alpha t) - \\alpha^2 d\\sin(\\alpha t)\n",
    "\\\\ & =\n",
    "-\\omega^2 u(t) + (\\omega^2-\\alpha2)c\\cos(\\alpha t) + (\\omega^2-\\alpha^2)d\\sin(\\alpha t).\n",
    "\\end{aligned}\n",
    "$$\n",
    "\n",
    "これと($*$)を比較すると, \n",
    "\n",
    "$$\n",
    "a + c = q, \\quad \\omega b + \\alpha d = p, \\quad\n",
    "(\\omega^2-\\alpha^2)c = A, \\quad (\\omega^2-\\alpha^)d = B.\n",
    "$$\n",
    "\n",
    "すなわち,\n",
    "\n",
    "$$\n",
    "a = q - \\frac{A}{\\omega^2-\\alpha^2}, \\quad\n",
    "b = \\frac{1}{\\omega}\\left(p - \\frac{\\alpha B}{\\omega^2-\\alpha^2}\\right), \\quad\n",
    "c = \\frac{A}{\\omega^2-\\alpha^2}, \\quad\n",
    "d = \\frac{B}{\\omega^2-\\alpha^2}.\n",
    "$$\n",
    "\n",
    "$a,b,c,d$ をこのように定めると上の $u(t)$ が($*$)の解であることは容易に確認できる.\n",
    "\n",
    "$\\alpha=\\omega$ の場合:\n",
    "\n",
    "$$\n",
    "u(t) = a\\cos(\\omega t) + b\\sin(\\omega t) + c\\,t\\cos(\\omega t) + d\\,t\\sin(\\omega t)\n",
    "$$\n",
    "\n",
    "とおくと,\n",
    "\n",
    "$$\n",
    "\\begin{aligned}\n",
    "u(0) &= a,\n",
    "\\\\\n",
    "\\dot u(t) &= -\n",
    "\\omega a\\sin(\\omega t) + \\omega b\\cos(\\omega t) + \n",
    "c(-\\omega t\\sin(\\omega t) + \\cos(\\omega t)) + d(\\omega t\\cos(\\omega t) + \\sin(\\omega t)),\n",
    "\\\\\n",
    "\\dot u(0) &= \\omega b + c,\n",
    "\\\\\n",
    "\\ddot u(t) &= -\n",
    "\\omega^2 a\\cos(\\omega t) - \\omega b\\sin(\\omega t) + \n",
    "c(-\\omega^2 t\\cos(\\omega t) - 2\\omega \\sin(\\omega t)) + d(-\\omega^2 t\\sin(\\omega t) + 2\\omega\\cos(\\omega t)),\n",
    "\\\\ & =\n",
    "-\\omega^2 u(t) + 2\\omega d\\cos t -2\\omega c\\sin t.\n",
    "\\end{aligned}\n",
    "$$\n",
    "\n",
    "これと($*$)を比較すると,\n",
    "\n",
    "$$\n",
    "a = q, \\quad \\omega b+c = p, \\quad 2\\omega d = A, \\quad -2\\omega c=B.\n",
    "$$\n",
    "\n",
    "すなわち, \n",
    "\n",
    "$$\n",
    "a = q, \\quad b = \\frac{p}{\\omega} + \\frac{B}{2\\omega^2}, \\quad c = -\\frac{B}{2\\omega}, \\quad d = \\frac{A}{2\\omega}.\n",
    "$$\n",
    "\n",
    "$a,b,c,d$ をこのように定めると上の $u(t)$ が($*$)の解であることは容易に確認できる.  $\\alpha=-\\omega$ の場合も同様. $\\QED$"
   ]
  },
  {
   "cell_type": "code",
   "execution_count": 26,
   "metadata": {},
   "outputs": [
    {
     "data": {
      "text/html": [
       "<style>\n",
       "\t\t\t\t\t\t\t\t\t\t\t.grid-container {\n",
       "\t\t\t\t\t\t\t\t\t\t\t\tdisplay: inline-grid;\n",
       "\t\t\t\t\t\t\t\t\t\t\t\tgrid-template-columns: auto auto;\n",
       "\t\t\t\t\t\t\t\t\t\t\t}\n",
       "\t\t\t\t\t\t\t\t\t\t</style>\n",
       "\n",
       "\t\t\t\t\t\t\t\t\t\t<div><div class=\"grid-container\"><div class=\"grid-item\">\n",
       "\t\t\t\t\t\t\t\t\t\t\t\t\t<div class=\"prompt output_prompt\" style=\"text-align:left;padding:0em;padding-right:20px;line-height:20px;\">\n",
       "\t\t\t\t\t\t\t\t\t\t\t\t\t\tOut[28]:\n",
       "\t\t\t\t\t\t\t\t\t\t\t\t\t</div>\n",
       "\t\t\t\t\t\t\t\t\t\t\t\t</div>\n",
       "\t\t\t\t\t\t\t\t\t\t\t\t<div class=\"grid-item\">$$&#92;&#99;&#111;&#115;&#32;&#40;&#92;&#111;&#109;&#101;&#103;&#97;&#32;&#32;&#116;&#41;&#32;&#92;&#108;&#101;&#102;&#116;&#40;&#113;&#45;&#92;&#102;&#114;&#97;&#99;&#123;&#65;&#125;&#123;&#92;&#111;&#109;&#101;&#103;&#97;&#32;&#94;&#50;&#45;&#92;&#97;&#108;&#112;&#104;&#97;&#32;&#94;&#50;&#125;&#92;&#114;&#105;&#103;&#104;&#116;&#41;&#43;&#92;&#102;&#114;&#97;&#99;&#123;&#65;&#32;&#92;&#99;&#111;&#115;&#32;&#40;&#92;&#97;&#108;&#112;&#104;&#97;&#32;&#32;&#116;&#41;&#125;&#123;&#92;&#111;&#109;&#101;&#103;&#97;&#32;&#94;&#50;&#45;&#92;&#97;&#108;&#112;&#104;&#97;&#32;&#94;&#50;&#125;&#43;&#92;&#102;&#114;&#97;&#99;&#123;&#92;&#115;&#105;&#110;&#32;&#40;&#92;&#111;&#109;&#101;&#103;&#97;&#32;&#32;&#116;&#41;&#32;&#92;&#108;&#101;&#102;&#116;&#40;&#112;&#45;&#92;&#102;&#114;&#97;&#99;&#123;&#92;&#97;&#108;&#112;&#104;&#97;&#32;&#32;&#66;&#125;&#123;&#92;&#111;&#109;&#101;&#103;&#97;&#32;&#94;&#50;&#45;&#92;&#97;&#108;&#112;&#104;&#97;&#32;&#94;&#50;&#125;&#92;&#114;&#105;&#103;&#104;&#116;&#41;&#125;&#123;&#92;&#111;&#109;&#101;&#103;&#97;&#32;&#125;&#43;&#92;&#102;&#114;&#97;&#99;&#123;&#66;&#32;&#92;&#115;&#105;&#110;&#32;&#40;&#92;&#97;&#108;&#112;&#104;&#97;&#32;&#32;&#116;&#41;&#125;&#123;&#92;&#111;&#109;&#101;&#103;&#97;&#32;&#94;&#50;&#45;&#92;&#97;&#108;&#112;&#104;&#97;&#32;&#94;&#50;&#125;$$</div><div class=\"grid-item\">\n",
       "\t\t\t\t\t\t\t\t\t\t\t\t\t<div class=\"prompt output_prompt\" style=\"text-align:left;padding:0em;padding-right:20px;line-height:20px;\">\n",
       "\t\t\t\t\t\t\t\t\t\t\t\t\t\tOut[29]:\n",
       "\t\t\t\t\t\t\t\t\t\t\t\t\t</div>\n",
       "\t\t\t\t\t\t\t\t\t\t\t\t</div>\n",
       "\t\t\t\t\t\t\t\t\t\t\t\t<div class=\"grid-item\">$$&#113;$$</div><div class=\"grid-item\">\n",
       "\t\t\t\t\t\t\t\t\t\t\t\t\t<div class=\"prompt output_prompt\" style=\"text-align:left;padding:0em;padding-right:20px;line-height:20px;\">\n",
       "\t\t\t\t\t\t\t\t\t\t\t\t\t\tOut[30]:\n",
       "\t\t\t\t\t\t\t\t\t\t\t\t\t</div>\n",
       "\t\t\t\t\t\t\t\t\t\t\t\t</div>\n",
       "\t\t\t\t\t\t\t\t\t\t\t\t<div class=\"grid-item\">$$&#45;&#92;&#111;&#109;&#101;&#103;&#97;&#32;&#32;&#92;&#115;&#105;&#110;&#32;&#40;&#92;&#111;&#109;&#101;&#103;&#97;&#32;&#32;&#116;&#41;&#32;&#92;&#108;&#101;&#102;&#116;&#40;&#113;&#45;&#92;&#102;&#114;&#97;&#99;&#123;&#65;&#125;&#123;&#92;&#111;&#109;&#101;&#103;&#97;&#32;&#94;&#50;&#45;&#92;&#97;&#108;&#112;&#104;&#97;&#32;&#94;&#50;&#125;&#92;&#114;&#105;&#103;&#104;&#116;&#41;&#45;&#92;&#102;&#114;&#97;&#99;&#123;&#65;&#32;&#92;&#97;&#108;&#112;&#104;&#97;&#32;&#32;&#92;&#115;&#105;&#110;&#32;&#40;&#92;&#97;&#108;&#112;&#104;&#97;&#32;&#32;&#116;&#41;&#125;&#123;&#92;&#111;&#109;&#101;&#103;&#97;&#32;&#94;&#50;&#45;&#92;&#97;&#108;&#112;&#104;&#97;&#32;&#94;&#50;&#125;&#43;&#92;&#99;&#111;&#115;&#32;&#40;&#92;&#111;&#109;&#101;&#103;&#97;&#32;&#32;&#116;&#41;&#32;&#92;&#108;&#101;&#102;&#116;&#40;&#112;&#45;&#92;&#102;&#114;&#97;&#99;&#123;&#92;&#97;&#108;&#112;&#104;&#97;&#32;&#32;&#66;&#125;&#123;&#92;&#111;&#109;&#101;&#103;&#97;&#32;&#94;&#50;&#45;&#92;&#97;&#108;&#112;&#104;&#97;&#32;&#94;&#50;&#125;&#92;&#114;&#105;&#103;&#104;&#116;&#41;&#43;&#92;&#102;&#114;&#97;&#99;&#123;&#92;&#97;&#108;&#112;&#104;&#97;&#32;&#32;&#66;&#32;&#92;&#99;&#111;&#115;&#32;&#40;&#92;&#97;&#108;&#112;&#104;&#97;&#32;&#32;&#116;&#41;&#125;&#123;&#92;&#111;&#109;&#101;&#103;&#97;&#32;&#94;&#50;&#45;&#92;&#97;&#108;&#112;&#104;&#97;&#32;&#94;&#50;&#125;$$</div><div class=\"grid-item\">\n",
       "\t\t\t\t\t\t\t\t\t\t\t\t\t<div class=\"prompt output_prompt\" style=\"text-align:left;padding:0em;padding-right:20px;line-height:20px;\">\n",
       "\t\t\t\t\t\t\t\t\t\t\t\t\t\tOut[31]:\n",
       "\t\t\t\t\t\t\t\t\t\t\t\t\t</div>\n",
       "\t\t\t\t\t\t\t\t\t\t\t\t</div>\n",
       "\t\t\t\t\t\t\t\t\t\t\t\t<div class=\"grid-item\">$$&#112;$$</div><div class=\"grid-item\">\n",
       "\t\t\t\t\t\t\t\t\t\t\t\t\t<div class=\"prompt output_prompt\" style=\"text-align:left;padding:0em;padding-right:20px;line-height:20px;\">\n",
       "\t\t\t\t\t\t\t\t\t\t\t\t\t\tOut[32]:\n",
       "\t\t\t\t\t\t\t\t\t\t\t\t\t</div>\n",
       "\t\t\t\t\t\t\t\t\t\t\t\t</div>\n",
       "\t\t\t\t\t\t\t\t\t\t\t\t<div class=\"grid-item\">$$&#65;&#32;&#92;&#99;&#111;&#115;&#32;&#40;&#92;&#97;&#108;&#112;&#104;&#97;&#32;&#32;&#116;&#41;&#43;&#66;&#32;&#92;&#115;&#105;&#110;&#32;&#40;&#92;&#97;&#108;&#112;&#104;&#97;&#32;&#32;&#116;&#41;$$</div></div></div>"
      ]
     },
     "execution_count": 28,
     "metadata": {
      "text/html": []
     },
     "output_type": "execute_result"
    }
   ],
   "source": [
    "Clear[A,B,a,b,p,q,alpha,omega]\n",
    "u = (q - A/(omega^2 - alpha^2)) Cos[omega t] + (p - alpha B/(omega^2-alpha^2))/omega Sin[omega t] + A/(omega^2-alpha^2) Cos[alpha t] + B/(omega^2-alpha^2) Sin[alpha t];\n",
    "u // TeX\n",
    "u/.t->0\n",
    "D[u, t] // TeX\n",
    "Simplify[D[u,t]/.t->0]\n",
    "Simplify[D[u,t,t] + omega^2 u] // TeX"
   ]
  },
  {
   "cell_type": "code",
   "execution_count": 33,
   "metadata": {},
   "outputs": [
    {
     "data": {
      "text/html": [
       "<style>\n",
       "\t\t\t\t\t\t\t\t\t\t\t.grid-container {\n",
       "\t\t\t\t\t\t\t\t\t\t\t\tdisplay: inline-grid;\n",
       "\t\t\t\t\t\t\t\t\t\t\t\tgrid-template-columns: auto auto;\n",
       "\t\t\t\t\t\t\t\t\t\t\t}\n",
       "\t\t\t\t\t\t\t\t\t\t</style>\n",
       "\n",
       "\t\t\t\t\t\t\t\t\t\t<div><div class=\"grid-container\"><div class=\"grid-item\">\n",
       "\t\t\t\t\t\t\t\t\t\t\t\t\t<div class=\"prompt output_prompt\" style=\"text-align:left;padding:0em;padding-right:20px;line-height:20px;\">\n",
       "\t\t\t\t\t\t\t\t\t\t\t\t\t\tOut[35]:\n",
       "\t\t\t\t\t\t\t\t\t\t\t\t\t</div>\n",
       "\t\t\t\t\t\t\t\t\t\t\t\t</div>\n",
       "\t\t\t\t\t\t\t\t\t\t\t\t<div class=\"grid-item\">$$&#92;&#102;&#114;&#97;&#99;&#123;&#65;&#32;&#116;&#32;&#92;&#115;&#105;&#110;&#32;&#40;&#92;&#111;&#109;&#101;&#103;&#97;&#32;&#32;&#116;&#41;&#125;&#123;&#50;&#32;&#92;&#111;&#109;&#101;&#103;&#97;&#32;&#125;&#43;&#92;&#108;&#101;&#102;&#116;&#40;&#92;&#102;&#114;&#97;&#99;&#123;&#66;&#125;&#123;&#50;&#32;&#92;&#111;&#109;&#101;&#103;&#97;&#32;&#94;&#50;&#125;&#43;&#92;&#102;&#114;&#97;&#99;&#123;&#112;&#125;&#123;&#92;&#111;&#109;&#101;&#103;&#97;&#32;&#125;&#92;&#114;&#105;&#103;&#104;&#116;&#41;&#32;&#92;&#115;&#105;&#110;&#32;&#40;&#92;&#111;&#109;&#101;&#103;&#97;&#32;&#32;&#116;&#41;&#45;&#92;&#102;&#114;&#97;&#99;&#123;&#66;&#32;&#116;&#32;&#92;&#99;&#111;&#115;&#32;&#40;&#92;&#111;&#109;&#101;&#103;&#97;&#32;&#32;&#116;&#41;&#125;&#123;&#50;&#32;&#92;&#111;&#109;&#101;&#103;&#97;&#32;&#125;&#43;&#113;&#32;&#92;&#99;&#111;&#115;&#32;&#40;&#92;&#111;&#109;&#101;&#103;&#97;&#32;&#32;&#116;&#41;$$</div><div class=\"grid-item\">\n",
       "\t\t\t\t\t\t\t\t\t\t\t\t\t<div class=\"prompt output_prompt\" style=\"text-align:left;padding:0em;padding-right:20px;line-height:20px;\">\n",
       "\t\t\t\t\t\t\t\t\t\t\t\t\t\tOut[36]:\n",
       "\t\t\t\t\t\t\t\t\t\t\t\t\t</div>\n",
       "\t\t\t\t\t\t\t\t\t\t\t\t</div>\n",
       "\t\t\t\t\t\t\t\t\t\t\t\t<div class=\"grid-item\">$$&#113;$$</div><div class=\"grid-item\">\n",
       "\t\t\t\t\t\t\t\t\t\t\t\t\t<div class=\"prompt output_prompt\" style=\"text-align:left;padding:0em;padding-right:20px;line-height:20px;\">\n",
       "\t\t\t\t\t\t\t\t\t\t\t\t\t\tOut[37]:\n",
       "\t\t\t\t\t\t\t\t\t\t\t\t\t</div>\n",
       "\t\t\t\t\t\t\t\t\t\t\t\t</div>\n",
       "\t\t\t\t\t\t\t\t\t\t\t\t<div class=\"grid-item\">$$&#92;&#102;&#114;&#97;&#99;&#123;&#65;&#32;&#92;&#115;&#105;&#110;&#32;&#40;&#92;&#111;&#109;&#101;&#103;&#97;&#32;&#32;&#116;&#41;&#125;&#123;&#50;&#32;&#92;&#111;&#109;&#101;&#103;&#97;&#32;&#125;&#43;&#92;&#102;&#114;&#97;&#99;&#123;&#49;&#125;&#123;&#50;&#125;&#32;&#65;&#32;&#116;&#32;&#92;&#99;&#111;&#115;&#32;&#40;&#92;&#111;&#109;&#101;&#103;&#97;&#32;&#32;&#116;&#41;&#43;&#92;&#111;&#109;&#101;&#103;&#97;&#32;&#32;&#92;&#108;&#101;&#102;&#116;&#40;&#92;&#102;&#114;&#97;&#99;&#123;&#66;&#125;&#123;&#50;&#32;&#92;&#111;&#109;&#101;&#103;&#97;&#32;&#94;&#50;&#125;&#43;&#92;&#102;&#114;&#97;&#99;&#123;&#112;&#125;&#123;&#92;&#111;&#109;&#101;&#103;&#97;&#32;&#125;&#92;&#114;&#105;&#103;&#104;&#116;&#41;&#32;&#92;&#99;&#111;&#115;&#32;&#40;&#92;&#111;&#109;&#101;&#103;&#97;&#32;&#32;&#116;&#41;&#43;&#92;&#102;&#114;&#97;&#99;&#123;&#49;&#125;&#123;&#50;&#125;&#32;&#66;&#32;&#116;&#32;&#92;&#115;&#105;&#110;&#32;&#40;&#92;&#111;&#109;&#101;&#103;&#97;&#32;&#32;&#116;&#41;&#45;&#92;&#102;&#114;&#97;&#99;&#123;&#66;&#32;&#92;&#99;&#111;&#115;&#32;&#40;&#92;&#111;&#109;&#101;&#103;&#97;&#32;&#32;&#116;&#41;&#125;&#123;&#50;&#32;&#92;&#111;&#109;&#101;&#103;&#97;&#32;&#125;&#45;&#92;&#111;&#109;&#101;&#103;&#97;&#32;&#32;&#113;&#32;&#92;&#115;&#105;&#110;&#32;&#40;&#92;&#111;&#109;&#101;&#103;&#97;&#32;&#32;&#116;&#41;$$</div><div class=\"grid-item\">\n",
       "\t\t\t\t\t\t\t\t\t\t\t\t\t<div class=\"prompt output_prompt\" style=\"text-align:left;padding:0em;padding-right:20px;line-height:20px;\">\n",
       "\t\t\t\t\t\t\t\t\t\t\t\t\t\tOut[38]:\n",
       "\t\t\t\t\t\t\t\t\t\t\t\t\t</div>\n",
       "\t\t\t\t\t\t\t\t\t\t\t\t</div>\n",
       "\t\t\t\t\t\t\t\t\t\t\t\t<div class=\"grid-item\">$$&#112;$$</div><div class=\"grid-item\">\n",
       "\t\t\t\t\t\t\t\t\t\t\t\t\t<div class=\"prompt output_prompt\" style=\"text-align:left;padding:0em;padding-right:20px;line-height:20px;\">\n",
       "\t\t\t\t\t\t\t\t\t\t\t\t\t\tOut[39]:\n",
       "\t\t\t\t\t\t\t\t\t\t\t\t\t</div>\n",
       "\t\t\t\t\t\t\t\t\t\t\t\t</div>\n",
       "\t\t\t\t\t\t\t\t\t\t\t\t<div class=\"grid-item\">$$&#65;&#32;&#92;&#99;&#111;&#115;&#32;&#40;&#92;&#111;&#109;&#101;&#103;&#97;&#32;&#32;&#116;&#41;&#43;&#66;&#32;&#92;&#115;&#105;&#110;&#32;&#40;&#92;&#111;&#109;&#101;&#103;&#97;&#32;&#32;&#116;&#41;$$</div></div></div>"
      ]
     },
     "execution_count": 35,
     "metadata": {
      "text/html": []
     },
     "output_type": "execute_result"
    }
   ],
   "source": [
    "Clear[A,B,a,b,p,q,alpha,omega]\n",
    "u = q Cos[omega t] + (p/omega + B/(2 omega^2)) Sin[omega t] - B/(2 omega) t Cos[omega t] + A/(2 omega) t Sin[omega t]; \n",
    "u // TeX\n",
    "u/.t->0\n",
    "D[u,t] // TeX\n",
    "Simplify[D[u,t]/.t->0]\n",
    "Simplify[D[u, t, t] + omega^2 u] // TeX"
   ]
  },
  {
   "cell_type": "markdown",
   "metadata": {},
   "source": [
    "**例:** $\\ddot u(t) = -u(t) + \\cos(\\sqrt{2}\\;t)$, $u(0)=1$, $\\dot u(0)=0$ の解は\n",
    "\n",
    "$$\n",
    "u(t) = 2\\cos t - \\cos(\\sqrt{2}\\;t).\n",
    "$$"
   ]
  },
  {
   "cell_type": "code",
   "execution_count": 40,
   "metadata": {},
   "outputs": [
    {
     "data": {
      "text/html": [
       "<style>\n",
       "\t\t\t\t\t\t\t\t\t\t\t.grid-container {\n",
       "\t\t\t\t\t\t\t\t\t\t\t\tdisplay: inline-grid;\n",
       "\t\t\t\t\t\t\t\t\t\t\t\tgrid-template-columns: auto auto;\n",
       "\t\t\t\t\t\t\t\t\t\t\t}\n",
       "\t\t\t\t\t\t\t\t\t\t</style>\n",
       "\n",
       "\t\t\t\t\t\t\t\t\t\t<div><div class=\"grid-container\"><div class=\"grid-item\">\n",
       "\t\t\t\t\t\t\t\t\t\t\t\t\t<div class=\"prompt output_prompt\" style=\"text-align:left;padding:0em;padding-right:20px;line-height:20px;\">\n",
       "\t\t\t\t\t\t\t\t\t\t\t\t\t\tOut[40]:\n",
       "\t\t\t\t\t\t\t\t\t\t\t\t\t</div>\n",
       "\t\t\t\t\t\t\t\t\t\t\t\t</div>\n",
       "\t\t\t\t\t\t\t\t\t\t\t\t<div class=\"grid-item\">$$&#50;&#32;&#92;&#99;&#111;&#115;&#32;&#40;&#116;&#41;&#45;&#92;&#99;&#111;&#115;&#32;&#92;&#108;&#101;&#102;&#116;&#40;&#92;&#115;&#113;&#114;&#116;&#123;&#50;&#125;&#32;&#116;&#92;&#114;&#105;&#103;&#104;&#116;&#41;$$</div><div class=\"grid-item\">\n",
       "\t\t\t\t\t\t\t\t\t\t\t\t\t<div class=\"prompt output_prompt\" style=\"text-align:left;padding:0em;padding-right:20px;line-height:20px;\">\n",
       "\t\t\t\t\t\t\t\t\t\t\t\t\t\tOut[41]:\n",
       "\t\t\t\t\t\t\t\t\t\t\t\t\t</div>\n",
       "\t\t\t\t\t\t\t\t\t\t\t\t</div>\n",
       "\t\t\t\t\t\t\t\t\t\t\t\t<div class=\"grid-item\">$$&#49;$$</div><div class=\"grid-item\">\n",
       "\t\t\t\t\t\t\t\t\t\t\t\t\t<div class=\"prompt output_prompt\" style=\"text-align:left;padding:0em;padding-right:20px;line-height:20px;\">\n",
       "\t\t\t\t\t\t\t\t\t\t\t\t\t\tOut[42]:\n",
       "\t\t\t\t\t\t\t\t\t\t\t\t\t</div>\n",
       "\t\t\t\t\t\t\t\t\t\t\t\t</div>\n",
       "\t\t\t\t\t\t\t\t\t\t\t\t<div class=\"grid-item\">$$&#92;&#115;&#113;&#114;&#116;&#123;&#50;&#125;&#32;&#92;&#115;&#105;&#110;&#32;&#92;&#108;&#101;&#102;&#116;&#40;&#92;&#115;&#113;&#114;&#116;&#123;&#50;&#125;&#32;&#116;&#92;&#114;&#105;&#103;&#104;&#116;&#41;&#45;&#50;&#32;&#92;&#115;&#105;&#110;&#32;&#40;&#116;&#41;$$</div><div class=\"grid-item\">\n",
       "\t\t\t\t\t\t\t\t\t\t\t\t\t<div class=\"prompt output_prompt\" style=\"text-align:left;padding:0em;padding-right:20px;line-height:20px;\">\n",
       "\t\t\t\t\t\t\t\t\t\t\t\t\t\tOut[43]:\n",
       "\t\t\t\t\t\t\t\t\t\t\t\t\t</div>\n",
       "\t\t\t\t\t\t\t\t\t\t\t\t</div>\n",
       "\t\t\t\t\t\t\t\t\t\t\t\t<div class=\"grid-item\">$$&#48;$$</div><div class=\"grid-item\">\n",
       "\t\t\t\t\t\t\t\t\t\t\t\t\t<div class=\"prompt output_prompt\" style=\"text-align:left;padding:0em;padding-right:20px;line-height:20px;\">\n",
       "\t\t\t\t\t\t\t\t\t\t\t\t\t\tOut[44]:\n",
       "\t\t\t\t\t\t\t\t\t\t\t\t\t</div>\n",
       "\t\t\t\t\t\t\t\t\t\t\t\t</div>\n",
       "\t\t\t\t\t\t\t\t\t\t\t\t<div class=\"grid-item\">$$&#92;&#99;&#111;&#115;&#32;&#92;&#108;&#101;&#102;&#116;&#40;&#92;&#115;&#113;&#114;&#116;&#123;&#50;&#125;&#32;&#116;&#92;&#114;&#105;&#103;&#104;&#116;&#41;$$</div></div></div>"
      ]
     },
     "execution_count": 40,
     "metadata": {
      "text/html": []
     },
     "output_type": "execute_result"
    }
   ],
   "source": [
    "(u = 2 Cos[t] - Cos[Sqrt[2] t])//TeX\n",
    "u/.t->0\n",
    "D[u,t] // TeX\n",
    "D[u,t]/.t->0\n",
    "D[u,t,t] + u // TeX"
   ]
  },
  {
   "cell_type": "code",
   "execution_count": 45,
   "metadata": {},
   "outputs": [
    {
     "data": {
      "text/html": [
       "<div><img alt=\"Output\" src=\"data:image/png;base64,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\" width=\"360\"></div>"
      ]
     },
     "execution_count": 45,
     "metadata": {
      "text/html": []
     },
     "output_type": "execute_result"
    }
   ],
   "source": [
    "Plot[u, {t,0,100}]"
   ]
  },
  {
   "cell_type": "markdown",
   "metadata": {},
   "source": [
    "**例:** $\\ddot u(t) = -u(t) + \\sin(\\sqrt{2}\\;t)$, $u(0)=1$, $\\dot u(0)=0$ の解は\n",
    "\n",
    "$$\n",
    "u(t) = \\cos t + \\sqrt{2}\\sin t - \\sin(\\sqrt{2}\\;t).\n",
    "$$"
   ]
  },
  {
   "cell_type": "code",
   "execution_count": 46,
   "metadata": {},
   "outputs": [
    {
     "data": {
      "text/html": [
       "<style>\n",
       "\t\t\t\t\t\t\t\t\t\t\t.grid-container {\n",
       "\t\t\t\t\t\t\t\t\t\t\t\tdisplay: inline-grid;\n",
       "\t\t\t\t\t\t\t\t\t\t\t\tgrid-template-columns: auto auto;\n",
       "\t\t\t\t\t\t\t\t\t\t\t}\n",
       "\t\t\t\t\t\t\t\t\t\t</style>\n",
       "\n",
       "\t\t\t\t\t\t\t\t\t\t<div><div class=\"grid-container\"><div class=\"grid-item\">\n",
       "\t\t\t\t\t\t\t\t\t\t\t\t\t<div class=\"prompt output_prompt\" style=\"text-align:left;padding:0em;padding-right:20px;line-height:20px;\">\n",
       "\t\t\t\t\t\t\t\t\t\t\t\t\t\tOut[46]:\n",
       "\t\t\t\t\t\t\t\t\t\t\t\t\t</div>\n",
       "\t\t\t\t\t\t\t\t\t\t\t\t</div>\n",
       "\t\t\t\t\t\t\t\t\t\t\t\t<div class=\"grid-item\">$$&#92;&#115;&#113;&#114;&#116;&#123;&#50;&#125;&#32;&#92;&#115;&#105;&#110;&#32;&#40;&#116;&#41;&#45;&#92;&#115;&#105;&#110;&#32;&#92;&#108;&#101;&#102;&#116;&#40;&#92;&#115;&#113;&#114;&#116;&#123;&#50;&#125;&#32;&#116;&#92;&#114;&#105;&#103;&#104;&#116;&#41;&#43;&#92;&#99;&#111;&#115;&#32;&#40;&#116;&#41;$$</div><div class=\"grid-item\">\n",
       "\t\t\t\t\t\t\t\t\t\t\t\t\t<div class=\"prompt output_prompt\" style=\"text-align:left;padding:0em;padding-right:20px;line-height:20px;\">\n",
       "\t\t\t\t\t\t\t\t\t\t\t\t\t\tOut[47]:\n",
       "\t\t\t\t\t\t\t\t\t\t\t\t\t</div>\n",
       "\t\t\t\t\t\t\t\t\t\t\t\t</div>\n",
       "\t\t\t\t\t\t\t\t\t\t\t\t<div class=\"grid-item\">$$&#49;$$</div><div class=\"grid-item\">\n",
       "\t\t\t\t\t\t\t\t\t\t\t\t\t<div class=\"prompt output_prompt\" style=\"text-align:left;padding:0em;padding-right:20px;line-height:20px;\">\n",
       "\t\t\t\t\t\t\t\t\t\t\t\t\t\tOut[48]:\n",
       "\t\t\t\t\t\t\t\t\t\t\t\t\t</div>\n",
       "\t\t\t\t\t\t\t\t\t\t\t\t</div>\n",
       "\t\t\t\t\t\t\t\t\t\t\t\t<div class=\"grid-item\">$$&#45;&#92;&#115;&#105;&#110;&#32;&#40;&#116;&#41;&#43;&#92;&#115;&#113;&#114;&#116;&#123;&#50;&#125;&#32;&#92;&#99;&#111;&#115;&#32;&#40;&#116;&#41;&#45;&#92;&#115;&#113;&#114;&#116;&#123;&#50;&#125;&#32;&#92;&#99;&#111;&#115;&#32;&#92;&#108;&#101;&#102;&#116;&#40;&#92;&#115;&#113;&#114;&#116;&#123;&#50;&#125;&#32;&#116;&#92;&#114;&#105;&#103;&#104;&#116;&#41;$$</div><div class=\"grid-item\">\n",
       "\t\t\t\t\t\t\t\t\t\t\t\t\t<div class=\"prompt output_prompt\" style=\"text-align:left;padding:0em;padding-right:20px;line-height:20px;\">\n",
       "\t\t\t\t\t\t\t\t\t\t\t\t\t\tOut[49]:\n",
       "\t\t\t\t\t\t\t\t\t\t\t\t\t</div>\n",
       "\t\t\t\t\t\t\t\t\t\t\t\t</div>\n",
       "\t\t\t\t\t\t\t\t\t\t\t\t<div class=\"grid-item\">$$&#48;$$</div><div class=\"grid-item\">\n",
       "\t\t\t\t\t\t\t\t\t\t\t\t\t<div class=\"prompt output_prompt\" style=\"text-align:left;padding:0em;padding-right:20px;line-height:20px;\">\n",
       "\t\t\t\t\t\t\t\t\t\t\t\t\t\tOut[50]:\n",
       "\t\t\t\t\t\t\t\t\t\t\t\t\t</div>\n",
       "\t\t\t\t\t\t\t\t\t\t\t\t</div>\n",
       "\t\t\t\t\t\t\t\t\t\t\t\t<div class=\"grid-item\">$$&#92;&#115;&#105;&#110;&#32;&#92;&#108;&#101;&#102;&#116;&#40;&#92;&#115;&#113;&#114;&#116;&#123;&#50;&#125;&#32;&#116;&#92;&#114;&#105;&#103;&#104;&#116;&#41;$$</div></div></div>"
      ]
     },
     "execution_count": 46,
     "metadata": {
      "text/html": []
     },
     "output_type": "execute_result"
    }
   ],
   "source": [
    "(u = Cos[t] + Sqrt[2] Sin[t] - Sin[Sqrt[2] t])//TeX\n",
    "u/.t->0\n",
    "D[u,t] // TeX\n",
    "D[u,t]/.t->0\n",
    "D[u,t,t] + u // TeX"
   ]
  },
  {
   "cell_type": "code",
   "execution_count": 51,
   "metadata": {},
   "outputs": [
    {
     "data": {
      "text/html": [
       "<div><img alt=\"Output\" src=\"data:image/png;base64,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\" width=\"360\"></div>"
      ]
     },
     "execution_count": 51,
     "metadata": {
      "text/html": []
     },
     "output_type": "execute_result"
    }
   ],
   "source": [
    "Plot[u, {t,0,100}]"
   ]
  },
  {
   "cell_type": "markdown",
   "metadata": {},
   "source": [
    "**例:** $\\ddot u(t) = -u(t) + \\cos t$, $u(0)=1$, $\\dot u(0)=0$ の解は\n",
    "\n",
    "$$\n",
    "u(t) = \\cos t + \\frac{t}{2}\\sin t.\n",
    "$$"
   ]
  },
  {
   "cell_type": "code",
   "execution_count": 52,
   "metadata": {},
   "outputs": [
    {
     "data": {
      "text/html": [
       "<style>\n",
       "\t\t\t\t\t\t\t\t\t\t\t.grid-container {\n",
       "\t\t\t\t\t\t\t\t\t\t\t\tdisplay: inline-grid;\n",
       "\t\t\t\t\t\t\t\t\t\t\t\tgrid-template-columns: auto auto;\n",
       "\t\t\t\t\t\t\t\t\t\t\t}\n",
       "\t\t\t\t\t\t\t\t\t\t</style>\n",
       "\n",
       "\t\t\t\t\t\t\t\t\t\t<div><div class=\"grid-container\"><div class=\"grid-item\">\n",
       "\t\t\t\t\t\t\t\t\t\t\t\t\t<div class=\"prompt output_prompt\" style=\"text-align:left;padding:0em;padding-right:20px;line-height:20px;\">\n",
       "\t\t\t\t\t\t\t\t\t\t\t\t\t\tOut[52]:\n",
       "\t\t\t\t\t\t\t\t\t\t\t\t\t</div>\n",
       "\t\t\t\t\t\t\t\t\t\t\t\t</div>\n",
       "\t\t\t\t\t\t\t\t\t\t\t\t<div class=\"grid-item\">$$&#92;&#102;&#114;&#97;&#99;&#123;&#49;&#125;&#123;&#50;&#125;&#32;&#116;&#32;&#92;&#115;&#105;&#110;&#32;&#40;&#116;&#41;&#43;&#92;&#99;&#111;&#115;&#32;&#40;&#116;&#41;$$</div><div class=\"grid-item\">\n",
       "\t\t\t\t\t\t\t\t\t\t\t\t\t<div class=\"prompt output_prompt\" style=\"text-align:left;padding:0em;padding-right:20px;line-height:20px;\">\n",
       "\t\t\t\t\t\t\t\t\t\t\t\t\t\tOut[53]:\n",
       "\t\t\t\t\t\t\t\t\t\t\t\t\t</div>\n",
       "\t\t\t\t\t\t\t\t\t\t\t\t</div>\n",
       "\t\t\t\t\t\t\t\t\t\t\t\t<div class=\"grid-item\">$$&#49;$$</div><div class=\"grid-item\">\n",
       "\t\t\t\t\t\t\t\t\t\t\t\t\t<div class=\"prompt output_prompt\" style=\"text-align:left;padding:0em;padding-right:20px;line-height:20px;\">\n",
       "\t\t\t\t\t\t\t\t\t\t\t\t\t\tOut[54]:\n",
       "\t\t\t\t\t\t\t\t\t\t\t\t\t</div>\n",
       "\t\t\t\t\t\t\t\t\t\t\t\t</div>\n",
       "\t\t\t\t\t\t\t\t\t\t\t\t<div class=\"grid-item\">$$&#92;&#102;&#114;&#97;&#99;&#123;&#49;&#125;&#123;&#50;&#125;&#32;&#116;&#32;&#92;&#99;&#111;&#115;&#32;&#40;&#116;&#41;&#45;&#92;&#102;&#114;&#97;&#99;&#123;&#92;&#115;&#105;&#110;&#32;&#40;&#116;&#41;&#125;&#123;&#50;&#125;$$</div><div class=\"grid-item\">\n",
       "\t\t\t\t\t\t\t\t\t\t\t\t\t<div class=\"prompt output_prompt\" style=\"text-align:left;padding:0em;padding-right:20px;line-height:20px;\">\n",
       "\t\t\t\t\t\t\t\t\t\t\t\t\t\tOut[55]:\n",
       "\t\t\t\t\t\t\t\t\t\t\t\t\t</div>\n",
       "\t\t\t\t\t\t\t\t\t\t\t\t</div>\n",
       "\t\t\t\t\t\t\t\t\t\t\t\t<div class=\"grid-item\">$$&#48;$$</div><div class=\"grid-item\">\n",
       "\t\t\t\t\t\t\t\t\t\t\t\t\t<div class=\"prompt output_prompt\" style=\"text-align:left;padding:0em;padding-right:20px;line-height:20px;\">\n",
       "\t\t\t\t\t\t\t\t\t\t\t\t\t\tOut[56]:\n",
       "\t\t\t\t\t\t\t\t\t\t\t\t\t</div>\n",
       "\t\t\t\t\t\t\t\t\t\t\t\t</div>\n",
       "\t\t\t\t\t\t\t\t\t\t\t\t<div class=\"grid-item\">$$&#92;&#99;&#111;&#115;&#32;&#40;&#116;&#41;$$</div></div></div>"
      ]
     },
     "execution_count": 52,
     "metadata": {
      "text/html": []
     },
     "output_type": "execute_result"
    }
   ],
   "source": [
    "(u = Cos[t] + t/2 Sin[t])//TeX\n",
    "u/.t->0\n",
    "D[u,t] // TeX\n",
    "D[u,t]/.t->0\n",
    "D[u,t,t] + u // TeX"
   ]
  },
  {
   "cell_type": "code",
   "execution_count": 57,
   "metadata": {},
   "outputs": [
    {
     "data": {
      "text/html": [
       "<div><img alt=\"Output\" src=\"data:image/png;base64,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\" width=\"360\"></div>"
      ]
     },
     "execution_count": 57,
     "metadata": {
      "text/html": []
     },
     "output_type": "execute_result"
    }
   ],
   "source": [
    "Plot[u, {t,0,100}]"
   ]
  },
  {
   "cell_type": "markdown",
   "metadata": {},
   "source": [
    "**例:** $\\ddot u(t) = -u(t) + \\sin t$, $u(0)=1$, $\\dot u(0)=0$ の解は\n",
    "\n",
    "$$\n",
    "u(t) = \\cos t + \\frac{1}{2}\\sin t - \\frac{t}{2}\\cos t.\n",
    "$$\n",
    "\n",
    "これは以下のようにして求めることができる.\n",
    "\n",
    "$$\n",
    "u(t) = a\\cos t + b\\sin t + c\\;t\\cos t + d\\;t\\sin t\n",
    "$$\n",
    "\n",
    "とおくと,\n",
    "\n",
    "$$\n",
    "\\begin{aligned}\n",
    "u(0) &= a,\n",
    "\\\\\n",
    "\\dot u(t) &= -a\\sin t + b\\cos t + c(-t\\sin t + \\cos t) + d(t\\cos t + \\sin t),\n",
    "\\\\\n",
    "\\dot u(0) &= b+c,\n",
    "\\\\\n",
    "\\ddot u(t) &= -a\\cos t - b\\sin t + c(-t\\cos t -2\\sin t) + d(-t\\sin t + 2\\cos t)\n",
    "\\\\ & =\n",
    "-u(t) + 2d\\cos t -2c\\sin t.\n",
    "\\end{aligned}\n",
    "$$\n",
    "\n",
    "これと $\\ddot u(t) = -u(t) + \\sin t$, $u(0)=1$, $\\dot u(0)=0$ を比較すれば, $a=1$, $d=0$, $c=-1/2$, $b=1/2$ を得る. "
   ]
  },
  {
   "cell_type": "code",
   "execution_count": 58,
   "metadata": {},
   "outputs": [
    {
     "data": {
      "text/html": [
       "<style>\n",
       "\t\t\t\t\t\t\t\t\t\t\t.grid-container {\n",
       "\t\t\t\t\t\t\t\t\t\t\t\tdisplay: inline-grid;\n",
       "\t\t\t\t\t\t\t\t\t\t\t\tgrid-template-columns: auto auto;\n",
       "\t\t\t\t\t\t\t\t\t\t\t}\n",
       "\t\t\t\t\t\t\t\t\t\t</style>\n",
       "\n",
       "\t\t\t\t\t\t\t\t\t\t<div><div class=\"grid-container\"><div class=\"grid-item\">\n",
       "\t\t\t\t\t\t\t\t\t\t\t\t\t<div class=\"prompt output_prompt\" style=\"text-align:left;padding:0em;padding-right:20px;line-height:20px;\">\n",
       "\t\t\t\t\t\t\t\t\t\t\t\t\t\tOut[58]:\n",
       "\t\t\t\t\t\t\t\t\t\t\t\t\t</div>\n",
       "\t\t\t\t\t\t\t\t\t\t\t\t</div>\n",
       "\t\t\t\t\t\t\t\t\t\t\t\t<div class=\"grid-item\">$$&#92;&#102;&#114;&#97;&#99;&#123;&#92;&#115;&#105;&#110;&#32;&#40;&#116;&#41;&#125;&#123;&#50;&#125;&#45;&#92;&#102;&#114;&#97;&#99;&#123;&#49;&#125;&#123;&#50;&#125;&#32;&#116;&#32;&#92;&#99;&#111;&#115;&#32;&#40;&#116;&#41;&#43;&#92;&#99;&#111;&#115;&#32;&#40;&#116;&#41;$$</div><div class=\"grid-item\">\n",
       "\t\t\t\t\t\t\t\t\t\t\t\t\t<div class=\"prompt output_prompt\" style=\"text-align:left;padding:0em;padding-right:20px;line-height:20px;\">\n",
       "\t\t\t\t\t\t\t\t\t\t\t\t\t\tOut[59]:\n",
       "\t\t\t\t\t\t\t\t\t\t\t\t\t</div>\n",
       "\t\t\t\t\t\t\t\t\t\t\t\t</div>\n",
       "\t\t\t\t\t\t\t\t\t\t\t\t<div class=\"grid-item\">$$&#49;$$</div><div class=\"grid-item\">\n",
       "\t\t\t\t\t\t\t\t\t\t\t\t\t<div class=\"prompt output_prompt\" style=\"text-align:left;padding:0em;padding-right:20px;line-height:20px;\">\n",
       "\t\t\t\t\t\t\t\t\t\t\t\t\t\tOut[60]:\n",
       "\t\t\t\t\t\t\t\t\t\t\t\t\t</div>\n",
       "\t\t\t\t\t\t\t\t\t\t\t\t</div>\n",
       "\t\t\t\t\t\t\t\t\t\t\t\t<div class=\"grid-item\">$$&#92;&#102;&#114;&#97;&#99;&#123;&#49;&#125;&#123;&#50;&#125;&#32;&#116;&#32;&#92;&#115;&#105;&#110;&#32;&#40;&#116;&#41;&#45;&#92;&#115;&#105;&#110;&#32;&#40;&#116;&#41;$$</div><div class=\"grid-item\">\n",
       "\t\t\t\t\t\t\t\t\t\t\t\t\t<div class=\"prompt output_prompt\" style=\"text-align:left;padding:0em;padding-right:20px;line-height:20px;\">\n",
       "\t\t\t\t\t\t\t\t\t\t\t\t\t\tOut[61]:\n",
       "\t\t\t\t\t\t\t\t\t\t\t\t\t</div>\n",
       "\t\t\t\t\t\t\t\t\t\t\t\t</div>\n",
       "\t\t\t\t\t\t\t\t\t\t\t\t<div class=\"grid-item\">$$&#48;$$</div><div class=\"grid-item\">\n",
       "\t\t\t\t\t\t\t\t\t\t\t\t\t<div class=\"prompt output_prompt\" style=\"text-align:left;padding:0em;padding-right:20px;line-height:20px;\">\n",
       "\t\t\t\t\t\t\t\t\t\t\t\t\t\tOut[62]:\n",
       "\t\t\t\t\t\t\t\t\t\t\t\t\t</div>\n",
       "\t\t\t\t\t\t\t\t\t\t\t\t</div>\n",
       "\t\t\t\t\t\t\t\t\t\t\t\t<div class=\"grid-item\">$$&#92;&#115;&#105;&#110;&#32;&#40;&#116;&#41;$$</div></div></div>"
      ]
     },
     "execution_count": 58,
     "metadata": {
      "text/html": []
     },
     "output_type": "execute_result"
    }
   ],
   "source": [
    "(u = Cos[t] + 1/2 Sin[t] - t/2 Cos[t])//TeX\n",
    "u/.t->0\n",
    "D[u,t] // TeX\n",
    "D[u,t]/.t->0\n",
    "D[u,t,t] + u // TeX"
   ]
  },
  {
   "cell_type": "code",
   "execution_count": 63,
   "metadata": {},
   "outputs": [
    {
     "data": {
      "text/html": [
       "<div><img alt=\"Output\" src=\"data:image/png;base64,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\" width=\"360\"></div>"
      ]
     },
     "execution_count": 63,
     "metadata": {
      "text/html": []
     },
     "output_type": "execute_result"
    }
   ],
   "source": [
    "Plot[u, {t,0,100}]"
   ]
  },
  {
   "cell_type": "markdown",
   "metadata": {},
   "source": [
    "#### 共振再論\n",
    "\n",
    "$\\alpha,\\omega\\ne 0$ であるとし, $\\d = d/dt$ とおく.\n",
    "\n",
    "前節のまとめは, 定数係数微分方程式\n",
    "\n",
    "$$\n",
    "\\ddot u(t) + \\omega^2 u(t) = A\\cos(\\alpha t) + B\\sin(\\alpha t)\n",
    "\\tag{$*$}\n",
    "$$\n",
    "\n",
    "の解が次の微分方程式の解になることを意味している:\n",
    "\n",
    "$$\n",
    "(\\d^2+\\omega^2)(\\d^2+\\alpha^2)u(t) = 0.\n",
    "\\tag{$**$}\n",
    "$$\n",
    "\n",
    "$\\omega^2\\ne\\alpha^2$ の場合には($**$)の解全体のなすベクトル空間の基底として, \n",
    "\n",
    "$$\n",
    "\\cos(\\omega t), \\quad \\sin(\\omega t), \\quad\n",
    "\\cos(\\alpha t), \\quad \\sin(\\alpha t)\n",
    "$$\n",
    "\n",
    "が取れ, $\\omega^2=\\alpha^2$ の場合には($**$)の解全体のなすベクトル空間の基底として, \n",
    "\n",
    "$$\n",
    "\\cos(\\omega t), \\quad \\sin(\\omega t), \\quad\n",
    "t\\cos(\\omega t), \\quad t\\sin(\\omega t)\n",
    "$$\n",
    "\n",
    "が取れるのであった.\n",
    "\n",
    "この一致は偶然であろうか? もちろんそうではない. そのことを以下で説明しよう.\n",
    "\n",
    "方程式($*$)の左辺は $(\\d^2+\\omega^2)u(t)$ と書け, 右辺は微分方程式 $(\\d^2+\\alpha^2)v(t)=0$ の解なので, 方程式($*$)の解 $u(t)$ から\n",
    "\n",
    "$$\n",
    "(\\d^2+\\omega^2)u(t) = v(t), \\quad\n",
    "(\\d^2+\\alpha^2)v(t) = 0\n",
    "$$\n",
    "\n",
    "の解 $u(t),v(t)$ が得られる. 前者を後者に代入すると($**$)が得られる. これで, ($*$)の解は($**$)の解になっていることが分かった.\n",
    "\n",
    "最初からこのように考えていれば($*$)の解が前節のまとめのように記述されることはほぼ自明になっていたはずである."
   ]
  },
  {
   "cell_type": "markdown",
   "metadata": {},
   "source": [
    "## 非斉次な波動方程式 (より高級な話題)\n",
    "\n",
    "この節の内容は先走った内容になっているので, 初めて読む読者は飛ばしてよい. 後で必要になってから戻って来ても遅くない.  しかし, 筆者的には実用的な内容を含んでいるので計算を追ってみて欲しいと思う.\n",
    "\n",
    "**ポイント:** 非斉次な調和振動子は本質的に非斉次な波動方程式の空間方向のFourier変換になっている. 非斉次な調和振動子が完全に解けているので, その逆Fourier変換によって非斉次な波動方程式も完全に解けてしまうことになる. $\\QED$\n",
    "\n",
    "### 解の表示\n",
    "\n",
    "$u=u(t,x)$ に関する次の方程式を非斉次な波動方程式の初期値問題と呼ぶ:\n",
    "\n",
    "$$\n",
    "u_{tt}(t,x) = u_{xx}(t,x) + f(t,x), \\quad u(0,x)=a(x), \\quad u_t(0,x)=b(x).\n",
    "$$\n",
    "\n",
    "これの解は次のように書ける:\n",
    "\n",
    "$$\n",
    "u(t,x) = \\frac{a(x+t)+a(x-t)}{2} + \n",
    "\\frac{1}{2}\\int_{x-t}^{x+t} b(y)\\,dy +\n",
    "\\frac{1}{2}\\int_0^t ds\\,\\int_{x-(t-s)}^{x+(t-s)} f(s,y)\\,dy.\n",
    "\\tag{$*$}\n",
    "$$\n",
    "\n",
    "これが実際に上の条件を満たしていることは直接的に確認できる:\n",
    "\n",
    "$$\n",
    "\\begin{aligned}\n",
    "u(0,x) &= a(x),\n",
    "\\\\\n",
    "u_t(t,x) &= \\frac{a'(x+t)-a'(x-t)}{2} +\n",
    "\\frac{b(x+t)+b(x-t)}{2} \n",
    "\\\\ &+ \n",
    "\\int_0^t\\frac{f(s,x+(t-s))+f(s,x-(t-s))}{2}\\,ds,\n",
    "\\\\\n",
    "u_t(0,x) &= b(x),\n",
    "\\\\\n",
    "u_{tt}(t,x) &= \\frac{a''(x+t)+a''(x-t)}{2} +\n",
    "\\frac{b'(x+t)-b'(x-t)}{2} \n",
    "\\\\ &+ \n",
    "\\int_0^t\\frac{f'(s,x+(t-s))-f'(s,x-(t-s))}{2}\\,ds + f(t,x),\n",
    "\\\\\n",
    "u_x(t,x) &= \\frac{a'(x+t)+a'(x-t)}{2} +\n",
    "\\frac{b(x+t)-b(x-t)}{2} \n",
    "\\\\ &+ \n",
    "\\int_0^t\\frac{f(s,x+(t-s))-f(s,x-(t-s))}{2}\\,ds,\n",
    "\\\\\n",
    "u_{xx}(t,x) &= \\frac{a''(x+t)+a''(x-t)}{2} +\n",
    "\\frac{b'(x+t)-b'(x-t)}{2} \n",
    "\\\\ &+ \n",
    "\\int_0^t\\frac{f'(s,x+(t-s))-f'(s,x-(t-s))}{2}\\,ds.\n",
    "\\end{aligned}\n",
    "$$\n",
    "\n",
    "ゆえに $u_{tt}(t,x) = u_{xx}(t,x) + f(t,x)$."
   ]
  },
  {
   "cell_type": "code",
   "execution_count": 64,
   "metadata": {},
   "outputs": [
    {
     "data": {
      "text/html": [
       "<style>\n",
       "\t\t\t\t\t\t\t\t\t\t\t.grid-container {\n",
       "\t\t\t\t\t\t\t\t\t\t\t\tdisplay: inline-grid;\n",
       "\t\t\t\t\t\t\t\t\t\t\t\tgrid-template-columns: auto auto;\n",
       "\t\t\t\t\t\t\t\t\t\t\t}\n",
       "\t\t\t\t\t\t\t\t\t\t</style>\n",
       "\n",
       "\t\t\t\t\t\t\t\t\t\t<div><div class=\"grid-container\"><div class=\"grid-item\">\n",
       "\t\t\t\t\t\t\t\t\t\t\t\t\t<div class=\"prompt output_prompt\" style=\"text-align:left;padding:0em;padding-right:20px;line-height:20px;\">\n",
       "\t\t\t\t\t\t\t\t\t\t\t\t\t\tOut[65]:\n",
       "\t\t\t\t\t\t\t\t\t\t\t\t\t</div>\n",
       "\t\t\t\t\t\t\t\t\t\t\t\t</div>\n",
       "\t\t\t\t\t\t\t\t\t\t\t\t<div class=\"grid-item\">$$&#92;&#102;&#114;&#97;&#99;&#123;&#49;&#125;&#123;&#50;&#125;&#32;&#92;&#105;&#110;&#116;&#95;&#48;&#94;&#116;&#32;&#92;&#108;&#101;&#102;&#116;&#40;&#92;&#105;&#110;&#116;&#95;&#123;&#115;&#45;&#116;&#43;&#120;&#125;&#94;&#123;&#45;&#115;&#43;&#116;&#43;&#120;&#125;&#32;&#102;&#40;&#115;&#44;&#121;&#41;&#32;&#92;&#44;&#32;&#100;&#121;&#92;&#114;&#105;&#103;&#104;&#116;&#41;&#32;&#92;&#44;&#32;&#100;&#115;&#43;&#92;&#102;&#114;&#97;&#99;&#123;&#49;&#125;&#123;&#50;&#125;&#32;&#40;&#97;&#40;&#120;&#45;&#116;&#41;&#43;&#97;&#40;&#116;&#43;&#120;&#41;&#41;&#43;&#92;&#102;&#114;&#97;&#99;&#123;&#49;&#125;&#123;&#50;&#125;&#32;&#92;&#105;&#110;&#116;&#95;&#123;&#120;&#45;&#116;&#125;&#94;&#123;&#116;&#43;&#120;&#125;&#32;&#98;&#40;&#121;&#41;&#32;&#92;&#44;&#32;&#100;&#121;$$</div><div class=\"grid-item\">\n",
       "\t\t\t\t\t\t\t\t\t\t\t\t\t<div class=\"prompt output_prompt\" style=\"text-align:left;padding:0em;padding-right:20px;line-height:20px;\">\n",
       "\t\t\t\t\t\t\t\t\t\t\t\t\t\tOut[66]:\n",
       "\t\t\t\t\t\t\t\t\t\t\t\t\t</div>\n",
       "\t\t\t\t\t\t\t\t\t\t\t\t</div>\n",
       "\t\t\t\t\t\t\t\t\t\t\t\t<div class=\"grid-item\">$$&#97;&#40;&#120;&#41;$$</div><div class=\"grid-item\">\n",
       "\t\t\t\t\t\t\t\t\t\t\t\t\t<div class=\"prompt output_prompt\" style=\"text-align:left;padding:0em;padding-right:20px;line-height:20px;\">\n",
       "\t\t\t\t\t\t\t\t\t\t\t\t\t\tOut[67]:\n",
       "\t\t\t\t\t\t\t\t\t\t\t\t\t</div>\n",
       "\t\t\t\t\t\t\t\t\t\t\t\t</div>\n",
       "\t\t\t\t\t\t\t\t\t\t\t\t<div class=\"grid-item\">$$&#92;&#102;&#114;&#97;&#99;&#123;&#49;&#125;&#123;&#50;&#125;&#32;&#92;&#105;&#110;&#116;&#95;&#48;&#94;&#116;&#32;&#40;&#102;&#40;&#115;&#44;&#115;&#45;&#116;&#43;&#120;&#41;&#43;&#102;&#40;&#115;&#44;&#45;&#115;&#43;&#116;&#43;&#120;&#41;&#41;&#32;&#92;&#44;&#32;&#100;&#115;&#43;&#92;&#102;&#114;&#97;&#99;&#123;&#49;&#125;&#123;&#50;&#125;&#32;&#92;&#108;&#101;&#102;&#116;&#40;&#97;&#39;&#40;&#116;&#43;&#120;&#41;&#45;&#97;&#39;&#40;&#120;&#45;&#116;&#41;&#92;&#114;&#105;&#103;&#104;&#116;&#41;&#43;&#92;&#102;&#114;&#97;&#99;&#123;&#49;&#125;&#123;&#50;&#125;&#32;&#40;&#98;&#40;&#120;&#45;&#116;&#41;&#43;&#98;&#40;&#116;&#43;&#120;&#41;&#41;$$</div><div class=\"grid-item\">\n",
       "\t\t\t\t\t\t\t\t\t\t\t\t\t<div class=\"prompt output_prompt\" style=\"text-align:left;padding:0em;padding-right:20px;line-height:20px;\">\n",
       "\t\t\t\t\t\t\t\t\t\t\t\t\t\tOut[68]:\n",
       "\t\t\t\t\t\t\t\t\t\t\t\t\t</div>\n",
       "\t\t\t\t\t\t\t\t\t\t\t\t</div>\n",
       "\t\t\t\t\t\t\t\t\t\t\t\t<div class=\"grid-item\">$$&#98;&#40;&#120;&#41;$$</div><div class=\"grid-item\">\n",
       "\t\t\t\t\t\t\t\t\t\t\t\t\t<div class=\"prompt output_prompt\" style=\"text-align:left;padding:0em;padding-right:20px;line-height:20px;\">\n",
       "\t\t\t\t\t\t\t\t\t\t\t\t\t\tOut[69]:\n",
       "\t\t\t\t\t\t\t\t\t\t\t\t\t</div>\n",
       "\t\t\t\t\t\t\t\t\t\t\t\t</div>\n",
       "\t\t\t\t\t\t\t\t\t\t\t\t<div class=\"grid-item\">$$&#92;&#102;&#114;&#97;&#99;&#123;&#49;&#125;&#123;&#50;&#125;&#32;&#92;&#108;&#101;&#102;&#116;&#40;&#92;&#105;&#110;&#116;&#95;&#48;&#94;&#116;&#32;&#92;&#108;&#101;&#102;&#116;&#40;&#102;&#94;&#123;&#40;&#48;&#44;&#49;&#41;&#125;&#40;&#115;&#44;&#45;&#115;&#43;&#116;&#43;&#120;&#41;&#45;&#102;&#94;&#123;&#40;&#48;&#44;&#49;&#41;&#125;&#40;&#115;&#44;&#115;&#45;&#116;&#43;&#120;&#41;&#92;&#114;&#105;&#103;&#104;&#116;&#41;&#32;&#92;&#44;&#32;&#100;&#115;&#43;&#50;&#32;&#102;&#40;&#116;&#44;&#120;&#41;&#92;&#114;&#105;&#103;&#104;&#116;&#41;&#43;&#92;&#102;&#114;&#97;&#99;&#123;&#49;&#125;&#123;&#50;&#125;&#32;&#92;&#108;&#101;&#102;&#116;&#40;&#97;&#39;&#39;&#40;&#120;&#45;&#116;&#41;&#43;&#97;&#39;&#39;&#40;&#116;&#43;&#120;&#41;&#92;&#114;&#105;&#103;&#104;&#116;&#41;&#43;&#92;&#102;&#114;&#97;&#99;&#123;&#49;&#125;&#123;&#50;&#125;&#32;&#92;&#108;&#101;&#102;&#116;&#40;&#98;&#39;&#40;&#116;&#43;&#120;&#41;&#45;&#98;&#39;&#40;&#120;&#45;&#116;&#41;&#92;&#114;&#105;&#103;&#104;&#116;&#41;$$</div><div class=\"grid-item\">\n",
       "\t\t\t\t\t\t\t\t\t\t\t\t\t<div class=\"prompt output_prompt\" style=\"text-align:left;padding:0em;padding-right:20px;line-height:20px;\">\n",
       "\t\t\t\t\t\t\t\t\t\t\t\t\t\tOut[70]:\n",
       "\t\t\t\t\t\t\t\t\t\t\t\t\t</div>\n",
       "\t\t\t\t\t\t\t\t\t\t\t\t</div>\n",
       "\t\t\t\t\t\t\t\t\t\t\t\t<div class=\"grid-item\">$$&#92;&#102;&#114;&#97;&#99;&#123;&#49;&#125;&#123;&#50;&#125;&#32;&#92;&#105;&#110;&#116;&#95;&#48;&#94;&#116;&#32;&#92;&#108;&#101;&#102;&#116;&#40;&#102;&#94;&#123;&#40;&#48;&#44;&#49;&#41;&#125;&#40;&#115;&#44;&#45;&#115;&#43;&#116;&#43;&#120;&#41;&#45;&#102;&#94;&#123;&#40;&#48;&#44;&#49;&#41;&#125;&#40;&#115;&#44;&#115;&#45;&#116;&#43;&#120;&#41;&#92;&#114;&#105;&#103;&#104;&#116;&#41;&#32;&#92;&#44;&#32;&#100;&#115;&#43;&#92;&#102;&#114;&#97;&#99;&#123;&#49;&#125;&#123;&#50;&#125;&#32;&#92;&#108;&#101;&#102;&#116;&#40;&#97;&#39;&#39;&#40;&#120;&#45;&#116;&#41;&#43;&#97;&#39;&#39;&#40;&#116;&#43;&#120;&#41;&#92;&#114;&#105;&#103;&#104;&#116;&#41;&#43;&#92;&#102;&#114;&#97;&#99;&#123;&#49;&#125;&#123;&#50;&#125;&#32;&#92;&#108;&#101;&#102;&#116;&#40;&#98;&#39;&#40;&#116;&#43;&#120;&#41;&#45;&#98;&#39;&#40;&#120;&#45;&#116;&#41;&#92;&#114;&#105;&#103;&#104;&#116;&#41;$$</div><div class=\"grid-item\">\n",
       "\t\t\t\t\t\t\t\t\t\t\t\t\t<div class=\"prompt output_prompt\" style=\"text-align:left;padding:0em;padding-right:20px;line-height:20px;\">\n",
       "\t\t\t\t\t\t\t\t\t\t\t\t\t\tOut[71]:\n",
       "\t\t\t\t\t\t\t\t\t\t\t\t\t</div>\n",
       "\t\t\t\t\t\t\t\t\t\t\t\t</div>\n",
       "\t\t\t\t\t\t\t\t\t\t\t\t<div class=\"grid-item\">$$&#48;$$</div></div></div>"
      ]
     },
     "execution_count": 65,
     "metadata": {
      "text/html": []
     },
     "output_type": "execute_result"
    }
   ],
   "source": [
    "Clear[a,b,f,s,t,x,y]\n",
    "(u = (a[x+t]+a[x-t])/2 + (1/2) Integrate[b[y],{y,x-t,x+t}] + (1/2) Integrate[Integrate[f[s,y],{y,x-(t-s),x+(t-s)}],{s,0,t}]) // TeX\n",
    "u/.t->0 // TeX\n",
    "D[u,t] // TeX\n",
    "D[u,t]/.t->0 // TeX\n",
    "(utt = D[u,t,t]) // TeX\n",
    "(uxx = D[u,x,x]) // TeX\n",
    "Simplify[utt - uxx - f[t,x]]"
   ]
  },
  {
   "cell_type": "markdown",
   "metadata": {},
   "source": [
    "それでは天下りに与えた解の表示($*$)はどのようにして発見できるであろうか?\n",
    "\n",
    "非斉次な波動方程式を $x$ についてFourier変換すれば前節の非斉次な調和振動子に帰着し, 逆Fourier変換でもとに戻せば解の表示($*$)が得られる. 以下の節では実際にそれを実行してみよう."
   ]
  },
  {
   "cell_type": "markdown",
   "metadata": {},
   "source": [
    "### Fourier変換に関する公式\n",
    "\n",
    "その絶対値およびその導函数の絶対値などが $|x|\\to\\infty$ で十分速く減少する函数 $f(x)$ について\n",
    "\n",
    "$$\n",
    "\\mathscr{F}[f](\\omega) = \\hat{f}(\\omega) = \\int_{-\\infty}^\\infty e^{-i\\omega x}f(x)\\,dx\n",
    "$$\n",
    "\n",
    "でFourier変換 $\\hat{f}(\\omega)$ を定義すると, 逆変換によって $\\hat{f}(\\omega)$ から $f(x)$ が得られる:\n",
    "\n",
    "$$\n",
    "f(x) = \\frac{1}{2\\pi}\\int_{-\\infty}^\\infty e^{i\\omega x}\\hat{f}(\\omega)\\,d\\omega.\n",
    "$$\n",
    "\n",
    "部分積分によって, \n",
    "\n",
    "$$\n",
    "\\mathscr{F}[f'](\\omega) = \n",
    "\\int_{-\\infty}^\\infty e^{-i\\omega x}f'(x)\\,dx = -\n",
    "\\int_{-\\infty}^\\infty (e^{-i\\omega x})' f(x)\\,dx = i\\omega\\hat{f}(\\omega).\n",
    "$$\n",
    "\n",
    "ゆえに\n",
    "\n",
    "$$\n",
    "\\mathscr{F}[f''](\\omega) = -\\omega^2\\hat{f}(\\omega).\n",
    "\\tag{1}\n",
    "$$\n",
    "\n",
    "簡単のため $t>0$ とする.  $f(x)$ が\n",
    "\n",
    "$$\n",
    "f(x) = \\frac{1}{2}\\chi_{[-t,t]}(x) =\n",
    "\\begin{cases}\n",
    "1/2 & (-t\\leqq x\\leqq t) \\\\\n",
    "0 & (\\text{otherwise})\n",
    "\\end{cases}\n",
    "$$\n",
    "\n",
    "のとき, \n",
    "\n",
    "$$\n",
    "\\hat{f}(\\omega) = \\frac{1}{2}\\int_{-t}^t e^{-i\\omega x}\\,dx = \\frac{\\sin(\\omega t)}{\\omega}\n",
    "$$\n",
    "\n",
    "なので\n",
    "\n",
    "$$\n",
    "\\frac{1}{2}\\chi_{[-t,t]}(x) =\n",
    "\\frac{1}{2\\pi}\\int_{-\\infty}^\\infty e^{i\\omega x}\\frac{\\sin(\\omega t)}{\\omega}\\,d\\omega.\n",
    "$$\n",
    "\n",
    "これの両辺の $x$ に $x-y$ を代入し, $f(y)$ をかけて $y$ について積分すると, \n",
    "\n",
    "$$\n",
    "\\frac{1}{2}\\int_{x-t}^{x+t} f(y)\\,dy =\n",
    "\\frac{1}{2\\pi}\\int_{-\\infty}^\\infty e^{i\\omega x}\\frac{\\sin(\\omega t)}{\\omega}\\hat{f}(\\omega)\\,d\\omega.\n",
    "\\tag{2}\n",
    "$$\n",
    "\n",
    "これの両辺を $t$ で微分すると\n",
    "\n",
    "$$\n",
    "\\frac{f(x+t)+f(x-t)}{2} = \n",
    "\\frac{1}{2\\pi}\\int_{-\\infty}^\\infty e^{i\\omega x}\\cos(\\omega t)\\hat{f}(\\omega)\\,d\\omega.\n",
    "\\tag{3}\n",
    "$$"
   ]
  },
  {
   "cell_type": "code",
   "execution_count": 72,
   "metadata": {},
   "outputs": [
    {
     "data": {
      "text/html": [
       "<div><img alt=\"Output\" src=\"data:image/png;base64,iVBORw0KGgoAAAANSUhEUgAAAtAAAAHECAIAAACfmorbAAAAhXpUWHRSYXcgcHJvZmlsZSB0eXBlIGV4aWYAAHjaVYvBDcMwDAP/mqIjyLJM2uMYiQNkg45fuu0n9yApgbT1vi97felp2dgxABc5csRU6P6juNciDXn+X9MfZGWgoRhTluEkhnJXkqKFN+LCAahYcIbnIV8gNQN3o86928QyPusLVffpbh/5eCey76LuBgAAAAlwSFlzAAAWJQAAFiUBSVIk8AAAADx0RVh0U29mdHdhcmUAQ3JlYXRlZCB3aXRoIHRoZSBXb2xmcmFtIExhbmd1YWdlIDogd3d3LndvbGZyYW0uY29tXKKmhQAAACF0RVh0Q3JlYXRpb24gVGltZQAyMDE5OjA1OjMxIDIzOjA4OjU31ZuVGgAAE7ZJREFUeJzt3U9spOddwPEnNGlaFJJWBDHWLC0FlgoJoVlLZi5IAYGQvELqVNyQAMmHffCFCyck5JF9yoULl9EboTnkkCvTFYp7gwo4vFrJ+xYhpbRqWoRHHqmkohD6R0m7HMaxx7u2d17bv0zmnc/n9M7Yr/1k7fF887x/nmcePXqUAAAi/dSiBwAsmZzzoocALB/BAQCEExwAQDjBAQCEExwAQDjBAQCEe3bRAwCWz8mFKkVRLHYkwLIQHEBtOgOoyyEVACCc4AAAwgkOACCc4AAAwgkOACCc4AAAwrksFhposr/XH42PH3S3i61Ojc//wBz7AczLDAc0TTXMZ+qhHORhdfkuk6PHawPgZpnhgGaphoMyzUxPVMM8KMvBcP2S6YrJ0WFK7d7uzmbrQxsnsGLMcECjVAdlSu3e7klddLZ2e+2UyoNLJjkmR+OUbq2pDSCO4IAmmfbGxp3Zdmjd2bi8OKYTHHoDiOSQCjTI5OgwPTlX0Vq7ldL48GiSOudGxeRonFJ3bTLM/XL6jMMrwE0zwwGrblop5WBQnjw1HvWfeqIpQB1mOKjh7//5m//29n8tehRc7Af/+Z2U0ttff/X1H80+/f23U0o/+MqXyq9+8sl9vvffD8cppY9/5g/bv/DS8XPv/OO3vlYO/uqFz/3qZ8/9Pq++Xp77PCvl13/p5T/4rV9e9ChYGoKDGibf/b+3vv3OokfBxd7//vMpPfPu/z72Y/rYu+m59P53xu8cnfuK//QX0qfTD3/8/v+c7vWLzz739rPf+drXP/7Cj5/49E+k9K1/GZ48/GH7Czf3H8AyeflT5wQsXERwAE/6mUfPpvTehR8WGUBdgoOr+EzrxfXP//yiR8E5vvrGW0fPf/z3Xrn9wulz3/3mm+kbP2hv/O7tuX9m011e/M1Xztnly2+k3iu3b2S0LKN//4/vmunkCgQHV/HZ1otf9JbzUXT7c9/80qD81suf/+PTi0wm+3tvpNT97T87/0dWDfOgfPyylGr4Rkrtz/deuf3ktSpffiP56a+yv/vKNwQHV+AqFWiUzno3pfGof3KNSTXsj8Ypddcvus/o8R5vzlyUMtm//+TtPACuwwwHNEvnbq9djsblIM9cSNLdnrmv+eNTGtM9zu6QUrt3z504gJtjhgMaprW5U2x3Tx+3e7tPWfW1tblT7PbaZ3dx4y/gRpnhgAbqbBXFVq0PtjZ3is3YQQErzQwHABBOcAAA4QQHABBOcAAA4QQHABBOcAAA4QQHABBOcAAA4dz4C6gt5zzdKIpisSMBloXgAGrTGUBdDqkAAOEEBwAQTnAAAOEEBwAQTnAAAOEEBwAQTnAAAOEEBwAQTnAAAOEEBwAQTnAAAOEEBwAQTnAAAOEEBwAQzvL0QG055+mGdeqBOQkOoDadAdTlkAoAEE5wAADhBAcAEE5wAADhBAcAEE5wAADhBAcAEE5wAADhBAcAEE5wAADhBAcAEE5wAADhBAcAEE5wAADhLE8P1JZznm5Ypx6Yk+AAatMZQF0OqQAA4QQHABBOcAAA4QQHABBOcAAA4QQHABBOcAAA4QQHABBOcAAA4QQHABBOcAAA4QQHABBOcAAA4QQHABDO8vRAbTnn6YZ16oE5CQ6gNp0B1OWQCgAQTnAAAOEEBwAQTnAAAOEEBwAQTnAAAOFcFgsNNNnf64/Gxw+628VWp8bO1TAPyro7AVzODAc0TTXMp7WRUioHeVjV2HtQBgwKWHWCA5rlOBi628XUdjelVA7mTA65AQQRHNAo1UGZUru3e3I8pLO122unVB7MURzVcFCmdrsdOkJgNQkOaJJpb2zcac0817qzMVdxVMNBmbrb9zYiBwisKsEBDTI5Okwp3VprnXm2tXYrpXR4NLls1+PccKYoEENwAClN9u/LDSCS4AAm+6+Nxu3eXbkBhHEfDlh1x7mxu9l6+uceyzmfbFuqHpiH4IDVdoXcEBlAfYIDGqS1diul8eHRJHVm+uH8U0mPP/bwwTilNOrn0Znny0Eua9+jFOBCzuGAJumsd1MaP3g4e0HKtCm669IBWCAzHNAonfVuKstRf7h2PDlRDfujS3qjtblTbJ55ZroOi8kN4GYJDmiWzt1euxyNy0GeuUf5mQteq2EelO3e7k6t0zYArsUhFWiY1ubOdAGVY+3erskKYOHMcEADdbaKYutKHzzvIAvA9ZnhAADCCQ4AIJzgAADCCQ4AIJzgAADCCQ4AIJzgAADCCQ4AIJwbfwG15ZynG9apB+YkOIDadAZQl0MqAEA4wQEAhBMcAEA4wQEAhBMcAEA4wQEAhBMcAEA4wQEAhBMcAEA4wQEAhBMcAEA4wQEAhBMcAEA4wQEAhLM8PVBbznm6YZ16YE6CA6hNZwB1OaQCAIQTHABAOMEBAIQTHABAOMEBAIQTHABAOMEBAIQTHABAOMEBAIQTHABAOMEBAIQTHABAOMEBAIQTHABAOMvTA7XlnKcb1qkH5iQ4gNp0BlCXQyoAQDjBAQCEExwAXMV77/9k0UNgmQgOAK7ie+/+aNFDYJkIDgAgnOAAAMIJDgAgnOAAAMIJDgAgnOAAAMIJDgAgnOAAAMIJDgAgnOAAAMJZnh6oLec83bBOPTAnwQHUpjOAuhxSAQDCCQ4AIJzgAADCCQ4AIJzgAADCCQ4AIJzLYqGBJvt7/dH4+EF3u9jq3PweAHWY4YCmqYb5tB1SSuUgD6u6e+ztT4KGB6wmwQHNUg0HZUqpu11MbXdTSuXgkuSY7N8/s8dur53SePSa5ABukOCARqkOypTavd2TQyKdrd1eO6Xy4KLimDx8ME6pu32yR2vzXq+d0vhIcAA3R3BAk0x7Y+NOa+a51p2Ny4qjtblTFM7ZAIIJDmiQydFhSunWWuvMs621Wymlw3lnLKphfzRO7d5dDQLcHFepAMdOr1Rp93Z3NltP+3yA+ZnhAJ4wHvVdpgLcKDMcwLHW5k6xmdLxVMeoP1y76NSOnPPJtqXqgXkIDuBxrc17vQf9UXlQbXXOLQ6RAdTlkAo0yPmnh55/KukcXwjgxggOaJLOejel8YOHs8VxfKON9QsuOqmGOT9xY9HqoIwbJLCKBAc0yrQ4Rv2TO4tOL3K9uDc+2GP2xqIf3Hv0wn0A6nIOBzRL526vXY7G5SDPzFHM3Ec0pWqYB+XMha+dre1uOShH/Tya+TqzdysFuDYzHNAwrc2d6QIqx9q93afdR7SzNV1A5UR3u3AfDuBGmeGABupsFcVWrQ+eXBILEMIMBwAQTnAAAOEEBwAQTnAAAOEEBwAQTnAAAOEEBwAQTnAAAOHc+AuoLec83bBOPTAnwQHUpjOAuhxSAQDCCQ4AIJzgAADCCQ4AIJzgAADCCQ4AIJzgAADCCQ4AIJzgAADCCQ4AIJzgAADCCQ4AIJzgAADCCQ4AIJzl6YHacs7TDevUA3MSHEBtOgOoyyEVACCc4AAAwgkOACCc4AAAwgkOACCc4AAAwgkOACCc4OAqfvalTy56CAAsE8EBAIQTHABAOMEBAIQTHABAOMEBAIQTHABAOMEB1JZzzjkvehTAMnl20QMAlk9RFIseArBkzHAAAOEEBwAQTnAAAOEEBwAQTnAAAOEEBwAQTnAAAOEEBwAQTnAAAOEEBwAQTnAAAOEEBwAQTnAAAOEEB1Cb5emBuixPD9RmeXqgLjMcAEA4wQEAhBMcAEA4wQEAhBMcAEA4wQEAhHNZLDTQZH+vPxofP+huF1udp+1RDfOgPHnU7u3ubLaiRgesIjMc0DTVMJ/WRkqpHORhddkOk/292dpIKY1H/afsA1CPGQ5olmo4KNPMtEY1zIOyHAzXL5rmmOy/NhqfmdSYzo9ctg9AXWY4oFGqgzKldm/3pBQ6W7u9dkrlwUUTFpOjcUrt3r3TQyitzZ3tbrpsH4C6BAc0ybQ3Nu7Mnn/RurNxWXF0toqiePyMjdZaO26QwCoSHNAgk6PDlNKttcfr4VZK6fBoUucLjVPqrjugAtwUwQE8brJ/v9QbwI0SHMBZ1bA/Gs+eBgJwfa5SAU4d38Cju335bThyzifblqoH5iE4gGPT2pjnpl8iA6hLcECDtNZupTQ+PJqkzkwynH8q6WOmtxqd666kAPU5hwOapLPeTWn84OHsBSmThw+edsmJ2gCiCQ5olGlxjPonNyavhv3R5b0x2d9TG0A0h1SgWTp3e+1yNC4HeWZ1lO72TExUwzwoT8/UqN4cjVNKZ3f4YDcRAtwQMxzQMK3NnWK7e/q43du9LBuqgyc6A+DmmeGABupsFcXWfB+89FMBbooZDgAgnOAAAMIJDgAgnOAAAMIJDgAgnOAAAMIJDgAgnOAAAMIJDqC2nHPOedGjAJaJO40CtRVFseghAEvGDAcAEE5wAADhBAcAEE5wAADhBAcAEE5wAADhBAcAEE5wAADhBAcAEE5wUMP33v3RoocAwFISHNTw3vs/WfQQgAV77mPeOLgKvzcA1PDSC88veggsJcEBAIQTHABAOMvTA7XlnKcb1qkH5iQ4gNp0BlCXQyoAQDjBAQCEExwAQDjBAQCEExwAQDjBAQCEExwAQDjBAQCEExwAQDjBAQCEExwAQDjBAQCEExwAQDjBAQCEszw9UFvOebphnXpgToIDqE1nAHU5pAIAhBMcAEA4wQEAhBMcAEA4wQEAhBMcAEA4wQEAhBMcAEA4wQEAhBMcAEA4wQEAhBMcAEA4wQEAhBMcAEA4y9MDteWcpxvWqQfmJDiA2nQGUJdDKgBAOMEBAIQTHABAOMEBAIQTHABAOMEBAIRzWSw00GR/rz8aHz/obhdbnbl3rYZ5kGrtATAHMxzQNNUwn9ZGSqkc5GE1366T/b1BGTMqYMUJDmiWajgoU0rd7WJqu5tSKgdzJMeZaRGAmyU4oFGqgzKldm/35JBIZ2u3106pPLi0OKphzv3ROLXb7Q9hkMAKEhzQJNPe2LjTmnmudWfjKcUx2b9fTidF7m3EjxFYSU4ahQaZHB2mlG6ttc4821q7ldL48GiSOq1zd2tt7hSb0y8QPUJgVZnhAADCCQ4AIJxDKkBtOeeTbUvVA/MQHEBtIgOoyyEVaJDW2q2U0uHR2XM/zz+VFODDJDigSTrr3ZTGDx7OFsfk4YNxSt11NysHFkhwQKNMi2PUP7mzaDXsj/QGsHDO4YBm6dzttcvRuBzkmUVRutszi7FVwzwo273dnU3HWIAPjRkOaJjW5s50AZVj7d6utV+BhTPDAQ3U2SqKrat88PSeowA3ygwHABBOcAAA4QQHABBOcAAA4QQHABBOcAAA4QQHABBOcAAA4dz4C6gt5zzdsE49MCfBAdSmM4C6HFIBAMIJDgAgnOAAAMIJDgAgnOAAAMIJDgAgnOAAAMIJDgAgnOAAAMIJDgAgnOAAAMIJDgAgnOAAAMIJDgAgnOXpgdpyztMN69QDcxIcQG06A6jLIRUAIJzgAADCCQ4AIJzgAADCCQ4AIJzgAADCCQ4AIJzgAADCCQ4AIJzgAADCCQ4AIJzgAADCCQ4AIJzgAADCWZ4eqC3nPN2wTj0wJ8EB1KYzgLocUgEAwgkOACCc4AAAwgkOACCc4AAAwgkOACCc4AAAwgkOACCc4AAAwgkOACCc4AAAwgkOACCc4AAAwgkOACCc5emB2nLO0w3r1ANzEhxAbToDqMshFQAgnOAAAMIJDgAgnOAAAMIJDgAgnOAAAMIJDgAgnOAAAMIJDgAgnOAAAMLVC46TBRRYWZ8Yf2nRQwAWz58C6iaBGQ4AINySBcfCp1gMYOEW/i9gAB8FC/9HMICFW/i/gAHUVWO12FdfL1NKf7r3Zthgnu4TBvARGABASumtb7+zwD9HH4U/hgbwF3/zD3/9578z5+c/8+jRo6WrJABgiRRF8cyjR4/m/OxXXy/f+vY7oQNiWfReuf3FV24vehQsRs65KIpFj4KF+afq8G/v/+uiR8FHwsuf+uT8Mxw1Dqn80e//2vd/+N6VhkTTvPypn170EIDF+I1f+bm//JPuokfBR8Jzz35s/k+uERyfab1YfzAANMpLLzz/0gvPL3oULJ8lu0oFAFhGggMACCc4AIBwggMACCc4AIBwNa5SuVA1zIOyu11sdW7gi7E8qmEelCeP2r3dnc3WAocDhPOqZ0bNd//rz3BUw5lfP1bFZH8vn/3Bj0f9PKwWNR4gmlc9Z9R+97/uDIfcWEmT/ddG4zP/ezPZ3+uPxuVguG6mC5rIq54zrvDuf70Zjmo4KFO73b7WF2H5TI7GKbV7904nU1ubO9vdlFJ54H93oIm86plxpXf/6wRHNRyUqbt9b+MaX4Ol1NkqiuLxY7etNeUJjeVVz4krvvtfPTiOv6GZNI5NjsYpddf9QsDK8KpfRVd+979qcEz278sNZkz275f+8sAq8apfRdd497/aSaOT/ddG43bvnl8zpqphfzRu93YV6IrIOU83rFO/urzqV9G13v2vEhzH33DX5dek9MGp6qm77YL81aEzVpxX/Wq65rv/bHAc/wqd6/RSKLnRZPP9Djyxg9v/wOrwql9R1373f+bRo0c1v+PF70jJ7UZXy/Smg37qqybnbIZjZXnVr6zrv/tbS4Ur8ncHVo1XPddRe4bjSdPq8Su4UvzQV5kZjtXkVc9j6v5K3MTibayc6s3ROKVUDvITt7b15wgayaue63JIhfqqAwvorDLTG6vIq55ru4FDKgAAlzPDAQCEExwAQDjBAQCEExwAQDjBAQCE+38oVG09N5Qv+QAAAABJRU5ErkJggg==\" width=\"360\"></div>"
      ]
     },
     "execution_count": 72,
     "metadata": {
      "text/html": []
     },
     "output_type": "execute_result"
    }
   ],
   "source": [
    "Plot[(HeavisidePi[x/(2t)]/2)/.t->-2, {x,-4,4}, Exclusions->None]"
   ]
  },
  {
   "cell_type": "code",
   "execution_count": 73,
   "metadata": {},
   "outputs": [
    {
     "data": {
      "text/html": [
       "<div>$$&#92;&#108;&#101;&#102;&#116;&#124;&#32;&#116;&#92;&#114;&#105;&#103;&#104;&#116;&#124;&#32;&#32;&#92;&#116;&#101;&#120;&#116;&#123;&#115;&#105;&#110;&#99;&#125;&#40;&#92;&#111;&#109;&#101;&#103;&#97;&#32;&#32;&#116;&#41;$$</div>"
      ]
     },
     "execution_count": 73,
     "metadata": {
      "text/html": []
     },
     "output_type": "execute_result"
    }
   ],
   "source": [
    "Sqrt[2 Pi] FourierTransform[HeavisidePi[x/(2t)]/2, x, omega] // TeX"
   ]
  },
  {
   "cell_type": "code",
   "execution_count": 74,
   "metadata": {},
   "outputs": [
    {
     "data": {
      "text/html": [
       "<div>$$&#92;&#102;&#114;&#97;&#99;&#123;&#92;&#108;&#101;&#102;&#116;&#124;&#32;&#116;&#92;&#114;&#105;&#103;&#104;&#116;&#124;&#32;&#32;&#40;&#92;&#116;&#101;&#120;&#116;&#123;&#115;&#103;&#110;&#125;&#40;&#116;&#45;&#120;&#41;&#43;&#92;&#116;&#101;&#120;&#116;&#123;&#115;&#103;&#110;&#125;&#40;&#116;&#43;&#120;&#41;&#41;&#125;&#123;&#52;&#32;&#116;&#125;$$</div>"
      ]
     },
     "execution_count": 74,
     "metadata": {
      "text/html": []
     },
     "output_type": "execute_result"
    }
   ],
   "source": [
    "(F = 1/Sqrt[2 Pi] InverseFourierTransform[Abs[t] Sinc[omega t], omega, x]) // TeX"
   ]
  },
  {
   "cell_type": "code",
   "execution_count": 75,
   "metadata": {},
   "outputs": [
    {
     "data": {
      "text/html": [
       "<div><img alt=\"Output\" src=\"data:image/png;base64,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\" width=\"360\"></div>"
      ]
     },
     "execution_count": 75,
     "metadata": {
      "text/html": []
     },
     "output_type": "execute_result"
    }
   ],
   "source": [
    "Plot[F/.t->-2, {x,-4,4}]"
   ]
  },
  {
   "cell_type": "markdown",
   "metadata": {},
   "source": [
    "### 非斉次な波動方程式のFourier変換による解法\n",
    "\n",
    "非斉次な波動方程式の初期値問題\n",
    "\n",
    "$$\n",
    "u_{tt}(t,x) = u_{xx}(t,x) + f(t,x), \\quad u(0,x)=a(x), \\quad u_t(0,x)=b(x)\n",
    "$$\n",
    "\n",
    "は(1)より\n",
    "\n",
    "$$\n",
    "\\hat{u}_{tt}(t,\\omega) = -\\omega^2\\hat{u}_{xx}(t,\\omega) + \\hat{f}(t,\\omega),\n",
    "\\quad \\hat{u}(t,\\omega)=\\hat{a}(\\omega), \\quad \\hat{u}_t(0,x)=\\hat{b}(\\omega).\n",
    "$$\n",
    "\n",
    "と書き直される. これは非斉次な調和振動子である. ゆえに次のように解ける:\n",
    "\n",
    "$$\n",
    "\\hat{u}(t,\\omega) = \n",
    "\\hat{a}(\\omega)\\cos(\\omega t) +\n",
    "\\hat{b}(\\omega)\\frac{\\sin(\\omega t)}{\\omega} +\n",
    "\\int_0^t \\frac{\\sin(\\omega(t-s))}{\\omega}\\hat{f}(s,\\omega)\\,ds.\n",
    "$$\n",
    "\n",
    "この等式の両辺に $e^{i\\omega x}$ をかけて $\\omega$ について積分して $2\\pi$ で割ると, (2),(3)より,\n",
    "\n",
    "$$\n",
    "u(t,x) =\n",
    "\\frac{a(x+t)+a(x-t)}{2} +\n",
    "\\frac{1}{2}\\int_{x-t}^{x+t} b(y)\\, dy +\n",
    "\\frac{1}{2}\\int_0^t ds\\int_{x-(t-s)}^{x+(t-s)} f(s,y)\\,dy.\n",
    "$$\n",
    "\n",
    "これが欲しい解の表示であった. \n",
    "\n",
    "特に斉次の場合の通常の波動方程式の初期値問題の解は\n",
    "\n",
    "$$\n",
    "u(t,x) =\n",
    "\\frac{a(x+t)+a(x-t)}{2} +\n",
    "\\frac{1}{2}\\int_{x-t}^{x+t} b(y)\\, dy\n",
    "$$\n",
    "\n",
    "と書ける. これは $B(x)=\\int b(x)\\,dx$, $f(x)=(a(x)+B(x))/2$, $g(x)=(a(x)-B(x))/2$ とおくと, \n",
    "\n",
    "$$\n",
    "u(t,x) = f(x+t) + g(x-t)\n",
    "$$\n",
    "\n",
    "と書き直される. これが $u_{tt}=u_{xx}$ を満たしていることを確認することは易しい."
   ]
  },
  {
   "cell_type": "code",
   "execution_count": null,
   "metadata": {},
   "outputs": [],
   "source": []
  }
 ],
 "metadata": {
  "@webio": {
   "lastCommId": null,
   "lastKernelId": null
  },
  "_draft": {
   "nbviewer_url": "https://gist.github.com/cc4bb2fbd82f65f3609b5417f6efbdac"
  },
  "gist": {
   "data": {
    "description": "08-1 Linear inhomogeneous ODEs with constant coefficients.ipynb",
    "public": true
   },
   "id": "cc4bb2fbd82f65f3609b5417f6efbdac"
  },
  "kernelspec": {
   "display_name": "Wolfram Language 12",
   "language": "Wolfram Language",
   "name": "wolframlanguage12"
  },
  "language_info": {
   "codemirror_mode": "mathematica",
   "file_extension": ".m",
   "mimetype": "application/vnd.wolfram.m",
   "name": "Wolfram Language",
   "pygments_lexer": "python",
   "version": "12.0"
  },
  "toc": {
   "nav_menu": {},
   "number_sections": true,
   "sideBar": true,
   "skip_h1_title": true,
   "title_cell": "目次",
   "title_sidebar": "目次",
   "toc_cell": true,
   "toc_position": {},
   "toc_section_display": true,
   "toc_window_display": false
  }
 },
 "nbformat": 4,
 "nbformat_minor": 2
}
