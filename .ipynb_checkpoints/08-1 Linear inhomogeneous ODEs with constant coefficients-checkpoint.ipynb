{
 "cells": [
  {
   "cell_type": "markdown",
   "metadata": {},
   "source": [
    "# 定数係数線形常微分方程式(非斉次)\n",
    "\n",
    "* Author: 黒木玄\n",
    "* Date: 2019-04-23～2019-06-05\n",
    "* Repository: https://github.com/genkuroki/DifferentialEquations\n",
    "$\n",
    "\\newcommand\\ds{\\displaystyle}\n",
    "\\newcommand\\Z{{\\mathbb Z}}\n",
    "\\newcommand\\R{{\\mathbb R}}\n",
    "\\newcommand\\C{{\\mathbb C}}\n",
    "\\newcommand\\eps{\\varepsilon}\n",
    "\\newcommand\\QED{\\text{□}}\n",
    "\\newcommand\\d{\\partial}\n",
    "\\newcommand\\real{\\operatorname{Re}}\n",
    "\\newcommand\\imag{\\operatorname{Im}}\n",
    "\\newcommand\\tr{\\operatorname{tr}}\n",
    "$\n",
    "\n",
    "このファイルは [nbviewer](https://nbviewer.jupyter.org/github/genkuroki/DifferentialEquations/blob/master/08-1%20Linear%20inhomogeneous%20ODEs%20with%20constant%20coefficients.ipynb) でも閲覧できる.\n",
    "\n",
    "[Julia言語](https://julialang.org/) と [Jupyter環境](https://jupyter.org/) の簡単な解説については次を参照せよ:\n",
    "\n",
    "* [JuliaとJupyterのすすめ](https://nbviewer.jupyter.org/github/genkuroki/msfd28/blob/master/msfd28genkuroki.ipynb?flush_cached=true)\n",
    "\n",
    "[Julia言語](https://julialang.org/) 環境の整備の仕方については次を参照せよ:\n",
    "\n",
    "* [Julia v1.1.0 の Windows 8.1 へのインストール](https://nbviewer.jupyter.org/github/genkuroki/msfd28/blob/master/install.ipynb)\n",
    "\n",
    "[Wolfram言語](http://www.wolfram.com/language/fast-introduction-for-programmers/ja/) 環境の整備の仕方については次を参照せよ:\n",
    "\n",
    "* [Free Wolfram EngineをJupyterで使う方法](https://nbviewer.jupyter.org/github/genkuroki/msfd28/blob/master/Free%20Wolfram%20Engine.ipynb)\n",
    "\n",
    "**注意:** このノートブックの出力結果は [Free Wolfram EngineをJupyterで使う方法](https://nbviewer.jupyter.org/github/genkuroki/msfd28/blob/master/Free%20Wolfram%20Engine.ipynb) に書いてある修正を [OutputHandlingUtilities.wl の toOutText 函数](https://github.com/WolframResearch/WolframLanguageForJupyter/blob/master/WolframLanguageForJupyter/Resources/OutputHandlingUtilities.wl#L123-L136) に施した場合にのみ得られる出力である. 例えば, `<pre>`～`</pre>` で囲んである部分を `$$`～`$$` で囲むように修正している."
   ]
  },
  {
   "cell_type": "code",
   "execution_count": 1,
   "metadata": {},
   "outputs": [],
   "source": [
    "JupyterImageResolution = 84;\n",
    "JupyterOutTextForm = \"TeX\";\n",
    "\n",
    "TeX[x_] := ToString[TeXForm[x]]\n",
    "TeX[x_, y__] := StringJoin[TeX[x], TeX[y]]\n",
    "TeXRaw[x__, y_] := StringJoin[x, TeX[y]]\n",
    "\n",
    "MappedBy[x_] := x\n",
    "MappedBy[x_, F___, G_] := MappedBy[x, F] // G\n",
    "\n",
    "SetAttributes[TeXEq, HoldFirst]\n",
    "TeXEq[x_] := TeX[HoldForm[x] == MappedBy[x, ReleaseHold, FullSimplify]]\n",
    "TeXEq[x_, F__] := TeX[HoldForm[x] == MappedBy[x, ReleaseHold, F]]"
   ]
  },
  {
   "cell_type": "markdown",
   "metadata": {
    "toc": true
   },
   "source": [
    "<h1>目次<span class=\"tocSkip\"></span></h1>\n",
    "<div class=\"toc\"><ul class=\"toc-item\"><li><span><a href=\"#非斉次の定数係数線形常微分方程式\" data-toc-modified-id=\"非斉次の定数係数線形常微分方程式-1\"><span class=\"toc-item-num\">1&nbsp;&nbsp;</span>非斉次の定数係数線形常微分方程式</a></span><ul class=\"toc-item\"><li><span><a href=\"#斉次な場合の一般解\" data-toc-modified-id=\"斉次な場合の一般解-1.1\"><span class=\"toc-item-num\">1.1&nbsp;&nbsp;</span>斉次な場合の一般解</a></span><ul class=\"toc-item\"><li><span><a href=\"#例:-斉次調和振動子\" data-toc-modified-id=\"例:-斉次調和振動子-1.1.1\"><span class=\"toc-item-num\">1.1.1&nbsp;&nbsp;</span>例: 斉次調和振動子</a></span></li></ul></li><li><span><a href=\"#非斉次な場合の一般解\" data-toc-modified-id=\"非斉次な場合の一般解-1.2\"><span class=\"toc-item-num\">1.2&nbsp;&nbsp;</span>非斉次な場合の一般解</a></span><ul class=\"toc-item\"><li><span><a href=\"#非斉次な調和振動子\" data-toc-modified-id=\"非斉次な調和振動子-1.2.1\"><span class=\"toc-item-num\">1.2.1&nbsp;&nbsp;</span>非斉次な調和振動子</a></span></li><li><span><a href=\"#共振\" data-toc-modified-id=\"共振-1.2.2\"><span class=\"toc-item-num\">1.2.2&nbsp;&nbsp;</span>共振</a></span></li><li><span><a href=\"#共振再論\" data-toc-modified-id=\"共振再論-1.2.3\"><span class=\"toc-item-num\">1.2.3&nbsp;&nbsp;</span>共振再論</a></span></li></ul></li></ul></li><li><span><a href=\"#非斉次な波動方程式-(より高級な話題)\" data-toc-modified-id=\"非斉次な波動方程式-(より高級な話題)-2\"><span class=\"toc-item-num\">2&nbsp;&nbsp;</span>非斉次な波動方程式 (より高級な話題)</a></span><ul class=\"toc-item\"><li><span><a href=\"#解の表示\" data-toc-modified-id=\"解の表示-2.1\"><span class=\"toc-item-num\">2.1&nbsp;&nbsp;</span>解の表示</a></span></li><li><span><a href=\"#Fourier変換に関する公式\" data-toc-modified-id=\"Fourier変換に関する公式-2.2\"><span class=\"toc-item-num\">2.2&nbsp;&nbsp;</span>Fourier変換に関する公式</a></span></li><li><span><a href=\"#非斉次な波動方程式のFourier変換による解法\" data-toc-modified-id=\"非斉次な波動方程式のFourier変換による解法-2.3\"><span class=\"toc-item-num\">2.3&nbsp;&nbsp;</span>非斉次な波動方程式のFourier変換による解法</a></span></li></ul></li></ul></div>"
   ]
  },
  {
   "cell_type": "markdown",
   "metadata": {},
   "source": [
    "## 非斉次の定数係数線形常微分方程式\n",
    "\n",
    "斉次の定数係数線形常微分方程式とは, 定数 $p_1,p_2,\\ldots,p_n$ に関する\n",
    "\n",
    "$$\n",
    "u^{(n)}(x) + p_{n-1}u^{(n-1)}(x) + \\cdots + p_1 u'(x) + p_0 u(x) = 0\n",
    "\\tag{$*$}\n",
    "$$\n",
    "\n",
    "の形の微分方程式のことである. \n",
    "\n",
    "非斉次の定数係数線形常微分方程式とは, 定数 $p_1,p_2,\\ldots,p_n$ と任意函数 $f(x)$ に関する\n",
    "\n",
    "$$\n",
    "u^{(n)}(x) + p_{n-1}u^{(n-1)}(x) + \\cdots + p_1 u'(x) + p_0 u(x) = f(x)\n",
    "\\tag{$**$}\n",
    "$$\n",
    "\n",
    "の形の微分方程式のことである. 右辺が $0$ ではなく $f(x)$ であることが斉次の場合と異なる. この微分方程式は\n",
    "\n",
    "$$\n",
    "w(x) = \\begin{bmatrix}\n",
    "u_0(x) \\\\ u_1(x) \\\\ \\vdots \\\\ u_{n-2}(x) \\\\ u_{n-1}(x) \\\\\n",
    "\\end{bmatrix} =\n",
    "\\begin{bmatrix}\n",
    "u(x) \\\\ u'(x) \\\\ \\vdots \\\\ u^{(n-2)}(x) \\\\ u^{(n-1)}(x) \\\\\n",
    "\\end{bmatrix}, \\qquad\n",
    "b(x) = \\begin{bmatrix}\n",
    "0 \\\\ 0 \\\\ \\vdots \\\\ 0 \\\\ f(x) \\\\\n",
    "\\end{bmatrix}\n",
    "$$\n",
    "\n",
    "とおけば\n",
    "\n",
    "$$\n",
    "u_0' = u_1,\\; \\ldots,\\; u_{n-2}' = u_{n-1},\\;\n",
    "u_{n-1}' = u^{(n)} = -p_{n-1}u_{n-1}-\\cdots-p_1 u_1 - p_0 u_0 \n",
    "$$\n",
    "\n",
    "なので次のように書き直される:\n",
    "\n",
    "$$\n",
    "\\frac{dw(x)}{dx} = Au(x) + b(x).\n",
    "\\tag{$**'$}\n",
    "$$\n",
    "\n",
    "ここで\n",
    "\n",
    "$$\n",
    "A = \\begin{bmatrix}\n",
    "0   & 1  & & & \\\\\n",
    "    & 0  & \\ddots & & \\\\ \n",
    "    &    & \\ddots & 1 & \\\\\n",
    "-p_0&-p_1& \\cdots & -p_{n-2} & -p_{n-1} \\\\\n",
    "\\end{bmatrix}\n",
    "$$\n",
    "\n",
    "とおいた. \n",
    "\n",
    "斉次な定数係数線形常微分方程式 ($*$) は\n",
    "\n",
    "$$\n",
    "\\frac{dw(x)}{dx} = Au(x).\n",
    "\\tag{$*'$}\n",
    "$$\n",
    "\n",
    "と書き直される.  ゆえに方程式 ($*$) と ($**$) の取り扱いは, ($*'$) や ($**'$) の形の微分方程式の取り扱いに帰着される."
   ]
  },
  {
   "cell_type": "markdown",
   "metadata": {},
   "source": [
    "### 斉次な場合の一般解\n",
    "\n",
    "$A$ は定数を成分とする $n\\times n$ 行列であるとし, $w(x)$ は $x$ の函数を成分とする $n$ 次元縦ベクトルであるとし, $c$ は定数を成分とする $n$ 次元縦ベクトルであるとする.\n",
    "\n",
    "$w(x)$ に関する線形微分方程式の初期値問題\n",
    "\n",
    "$$\n",
    "\\frac{dw(x)}{dx} = Aw(x), \\quad w(0) = c\n",
    "$$\n",
    "\n",
    "の解は次の形に表わされるのであった:\n",
    "\n",
    "$$\n",
    "w(x) = e^{xA}c.\n",
    "$$"
   ]
  },
  {
   "cell_type": "markdown",
   "metadata": {},
   "source": [
    "#### 例: 斉次調和振動子\n",
    "\n",
    "$\\omega \\ne 0$ であるとし, $a,b$ は与えられた定数であるとする.\n",
    "\n",
    "微分方程式の初期値問題\n",
    "\n",
    "$$\n",
    "\\ddot u(t) = -\\omega^2 u(t), \\quad u(0) = a, \\quad \\dot u(0) = b\n",
    "$$\n",
    "\n",
    "は $w(t) = \\begin{bmatrix}u(t) \\\\ \\dot u(t)\\end{bmatrix}$, $c=\\begin{bmatrix} a \\\\ b \\end{bmatrix}$, $A=\\begin{bmatrix}\n",
    "0 & 1 \\\\\n",
    "-\\omega^2 & 0 \\\\\n",
    "\\end{bmatrix}$ とおくと, \n",
    "\n",
    "$$\n",
    "\\frac{dw(t)}{dt}=Aw(t), \\quad w(0) = c\n",
    "$$\n",
    "\n",
    "の形に書き直される. このとき, $2\\times 2$ の単位行列を $E$ と書くと, \n",
    "\n",
    "$$\n",
    "A^{2k} = (-\\omega^2)^k E, \\quad A^{2k+1} = (-\\omega^2)^k A\n",
    "$$\n",
    "\n",
    "が成立するので, \n",
    "\n",
    "$$\n",
    "\\begin{aligned}\n",
    "e^{tA} &=\n",
    "\\sum_{k=0}^\\infty \\frac{t^{2k}}{(2k)!}(-\\omega^2)^k E +\n",
    "\\sum_{k=0}^\\infty \\frac{t^{2k+1}}{(2k)!}(-\\omega^2)^k A \n",
    "\\\\ &=\n",
    "\\begin{bmatrix}\n",
    "\\cos(\\omega t) & \\sin(\\omega t)/\\omega \\\\\n",
    "-\\omega\\sin(\\omega t) & \\cos(\\omega t) \\\\\n",
    "\\end{bmatrix}.\n",
    "\\end{aligned}\n",
    "$$\n",
    "\n",
    "ゆえに, $\\dot w(t)=Aw(t)$, $w(0) = c$ の解は\n",
    "\n",
    "$$\n",
    "\\begin{aligned}\n",
    "w(t) = \\begin{bmatrix}\n",
    "u(t) \\\\ \\dot u(t)\n",
    "\\end{bmatrix} &=\n",
    "\\begin{bmatrix}\n",
    "\\cos(\\omega t) & \\sin(\\omega t)/\\omega \\\\\n",
    "-\\omega\\sin(\\omega t) & \\cos(\\omega t) \\\\\n",
    "\\end{bmatrix}\n",
    "\\begin{bmatrix}\n",
    "a \\\\\n",
    "b \\\\\n",
    "\\end{bmatrix}\n",
    "\\\\ &=\n",
    "\\begin{bmatrix}\n",
    "a\\cos(\\omega t) + b\\sin(\\omega t)/\\omega \\\\\n",
    "-a\\omega\\sin(\\omega t) + b\\cos(\\omega t) \\\\\n",
    "\\end{bmatrix}\n",
    "\\end{aligned}\n",
    "$$\n",
    "\n",
    "と表わされる. 特に\n",
    "\n",
    "$$\n",
    "u(t) = a\\cos(\\omega t) + b\\frac{\\sin(\\omega t)}{\\omega}\n",
    "$$\n",
    "\n",
    "である. $\\QED$"
   ]
  },
  {
   "cell_type": "code",
   "execution_count": 14,
   "metadata": {},
   "outputs": [
    {
     "data": {
      "text/html": [
       "<style>\n",
       "\t\t\t\t\t\t\t\t\t\t\t.grid-container {\n",
       "\t\t\t\t\t\t\t\t\t\t\t\tdisplay: inline-grid;\n",
       "\t\t\t\t\t\t\t\t\t\t\t\tgrid-template-columns: auto auto;\n",
       "\t\t\t\t\t\t\t\t\t\t\t}\n",
       "\t\t\t\t\t\t\t\t\t\t</style>\n",
       "\n",
       "\t\t\t\t\t\t\t\t\t\t<div><div class=\"grid-container\"><div class=\"grid-item\">\n",
       "\t\t\t\t\t\t\t\t\t\t\t\t\t<div class=\"prompt output_prompt\" style=\"text-align:left;padding:0em;padding-right:20px;line-height:20px;\">\n",
       "\t\t\t\t\t\t\t\t\t\t\t\t\t\tOut[16]:\n",
       "\t\t\t\t\t\t\t\t\t\t\t\t\t</div>\n",
       "\t\t\t\t\t\t\t\t\t\t\t\t</div>\n",
       "\t\t\t\t\t\t\t\t\t\t\t\t<div class=\"grid-item\">$$&#117;&#61;&#97;&#32;&#92;&#99;&#111;&#115;&#32;&#40;&#92;&#111;&#109;&#101;&#103;&#97;&#32;&#32;&#116;&#41;&#43;&#92;&#102;&#114;&#97;&#99;&#123;&#98;&#32;&#92;&#115;&#105;&#110;&#32;&#40;&#92;&#111;&#109;&#101;&#103;&#97;&#32;&#32;&#116;&#41;&#125;&#123;&#92;&#111;&#109;&#101;&#103;&#97;&#32;&#125;$$</div><div class=\"grid-item\">\n",
       "\t\t\t\t\t\t\t\t\t\t\t\t\t<div class=\"prompt output_prompt\" style=\"text-align:left;padding:0em;padding-right:20px;line-height:20px;\">\n",
       "\t\t\t\t\t\t\t\t\t\t\t\t\t\tOut[17]:\n",
       "\t\t\t\t\t\t\t\t\t\t\t\t\t</div>\n",
       "\t\t\t\t\t\t\t\t\t\t\t\t</div>\n",
       "\t\t\t\t\t\t\t\t\t\t\t\t<div class=\"grid-item\">$$&#40;&#117;&#92;&#116;&#101;&#120;&#116;&#123;&#47;&#46;&#125;&#92;&#44;&#32;&#116;&#92;&#116;&#111;&#32;&#48;&#41;&#61;&#97;$$</div><div class=\"grid-item\">\n",
       "\t\t\t\t\t\t\t\t\t\t\t\t\t<div class=\"prompt output_prompt\" style=\"text-align:left;padding:0em;padding-right:20px;line-height:20px;\">\n",
       "\t\t\t\t\t\t\t\t\t\t\t\t\t\tOut[18]:\n",
       "\t\t\t\t\t\t\t\t\t\t\t\t\t</div>\n",
       "\t\t\t\t\t\t\t\t\t\t\t\t</div>\n",
       "\t\t\t\t\t\t\t\t\t\t\t\t<div class=\"grid-item\">$$&#92;&#108;&#101;&#102;&#116;&#40;&#92;&#102;&#114;&#97;&#99;&#123;&#92;&#112;&#97;&#114;&#116;&#105;&#97;&#108;&#32;&#117;&#125;&#123;&#92;&#112;&#97;&#114;&#116;&#105;&#97;&#108;&#32;&#116;&#125;&#92;&#116;&#101;&#120;&#116;&#123;&#47;&#46;&#125;&#92;&#44;&#32;&#116;&#92;&#116;&#111;&#32;&#48;&#92;&#114;&#105;&#103;&#104;&#116;&#41;&#61;&#98;$$</div><div class=\"grid-item\">\n",
       "\t\t\t\t\t\t\t\t\t\t\t\t\t<div class=\"prompt output_prompt\" style=\"text-align:left;padding:0em;padding-right:20px;line-height:20px;\">\n",
       "\t\t\t\t\t\t\t\t\t\t\t\t\t\tOut[19]:\n",
       "\t\t\t\t\t\t\t\t\t\t\t\t\t</div>\n",
       "\t\t\t\t\t\t\t\t\t\t\t\t</div>\n",
       "\t\t\t\t\t\t\t\t\t\t\t\t<div class=\"grid-item\">$$&#92;&#102;&#114;&#97;&#99;&#123;&#92;&#112;&#97;&#114;&#116;&#105;&#97;&#108;&#32;&#94;&#50;&#117;&#125;&#123;&#92;&#112;&#97;&#114;&#116;&#105;&#97;&#108;&#32;&#116;&#94;&#50;&#125;&#43;&#92;&#111;&#109;&#101;&#103;&#97;&#32;&#94;&#50;&#32;&#117;&#61;&#48;$$</div></div></div>"
      ]
     },
     "execution_count": 16,
     "metadata": {
      "text/html": []
     },
     "output_type": "execute_result"
    }
   ],
   "source": [
    "Clear[a,b,omega,t]\n",
    "u = a Cos[omega t] + b Sin[omega t]/omega;\n",
    "u // TeXEq\n",
    "u/.t->0 // TeXEq\n",
    "D[u,t]/.t->0 // TeXEq\n",
    "D[u,{t,2}] + omega^2 u // TeXEq"
   ]
  },
  {
   "cell_type": "markdown",
   "metadata": {},
   "source": [
    "### 非斉次な場合の一般解\n",
    "\n",
    "$b(x)$ は与えられた函数を成分とする $n$ 次元縦ベクトルであるとし, 非斉次な定数係数線形微分方程式の初期値問題\n",
    "\n",
    "$$\n",
    "\\frac{dw(x)}{dx} = Aw(x) + b(x), \\quad w(0) = c\n",
    "$$\n",
    "\n",
    "について考える. これは所謂**定数変化法**で解くことができる. 斉次の場合すなわち $b(x)=0$ の場合の解は\n",
    "\n",
    "$$\n",
    "w(x) = e^{xA}c\n",
    "$$\n",
    "\n",
    "と書けるのであった. 非斉次の場合については, 定数を成分とするベクトル $c$ を函数を成分とするベクトル $c(x)$ に置き換えた\n",
    "\n",
    "$$\n",
    "w(x) = e^{xA}c(x)\n",
    "$$\n",
    "\n",
    "の形の解を探してみよう. 定数 $c$ を変化する $c(x)$ に置き換えるので, この方法は**定数変化法**と呼ばれている.\n",
    "\n",
    "$w(x)=e^{xA}c(x)$ を $w'(x)=Aw(x)+b(x)$ に代入すると,\n",
    "\n",
    "$$\n",
    "w'(x)=Ae^{xA}c(x) + e^{xA}c'(x) = Aw(x)+e^{xA}c'(x) = Aw(x) + b(x)\n",
    "$$\n",
    "\n",
    "なので, $c(x)$ が $e^{xA}c'(x)=b(x)$, $c(0)=c$ を満たしていれば, $w(x)$ は $w'(x)=Aw(x)+b(x)$, $w(0)=c$ を満たす. $c(x)$ に関する方程式 $e^{xA}c'(x)=b(x)$, $c(0)=c$ は $c'(x) = e^{-xA}b(x)$, $c(0)=x$ と同値であり, \n",
    "\n",
    "$$\n",
    "c(x) = c + \\int_0^x e^{-yA}b(y)\\,dy\n",
    "$$\n",
    "\n",
    "と解ける.  これを $w(x)=e^{xA}c(t)$ に代入すると\n",
    "\n",
    "$$\n",
    "w(x) = e^{xA}c + \\int_0^x e^{(x-y)A}b(y)\\,dy.\n",
    "$$\n",
    "\n",
    "これが $w'(x)=Aw(x)+b(x)$, $w(0)=c$ を満たしていることは直接的に確認できる. ただし, 一般に $F(x,z)$ について\n",
    "\n",
    "$$\n",
    "\\frac{d}{dx}F(x,x) = F_x(x,x) + F_z(x,z)\n",
    "$$\n",
    "\n",
    "が成立することを, $F(x,z)=\\int_0^z e^{(x-y)A}b(y)\\,dy$ に適用すると\n",
    "\n",
    "$$\n",
    "\\frac{d}{dx} \\int_0^x e^{(x-y)A}b(y)\\,dy = \n",
    "A \\int_0^x e^{(x-y)A}b(y)\\,dy + b(x)\n",
    "$$\n",
    "\n",
    "が得られることに注意せよ.\n",
    "\n",
    "これで解きたい非斉次な定数係数線形微分方程式を解くことができた."
   ]
  },
  {
   "cell_type": "markdown",
   "metadata": {},
   "source": [
    "#### 非斉次な調和振動子\n",
    "\n",
    "$\\omega \\ne 0$ であるとし, $a,b$ は与えられた定数であるとし, $f(t)$ は与えられた函数であるとする.\n",
    "\n",
    "微分方程式の初期値問題\n",
    "\n",
    "$$\n",
    "\\ddot u(t) = -\\omega^2 u(t) + f(t), \\quad u(0) = a, \\quad \\dot u(0) = b\n",
    "$$\n",
    "\n",
    "は $w(t) = \\begin{bmatrix}u(t) \\\\ \\dot u(t)\\end{bmatrix}$, $c=\\begin{bmatrix} a \\\\ b \\end{bmatrix}$, $g(t)=\\begin{bmatrix} 0 \\\\ f(t)\\end{bmatrix}$, $A=\\begin{bmatrix}\n",
    "0 & 1 \\\\\n",
    "-\\omega^2 & 0 \\\\\n",
    "\\end{bmatrix}$ とおくと, \n",
    "\n",
    "$$\n",
    "\\frac{dw(t)}{dt}=Aw(t) + g(t), \\quad w(0) = c\n",
    "$$\n",
    "\n",
    "の形に書き直される. このとき, \n",
    "\n",
    "$$\n",
    "A^{2k} =\n",
    "\\begin{bmatrix}\n",
    "(-\\omega^2)^k & 0 \\\\\n",
    "0 & (-\\omega^2)^k \\\\\n",
    "\\end{bmatrix},\n",
    "\\quad\n",
    "A^{2k+1} =\n",
    "\\begin{bmatrix}\n",
    "0 & (-\\omega^2)^k \\\\\n",
    "(-\\omega^2)^{k+1} & 0 \\\\\n",
    "\\end{bmatrix}\n",
    "$$\n",
    "\n",
    "なので\n",
    "\n",
    "$$\n",
    "e^{tA} =\n",
    "\\begin{bmatrix}\n",
    "  \\sum_{k=0}^\\infty (-1)^k\\frac{(\\omega t)^{2k}}{(2k)!} \n",
    "& \\frac{1}{\\omega}\\sum_{k=0}^\\infty (-1)^k\\frac{(\\omega t)^{2k+1}}{(2k+1)!}\n",
    "\\\\         -\\omega\\sum_{k=0}^\\infty (-1)^k\\frac{(\\omega t)^{2k+1}}{(2k+1)!}\n",
    "& \\sum_{k=0}^\\infty (-1)^k\\frac{(\\omega t)^{2k}}{(2k)!} \\\\\n",
    "\\end{bmatrix} =\n",
    "\\begin{bmatrix}\n",
    "\\cos(\\omega t) & \\sin(\\omega t)/\\omega \\\\\n",
    "-\\omega\\sin(\\omega t) & \\cos(\\omega t) \\\\\n",
    "\\end{bmatrix}\n",
    "$$\n",
    "\n",
    "となるのであった. "
   ]
  },
  {
   "cell_type": "code",
   "execution_count": 20,
   "metadata": {},
   "outputs": [
    {
     "data": {
      "text/html": [
       "<style>\n",
       "\t\t\t\t\t\t\t\t\t\t\t.grid-container {\n",
       "\t\t\t\t\t\t\t\t\t\t\t\tdisplay: inline-grid;\n",
       "\t\t\t\t\t\t\t\t\t\t\t\tgrid-template-columns: auto auto;\n",
       "\t\t\t\t\t\t\t\t\t\t\t}\n",
       "\t\t\t\t\t\t\t\t\t\t</style>\n",
       "\n",
       "\t\t\t\t\t\t\t\t\t\t<div><div class=\"grid-container\"><div class=\"grid-item\">\n",
       "\t\t\t\t\t\t\t\t\t\t\t\t\t<div class=\"prompt output_prompt\" style=\"text-align:left;padding:0em;padding-right:20px;line-height:20px;\">\n",
       "\t\t\t\t\t\t\t\t\t\t\t\t\t\tOut[22]:\n",
       "\t\t\t\t\t\t\t\t\t\t\t\t\t</div>\n",
       "\t\t\t\t\t\t\t\t\t\t\t\t</div>\n",
       "\t\t\t\t\t\t\t\t\t\t\t\t<div class=\"grid-item\">$$&#65;&#61;&#92;&#108;&#101;&#102;&#116;&#40;&#10;&#92;&#98;&#101;&#103;&#105;&#110;&#123;&#97;&#114;&#114;&#97;&#121;&#125;&#123;&#99;&#99;&#125;&#10;&#32;&#48;&#32;&#38;&#32;&#49;&#32;&#92;&#92;&#10;&#32;&#45;&#92;&#111;&#109;&#101;&#103;&#97;&#32;&#94;&#50;&#32;&#38;&#32;&#48;&#32;&#92;&#92;&#10;&#92;&#101;&#110;&#100;&#123;&#97;&#114;&#114;&#97;&#121;&#125;&#10;&#92;&#114;&#105;&#103;&#104;&#116;&#41;$$</div><div class=\"grid-item\">\n",
       "\t\t\t\t\t\t\t\t\t\t\t\t\t<div class=\"prompt output_prompt\" style=\"text-align:left;padding:0em;padding-right:20px;line-height:20px;\">\n",
       "\t\t\t\t\t\t\t\t\t\t\t\t\t\tOut[23]:\n",
       "\t\t\t\t\t\t\t\t\t\t\t\t\t</div>\n",
       "\t\t\t\t\t\t\t\t\t\t\t\t</div>\n",
       "\t\t\t\t\t\t\t\t\t\t\t\t<div class=\"grid-item\">$$&#92;&#116;&#101;&#120;&#116;&#123;&#77;&#97;&#116;&#114;&#105;&#120;&#69;&#120;&#112;&#125;&#91;&#116;&#32;&#65;&#93;&#61;&#92;&#108;&#101;&#102;&#116;&#40;&#10;&#92;&#98;&#101;&#103;&#105;&#110;&#123;&#97;&#114;&#114;&#97;&#121;&#125;&#123;&#99;&#99;&#125;&#10;&#32;&#92;&#99;&#111;&#115;&#32;&#40;&#92;&#111;&#109;&#101;&#103;&#97;&#32;&#32;&#116;&#41;&#32;&#38;&#32;&#92;&#102;&#114;&#97;&#99;&#123;&#92;&#115;&#105;&#110;&#32;&#40;&#92;&#111;&#109;&#101;&#103;&#97;&#32;&#32;&#116;&#41;&#125;&#123;&#92;&#111;&#109;&#101;&#103;&#97;&#32;&#125;&#32;&#92;&#92;&#10;&#32;&#45;&#92;&#111;&#109;&#101;&#103;&#97;&#32;&#32;&#92;&#115;&#105;&#110;&#32;&#40;&#92;&#111;&#109;&#101;&#103;&#97;&#32;&#32;&#116;&#41;&#32;&#38;&#32;&#92;&#99;&#111;&#115;&#32;&#40;&#92;&#111;&#109;&#101;&#103;&#97;&#32;&#32;&#116;&#41;&#32;&#92;&#92;&#10;&#92;&#101;&#110;&#100;&#123;&#97;&#114;&#114;&#97;&#121;&#125;&#10;&#92;&#114;&#105;&#103;&#104;&#116;&#41;$$</div></div></div>"
      ]
     },
     "execution_count": 22,
     "metadata": {
      "text/html": []
     },
     "output_type": "execute_result"
    }
   ],
   "source": [
    "Clear[omega, t]\n",
    "A = {{0, 1}, {-omega^2, 0}};\n",
    "A // TeXEq\n",
    "MatrixExp[t A] // TeXEq"
   ]
  },
  {
   "cell_type": "markdown",
   "metadata": {},
   "source": [
    "$w(t)=e^{tA}c(t)$ の形で解を探してみよう. \n",
    "\n",
    "$$\n",
    "\\dot w(t) = Ae^{tA}c(t) + e^{tA}\\dot c(t) = Aw(t) + e^{tA}\\dot c(t)\n",
    "$$\n",
    "\n",
    "なので, $\\dot c(t) = e^{-tA}g(t)$, $c(0)=c$ ならば $w(t)$ は欲しい解になっている. そのような $c(t)$ は\n",
    "\n",
    "$$\n",
    "c(t) = c + \\int_0^t e^{-As}g(s)\\,ds\n",
    "$$\n",
    "\n",
    "と書ける.  ゆえに欲しい解は\n",
    "\n",
    "$$\n",
    "w(t) = e^{tA}c + \\int_0^t e^{(t-s)A}g(s)\\,ds\n",
    "$$\n",
    "\n",
    "と書ける. そして, \n",
    "\n",
    "$$\n",
    "e^{tA}c =\n",
    "\\begin{bmatrix}\n",
    "a\\cos(\\omega t) + b\\sin(\\omega t)/\\omega \\\\\n",
    "-a\\omega\\sin(\\omega t) + b\\cos(\\omega t) \\\\\n",
    "\\end{bmatrix},\n",
    "\\quad\n",
    "e^{(t-s)A}g(s) =\n",
    "\\begin{bmatrix}\n",
    "\\sin(\\omega(t-s))/\\omega \\\\\n",
    "\\cos(\\omega(t-s)) \\\\\n",
    "\\end{bmatrix}\n",
    "f(s)\n",
    "$$\n",
    "\n",
    "なので $w(t)$ の第1成分の $u(t)$ は次のように表わされる:\n",
    "\n",
    "$$\n",
    "u(t) = a\\cos(\\omega t) + b\\frac{\\sin(\\omega t)}{\\omega} +\n",
    "\\int_0^t \\frac{\\sin(\\omega(t-s))}{\\omega} f(s)\\,ds.\n",
    "$$\n",
    "\n",
    "これが実際に欲しい解になっていることを直接確認してみよう:\n",
    "\n",
    "$$\n",
    "\\begin{aligned}\n",
    "u(0) &= a,\n",
    "\\\\\n",
    "\\dot u(t) &= -\\omega a \\sin(\\omega t) + \\omega b \\frac{\\cos(\\omega t)}{\\omega} +\n",
    "\\omega\\int_0^t \\frac{\\cos(\\omega(t-s))}{\\omega} f(s)\\,ds,\n",
    "\\\\\n",
    "\\dot u(0) &= b,\n",
    "\\\\\n",
    "\\ddot u(t) &= -\\omega^2 a\\cos(\\omega t) - \\omega^2 b\\frac{\\sin(\\omega t)}{\\omega} -\n",
    "\\omega^2\\int_0^t \\frac{\\sin(\\omega(t-s))}{\\omega} f(s)\\,ds + f(t)\n",
    "\\\\ & = -\n",
    "\\omega^2 u(t) + f(t).\n",
    "\\end{aligned}\n",
    "$$\n",
    "\n",
    "非斉次な調和振動子は外力 $f(t)$ が与えられた場合の調和振動子になっている."
   ]
  },
  {
   "cell_type": "code",
   "execution_count": 24,
   "metadata": {},
   "outputs": [
    {
     "data": {
      "text/html": [
       "<style>\n",
       "\t\t\t\t\t\t\t\t\t\t\t.grid-container {\n",
       "\t\t\t\t\t\t\t\t\t\t\t\tdisplay: inline-grid;\n",
       "\t\t\t\t\t\t\t\t\t\t\t\tgrid-template-columns: auto auto;\n",
       "\t\t\t\t\t\t\t\t\t\t\t}\n",
       "\t\t\t\t\t\t\t\t\t\t</style>\n",
       "\n",
       "\t\t\t\t\t\t\t\t\t\t<div><div class=\"grid-container\"><div class=\"grid-item\">\n",
       "\t\t\t\t\t\t\t\t\t\t\t\t\t<div class=\"prompt output_prompt\" style=\"text-align:left;padding:0em;padding-right:20px;line-height:20px;\">\n",
       "\t\t\t\t\t\t\t\t\t\t\t\t\t\tOut[26]:\n",
       "\t\t\t\t\t\t\t\t\t\t\t\t\t</div>\n",
       "\t\t\t\t\t\t\t\t\t\t\t\t</div>\n",
       "\t\t\t\t\t\t\t\t\t\t\t\t<div class=\"grid-item\">$$&#117;&#61;&#97;&#32;&#92;&#99;&#111;&#115;&#32;&#40;&#92;&#111;&#109;&#101;&#103;&#97;&#32;&#32;&#116;&#41;&#43;&#92;&#102;&#114;&#97;&#99;&#123;&#98;&#32;&#92;&#115;&#105;&#110;&#32;&#40;&#92;&#111;&#109;&#101;&#103;&#97;&#32;&#32;&#116;&#41;&#125;&#123;&#92;&#111;&#109;&#101;&#103;&#97;&#32;&#125;&#43;&#92;&#105;&#110;&#116;&#95;&#48;&#94;&#116;&#32;&#92;&#102;&#114;&#97;&#99;&#123;&#102;&#40;&#115;&#41;&#32;&#92;&#115;&#105;&#110;&#32;&#40;&#92;&#111;&#109;&#101;&#103;&#97;&#32;&#32;&#40;&#116;&#45;&#115;&#41;&#41;&#125;&#123;&#92;&#111;&#109;&#101;&#103;&#97;&#32;&#125;&#32;&#92;&#44;&#32;&#100;&#115;$$</div><div class=\"grid-item\">\n",
       "\t\t\t\t\t\t\t\t\t\t\t\t\t<div class=\"prompt output_prompt\" style=\"text-align:left;padding:0em;padding-right:20px;line-height:20px;\">\n",
       "\t\t\t\t\t\t\t\t\t\t\t\t\t\tOut[27]:\n",
       "\t\t\t\t\t\t\t\t\t\t\t\t\t</div>\n",
       "\t\t\t\t\t\t\t\t\t\t\t\t</div>\n",
       "\t\t\t\t\t\t\t\t\t\t\t\t<div class=\"grid-item\">$$&#40;&#117;&#92;&#116;&#101;&#120;&#116;&#123;&#47;&#46;&#125;&#92;&#44;&#32;&#116;&#92;&#116;&#111;&#32;&#48;&#41;&#61;&#97;$$</div><div class=\"grid-item\">\n",
       "\t\t\t\t\t\t\t\t\t\t\t\t\t<div class=\"prompt output_prompt\" style=\"text-align:left;padding:0em;padding-right:20px;line-height:20px;\">\n",
       "\t\t\t\t\t\t\t\t\t\t\t\t\t\tOut[28]:\n",
       "\t\t\t\t\t\t\t\t\t\t\t\t\t</div>\n",
       "\t\t\t\t\t\t\t\t\t\t\t\t</div>\n",
       "\t\t\t\t\t\t\t\t\t\t\t\t<div class=\"grid-item\">$$&#92;&#102;&#114;&#97;&#99;&#123;&#92;&#112;&#97;&#114;&#116;&#105;&#97;&#108;&#32;&#117;&#125;&#123;&#92;&#112;&#97;&#114;&#116;&#105;&#97;&#108;&#32;&#116;&#125;&#61;&#45;&#97;&#32;&#92;&#111;&#109;&#101;&#103;&#97;&#32;&#32;&#92;&#115;&#105;&#110;&#32;&#40;&#92;&#111;&#109;&#101;&#103;&#97;&#32;&#32;&#116;&#41;&#43;&#98;&#32;&#92;&#99;&#111;&#115;&#32;&#40;&#92;&#111;&#109;&#101;&#103;&#97;&#32;&#32;&#116;&#41;&#43;&#92;&#105;&#110;&#116;&#95;&#48;&#94;&#116;&#32;&#102;&#40;&#115;&#41;&#32;&#92;&#99;&#111;&#115;&#32;&#40;&#92;&#111;&#109;&#101;&#103;&#97;&#32;&#32;&#40;&#116;&#45;&#115;&#41;&#41;&#32;&#92;&#44;&#32;&#100;&#115;$$</div><div class=\"grid-item\">\n",
       "\t\t\t\t\t\t\t\t\t\t\t\t\t<div class=\"prompt output_prompt\" style=\"text-align:left;padding:0em;padding-right:20px;line-height:20px;\">\n",
       "\t\t\t\t\t\t\t\t\t\t\t\t\t\tOut[29]:\n",
       "\t\t\t\t\t\t\t\t\t\t\t\t\t</div>\n",
       "\t\t\t\t\t\t\t\t\t\t\t\t</div>\n",
       "\t\t\t\t\t\t\t\t\t\t\t\t<div class=\"grid-item\">$$&#92;&#108;&#101;&#102;&#116;&#40;&#92;&#102;&#114;&#97;&#99;&#123;&#92;&#112;&#97;&#114;&#116;&#105;&#97;&#108;&#32;&#117;&#125;&#123;&#92;&#112;&#97;&#114;&#116;&#105;&#97;&#108;&#32;&#116;&#125;&#92;&#116;&#101;&#120;&#116;&#123;&#47;&#46;&#125;&#92;&#44;&#32;&#116;&#92;&#116;&#111;&#32;&#48;&#92;&#114;&#105;&#103;&#104;&#116;&#41;&#61;&#98;$$</div><div class=\"grid-item\">\n",
       "\t\t\t\t\t\t\t\t\t\t\t\t\t<div class=\"prompt output_prompt\" style=\"text-align:left;padding:0em;padding-right:20px;line-height:20px;\">\n",
       "\t\t\t\t\t\t\t\t\t\t\t\t\t\tOut[30]:\n",
       "\t\t\t\t\t\t\t\t\t\t\t\t\t</div>\n",
       "\t\t\t\t\t\t\t\t\t\t\t\t</div>\n",
       "\t\t\t\t\t\t\t\t\t\t\t\t<div class=\"grid-item\">$$&#92;&#102;&#114;&#97;&#99;&#123;&#92;&#112;&#97;&#114;&#116;&#105;&#97;&#108;&#32;&#94;&#50;&#117;&#125;&#123;&#92;&#112;&#97;&#114;&#116;&#105;&#97;&#108;&#32;&#116;&#94;&#50;&#125;&#61;&#45;&#92;&#111;&#109;&#101;&#103;&#97;&#32;&#32;&#40;&#97;&#32;&#92;&#111;&#109;&#101;&#103;&#97;&#32;&#32;&#92;&#99;&#111;&#115;&#32;&#40;&#92;&#111;&#109;&#101;&#103;&#97;&#32;&#32;&#116;&#41;&#43;&#98;&#32;&#92;&#115;&#105;&#110;&#32;&#40;&#92;&#111;&#109;&#101;&#103;&#97;&#32;&#32;&#116;&#41;&#41;&#43;&#92;&#105;&#110;&#116;&#95;&#48;&#94;&#116;&#32;&#92;&#111;&#109;&#101;&#103;&#97;&#32;&#32;&#102;&#40;&#115;&#41;&#32;&#92;&#115;&#105;&#110;&#32;&#40;&#92;&#111;&#109;&#101;&#103;&#97;&#32;&#32;&#40;&#115;&#45;&#116;&#41;&#41;&#32;&#92;&#44;&#32;&#100;&#115;&#43;&#102;&#40;&#116;&#41;$$</div></div></div>"
      ]
     },
     "execution_count": 26,
     "metadata": {
      "text/html": []
     },
     "output_type": "execute_result"
    }
   ],
   "source": [
    "Clear[a,b,omega,s,t]\n",
    "u = a Cos[omega t] + b Sin[omega t]/omega + Integrate[Sin[omega (t-s)]/omega * f[s], {s, 0, t}];\n",
    "u // TeXEq\n",
    "u/.t->0 // TeXEq\n",
    "D[u, t] // TeXEq\n",
    "D[u, t]/.t->0 // TeXEq\n",
    "D[u, {t,2}] // TeXEq"
   ]
  },
  {
   "cell_type": "markdown",
   "metadata": {},
   "source": [
    "#### 共振\n",
    "\n",
    "$\\ddot u(t) = -\\omega^2 u(t) + f(t)$ の解\n",
    "\n",
    "$$\n",
    "u(t) = a\\cos(\\omega t) + b\\frac{\\sin(\\omega t)}{\\omega} +\n",
    "\\int_0^t \\frac{\\sin(\\omega(t-s))}{\\omega} f(s)\\,ds.　\n",
    "$$\n",
    "\n",
    "が $f(t) = \\cos(\\alpha t), \\sin(\\alpha t)$ の場合にどうなるかを調べてみよう. そのためには三角函数に関する公式\n",
    "\n",
    "$$\n",
    "\\begin{aligned}\n",
    "&\n",
    "\\sin x\\cdot \\cos y = \\frac{1}{2}(\\sin(x-y) + \\sin(x+y)), \n",
    "\\\\ &\n",
    "\\sin x\\cdot \\sin y = \\frac{1}{2}(\\cos(x-y) - \\cos(x+y)) \n",
    "\\end{aligned}\n",
    "$$\n",
    "\n",
    "を使う. この公式より\n",
    "\n",
    "$$\n",
    "\\begin{aligned}\n",
    "&\n",
    "\\frac{\\sin(\\omega(t-s))}{\\omega}\\cos(\\alpha s) = \n",
    "\\frac{1}{2\\omega}(\\sin(\\omega t - (\\omega+\\alpha)s) + \\sin(\\omega t - (\\omega-\\alpha)s)),\n",
    "\\\\ &\n",
    "\\frac{\\sin(\\omega(t-s))}{\\omega}\\sin(\\alpha s) = \n",
    "\\frac{1}{2\\omega}(\\cos(\\omega t - (\\omega+\\alpha)s) - \\cos(\\omega t - (\\omega-\\alpha)s)).\n",
    "\\end{aligned}\n",
    "$$\n",
    "\n",
    "ゆえに, $\\alpha\\ne\\pm\\omega$ の場合には, \n",
    "\n",
    "$$\n",
    "\\begin{aligned}\n",
    "\\int_0^t \\frac{\\sin(\\omega(t-s))}{\\omega}\\cos(\\alpha s)\\,ds &=\n",
    "\\frac{1}{2\\omega}\\left[\n",
    "\\frac{\\cos(\\omega t - (\\omega+\\alpha)s)}{\\omega+\\alpha} + \n",
    "\\frac{\\cos(\\omega t - (\\omega-\\alpha)s)}{\\omega-\\alpha}\n",
    "\\right]_{s=0}^{s=t}\n",
    "\\\\ & = \n",
    "\\frac{1}{2\\omega}\\left(\n",
    "\\frac{\\cos(\\alpha t)}{\\omega+\\alpha} + \n",
    "\\frac{\\cos(\\alpha t)}{\\omega-\\alpha} -\n",
    "\\frac{\\cos(\\omega t)}{\\omega+\\alpha} -\n",
    "\\frac{\\cos(\\omega t)}{\\omega-\\alpha}\n",
    "\\right)\n",
    "\\\\ & =\n",
    "\\frac{\\cos(\\alpha t)}{\\omega^2-\\alpha^2} - \\frac{\\cos(\\omega t)}{\\omega^2-\\alpha^2}\n",
    "\\\\ &=\n",
    "-\\frac{\\cos(\\alpha t)-\\cos(\\omega t)}{\\alpha^2-\\omega^2},\n",
    "\\\\\n",
    "\\int_0^t \\frac{\\sin(\\omega(t-s))}{\\omega}\\sin(\\alpha s)\\,ds &=\n",
    "\\frac{1}{2\\omega}\\left[\n",
    "\\frac{-\\sin(\\omega t - (\\omega+\\alpha)s)}{\\omega+\\alpha} - \n",
    "\\frac{-\\sin(\\omega t - (\\omega-\\alpha)s)}{\\omega-\\alpha}\n",
    "\\right]_{s=0}^{s=t}\n",
    "\\\\ & =\n",
    "\\frac{1}{2\\omega}\\left(\n",
    "\\frac{\\sin(\\alpha t)}{\\omega+\\alpha} +\n",
    "\\frac{\\sin(\\alpha t)}{\\omega-\\alpha} +\n",
    "\\frac{\\sin(\\omega t)}{\\omega+\\alpha} -\n",
    "\\frac{\\sin(\\omega t)}{\\omega-\\alpha}\n",
    "\\right)\n",
    "\\\\ & =\n",
    "\\frac{\\sin(\\alpha t)}{\\omega^2-\\alpha^2} - \n",
    "\\frac{\\alpha}{\\omega}\\frac{\\sin(\\omega t)}{\\omega^2-\\alpha^2}\n",
    "\\\\ & = -\\frac{\\alpha}{\\omega}\n",
    "\\frac{(\\omega/\\alpha)\\sin(\\alpha t) - \\sin(\\omega t)}{\\alpha^2-\\omega^2}.\n",
    "\\end{aligned}\n",
    "$$\n",
    "\n",
    "これらの函数の振幅は $\\alpha^2$ が $\\omega^2$ に近付くと大きくなる.\n",
    "\n",
    "$\\alpha=\\omega$ の場合には上の公式で $\\alpha\\to\\omega$ の極限を取ると, \n",
    "\n",
    "$$\n",
    "\\begin{aligned}\n",
    "\\int_0^t \\frac{\\sin(\\omega(t-s))}{\\omega}\\cos(\\omega s)\\,ds &=\n",
    "\\frac{t\\sin(\\omega t)}{2\\omega},\n",
    "\\\\\n",
    "\\int_0^t \\frac{\\sin(\\omega(t-s))}{\\omega}\\sin(\\omega s)\\,ds &=\n",
    "\\frac{-t\\cos(\\omega t) + (1/\\omega)\\sin(\\omega t)}{2\\omega}.\n",
    "\\end{aligned}\n",
    "$$\n",
    "\n",
    "$\\alpha=-\\omega$ の場合の公式はこの公式で $\\omega$ を $-\\omega$ に置き換えれば得られる. \n",
    "\n",
    "このように, $\\alpha=\\pm\\omega$ の場合には時刻 $t$ に比例して振幅が大きくなる項が出て来る.  すなわち, 調和振動子に与える外力の周期が調和振動子の周期 $2\\pi/|\\omega|$ に等しい場合には, 外力が与えられた調和振動子の振幅は時間に比例して幾らでも大きくなる."
   ]
  },
  {
   "cell_type": "code",
   "execution_count": 31,
   "metadata": {},
   "outputs": [
    {
     "data": {
      "text/html": [
       "<div>$$&#92;&#115;&#105;&#110;&#32;&#40;&#120;&#45;&#121;&#41;&#43;&#92;&#115;&#105;&#110;&#32;&#40;&#120;&#43;&#121;&#41;&#61;&#50;&#32;&#92;&#115;&#105;&#110;&#32;&#40;&#120;&#41;&#32;&#92;&#99;&#111;&#115;&#32;&#40;&#121;&#41;$$</div>"
      ]
     },
     "execution_count": 31,
     "metadata": {
      "text/html": []
     },
     "output_type": "execute_result"
    }
   ],
   "source": [
    "Sin[x-y] + Sin[x+y] // HoldForm // TeXEq[#, TrigExpand]&"
   ]
  },
  {
   "cell_type": "code",
   "execution_count": 32,
   "metadata": {},
   "outputs": [
    {
     "data": {
      "text/html": [
       "<div>$$&#92;&#99;&#111;&#115;&#32;&#40;&#120;&#45;&#121;&#41;&#45;&#92;&#99;&#111;&#115;&#32;&#40;&#120;&#43;&#121;&#41;&#61;&#50;&#32;&#92;&#115;&#105;&#110;&#32;&#40;&#120;&#41;&#32;&#92;&#115;&#105;&#110;&#32;&#40;&#121;&#41;$$</div>"
      ]
     },
     "execution_count": 32,
     "metadata": {
      "text/html": []
     },
     "output_type": "execute_result"
    }
   ],
   "source": [
    "Cos[x-y] - Cos[x+y] // HoldForm // TeXEq[#, TrigExpand]&"
   ]
  },
  {
   "cell_type": "code",
   "execution_count": 33,
   "metadata": {},
   "outputs": [
    {
     "data": {
      "text/html": [
       "<div>$$&#92;&#105;&#110;&#116;&#95;&#48;&#94;&#116;&#32;&#92;&#102;&#114;&#97;&#99;&#123;&#92;&#115;&#105;&#110;&#32;&#40;&#92;&#111;&#109;&#101;&#103;&#97;&#32;&#32;&#40;&#116;&#45;&#115;&#41;&#41;&#32;&#92;&#99;&#111;&#115;&#32;&#40;&#92;&#97;&#108;&#112;&#104;&#97;&#32;&#32;&#115;&#41;&#125;&#123;&#92;&#111;&#109;&#101;&#103;&#97;&#32;&#125;&#32;&#92;&#44;&#32;&#100;&#115;&#61;&#92;&#102;&#114;&#97;&#99;&#123;&#92;&#99;&#111;&#115;&#32;&#40;&#92;&#111;&#109;&#101;&#103;&#97;&#32;&#32;&#116;&#41;&#45;&#92;&#99;&#111;&#115;&#32;&#40;&#92;&#97;&#108;&#112;&#104;&#97;&#32;&#32;&#116;&#41;&#125;&#123;&#92;&#97;&#108;&#112;&#104;&#97;&#32;&#94;&#50;&#45;&#92;&#111;&#109;&#101;&#103;&#97;&#32;&#94;&#50;&#125;$$</div>"
      ]
     },
     "execution_count": 33,
     "metadata": {
      "text/html": []
     },
     "output_type": "execute_result"
    }
   ],
   "source": [
    "Integrate[Sin[omega (t-s)] Cos[alpha s] / omega, {s, 0, t}] // TeXEq"
   ]
  },
  {
   "cell_type": "code",
   "execution_count": 34,
   "metadata": {},
   "outputs": [
    {
     "data": {
      "text/html": [
       "<div>$$&#92;&#105;&#110;&#116;&#95;&#48;&#94;&#116;&#32;&#92;&#102;&#114;&#97;&#99;&#123;&#92;&#115;&#105;&#110;&#32;&#40;&#92;&#111;&#109;&#101;&#103;&#97;&#32;&#32;&#40;&#116;&#45;&#115;&#41;&#41;&#32;&#92;&#99;&#111;&#115;&#32;&#40;&#92;&#111;&#109;&#101;&#103;&#97;&#32;&#32;&#115;&#41;&#125;&#123;&#92;&#111;&#109;&#101;&#103;&#97;&#32;&#125;&#32;&#92;&#44;&#32;&#100;&#115;&#61;&#92;&#102;&#114;&#97;&#99;&#123;&#116;&#32;&#92;&#115;&#105;&#110;&#32;&#40;&#92;&#111;&#109;&#101;&#103;&#97;&#32;&#32;&#116;&#41;&#125;&#123;&#50;&#32;&#92;&#111;&#109;&#101;&#103;&#97;&#32;&#125;$$</div>"
      ]
     },
     "execution_count": 34,
     "metadata": {
      "text/html": []
     },
     "output_type": "execute_result"
    }
   ],
   "source": [
    "Integrate[Sin[omega (t-s)] Cos[omega s] / omega, {s, 0, t}] // TeXEq"
   ]
  },
  {
   "cell_type": "code",
   "execution_count": 35,
   "metadata": {},
   "outputs": [
    {
     "data": {
      "text/html": [
       "<div>$$&#92;&#105;&#110;&#116;&#95;&#48;&#94;&#116;&#32;&#92;&#102;&#114;&#97;&#99;&#123;&#92;&#115;&#105;&#110;&#32;&#40;&#92;&#111;&#109;&#101;&#103;&#97;&#32;&#32;&#40;&#116;&#45;&#115;&#41;&#41;&#32;&#92;&#99;&#111;&#115;&#32;&#40;&#45;&#92;&#111;&#109;&#101;&#103;&#97;&#32;&#32;&#115;&#41;&#125;&#123;&#92;&#111;&#109;&#101;&#103;&#97;&#32;&#125;&#32;&#92;&#44;&#32;&#100;&#115;&#61;&#92;&#102;&#114;&#97;&#99;&#123;&#116;&#32;&#92;&#115;&#105;&#110;&#32;&#40;&#92;&#111;&#109;&#101;&#103;&#97;&#32;&#32;&#116;&#41;&#125;&#123;&#50;&#32;&#92;&#111;&#109;&#101;&#103;&#97;&#32;&#125;$$</div>"
      ]
     },
     "execution_count": 35,
     "metadata": {
      "text/html": []
     },
     "output_type": "execute_result"
    }
   ],
   "source": [
    "Integrate[Sin[omega (t-s)] Cos[-omega s] / omega, {s, 0, t}] // TeXEq"
   ]
  },
  {
   "cell_type": "code",
   "execution_count": 36,
   "metadata": {},
   "outputs": [
    {
     "data": {
      "text/html": [
       "<div>$$&#92;&#105;&#110;&#116;&#95;&#48;&#94;&#116;&#32;&#92;&#102;&#114;&#97;&#99;&#123;&#92;&#115;&#105;&#110;&#32;&#40;&#92;&#111;&#109;&#101;&#103;&#97;&#32;&#32;&#40;&#116;&#45;&#115;&#41;&#41;&#32;&#92;&#115;&#105;&#110;&#32;&#40;&#92;&#97;&#108;&#112;&#104;&#97;&#32;&#32;&#115;&#41;&#125;&#123;&#92;&#111;&#109;&#101;&#103;&#97;&#32;&#125;&#32;&#92;&#44;&#32;&#100;&#115;&#61;&#92;&#102;&#114;&#97;&#99;&#123;&#92;&#111;&#109;&#101;&#103;&#97;&#32;&#32;&#92;&#115;&#105;&#110;&#32;&#40;&#92;&#97;&#108;&#112;&#104;&#97;&#32;&#32;&#116;&#41;&#45;&#92;&#97;&#108;&#112;&#104;&#97;&#32;&#32;&#92;&#115;&#105;&#110;&#32;&#40;&#92;&#111;&#109;&#101;&#103;&#97;&#32;&#32;&#116;&#41;&#125;&#123;&#92;&#111;&#109;&#101;&#103;&#97;&#32;&#94;&#51;&#45;&#92;&#97;&#108;&#112;&#104;&#97;&#32;&#94;&#50;&#32;&#92;&#111;&#109;&#101;&#103;&#97;&#32;&#125;$$</div>"
      ]
     },
     "execution_count": 36,
     "metadata": {
      "text/html": []
     },
     "output_type": "execute_result"
    }
   ],
   "source": [
    "Integrate[Sin[omega (t-s)] Sin[alpha s] / omega, {s, 0, t}] // TeXEq"
   ]
  },
  {
   "cell_type": "code",
   "execution_count": 37,
   "metadata": {},
   "outputs": [
    {
     "data": {
      "text/html": [
       "<div>$$&#92;&#105;&#110;&#116;&#95;&#48;&#94;&#116;&#32;&#92;&#102;&#114;&#97;&#99;&#123;&#92;&#115;&#105;&#110;&#32;&#40;&#92;&#111;&#109;&#101;&#103;&#97;&#32;&#32;&#40;&#116;&#45;&#115;&#41;&#41;&#32;&#92;&#115;&#105;&#110;&#32;&#40;&#92;&#111;&#109;&#101;&#103;&#97;&#32;&#32;&#115;&#41;&#125;&#123;&#92;&#111;&#109;&#101;&#103;&#97;&#32;&#125;&#32;&#92;&#44;&#32;&#100;&#115;&#61;&#92;&#102;&#114;&#97;&#99;&#123;&#92;&#115;&#105;&#110;&#32;&#40;&#92;&#111;&#109;&#101;&#103;&#97;&#32;&#32;&#116;&#41;&#45;&#92;&#111;&#109;&#101;&#103;&#97;&#32;&#32;&#116;&#32;&#92;&#99;&#111;&#115;&#32;&#40;&#92;&#111;&#109;&#101;&#103;&#97;&#32;&#32;&#116;&#41;&#125;&#123;&#50;&#32;&#92;&#111;&#109;&#101;&#103;&#97;&#32;&#94;&#50;&#125;$$</div>"
      ]
     },
     "execution_count": 37,
     "metadata": {
      "text/html": []
     },
     "output_type": "execute_result"
    }
   ],
   "source": [
    "Integrate[Sin[omega (t-s)] Sin[omega s] / omega, {s, 0, t}] // TeXEq"
   ]
  },
  {
   "cell_type": "code",
   "execution_count": 38,
   "metadata": {},
   "outputs": [
    {
     "data": {
      "text/html": [
       "<div>$$&#92;&#105;&#110;&#116;&#95;&#48;&#94;&#116;&#32;&#92;&#102;&#114;&#97;&#99;&#123;&#92;&#115;&#105;&#110;&#32;&#40;&#92;&#111;&#109;&#101;&#103;&#97;&#32;&#32;&#40;&#116;&#45;&#115;&#41;&#41;&#32;&#92;&#115;&#105;&#110;&#32;&#40;&#45;&#92;&#111;&#109;&#101;&#103;&#97;&#32;&#32;&#115;&#41;&#125;&#123;&#92;&#111;&#109;&#101;&#103;&#97;&#32;&#125;&#32;&#92;&#44;&#32;&#100;&#115;&#61;&#92;&#102;&#114;&#97;&#99;&#123;&#92;&#111;&#109;&#101;&#103;&#97;&#32;&#32;&#116;&#32;&#92;&#99;&#111;&#115;&#32;&#40;&#92;&#111;&#109;&#101;&#103;&#97;&#32;&#32;&#116;&#41;&#45;&#92;&#115;&#105;&#110;&#32;&#40;&#92;&#111;&#109;&#101;&#103;&#97;&#32;&#32;&#116;&#41;&#125;&#123;&#50;&#32;&#92;&#111;&#109;&#101;&#103;&#97;&#32;&#94;&#50;&#125;$$</div>"
      ]
     },
     "execution_count": 38,
     "metadata": {
      "text/html": []
     },
     "output_type": "execute_result"
    }
   ],
   "source": [
    "Integrate[Sin[omega (t-s)] Sin[-omega s] / omega, {s, 0, t}] // TeXEq"
   ]
  },
  {
   "cell_type": "markdown",
   "metadata": {},
   "source": [
    "**まとめ:** $\\alpha,\\omega\\ne 0$ のとき, \n",
    "\n",
    "$$\n",
    "\\ddot u(t) = -\\omega^2 u(t) + A\\cos(\\alpha t) + B\\sin(\\alpha t), \\quad\n",
    "u(0)=q, \\quad \\dot u(0)=p\n",
    "\\tag{$*$}\n",
    "$$\n",
    "\n",
    "の形の微分方程式の初期値問題の解は, $\\alpha\\ne\\pm\\omega$ のとき\n",
    "\n",
    "$$\n",
    "u(t) = a\\cos(\\omega t) + b\\sin(\\omega t) + c\\cos(\\alpha t) + d\\sin(\\alpha t)\n",
    "$$\n",
    "\n",
    "の形になり, $\\alpha=\\pm\\omega$ のとき\n",
    "\n",
    "$$\n",
    "u(t) = a\\cos(\\omega t) + b\\sin(\\omega t) + c\\,t\\cos(\\omega t)+ d\\,t\\sin(\\omega t)\n",
    "$$\n",
    "\n",
    "の形になる. \n",
    "\n",
    "**証明:** $\\alpha\\ne\\pm\\omega$ の場合.\n",
    "\n",
    "$$\n",
    "u(t) = a\\cos(\\omega t) + b\\sin(\\omega t) + c\\cos(\\alpha t) + d\\sin(\\alpha t)\n",
    "$$\n",
    "\n",
    "とおくと, \n",
    "\n",
    "$$\n",
    "\\begin{aligned}\n",
    "u(0) &= a + c\n",
    "\\\\\n",
    "\\dot u(t) &= -\n",
    "\\omega a\\sin(\\omega t) + \\omega b\\cos(\\omega t) - \n",
    "\\alpha c\\sin(\\alpha t) + \\alpha d\\cos(\\alpha t),\n",
    "\\\\\n",
    "\\dot u(0) &= \\omega b + \\alpha d,\n",
    "\\\\\n",
    "\\ddot u(t) &= -\n",
    "\\omega^2 a\\cos(\\omega t) - \\omega^2 b\\sin(\\omega t) - \n",
    "\\alpha^2 c\\cos(\\alpha t) - \\alpha^2 d\\sin(\\alpha t)\n",
    "\\\\ & =\n",
    "-\\omega^2 u(t) + (\\omega^2-\\alpha2)c\\cos(\\alpha t) + (\\omega^2-\\alpha^2)d\\sin(\\alpha t).\n",
    "\\end{aligned}\n",
    "$$\n",
    "\n",
    "これと($*$)を比較すると, \n",
    "\n",
    "$$\n",
    "a + c = q, \\quad \\omega b + \\alpha d = p, \\quad\n",
    "(\\omega^2-\\alpha^2)c = A, \\quad (\\omega^2-\\alpha^)d = B.\n",
    "$$\n",
    "\n",
    "すなわち,\n",
    "\n",
    "$$\n",
    "a = q - \\frac{A}{\\omega^2-\\alpha^2}, \\quad\n",
    "b = \\frac{1}{\\omega}\\left(p - \\frac{\\alpha B}{\\omega^2-\\alpha^2}\\right), \\quad\n",
    "c = \\frac{A}{\\omega^2-\\alpha^2}, \\quad\n",
    "d = \\frac{B}{\\omega^2-\\alpha^2}.\n",
    "$$\n",
    "\n",
    "$a,b,c,d$ をこのように定めると上の $u(t)$ が($*$)の解であることは容易に確認できる.\n",
    "\n",
    "$\\alpha=\\omega$ の場合:\n",
    "\n",
    "$$\n",
    "u(t) = a\\cos(\\omega t) + b\\sin(\\omega t) + c\\,t\\cos(\\omega t) + d\\,t\\sin(\\omega t)\n",
    "$$\n",
    "\n",
    "とおくと,\n",
    "\n",
    "$$\n",
    "\\begin{aligned}\n",
    "u(0) &= a,\n",
    "\\\\\n",
    "\\dot u(t) &= -\n",
    "\\omega a\\sin(\\omega t) + \\omega b\\cos(\\omega t) + \n",
    "c(-\\omega t\\sin(\\omega t) + \\cos(\\omega t)) + d(\\omega t\\cos(\\omega t) + \\sin(\\omega t)),\n",
    "\\\\\n",
    "\\dot u(0) &= \\omega b + c,\n",
    "\\\\\n",
    "\\ddot u(t) &= -\n",
    "\\omega^2 a\\cos(\\omega t) - \\omega b\\sin(\\omega t) + \n",
    "c(-\\omega^2 t\\cos(\\omega t) - 2\\omega \\sin(\\omega t)) + d(-\\omega^2 t\\sin(\\omega t) + 2\\omega\\cos(\\omega t)),\n",
    "\\\\ & =\n",
    "-\\omega^2 u(t) + 2\\omega d\\cos t -2\\omega c\\sin t.\n",
    "\\end{aligned}\n",
    "$$\n",
    "\n",
    "これと($*$)を比較すると,\n",
    "\n",
    "$$\n",
    "a = q, \\quad \\omega b+c = p, \\quad 2\\omega d = A, \\quad -2\\omega c=B.\n",
    "$$\n",
    "\n",
    "すなわち, \n",
    "\n",
    "$$\n",
    "a = q, \\quad b = \\frac{p}{\\omega} + \\frac{B}{2\\omega^2}, \\quad c = -\\frac{B}{2\\omega}, \\quad d = \\frac{A}{2\\omega}.\n",
    "$$\n",
    "\n",
    "$a,b,c,d$ をこのように定めると上の $u(t)$ が($*$)の解であることは容易に確認できる.  $\\alpha=-\\omega$ の場合も同様. $\\QED$"
   ]
  },
  {
   "cell_type": "code",
   "execution_count": 39,
   "metadata": {},
   "outputs": [
    {
     "data": {
      "text/html": [
       "<style>\n",
       "\t\t\t\t\t\t\t\t\t\t\t.grid-container {\n",
       "\t\t\t\t\t\t\t\t\t\t\t\tdisplay: inline-grid;\n",
       "\t\t\t\t\t\t\t\t\t\t\t\tgrid-template-columns: auto auto;\n",
       "\t\t\t\t\t\t\t\t\t\t\t}\n",
       "\t\t\t\t\t\t\t\t\t\t</style>\n",
       "\n",
       "\t\t\t\t\t\t\t\t\t\t<div><div class=\"grid-container\"><div class=\"grid-item\">\n",
       "\t\t\t\t\t\t\t\t\t\t\t\t\t<div class=\"prompt output_prompt\" style=\"text-align:left;padding:0em;padding-right:20px;line-height:20px;\">\n",
       "\t\t\t\t\t\t\t\t\t\t\t\t\t\tOut[41]:\n",
       "\t\t\t\t\t\t\t\t\t\t\t\t\t</div>\n",
       "\t\t\t\t\t\t\t\t\t\t\t\t</div>\n",
       "\t\t\t\t\t\t\t\t\t\t\t\t<div class=\"grid-item\">$$&#117;&#61;&#92;&#102;&#114;&#97;&#99;&#123;&#92;&#111;&#109;&#101;&#103;&#97;&#32;&#32;&#92;&#99;&#111;&#115;&#32;&#40;&#92;&#111;&#109;&#101;&#103;&#97;&#32;&#32;&#116;&#41;&#32;&#40;&#65;&#43;&#113;&#32;&#40;&#92;&#97;&#108;&#112;&#104;&#97;&#32;&#45;&#92;&#111;&#109;&#101;&#103;&#97;&#32;&#41;&#32;&#40;&#92;&#97;&#108;&#112;&#104;&#97;&#32;&#43;&#92;&#111;&#109;&#101;&#103;&#97;&#32;&#41;&#41;&#45;&#65;&#32;&#92;&#111;&#109;&#101;&#103;&#97;&#32;&#32;&#92;&#99;&#111;&#115;&#32;&#40;&#92;&#97;&#108;&#112;&#104;&#97;&#32;&#32;&#116;&#41;&#43;&#92;&#115;&#105;&#110;&#32;&#40;&#92;&#111;&#109;&#101;&#103;&#97;&#32;&#32;&#116;&#41;&#32;&#92;&#108;&#101;&#102;&#116;&#40;&#92;&#97;&#108;&#112;&#104;&#97;&#32;&#94;&#50;&#32;&#112;&#43;&#92;&#97;&#108;&#112;&#104;&#97;&#32;&#32;&#66;&#45;&#92;&#111;&#109;&#101;&#103;&#97;&#32;&#94;&#50;&#32;&#112;&#92;&#114;&#105;&#103;&#104;&#116;&#41;&#45;&#66;&#32;&#92;&#111;&#109;&#101;&#103;&#97;&#32;&#32;&#92;&#115;&#105;&#110;&#32;&#40;&#92;&#97;&#108;&#112;&#104;&#97;&#32;&#32;&#116;&#41;&#125;&#123;&#92;&#111;&#109;&#101;&#103;&#97;&#32;&#32;&#40;&#92;&#97;&#108;&#112;&#104;&#97;&#32;&#45;&#92;&#111;&#109;&#101;&#103;&#97;&#32;&#41;&#32;&#40;&#92;&#97;&#108;&#112;&#104;&#97;&#32;&#43;&#92;&#111;&#109;&#101;&#103;&#97;&#32;&#41;&#125;$$</div><div class=\"grid-item\">\n",
       "\t\t\t\t\t\t\t\t\t\t\t\t\t<div class=\"prompt output_prompt\" style=\"text-align:left;padding:0em;padding-right:20px;line-height:20px;\">\n",
       "\t\t\t\t\t\t\t\t\t\t\t\t\t\tOut[42]:\n",
       "\t\t\t\t\t\t\t\t\t\t\t\t\t</div>\n",
       "\t\t\t\t\t\t\t\t\t\t\t\t</div>\n",
       "\t\t\t\t\t\t\t\t\t\t\t\t<div class=\"grid-item\">$$&#40;&#117;&#92;&#116;&#101;&#120;&#116;&#123;&#47;&#46;&#125;&#92;&#44;&#32;&#116;&#92;&#116;&#111;&#32;&#48;&#41;&#61;&#113;$$</div><div class=\"grid-item\">\n",
       "\t\t\t\t\t\t\t\t\t\t\t\t\t<div class=\"prompt output_prompt\" style=\"text-align:left;padding:0em;padding-right:20px;line-height:20px;\">\n",
       "\t\t\t\t\t\t\t\t\t\t\t\t\t\tOut[43]:\n",
       "\t\t\t\t\t\t\t\t\t\t\t\t\t</div>\n",
       "\t\t\t\t\t\t\t\t\t\t\t\t</div>\n",
       "\t\t\t\t\t\t\t\t\t\t\t\t<div class=\"grid-item\">$$&#92;&#102;&#114;&#97;&#99;&#123;&#92;&#112;&#97;&#114;&#116;&#105;&#97;&#108;&#32;&#117;&#125;&#123;&#92;&#112;&#97;&#114;&#116;&#105;&#97;&#108;&#32;&#116;&#125;&#61;&#92;&#102;&#114;&#97;&#99;&#123;&#45;&#92;&#111;&#109;&#101;&#103;&#97;&#32;&#32;&#92;&#115;&#105;&#110;&#32;&#40;&#92;&#111;&#109;&#101;&#103;&#97;&#32;&#32;&#116;&#41;&#32;&#40;&#65;&#43;&#113;&#32;&#40;&#92;&#97;&#108;&#112;&#104;&#97;&#32;&#45;&#92;&#111;&#109;&#101;&#103;&#97;&#32;&#41;&#32;&#40;&#92;&#97;&#108;&#112;&#104;&#97;&#32;&#43;&#92;&#111;&#109;&#101;&#103;&#97;&#32;&#41;&#41;&#43;&#65;&#32;&#92;&#97;&#108;&#112;&#104;&#97;&#32;&#32;&#92;&#115;&#105;&#110;&#32;&#40;&#92;&#97;&#108;&#112;&#104;&#97;&#32;&#32;&#116;&#41;&#43;&#92;&#99;&#111;&#115;&#32;&#40;&#92;&#111;&#109;&#101;&#103;&#97;&#32;&#32;&#116;&#41;&#32;&#92;&#108;&#101;&#102;&#116;&#40;&#92;&#97;&#108;&#112;&#104;&#97;&#32;&#94;&#50;&#32;&#112;&#43;&#92;&#97;&#108;&#112;&#104;&#97;&#32;&#32;&#66;&#45;&#92;&#111;&#109;&#101;&#103;&#97;&#32;&#94;&#50;&#32;&#112;&#92;&#114;&#105;&#103;&#104;&#116;&#41;&#45;&#92;&#97;&#108;&#112;&#104;&#97;&#32;&#32;&#66;&#32;&#92;&#99;&#111;&#115;&#32;&#40;&#92;&#97;&#108;&#112;&#104;&#97;&#32;&#32;&#116;&#41;&#125;&#123;&#40;&#92;&#97;&#108;&#112;&#104;&#97;&#32;&#45;&#92;&#111;&#109;&#101;&#103;&#97;&#32;&#41;&#32;&#40;&#92;&#97;&#108;&#112;&#104;&#97;&#32;&#43;&#92;&#111;&#109;&#101;&#103;&#97;&#32;&#41;&#125;$$</div><div class=\"grid-item\">\n",
       "\t\t\t\t\t\t\t\t\t\t\t\t\t<div class=\"prompt output_prompt\" style=\"text-align:left;padding:0em;padding-right:20px;line-height:20px;\">\n",
       "\t\t\t\t\t\t\t\t\t\t\t\t\t\tOut[44]:\n",
       "\t\t\t\t\t\t\t\t\t\t\t\t\t</div>\n",
       "\t\t\t\t\t\t\t\t\t\t\t\t</div>\n",
       "\t\t\t\t\t\t\t\t\t\t\t\t<div class=\"grid-item\">$$&#92;&#108;&#101;&#102;&#116;&#40;&#92;&#102;&#114;&#97;&#99;&#123;&#92;&#112;&#97;&#114;&#116;&#105;&#97;&#108;&#32;&#117;&#125;&#123;&#92;&#112;&#97;&#114;&#116;&#105;&#97;&#108;&#32;&#116;&#125;&#92;&#116;&#101;&#120;&#116;&#123;&#47;&#46;&#125;&#92;&#44;&#32;&#116;&#92;&#116;&#111;&#32;&#48;&#92;&#114;&#105;&#103;&#104;&#116;&#41;&#61;&#112;$$</div><div class=\"grid-item\">\n",
       "\t\t\t\t\t\t\t\t\t\t\t\t\t<div class=\"prompt output_prompt\" style=\"text-align:left;padding:0em;padding-right:20px;line-height:20px;\">\n",
       "\t\t\t\t\t\t\t\t\t\t\t\t\t\tOut[45]:\n",
       "\t\t\t\t\t\t\t\t\t\t\t\t\t</div>\n",
       "\t\t\t\t\t\t\t\t\t\t\t\t</div>\n",
       "\t\t\t\t\t\t\t\t\t\t\t\t<div class=\"grid-item\">$$&#92;&#102;&#114;&#97;&#99;&#123;&#92;&#112;&#97;&#114;&#116;&#105;&#97;&#108;&#32;&#94;&#50;&#117;&#125;&#123;&#92;&#112;&#97;&#114;&#116;&#105;&#97;&#108;&#32;&#116;&#92;&#44;&#32;&#92;&#112;&#97;&#114;&#116;&#105;&#97;&#108;&#32;&#116;&#125;&#43;&#92;&#111;&#109;&#101;&#103;&#97;&#32;&#94;&#50;&#32;&#117;&#61;&#65;&#32;&#92;&#99;&#111;&#115;&#32;&#40;&#92;&#97;&#108;&#112;&#104;&#97;&#32;&#32;&#116;&#41;&#43;&#66;&#32;&#92;&#115;&#105;&#110;&#32;&#40;&#92;&#97;&#108;&#112;&#104;&#97;&#32;&#32;&#116;&#41;$$</div></div></div>"
      ]
     },
     "execution_count": 41,
     "metadata": {
      "text/html": []
     },
     "output_type": "execute_result"
    }
   ],
   "source": [
    "Clear[A,B,a,b,p,q,alpha,omega]\n",
    "u = (q - A/(omega^2 - alpha^2)) Cos[omega t] + (p - alpha B/(omega^2-alpha^2))/omega Sin[omega t] + A/(omega^2-alpha^2) Cos[alpha t] + B/(omega^2-alpha^2) Sin[alpha t];\n",
    "u // TeXEq\n",
    "u/.t->0 // TeXEq\n",
    "D[u, t] // TeXEq\n",
    "D[u,t]/.t->0 // TeXEq\n",
    "D[u,t,t] + omega^2 u // TeXEq"
   ]
  },
  {
   "cell_type": "code",
   "execution_count": 46,
   "metadata": {},
   "outputs": [
    {
     "data": {
      "text/html": [
       "<style>\n",
       "\t\t\t\t\t\t\t\t\t\t\t.grid-container {\n",
       "\t\t\t\t\t\t\t\t\t\t\t\tdisplay: inline-grid;\n",
       "\t\t\t\t\t\t\t\t\t\t\t\tgrid-template-columns: auto auto;\n",
       "\t\t\t\t\t\t\t\t\t\t\t}\n",
       "\t\t\t\t\t\t\t\t\t\t</style>\n",
       "\n",
       "\t\t\t\t\t\t\t\t\t\t<div><div class=\"grid-container\"><div class=\"grid-item\">\n",
       "\t\t\t\t\t\t\t\t\t\t\t\t\t<div class=\"prompt output_prompt\" style=\"text-align:left;padding:0em;padding-right:20px;line-height:20px;\">\n",
       "\t\t\t\t\t\t\t\t\t\t\t\t\t\tOut[48]:\n",
       "\t\t\t\t\t\t\t\t\t\t\t\t\t</div>\n",
       "\t\t\t\t\t\t\t\t\t\t\t\t</div>\n",
       "\t\t\t\t\t\t\t\t\t\t\t\t<div class=\"grid-item\">$$&#117;&#61;&#92;&#102;&#114;&#97;&#99;&#123;&#92;&#115;&#105;&#110;&#32;&#40;&#92;&#111;&#109;&#101;&#103;&#97;&#32;&#32;&#116;&#41;&#32;&#40;&#65;&#32;&#92;&#111;&#109;&#101;&#103;&#97;&#32;&#32;&#116;&#43;&#66;&#43;&#50;&#32;&#92;&#111;&#109;&#101;&#103;&#97;&#32;&#32;&#112;&#41;&#43;&#92;&#111;&#109;&#101;&#103;&#97;&#32;&#32;&#92;&#99;&#111;&#115;&#32;&#40;&#92;&#111;&#109;&#101;&#103;&#97;&#32;&#32;&#116;&#41;&#32;&#40;&#50;&#32;&#92;&#111;&#109;&#101;&#103;&#97;&#32;&#32;&#113;&#45;&#66;&#32;&#116;&#41;&#125;&#123;&#50;&#32;&#92;&#111;&#109;&#101;&#103;&#97;&#32;&#94;&#50;&#125;$$</div><div class=\"grid-item\">\n",
       "\t\t\t\t\t\t\t\t\t\t\t\t\t<div class=\"prompt output_prompt\" style=\"text-align:left;padding:0em;padding-right:20px;line-height:20px;\">\n",
       "\t\t\t\t\t\t\t\t\t\t\t\t\t\tOut[49]:\n",
       "\t\t\t\t\t\t\t\t\t\t\t\t\t</div>\n",
       "\t\t\t\t\t\t\t\t\t\t\t\t</div>\n",
       "\t\t\t\t\t\t\t\t\t\t\t\t<div class=\"grid-item\">$$&#40;&#117;&#92;&#116;&#101;&#120;&#116;&#123;&#47;&#46;&#125;&#92;&#44;&#32;&#116;&#92;&#116;&#111;&#32;&#48;&#41;&#61;&#113;$$</div><div class=\"grid-item\">\n",
       "\t\t\t\t\t\t\t\t\t\t\t\t\t<div class=\"prompt output_prompt\" style=\"text-align:left;padding:0em;padding-right:20px;line-height:20px;\">\n",
       "\t\t\t\t\t\t\t\t\t\t\t\t\t\tOut[50]:\n",
       "\t\t\t\t\t\t\t\t\t\t\t\t\t</div>\n",
       "\t\t\t\t\t\t\t\t\t\t\t\t</div>\n",
       "\t\t\t\t\t\t\t\t\t\t\t\t<div class=\"grid-item\">$$&#92;&#102;&#114;&#97;&#99;&#123;&#92;&#112;&#97;&#114;&#116;&#105;&#97;&#108;&#32;&#117;&#125;&#123;&#92;&#112;&#97;&#114;&#116;&#105;&#97;&#108;&#32;&#116;&#125;&#61;&#92;&#102;&#114;&#97;&#99;&#123;&#92;&#115;&#105;&#110;&#32;&#40;&#92;&#111;&#109;&#101;&#103;&#97;&#32;&#32;&#116;&#41;&#32;&#40;&#65;&#43;&#92;&#111;&#109;&#101;&#103;&#97;&#32;&#32;&#40;&#66;&#32;&#116;&#45;&#50;&#32;&#92;&#111;&#109;&#101;&#103;&#97;&#32;&#32;&#113;&#41;&#41;&#43;&#92;&#111;&#109;&#101;&#103;&#97;&#32;&#32;&#40;&#65;&#32;&#116;&#43;&#50;&#32;&#112;&#41;&#32;&#92;&#99;&#111;&#115;&#32;&#40;&#92;&#111;&#109;&#101;&#103;&#97;&#32;&#32;&#116;&#41;&#125;&#123;&#50;&#32;&#92;&#111;&#109;&#101;&#103;&#97;&#32;&#125;$$</div><div class=\"grid-item\">\n",
       "\t\t\t\t\t\t\t\t\t\t\t\t\t<div class=\"prompt output_prompt\" style=\"text-align:left;padding:0em;padding-right:20px;line-height:20px;\">\n",
       "\t\t\t\t\t\t\t\t\t\t\t\t\t\tOut[51]:\n",
       "\t\t\t\t\t\t\t\t\t\t\t\t\t</div>\n",
       "\t\t\t\t\t\t\t\t\t\t\t\t</div>\n",
       "\t\t\t\t\t\t\t\t\t\t\t\t<div class=\"grid-item\">$$&#92;&#108;&#101;&#102;&#116;&#40;&#92;&#102;&#114;&#97;&#99;&#123;&#92;&#112;&#97;&#114;&#116;&#105;&#97;&#108;&#32;&#117;&#125;&#123;&#92;&#112;&#97;&#114;&#116;&#105;&#97;&#108;&#32;&#116;&#125;&#92;&#116;&#101;&#120;&#116;&#123;&#47;&#46;&#125;&#92;&#44;&#32;&#116;&#92;&#116;&#111;&#32;&#48;&#92;&#114;&#105;&#103;&#104;&#116;&#41;&#61;&#112;$$</div><div class=\"grid-item\">\n",
       "\t\t\t\t\t\t\t\t\t\t\t\t\t<div class=\"prompt output_prompt\" style=\"text-align:left;padding:0em;padding-right:20px;line-height:20px;\">\n",
       "\t\t\t\t\t\t\t\t\t\t\t\t\t\tOut[52]:\n",
       "\t\t\t\t\t\t\t\t\t\t\t\t\t</div>\n",
       "\t\t\t\t\t\t\t\t\t\t\t\t</div>\n",
       "\t\t\t\t\t\t\t\t\t\t\t\t<div class=\"grid-item\">$$&#92;&#102;&#114;&#97;&#99;&#123;&#92;&#112;&#97;&#114;&#116;&#105;&#97;&#108;&#32;&#94;&#50;&#117;&#125;&#123;&#92;&#112;&#97;&#114;&#116;&#105;&#97;&#108;&#32;&#116;&#92;&#44;&#32;&#92;&#112;&#97;&#114;&#116;&#105;&#97;&#108;&#32;&#116;&#125;&#43;&#92;&#111;&#109;&#101;&#103;&#97;&#32;&#94;&#50;&#32;&#117;&#61;&#65;&#32;&#92;&#99;&#111;&#115;&#32;&#40;&#92;&#111;&#109;&#101;&#103;&#97;&#32;&#32;&#116;&#41;&#43;&#66;&#32;&#92;&#115;&#105;&#110;&#32;&#40;&#92;&#111;&#109;&#101;&#103;&#97;&#32;&#32;&#116;&#41;$$</div></div></div>"
      ]
     },
     "execution_count": 48,
     "metadata": {
      "text/html": []
     },
     "output_type": "execute_result"
    }
   ],
   "source": [
    "Clear[A,B,a,b,p,q,alpha,omega]\n",
    "u = q Cos[omega t] + (p/omega + B/(2 omega^2)) Sin[omega t] - B/(2 omega) t Cos[omega t] + A/(2 omega) t Sin[omega t]; \n",
    "u // TeXEq\n",
    "u/.t->0 // TeXEq\n",
    "D[u,t] // TeXEq\n",
    "D[u,t]/.t->0 // TeXEq\n",
    "D[u, t, t] + omega^2 u // TeXEq"
   ]
  },
  {
   "cell_type": "markdown",
   "metadata": {},
   "source": [
    "**例:** $\\ddot u(t) = -u(t) + \\cos(\\sqrt{2}\\;t)$, $u(0)=1$, $\\dot u(0)=0$ の解は\n",
    "\n",
    "$$\n",
    "u(t) = 2\\cos t - \\cos(\\sqrt{2}\\;t).\n",
    "$$"
   ]
  },
  {
   "cell_type": "code",
   "execution_count": 53,
   "metadata": {},
   "outputs": [
    {
     "data": {
      "text/html": [
       "<style>\n",
       "\t\t\t\t\t\t\t\t\t\t\t.grid-container {\n",
       "\t\t\t\t\t\t\t\t\t\t\t\tdisplay: inline-grid;\n",
       "\t\t\t\t\t\t\t\t\t\t\t\tgrid-template-columns: auto auto;\n",
       "\t\t\t\t\t\t\t\t\t\t\t}\n",
       "\t\t\t\t\t\t\t\t\t\t</style>\n",
       "\n",
       "\t\t\t\t\t\t\t\t\t\t<div><div class=\"grid-container\"><div class=\"grid-item\">\n",
       "\t\t\t\t\t\t\t\t\t\t\t\t\t<div class=\"prompt output_prompt\" style=\"text-align:left;padding:0em;padding-right:20px;line-height:20px;\">\n",
       "\t\t\t\t\t\t\t\t\t\t\t\t\t\tOut[54]:\n",
       "\t\t\t\t\t\t\t\t\t\t\t\t\t</div>\n",
       "\t\t\t\t\t\t\t\t\t\t\t\t</div>\n",
       "\t\t\t\t\t\t\t\t\t\t\t\t<div class=\"grid-item\">$$&#117;&#61;&#50;&#32;&#92;&#99;&#111;&#115;&#32;&#40;&#116;&#41;&#45;&#92;&#99;&#111;&#115;&#32;&#92;&#108;&#101;&#102;&#116;&#40;&#92;&#115;&#113;&#114;&#116;&#123;&#50;&#125;&#32;&#116;&#92;&#114;&#105;&#103;&#104;&#116;&#41;$$</div><div class=\"grid-item\">\n",
       "\t\t\t\t\t\t\t\t\t\t\t\t\t<div class=\"prompt output_prompt\" style=\"text-align:left;padding:0em;padding-right:20px;line-height:20px;\">\n",
       "\t\t\t\t\t\t\t\t\t\t\t\t\t\tOut[55]:\n",
       "\t\t\t\t\t\t\t\t\t\t\t\t\t</div>\n",
       "\t\t\t\t\t\t\t\t\t\t\t\t</div>\n",
       "\t\t\t\t\t\t\t\t\t\t\t\t<div class=\"grid-item\">$$&#40;&#117;&#92;&#116;&#101;&#120;&#116;&#123;&#47;&#46;&#125;&#92;&#44;&#32;&#116;&#92;&#116;&#111;&#32;&#48;&#41;&#61;&#49;$$</div><div class=\"grid-item\">\n",
       "\t\t\t\t\t\t\t\t\t\t\t\t\t<div class=\"prompt output_prompt\" style=\"text-align:left;padding:0em;padding-right:20px;line-height:20px;\">\n",
       "\t\t\t\t\t\t\t\t\t\t\t\t\t\tOut[56]:\n",
       "\t\t\t\t\t\t\t\t\t\t\t\t\t</div>\n",
       "\t\t\t\t\t\t\t\t\t\t\t\t</div>\n",
       "\t\t\t\t\t\t\t\t\t\t\t\t<div class=\"grid-item\">$$&#92;&#102;&#114;&#97;&#99;&#123;&#92;&#112;&#97;&#114;&#116;&#105;&#97;&#108;&#32;&#117;&#125;&#123;&#92;&#112;&#97;&#114;&#116;&#105;&#97;&#108;&#32;&#116;&#125;&#61;&#92;&#115;&#113;&#114;&#116;&#123;&#50;&#125;&#32;&#92;&#115;&#105;&#110;&#32;&#92;&#108;&#101;&#102;&#116;&#40;&#92;&#115;&#113;&#114;&#116;&#123;&#50;&#125;&#32;&#116;&#92;&#114;&#105;&#103;&#104;&#116;&#41;&#45;&#50;&#32;&#92;&#115;&#105;&#110;&#32;&#40;&#116;&#41;$$</div><div class=\"grid-item\">\n",
       "\t\t\t\t\t\t\t\t\t\t\t\t\t<div class=\"prompt output_prompt\" style=\"text-align:left;padding:0em;padding-right:20px;line-height:20px;\">\n",
       "\t\t\t\t\t\t\t\t\t\t\t\t\t\tOut[57]:\n",
       "\t\t\t\t\t\t\t\t\t\t\t\t\t</div>\n",
       "\t\t\t\t\t\t\t\t\t\t\t\t</div>\n",
       "\t\t\t\t\t\t\t\t\t\t\t\t<div class=\"grid-item\">$$&#92;&#108;&#101;&#102;&#116;&#40;&#92;&#102;&#114;&#97;&#99;&#123;&#92;&#112;&#97;&#114;&#116;&#105;&#97;&#108;&#32;&#117;&#125;&#123;&#92;&#112;&#97;&#114;&#116;&#105;&#97;&#108;&#32;&#116;&#125;&#92;&#116;&#101;&#120;&#116;&#123;&#47;&#46;&#125;&#92;&#44;&#32;&#116;&#92;&#116;&#111;&#32;&#48;&#92;&#114;&#105;&#103;&#104;&#116;&#41;&#61;&#48;$$</div><div class=\"grid-item\">\n",
       "\t\t\t\t\t\t\t\t\t\t\t\t\t<div class=\"prompt output_prompt\" style=\"text-align:left;padding:0em;padding-right:20px;line-height:20px;\">\n",
       "\t\t\t\t\t\t\t\t\t\t\t\t\t\tOut[58]:\n",
       "\t\t\t\t\t\t\t\t\t\t\t\t\t</div>\n",
       "\t\t\t\t\t\t\t\t\t\t\t\t</div>\n",
       "\t\t\t\t\t\t\t\t\t\t\t\t<div class=\"grid-item\">$$&#92;&#102;&#114;&#97;&#99;&#123;&#92;&#112;&#97;&#114;&#116;&#105;&#97;&#108;&#32;&#94;&#50;&#117;&#125;&#123;&#92;&#112;&#97;&#114;&#116;&#105;&#97;&#108;&#32;&#116;&#92;&#44;&#32;&#92;&#112;&#97;&#114;&#116;&#105;&#97;&#108;&#32;&#116;&#125;&#43;&#117;&#61;&#92;&#99;&#111;&#115;&#32;&#92;&#108;&#101;&#102;&#116;&#40;&#92;&#115;&#113;&#114;&#116;&#123;&#50;&#125;&#32;&#116;&#92;&#114;&#105;&#103;&#104;&#116;&#41;$$</div></div></div>"
      ]
     },
     "execution_count": 54,
     "metadata": {
      "text/html": []
     },
     "output_type": "execute_result"
    }
   ],
   "source": [
    "u = 2 Cos[t] - Cos[Sqrt[2] t];\n",
    "u // TeXEq\n",
    "u/.t->0 // TeXEq\n",
    "D[u,t] // TeXEq\n",
    "D[u,t]/.t->0 // TeXEq\n",
    "D[u,t,t] + u // TeXEq"
   ]
  },
  {
   "cell_type": "code",
   "execution_count": 59,
   "metadata": {},
   "outputs": [
    {
     "data": {
      "text/html": [
       "<div><img alt=\"Output\" src=\"data:image/png;base64,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\" width=\"420\"></div>"
      ]
     },
     "execution_count": 59,
     "metadata": {
      "text/html": []
     },
     "output_type": "execute_result"
    }
   ],
   "source": [
    "Plot[u, {t,0,100}]"
   ]
  },
  {
   "cell_type": "markdown",
   "metadata": {},
   "source": [
    "**例:** $\\ddot u(t) = -u(t) + \\sin(\\sqrt{2}\\;t)$, $u(0)=1$, $\\dot u(0)=0$ の解は\n",
    "\n",
    "$$\n",
    "u(t) = \\cos t + \\sqrt{2}\\sin t - \\sin(\\sqrt{2}\\;t).\n",
    "$$"
   ]
  },
  {
   "cell_type": "code",
   "execution_count": 60,
   "metadata": {},
   "outputs": [
    {
     "data": {
      "text/html": [
       "<style>\n",
       "\t\t\t\t\t\t\t\t\t\t\t.grid-container {\n",
       "\t\t\t\t\t\t\t\t\t\t\t\tdisplay: inline-grid;\n",
       "\t\t\t\t\t\t\t\t\t\t\t\tgrid-template-columns: auto auto;\n",
       "\t\t\t\t\t\t\t\t\t\t\t}\n",
       "\t\t\t\t\t\t\t\t\t\t</style>\n",
       "\n",
       "\t\t\t\t\t\t\t\t\t\t<div><div class=\"grid-container\"><div class=\"grid-item\">\n",
       "\t\t\t\t\t\t\t\t\t\t\t\t\t<div class=\"prompt output_prompt\" style=\"text-align:left;padding:0em;padding-right:20px;line-height:20px;\">\n",
       "\t\t\t\t\t\t\t\t\t\t\t\t\t\tOut[61]:\n",
       "\t\t\t\t\t\t\t\t\t\t\t\t\t</div>\n",
       "\t\t\t\t\t\t\t\t\t\t\t\t</div>\n",
       "\t\t\t\t\t\t\t\t\t\t\t\t<div class=\"grid-item\">$$&#117;&#61;&#92;&#115;&#113;&#114;&#116;&#123;&#50;&#125;&#32;&#92;&#115;&#105;&#110;&#32;&#40;&#116;&#41;&#45;&#92;&#115;&#105;&#110;&#32;&#92;&#108;&#101;&#102;&#116;&#40;&#92;&#115;&#113;&#114;&#116;&#123;&#50;&#125;&#32;&#116;&#92;&#114;&#105;&#103;&#104;&#116;&#41;&#43;&#92;&#99;&#111;&#115;&#32;&#40;&#116;&#41;$$</div><div class=\"grid-item\">\n",
       "\t\t\t\t\t\t\t\t\t\t\t\t\t<div class=\"prompt output_prompt\" style=\"text-align:left;padding:0em;padding-right:20px;line-height:20px;\">\n",
       "\t\t\t\t\t\t\t\t\t\t\t\t\t\tOut[62]:\n",
       "\t\t\t\t\t\t\t\t\t\t\t\t\t</div>\n",
       "\t\t\t\t\t\t\t\t\t\t\t\t</div>\n",
       "\t\t\t\t\t\t\t\t\t\t\t\t<div class=\"grid-item\">$$&#40;&#117;&#92;&#116;&#101;&#120;&#116;&#123;&#47;&#46;&#125;&#92;&#44;&#32;&#116;&#92;&#116;&#111;&#32;&#48;&#41;&#61;&#49;$$</div><div class=\"grid-item\">\n",
       "\t\t\t\t\t\t\t\t\t\t\t\t\t<div class=\"prompt output_prompt\" style=\"text-align:left;padding:0em;padding-right:20px;line-height:20px;\">\n",
       "\t\t\t\t\t\t\t\t\t\t\t\t\t\tOut[63]:\n",
       "\t\t\t\t\t\t\t\t\t\t\t\t\t</div>\n",
       "\t\t\t\t\t\t\t\t\t\t\t\t</div>\n",
       "\t\t\t\t\t\t\t\t\t\t\t\t<div class=\"grid-item\">$$&#92;&#102;&#114;&#97;&#99;&#123;&#92;&#112;&#97;&#114;&#116;&#105;&#97;&#108;&#32;&#117;&#125;&#123;&#92;&#112;&#97;&#114;&#116;&#105;&#97;&#108;&#32;&#116;&#125;&#61;&#45;&#92;&#115;&#105;&#110;&#32;&#40;&#116;&#41;&#43;&#92;&#115;&#113;&#114;&#116;&#123;&#50;&#125;&#32;&#92;&#99;&#111;&#115;&#32;&#40;&#116;&#41;&#45;&#92;&#115;&#113;&#114;&#116;&#123;&#50;&#125;&#32;&#92;&#99;&#111;&#115;&#32;&#92;&#108;&#101;&#102;&#116;&#40;&#92;&#115;&#113;&#114;&#116;&#123;&#50;&#125;&#32;&#116;&#92;&#114;&#105;&#103;&#104;&#116;&#41;$$</div><div class=\"grid-item\">\n",
       "\t\t\t\t\t\t\t\t\t\t\t\t\t<div class=\"prompt output_prompt\" style=\"text-align:left;padding:0em;padding-right:20px;line-height:20px;\">\n",
       "\t\t\t\t\t\t\t\t\t\t\t\t\t\tOut[64]:\n",
       "\t\t\t\t\t\t\t\t\t\t\t\t\t</div>\n",
       "\t\t\t\t\t\t\t\t\t\t\t\t</div>\n",
       "\t\t\t\t\t\t\t\t\t\t\t\t<div class=\"grid-item\">$$&#92;&#108;&#101;&#102;&#116;&#40;&#92;&#102;&#114;&#97;&#99;&#123;&#92;&#112;&#97;&#114;&#116;&#105;&#97;&#108;&#32;&#117;&#125;&#123;&#92;&#112;&#97;&#114;&#116;&#105;&#97;&#108;&#32;&#116;&#125;&#92;&#116;&#101;&#120;&#116;&#123;&#47;&#46;&#125;&#92;&#44;&#32;&#116;&#92;&#116;&#111;&#32;&#48;&#92;&#114;&#105;&#103;&#104;&#116;&#41;&#61;&#48;$$</div><div class=\"grid-item\">\n",
       "\t\t\t\t\t\t\t\t\t\t\t\t\t<div class=\"prompt output_prompt\" style=\"text-align:left;padding:0em;padding-right:20px;line-height:20px;\">\n",
       "\t\t\t\t\t\t\t\t\t\t\t\t\t\tOut[65]:\n",
       "\t\t\t\t\t\t\t\t\t\t\t\t\t</div>\n",
       "\t\t\t\t\t\t\t\t\t\t\t\t</div>\n",
       "\t\t\t\t\t\t\t\t\t\t\t\t<div class=\"grid-item\">$$&#92;&#102;&#114;&#97;&#99;&#123;&#92;&#112;&#97;&#114;&#116;&#105;&#97;&#108;&#32;&#94;&#50;&#117;&#125;&#123;&#92;&#112;&#97;&#114;&#116;&#105;&#97;&#108;&#32;&#116;&#92;&#44;&#32;&#92;&#112;&#97;&#114;&#116;&#105;&#97;&#108;&#32;&#116;&#125;&#43;&#117;&#61;&#92;&#115;&#105;&#110;&#32;&#92;&#108;&#101;&#102;&#116;&#40;&#92;&#115;&#113;&#114;&#116;&#123;&#50;&#125;&#32;&#116;&#92;&#114;&#105;&#103;&#104;&#116;&#41;$$</div></div></div>"
      ]
     },
     "execution_count": 61,
     "metadata": {
      "text/html": []
     },
     "output_type": "execute_result"
    }
   ],
   "source": [
    "u = Cos[t] + Sqrt[2] Sin[t] - Sin[Sqrt[2] t];\n",
    "u // TeXEq\n",
    "u/.t->0 // TeXEq\n",
    "D[u,t] // TeXEq\n",
    "D[u,t]/.t->0 // TeXEq\n",
    "D[u,t,t] + u // TeXEq"
   ]
  },
  {
   "cell_type": "code",
   "execution_count": 66,
   "metadata": {},
   "outputs": [
    {
     "data": {
      "text/html": [
       "<div><img alt=\"Output\" src=\"data:image/png;base64,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\" width=\"420\"></div>"
      ]
     },
     "execution_count": 66,
     "metadata": {
      "text/html": []
     },
     "output_type": "execute_result"
    }
   ],
   "source": [
    "Plot[u, {t,0,100}]"
   ]
  },
  {
   "cell_type": "markdown",
   "metadata": {},
   "source": [
    "**例:** $\\ddot u(t) = -u(t) + \\cos t$, $u(0)=1$, $\\dot u(0)=0$ の解は\n",
    "\n",
    "$$\n",
    "u(t) = \\cos t + \\frac{t}{2}\\sin t.\n",
    "$$"
   ]
  },
  {
   "cell_type": "code",
   "execution_count": 67,
   "metadata": {},
   "outputs": [
    {
     "data": {
      "text/html": [
       "<style>\n",
       "\t\t\t\t\t\t\t\t\t\t\t.grid-container {\n",
       "\t\t\t\t\t\t\t\t\t\t\t\tdisplay: inline-grid;\n",
       "\t\t\t\t\t\t\t\t\t\t\t\tgrid-template-columns: auto auto;\n",
       "\t\t\t\t\t\t\t\t\t\t\t}\n",
       "\t\t\t\t\t\t\t\t\t\t</style>\n",
       "\n",
       "\t\t\t\t\t\t\t\t\t\t<div><div class=\"grid-container\"><div class=\"grid-item\">\n",
       "\t\t\t\t\t\t\t\t\t\t\t\t\t<div class=\"prompt output_prompt\" style=\"text-align:left;padding:0em;padding-right:20px;line-height:20px;\">\n",
       "\t\t\t\t\t\t\t\t\t\t\t\t\t\tOut[68]:\n",
       "\t\t\t\t\t\t\t\t\t\t\t\t\t</div>\n",
       "\t\t\t\t\t\t\t\t\t\t\t\t</div>\n",
       "\t\t\t\t\t\t\t\t\t\t\t\t<div class=\"grid-item\">$$&#117;&#61;&#92;&#102;&#114;&#97;&#99;&#123;&#49;&#125;&#123;&#50;&#125;&#32;&#116;&#32;&#92;&#115;&#105;&#110;&#32;&#40;&#116;&#41;&#43;&#92;&#99;&#111;&#115;&#32;&#40;&#116;&#41;$$</div><div class=\"grid-item\">\n",
       "\t\t\t\t\t\t\t\t\t\t\t\t\t<div class=\"prompt output_prompt\" style=\"text-align:left;padding:0em;padding-right:20px;line-height:20px;\">\n",
       "\t\t\t\t\t\t\t\t\t\t\t\t\t\tOut[69]:\n",
       "\t\t\t\t\t\t\t\t\t\t\t\t\t</div>\n",
       "\t\t\t\t\t\t\t\t\t\t\t\t</div>\n",
       "\t\t\t\t\t\t\t\t\t\t\t\t<div class=\"grid-item\">$$&#40;&#117;&#92;&#116;&#101;&#120;&#116;&#123;&#47;&#46;&#125;&#92;&#44;&#32;&#116;&#92;&#116;&#111;&#32;&#48;&#41;&#61;&#49;$$</div><div class=\"grid-item\">\n",
       "\t\t\t\t\t\t\t\t\t\t\t\t\t<div class=\"prompt output_prompt\" style=\"text-align:left;padding:0em;padding-right:20px;line-height:20px;\">\n",
       "\t\t\t\t\t\t\t\t\t\t\t\t\t\tOut[70]:\n",
       "\t\t\t\t\t\t\t\t\t\t\t\t\t</div>\n",
       "\t\t\t\t\t\t\t\t\t\t\t\t</div>\n",
       "\t\t\t\t\t\t\t\t\t\t\t\t<div class=\"grid-item\">$$&#92;&#102;&#114;&#97;&#99;&#123;&#92;&#112;&#97;&#114;&#116;&#105;&#97;&#108;&#32;&#117;&#125;&#123;&#92;&#112;&#97;&#114;&#116;&#105;&#97;&#108;&#32;&#116;&#125;&#61;&#92;&#102;&#114;&#97;&#99;&#123;&#49;&#125;&#123;&#50;&#125;&#32;&#40;&#116;&#32;&#92;&#99;&#111;&#115;&#32;&#40;&#116;&#41;&#45;&#92;&#115;&#105;&#110;&#32;&#40;&#116;&#41;&#41;$$</div><div class=\"grid-item\">\n",
       "\t\t\t\t\t\t\t\t\t\t\t\t\t<div class=\"prompt output_prompt\" style=\"text-align:left;padding:0em;padding-right:20px;line-height:20px;\">\n",
       "\t\t\t\t\t\t\t\t\t\t\t\t\t\tOut[71]:\n",
       "\t\t\t\t\t\t\t\t\t\t\t\t\t</div>\n",
       "\t\t\t\t\t\t\t\t\t\t\t\t</div>\n",
       "\t\t\t\t\t\t\t\t\t\t\t\t<div class=\"grid-item\">$$&#92;&#108;&#101;&#102;&#116;&#40;&#92;&#102;&#114;&#97;&#99;&#123;&#92;&#112;&#97;&#114;&#116;&#105;&#97;&#108;&#32;&#117;&#125;&#123;&#92;&#112;&#97;&#114;&#116;&#105;&#97;&#108;&#32;&#116;&#125;&#92;&#116;&#101;&#120;&#116;&#123;&#47;&#46;&#125;&#92;&#44;&#32;&#116;&#92;&#116;&#111;&#32;&#48;&#92;&#114;&#105;&#103;&#104;&#116;&#41;&#61;&#48;$$</div><div class=\"grid-item\">\n",
       "\t\t\t\t\t\t\t\t\t\t\t\t\t<div class=\"prompt output_prompt\" style=\"text-align:left;padding:0em;padding-right:20px;line-height:20px;\">\n",
       "\t\t\t\t\t\t\t\t\t\t\t\t\t\tOut[72]:\n",
       "\t\t\t\t\t\t\t\t\t\t\t\t\t</div>\n",
       "\t\t\t\t\t\t\t\t\t\t\t\t</div>\n",
       "\t\t\t\t\t\t\t\t\t\t\t\t<div class=\"grid-item\">$$&#92;&#102;&#114;&#97;&#99;&#123;&#92;&#112;&#97;&#114;&#116;&#105;&#97;&#108;&#32;&#94;&#50;&#117;&#125;&#123;&#92;&#112;&#97;&#114;&#116;&#105;&#97;&#108;&#32;&#116;&#92;&#44;&#32;&#92;&#112;&#97;&#114;&#116;&#105;&#97;&#108;&#32;&#116;&#125;&#43;&#117;&#61;&#92;&#99;&#111;&#115;&#32;&#40;&#116;&#41;$$</div></div></div>"
      ]
     },
     "execution_count": 68,
     "metadata": {
      "text/html": []
     },
     "output_type": "execute_result"
    }
   ],
   "source": [
    "u = Cos[t] + t/2 Sin[t];\n",
    "u // TeXEq\n",
    "u/.t->0 // TeXEq\n",
    "D[u,t] // TeXEq\n",
    "D[u,t]/.t->0 // TeXEq\n",
    "D[u,t,t] + u // TeXEq"
   ]
  },
  {
   "cell_type": "code",
   "execution_count": 73,
   "metadata": {},
   "outputs": [
    {
     "data": {
      "text/html": [
       "<div><img alt=\"Output\" src=\"data:image/png;base64,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\" width=\"420\"></div>"
      ]
     },
     "execution_count": 73,
     "metadata": {
      "text/html": []
     },
     "output_type": "execute_result"
    }
   ],
   "source": [
    "Plot[u, {t,0,100}]"
   ]
  },
  {
   "cell_type": "markdown",
   "metadata": {},
   "source": [
    "**例:** $\\ddot u(t) = -u(t) + \\sin t$, $u(0)=1$, $\\dot u(0)=0$ の解は\n",
    "\n",
    "$$\n",
    "u(t) = \\cos t + \\frac{1}{2}\\sin t - \\frac{t}{2}\\cos t.\n",
    "$$\n",
    "\n",
    "これは以下のようにして求めることができる.\n",
    "\n",
    "$$\n",
    "u(t) = a\\cos t + b\\sin t + c\\;t\\cos t + d\\;t\\sin t\n",
    "$$\n",
    "\n",
    "とおくと,\n",
    "\n",
    "$$\n",
    "\\begin{aligned}\n",
    "u(0) &= a,\n",
    "\\\\\n",
    "\\dot u(t) &= -a\\sin t + b\\cos t + c(-t\\sin t + \\cos t) + d(t\\cos t + \\sin t),\n",
    "\\\\\n",
    "\\dot u(0) &= b+c,\n",
    "\\\\\n",
    "\\ddot u(t) &= -a\\cos t - b\\sin t + c(-t\\cos t -2\\sin t) + d(-t\\sin t + 2\\cos t)\n",
    "\\\\ & =\n",
    "-u(t) + 2d\\cos t -2c\\sin t.\n",
    "\\end{aligned}\n",
    "$$\n",
    "\n",
    "これと $\\ddot u(t) = -u(t) + \\sin t$, $u(0)=1$, $\\dot u(0)=0$ を比較すれば, $a=1$, $d=0$, $c=-1/2$, $b=1/2$ を得る. "
   ]
  },
  {
   "cell_type": "code",
   "execution_count": 74,
   "metadata": {},
   "outputs": [
    {
     "data": {
      "text/html": [
       "<style>\n",
       "\t\t\t\t\t\t\t\t\t\t\t.grid-container {\n",
       "\t\t\t\t\t\t\t\t\t\t\t\tdisplay: inline-grid;\n",
       "\t\t\t\t\t\t\t\t\t\t\t\tgrid-template-columns: auto auto;\n",
       "\t\t\t\t\t\t\t\t\t\t\t}\n",
       "\t\t\t\t\t\t\t\t\t\t</style>\n",
       "\n",
       "\t\t\t\t\t\t\t\t\t\t<div><div class=\"grid-container\"><div class=\"grid-item\">\n",
       "\t\t\t\t\t\t\t\t\t\t\t\t\t<div class=\"prompt output_prompt\" style=\"text-align:left;padding:0em;padding-right:20px;line-height:20px;\">\n",
       "\t\t\t\t\t\t\t\t\t\t\t\t\t\tOut[75]:\n",
       "\t\t\t\t\t\t\t\t\t\t\t\t\t</div>\n",
       "\t\t\t\t\t\t\t\t\t\t\t\t</div>\n",
       "\t\t\t\t\t\t\t\t\t\t\t\t<div class=\"grid-item\">$$&#92;&#102;&#114;&#97;&#99;&#123;&#92;&#115;&#105;&#110;&#32;&#40;&#116;&#41;&#125;&#123;&#50;&#125;&#45;&#92;&#102;&#114;&#97;&#99;&#123;&#49;&#125;&#123;&#50;&#125;&#32;&#116;&#32;&#92;&#99;&#111;&#115;&#32;&#40;&#116;&#41;&#43;&#92;&#99;&#111;&#115;&#32;&#40;&#116;&#41;$$</div><div class=\"grid-item\">\n",
       "\t\t\t\t\t\t\t\t\t\t\t\t\t<div class=\"prompt output_prompt\" style=\"text-align:left;padding:0em;padding-right:20px;line-height:20px;\">\n",
       "\t\t\t\t\t\t\t\t\t\t\t\t\t\tOut[76]:\n",
       "\t\t\t\t\t\t\t\t\t\t\t\t\t</div>\n",
       "\t\t\t\t\t\t\t\t\t\t\t\t</div>\n",
       "\t\t\t\t\t\t\t\t\t\t\t\t<div class=\"grid-item\">$$&#40;&#117;&#92;&#116;&#101;&#120;&#116;&#123;&#47;&#46;&#125;&#92;&#44;&#32;&#116;&#92;&#116;&#111;&#32;&#48;&#41;&#61;&#49;$$</div><div class=\"grid-item\">\n",
       "\t\t\t\t\t\t\t\t\t\t\t\t\t<div class=\"prompt output_prompt\" style=\"text-align:left;padding:0em;padding-right:20px;line-height:20px;\">\n",
       "\t\t\t\t\t\t\t\t\t\t\t\t\t\tOut[77]:\n",
       "\t\t\t\t\t\t\t\t\t\t\t\t\t</div>\n",
       "\t\t\t\t\t\t\t\t\t\t\t\t</div>\n",
       "\t\t\t\t\t\t\t\t\t\t\t\t<div class=\"grid-item\">$$&#92;&#102;&#114;&#97;&#99;&#123;&#92;&#112;&#97;&#114;&#116;&#105;&#97;&#108;&#32;&#117;&#125;&#123;&#92;&#112;&#97;&#114;&#116;&#105;&#97;&#108;&#32;&#116;&#125;&#61;&#92;&#102;&#114;&#97;&#99;&#123;&#49;&#125;&#123;&#50;&#125;&#32;&#40;&#116;&#45;&#50;&#41;&#32;&#92;&#115;&#105;&#110;&#32;&#40;&#116;&#41;$$</div><div class=\"grid-item\">\n",
       "\t\t\t\t\t\t\t\t\t\t\t\t\t<div class=\"prompt output_prompt\" style=\"text-align:left;padding:0em;padding-right:20px;line-height:20px;\">\n",
       "\t\t\t\t\t\t\t\t\t\t\t\t\t\tOut[78]:\n",
       "\t\t\t\t\t\t\t\t\t\t\t\t\t</div>\n",
       "\t\t\t\t\t\t\t\t\t\t\t\t</div>\n",
       "\t\t\t\t\t\t\t\t\t\t\t\t<div class=\"grid-item\">$$&#92;&#108;&#101;&#102;&#116;&#40;&#92;&#102;&#114;&#97;&#99;&#123;&#92;&#112;&#97;&#114;&#116;&#105;&#97;&#108;&#32;&#117;&#125;&#123;&#92;&#112;&#97;&#114;&#116;&#105;&#97;&#108;&#32;&#116;&#125;&#92;&#116;&#101;&#120;&#116;&#123;&#47;&#46;&#125;&#92;&#44;&#32;&#116;&#92;&#116;&#111;&#32;&#48;&#92;&#114;&#105;&#103;&#104;&#116;&#41;&#61;&#48;$$</div><div class=\"grid-item\">\n",
       "\t\t\t\t\t\t\t\t\t\t\t\t\t<div class=\"prompt output_prompt\" style=\"text-align:left;padding:0em;padding-right:20px;line-height:20px;\">\n",
       "\t\t\t\t\t\t\t\t\t\t\t\t\t\tOut[79]:\n",
       "\t\t\t\t\t\t\t\t\t\t\t\t\t</div>\n",
       "\t\t\t\t\t\t\t\t\t\t\t\t</div>\n",
       "\t\t\t\t\t\t\t\t\t\t\t\t<div class=\"grid-item\">$$&#92;&#102;&#114;&#97;&#99;&#123;&#92;&#112;&#97;&#114;&#116;&#105;&#97;&#108;&#32;&#94;&#50;&#117;&#125;&#123;&#92;&#112;&#97;&#114;&#116;&#105;&#97;&#108;&#32;&#116;&#92;&#44;&#32;&#92;&#112;&#97;&#114;&#116;&#105;&#97;&#108;&#32;&#116;&#125;&#43;&#117;&#61;&#92;&#115;&#105;&#110;&#32;&#40;&#116;&#41;$$</div></div></div>"
      ]
     },
     "execution_count": 75,
     "metadata": {
      "text/html": []
     },
     "output_type": "execute_result"
    }
   ],
   "source": [
    "u = Cos[t] + 1/2 Sin[t] - t/2 Cos[t];\n",
    "u // TeX\n",
    "u/.t->0 // TeXEq\n",
    "D[u,t] // TeXEq\n",
    "D[u,t]/.t->0 // TeXEq\n",
    "D[u,t,t] + u // TeXEq"
   ]
  },
  {
   "cell_type": "code",
   "execution_count": 80,
   "metadata": {},
   "outputs": [
    {
     "data": {
      "text/html": [
       "<div><img alt=\"Output\" src=\"data:image/png;base64,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\" width=\"420\"></div>"
      ]
     },
     "execution_count": 80,
     "metadata": {
      "text/html": []
     },
     "output_type": "execute_result"
    }
   ],
   "source": [
    "Plot[u, {t,0,100}]"
   ]
  },
  {
   "cell_type": "markdown",
   "metadata": {},
   "source": [
    "#### 共振再論\n",
    "\n",
    "$\\alpha,\\omega\\ne 0$ であるとし, $\\d = d/dt$ とおく.\n",
    "\n",
    "前節のまとめは, 定数係数微分方程式\n",
    "\n",
    "$$\n",
    "\\ddot u(t) + \\omega^2 u(t) = A\\cos(\\alpha t) + B\\sin(\\alpha t)\n",
    "\\tag{$*$}\n",
    "$$\n",
    "\n",
    "の解が次の微分方程式の解になることを意味している:\n",
    "\n",
    "$$\n",
    "(\\d^2+\\omega^2)(\\d^2+\\alpha^2)u(t) = 0.\n",
    "\\tag{$**$}\n",
    "$$\n",
    "\n",
    "$\\omega^2\\ne\\alpha^2$ の場合には($**$)の解全体のなすベクトル空間の基底として, \n",
    "\n",
    "$$\n",
    "\\cos(\\omega t), \\quad \\sin(\\omega t), \\quad\n",
    "\\cos(\\alpha t), \\quad \\sin(\\alpha t)\n",
    "$$\n",
    "\n",
    "が取れ, $\\omega^2=\\alpha^2$ の場合には($**$)の解全体のなすベクトル空間の基底として, \n",
    "\n",
    "$$\n",
    "\\cos(\\omega t), \\quad \\sin(\\omega t), \\quad\n",
    "t\\cos(\\omega t), \\quad t\\sin(\\omega t)\n",
    "$$\n",
    "\n",
    "が取れるのであった.\n",
    "\n",
    "この一致は偶然であろうか? もちろんそうではない. そのことを以下で説明しよう.\n",
    "\n",
    "方程式($*$)の左辺は $(\\d^2+\\omega^2)u(t)$ と書け, 右辺は微分方程式 $(\\d^2+\\alpha^2)v(t)=0$ の解なので, 方程式($*$)の解 $u(t)$ から\n",
    "\n",
    "$$\n",
    "(\\d^2+\\omega^2)u(t) = v(t), \\quad\n",
    "(\\d^2+\\alpha^2)v(t) = 0\n",
    "$$\n",
    "\n",
    "の解 $u(t),v(t)$ が得られる. 前者を後者に代入すると($**$)が得られる. これで, ($*$)の解は($**$)の解になっていることが分かった.\n",
    "\n",
    "最初からこのように考えていれば($*$)の解が前節のまとめのように記述されることはほぼ自明になっていたはずである."
   ]
  },
  {
   "cell_type": "markdown",
   "metadata": {},
   "source": [
    "## 非斉次な波動方程式 (より高級な話題)\n",
    "\n",
    "この節の内容は先走った内容になっているので, 初めて読む読者は飛ばしてよい. 後で必要になってから戻って来ても遅くない.  しかし, 筆者的には実用的な内容を含んでいるので計算を追ってみて欲しいと思う.\n",
    "\n",
    "**ポイント:** 非斉次な調和振動子は本質的に非斉次な波動方程式の空間方向のFourier変換になっている. 非斉次な調和振動子が完全に解けているので, その逆Fourier変換によって非斉次な波動方程式も完全に解けてしまうことになる. $\\QED$\n",
    "\n",
    "### 解の表示\n",
    "\n",
    "$u=u(t,x)$ に関する次の方程式を非斉次な波動方程式の初期値問題と呼ぶ:\n",
    "\n",
    "$$\n",
    "u_{tt}(t,x) = u_{xx}(t,x) + f(t,x), \\quad u(0,x)=a(x), \\quad u_t(0,x)=b(x).\n",
    "$$\n",
    "\n",
    "これの解は次のように書ける:\n",
    "\n",
    "$$\n",
    "u(t,x) = \\frac{a(x+t)+a(x-t)}{2} + \n",
    "\\frac{1}{2}\\int_{x-t}^{x+t} b(y)\\,dy +\n",
    "\\frac{1}{2}\\int_0^t ds\\,\\int_{x-(t-s)}^{x+(t-s)} f(s,y)\\,dy.\n",
    "\\tag{$*$}\n",
    "$$\n",
    "\n",
    "これが実際に上の条件を満たしていることは直接的に確認できる:\n",
    "\n",
    "$$\n",
    "\\begin{aligned}\n",
    "u(0,x) &= a(x),\n",
    "\\\\\n",
    "u_t(t,x) &= \\frac{a'(x+t)-a'(x-t)}{2} +\n",
    "\\frac{b(x+t)+b(x-t)}{2} \n",
    "\\\\ &+ \n",
    "\\int_0^t\\frac{f(s,x+(t-s))+f(s,x-(t-s))}{2}\\,ds,\n",
    "\\\\\n",
    "u_t(0,x) &= b(x),\n",
    "\\\\\n",
    "u_{tt}(t,x) &= \\frac{a''(x+t)+a''(x-t)}{2} +\n",
    "\\frac{b'(x+t)-b'(x-t)}{2} \n",
    "\\\\ &+ \n",
    "\\int_0^t\\frac{f'(s,x+(t-s))-f'(s,x-(t-s))}{2}\\,ds + f(t,x),\n",
    "\\\\\n",
    "u_x(t,x) &= \\frac{a'(x+t)+a'(x-t)}{2} +\n",
    "\\frac{b(x+t)-b(x-t)}{2} \n",
    "\\\\ &+ \n",
    "\\int_0^t\\frac{f(s,x+(t-s))-f(s,x-(t-s))}{2}\\,ds,\n",
    "\\\\\n",
    "u_{xx}(t,x) &= \\frac{a''(x+t)+a''(x-t)}{2} +\n",
    "\\frac{b'(x+t)-b'(x-t)}{2} \n",
    "\\\\ &+ \n",
    "\\int_0^t\\frac{f'(s,x+(t-s))-f'(s,x-(t-s))}{2}\\,ds.\n",
    "\\end{aligned}\n",
    "$$\n",
    "\n",
    "ゆえに $u_{tt}(t,x) = u_{xx}(t,x) + f(t,x)$."
   ]
  },
  {
   "cell_type": "code",
   "execution_count": 81,
   "metadata": {},
   "outputs": [
    {
     "data": {
      "text/html": [
       "<style>\n",
       "\t\t\t\t\t\t\t\t\t\t\t.grid-container {\n",
       "\t\t\t\t\t\t\t\t\t\t\t\tdisplay: inline-grid;\n",
       "\t\t\t\t\t\t\t\t\t\t\t\tgrid-template-columns: auto auto;\n",
       "\t\t\t\t\t\t\t\t\t\t\t}\n",
       "\t\t\t\t\t\t\t\t\t\t</style>\n",
       "\n",
       "\t\t\t\t\t\t\t\t\t\t<div><div class=\"grid-container\"><div class=\"grid-item\">\n",
       "\t\t\t\t\t\t\t\t\t\t\t\t\t<div class=\"prompt output_prompt\" style=\"text-align:left;padding:0em;padding-right:20px;line-height:20px;\">\n",
       "\t\t\t\t\t\t\t\t\t\t\t\t\t\tOut[83]:\n",
       "\t\t\t\t\t\t\t\t\t\t\t\t\t</div>\n",
       "\t\t\t\t\t\t\t\t\t\t\t\t</div>\n",
       "\t\t\t\t\t\t\t\t\t\t\t\t<div class=\"grid-item\">$$&#117;&#61;&#92;&#102;&#114;&#97;&#99;&#123;&#49;&#125;&#123;&#50;&#125;&#32;&#92;&#105;&#110;&#116;&#95;&#48;&#94;&#116;&#32;&#92;&#108;&#101;&#102;&#116;&#40;&#92;&#105;&#110;&#116;&#95;&#123;&#115;&#45;&#116;&#43;&#120;&#125;&#94;&#123;&#45;&#115;&#43;&#116;&#43;&#120;&#125;&#32;&#102;&#40;&#115;&#44;&#121;&#41;&#32;&#92;&#44;&#32;&#100;&#121;&#92;&#114;&#105;&#103;&#104;&#116;&#41;&#32;&#92;&#44;&#32;&#100;&#115;&#43;&#92;&#102;&#114;&#97;&#99;&#123;&#49;&#125;&#123;&#50;&#125;&#32;&#40;&#97;&#40;&#120;&#45;&#116;&#41;&#43;&#97;&#40;&#116;&#43;&#120;&#41;&#41;&#43;&#92;&#102;&#114;&#97;&#99;&#123;&#49;&#125;&#123;&#50;&#125;&#32;&#92;&#105;&#110;&#116;&#95;&#123;&#120;&#45;&#116;&#125;&#94;&#123;&#116;&#43;&#120;&#125;&#32;&#98;&#40;&#121;&#41;&#32;&#92;&#44;&#32;&#100;&#121;$$</div><div class=\"grid-item\">\n",
       "\t\t\t\t\t\t\t\t\t\t\t\t\t<div class=\"prompt output_prompt\" style=\"text-align:left;padding:0em;padding-right:20px;line-height:20px;\">\n",
       "\t\t\t\t\t\t\t\t\t\t\t\t\t\tOut[84]:\n",
       "\t\t\t\t\t\t\t\t\t\t\t\t\t</div>\n",
       "\t\t\t\t\t\t\t\t\t\t\t\t</div>\n",
       "\t\t\t\t\t\t\t\t\t\t\t\t<div class=\"grid-item\">$$&#117;&#40;&#48;&#44;&#120;&#41;&#32;&#61;&#32;&#97;&#40;&#120;&#41;$$</div><div class=\"grid-item\">\n",
       "\t\t\t\t\t\t\t\t\t\t\t\t\t<div class=\"prompt output_prompt\" style=\"text-align:left;padding:0em;padding-right:20px;line-height:20px;\">\n",
       "\t\t\t\t\t\t\t\t\t\t\t\t\t\tOut[85]:\n",
       "\t\t\t\t\t\t\t\t\t\t\t\t\t</div>\n",
       "\t\t\t\t\t\t\t\t\t\t\t\t</div>\n",
       "\t\t\t\t\t\t\t\t\t\t\t\t<div class=\"grid-item\">$$&#117;&#95;&#116;&#32;&#61;&#32;&#92;&#102;&#114;&#97;&#99;&#123;&#49;&#125;&#123;&#50;&#125;&#32;&#92;&#105;&#110;&#116;&#95;&#48;&#94;&#116;&#32;&#40;&#102;&#40;&#115;&#44;&#115;&#45;&#116;&#43;&#120;&#41;&#43;&#102;&#40;&#115;&#44;&#45;&#115;&#43;&#116;&#43;&#120;&#41;&#41;&#32;&#92;&#44;&#32;&#100;&#115;&#43;&#92;&#102;&#114;&#97;&#99;&#123;&#49;&#125;&#123;&#50;&#125;&#32;&#92;&#108;&#101;&#102;&#116;&#40;&#97;&#39;&#40;&#116;&#43;&#120;&#41;&#45;&#97;&#39;&#40;&#120;&#45;&#116;&#41;&#92;&#114;&#105;&#103;&#104;&#116;&#41;&#43;&#92;&#102;&#114;&#97;&#99;&#123;&#49;&#125;&#123;&#50;&#125;&#32;&#40;&#98;&#40;&#120;&#45;&#116;&#41;&#43;&#98;&#40;&#116;&#43;&#120;&#41;&#41;$$</div><div class=\"grid-item\">\n",
       "\t\t\t\t\t\t\t\t\t\t\t\t\t<div class=\"prompt output_prompt\" style=\"text-align:left;padding:0em;padding-right:20px;line-height:20px;\">\n",
       "\t\t\t\t\t\t\t\t\t\t\t\t\t\tOut[86]:\n",
       "\t\t\t\t\t\t\t\t\t\t\t\t\t</div>\n",
       "\t\t\t\t\t\t\t\t\t\t\t\t</div>\n",
       "\t\t\t\t\t\t\t\t\t\t\t\t<div class=\"grid-item\">$$&#117;&#95;&#116;&#40;&#48;&#44;&#120;&#41;&#32;&#61;&#98;&#40;&#120;&#41;$$</div><div class=\"grid-item\">\n",
       "\t\t\t\t\t\t\t\t\t\t\t\t\t<div class=\"prompt output_prompt\" style=\"text-align:left;padding:0em;padding-right:20px;line-height:20px;\">\n",
       "\t\t\t\t\t\t\t\t\t\t\t\t\t\tOut[88]:\n",
       "\t\t\t\t\t\t\t\t\t\t\t\t\t</div>\n",
       "\t\t\t\t\t\t\t\t\t\t\t\t</div>\n",
       "\t\t\t\t\t\t\t\t\t\t\t\t<div class=\"grid-item\">$$&#117;&#95;&#123;&#116;&#116;&#125;&#32;&#61;&#32;&#92;&#102;&#114;&#97;&#99;&#123;&#49;&#125;&#123;&#50;&#125;&#32;&#92;&#108;&#101;&#102;&#116;&#40;&#92;&#105;&#110;&#116;&#95;&#48;&#94;&#116;&#32;&#92;&#108;&#101;&#102;&#116;&#40;&#102;&#94;&#123;&#40;&#48;&#44;&#49;&#41;&#125;&#40;&#115;&#44;&#45;&#115;&#43;&#116;&#43;&#120;&#41;&#45;&#102;&#94;&#123;&#40;&#48;&#44;&#49;&#41;&#125;&#40;&#115;&#44;&#115;&#45;&#116;&#43;&#120;&#41;&#92;&#114;&#105;&#103;&#104;&#116;&#41;&#32;&#92;&#44;&#32;&#100;&#115;&#43;&#50;&#32;&#102;&#40;&#116;&#44;&#120;&#41;&#92;&#114;&#105;&#103;&#104;&#116;&#41;&#43;&#92;&#102;&#114;&#97;&#99;&#123;&#49;&#125;&#123;&#50;&#125;&#32;&#92;&#108;&#101;&#102;&#116;&#40;&#97;&#39;&#39;&#40;&#120;&#45;&#116;&#41;&#43;&#97;&#39;&#39;&#40;&#116;&#43;&#120;&#41;&#92;&#114;&#105;&#103;&#104;&#116;&#41;&#43;&#92;&#102;&#114;&#97;&#99;&#123;&#49;&#125;&#123;&#50;&#125;&#32;&#92;&#108;&#101;&#102;&#116;&#40;&#98;&#39;&#40;&#116;&#43;&#120;&#41;&#45;&#98;&#39;&#40;&#120;&#45;&#116;&#41;&#92;&#114;&#105;&#103;&#104;&#116;&#41;$$</div><div class=\"grid-item\">\n",
       "\t\t\t\t\t\t\t\t\t\t\t\t\t<div class=\"prompt output_prompt\" style=\"text-align:left;padding:0em;padding-right:20px;line-height:20px;\">\n",
       "\t\t\t\t\t\t\t\t\t\t\t\t\t\tOut[90]:\n",
       "\t\t\t\t\t\t\t\t\t\t\t\t\t</div>\n",
       "\t\t\t\t\t\t\t\t\t\t\t\t</div>\n",
       "\t\t\t\t\t\t\t\t\t\t\t\t<div class=\"grid-item\">$$&#117;&#95;&#123;&#120;&#120;&#125;&#32;&#61;&#32;&#92;&#102;&#114;&#97;&#99;&#123;&#49;&#125;&#123;&#50;&#125;&#32;&#92;&#105;&#110;&#116;&#95;&#48;&#94;&#116;&#32;&#92;&#108;&#101;&#102;&#116;&#40;&#102;&#94;&#123;&#40;&#48;&#44;&#49;&#41;&#125;&#40;&#115;&#44;&#45;&#115;&#43;&#116;&#43;&#120;&#41;&#45;&#102;&#94;&#123;&#40;&#48;&#44;&#49;&#41;&#125;&#40;&#115;&#44;&#115;&#45;&#116;&#43;&#120;&#41;&#92;&#114;&#105;&#103;&#104;&#116;&#41;&#32;&#92;&#44;&#32;&#100;&#115;&#43;&#92;&#102;&#114;&#97;&#99;&#123;&#49;&#125;&#123;&#50;&#125;&#32;&#92;&#108;&#101;&#102;&#116;&#40;&#97;&#39;&#39;&#40;&#120;&#45;&#116;&#41;&#43;&#97;&#39;&#39;&#40;&#116;&#43;&#120;&#41;&#92;&#114;&#105;&#103;&#104;&#116;&#41;&#43;&#92;&#102;&#114;&#97;&#99;&#123;&#49;&#125;&#123;&#50;&#125;&#32;&#92;&#108;&#101;&#102;&#116;&#40;&#98;&#39;&#40;&#116;&#43;&#120;&#41;&#45;&#98;&#39;&#40;&#120;&#45;&#116;&#41;&#92;&#114;&#105;&#103;&#104;&#116;&#41;$$</div><div class=\"grid-item\">\n",
       "\t\t\t\t\t\t\t\t\t\t\t\t\t<div class=\"prompt output_prompt\" style=\"text-align:left;padding:0em;padding-right:20px;line-height:20px;\">\n",
       "\t\t\t\t\t\t\t\t\t\t\t\t\t\tOut[91]:\n",
       "\t\t\t\t\t\t\t\t\t\t\t\t\t</div>\n",
       "\t\t\t\t\t\t\t\t\t\t\t\t</div>\n",
       "\t\t\t\t\t\t\t\t\t\t\t\t<div class=\"grid-item\">$$&#117;&#95;&#123;&#116;&#116;&#125;&#45;&#117;&#95;&#123;&#120;&#120;&#125;&#61;&#102;&#40;&#116;&#44;&#120;&#41;$$</div></div></div>"
      ]
     },
     "execution_count": 83,
     "metadata": {
      "text/html": []
     },
     "output_type": "execute_result"
    }
   ],
   "source": [
    "Clear[a,b,f,s,t,x,y]\n",
    "u = (a[x+t]+a[x-t])/2 + (1/2) Integrate[b[y],{y,x-t,x+t}] + (1/2) Integrate[Integrate[f[s,y],{y,x-(t-s),x+(t-s)}],{s,0,t}];\n",
    "u // TeXRaw[\"u=\",#]&\n",
    "u/.t->0 // TeXRaw[\"u(0,x) = \", #]&\n",
    "D[u,t] // TeXRaw[\"u_t = \",#]&\n",
    "D[u,t]/.t->0 // TeXRaw[\"u_t(0,x) =\", #]&\n",
    "utt = D[u,{t,2}];\n",
    "utt // TeXRaw[\"u_{tt} = \", #]&\n",
    "uxx = D[u,{x,2}];\n",
    "uxx // TeXRaw[\"u_{xx} = \", #]&\n",
    "utt - uxx// TeXRaw[\"u_{tt}-u_{xx}=\", # // Simplify]&"
   ]
  },
  {
   "cell_type": "markdown",
   "metadata": {},
   "source": [
    "それでは天下りに与えた解の表示($*$)はどのようにして発見できるであろうか?\n",
    "\n",
    "非斉次な波動方程式を $x$ についてFourier変換すれば前節の非斉次な調和振動子に帰着し, 逆Fourier変換でもとに戻せば解の表示($*$)が得られる. 以下の節では実際にそれを実行してみよう."
   ]
  },
  {
   "cell_type": "markdown",
   "metadata": {},
   "source": [
    "### Fourier変換に関する公式\n",
    "\n",
    "その絶対値およびその導函数の絶対値などが $|x|\\to\\infty$ で十分速く減少する函数 $f(x)$ について\n",
    "\n",
    "$$\n",
    "\\mathscr{F}[f](\\omega) = \\hat{f}(\\omega) = \\int_{-\\infty}^\\infty e^{-i\\omega x}f(x)\\,dx\n",
    "$$\n",
    "\n",
    "でFourier変換 $\\hat{f}(\\omega)$ を定義すると, 逆変換によって $\\hat{f}(\\omega)$ から $f(x)$ が得られる:\n",
    "\n",
    "$$\n",
    "f(x) = \\frac{1}{2\\pi}\\int_{-\\infty}^\\infty e^{i\\omega x}\\hat{f}(\\omega)\\,d\\omega.\n",
    "$$\n",
    "\n",
    "部分積分によって, \n",
    "\n",
    "$$\n",
    "\\mathscr{F}[f'](\\omega) = \n",
    "\\int_{-\\infty}^\\infty e^{-i\\omega x}f'(x)\\,dx = -\n",
    "\\int_{-\\infty}^\\infty (e^{-i\\omega x})' f(x)\\,dx = i\\omega\\hat{f}(\\omega).\n",
    "$$\n",
    "\n",
    "ゆえに\n",
    "\n",
    "$$\n",
    "\\mathscr{F}[f''](\\omega) = -\\omega^2\\hat{f}(\\omega).\n",
    "\\tag{1}\n",
    "$$\n",
    "\n",
    "簡単のため $t>0$ とする.  $f(x)$ が\n",
    "\n",
    "$$\n",
    "f(x) = \\frac{1}{2}\\chi_{[-t,t]}(x) =\n",
    "\\begin{cases}\n",
    "1/2 & (-t\\leqq x\\leqq t) \\\\\n",
    "0 & (\\text{otherwise})\n",
    "\\end{cases}\n",
    "$$\n",
    "\n",
    "のとき, \n",
    "\n",
    "$$\n",
    "\\hat{f}(\\omega) = \\frac{1}{2}\\int_{-t}^t e^{-i\\omega x}\\,dx = \\frac{\\sin(\\omega t)}{\\omega}\n",
    "$$\n",
    "\n",
    "なので\n",
    "\n",
    "$$\n",
    "\\frac{1}{2}\\chi_{[-t,t]}(x) =\n",
    "\\frac{1}{2\\pi}\\int_{-\\infty}^\\infty e^{i\\omega x}\\frac{\\sin(\\omega t)}{\\omega}\\,d\\omega.\n",
    "$$\n",
    "\n",
    "これの両辺の $x$ に $x-y$ を代入し, $f(y)$ をかけて $y$ について積分すると, \n",
    "\n",
    "$$\n",
    "\\frac{1}{2}\\int_{x-t}^{x+t} f(y)\\,dy =\n",
    "\\frac{1}{2\\pi}\\int_{-\\infty}^\\infty e^{i\\omega x}\\frac{\\sin(\\omega t)}{\\omega}\\hat{f}(\\omega)\\,d\\omega.\n",
    "\\tag{2}\n",
    "$$\n",
    "\n",
    "これの両辺を $t$ で微分すると\n",
    "\n",
    "$$\n",
    "\\frac{f(x+t)+f(x-t)}{2} = \n",
    "\\frac{1}{2\\pi}\\int_{-\\infty}^\\infty e^{i\\omega x}\\cos(\\omega t)\\hat{f}(\\omega)\\,d\\omega.\n",
    "\\tag{3}\n",
    "$$"
   ]
  },
  {
   "cell_type": "code",
   "execution_count": 92,
   "metadata": {},
   "outputs": [
    {
     "data": {
      "text/html": [
       "<div><img alt=\"Output\" src=\"data:image/png;base64,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\" width=\"420\"></div>"
      ]
     },
     "execution_count": 92,
     "metadata": {
      "text/html": []
     },
     "output_type": "execute_result"
    }
   ],
   "source": [
    "Plot[(HeavisidePi[x/(2t)]/2)/.t->-2, {x,-4,4}, Exclusions->None]"
   ]
  },
  {
   "cell_type": "code",
   "execution_count": 93,
   "metadata": {},
   "outputs": [
    {
     "data": {
      "text/html": [
       "<div>$$&#92;&#115;&#113;&#114;&#116;&#123;&#50;&#32;&#92;&#112;&#105;&#32;&#125;&#32;&#92;&#108;&#101;&#102;&#116;&#40;&#92;&#109;&#97;&#116;&#104;&#99;&#97;&#108;&#123;&#70;&#125;&#95;&#120;&#92;&#108;&#101;&#102;&#116;&#91;&#92;&#102;&#114;&#97;&#99;&#123;&#92;&#80;&#105;&#32;&#92;&#108;&#101;&#102;&#116;&#40;&#92;&#102;&#114;&#97;&#99;&#123;&#120;&#125;&#123;&#50;&#32;&#116;&#125;&#92;&#114;&#105;&#103;&#104;&#116;&#41;&#125;&#123;&#50;&#125;&#92;&#114;&#105;&#103;&#104;&#116;&#93;&#40;&#92;&#111;&#109;&#101;&#103;&#97;&#32;&#41;&#92;&#114;&#105;&#103;&#104;&#116;&#41;&#61;&#92;&#108;&#101;&#102;&#116;&#124;&#32;&#116;&#92;&#114;&#105;&#103;&#104;&#116;&#124;&#32;&#32;&#92;&#116;&#101;&#120;&#116;&#123;&#115;&#105;&#110;&#99;&#125;&#40;&#92;&#111;&#109;&#101;&#103;&#97;&#32;&#32;&#116;&#41;$$</div>"
      ]
     },
     "execution_count": 93,
     "metadata": {
      "text/html": []
     },
     "output_type": "execute_result"
    }
   ],
   "source": [
    "Sqrt[2 Pi] FourierTransform[HeavisidePi[x/(2t)]/2, x, omega] // TeXEq"
   ]
  },
  {
   "cell_type": "code",
   "execution_count": 94,
   "metadata": {},
   "outputs": [
    {
     "data": {
      "text/html": [
       "<div>$$&#92;&#102;&#114;&#97;&#99;&#123;&#92;&#109;&#97;&#116;&#104;&#99;&#97;&#108;&#123;&#70;&#125;&#95;&#123;&#92;&#111;&#109;&#101;&#103;&#97;&#32;&#125;&#94;&#123;&#45;&#49;&#125;&#91;&#92;&#108;&#101;&#102;&#116;&#124;&#32;&#116;&#92;&#114;&#105;&#103;&#104;&#116;&#124;&#32;&#32;&#92;&#116;&#101;&#120;&#116;&#123;&#115;&#105;&#110;&#99;&#125;&#40;&#92;&#111;&#109;&#101;&#103;&#97;&#32;&#32;&#116;&#41;&#93;&#40;&#120;&#41;&#125;&#123;&#92;&#115;&#113;&#114;&#116;&#123;&#50;&#32;&#92;&#112;&#105;&#32;&#125;&#125;&#61;&#92;&#102;&#114;&#97;&#99;&#123;&#92;&#116;&#101;&#120;&#116;&#123;&#115;&#103;&#110;&#125;&#40;&#116;&#45;&#120;&#41;&#43;&#92;&#116;&#101;&#120;&#116;&#123;&#115;&#103;&#110;&#125;&#40;&#116;&#43;&#120;&#41;&#125;&#123;&#52;&#32;&#92;&#116;&#101;&#120;&#116;&#123;&#115;&#103;&#110;&#125;&#40;&#116;&#41;&#125;$$</div>"
      ]
     },
     "execution_count": 94,
     "metadata": {
      "text/html": []
     },
     "output_type": "execute_result"
    }
   ],
   "source": [
    "1/Sqrt[2 Pi] InverseFourierTransform[Abs[t] Sinc[omega t], omega, x] // TeXEq"
   ]
  },
  {
   "cell_type": "code",
   "execution_count": 95,
   "metadata": {},
   "outputs": [
    {
     "data": {
      "text/html": [
       "<div><img alt=\"Output\" src=\"data:image/png;base64,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\" width=\"420\"></div>"
      ]
     },
     "execution_count": 96,
     "metadata": {
      "text/html": []
     },
     "output_type": "execute_result"
    }
   ],
   "source": [
    "F = 1/Sqrt[2 Pi] InverseFourierTransform[Abs[t] Sinc[omega t], omega, x];\n",
    "Plot[F/.t->-2, {x,-4,4}]"
   ]
  },
  {
   "cell_type": "markdown",
   "metadata": {},
   "source": [
    "### 非斉次な波動方程式のFourier変換による解法\n",
    "\n",
    "非斉次な波動方程式の初期値問題\n",
    "\n",
    "$$\n",
    "u_{tt}(t,x) = u_{xx}(t,x) + f(t,x), \\quad u(0,x)=a(x), \\quad u_t(0,x)=b(x)\n",
    "$$\n",
    "\n",
    "は(1)より\n",
    "\n",
    "$$\n",
    "\\hat{u}_{tt}(t,\\omega) = -\\omega^2\\hat{u}_{xx}(t,\\omega) + \\hat{f}(t,\\omega),\n",
    "\\quad \\hat{u}(t,\\omega)=\\hat{a}(\\omega), \\quad \\hat{u}_t(0,x)=\\hat{b}(\\omega).\n",
    "$$\n",
    "\n",
    "と書き直される. これは非斉次な調和振動子である. ゆえに次のように解ける:\n",
    "\n",
    "$$\n",
    "\\hat{u}(t,\\omega) = \n",
    "\\hat{a}(\\omega)\\cos(\\omega t) +\n",
    "\\hat{b}(\\omega)\\frac{\\sin(\\omega t)}{\\omega} +\n",
    "\\int_0^t \\frac{\\sin(\\omega(t-s))}{\\omega}\\hat{f}(s,\\omega)\\,ds.\n",
    "$$\n",
    "\n",
    "この等式の両辺に $e^{i\\omega x}$ をかけて $\\omega$ について積分して $2\\pi$ で割ると, (2),(3)より,\n",
    "\n",
    "$$\n",
    "u(t,x) =\n",
    "\\frac{a(x+t)+a(x-t)}{2} +\n",
    "\\frac{1}{2}\\int_{x-t}^{x+t} b(y)\\, dy +\n",
    "\\frac{1}{2}\\int_0^t ds\\int_{x-(t-s)}^{x+(t-s)} f(s,y)\\,dy.\n",
    "$$\n",
    "\n",
    "これが欲しい解の表示であった. \n",
    "\n",
    "特に斉次の場合の通常の波動方程式の初期値問題の解は\n",
    "\n",
    "$$\n",
    "u(t,x) =\n",
    "\\frac{a(x+t)+a(x-t)}{2} +\n",
    "\\frac{1}{2}\\int_{x-t}^{x+t} b(y)\\, dy\n",
    "$$\n",
    "\n",
    "と書ける. これは $B(x)=\\int b(x)\\,dx$, $f(x)=(a(x)+B(x))/2$, $g(x)=(a(x)-B(x))/2$ とおくと, \n",
    "\n",
    "$$\n",
    "u(t,x) = f(x+t) + g(x-t)\n",
    "$$\n",
    "\n",
    "と書き直される. これが $u_{tt}=u_{xx}$ を満たしていることを確認することは易しい."
   ]
  },
  {
   "cell_type": "code",
   "execution_count": null,
   "metadata": {},
   "outputs": [],
   "source": []
  }
 ],
 "metadata": {
  "@webio": {
   "lastCommId": null,
   "lastKernelId": null
  },
  "_draft": {
   "nbviewer_url": "https://gist.github.com/cc4bb2fbd82f65f3609b5417f6efbdac"
  },
  "gist": {
   "data": {
    "description": "08-1 Linear inhomogeneous ODEs with constant coefficients.ipynb",
    "public": true
   },
   "id": "cc4bb2fbd82f65f3609b5417f6efbdac"
  },
  "kernelspec": {
   "display_name": "Wolfram Language 12",
   "language": "Wolfram Language",
   "name": "wolframlanguage12"
  },
  "language_info": {
   "codemirror_mode": "mathematica",
   "file_extension": ".m",
   "mimetype": "application/vnd.wolfram.m",
   "name": "Wolfram Language",
   "pygments_lexer": "python",
   "version": "12.0"
  },
  "toc": {
   "base_numbering": 1,
   "nav_menu": {},
   "number_sections": true,
   "sideBar": true,
   "skip_h1_title": true,
   "title_cell": "目次",
   "title_sidebar": "目次",
   "toc_cell": true,
   "toc_position": {},
   "toc_section_display": true,
   "toc_window_display": false
  }
 },
 "nbformat": 4,
 "nbformat_minor": 2
}
