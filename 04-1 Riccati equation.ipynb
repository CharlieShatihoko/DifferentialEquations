{
 "cells": [
  {
   "cell_type": "markdown",
   "metadata": {},
   "source": [
    "# Riccati方程式について\n",
    "\n",
    "* Author: 黒木玄\n",
    "* Date: 2019-05-31～2019-06-05\n",
    "* Repository: https://github.com/genkuroki/DifferentialEquations\n",
    "$\n",
    "\\newcommand\\ds{\\displaystyle}\n",
    "\\newcommand\\Z{{\\mathbb Z}}\n",
    "\\newcommand\\R{{\\mathbb R}}\n",
    "\\newcommand\\C{{\\mathbb C}}\n",
    "\\newcommand\\eps{\\varepsilon}\n",
    "\\newcommand\\QED{\\text{□}}\n",
    "\\newcommand\\d{\\partial}\n",
    "\\newcommand\\real{\\operatorname{Re}}\n",
    "\\newcommand\\imag{\\operatorname{Im}}\n",
    "\\newcommand\\tr{\\operatorname{tr}}\n",
    "$\n",
    "\n",
    "このファイルは [nbviewer](https://nbviewer.jupyter.org/github/genkuroki/DifferentialEquations/blob/master/04-1%20Riccati%20equation.ipynb) でも閲覧できる.\n",
    "\n",
    "[Julia言語](https://julialang.org/) と [Jupyter環境](https://jupyter.org/) の簡単な解説については次を参照せよ:\n",
    "\n",
    "* [JuliaとJupyterのすすめ](https://nbviewer.jupyter.org/github/genkuroki/msfd28/blob/master/msfd28genkuroki.ipynb?flush_cached=true)\n",
    "\n",
    "[Julia言語](https://julialang.org/) 環境の整備の仕方については次を参照せよ:\n",
    "\n",
    "* [Julia v1.1.0 の Windows 8.1 へのインストール](https://nbviewer.jupyter.org/github/genkuroki/msfd28/blob/master/install.ipynb)\n",
    "\n",
    "[Wolfram言語](http://www.wolfram.com/language/fast-introduction-for-programmers/ja/) 環境の整備の仕方については次を参照せよ:\n",
    "\n",
    "* [Free Wolfram EngineをJupyterで使う方法](https://nbviewer.jupyter.org/github/genkuroki/msfd28/blob/master/Free%20Wolfram%20Engine.ipynb)\n",
    "\n",
    "**注意:** このノートブックの出力結果は [Free Wolfram EngineをJupyterで使う方法](https://nbviewer.jupyter.org/github/genkuroki/msfd28/blob/master/Free%20Wolfram%20Engine.ipynb) に書いてある修正を [OutputHandlingUtilities.wl の toOutText 函数](https://github.com/WolframResearch/WolframLanguageForJupyter/blob/master/WolframLanguageForJupyter/Resources/OutputHandlingUtilities.wl#L123-L136) に施した場合にのみ得られる出力である. 例えば, `<pre>`～`</pre>` で囲んである部分を `$$`～`$$` で囲むように修正している."
   ]
  },
  {
   "cell_type": "code",
   "execution_count": 1,
   "metadata": {},
   "outputs": [],
   "source": [
    "JupyterImageResolution = 84;\n",
    "JupyterOutTextForm = \"TeX\";\n",
    "\n",
    "TeX[x_] := ToString[TeXForm[x]]\n",
    "TeX[x_, y__] := StringJoin[TeX[x], TeX[y]]\n",
    "TeXRaw[x__, y_] := StringJoin[x, TeX[y]]\n",
    "\n",
    "MappedBy[x_] := x\n",
    "MappedBy[x_, F___, G_] := MappedBy[x, F] // G\n",
    "\n",
    "SetAttributes[TeXEq, HoldFirst]\n",
    "TeXEq[x_] := TeX[HoldForm[x] == MappedBy[x, ReleaseHold, FullSimplify]]\n",
    "TeXEq[x_, F__] := TeX[HoldForm[x] == MappedBy[x, ReleaseHold, F]]"
   ]
  },
  {
   "cell_type": "markdown",
   "metadata": {
    "toc": true
   },
   "source": [
    "<h1>目次<span class=\"tocSkip\"></span></h1>\n",
    "<div class=\"toc\"><ul class=\"toc-item\"><li><span><a href=\"#2階の線形常微分方程式について\" data-toc-modified-id=\"2階の線形常微分方程式について-1\"><span class=\"toc-item-num\">1&nbsp;&nbsp;</span>2階の線形常微分方程式について</a></span><ul class=\"toc-item\"><li><span><a href=\"#2階の線形常微分方程式の0でない解が1つ得られている場合\" data-toc-modified-id=\"2階の線形常微分方程式の0でない解が1つ得られている場合-1.1\"><span class=\"toc-item-num\">1.1&nbsp;&nbsp;</span>2階の線形常微分方程式の0でない解が1つ得られている場合</a></span></li><li><span><a href=\"#解から逆に線形常微分方程式を作れること\" data-toc-modified-id=\"解から逆に線形常微分方程式を作れること-1.2\"><span class=\"toc-item-num\">1.2&nbsp;&nbsp;</span>解から逆に線形常微分方程式を作れること</a></span></li></ul></li><li><span><a href=\"#Riccati方程式\" data-toc-modified-id=\"Riccati方程式-2\"><span class=\"toc-item-num\">2&nbsp;&nbsp;</span>Riccati方程式</a></span><ul class=\"toc-item\"><li><span><a href=\"#Riccati方程式の定義\" data-toc-modified-id=\"Riccati方程式の定義-2.1\"><span class=\"toc-item-num\">2.1&nbsp;&nbsp;</span>Riccati方程式の定義</a></span></li><li><span><a href=\"#Riccati方程式の解法の短いまとめ\" data-toc-modified-id=\"Riccati方程式の解法の短いまとめ-2.2\"><span class=\"toc-item-num\">2.2&nbsp;&nbsp;</span>Riccati方程式の解法の短いまとめ</a></span></li><li><span><a href=\"#Riccati方程式の数学的由来の1つが分かる補題\" data-toc-modified-id=\"Riccati方程式の数学的由来の1つが分かる補題-2.3\"><span class=\"toc-item-num\">2.3&nbsp;&nbsp;</span>Riccati方程式の数学的由来の1つが分かる補題</a></span></li><li><span><a href=\"#Riccati方程式に関する基本定理\" data-toc-modified-id=\"Riccati方程式に関する基本定理-2.4\"><span class=\"toc-item-num\">2.4&nbsp;&nbsp;</span>Riccati方程式に関する基本定理</a></span></li><li><span><a href=\"#Riccati方程式の解法\" data-toc-modified-id=\"Riccati方程式の解法-2.5\"><span class=\"toc-item-num\">2.5&nbsp;&nbsp;</span>Riccati方程式の解法</a></span><ul class=\"toc-item\"><li><span><a href=\"#$a=a(x)=1$-の場合のRiccati方程式の解法\" data-toc-modified-id=\"$a=a(x)=1$-の場合のRiccati方程式の解法-2.5.1\"><span class=\"toc-item-num\">2.5.1&nbsp;&nbsp;</span>$a=a(x)=1$ の場合のRiccati方程式の解法</a></span></li><li><span><a href=\"#一般の場合のRiccati方程式の解法\" data-toc-modified-id=\"一般の場合のRiccati方程式の解法-2.5.2\"><span class=\"toc-item-num\">2.5.2&nbsp;&nbsp;</span>一般の場合のRiccati方程式の解法</a></span></li><li><span><a href=\"#Riccati方程式の解が1つ分かっている場合\" data-toc-modified-id=\"Riccati方程式の解が1つ分かっている場合-2.5.3\"><span class=\"toc-item-num\">2.5.3&nbsp;&nbsp;</span>Riccati方程式の解が1つ分かっている場合</a></span></li></ul></li><li><span><a href=\"#Riccati方程式に定数解が存在する場合\" data-toc-modified-id=\"Riccati方程式に定数解が存在する場合-2.6\"><span class=\"toc-item-num\">2.6&nbsp;&nbsp;</span>Riccati方程式に定数解が存在する場合</a></span></li></ul></li></ul></div>"
   ]
  },
  {
   "cell_type": "markdown",
   "metadata": {},
   "source": [
    "## 2階の線形常微分方程式について\n",
    "\n",
    "$\\d = d/dx$ とおく."
   ]
  },
  {
   "cell_type": "markdown",
   "metadata": {},
   "source": [
    "### 2階の線形常微分方程式の0でない解が1つ得られている場合\n",
    "\n",
    "$f$ は $\\psi$ に関する2階の線形常微分方程式\n",
    "\n",
    "$$\n",
    "(\\d^2 + b\\d + c)\\psi = 0\n",
    "\\tag{$\\#$}\n",
    "$$\n",
    "\n",
    "の $0$ でない解であると仮定する. このとき, $\\psi=\\phi f$ を方程式に代入すると,\n",
    "\n",
    "$$\n",
    "\\begin{aligned}\n",
    "0 &= \n",
    "\\phi'' f + 2\\phi' f' + \\phi f'' + b\\phi' f + b\\phi f' + c\\phi f \n",
    "\\\\ &=\n",
    "\\phi'' f + 2\\phi' f' + b\\phi' f\n",
    "\\end{aligned}\n",
    "$$\n",
    "\n",
    "すなわち, \n",
    "\n",
    "$$\n",
    "\\phi'' = - \\left(b + \\frac{2f'}{f}\\right)\\phi'\n",
    "$$\n",
    "\n",
    "となるので, $\\phi'$ に関する1階の常微分方程式が得られる. これが満たされることと, $\\phi f$ が ($\\#$) の解になることは同値であり, \n",
    "\n",
    "$$\n",
    "\\phi' = \\exp\\left[-\\int\\left(b + \\frac{2f'}{f}\\right)\\,dx\\right] =\n",
    "\\frac{1}{f^2}e^{-\\int b\\,dx}\n",
    "$$\n",
    "\n",
    "と解ける. $\\phi$ はこれの不定積分になり, $\\phi f$ は ($\\#$) の解になる.\n",
    "\n",
    "この方法によって, 2階の線形常微分方程式の0でない解が1つ分かっている場合には, (少なくとも原理的には)もう1つの解を求めることができる."
   ]
  },
  {
   "cell_type": "code",
   "execution_count": 14,
   "metadata": {},
   "outputs": [
    {
     "data": {
      "text/html": [
       "<div>$$&#92;&#112;&#104;&#105;&#39;&#61;&#92;&#102;&#114;&#97;&#99;&#123;&#101;&#94;&#123;&#45;&#92;&#105;&#110;&#116;&#32;&#98;&#40;&#120;&#41;&#32;&#92;&#44;&#32;&#100;&#120;&#125;&#125;&#123;&#102;&#40;&#120;&#41;&#94;&#50;&#125;$$</div>"
      ]
     },
     "execution_count": 16,
     "metadata": {
      "text/html": []
     },
     "output_type": "execute_result"
    }
   ],
   "source": [
    "Clear[a,b,c,f,p,q,u,alpha,beta,dphi,phi,psi,L,R]\n",
    "dphi = (1/f[x]^2) Exp[-Integrate[b[x], x]];\n",
    "dphi // TeXRaw[\"\\\\phi'=\", #]&"
   ]
  },
  {
   "cell_type": "code",
   "execution_count": 17,
   "metadata": {},
   "outputs": [
    {
     "data": {
      "text/html": [
       "<div>$$&#92;&#102;&#114;&#97;&#99;&#123;&#92;&#112;&#104;&#105;&#32;&#39;&#39;&#40;&#120;&#41;&#125;&#123;&#92;&#112;&#104;&#105;&#32;&#39;&#40;&#120;&#41;&#125;&#61;&#45;&#98;&#40;&#120;&#41;&#45;&#92;&#102;&#114;&#97;&#99;&#123;&#50;&#32;&#102;&#39;&#40;&#120;&#41;&#125;&#123;&#102;&#40;&#120;&#41;&#125;$$</div>"
      ]
     },
     "execution_count": 18,
     "metadata": {
      "text/html": []
     },
     "output_type": "execute_result"
    }
   ],
   "source": [
    "dlogdphistr = phi''[x]/phi'[x];\n",
    "D[dphi, x]/dphi // Simplify // TeX[dlogdphistr,\"=\",#]&"
   ]
  },
  {
   "cell_type": "code",
   "execution_count": 19,
   "metadata": {},
   "outputs": [
    {
     "data": {
      "text/html": [
       "<div>$$&#103;&#61;&#102;&#40;&#120;&#41;&#32;&#92;&#105;&#110;&#116;&#32;&#92;&#102;&#114;&#97;&#99;&#123;&#101;&#94;&#123;&#45;&#92;&#105;&#110;&#116;&#32;&#98;&#40;&#120;&#41;&#32;&#92;&#44;&#32;&#100;&#120;&#125;&#125;&#123;&#102;&#40;&#120;&#41;&#94;&#50;&#125;&#32;&#92;&#44;&#32;&#100;&#120;$$</div>"
      ]
     },
     "execution_count": 20,
     "metadata": {
      "text/html": []
     },
     "output_type": "execute_result"
    }
   ],
   "source": [
    "g = f[x] Integrate[dphi, x];\n",
    "g // TeXEq"
   ]
  },
  {
   "cell_type": "code",
   "execution_count": 21,
   "metadata": {},
   "outputs": [
    {
     "data": {
      "text/html": [
       "<div>$$&#92;&#102;&#114;&#97;&#99;&#123;&#92;&#112;&#97;&#114;&#116;&#105;&#97;&#108;&#32;&#94;&#50;&#103;&#125;&#123;&#92;&#112;&#97;&#114;&#116;&#105;&#97;&#108;&#32;&#120;&#94;&#50;&#125;&#43;&#98;&#40;&#120;&#41;&#32;&#92;&#102;&#114;&#97;&#99;&#123;&#92;&#112;&#97;&#114;&#116;&#105;&#97;&#108;&#32;&#103;&#125;&#123;&#92;&#112;&#97;&#114;&#116;&#105;&#97;&#108;&#32;&#120;&#125;&#43;&#99;&#40;&#120;&#41;&#32;&#103;&#61;&#92;&#108;&#101;&#102;&#116;&#40;&#92;&#105;&#110;&#116;&#32;&#92;&#102;&#114;&#97;&#99;&#123;&#101;&#94;&#123;&#45;&#92;&#105;&#110;&#116;&#32;&#98;&#40;&#120;&#41;&#32;&#92;&#44;&#32;&#100;&#120;&#125;&#125;&#123;&#102;&#40;&#120;&#41;&#94;&#50;&#125;&#32;&#92;&#44;&#32;&#100;&#120;&#92;&#114;&#105;&#103;&#104;&#116;&#41;&#32;&#92;&#108;&#101;&#102;&#116;&#40;&#98;&#40;&#120;&#41;&#32;&#102;&#39;&#40;&#120;&#41;&#43;&#99;&#40;&#120;&#41;&#32;&#102;&#40;&#120;&#41;&#43;&#102;&#39;&#39;&#40;&#120;&#41;&#92;&#114;&#105;&#103;&#104;&#116;&#41;$$</div>"
      ]
     },
     "execution_count": 21,
     "metadata": {
      "text/html": []
     },
     "output_type": "execute_result"
    }
   ],
   "source": [
    "D[g,{x,2}] + b[x] D[g,x] + c[x] g // HoldForm // TeXEq"
   ]
  },
  {
   "cell_type": "markdown",
   "metadata": {},
   "source": [
    "### 解から逆に線形常微分方程式を作れること\n",
    "\n",
    "函数 $f$ は $0$ ではなく, $f$ で割れると仮定する. このとき, \n",
    "\n",
    "$$\n",
    "\\left(\\d - \\frac{f'}{f}\\right)f = f' - \\frac{f'}{f}f = 0.\n",
    "$$\n",
    "\n",
    "すなわち, $f$ を解に持つ1階の線形常微分方程式\n",
    "\n",
    "$$\n",
    "\\left(\\d - \\frac{f'}{f}\\right)\\psi = 0\n",
    "$$\n",
    "\n",
    "を構成できた.\n",
    "\n",
    "この結果は次のように2階の線形常微分方程式に拡張される. 函数 $f,g$ のWrinskian\n",
    "\n",
    "$$\n",
    "\\begin{vmatrix}\n",
    "f  & g  \\\\\n",
    "f' & g' \\\\\n",
    "\\end{vmatrix}\n",
    "$$\n",
    "\n",
    "は $0$ ではなく, このWronskianで割れると仮定する. 定数 $\\alpha,\\beta$ に対して $\\psi=\\alpha f+\\beta g$ とおくと, $f,g,\\psi$ は一次従属なので至る所\n",
    "\n",
    "$$\n",
    "\\begin{vmatrix}\n",
    "f   & g   & \\psi \\\\\n",
    "f'  & g'  & \\psi' \\\\\n",
    "f'' & g'' & \\psi'' \\\\\n",
    "\\end{vmatrix} = 0\n",
    "$$\n",
    "\n",
    "を満たしている. これは\n",
    "\n",
    "$$\n",
    "\\begin{vmatrix}\n",
    "f   & g   & \\psi \\\\\n",
    "f'  & g'  & \\psi' \\\\\n",
    "f'' & g'' & \\psi'' \\\\\n",
    "\\end{vmatrix} =\n",
    "\\begin{vmatrix}\n",
    "f'  & g'  \\\\\n",
    "f'' & g'' \\\\\n",
    "\\end{vmatrix}\n",
    "\\psi -\n",
    "\\begin{vmatrix}\n",
    "f   & g \\\\\n",
    "f'' & g'' \\\\\n",
    "\\end{vmatrix}\n",
    "\\psi' +\n",
    "\\begin{vmatrix}\n",
    "f  & g \\\\\n",
    "f' & g' \\\\\n",
    "\\end{vmatrix}\n",
    "\\psi''\n",
    "$$\n",
    "\n",
    "であるから, \n",
    "\n",
    "$$\n",
    "b = - \\frac{\n",
    "\\begin{vmatrix}\n",
    "f   & g   \\\\\n",
    "f'' & g'' \\\\\n",
    "\\end{vmatrix}\n",
    "}{\n",
    "\\begin{vmatrix}\n",
    "f  & g  \\\\\n",
    "f' & g' \\\\\n",
    "\\end{vmatrix}\n",
    "},\n",
    "\\quad\n",
    "c = \\frac{\n",
    "\\begin{vmatrix}\n",
    "f'  & g'  \\\\\n",
    "f'' & g'' \\\\\n",
    "\\end{vmatrix}\n",
    "}{\n",
    "\\begin{vmatrix}\n",
    "f  & g  \\\\\n",
    "f' & g' \\\\\n",
    "\\end{vmatrix}\n",
    "}\n",
    "$$\n",
    "\n",
    "とおくと, \n",
    "\n",
    "$$\n",
    "(\\d^2 + b\\d + c)\\psi = 0\n",
    "$$\n",
    "\n",
    "を満たしていることを意味する. これで $f,g$ の一次結合を解に持つ2階の線形常微分方程式を構成できた.\n",
    "\n",
    "このように, 方程式から解を得ることだけではなく, 解から方程式を作ることができる."
   ]
  },
  {
   "cell_type": "code",
   "execution_count": 22,
   "metadata": {},
   "outputs": [
    {
     "data": {
      "text/html": [
       "<style>\n",
       "\t\t\t\t\t\t\t\t\t\t\t.grid-container {\n",
       "\t\t\t\t\t\t\t\t\t\t\t\tdisplay: inline-grid;\n",
       "\t\t\t\t\t\t\t\t\t\t\t\tgrid-template-columns: auto auto;\n",
       "\t\t\t\t\t\t\t\t\t\t\t}\n",
       "\t\t\t\t\t\t\t\t\t\t</style>\n",
       "\n",
       "\t\t\t\t\t\t\t\t\t\t<div><div class=\"grid-container\"><div class=\"grid-item\">\n",
       "\t\t\t\t\t\t\t\t\t\t\t\t\t<div class=\"prompt output_prompt\" style=\"text-align:left;padding:0em;padding-right:20px;line-height:20px;\">\n",
       "\t\t\t\t\t\t\t\t\t\t\t\t\t\tOut[26]:\n",
       "\t\t\t\t\t\t\t\t\t\t\t\t\t</div>\n",
       "\t\t\t\t\t\t\t\t\t\t\t\t</div>\n",
       "\t\t\t\t\t\t\t\t\t\t\t\t<div class=\"grid-item\">$$&#92;&#116;&#101;&#120;&#116;&#123;&#87;&#114;&#111;&#110;&#115;&#107;&#105;&#97;&#110;&#125;&#61;&#102;&#40;&#120;&#41;&#32;&#103;&#39;&#40;&#120;&#41;&#45;&#103;&#40;&#120;&#41;&#32;&#102;&#39;&#40;&#120;&#41;$$</div><div class=\"grid-item\">\n",
       "\t\t\t\t\t\t\t\t\t\t\t\t\t<div class=\"prompt output_prompt\" style=\"text-align:left;padding:0em;padding-right:20px;line-height:20px;\">\n",
       "\t\t\t\t\t\t\t\t\t\t\t\t\t\tOut[27]:\n",
       "\t\t\t\t\t\t\t\t\t\t\t\t\t</div>\n",
       "\t\t\t\t\t\t\t\t\t\t\t\t</div>\n",
       "\t\t\t\t\t\t\t\t\t\t\t\t<div class=\"grid-item\">$$&#98;&#61;&#45;&#92;&#102;&#114;&#97;&#99;&#123;&#102;&#40;&#120;&#41;&#32;&#103;&#39;&#39;&#40;&#120;&#41;&#45;&#103;&#40;&#120;&#41;&#32;&#102;&#39;&#39;&#40;&#120;&#41;&#125;&#123;&#102;&#40;&#120;&#41;&#32;&#103;&#39;&#40;&#120;&#41;&#45;&#103;&#40;&#120;&#41;&#32;&#102;&#39;&#40;&#120;&#41;&#125;$$</div><div class=\"grid-item\">\n",
       "\t\t\t\t\t\t\t\t\t\t\t\t\t<div class=\"prompt output_prompt\" style=\"text-align:left;padding:0em;padding-right:20px;line-height:20px;\">\n",
       "\t\t\t\t\t\t\t\t\t\t\t\t\t\tOut[28]:\n",
       "\t\t\t\t\t\t\t\t\t\t\t\t\t</div>\n",
       "\t\t\t\t\t\t\t\t\t\t\t\t</div>\n",
       "\t\t\t\t\t\t\t\t\t\t\t\t<div class=\"grid-item\">$$&#99;&#61;&#92;&#102;&#114;&#97;&#99;&#123;&#102;&#39;&#40;&#120;&#41;&#32;&#103;&#39;&#39;&#40;&#120;&#41;&#45;&#102;&#39;&#39;&#40;&#120;&#41;&#32;&#103;&#39;&#40;&#120;&#41;&#125;&#123;&#102;&#40;&#120;&#41;&#32;&#103;&#39;&#40;&#120;&#41;&#45;&#103;&#40;&#120;&#41;&#32;&#102;&#39;&#40;&#120;&#41;&#125;$$</div></div></div>"
      ]
     },
     "execution_count": 26,
     "metadata": {
      "text/html": []
     },
     "output_type": "execute_result"
    }
   ],
   "source": [
    "Clear[a,b,c,f,g,p,q,u,w,x,alpha,beta,dphi,phi,psi,L,R]\n",
    "w =  Det[{{f[x], g[x]}, {f'[x], g'[x]}}] // Simplify;\n",
    "b = -Det[{{f[x], g[x]}, {f''[x], g''[x]}}]/w;\n",
    "c =  Det[{{f'[x], g'[x]}, {f''[x], g''[x]}}]/w;\n",
    "w // TeX[\"Wronskian\", \"=\", #]&\n",
    "b // TeXRaw[\"b=\", #]&\n",
    "c // TeXRaw[\"c=\", #]&"
   ]
  },
  {
   "cell_type": "code",
   "execution_count": 29,
   "metadata": {},
   "outputs": [
    {
     "data": {
      "text/html": [
       "<style>\n",
       "\t\t\t\t\t\t\t\t\t\t\t.grid-container {\n",
       "\t\t\t\t\t\t\t\t\t\t\t\tdisplay: inline-grid;\n",
       "\t\t\t\t\t\t\t\t\t\t\t\tgrid-template-columns: auto auto;\n",
       "\t\t\t\t\t\t\t\t\t\t\t}\n",
       "\t\t\t\t\t\t\t\t\t\t</style>\n",
       "\n",
       "\t\t\t\t\t\t\t\t\t\t<div><div class=\"grid-container\"><div class=\"grid-item\">\n",
       "\t\t\t\t\t\t\t\t\t\t\t\t\t<div class=\"prompt output_prompt\" style=\"text-align:left;padding:0em;padding-right:20px;line-height:20px;\">\n",
       "\t\t\t\t\t\t\t\t\t\t\t\t\t\tOut[30]:\n",
       "\t\t\t\t\t\t\t\t\t\t\t\t\t</div>\n",
       "\t\t\t\t\t\t\t\t\t\t\t\t</div>\n",
       "\t\t\t\t\t\t\t\t\t\t\t\t<div class=\"grid-item\">$$&#92;&#112;&#115;&#105;&#32;&#61;&#92;&#97;&#108;&#112;&#104;&#97;&#32;&#32;&#102;&#40;&#120;&#41;&#43;&#92;&#98;&#101;&#116;&#97;&#32;&#32;&#103;&#40;&#120;&#41;$$</div><div class=\"grid-item\">\n",
       "\t\t\t\t\t\t\t\t\t\t\t\t\t<div class=\"prompt output_prompt\" style=\"text-align:left;padding:0em;padding-right:20px;line-height:20px;\">\n",
       "\t\t\t\t\t\t\t\t\t\t\t\t\t\tOut[31]:\n",
       "\t\t\t\t\t\t\t\t\t\t\t\t\t</div>\n",
       "\t\t\t\t\t\t\t\t\t\t\t\t</div>\n",
       "\t\t\t\t\t\t\t\t\t\t\t\t<div class=\"grid-item\">$$&#92;&#102;&#114;&#97;&#99;&#123;&#92;&#112;&#97;&#114;&#116;&#105;&#97;&#108;&#32;&#94;&#50;&#92;&#112;&#115;&#105;&#32;&#125;&#123;&#92;&#112;&#97;&#114;&#116;&#105;&#97;&#108;&#32;&#120;&#94;&#50;&#125;&#43;&#98;&#32;&#92;&#102;&#114;&#97;&#99;&#123;&#92;&#112;&#97;&#114;&#116;&#105;&#97;&#108;&#32;&#92;&#112;&#115;&#105;&#32;&#125;&#123;&#92;&#112;&#97;&#114;&#116;&#105;&#97;&#108;&#32;&#120;&#125;&#43;&#99;&#32;&#92;&#112;&#115;&#105;&#32;&#61;&#48;$$</div></div></div>"
      ]
     },
     "execution_count": 30,
     "metadata": {
      "text/html": []
     },
     "output_type": "execute_result"
    }
   ],
   "source": [
    "psi = alpha f[x] + beta g[x];\n",
    "psi // HoldForm // TeXEq\n",
    "D[psi,{x,2}] + b D[psi,x] + c psi // HoldForm // TeXEq"
   ]
  },
  {
   "cell_type": "markdown",
   "metadata": {},
   "source": [
    "## Riccati方程式"
   ]
  },
  {
   "cell_type": "markdown",
   "metadata": {},
   "source": [
    "### Riccati方程式の定義\n",
    "\n",
    "函数 $a=a(x)$, $b=b(x)$, $c=c(x)$ が与えられているとし, $a=a(x)$ で割ることができると仮定する. さらに\n",
    "\n",
    "$$\n",
    "\\d = \\d_x = \\frac{d}{dx}\n",
    "$$\n",
    "\n",
    "とおく. $d/dx$ を $\\d$ と略して書くと以下の議論が楽になる.\n",
    "\n",
    "$u=u(x)$ に関する(非線形)常微分方程式\n",
    "\n",
    "$$\n",
    "u' + au^2 + bu + c = 0\n",
    "\\tag{$*$}\n",
    "$$\n",
    "\n",
    "を **Riccati方程式 (リッカティ方程式)** と呼ぶ.  $v=au$ ($u=v/a$) とおくと,\n",
    "\n",
    "$$\n",
    "\\begin{aligned}\n",
    "(*) & \\iff\n",
    "\\frac{v'}{a} - \\frac{a'}{a^2}v + \\frac{1}{a}v^2 + \\frac{b}{a}v + c = 0\n",
    "\\\\ & \\iff\n",
    "v' + v^2 + \\left(b - \\frac{a'}{a}\\right)v + ac = 0.\n",
    "\\end{aligned}\n",
    "$$\n",
    "\n",
    "ゆえに, 一般的なRiccati方程式($*$)の解くことは, $a=a(x)=1$ の場合のRiccati方程式\n",
    "\n",
    "$$\n",
    "u' + u^2 + bu + c = 0.\n",
    "\\tag{$*'$}\n",
    "$$\n",
    "\n",
    "を解くことに帰着できる."
   ]
  },
  {
   "cell_type": "code",
   "execution_count": 32,
   "metadata": {},
   "outputs": [
    {
     "data": {
      "text/html": [
       "<style>\n",
       "\t\t\t\t\t\t\t\t\t\t\t.grid-container {\n",
       "\t\t\t\t\t\t\t\t\t\t\t\tdisplay: inline-grid;\n",
       "\t\t\t\t\t\t\t\t\t\t\t\tgrid-template-columns: auto auto;\n",
       "\t\t\t\t\t\t\t\t\t\t\t}\n",
       "\t\t\t\t\t\t\t\t\t\t</style>\n",
       "\n",
       "\t\t\t\t\t\t\t\t\t\t<div><div class=\"grid-container\"><div class=\"grid-item\">\n",
       "\t\t\t\t\t\t\t\t\t\t\t\t\t<div class=\"prompt output_prompt\" style=\"text-align:left;padding:0em;padding-right:20px;line-height:20px;\">\n",
       "\t\t\t\t\t\t\t\t\t\t\t\t\t\tOut[34]:\n",
       "\t\t\t\t\t\t\t\t\t\t\t\t\t</div>\n",
       "\t\t\t\t\t\t\t\t\t\t\t\t</div>\n",
       "\t\t\t\t\t\t\t\t\t\t\t\t<div class=\"grid-item\">$$&#117;&#61;&#92;&#102;&#114;&#97;&#99;&#123;&#118;&#40;&#120;&#41;&#125;&#123;&#97;&#40;&#120;&#41;&#125;$$</div><div class=\"grid-item\">\n",
       "\t\t\t\t\t\t\t\t\t\t\t\t\t<div class=\"prompt output_prompt\" style=\"text-align:left;padding:0em;padding-right:20px;line-height:20px;\">\n",
       "\t\t\t\t\t\t\t\t\t\t\t\t\t\tOut[35]:\n",
       "\t\t\t\t\t\t\t\t\t\t\t\t\t</div>\n",
       "\t\t\t\t\t\t\t\t\t\t\t\t</div>\n",
       "\t\t\t\t\t\t\t\t\t\t\t\t<div class=\"grid-item\">$$&#97;&#40;&#120;&#41;&#32;&#92;&#108;&#101;&#102;&#116;&#40;&#92;&#102;&#114;&#97;&#99;&#123;&#92;&#112;&#97;&#114;&#116;&#105;&#97;&#108;&#32;&#117;&#125;&#123;&#92;&#112;&#97;&#114;&#116;&#105;&#97;&#108;&#32;&#120;&#125;&#43;&#97;&#40;&#120;&#41;&#32;&#117;&#94;&#50;&#43;&#98;&#40;&#120;&#41;&#32;&#117;&#43;&#99;&#40;&#120;&#41;&#92;&#114;&#105;&#103;&#104;&#116;&#41;&#61;&#45;&#92;&#102;&#114;&#97;&#99;&#123;&#118;&#40;&#120;&#41;&#32;&#97;&#39;&#40;&#120;&#41;&#125;&#123;&#97;&#40;&#120;&#41;&#125;&#43;&#97;&#40;&#120;&#41;&#32;&#99;&#40;&#120;&#41;&#43;&#118;&#40;&#120;&#41;&#32;&#40;&#98;&#40;&#120;&#41;&#43;&#118;&#40;&#120;&#41;&#41;&#43;&#118;&#39;&#40;&#120;&#41;$$</div></div></div>"
      ]
     },
     "execution_count": 34,
     "metadata": {
      "text/html": []
     },
     "output_type": "execute_result"
    }
   ],
   "source": [
    "Clear[a,b,c,f,g,p,q,u,w,x,alpha,beta,dphi,phi,psi,L,R]\n",
    "u = v[x]/a[x];\n",
    "u // TeXEq\n",
    "a[x] (D[u,x] + a[x] u^2 + b[x] u + c[x]) // HoldForm // TeXEq"
   ]
  },
  {
   "cell_type": "markdown",
   "metadata": {},
   "source": [
    "### Riccati方程式の解法の短いまとめ\n",
    "\n",
    "Riccati方程式を単に解きたいだけの人は以下を知っているだけで十分である.\n",
    "\n",
    "Riccati方程式\n",
    "\n",
    "$$\n",
    "u' + au^2 + bu + c = 0\n",
    "\\tag{$*$}\n",
    "$$\n",
    "\n",
    "は\n",
    "\n",
    "$$\n",
    "u = \\frac{1}{a}\\frac{\\psi'}{\\psi}\n",
    "$$\n",
    "\n",
    "とおけば2階の線形常微分方程式\n",
    "\n",
    "$$\n",
    "\\left(\\d^2+\\left(b-\\frac{a'}{a}\\right)+ac\\right)\\psi = 0\n",
    "\\tag{$\\#$}\n",
    "$$\n",
    "\n",
    "に帰着する. このことは以下のような計算で確認できる.  \n",
    "\n",
    "Riccati方程式 ($*$) の左辺に $u=(1/a)\\psi'/\\psi$ を代入すると,\n",
    "\n",
    "$$\n",
    "\\begin{aligned}\n",
    "&\n",
    "u' = -\\frac{a'}{a^2}\\frac{\\psi'}{\\psi} + \\frac{1}{a}\\frac{\\psi''}{\\psi} - \\frac{1}{a}\\frac{(\\psi')^2}{\\psi^2} =\n",
    "\\frac{-(a'/a)\\psi + \\psi''}{a\\psi} - au^2\n",
    "\\\\ &\n",
    "u' + au^2 + bu + c =\n",
    "\\frac{-(a'/a)\\psi + \\psi'' + b\\psi' + ac\\psi}{a\\psi} =\n",
    "\\frac{1}{a\\psi}\\left(\\d^2 + \\left(b-\\frac{a'}{a}\\right)+ac\\right)\\psi.\n",
    "\\end{aligned}\n",
    "$$\n",
    "\n",
    "これより, 2階の線形常微分方程式 ($\\#$) の $0$ でない解 $\\psi$ に対して, $u=(1/a)\\psi'/\\psi$ がRiccati方程式 ($*$) の解になっていることがわかる.\n",
    "\n",
    "逆に $u=(1/a)\\psi'/\\psi$ を満たす $\\psi$ を\n",
    "\n",
    "$$\n",
    "\\psi = e^{\\int au\\,dx}\n",
    "$$\n",
    "\n",
    "と構成して, 2階の線形常微分方程式 ($\\#$) の左辺に代入すると, \n",
    "\n",
    "$$\n",
    "\\begin{aligned}\n",
    "&\n",
    "\\psi' = au\\psi,\n",
    "\\\\ &\n",
    "\\psi'' = (a'u + au' + a^2u^2)\\psi,\n",
    "\\\\ &\n",
    "\\left(\\d^2 + \\left(b-\\frac{a'}{a}\\right)+ac\\right)\\psi =\n",
    "\\left(a'u + au' + a^2u^2 + \\left(b-\\frac{a'}{a}\\right)au + ac\\right)\\psi =\n",
    "a\\psi(u'+au^2+bu+c).\n",
    "\\end{aligned}\n",
    "$$\n",
    "\n",
    "これより, Riccati方程式 ($*$) の解に対して, $u=(1/a)\\psi'/\\psi$ を満たす $0$ でない $\\psi$ は2階の線形常微分方程式 ($\\#$) の解になっていることがわかる."
   ]
  },
  {
   "cell_type": "markdown",
   "metadata": {},
   "source": [
    "**例:** 定数 $\\kappa\\ne \\lambda$ が定める(特殊な)Riccati方程式\n",
    "\n",
    "$$\n",
    "u' + (u-\\kappa)(u-\\lambda) = 0\n",
    "$$\n",
    "\n",
    "は定数解 $u=\\kappa,\\lambda$ を持つ. $u=\\psi'/\\psi$ とおくと, このRiccati方程式は定数係数の2解の線形常微分方程式\n",
    "\n",
    "$$\n",
    "(\\d^2-(\\kappa+\\lambda)\\d+\\kappa\\lambda)\\psi = (\\d-\\kappa)(\\d-\\lambda)\\psi = 0\n",
    "$$\n",
    "\n",
    "に帰着する. これの $0$ でない解は\n",
    "\n",
    "$$\n",
    "\\psi = \\alpha e^{\\kappa x} + \\beta e^{\\lambda x}, \\quad (\\alpha,\\beta)\\ne(0,0)\n",
    "$$\n",
    "\n",
    "と書け, 対応するRiccati方程式の解は\n",
    "\n",
    "$$\n",
    "u = \\frac{\\psi'}{\\psi} = \\frac{\\alpha\\kappa e^{\\kappa x} + \\beta\\lambda e^{\\lambda x}}{\\alpha e^{\\kappa x} + \\beta e^{\\lambda x}}\n",
    "$$\n",
    "\n",
    "と書ける. $\\QED$"
   ]
  },
  {
   "cell_type": "code",
   "execution_count": 36,
   "metadata": {},
   "outputs": [
    {
     "data": {
      "text/html": [
       "<div>$$&#92;&#116;&#101;&#120;&#116;&#123;&#82;&#105;&#99;&#99;&#97;&#116;&#105;&#32;&#69;&#113;&#117;&#97;&#116;&#105;&#111;&#110;&#58;&#32;&#125;&#40;&#117;&#40;&#120;&#41;&#45;&#92;&#107;&#97;&#112;&#112;&#97;&#32;&#41;&#32;&#40;&#117;&#40;&#120;&#41;&#45;&#92;&#108;&#97;&#109;&#98;&#100;&#97;&#32;&#41;&#43;&#117;&#39;&#40;&#120;&#41;&#61;&#48;$$</div>"
      ]
     },
     "execution_count": 38,
     "metadata": {
      "text/html": []
     },
     "output_type": "execute_result"
    }
   ],
   "source": [
    "Clear[a,b,c,f,g,p,q,u,w,x,alpha,beta,kappa,lambda,dphi,phi,psi,L,R]\n",
    "R = u'[x] + (u[x] - kappa)(u[x] - lambda);\n",
    "R == 0 // TeX[\"Riccati Equation: \",#]&"
   ]
  },
  {
   "cell_type": "code",
   "execution_count": 39,
   "metadata": {},
   "outputs": [
    {
     "data": {
      "text/html": [
       "<div>$$&#92;&#116;&#101;&#120;&#116;&#123;&#83;&#111;&#108;&#117;&#116;&#105;&#111;&#110;&#58;&#32;&#125;&#92;&#108;&#101;&#102;&#116;&#92;&#123;&#92;&#108;&#101;&#102;&#116;&#92;&#123;&#117;&#40;&#120;&#41;&#92;&#116;&#111;&#32;&#92;&#102;&#114;&#97;&#99;&#123;&#92;&#108;&#97;&#109;&#98;&#100;&#97;&#32;&#32;&#101;&#94;&#123;&#99;&#95;&#49;&#32;&#92;&#107;&#97;&#112;&#112;&#97;&#32;&#43;&#92;&#108;&#97;&#109;&#98;&#100;&#97;&#32;&#32;&#120;&#125;&#45;&#92;&#107;&#97;&#112;&#112;&#97;&#32;&#32;&#101;&#94;&#123;&#99;&#95;&#49;&#32;&#92;&#108;&#97;&#109;&#98;&#100;&#97;&#32;&#43;&#92;&#107;&#97;&#112;&#112;&#97;&#32;&#32;&#120;&#125;&#125;&#123;&#101;&#94;&#123;&#99;&#95;&#49;&#32;&#92;&#107;&#97;&#112;&#112;&#97;&#32;&#43;&#92;&#108;&#97;&#109;&#98;&#100;&#97;&#32;&#32;&#120;&#125;&#45;&#101;&#94;&#123;&#99;&#95;&#49;&#32;&#92;&#108;&#97;&#109;&#98;&#100;&#97;&#32;&#43;&#92;&#107;&#97;&#112;&#112;&#97;&#32;&#32;&#120;&#125;&#125;&#92;&#114;&#105;&#103;&#104;&#116;&#92;&#125;&#92;&#114;&#105;&#103;&#104;&#116;&#92;&#125;$$</div>"
      ]
     },
     "execution_count": 39,
     "metadata": {
      "text/html": []
     },
     "output_type": "execute_result"
    }
   ],
   "source": [
    "sol = DSolve[R == 0, u[x], x] // TeX[\"Solution: \",#]&"
   ]
  },
  {
   "cell_type": "code",
   "execution_count": 40,
   "metadata": {},
   "outputs": [
    {
     "data": {
      "text/html": [
       "<div>$$&#92;&#116;&#101;&#120;&#116;&#123;&#76;&#105;&#110;&#101;&#97;&#114;&#32;&#111;&#114;&#100;&#105;&#110;&#97;&#114;&#121;&#32;&#100;&#105;&#102;&#102;&#101;&#114;&#101;&#110;&#116;&#105;&#97;&#108;&#32;&#101;&#113;&#117;&#97;&#116;&#105;&#111;&#110;&#58;&#32;&#125;&#45;&#40;&#92;&#107;&#97;&#112;&#112;&#97;&#32;&#43;&#92;&#108;&#97;&#109;&#98;&#100;&#97;&#32;&#41;&#32;&#92;&#112;&#115;&#105;&#32;&#39;&#40;&#120;&#41;&#43;&#92;&#107;&#97;&#112;&#112;&#97;&#32;&#32;&#92;&#108;&#97;&#109;&#98;&#100;&#97;&#32;&#32;&#92;&#112;&#115;&#105;&#32;&#40;&#120;&#41;&#43;&#92;&#112;&#115;&#105;&#32;&#39;&#39;&#40;&#120;&#41;&#61;&#48;$$</div>"
      ]
     },
     "execution_count": 41,
     "metadata": {
      "text/html": []
     },
     "output_type": "execute_result"
    }
   ],
   "source": [
    "L = psi''[x] - (kappa+lambda) psi'[x] + kappa lambda psi[x];\n",
    "L == 0 // TeX[\"Linear ordinary differential equation: \",#]&"
   ]
  },
  {
   "cell_type": "code",
   "execution_count": 42,
   "metadata": {},
   "outputs": [
    {
     "data": {
      "text/html": [
       "<div>$$&#92;&#116;&#101;&#120;&#116;&#123;&#83;&#111;&#108;&#117;&#116;&#105;&#111;&#110;&#58;&#32;&#125;&#92;&#108;&#101;&#102;&#116;&#92;&#123;&#92;&#108;&#101;&#102;&#116;&#92;&#123;&#92;&#112;&#115;&#105;&#32;&#40;&#120;&#41;&#92;&#116;&#111;&#32;&#99;&#95;&#50;&#32;&#101;&#94;&#123;&#92;&#107;&#97;&#112;&#112;&#97;&#32;&#32;&#120;&#125;&#43;&#99;&#95;&#49;&#32;&#101;&#94;&#123;&#92;&#108;&#97;&#109;&#98;&#100;&#97;&#32;&#32;&#120;&#125;&#92;&#114;&#105;&#103;&#104;&#116;&#92;&#125;&#92;&#114;&#105;&#103;&#104;&#116;&#92;&#125;$$</div>"
      ]
     },
     "execution_count": 42,
     "metadata": {
      "text/html": []
     },
     "output_type": "execute_result"
    }
   ],
   "source": [
    "lsol = DSolve[L == 0, psi[x], x] // TeX[\"Solution: \",#]&"
   ]
  },
  {
   "cell_type": "markdown",
   "metadata": {},
   "source": [
    "**問題:** Riccati方程式\n",
    "\n",
    "$$\n",
    "u'+ (u-\\kappa)^2 = 0\n",
    "$$\n",
    "\n",
    "を解け.\n",
    "\n",
    "**解答例:** $u = \\psi'/\\psi = (\\log\\psi)'$ とおくと, $(\\d-\\kappa)^2\\psi=0$ に帰着する. $(\\d-\\kappa)^2\\psi=0$ の $0$ でない解は\n",
    "\n",
    "$$\n",
    "\\psi = (\\alpha + \\beta x)e^{\\kappa x}, \\quad (\\alpha,\\beta)\\ne(0,0)\n",
    "$$\n",
    "\n",
    "と書けるので, Riccati方程式の解は\n",
    "\n",
    "$$\n",
    "u = (\\log\\psi)' = \\frac{\\beta}{\\alpha+\\beta x} + \\kappa\n",
    "$$\n",
    "\n",
    "と書ける. $\\QED$"
   ]
  },
  {
   "cell_type": "code",
   "execution_count": 43,
   "metadata": {},
   "outputs": [
    {
     "data": {
      "text/html": [
       "<div>$$&#92;&#116;&#101;&#120;&#116;&#123;&#82;&#105;&#99;&#99;&#97;&#116;&#105;&#32;&#69;&#113;&#117;&#97;&#116;&#105;&#111;&#110;&#58;&#32;&#125;&#40;&#117;&#40;&#120;&#41;&#45;&#92;&#107;&#97;&#112;&#112;&#97;&#32;&#41;&#94;&#50;&#43;&#117;&#39;&#40;&#120;&#41;&#61;&#48;$$</div>"
      ]
     },
     "execution_count": 45,
     "metadata": {
      "text/html": []
     },
     "output_type": "execute_result"
    }
   ],
   "source": [
    "Clear[a,b,c,f,g,p,q,u,w,x,alpha,beta,kappa,lambda,dphi,phi,psi,L,R]\n",
    "R = u'[x] + (u[x] - kappa)^2;\n",
    "R == 0 // TeX[\"Riccati Equation: \",#]&"
   ]
  },
  {
   "cell_type": "code",
   "execution_count": 46,
   "metadata": {},
   "outputs": [
    {
     "data": {
      "text/html": [
       "<div>$$&#92;&#116;&#101;&#120;&#116;&#123;&#83;&#111;&#108;&#117;&#116;&#105;&#111;&#110;&#58;&#32;&#125;&#92;&#108;&#101;&#102;&#116;&#92;&#123;&#92;&#108;&#101;&#102;&#116;&#92;&#123;&#117;&#40;&#120;&#41;&#92;&#116;&#111;&#32;&#92;&#102;&#114;&#97;&#99;&#123;&#45;&#99;&#95;&#49;&#32;&#92;&#107;&#97;&#112;&#112;&#97;&#32;&#43;&#92;&#107;&#97;&#112;&#112;&#97;&#32;&#32;&#120;&#43;&#49;&#125;&#123;&#120;&#45;&#99;&#95;&#49;&#125;&#92;&#114;&#105;&#103;&#104;&#116;&#92;&#125;&#92;&#114;&#105;&#103;&#104;&#116;&#92;&#125;$$</div>"
      ]
     },
     "execution_count": 46,
     "metadata": {
      "text/html": []
     },
     "output_type": "execute_result"
    }
   ],
   "source": [
    "sol = DSolve[R == 0, u[x], x] // TeX[\"Solution: \",#]&"
   ]
  },
  {
   "cell_type": "code",
   "execution_count": 47,
   "metadata": {},
   "outputs": [
    {
     "data": {
      "text/html": [
       "<div>$$&#92;&#116;&#101;&#120;&#116;&#123;&#76;&#105;&#110;&#101;&#97;&#114;&#32;&#79;&#68;&#69;&#58;&#32;&#125;&#92;&#107;&#97;&#112;&#112;&#97;&#32;&#94;&#50;&#32;&#92;&#112;&#115;&#105;&#32;&#40;&#120;&#41;&#45;&#50;&#32;&#92;&#107;&#97;&#112;&#112;&#97;&#32;&#32;&#92;&#112;&#115;&#105;&#32;&#39;&#40;&#120;&#41;&#43;&#92;&#112;&#115;&#105;&#32;&#39;&#39;&#40;&#120;&#41;&#61;&#48;$$</div>"
      ]
     },
     "execution_count": 48,
     "metadata": {
      "text/html": []
     },
     "output_type": "execute_result"
    }
   ],
   "source": [
    "L = psi''[x] - 2 kappa psi'[x] + kappa^2 psi[x];\n",
    "L == 0 // TeX[\"Linear ODE: \",#]&"
   ]
  },
  {
   "cell_type": "code",
   "execution_count": 49,
   "metadata": {},
   "outputs": [
    {
     "data": {
      "text/html": [
       "<div>$$&#92;&#116;&#101;&#120;&#116;&#123;&#83;&#111;&#108;&#117;&#116;&#105;&#111;&#110;&#58;&#32;&#125;&#92;&#108;&#101;&#102;&#116;&#92;&#123;&#92;&#108;&#101;&#102;&#116;&#92;&#123;&#92;&#112;&#115;&#105;&#32;&#40;&#120;&#41;&#92;&#116;&#111;&#32;&#99;&#95;&#49;&#32;&#101;&#94;&#123;&#92;&#107;&#97;&#112;&#112;&#97;&#32;&#32;&#120;&#125;&#43;&#99;&#95;&#50;&#32;&#120;&#32;&#101;&#94;&#123;&#92;&#107;&#97;&#112;&#112;&#97;&#32;&#32;&#120;&#125;&#92;&#114;&#105;&#103;&#104;&#116;&#92;&#125;&#92;&#114;&#105;&#103;&#104;&#116;&#92;&#125;$$</div>"
      ]
     },
     "execution_count": 49,
     "metadata": {
      "text/html": []
     },
     "output_type": "execute_result"
    }
   ],
   "source": [
    "lsol = DSolve[L == 0, psi[x], x] // TeX[\"Solution: \",#]&"
   ]
  },
  {
   "cell_type": "markdown",
   "metadata": {},
   "source": [
    "**問題:** 定数 $\\kappa\\ne\\lambda$ に対する次のRiccati方程式を解け:\n",
    "\n",
    "$$\n",
    "u' + \\frac{1}{x}(u-\\kappa)(u-\\lambda).\n",
    "$$\n",
    "\n",
    "**解答例:** $u = x\\psi'/\\psi$ とおくと, \n",
    "\n",
    "$$\n",
    "\\left(\\d^2+\\left(-\\frac{\\kappa+\\lambda}{x}+\\frac{1}{x}\\right)\\d+\\frac{1}{x}\\frac{\\kappa\\lambda}{x}\\right)\\psi = \n",
    "\\left(\\d^2-\\frac{\\kappa+\\lambda-1}{x}\\d+\\frac{\\kappa\\lambda}{x^2}\\right)\\psi = 0\n",
    "$$\n",
    "\n",
    "に帰着する. \n",
    "\n",
    "$$\n",
    "\\d^2-\\frac{\\kappa+\\lambda-1}{x}\\d+\\frac{\\kappa\\lambda}{x^2} =\n",
    "\\left(\\d - \\frac{\\kappa-1}{x}\\right)\\left(\\d - \\frac{\\lambda}{x}\\right) =\n",
    "\\left(\\d - \\frac{\\lambda-1}{x}\\right)\\left(\\d - \\frac{\\kappa}{x}\\right)\n",
    "$$\n",
    "\n",
    "なので, $\\psi$ に関する階の線形常微分方程式は $(\\d-\\kappa/x)\\psi=0$ と $(\\d-\\lambda/x)\\psi=0$ の解 $\\psi=x^　＄￥\\kappa,x^\\lambda$ を持つ. $\\kappa\\ne \\lambda$ という仮定より, それらは一次独立なので, $\\psi$ に関する階の線形常微分方程式の $0$ でない解は\n",
    "\n",
    "$$\n",
    "\\psi = \\alpha x^\\kappa + \\beta x^\\lambda, \\quad (\\alpha,\\beta)\\ne(0,0)\n",
    "$$\n",
    "\n",
    "と表され, 対応するRiccati方程式の解は\n",
    "\n",
    "$$\n",
    "u = x\\frac{\\psi'}{\\psi} = \\frac{\\alpha\\kappa x^\\kappa + \\beta\\lambda x^\\lambda}{\\alpha x^\\kappa + \\beta x^\\lambda}\n",
    "$$\n",
    "\n",
    "と表わされる. $\\QED$"
   ]
  },
  {
   "cell_type": "code",
   "execution_count": 50,
   "metadata": {},
   "outputs": [
    {
     "data": {
      "text/html": [
       "<div>$$&#92;&#116;&#101;&#120;&#116;&#123;&#82;&#105;&#99;&#99;&#97;&#116;&#105;&#32;&#69;&#113;&#117;&#97;&#116;&#105;&#111;&#110;&#58;&#32;&#125;&#92;&#102;&#114;&#97;&#99;&#123;&#40;&#117;&#40;&#120;&#41;&#45;&#92;&#107;&#97;&#112;&#112;&#97;&#32;&#41;&#32;&#40;&#117;&#40;&#120;&#41;&#45;&#92;&#108;&#97;&#109;&#98;&#100;&#97;&#32;&#41;&#125;&#123;&#120;&#125;&#43;&#117;&#39;&#40;&#120;&#41;&#61;&#48;$$</div>"
      ]
     },
     "execution_count": 52,
     "metadata": {
      "text/html": []
     },
     "output_type": "execute_result"
    }
   ],
   "source": [
    "Clear[a,b,c,f,g,p,q,u,w,x,alpha,beta,kappa,lambda,dphi,phi,psi,L,R]\n",
    "R = u'[x] + 1/x (u[x] - kappa)(u[x] - lambda);\n",
    "R == 0 // TeX[\"Riccati Equation: \",#]&"
   ]
  },
  {
   "cell_type": "code",
   "execution_count": 53,
   "metadata": {},
   "outputs": [
    {
     "data": {
      "text/html": [
       "<div>$$&#92;&#116;&#101;&#120;&#116;&#123;&#83;&#111;&#108;&#117;&#116;&#105;&#111;&#110;&#58;&#32;&#125;&#92;&#108;&#101;&#102;&#116;&#92;&#123;&#92;&#108;&#101;&#102;&#116;&#92;&#123;&#117;&#40;&#120;&#41;&#92;&#116;&#111;&#32;&#92;&#102;&#114;&#97;&#99;&#123;&#92;&#107;&#97;&#112;&#112;&#97;&#32;&#32;&#101;&#94;&#123;&#99;&#95;&#49;&#32;&#92;&#108;&#97;&#109;&#98;&#100;&#97;&#32;&#125;&#32;&#120;&#94;&#123;&#92;&#107;&#97;&#112;&#112;&#97;&#32;&#125;&#45;&#92;&#108;&#97;&#109;&#98;&#100;&#97;&#32;&#32;&#101;&#94;&#123;&#99;&#95;&#49;&#32;&#92;&#107;&#97;&#112;&#112;&#97;&#32;&#125;&#32;&#120;&#94;&#123;&#92;&#108;&#97;&#109;&#98;&#100;&#97;&#32;&#125;&#125;&#123;&#101;&#94;&#123;&#99;&#95;&#49;&#32;&#92;&#108;&#97;&#109;&#98;&#100;&#97;&#32;&#125;&#32;&#120;&#94;&#123;&#92;&#107;&#97;&#112;&#112;&#97;&#32;&#125;&#45;&#101;&#94;&#123;&#99;&#95;&#49;&#32;&#92;&#107;&#97;&#112;&#112;&#97;&#32;&#125;&#32;&#120;&#94;&#123;&#92;&#108;&#97;&#109;&#98;&#100;&#97;&#32;&#125;&#125;&#92;&#114;&#105;&#103;&#104;&#116;&#92;&#125;&#92;&#114;&#105;&#103;&#104;&#116;&#92;&#125;$$</div>"
      ]
     },
     "execution_count": 53,
     "metadata": {
      "text/html": []
     },
     "output_type": "execute_result"
    }
   ],
   "source": [
    "sol = DSolve[R == 0, u[x], x] // TeX[\"Solution: \",#]&"
   ]
  },
  {
   "cell_type": "code",
   "execution_count": 54,
   "metadata": {},
   "outputs": [
    {
     "data": {
      "text/html": [
       "<div>$$&#92;&#116;&#101;&#120;&#116;&#123;&#76;&#105;&#110;&#101;&#97;&#114;&#32;&#79;&#68;&#69;&#58;&#32;&#125;&#45;&#92;&#102;&#114;&#97;&#99;&#123;&#40;&#92;&#107;&#97;&#112;&#112;&#97;&#32;&#43;&#92;&#108;&#97;&#109;&#98;&#100;&#97;&#32;&#45;&#49;&#41;&#32;&#92;&#112;&#115;&#105;&#32;&#39;&#40;&#120;&#41;&#125;&#123;&#120;&#125;&#43;&#92;&#102;&#114;&#97;&#99;&#123;&#92;&#107;&#97;&#112;&#112;&#97;&#32;&#32;&#92;&#108;&#97;&#109;&#98;&#100;&#97;&#32;&#32;&#92;&#112;&#115;&#105;&#32;&#40;&#120;&#41;&#125;&#123;&#120;&#94;&#50;&#125;&#43;&#92;&#112;&#115;&#105;&#32;&#39;&#39;&#40;&#120;&#41;&#61;&#48;$$</div>"
      ]
     },
     "execution_count": 55,
     "metadata": {
      "text/html": []
     },
     "output_type": "execute_result"
    }
   ],
   "source": [
    "L = psi''[x] - (kappa+lambda-1)/x psi'[x] + kappa lambda/x^2 psi[x];\n",
    "L == 0 // TeX[\"Linear ODE: \",#]&"
   ]
  },
  {
   "cell_type": "code",
   "execution_count": 56,
   "metadata": {},
   "outputs": [
    {
     "data": {
      "text/html": [
       "<div>$$&#92;&#116;&#101;&#120;&#116;&#123;&#83;&#111;&#108;&#117;&#116;&#105;&#111;&#110;&#58;&#32;&#125;&#92;&#108;&#101;&#102;&#116;&#92;&#123;&#92;&#108;&#101;&#102;&#116;&#92;&#123;&#92;&#112;&#115;&#105;&#32;&#40;&#120;&#41;&#92;&#116;&#111;&#32;&#99;&#95;&#49;&#32;&#120;&#94;&#123;&#92;&#107;&#97;&#112;&#112;&#97;&#32;&#125;&#43;&#99;&#95;&#50;&#32;&#120;&#94;&#123;&#92;&#108;&#97;&#109;&#98;&#100;&#97;&#32;&#125;&#92;&#114;&#105;&#103;&#104;&#116;&#92;&#125;&#92;&#114;&#105;&#103;&#104;&#116;&#92;&#125;$$</div>"
      ]
     },
     "execution_count": 56,
     "metadata": {
      "text/html": []
     },
     "output_type": "execute_result"
    }
   ],
   "source": [
    "lsol = DSolve[L == 0, psi[x], x] // TeX[\"Solution: \",#]&"
   ]
  },
  {
   "cell_type": "markdown",
   "metadata": {},
   "source": [
    "**問題:** 定数 $\\kappa$ に対する次のRiccati方程式を解け:\n",
    "\n",
    "$$\n",
    "u'+\\frac{1}{x}(u-\\kappa)^2 = 0.\n",
    "$$\n",
    "\n",
    "**解答例:** $u=x\\psi'/\\psi = x(\\log\\psi)'$ とおくと, \n",
    "\n",
    "$$\n",
    "\\left(\\d^2-\\frac{2\\kappa-1}{x}\\d+\\frac{\\kappa^2}{x^2}\\right)\\psi = 0\n",
    "$$\n",
    "\n",
    "に帰着する. この2階の線形常微分方程式の $0$ でない解は\n",
    "\n",
    "$$\n",
    "\\psi = x^\\kappa(\\alpha + \\beta\\log x)\n",
    "\\quad (\\alpha,\\beta)\\ne(0,0)\n",
    "$$\n",
    "\n",
    "と書けるので, 対応するRiccati方程式の解は\n",
    "\n",
    "$$\n",
    "u = x(\\log\\psi)' = \\kappa + \\frac{\\beta}{\\alpha + \\beta\\log x}\n",
    "$$\n",
    "\n",
    "と書ける. $\\QED$"
   ]
  },
  {
   "cell_type": "code",
   "execution_count": 57,
   "metadata": {},
   "outputs": [
    {
     "data": {
      "text/html": [
       "<div>$$&#92;&#116;&#101;&#120;&#116;&#123;&#82;&#105;&#99;&#99;&#97;&#116;&#105;&#32;&#69;&#113;&#117;&#97;&#116;&#105;&#111;&#110;&#58;&#32;&#125;&#92;&#102;&#114;&#97;&#99;&#123;&#40;&#117;&#40;&#120;&#41;&#45;&#92;&#107;&#97;&#112;&#112;&#97;&#32;&#41;&#94;&#50;&#125;&#123;&#120;&#125;&#43;&#117;&#39;&#40;&#120;&#41;&#61;&#48;$$</div>"
      ]
     },
     "execution_count": 59,
     "metadata": {
      "text/html": []
     },
     "output_type": "execute_result"
    }
   ],
   "source": [
    "Clear[a,b,c,f,g,p,q,u,w,x,alpha,beta,kappa,lambda,dphi,phi,psi,L,R]\n",
    "R = u'[x] + 1/x (u[x] - kappa)^2;\n",
    "R == 0 // TeX[\"Riccati Equation: \",#]&"
   ]
  },
  {
   "cell_type": "code",
   "execution_count": 60,
   "metadata": {},
   "outputs": [
    {
     "data": {
      "text/html": [
       "<div>$$&#92;&#116;&#101;&#120;&#116;&#123;&#83;&#111;&#108;&#117;&#116;&#105;&#111;&#110;&#58;&#32;&#125;&#92;&#108;&#101;&#102;&#116;&#92;&#123;&#92;&#108;&#101;&#102;&#116;&#92;&#123;&#117;&#40;&#120;&#41;&#92;&#116;&#111;&#32;&#92;&#102;&#114;&#97;&#99;&#123;&#99;&#95;&#49;&#32;&#92;&#107;&#97;&#112;&#112;&#97;&#32;&#45;&#92;&#107;&#97;&#112;&#112;&#97;&#32;&#32;&#92;&#108;&#111;&#103;&#32;&#40;&#120;&#41;&#45;&#49;&#125;&#123;&#99;&#95;&#49;&#45;&#92;&#108;&#111;&#103;&#32;&#40;&#120;&#41;&#125;&#92;&#114;&#105;&#103;&#104;&#116;&#92;&#125;&#92;&#114;&#105;&#103;&#104;&#116;&#92;&#125;$$</div>"
      ]
     },
     "execution_count": 60,
     "metadata": {
      "text/html": []
     },
     "output_type": "execute_result"
    }
   ],
   "source": [
    "sol = DSolve[R == 0, u[x], x] // TeX[\"Solution: \",#]&"
   ]
  },
  {
   "cell_type": "code",
   "execution_count": 61,
   "metadata": {},
   "outputs": [
    {
     "data": {
      "text/html": [
       "<div>$$&#92;&#116;&#101;&#120;&#116;&#123;&#76;&#105;&#110;&#101;&#97;&#114;&#32;&#79;&#68;&#69;&#58;&#32;&#125;&#92;&#102;&#114;&#97;&#99;&#123;&#92;&#107;&#97;&#112;&#112;&#97;&#32;&#94;&#50;&#32;&#92;&#112;&#115;&#105;&#32;&#40;&#120;&#41;&#125;&#123;&#120;&#94;&#50;&#125;&#45;&#92;&#102;&#114;&#97;&#99;&#123;&#40;&#50;&#32;&#92;&#107;&#97;&#112;&#112;&#97;&#32;&#45;&#49;&#41;&#32;&#92;&#112;&#115;&#105;&#32;&#39;&#40;&#120;&#41;&#125;&#123;&#120;&#125;&#43;&#92;&#112;&#115;&#105;&#32;&#39;&#39;&#40;&#120;&#41;&#61;&#48;$$</div>"
      ]
     },
     "execution_count": 62,
     "metadata": {
      "text/html": []
     },
     "output_type": "execute_result"
    }
   ],
   "source": [
    "L = psi''[x] - (2kappa-1)/x psi'[x] + kappa^2/x^2 psi[x];\n",
    "L == 0 // TeX[\"Linear ODE: \",#]&"
   ]
  },
  {
   "cell_type": "code",
   "execution_count": 63,
   "metadata": {},
   "outputs": [
    {
     "data": {
      "text/html": [
       "<div>$$&#92;&#116;&#101;&#120;&#116;&#123;&#83;&#111;&#108;&#117;&#116;&#105;&#111;&#110;&#58;&#32;&#125;&#92;&#108;&#101;&#102;&#116;&#92;&#123;&#92;&#108;&#101;&#102;&#116;&#92;&#123;&#92;&#112;&#115;&#105;&#32;&#40;&#120;&#41;&#92;&#116;&#111;&#32;&#99;&#95;&#49;&#32;&#120;&#94;&#123;&#92;&#107;&#97;&#112;&#112;&#97;&#32;&#125;&#43;&#99;&#95;&#50;&#32;&#92;&#107;&#97;&#112;&#112;&#97;&#32;&#32;&#120;&#94;&#123;&#92;&#107;&#97;&#112;&#112;&#97;&#32;&#125;&#32;&#92;&#108;&#111;&#103;&#32;&#40;&#120;&#41;&#92;&#114;&#105;&#103;&#104;&#116;&#92;&#125;&#92;&#114;&#105;&#103;&#104;&#116;&#92;&#125;$$</div>"
      ]
     },
     "execution_count": 63,
     "metadata": {
      "text/html": []
     },
     "output_type": "execute_result"
    }
   ],
   "source": [
    "lsol = DSolve[L == 0, psi[x], x] // TeX[\"Solution: \",#]&"
   ]
  },
  {
   "cell_type": "markdown",
   "metadata": {},
   "source": [
    "以下では, $u=(1/a)\\psi'/\\psi$ という「処方箋」の背景について調べて行く.  "
   ]
  },
  {
   "cell_type": "markdown",
   "metadata": {},
   "source": [
    "### Riccati方程式の数学的由来の1つが分かる補題\n",
    "\n",
    "$a=a(x)=1$ の場合のRiccati方程式\n",
    "\n",
    "$$\n",
    "u' + u^2 + bu + c = 0.\n",
    "\\tag{$*'$}\n",
    "$$\n",
    "\n",
    "の数学的な由来の1つは次の補題およびその証明を見れば分かる.\n",
    "\n",
    "**補題:** 微分作用素 $\\d^2+b\\d+c$ が微分作用素 $\\d-u$ で右から割り切れることとRiccati方程式($*'$)が成立することは同値である.\n",
    "\n",
    "**証明:** $\\d^2+b\\d+c$ を $\\d-u$ で左から割ったときの余りを求めよう. 多項式の商と余りを求める割り算と同様にして以下が成立することを示せる:\n",
    "\n",
    "$$\n",
    "\\d^2+b\\d+c = (\\d+u+b)(\\d-u) + u'+u^2+bu+c.\n",
    "\\tag{1}\n",
    "$$\n",
    "\n",
    "これが成立することは, 微分作用素として $\\d f=f\\d + f'$ が成立することを使えば, 直接的に以下のようにして確認できる.\n",
    "\n",
    "$$\n",
    "\\begin{aligned}\n",
    "(\\d+u+b))(\\d-u) &= \n",
    "\\d^2 -u\\d -u' + (u+b)\\d -(u^2+bu)\n",
    "\\\\ &=\n",
    "\\d^2+b\\d -(u'+u^2+bu)\n",
    "\\\\ &=\n",
    "\\d^2+b\\d+c -(u'+u^2+bu+c).\n",
    "\\end{aligned}\n",
    "$$\n",
    "\n",
    "これより, (1)が成立することがわかる. (1)より, $\\d^2+b\\d+c$ が $\\d-u$ で右から割り切れるための必要十分条件は($*'$) $u'+u^2+bu+c=0$ が成立することだとわかる. $\\QED$"
   ]
  },
  {
   "cell_type": "markdown",
   "metadata": {},
   "source": [
    "**注意:** 常微分作用素を常微分作用素で右から割った商と余りを求める割算の筆算とは以下のような計算のことである:\n",
    "\n",
    "$$\n",
    "\\require{enclose}\n",
    "\\begin{aligned}\n",
    "&\n",
    "\\begin{array}{rlll}\n",
    "\\text{R}\\backslash\\text{L}\\!\\!\\!\\!\\!\\!\\!\\! & \\;\\;\\,\\d\\,\\phantom{+u+b} \\\\[-2pt]\n",
    "\\d-u \\!\\!\\!\\!\\! & \\enclose{longdiv}{\\d^2+b\\d+c\\quad\\quad\\quad\\;\\,}\\kern-.3ex \\\\[-2pt]\n",
    "     & \\;\\;\\d^2-u\\d-u'\\quad\\quad\\;\\;\\;\\, \\\\[-2pt]\n",
    "     & \\;\\phantom{(u+b)\\d+u'+c} \\\\[-2pt]\n",
    "     & \\;\\phantom{\\underline{\\;(u+b)\\d-(u^2+bu)\\;}} \\\\[-2pt]\n",
    "%     & \\;\\;\\quad\\;\\phantom{u'+u^2+bu+c}\\\\\n",
    "\\end{array}\n",
    "\\longrightarrow\n",
    "\\begin{array}{rlll}\n",
    "\\text{R}\\backslash\\text{L}\\!\\!\\!\\!\\!\\!\\!\\! & \\;\\;\\,\\d\\,\\phantom{+u+b} \\\\[-2pt]\n",
    "\\d-u \\!\\!\\!\\!\\! & \\enclose{longdiv}{\\d^2+b\\d+c\\quad\\quad\\quad\\;\\,}\\kern-.3ex \\\\[-2pt]\n",
    "     & \\;\\underline{\\;\\d^2-u\\d-u'\\quad\\quad\\;\\;\\;\\,} \\\\[-2pt]\n",
    "     & \\;(u+b)\\d+u'+c \\\\[-2pt]\n",
    "     & \\;\\phantom{\\underline{\\;(u+b)\\d-(u^2+bu)\\;}} \\\\[-2pt]\n",
    "%     & \\;\\;\\quad\\;\\phantom{u'+u^2+bu+c}\\\\\n",
    "\\end{array}\n",
    "\\\\ \\longrightarrow &\n",
    "\\begin{array}{rlll}\n",
    "\\text{R}\\backslash\\text{L}\\!\\!\\!\\!\\!\\!\\!\\! & \\;\\;\\,\\d\\,+u+b \\\\[-2pt]\n",
    "\\d-u \\!\\!\\!\\!\\! & \\enclose{longdiv}{\\d^2+b\\d+c\\quad\\quad\\quad\\;\\,}\\kern-.3ex \\\\[-2pt]\n",
    "     & \\;\\underline{\\;\\d^2-u\\d-u'\\quad\\quad\\;\\;\\;\\,} \\\\[-2pt]\n",
    "     & \\;\\;(u+b)\\d+u'+c \\\\[-2pt]\n",
    "     & \\;\\;(u+b)\\d-(u^2+bu)\\; \\\\[-2pt]\n",
    "     & \\;\\;\\quad\\;\\phantom{u'+u^2+bu+c}\\\\\n",
    "\\end{array}\n",
    "\\longrightarrow\n",
    "\\begin{array}{rlll}\n",
    "\\text{R}\\backslash\\text{L}\\!\\!\\!\\!\\!\\!\\!\\! & \\;\\;\\,\\d\\,+u+b \\\\[-2pt]\n",
    "\\d-u \\!\\!\\!\\!\\! & \\enclose{longdiv}{\\d^2+b\\d+c\\quad\\quad\\quad\\;\\,}\\kern-.3ex \\\\[-2pt]\n",
    "     & \\;\\underline{\\;\\d^2-u\\d+u'\\quad\\quad\\;\\;\\;\\,} \\\\[-2pt]\n",
    "     & \\;\\;(u+b)\\d+u'+c \\\\[-2pt]\n",
    "     & \\;\\underline{\\;(u+b)\\d-(u^2+bu)\\;} \\\\[-2pt]\n",
    "     & \\;\\;\\quad\\;u'+u^2+bu+c\\\\\n",
    "\\end{array}\n",
    "\\end{aligned}\n",
    "$$\n",
    "\n",
    "$R\\backslash L$ は $L$ の側を $R$ の側に左からかけることを意味している. 最初の段階では $\\d u=u\\d+u'$ を用いて\n",
    "\n",
    "$$\n",
    "\\d(\\d-u)=\\d^2-u\\d-u'\n",
    "$$\n",
    "\n",
    "と計算した. それ以後も同様である. $\\QED$"
   ]
  },
  {
   "cell_type": "code",
   "execution_count": 64,
   "metadata": {},
   "outputs": [
    {
     "data": {
      "text/html": [
       "<style>\n",
       "\t\t\t\t\t\t\t\t\t\t\t.grid-container {\n",
       "\t\t\t\t\t\t\t\t\t\t\t\tdisplay: inline-grid;\n",
       "\t\t\t\t\t\t\t\t\t\t\t\tgrid-template-columns: auto auto;\n",
       "\t\t\t\t\t\t\t\t\t\t\t}\n",
       "\t\t\t\t\t\t\t\t\t\t</style>\n",
       "\n",
       "\t\t\t\t\t\t\t\t\t\t<div><div class=\"grid-container\"><div class=\"grid-item\">\n",
       "\t\t\t\t\t\t\t\t\t\t\t\t\t<div class=\"prompt output_prompt\" style=\"text-align:left;padding:0em;padding-right:20px;line-height:20px;\">\n",
       "\t\t\t\t\t\t\t\t\t\t\t\t\t\tOut[66]:\n",
       "\t\t\t\t\t\t\t\t\t\t\t\t\t</div>\n",
       "\t\t\t\t\t\t\t\t\t\t\t\t</div>\n",
       "\t\t\t\t\t\t\t\t\t\t\t\t<div class=\"grid-item\">$$&#81;&#92;&#112;&#115;&#105;&#61;&#92;&#112;&#115;&#105;&#32;&#39;&#40;&#120;&#41;&#45;&#92;&#112;&#115;&#105;&#32;&#40;&#120;&#41;&#32;&#117;&#40;&#120;&#41;$$</div><div class=\"grid-item\">\n",
       "\t\t\t\t\t\t\t\t\t\t\t\t\t<div class=\"prompt output_prompt\" style=\"text-align:left;padding:0em;padding-right:20px;line-height:20px;\">\n",
       "\t\t\t\t\t\t\t\t\t\t\t\t\t\tOut[68]:\n",
       "\t\t\t\t\t\t\t\t\t\t\t\t\t</div>\n",
       "\t\t\t\t\t\t\t\t\t\t\t\t</div>\n",
       "\t\t\t\t\t\t\t\t\t\t\t\t<div class=\"grid-item\">$$&#80;&#81;&#92;&#112;&#115;&#105;&#61;&#98;&#40;&#120;&#41;&#32;&#92;&#112;&#115;&#105;&#32;&#39;&#40;&#120;&#41;&#45;&#98;&#40;&#120;&#41;&#32;&#92;&#112;&#115;&#105;&#32;&#40;&#120;&#41;&#32;&#117;&#40;&#120;&#41;&#43;&#92;&#112;&#115;&#105;&#32;&#39;&#39;&#40;&#120;&#41;&#45;&#92;&#112;&#115;&#105;&#32;&#40;&#120;&#41;&#32;&#117;&#39;&#40;&#120;&#41;&#45;&#92;&#112;&#115;&#105;&#32;&#40;&#120;&#41;&#32;&#117;&#40;&#120;&#41;&#94;&#50;$$</div><div class=\"grid-item\">\n",
       "\t\t\t\t\t\t\t\t\t\t\t\t\t<div class=\"prompt output_prompt\" style=\"text-align:left;padding:0em;padding-right:20px;line-height:20px;\">\n",
       "\t\t\t\t\t\t\t\t\t\t\t\t\t\tOut[70]:\n",
       "\t\t\t\t\t\t\t\t\t\t\t\t\t</div>\n",
       "\t\t\t\t\t\t\t\t\t\t\t\t</div>\n",
       "\t\t\t\t\t\t\t\t\t\t\t\t<div class=\"grid-item\">$$&#82;&#61;&#117;&#40;&#120;&#41;&#32;&#40;&#98;&#40;&#120;&#41;&#43;&#117;&#40;&#120;&#41;&#41;&#43;&#99;&#40;&#120;&#41;&#43;&#117;&#39;&#40;&#120;&#41;$$</div><div class=\"grid-item\">\n",
       "\t\t\t\t\t\t\t\t\t\t\t\t\t<div class=\"prompt output_prompt\" style=\"text-align:left;padding:0em;padding-right:20px;line-height:20px;\">\n",
       "\t\t\t\t\t\t\t\t\t\t\t\t\t\tOut[71]:\n",
       "\t\t\t\t\t\t\t\t\t\t\t\t\t</div>\n",
       "\t\t\t\t\t\t\t\t\t\t\t\t</div>\n",
       "\t\t\t\t\t\t\t\t\t\t\t\t<div class=\"grid-item\">$$&#40;&#80;&#81;&#43;&#82;&#41;&#92;&#112;&#115;&#105;&#32;&#61;&#32;&#98;&#40;&#120;&#41;&#32;&#92;&#112;&#115;&#105;&#32;&#39;&#40;&#120;&#41;&#43;&#99;&#40;&#120;&#41;&#32;&#92;&#112;&#115;&#105;&#32;&#40;&#120;&#41;&#43;&#92;&#112;&#115;&#105;&#32;&#39;&#39;&#40;&#120;&#41;$$</div></div></div>"
      ]
     },
     "execution_count": 66,
     "metadata": {
      "text/html": []
     },
     "output_type": "execute_result"
    }
   ],
   "source": [
    "Clear[a,b,c,f,g,p,q,u,w,x,alpha,beta,dphi,phi,psi,L,R]\n",
    "Qpsi = D[psi[x],x] - u[x] psi[x];\n",
    "Qpsi // TeXRaw[\"Q\\\\psi=\",#]&\n",
    "PQpsi = D[Qpsi,x] + (u[x]+b[x])*Qpsi // ExpandAll;\n",
    "PQpsi // TeXRaw[\"PQ\\\\psi=\",#]&\n",
    "R = u'[x] + u[x]^2 + b[x]u[x] + c[x];\n",
    "R // TeXEq\n",
    "PQpsi + R psi[x] // Simplify // TeXRaw[\"(PQ+R)\\\\psi = \",#]&"
   ]
  },
  {
   "cell_type": "markdown",
   "metadata": {},
   "source": [
    "### Riccati方程式に関する基本定理\n",
    "\n",
    "**定理:** Riccati方程式 ($*'$) $u'+u^2+bu+c=0$ のすべての解 $u$ は線形常微分方程式 $(\\d^2+b\\d+c)f = 0$ の $0$ でない解 $f$ を用いて $u=f'/f$ と表わされ, 線形常微分方程式 $(\\d^2+b\\d+c)f = 0$ の $0$ でない任意の解 $f$ に対して $u=f'/f$ とおくと $u$ はRiccati方程式 ($*'$) $u'+u^2+bu+c=0$ の解になる.\n",
    "\n",
    "**証明:** $u$ はRiccati方程式 ($*'$) $u'+u^2+bu+c=0$ の解であると仮定する. このとき, 「Riccati方程式の数学的由来の1つが分かる補題」より, \n",
    "\n",
    "$$\n",
    "\\d^2+b\\d+c = (\\d+u+b)(\\d-u)\n",
    "$$\n",
    "\n",
    "が成立しているので, 微分方程式 $(\\d-u)f=0$ の $0$ でない解 $f$ を取れば, $u=f'/f$ でかつ $(\\d^2+b\\d+c)f=0$ が成立する.\n",
    "\n",
    "$f$ は線形常微分方程式 $(\\d^2+b\\d+c)f=0$ の $0$ でない解であるとし, $u=f'/f$ とおく.  このとき, $f$ は $(\\d-u)f=0$ を満たしている.  $\\d-u$ で右から $P = \\d^2+b\\d+c$ を割って商 $Q$ と余り $R$ ($R$ は $0$ 階の常微分作用素, すなわち函数)を求められる.\n",
    "\n",
    "$$\n",
    "P = Q(\\d-u)+R.\n",
    "$$\n",
    "\n",
    "$Pf=0$, $(\\d-u)f=0$ より $Rf=0$ すなわち $R=0$ が得られる. 「Riccati方程式の数学的由来の1つが分かる補題」の証明より, $R=u'+u^2+bu+c$ なので, $u$ がRiccati方程式($*'$) $u'+u^2+bu+c=0$ を満たしていることがわかった. $\\QED$"
   ]
  },
  {
   "cell_type": "code",
   "execution_count": 72,
   "metadata": {},
   "outputs": [
    {
     "data": {
      "text/html": [
       "<style>\n",
       "\t\t\t\t\t\t\t\t\t\t\t.grid-container {\n",
       "\t\t\t\t\t\t\t\t\t\t\t\tdisplay: inline-grid;\n",
       "\t\t\t\t\t\t\t\t\t\t\t\tgrid-template-columns: auto auto;\n",
       "\t\t\t\t\t\t\t\t\t\t\t}\n",
       "\t\t\t\t\t\t\t\t\t\t</style>\n",
       "\n",
       "\t\t\t\t\t\t\t\t\t\t<div><div class=\"grid-container\"><div class=\"grid-item\">\n",
       "\t\t\t\t\t\t\t\t\t\t\t\t\t<div class=\"prompt output_prompt\" style=\"text-align:left;padding:0em;padding-right:20px;line-height:20px;\">\n",
       "\t\t\t\t\t\t\t\t\t\t\t\t\t\tOut[74]:\n",
       "\t\t\t\t\t\t\t\t\t\t\t\t\t</div>\n",
       "\t\t\t\t\t\t\t\t\t\t\t\t</div>\n",
       "\t\t\t\t\t\t\t\t\t\t\t\t<div class=\"grid-item\">$$&#117;&#61;&#92;&#102;&#114;&#97;&#99;&#123;&#102;&#39;&#40;&#120;&#41;&#125;&#123;&#102;&#40;&#120;&#41;&#125;$$</div><div class=\"grid-item\">\n",
       "\t\t\t\t\t\t\t\t\t\t\t\t\t<div class=\"prompt output_prompt\" style=\"text-align:left;padding:0em;padding-right:20px;line-height:20px;\">\n",
       "\t\t\t\t\t\t\t\t\t\t\t\t\t\tOut[75]:\n",
       "\t\t\t\t\t\t\t\t\t\t\t\t\t</div>\n",
       "\t\t\t\t\t\t\t\t\t\t\t\t</div>\n",
       "\t\t\t\t\t\t\t\t\t\t\t\t<div class=\"grid-item\">$$&#92;&#102;&#114;&#97;&#99;&#123;&#92;&#112;&#97;&#114;&#116;&#105;&#97;&#108;&#32;&#117;&#125;&#123;&#92;&#112;&#97;&#114;&#116;&#105;&#97;&#108;&#32;&#120;&#125;&#43;&#117;&#94;&#50;&#43;&#98;&#40;&#120;&#41;&#32;&#117;&#43;&#99;&#40;&#120;&#41;&#61;&#92;&#102;&#114;&#97;&#99;&#123;&#98;&#40;&#120;&#41;&#32;&#102;&#39;&#40;&#120;&#41;&#43;&#99;&#40;&#120;&#41;&#32;&#102;&#40;&#120;&#41;&#43;&#102;&#39;&#39;&#40;&#120;&#41;&#125;&#123;&#102;&#40;&#120;&#41;&#125;$$</div></div></div>"
      ]
     },
     "execution_count": 74,
     "metadata": {
      "text/html": []
     },
     "output_type": "execute_result"
    }
   ],
   "source": [
    "Clear[a,b,c,f,g,p,q,u,w,x,alpha,beta,dphi,phi,psi,L,R]\n",
    "u = f'[x]/f[x];\n",
    "u // TeXEq\n",
    "D[u,x]+u^2+b[x] u+c[x] // TeXEq"
   ]
  },
  {
   "cell_type": "markdown",
   "metadata": {},
   "source": [
    "### Riccati方程式の解法\n",
    "\n",
    "#### $a=a(x)=1$ の場合のRiccati方程式の解法\n",
    "\n",
    "Riccati方程式に関する基本定理より, Riccati方程式\n",
    "\n",
    "$$\n",
    "u'+u^2+bu+c=0\n",
    "\\tag{$*'$}\n",
    "$$\n",
    "\n",
    "を解くためには(すなわちすべての解を求めるためには), $\\psi$ に関する線形常微分方程式\n",
    "\n",
    "$$\n",
    "(\\d^2+b\\d+c)\\psi = 0\n",
    "$$\n",
    "\n",
    "の $0$ でない解 $\\psi=f$ に対する $u=f'/f$ を求めればよい.\n",
    "\n",
    "\n",
    "#### 一般の場合のRiccati方程式の解法\n",
    "\n",
    "一般のRiccati方程式 ($*$)\n",
    "\n",
    "$$\n",
    "u'+au^2+bu+c=0\n",
    "\\tag{$*$}\n",
    "$$\n",
    "\n",
    "を解くためには, $v=au$ とおいて, 方程式を\n",
    "\n",
    "$$\n",
    "v' + v^2 + \\left(b - \\frac{a'}{a}\\right)v + ac = 0\n",
    "$$\n",
    "\n",
    "の形に変形し, $\\psi$ に関する線形常微分方程式\n",
    "\n",
    "$$\n",
    "\\left(\\d^2+\\left(b - \\frac{a'}{a}\\right)\\d+ac\\right)\\psi = 0\n",
    "$$\n",
    "\n",
    "の $0$ でない解 $f$ に対して $v=au=f'/f$ から $u$ を求めればよい.  $a$ が定数ならば, $\\psi$ に関する線形常微分方程式\n",
    "\n",
    "$$\n",
    "\\left(\\d^2+b\\d+ac\\right)\\psi = 0\n",
    "$$\n",
    "\n",
    "の $0$ でない解 $f$ に対して $v=au=f'/f$ から $u$ を求めればよい."
   ]
  },
  {
   "cell_type": "code",
   "execution_count": 76,
   "metadata": {},
   "outputs": [
    {
     "data": {
      "text/html": [
       "<style>\n",
       "\t\t\t\t\t\t\t\t\t\t\t.grid-container {\n",
       "\t\t\t\t\t\t\t\t\t\t\t\tdisplay: inline-grid;\n",
       "\t\t\t\t\t\t\t\t\t\t\t\tgrid-template-columns: auto auto;\n",
       "\t\t\t\t\t\t\t\t\t\t\t}\n",
       "\t\t\t\t\t\t\t\t\t\t</style>\n",
       "\n",
       "\t\t\t\t\t\t\t\t\t\t<div><div class=\"grid-container\"><div class=\"grid-item\">\n",
       "\t\t\t\t\t\t\t\t\t\t\t\t\t<div class=\"prompt output_prompt\" style=\"text-align:left;padding:0em;padding-right:20px;line-height:20px;\">\n",
       "\t\t\t\t\t\t\t\t\t\t\t\t\t\tOut[78]:\n",
       "\t\t\t\t\t\t\t\t\t\t\t\t\t</div>\n",
       "\t\t\t\t\t\t\t\t\t\t\t\t</div>\n",
       "\t\t\t\t\t\t\t\t\t\t\t\t<div class=\"grid-item\">$$&#102;&#39;&#39;&#40;&#120;&#41;&#92;&#116;&#111;&#32;&#45;&#102;&#39;&#40;&#120;&#41;&#32;&#92;&#108;&#101;&#102;&#116;&#40;&#98;&#40;&#120;&#41;&#45;&#92;&#102;&#114;&#97;&#99;&#123;&#97;&#39;&#40;&#120;&#41;&#125;&#123;&#97;&#40;&#120;&#41;&#125;&#92;&#114;&#105;&#103;&#104;&#116;&#41;&#45;&#97;&#40;&#120;&#41;&#32;&#99;&#40;&#120;&#41;&#32;&#102;&#40;&#120;&#41;$$</div><div class=\"grid-item\">\n",
       "\t\t\t\t\t\t\t\t\t\t\t\t\t<div class=\"prompt output_prompt\" style=\"text-align:left;padding:0em;padding-right:20px;line-height:20px;\">\n",
       "\t\t\t\t\t\t\t\t\t\t\t\t\t\tOut[80]:\n",
       "\t\t\t\t\t\t\t\t\t\t\t\t\t</div>\n",
       "\t\t\t\t\t\t\t\t\t\t\t\t</div>\n",
       "\t\t\t\t\t\t\t\t\t\t\t\t<div class=\"grid-item\">$$&#117;&#61;&#92;&#102;&#114;&#97;&#99;&#123;&#102;&#39;&#40;&#120;&#41;&#125;&#123;&#97;&#40;&#120;&#41;&#32;&#102;&#40;&#120;&#41;&#125;$$</div><div class=\"grid-item\">\n",
       "\t\t\t\t\t\t\t\t\t\t\t\t\t<div class=\"prompt output_prompt\" style=\"text-align:left;padding:0em;padding-right:20px;line-height:20px;\">\n",
       "\t\t\t\t\t\t\t\t\t\t\t\t\t\tOut[81]:\n",
       "\t\t\t\t\t\t\t\t\t\t\t\t\t</div>\n",
       "\t\t\t\t\t\t\t\t\t\t\t\t</div>\n",
       "\t\t\t\t\t\t\t\t\t\t\t\t<div class=\"grid-item\">$$&#92;&#102;&#114;&#97;&#99;&#123;&#92;&#112;&#97;&#114;&#116;&#105;&#97;&#108;&#32;&#117;&#125;&#123;&#92;&#112;&#97;&#114;&#116;&#105;&#97;&#108;&#32;&#120;&#125;&#43;&#97;&#40;&#120;&#41;&#32;&#117;&#94;&#50;&#43;&#98;&#40;&#120;&#41;&#32;&#117;&#43;&#99;&#40;&#120;&#41;&#61;&#48;$$</div></div></div>"
      ]
     },
     "execution_count": 78,
     "metadata": {
      "text/html": []
     },
     "output_type": "execute_result"
    }
   ],
   "source": [
    "Clear[a,b,c,f,g,p,q,u,w,x,alpha,beta,dphi,phi,psi,L,R]\n",
    "rulef = f''[x] -> -(b[x]-a'[x]/a[x])f'[x]-a[x]c[x]f[x];\n",
    "rulef // TeX\n",
    "u = 1/a[x] f'[x]/f[x];\n",
    "u // TeXEq\n",
    "D[u,x] + a[x] u^2 + b[x] u + c[x] // HoldForm // TeXEq[#, #/.rulef&, Simplify]&"
   ]
  },
  {
   "cell_type": "markdown",
   "metadata": {},
   "source": [
    "**例:** 簡単に解ける場合\n",
    "\n",
    "* https://reference.wolfram.com/language/tutorial/DSolveRiccatiEquations.html より.\n",
    "\n",
    "$$\n",
    "u' - 3 u^2 + \\frac{2}{x^2} = 0.\n",
    "$$\n",
    "\n",
    "これは $u = (-1/3)\\psi'/\\psi$ とおくことによって, 次の2階の常微分方程式に帰着する:\n",
    "\n",
    "$$\n",
    "\\left(\\d^2 - \\frac{6}{x^2}\\right)\\psi = \\psi'' - \\frac{6}{x^2}\\psi = 0.\n",
    "$$\n",
    "\n",
    "この2階の線形常微分方程式は $x^3$ と $1/x^2$ を解に持つので, 上のRiccati方程式の解は\n",
    "\n",
    "$$\n",
    "\\psi = \\alpha x^3 + \\frac{\\beta}{x^2}\n",
    "$$\n",
    "\n",
    "とおくと, \n",
    "\n",
    "$$\n",
    "u = \\frac{1}{-3}\\frac{\\psi'}{\\psi} =\n",
    "-\\frac{1}{3}\\frac{3\\alpha x^2-2\\beta/x^3}{\\alpha x^3+\\beta/x^2} =\n",
    "-\\frac{1}{3}\\frac{3\\alpha x^5-2\\beta}{\\alpha x^6+\\beta x}\n",
    "$$\n",
    "\n",
    "と書ける."
   ]
  },
  {
   "cell_type": "code",
   "execution_count": 82,
   "metadata": {},
   "outputs": [
    {
     "data": {
      "text/html": [
       "<style>\n",
       "\t\t\t\t\t\t\t\t\t\t\t.grid-container {\n",
       "\t\t\t\t\t\t\t\t\t\t\t\tdisplay: inline-grid;\n",
       "\t\t\t\t\t\t\t\t\t\t\t\tgrid-template-columns: auto auto;\n",
       "\t\t\t\t\t\t\t\t\t\t\t}\n",
       "\t\t\t\t\t\t\t\t\t\t</style>\n",
       "\n",
       "\t\t\t\t\t\t\t\t\t\t<div><div class=\"grid-container\"><div class=\"grid-item\">\n",
       "\t\t\t\t\t\t\t\t\t\t\t\t\t<div class=\"prompt output_prompt\" style=\"text-align:left;padding:0em;padding-right:20px;line-height:20px;\">\n",
       "\t\t\t\t\t\t\t\t\t\t\t\t\t\tOut[84]:\n",
       "\t\t\t\t\t\t\t\t\t\t\t\t\t</div>\n",
       "\t\t\t\t\t\t\t\t\t\t\t\t</div>\n",
       "\t\t\t\t\t\t\t\t\t\t\t\t<div class=\"grid-item\">$$&#92;&#116;&#101;&#120;&#116;&#123;&#82;&#105;&#99;&#99;&#97;&#116;&#105;&#32;&#101;&#113;&#117;&#97;&#116;&#105;&#111;&#110;&#58;&#32;&#125;&#117;&#39;&#40;&#120;&#41;&#45;&#51;&#32;&#117;&#40;&#120;&#41;&#94;&#50;&#43;&#92;&#102;&#114;&#97;&#99;&#123;&#50;&#125;&#123;&#120;&#94;&#50;&#125;&#61;&#48;$$</div><div class=\"grid-item\">\n",
       "\t\t\t\t\t\t\t\t\t\t\t\t\t<div class=\"prompt output_prompt\" style=\"text-align:left;padding:0em;padding-right:20px;line-height:20px;\">\n",
       "\t\t\t\t\t\t\t\t\t\t\t\t\t\tOut[86]:\n",
       "\t\t\t\t\t\t\t\t\t\t\t\t\t</div>\n",
       "\t\t\t\t\t\t\t\t\t\t\t\t</div>\n",
       "\t\t\t\t\t\t\t\t\t\t\t\t<div class=\"grid-item\">$$&#117;&#40;&#120;&#41;&#61;&#45;&#92;&#102;&#114;&#97;&#99;&#123;&#92;&#112;&#115;&#105;&#32;&#39;&#40;&#120;&#41;&#125;&#123;&#51;&#32;&#92;&#112;&#115;&#105;&#32;&#40;&#120;&#41;&#125;$$</div><div class=\"grid-item\">\n",
       "\t\t\t\t\t\t\t\t\t\t\t\t\t<div class=\"prompt output_prompt\" style=\"text-align:left;padding:0em;padding-right:20px;line-height:20px;\">\n",
       "\t\t\t\t\t\t\t\t\t\t\t\t\t\tOut[88]:\n",
       "\t\t\t\t\t\t\t\t\t\t\t\t\t</div>\n",
       "\t\t\t\t\t\t\t\t\t\t\t\t</div>\n",
       "\t\t\t\t\t\t\t\t\t\t\t\t<div class=\"grid-item\">$$&#92;&#116;&#101;&#120;&#116;&#123;&#76;&#105;&#110;&#101;&#97;&#114;&#32;&#79;&#68;&#69;&#58;&#32;&#125;&#92;&#112;&#115;&#105;&#32;&#39;&#39;&#40;&#120;&#41;&#45;&#92;&#102;&#114;&#97;&#99;&#123;&#54;&#32;&#92;&#112;&#115;&#105;&#32;&#40;&#120;&#41;&#125;&#123;&#120;&#94;&#50;&#125;&#61;&#48;$$</div></div></div>"
      ]
     },
     "execution_count": 84,
     "metadata": {
      "text/html": []
     },
     "output_type": "execute_result"
    }
   ],
   "source": [
    "Clear[a,b,c,f,g,p,q,u,w,x,alpha,beta,dphi,phi,psi,L,R]\n",
    "R = u'[x] - 3u[x]^2 + 2/x^2;\n",
    "R == 0 // TeX[\"Riccati equation: \",#]&\n",
    "u[x_] := -1/3 psi'[x]/psi[x]\n",
    "u[x] // TeXEq\n",
    "L = -3psi[x] R // Expand;\n",
    "L == 0 // TeX[\"Linear ODE: \",#]&"
   ]
  },
  {
   "cell_type": "code",
   "execution_count": 89,
   "metadata": {},
   "outputs": [
    {
     "data": {
      "text/html": [
       "<style>\n",
       "\t\t\t\t\t\t\t\t\t\t\t.grid-container {\n",
       "\t\t\t\t\t\t\t\t\t\t\t\tdisplay: inline-grid;\n",
       "\t\t\t\t\t\t\t\t\t\t\t\tgrid-template-columns: auto auto;\n",
       "\t\t\t\t\t\t\t\t\t\t\t}\n",
       "\t\t\t\t\t\t\t\t\t\t</style>\n",
       "\n",
       "\t\t\t\t\t\t\t\t\t\t<div><div class=\"grid-container\"><div class=\"grid-item\">\n",
       "\t\t\t\t\t\t\t\t\t\t\t\t\t<div class=\"prompt output_prompt\" style=\"text-align:left;padding:0em;padding-right:20px;line-height:20px;\">\n",
       "\t\t\t\t\t\t\t\t\t\t\t\t\t\tOut[91]:\n",
       "\t\t\t\t\t\t\t\t\t\t\t\t\t</div>\n",
       "\t\t\t\t\t\t\t\t\t\t\t\t</div>\n",
       "\t\t\t\t\t\t\t\t\t\t\t\t<div class=\"grid-item\">$$&#102;&#61;&#120;&#94;&#51;$$</div><div class=\"grid-item\">\n",
       "\t\t\t\t\t\t\t\t\t\t\t\t\t<div class=\"prompt output_prompt\" style=\"text-align:left;padding:0em;padding-right:20px;line-height:20px;\">\n",
       "\t\t\t\t\t\t\t\t\t\t\t\t\t\tOut[93]:\n",
       "\t\t\t\t\t\t\t\t\t\t\t\t\t</div>\n",
       "\t\t\t\t\t\t\t\t\t\t\t\t</div>\n",
       "\t\t\t\t\t\t\t\t\t\t\t\t<div class=\"grid-item\">$$&#103;&#61;&#92;&#102;&#114;&#97;&#99;&#123;&#49;&#125;&#123;&#120;&#94;&#50;&#125;$$</div></div></div>"
      ]
     },
     "execution_count": 91,
     "metadata": {
      "text/html": []
     },
     "output_type": "execute_result"
    }
   ],
   "source": [
    "Clear[a,b,c,f,g,p,q,u,w,x,alpha,beta,dphi,phi,psi,L,R]\n",
    "f = x^3;\n",
    "f // TeXEq\n",
    "g = 1/x^2;\n",
    "g // TeXEq"
   ]
  },
  {
   "cell_type": "code",
   "execution_count": 94,
   "metadata": {},
   "outputs": [
    {
     "data": {
      "text/html": [
       "<style>\n",
       "\t\t\t\t\t\t\t\t\t\t\t.grid-container {\n",
       "\t\t\t\t\t\t\t\t\t\t\t\tdisplay: inline-grid;\n",
       "\t\t\t\t\t\t\t\t\t\t\t\tgrid-template-columns: auto auto;\n",
       "\t\t\t\t\t\t\t\t\t\t\t}\n",
       "\t\t\t\t\t\t\t\t\t\t</style>\n",
       "\n",
       "\t\t\t\t\t\t\t\t\t\t<div><div class=\"grid-container\"><div class=\"grid-item\">\n",
       "\t\t\t\t\t\t\t\t\t\t\t\t\t<div class=\"prompt output_prompt\" style=\"text-align:left;padding:0em;padding-right:20px;line-height:20px;\">\n",
       "\t\t\t\t\t\t\t\t\t\t\t\t\t\tOut[95]:\n",
       "\t\t\t\t\t\t\t\t\t\t\t\t\t</div>\n",
       "\t\t\t\t\t\t\t\t\t\t\t\t</div>\n",
       "\t\t\t\t\t\t\t\t\t\t\t\t<div class=\"grid-item\">$$&#92;&#97;&#108;&#112;&#104;&#97;&#32;&#32;&#102;&#43;&#92;&#98;&#101;&#116;&#97;&#32;&#32;&#103;&#61;&#92;&#97;&#108;&#112;&#104;&#97;&#32;&#32;&#120;&#94;&#51;&#43;&#92;&#102;&#114;&#97;&#99;&#123;&#92;&#98;&#101;&#116;&#97;&#32;&#125;&#123;&#120;&#94;&#50;&#125;$$</div><div class=\"grid-item\">\n",
       "\t\t\t\t\t\t\t\t\t\t\t\t\t<div class=\"prompt output_prompt\" style=\"text-align:left;padding:0em;padding-right:20px;line-height:20px;\">\n",
       "\t\t\t\t\t\t\t\t\t\t\t\t\t\tOut[96]:\n",
       "\t\t\t\t\t\t\t\t\t\t\t\t\t</div>\n",
       "\t\t\t\t\t\t\t\t\t\t\t\t</div>\n",
       "\t\t\t\t\t\t\t\t\t\t\t\t<div class=\"grid-item\">$$&#92;&#102;&#114;&#97;&#99;&#123;&#92;&#112;&#97;&#114;&#116;&#105;&#97;&#108;&#32;&#94;&#50;&#92;&#112;&#115;&#105;&#32;&#125;&#123;&#92;&#112;&#97;&#114;&#116;&#105;&#97;&#108;&#32;&#120;&#94;&#50;&#125;&#45;&#92;&#102;&#114;&#97;&#99;&#123;&#54;&#32;&#92;&#112;&#115;&#105;&#32;&#125;&#123;&#120;&#94;&#50;&#125;&#61;&#48;$$</div></div></div>"
      ]
     },
     "execution_count": 95,
     "metadata": {
      "text/html": []
     },
     "output_type": "execute_result"
    }
   ],
   "source": [
    "psi = alpha f + beta g;\n",
    "psi // TeX[HoldForm[alpha f + beta g], \"=\", #]&\n",
    "D[psi,{x,2}] - 6 psi/x^2 // TeXEq"
   ]
  },
  {
   "cell_type": "code",
   "execution_count": 97,
   "metadata": {},
   "outputs": [
    {
     "data": {
      "text/html": [
       "<style>\n",
       "\t\t\t\t\t\t\t\t\t\t\t.grid-container {\n",
       "\t\t\t\t\t\t\t\t\t\t\t\tdisplay: inline-grid;\n",
       "\t\t\t\t\t\t\t\t\t\t\t\tgrid-template-columns: auto auto;\n",
       "\t\t\t\t\t\t\t\t\t\t\t}\n",
       "\t\t\t\t\t\t\t\t\t\t</style>\n",
       "\n",
       "\t\t\t\t\t\t\t\t\t\t<div><div class=\"grid-container\"><div class=\"grid-item\">\n",
       "\t\t\t\t\t\t\t\t\t\t\t\t\t<div class=\"prompt output_prompt\" style=\"text-align:left;padding:0em;padding-right:20px;line-height:20px;\">\n",
       "\t\t\t\t\t\t\t\t\t\t\t\t\t\tOut[98]:\n",
       "\t\t\t\t\t\t\t\t\t\t\t\t\t</div>\n",
       "\t\t\t\t\t\t\t\t\t\t\t\t</div>\n",
       "\t\t\t\t\t\t\t\t\t\t\t\t<div class=\"grid-item\">$$&#117;&#61;&#92;&#102;&#114;&#97;&#99;&#123;&#50;&#32;&#92;&#98;&#101;&#116;&#97;&#32;&#45;&#51;&#32;&#92;&#97;&#108;&#112;&#104;&#97;&#32;&#32;&#120;&#94;&#53;&#125;&#123;&#51;&#32;&#92;&#97;&#108;&#112;&#104;&#97;&#32;&#32;&#120;&#94;&#54;&#43;&#51;&#32;&#92;&#98;&#101;&#116;&#97;&#32;&#32;&#120;&#125;$$</div><div class=\"grid-item\">\n",
       "\t\t\t\t\t\t\t\t\t\t\t\t\t<div class=\"prompt output_prompt\" style=\"text-align:left;padding:0em;padding-right:20px;line-height:20px;\">\n",
       "\t\t\t\t\t\t\t\t\t\t\t\t\t\tOut[99]:\n",
       "\t\t\t\t\t\t\t\t\t\t\t\t\t</div>\n",
       "\t\t\t\t\t\t\t\t\t\t\t\t</div>\n",
       "\t\t\t\t\t\t\t\t\t\t\t\t<div class=\"grid-item\">$$&#92;&#102;&#114;&#97;&#99;&#123;&#92;&#112;&#97;&#114;&#116;&#105;&#97;&#108;&#32;&#117;&#125;&#123;&#92;&#112;&#97;&#114;&#116;&#105;&#97;&#108;&#32;&#120;&#125;&#45;&#51;&#32;&#117;&#94;&#50;&#43;&#92;&#102;&#114;&#97;&#99;&#123;&#50;&#125;&#123;&#120;&#94;&#50;&#125;&#61;&#48;$$</div></div></div>"
      ]
     },
     "execution_count": 98,
     "metadata": {
      "text/html": []
     },
     "output_type": "execute_result"
    }
   ],
   "source": [
    "u = 1/(-3) D[psi,x]/psi;\n",
    "u // TeXEq\n",
    "D[u,x] - 3u^2 + 2/x^2 // TeXEq"
   ]
  },
  {
   "cell_type": "code",
   "execution_count": 100,
   "metadata": {},
   "outputs": [
    {
     "data": {
      "text/html": [
       "<style>\n",
       "\t\t\t\t\t\t\t\t\t\t\t.grid-container {\n",
       "\t\t\t\t\t\t\t\t\t\t\t\tdisplay: inline-grid;\n",
       "\t\t\t\t\t\t\t\t\t\t\t\tgrid-template-columns: auto auto;\n",
       "\t\t\t\t\t\t\t\t\t\t\t}\n",
       "\t\t\t\t\t\t\t\t\t\t</style>\n",
       "\n",
       "\t\t\t\t\t\t\t\t\t\t<div><div class=\"grid-container\"><div class=\"grid-item\">\n",
       "\t\t\t\t\t\t\t\t\t\t\t\t\t<div class=\"prompt output_prompt\" style=\"text-align:left;padding:0em;padding-right:20px;line-height:20px;\">\n",
       "\t\t\t\t\t\t\t\t\t\t\t\t\t\tOut[102]:\n",
       "\t\t\t\t\t\t\t\t\t\t\t\t\t</div>\n",
       "\t\t\t\t\t\t\t\t\t\t\t\t</div>\n",
       "\t\t\t\t\t\t\t\t\t\t\t\t<div class=\"grid-item\">$$&#92;&#116;&#101;&#120;&#116;&#123;&#82;&#105;&#99;&#99;&#97;&#116;&#105;&#32;&#101;&#113;&#117;&#97;&#116;&#105;&#111;&#110;&#58;&#32;&#125;&#117;&#39;&#40;&#120;&#41;&#45;&#51;&#32;&#117;&#40;&#120;&#41;&#94;&#50;&#43;&#92;&#102;&#114;&#97;&#99;&#123;&#50;&#125;&#123;&#120;&#94;&#50;&#125;&#61;&#48;$$</div><div class=\"grid-item\">\n",
       "\t\t\t\t\t\t\t\t\t\t\t\t\t<div class=\"prompt output_prompt\" style=\"text-align:left;padding:0em;padding-right:20px;line-height:20px;\">\n",
       "\t\t\t\t\t\t\t\t\t\t\t\t\t\tOut[103]:\n",
       "\t\t\t\t\t\t\t\t\t\t\t\t\t</div>\n",
       "\t\t\t\t\t\t\t\t\t\t\t\t</div>\n",
       "\t\t\t\t\t\t\t\t\t\t\t\t<div class=\"grid-item\">$$&#92;&#116;&#101;&#120;&#116;&#123;&#83;&#111;&#108;&#117;&#116;&#105;&#111;&#110;&#58;&#32;&#125;&#92;&#108;&#101;&#102;&#116;&#92;&#123;&#92;&#108;&#101;&#102;&#116;&#92;&#123;&#117;&#40;&#120;&#41;&#92;&#116;&#111;&#32;&#45;&#92;&#102;&#114;&#97;&#99;&#123;&#51;&#32;&#120;&#94;&#53;&#45;&#50;&#32;&#99;&#95;&#49;&#125;&#123;&#51;&#32;&#99;&#95;&#49;&#32;&#120;&#43;&#51;&#32;&#120;&#94;&#54;&#125;&#92;&#114;&#105;&#103;&#104;&#116;&#92;&#125;&#92;&#114;&#105;&#103;&#104;&#116;&#92;&#125;$$</div></div></div>"
      ]
     },
     "execution_count": 102,
     "metadata": {
      "text/html": []
     },
     "output_type": "execute_result"
    }
   ],
   "source": [
    "Clear[a,b,c,f,g,p,q,u,w,x,alpha,beta,dphi,phi,psi,L,R]\n",
    "R = u'[x] - 3 u[x]^2 + 2/x^2;\n",
    "R == 0 // TeX[\"Riccati equation: \",#]&\n",
    "DSolve[R==0, u[x], x] // Simplify // TeX[\"Solution: \",#]&"
   ]
  },
  {
   "cell_type": "markdown",
   "metadata": {},
   "source": [
    "**例:** 帰着する先の2階の線形常微分方程式がLegendre方程式になる場合.\n",
    "\n",
    "* https://reference.wolfram.com/language/tutorial/DSolveRiccatiEquations.html より."
   ]
  },
  {
   "cell_type": "code",
   "execution_count": 104,
   "metadata": {},
   "outputs": [
    {
     "data": {
      "text/html": [
       "<div>$$&#92;&#116;&#101;&#120;&#116;&#123;&#82;&#105;&#99;&#99;&#97;&#116;&#105;&#32;&#101;&#113;&#117;&#97;&#116;&#105;&#111;&#110;&#58;&#32;&#125;&#117;&#39;&#40;&#120;&#41;&#43;&#92;&#102;&#114;&#97;&#99;&#123;&#50;&#32;&#120;&#32;&#117;&#40;&#120;&#41;&#125;&#123;&#120;&#94;&#50;&#45;&#49;&#125;&#43;&#117;&#40;&#120;&#41;&#94;&#50;&#43;&#92;&#102;&#114;&#97;&#99;&#123;&#49;&#53;&#125;&#123;&#52;&#32;&#92;&#108;&#101;&#102;&#116;&#40;&#49;&#45;&#120;&#94;&#50;&#92;&#114;&#105;&#103;&#104;&#116;&#41;&#125;&#61;&#48;$$</div>"
      ]
     },
     "execution_count": 106,
     "metadata": {
      "text/html": []
     },
     "output_type": "execute_result"
    }
   ],
   "source": [
    "Clear[a,b,c,f,g,p,q,u,w,x,alpha,beta,dphi,phi,psi,L,R]\n",
    "R = u'[x] + u[x]^2 + (2 x)/(x^2-1) u[x] + (15/4)/(1 - x^2);\n",
    "R == 0 // TeX[\"Riccati equation: \",#]&"
   ]
  },
  {
   "cell_type": "code",
   "execution_count": 107,
   "metadata": {},
   "outputs": [
    {
     "data": {
      "text/html": [
       "<div><img alt=\"Output\" src=\"data:image/png;base64,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\" width=\"732\"></div>"
      ]
     },
     "execution_count": 107,
     "metadata": {
      "text/html": []
     },
     "output_type": "execute_result"
    }
   ],
   "source": [
    "sol = DSolve[R==0, u[x], x] // Simplify"
   ]
  },
  {
   "cell_type": "code",
   "execution_count": 108,
   "metadata": {},
   "outputs": [
    {
     "data": {
      "text/html": [
       "<div>$$&#92;&#116;&#101;&#120;&#116;&#123;&#83;&#111;&#108;&#117;&#116;&#105;&#111;&#110;&#58;&#32;&#125;&#117;&#61;&#92;&#102;&#114;&#97;&#99;&#123;&#53;&#32;&#92;&#108;&#101;&#102;&#116;&#40;&#99;&#95;&#49;&#32;&#40;&#45;&#120;&#41;&#32;&#80;&#95;&#123;&#92;&#102;&#114;&#97;&#99;&#123;&#51;&#125;&#123;&#50;&#125;&#125;&#40;&#120;&#41;&#43;&#99;&#95;&#49;&#32;&#80;&#95;&#123;&#92;&#102;&#114;&#97;&#99;&#123;&#53;&#125;&#123;&#50;&#125;&#125;&#40;&#120;&#41;&#45;&#120;&#32;&#81;&#95;&#123;&#92;&#102;&#114;&#97;&#99;&#123;&#51;&#125;&#123;&#50;&#125;&#125;&#40;&#120;&#41;&#43;&#81;&#95;&#123;&#92;&#102;&#114;&#97;&#99;&#123;&#53;&#125;&#123;&#50;&#125;&#125;&#40;&#120;&#41;&#92;&#114;&#105;&#103;&#104;&#116;&#41;&#125;&#123;&#50;&#32;&#92;&#108;&#101;&#102;&#116;&#40;&#120;&#94;&#50;&#45;&#49;&#92;&#114;&#105;&#103;&#104;&#116;&#41;&#32;&#92;&#108;&#101;&#102;&#116;&#40;&#99;&#95;&#49;&#32;&#80;&#95;&#123;&#92;&#102;&#114;&#97;&#99;&#123;&#51;&#125;&#123;&#50;&#125;&#125;&#40;&#120;&#41;&#43;&#81;&#95;&#123;&#92;&#102;&#114;&#97;&#99;&#123;&#51;&#125;&#123;&#50;&#125;&#125;&#40;&#120;&#41;&#92;&#114;&#105;&#103;&#104;&#116;&#41;&#125;$$</div>"
      ]
     },
     "execution_count": 108,
     "metadata": {
      "text/html": []
     },
     "output_type": "execute_result"
    }
   ],
   "source": [
    "u[x]/.sol[[1]][[1]] // TeXRaw[TeX[\"Solution: \"], \"u=\", #]&"
   ]
  },
  {
   "cell_type": "markdown",
   "metadata": {},
   "source": [
    "#### Riccati方程式の解が1つ分かっている場合\n",
    "\n",
    "$$\n",
    "p=b-\\frac{a'}{a}, \\quad q=ac\n",
    "$$\n",
    "\n",
    "とおき, Riccati方程式\n",
    "\n",
    "$$\n",
    "u' + au^2 + bu + c = 0\n",
    "\\tag{$*$}\n",
    "$$\n",
    "\n",
    "の解 \n",
    "\n",
    "$$\n",
    "u = \\frac{1}{a}\\frac{f'}{f}\n",
    "$$\n",
    "が1つ分かっていると仮定する. ここで $f$ は $\\psi$ に関する線形常微分方程式\n",
    "\n",
    "$$\n",
    "(\\d^2+p\\d+q)\\psi = 0\n",
    "\\tag{$**$}\n",
    "$$\n",
    "\n",
    "の $0$ でない解である.  この線形常微分方程式の $f$ と一次独立な解 $g$ を\n",
    "\n",
    "$$\n",
    "\\begin{aligned}\n",
    "&\n",
    "\\phi = \\int\\frac{1}{f^2}e^{-\\int p\\,dx}\\,dx =\n",
    "\\int\\frac{a}{f^2}e^{-\\int b\\,dx}\\,dx, \n",
    "\\\\ &\n",
    "g = \\phi f = f\\int\\frac{a}{f^2}e^{-\\int b\\,dx}\\,dx\n",
    "\\end{aligned}\n",
    "$$\n",
    "\n",
    "によって構成できる. \n",
    "\n",
    "ゆえに, Riccati方程式 ($*$) のすべての解は, 線形常微分方程式 ($**$) の $0$ でないある解\n",
    "\n",
    "$$\n",
    "\\psi = \\alpha f + \\beta g =\n",
    "f\\cdot\\left(\\alpha + \\beta \\phi \\right) =\n",
    "f\\cdot\\left(\\alpha + \\beta \\int\\frac{a}{f^2}e^{-\\int b\\,dx}\\,dx \\right)\n",
    "$$\n",
    "\n",
    "によって, \n",
    "\n",
    "$$\n",
    "u = \\frac{1}{a}\\frac{\\psi'}{\\psi} = \\frac{1}{a}(\\log\\psi)' =\n",
    "\\frac{1}{a}\\frac{f'}{f} + \n",
    "\\frac{\\beta(1/f^2)e^{-\\int b\\,dx}}{\\alpha + \\beta \\int(a/f^2)e^{-\\int b\\,dx}\\,dx}\n",
    "$$\n",
    "\n",
    "と表わされる."
   ]
  },
  {
   "cell_type": "markdown",
   "metadata": {},
   "source": [
    "コンピューターによる以上の結果の確認."
   ]
  },
  {
   "cell_type": "code",
   "execution_count": 109,
   "metadata": {},
   "outputs": [
    {
     "data": {
      "text/html": [
       "<style>\n",
       "\t\t\t\t\t\t\t\t\t\t\t.grid-container {\n",
       "\t\t\t\t\t\t\t\t\t\t\t\tdisplay: inline-grid;\n",
       "\t\t\t\t\t\t\t\t\t\t\t\tgrid-template-columns: auto auto;\n",
       "\t\t\t\t\t\t\t\t\t\t\t}\n",
       "\t\t\t\t\t\t\t\t\t\t</style>\n",
       "\n",
       "\t\t\t\t\t\t\t\t\t\t<div><div class=\"grid-container\"><div class=\"grid-item\">\n",
       "\t\t\t\t\t\t\t\t\t\t\t\t\t<div class=\"prompt output_prompt\" style=\"text-align:left;padding:0em;padding-right:20px;line-height:20px;\">\n",
       "\t\t\t\t\t\t\t\t\t\t\t\t\t\tOut[111]:\n",
       "\t\t\t\t\t\t\t\t\t\t\t\t\t</div>\n",
       "\t\t\t\t\t\t\t\t\t\t\t\t</div>\n",
       "\t\t\t\t\t\t\t\t\t\t\t\t<div class=\"grid-item\">$$&#112;&#61;&#98;&#40;&#120;&#41;&#45;&#92;&#102;&#114;&#97;&#99;&#123;&#97;&#39;&#40;&#120;&#41;&#125;&#123;&#97;&#40;&#120;&#41;&#125;$$</div><div class=\"grid-item\">\n",
       "\t\t\t\t\t\t\t\t\t\t\t\t\t<div class=\"prompt output_prompt\" style=\"text-align:left;padding:0em;padding-right:20px;line-height:20px;\">\n",
       "\t\t\t\t\t\t\t\t\t\t\t\t\t\tOut[113]:\n",
       "\t\t\t\t\t\t\t\t\t\t\t\t\t</div>\n",
       "\t\t\t\t\t\t\t\t\t\t\t\t</div>\n",
       "\t\t\t\t\t\t\t\t\t\t\t\t<div class=\"grid-item\">$$&#113;&#61;&#97;&#40;&#120;&#41;&#32;&#99;&#40;&#120;&#41;$$</div><div class=\"grid-item\">\n",
       "\t\t\t\t\t\t\t\t\t\t\t\t\t<div class=\"prompt output_prompt\" style=\"text-align:left;padding:0em;padding-right:20px;line-height:20px;\">\n",
       "\t\t\t\t\t\t\t\t\t\t\t\t\t\tOut[115]:\n",
       "\t\t\t\t\t\t\t\t\t\t\t\t\t</div>\n",
       "\t\t\t\t\t\t\t\t\t\t\t\t</div>\n",
       "\t\t\t\t\t\t\t\t\t\t\t\t<div class=\"grid-item\">$$&#102;&#39;&#39;&#40;&#120;&#41;&#92;&#116;&#111;&#32;&#45;&#102;&#39;&#40;&#120;&#41;&#32;&#92;&#108;&#101;&#102;&#116;&#40;&#98;&#40;&#120;&#41;&#45;&#92;&#102;&#114;&#97;&#99;&#123;&#97;&#39;&#40;&#120;&#41;&#125;&#123;&#97;&#40;&#120;&#41;&#125;&#92;&#114;&#105;&#103;&#104;&#116;&#41;&#45;&#97;&#40;&#120;&#41;&#32;&#99;&#40;&#120;&#41;&#32;&#102;&#40;&#120;&#41;$$</div></div></div>"
      ]
     },
     "execution_count": 111,
     "metadata": {
      "text/html": []
     },
     "output_type": "execute_result"
    }
   ],
   "source": [
    "Clear[a,b,c,f,g,p,q,u,w,x,alpha,beta,dphi,phi,psi,L,R]\n",
    "p = b[x] - a'[x]/a[x];\n",
    "p // TeXEq\n",
    "q = a[x]c[x];\n",
    "q // TeXEq\n",
    "rulef = f''[x] -> -p f'[x] -q f[x];\n",
    "rulef // TeX"
   ]
  },
  {
   "cell_type": "code",
   "execution_count": 116,
   "metadata": {},
   "outputs": [
    {
     "data": {
      "text/html": [
       "<style>\n",
       "\t\t\t\t\t\t\t\t\t\t\t.grid-container {\n",
       "\t\t\t\t\t\t\t\t\t\t\t\tdisplay: inline-grid;\n",
       "\t\t\t\t\t\t\t\t\t\t\t\tgrid-template-columns: auto auto;\n",
       "\t\t\t\t\t\t\t\t\t\t\t}\n",
       "\t\t\t\t\t\t\t\t\t\t</style>\n",
       "\n",
       "\t\t\t\t\t\t\t\t\t\t<div><div class=\"grid-container\"><div class=\"grid-item\">\n",
       "\t\t\t\t\t\t\t\t\t\t\t\t\t<div class=\"prompt output_prompt\" style=\"text-align:left;padding:0em;padding-right:20px;line-height:20px;\">\n",
       "\t\t\t\t\t\t\t\t\t\t\t\t\t\tOut[117]:\n",
       "\t\t\t\t\t\t\t\t\t\t\t\t\t</div>\n",
       "\t\t\t\t\t\t\t\t\t\t\t\t</div>\n",
       "\t\t\t\t\t\t\t\t\t\t\t\t<div class=\"grid-item\">$$&#92;&#112;&#104;&#105;&#39;&#61;&#92;&#102;&#114;&#97;&#99;&#123;&#97;&#40;&#120;&#41;&#32;&#101;&#94;&#123;&#45;&#92;&#105;&#110;&#116;&#32;&#98;&#40;&#120;&#41;&#32;&#92;&#44;&#32;&#100;&#120;&#125;&#125;&#123;&#102;&#40;&#120;&#41;&#94;&#50;&#125;$$</div><div class=\"grid-item\">\n",
       "\t\t\t\t\t\t\t\t\t\t\t\t\t<div class=\"prompt output_prompt\" style=\"text-align:left;padding:0em;padding-right:20px;line-height:20px;\">\n",
       "\t\t\t\t\t\t\t\t\t\t\t\t\t\tOut[119]:\n",
       "\t\t\t\t\t\t\t\t\t\t\t\t\t</div>\n",
       "\t\t\t\t\t\t\t\t\t\t\t\t</div>\n",
       "\t\t\t\t\t\t\t\t\t\t\t\t<div class=\"grid-item\">$$&#92;&#112;&#104;&#105;&#61;&#92;&#105;&#110;&#116;&#32;&#92;&#102;&#114;&#97;&#99;&#123;&#97;&#40;&#120;&#41;&#32;&#101;&#94;&#123;&#45;&#92;&#105;&#110;&#116;&#32;&#98;&#40;&#120;&#41;&#32;&#92;&#44;&#32;&#100;&#120;&#125;&#125;&#123;&#102;&#40;&#120;&#41;&#94;&#50;&#125;&#32;&#92;&#44;&#32;&#100;&#120;$$</div><div class=\"grid-item\">\n",
       "\t\t\t\t\t\t\t\t\t\t\t\t\t<div class=\"prompt output_prompt\" style=\"text-align:left;padding:0em;padding-right:20px;line-height:20px;\">\n",
       "\t\t\t\t\t\t\t\t\t\t\t\t\t\tOut[121]:\n",
       "\t\t\t\t\t\t\t\t\t\t\t\t\t</div>\n",
       "\t\t\t\t\t\t\t\t\t\t\t\t</div>\n",
       "\t\t\t\t\t\t\t\t\t\t\t\t<div class=\"grid-item\">$$&#103;&#61;&#102;&#40;&#120;&#41;&#32;&#92;&#105;&#110;&#116;&#32;&#92;&#102;&#114;&#97;&#99;&#123;&#97;&#40;&#120;&#41;&#32;&#101;&#94;&#123;&#45;&#92;&#105;&#110;&#116;&#32;&#98;&#40;&#120;&#41;&#32;&#92;&#44;&#32;&#100;&#120;&#125;&#125;&#123;&#102;&#40;&#120;&#41;&#94;&#50;&#125;&#32;&#92;&#44;&#32;&#100;&#120;$$</div></div></div>"
      ]
     },
     "execution_count": 117,
     "metadata": {
      "text/html": []
     },
     "output_type": "execute_result"
    }
   ],
   "source": [
    "dphi = a[x]/f[x]^2 Exp[-Integrate[b[x], x]];\n",
    "dphi // TeXRaw[\"\\phi'=\",#]&\n",
    "phi = Integrate[dphi, x];\n",
    "phi // TeXRaw[\"\\phi=\",#]&\n",
    "g = f[x] phi;\n",
    "g // TeXEq"
   ]
  },
  {
   "cell_type": "code",
   "execution_count": 122,
   "metadata": {},
   "outputs": [
    {
     "data": {
      "text/html": [
       "<style>\n",
       "\t\t\t\t\t\t\t\t\t\t\t.grid-container {\n",
       "\t\t\t\t\t\t\t\t\t\t\t\tdisplay: inline-grid;\n",
       "\t\t\t\t\t\t\t\t\t\t\t\tgrid-template-columns: auto auto;\n",
       "\t\t\t\t\t\t\t\t\t\t\t}\n",
       "\t\t\t\t\t\t\t\t\t\t</style>\n",
       "\n",
       "\t\t\t\t\t\t\t\t\t\t<div><div class=\"grid-container\"><div class=\"grid-item\">\n",
       "\t\t\t\t\t\t\t\t\t\t\t\t\t<div class=\"prompt output_prompt\" style=\"text-align:left;padding:0em;padding-right:20px;line-height:20px;\">\n",
       "\t\t\t\t\t\t\t\t\t\t\t\t\t\tOut[123]:\n",
       "\t\t\t\t\t\t\t\t\t\t\t\t\t</div>\n",
       "\t\t\t\t\t\t\t\t\t\t\t\t</div>\n",
       "\t\t\t\t\t\t\t\t\t\t\t\t<div class=\"grid-item\">$$&#92;&#102;&#114;&#97;&#99;&#123;&#92;&#112;&#97;&#114;&#116;&#105;&#97;&#108;&#32;&#94;&#50;&#103;&#125;&#123;&#92;&#112;&#97;&#114;&#116;&#105;&#97;&#108;&#32;&#120;&#94;&#50;&#125;&#43;&#112;&#32;&#92;&#102;&#114;&#97;&#99;&#123;&#92;&#112;&#97;&#114;&#116;&#105;&#97;&#108;&#32;&#103;&#125;&#123;&#92;&#112;&#97;&#114;&#116;&#105;&#97;&#108;&#32;&#120;&#125;&#43;&#113;&#32;&#103;&#61;&#92;&#108;&#101;&#102;&#116;&#40;&#92;&#105;&#110;&#116;&#32;&#92;&#102;&#114;&#97;&#99;&#123;&#97;&#40;&#120;&#41;&#32;&#101;&#94;&#123;&#45;&#92;&#105;&#110;&#116;&#32;&#98;&#40;&#120;&#41;&#32;&#92;&#44;&#32;&#100;&#120;&#125;&#125;&#123;&#102;&#40;&#120;&#41;&#94;&#50;&#125;&#32;&#92;&#44;&#32;&#100;&#120;&#92;&#114;&#105;&#103;&#104;&#116;&#41;&#32;&#92;&#108;&#101;&#102;&#116;&#40;&#45;&#92;&#102;&#114;&#97;&#99;&#123;&#97;&#39;&#40;&#120;&#41;&#32;&#102;&#39;&#40;&#120;&#41;&#125;&#123;&#97;&#40;&#120;&#41;&#125;&#43;&#97;&#40;&#120;&#41;&#32;&#99;&#40;&#120;&#41;&#32;&#102;&#40;&#120;&#41;&#43;&#98;&#40;&#120;&#41;&#32;&#102;&#39;&#40;&#120;&#41;&#43;&#102;&#39;&#39;&#40;&#120;&#41;&#92;&#114;&#105;&#103;&#104;&#116;&#41;$$</div><div class=\"grid-item\">\n",
       "\t\t\t\t\t\t\t\t\t\t\t\t\t<div class=\"prompt output_prompt\" style=\"text-align:left;padding:0em;padding-right:20px;line-height:20px;\">\n",
       "\t\t\t\t\t\t\t\t\t\t\t\t\t\tOut[124]:\n",
       "\t\t\t\t\t\t\t\t\t\t\t\t\t</div>\n",
       "\t\t\t\t\t\t\t\t\t\t\t\t</div>\n",
       "\t\t\t\t\t\t\t\t\t\t\t\t<div class=\"grid-item\">$$&#92;&#116;&#101;&#120;&#116;&#123;&#82;&#72;&#83;&#32;&#61;&#32;&#125;&#48;$$</div></div></div>"
      ]
     },
     "execution_count": 123,
     "metadata": {
      "text/html": []
     },
     "output_type": "execute_result"
    }
   ],
   "source": [
    "L = Expand[(D[g,{x,2}] + p D[g,x] + q g)/phi]*phi;\n",
    "L // TeX[HoldForm[D[g,{x,2}] + p D[g,x] + q g],\"=\",#]&\n",
    "L/.rulef // Simplify // TeX[\"RHS = \",#]&"
   ]
  },
  {
   "cell_type": "code",
   "execution_count": 125,
   "metadata": {},
   "outputs": [
    {
     "data": {
      "text/html": [
       "<style>\n",
       "\t\t\t\t\t\t\t\t\t\t\t.grid-container {\n",
       "\t\t\t\t\t\t\t\t\t\t\t\tdisplay: inline-grid;\n",
       "\t\t\t\t\t\t\t\t\t\t\t\tgrid-template-columns: auto auto;\n",
       "\t\t\t\t\t\t\t\t\t\t\t}\n",
       "\t\t\t\t\t\t\t\t\t\t</style>\n",
       "\n",
       "\t\t\t\t\t\t\t\t\t\t<div><div class=\"grid-container\"><div class=\"grid-item\">\n",
       "\t\t\t\t\t\t\t\t\t\t\t\t\t<div class=\"prompt output_prompt\" style=\"text-align:left;padding:0em;padding-right:20px;line-height:20px;\">\n",
       "\t\t\t\t\t\t\t\t\t\t\t\t\t\tOut[126]:\n",
       "\t\t\t\t\t\t\t\t\t\t\t\t\t</div>\n",
       "\t\t\t\t\t\t\t\t\t\t\t\t</div>\n",
       "\t\t\t\t\t\t\t\t\t\t\t\t<div class=\"grid-item\">$$&#117;&#61;&#92;&#102;&#114;&#97;&#99;&#123;&#92;&#98;&#101;&#116;&#97;&#32;&#32;&#101;&#94;&#123;&#45;&#92;&#105;&#110;&#116;&#32;&#98;&#40;&#120;&#41;&#32;&#92;&#44;&#32;&#100;&#120;&#125;&#125;&#123;&#102;&#40;&#120;&#41;&#94;&#50;&#32;&#92;&#108;&#101;&#102;&#116;&#40;&#92;&#98;&#101;&#116;&#97;&#32;&#32;&#92;&#105;&#110;&#116;&#32;&#92;&#102;&#114;&#97;&#99;&#123;&#97;&#40;&#120;&#41;&#32;&#101;&#94;&#123;&#45;&#92;&#105;&#110;&#116;&#32;&#98;&#40;&#120;&#41;&#32;&#92;&#44;&#32;&#100;&#120;&#125;&#125;&#123;&#102;&#40;&#120;&#41;&#94;&#50;&#125;&#32;&#92;&#44;&#32;&#100;&#120;&#43;&#92;&#97;&#108;&#112;&#104;&#97;&#32;&#92;&#114;&#105;&#103;&#104;&#116;&#41;&#125;&#43;&#92;&#102;&#114;&#97;&#99;&#123;&#102;&#39;&#40;&#120;&#41;&#125;&#123;&#97;&#40;&#120;&#41;&#32;&#102;&#40;&#120;&#41;&#125;$$</div><div class=\"grid-item\">\n",
       "\t\t\t\t\t\t\t\t\t\t\t\t\t<div class=\"prompt output_prompt\" style=\"text-align:left;padding:0em;padding-right:20px;line-height:20px;\">\n",
       "\t\t\t\t\t\t\t\t\t\t\t\t\t\tOut[128]:\n",
       "\t\t\t\t\t\t\t\t\t\t\t\t\t</div>\n",
       "\t\t\t\t\t\t\t\t\t\t\t\t</div>\n",
       "\t\t\t\t\t\t\t\t\t\t\t\t<div class=\"grid-item\">$$&#97;&#40;&#120;&#41;&#32;&#102;&#40;&#120;&#41;&#32;&#92;&#108;&#101;&#102;&#116;&#40;&#92;&#102;&#114;&#97;&#99;&#123;&#92;&#112;&#97;&#114;&#116;&#105;&#97;&#108;&#32;&#117;&#125;&#123;&#92;&#112;&#97;&#114;&#116;&#105;&#97;&#108;&#32;&#120;&#125;&#43;&#97;&#40;&#120;&#41;&#32;&#117;&#94;&#50;&#43;&#98;&#40;&#120;&#41;&#32;&#117;&#43;&#99;&#40;&#120;&#41;&#92;&#114;&#105;&#103;&#104;&#116;&#41;&#61;&#45;&#92;&#102;&#114;&#97;&#99;&#123;&#97;&#39;&#40;&#120;&#41;&#32;&#102;&#39;&#40;&#120;&#41;&#125;&#123;&#97;&#40;&#120;&#41;&#125;&#43;&#97;&#40;&#120;&#41;&#32;&#99;&#40;&#120;&#41;&#32;&#102;&#40;&#120;&#41;&#43;&#98;&#40;&#120;&#41;&#32;&#102;&#39;&#40;&#120;&#41;&#43;&#102;&#39;&#39;&#40;&#120;&#41;$$</div><div class=\"grid-item\">\n",
       "\t\t\t\t\t\t\t\t\t\t\t\t\t<div class=\"prompt output_prompt\" style=\"text-align:left;padding:0em;padding-right:20px;line-height:20px;\">\n",
       "\t\t\t\t\t\t\t\t\t\t\t\t\t\tOut[129]:\n",
       "\t\t\t\t\t\t\t\t\t\t\t\t\t</div>\n",
       "\t\t\t\t\t\t\t\t\t\t\t\t</div>\n",
       "\t\t\t\t\t\t\t\t\t\t\t\t<div class=\"grid-item\">$$&#92;&#116;&#101;&#120;&#116;&#123;&#82;&#72;&#83;&#32;&#61;&#32;&#125;&#48;$$</div></div></div>"
      ]
     },
     "execution_count": 126,
     "metadata": {
      "text/html": []
     },
     "output_type": "execute_result"
    }
   ],
   "source": [
    "u = 1/a[x] D[alpha f[x]+beta g,x]/(alpha f[x]+beta g);\n",
    "u // HoldForm // TeXEq[#, Simplify, Expand]&\n",
    "R = Expand[Simplify[D[u,x] + a[x] u^2 + b[x]u + c[x]]a[x]f[x]];\n",
    "R // TeX[HoldForm[D[u,x] + a[x] u^2 + b[x]u + c[x]]a[x]f[x],\"=\",#]&\n",
    "R /.rulef // Simplify // TeX[\"RHS = \",#]&"
   ]
  },
  {
   "cell_type": "markdown",
   "metadata": {},
   "source": [
    "$a=1$ の易しい場合のコンピューターによる以上の結果の確認. ただし, $b,c$ を $p,q$ と書く."
   ]
  },
  {
   "cell_type": "code",
   "execution_count": 130,
   "metadata": {},
   "outputs": [
    {
     "data": {
      "text/html": [
       "<div>$$&#102;&#39;&#39;&#40;&#120;&#41;&#92;&#116;&#111;&#32;&#45;&#112;&#40;&#120;&#41;&#32;&#102;&#39;&#40;&#120;&#41;&#45;&#102;&#40;&#120;&#41;&#32;&#113;&#40;&#120;&#41;$$</div>"
      ]
     },
     "execution_count": 132,
     "metadata": {
      "text/html": []
     },
     "output_type": "execute_result"
    }
   ],
   "source": [
    "Clear[a,b,c,f,g,p,q,u,w,x,alpha,beta,dphi,phi,psi,L,R]\n",
    "rulef = f''[x] -> -p[x]f'[x]-q[x]f[x];\n",
    "rulef // TeX"
   ]
  },
  {
   "cell_type": "code",
   "execution_count": 133,
   "metadata": {},
   "outputs": [
    {
     "data": {
      "text/html": [
       "<style>\n",
       "\t\t\t\t\t\t\t\t\t\t\t.grid-container {\n",
       "\t\t\t\t\t\t\t\t\t\t\t\tdisplay: inline-grid;\n",
       "\t\t\t\t\t\t\t\t\t\t\t\tgrid-template-columns: auto auto;\n",
       "\t\t\t\t\t\t\t\t\t\t\t}\n",
       "\t\t\t\t\t\t\t\t\t\t</style>\n",
       "\n",
       "\t\t\t\t\t\t\t\t\t\t<div><div class=\"grid-container\"><div class=\"grid-item\">\n",
       "\t\t\t\t\t\t\t\t\t\t\t\t\t<div class=\"prompt output_prompt\" style=\"text-align:left;padding:0em;padding-right:20px;line-height:20px;\">\n",
       "\t\t\t\t\t\t\t\t\t\t\t\t\t\tOut[134]:\n",
       "\t\t\t\t\t\t\t\t\t\t\t\t\t</div>\n",
       "\t\t\t\t\t\t\t\t\t\t\t\t</div>\n",
       "\t\t\t\t\t\t\t\t\t\t\t\t<div class=\"grid-item\">$$&#92;&#112;&#104;&#105;&#39;&#61;&#92;&#102;&#114;&#97;&#99;&#123;&#101;&#94;&#123;&#45;&#92;&#105;&#110;&#116;&#32;&#112;&#40;&#120;&#41;&#32;&#92;&#44;&#32;&#100;&#120;&#125;&#125;&#123;&#102;&#40;&#120;&#41;&#94;&#50;&#125;$$</div><div class=\"grid-item\">\n",
       "\t\t\t\t\t\t\t\t\t\t\t\t\t<div class=\"prompt output_prompt\" style=\"text-align:left;padding:0em;padding-right:20px;line-height:20px;\">\n",
       "\t\t\t\t\t\t\t\t\t\t\t\t\t\tOut[136]:\n",
       "\t\t\t\t\t\t\t\t\t\t\t\t\t</div>\n",
       "\t\t\t\t\t\t\t\t\t\t\t\t</div>\n",
       "\t\t\t\t\t\t\t\t\t\t\t\t<div class=\"grid-item\">$$&#92;&#112;&#104;&#105;&#61;&#92;&#105;&#110;&#116;&#32;&#92;&#102;&#114;&#97;&#99;&#123;&#101;&#94;&#123;&#45;&#92;&#105;&#110;&#116;&#32;&#112;&#40;&#120;&#41;&#32;&#92;&#44;&#32;&#100;&#120;&#125;&#125;&#123;&#102;&#40;&#120;&#41;&#94;&#50;&#125;&#32;&#92;&#44;&#32;&#100;&#120;$$</div><div class=\"grid-item\">\n",
       "\t\t\t\t\t\t\t\t\t\t\t\t\t<div class=\"prompt output_prompt\" style=\"text-align:left;padding:0em;padding-right:20px;line-height:20px;\">\n",
       "\t\t\t\t\t\t\t\t\t\t\t\t\t\tOut[138]:\n",
       "\t\t\t\t\t\t\t\t\t\t\t\t\t</div>\n",
       "\t\t\t\t\t\t\t\t\t\t\t\t</div>\n",
       "\t\t\t\t\t\t\t\t\t\t\t\t<div class=\"grid-item\">$$&#103;&#61;&#102;&#40;&#120;&#41;&#32;&#92;&#105;&#110;&#116;&#32;&#92;&#102;&#114;&#97;&#99;&#123;&#101;&#94;&#123;&#45;&#92;&#105;&#110;&#116;&#32;&#112;&#40;&#120;&#41;&#32;&#92;&#44;&#32;&#100;&#120;&#125;&#125;&#123;&#102;&#40;&#120;&#41;&#94;&#50;&#125;&#32;&#92;&#44;&#32;&#100;&#120;$$</div></div></div>"
      ]
     },
     "execution_count": 134,
     "metadata": {
      "text/html": []
     },
     "output_type": "execute_result"
    }
   ],
   "source": [
    "dphi = 1/f[x]^2 Exp[-Integrate[p[x], x]];\n",
    "dphi // TeXRaw[\"\\phi'=\",#]&\n",
    "phi = Integrate[dphi, x];\n",
    "phi // TeXRaw[\"\\phi=\",#]&\n",
    "g = f[x] phi;\n",
    "g // TeXRaw[\"g=\",#]&"
   ]
  },
  {
   "cell_type": "code",
   "execution_count": 139,
   "metadata": {},
   "outputs": [
    {
     "data": {
      "text/html": [
       "<style>\n",
       "\t\t\t\t\t\t\t\t\t\t\t.grid-container {\n",
       "\t\t\t\t\t\t\t\t\t\t\t\tdisplay: inline-grid;\n",
       "\t\t\t\t\t\t\t\t\t\t\t\tgrid-template-columns: auto auto;\n",
       "\t\t\t\t\t\t\t\t\t\t\t}\n",
       "\t\t\t\t\t\t\t\t\t\t</style>\n",
       "\n",
       "\t\t\t\t\t\t\t\t\t\t<div><div class=\"grid-container\"><div class=\"grid-item\">\n",
       "\t\t\t\t\t\t\t\t\t\t\t\t\t<div class=\"prompt output_prompt\" style=\"text-align:left;padding:0em;padding-right:20px;line-height:20px;\">\n",
       "\t\t\t\t\t\t\t\t\t\t\t\t\t\tOut[140]:\n",
       "\t\t\t\t\t\t\t\t\t\t\t\t\t</div>\n",
       "\t\t\t\t\t\t\t\t\t\t\t\t</div>\n",
       "\t\t\t\t\t\t\t\t\t\t\t\t<div class=\"grid-item\">$$&#92;&#102;&#114;&#97;&#99;&#123;&#92;&#112;&#97;&#114;&#116;&#105;&#97;&#108;&#32;&#94;&#50;&#103;&#125;&#123;&#92;&#112;&#97;&#114;&#116;&#105;&#97;&#108;&#32;&#120;&#94;&#50;&#125;&#43;&#112;&#40;&#120;&#41;&#32;&#92;&#102;&#114;&#97;&#99;&#123;&#92;&#112;&#97;&#114;&#116;&#105;&#97;&#108;&#32;&#103;&#125;&#123;&#92;&#112;&#97;&#114;&#116;&#105;&#97;&#108;&#32;&#120;&#125;&#43;&#113;&#40;&#120;&#41;&#32;&#103;&#61;&#92;&#108;&#101;&#102;&#116;&#40;&#92;&#105;&#110;&#116;&#32;&#92;&#102;&#114;&#97;&#99;&#123;&#101;&#94;&#123;&#45;&#92;&#105;&#110;&#116;&#32;&#112;&#40;&#120;&#41;&#32;&#92;&#44;&#32;&#100;&#120;&#125;&#125;&#123;&#102;&#40;&#120;&#41;&#94;&#50;&#125;&#32;&#92;&#44;&#32;&#100;&#120;&#92;&#114;&#105;&#103;&#104;&#116;&#41;&#32;&#92;&#108;&#101;&#102;&#116;&#40;&#102;&#39;&#39;&#40;&#120;&#41;&#43;&#112;&#40;&#120;&#41;&#32;&#102;&#39;&#40;&#120;&#41;&#43;&#102;&#40;&#120;&#41;&#32;&#113;&#40;&#120;&#41;&#92;&#114;&#105;&#103;&#104;&#116;&#41;$$</div><div class=\"grid-item\">\n",
       "\t\t\t\t\t\t\t\t\t\t\t\t\t<div class=\"prompt output_prompt\" style=\"text-align:left;padding:0em;padding-right:20px;line-height:20px;\">\n",
       "\t\t\t\t\t\t\t\t\t\t\t\t\t\tOut[141]:\n",
       "\t\t\t\t\t\t\t\t\t\t\t\t\t</div>\n",
       "\t\t\t\t\t\t\t\t\t\t\t\t</div>\n",
       "\t\t\t\t\t\t\t\t\t\t\t\t<div class=\"grid-item\">$$&#92;&#116;&#101;&#120;&#116;&#123;&#82;&#72;&#83;&#32;&#61;&#32;&#125;&#48;$$</div></div></div>"
      ]
     },
     "execution_count": 140,
     "metadata": {
      "text/html": []
     },
     "output_type": "execute_result"
    }
   ],
   "source": [
    "L = D[g,{x,2}] + p[x] D[g,x] + q[x] g // Simplify;\n",
    "L // TeX[HoldForm[D[g,{x,2}] + p[x] D[g,x] + q[x] g],\"=\",#]&\n",
    "L/.rulef // TeX[\"RHS = \",#]&"
   ]
  },
  {
   "cell_type": "code",
   "execution_count": 142,
   "metadata": {},
   "outputs": [
    {
     "data": {
      "text/html": [
       "<style>\n",
       "\t\t\t\t\t\t\t\t\t\t\t.grid-container {\n",
       "\t\t\t\t\t\t\t\t\t\t\t\tdisplay: inline-grid;\n",
       "\t\t\t\t\t\t\t\t\t\t\t\tgrid-template-columns: auto auto;\n",
       "\t\t\t\t\t\t\t\t\t\t\t}\n",
       "\t\t\t\t\t\t\t\t\t\t</style>\n",
       "\n",
       "\t\t\t\t\t\t\t\t\t\t<div><div class=\"grid-container\"><div class=\"grid-item\">\n",
       "\t\t\t\t\t\t\t\t\t\t\t\t\t<div class=\"prompt output_prompt\" style=\"text-align:left;padding:0em;padding-right:20px;line-height:20px;\">\n",
       "\t\t\t\t\t\t\t\t\t\t\t\t\t\tOut[143]:\n",
       "\t\t\t\t\t\t\t\t\t\t\t\t\t</div>\n",
       "\t\t\t\t\t\t\t\t\t\t\t\t</div>\n",
       "\t\t\t\t\t\t\t\t\t\t\t\t<div class=\"grid-item\">$$&#117;&#61;&#92;&#102;&#114;&#97;&#99;&#123;&#92;&#98;&#101;&#116;&#97;&#32;&#32;&#101;&#94;&#123;&#45;&#92;&#105;&#110;&#116;&#32;&#112;&#40;&#120;&#41;&#32;&#92;&#44;&#32;&#100;&#120;&#125;&#125;&#123;&#102;&#40;&#120;&#41;&#94;&#50;&#32;&#92;&#108;&#101;&#102;&#116;&#40;&#92;&#97;&#108;&#112;&#104;&#97;&#32;&#43;&#92;&#98;&#101;&#116;&#97;&#32;&#32;&#92;&#105;&#110;&#116;&#32;&#92;&#102;&#114;&#97;&#99;&#123;&#101;&#94;&#123;&#45;&#92;&#105;&#110;&#116;&#32;&#112;&#40;&#120;&#41;&#32;&#92;&#44;&#32;&#100;&#120;&#125;&#125;&#123;&#102;&#40;&#120;&#41;&#94;&#50;&#125;&#32;&#92;&#44;&#32;&#100;&#120;&#92;&#114;&#105;&#103;&#104;&#116;&#41;&#125;&#43;&#92;&#102;&#114;&#97;&#99;&#123;&#102;&#39;&#40;&#120;&#41;&#125;&#123;&#102;&#40;&#120;&#41;&#125;$$</div><div class=\"grid-item\">\n",
       "\t\t\t\t\t\t\t\t\t\t\t\t\t<div class=\"prompt output_prompt\" style=\"text-align:left;padding:0em;padding-right:20px;line-height:20px;\">\n",
       "\t\t\t\t\t\t\t\t\t\t\t\t\t\tOut[145]:\n",
       "\t\t\t\t\t\t\t\t\t\t\t\t\t</div>\n",
       "\t\t\t\t\t\t\t\t\t\t\t\t</div>\n",
       "\t\t\t\t\t\t\t\t\t\t\t\t<div class=\"grid-item\">$$&#92;&#102;&#114;&#97;&#99;&#123;&#92;&#112;&#97;&#114;&#116;&#105;&#97;&#108;&#32;&#117;&#125;&#123;&#92;&#112;&#97;&#114;&#116;&#105;&#97;&#108;&#32;&#120;&#125;&#43;&#117;&#94;&#50;&#43;&#112;&#40;&#120;&#41;&#32;&#117;&#43;&#113;&#40;&#120;&#41;&#61;&#92;&#102;&#114;&#97;&#99;&#123;&#102;&#39;&#39;&#40;&#120;&#41;&#43;&#112;&#40;&#120;&#41;&#32;&#102;&#39;&#40;&#120;&#41;&#43;&#102;&#40;&#120;&#41;&#32;&#113;&#40;&#120;&#41;&#125;&#123;&#102;&#40;&#120;&#41;&#125;$$</div><div class=\"grid-item\">\n",
       "\t\t\t\t\t\t\t\t\t\t\t\t\t<div class=\"prompt output_prompt\" style=\"text-align:left;padding:0em;padding-right:20px;line-height:20px;\">\n",
       "\t\t\t\t\t\t\t\t\t\t\t\t\t\tOut[146]:\n",
       "\t\t\t\t\t\t\t\t\t\t\t\t\t</div>\n",
       "\t\t\t\t\t\t\t\t\t\t\t\t</div>\n",
       "\t\t\t\t\t\t\t\t\t\t\t\t<div class=\"grid-item\">$$&#92;&#116;&#101;&#120;&#116;&#123;&#82;&#72;&#83;&#32;&#61;&#32;&#125;&#48;$$</div></div></div>"
      ]
     },
     "execution_count": 143,
     "metadata": {
      "text/html": []
     },
     "output_type": "execute_result"
    }
   ],
   "source": [
    "u = D[alpha f[x]+beta g,x]/(alpha f[x]+beta g);\n",
    "u // Simplify // Expand // TeXRaw[\"u=\",#]&\n",
    "R = D[u,x] + u^2 + p[x]u + q[x] // Simplify;\n",
    "R // TeX[HoldForm[D[u,x] + u^2 + p[x]u + q[x]],\"=\",#]&\n",
    "R/.rulef // TeX[\"RHS = \",#]&"
   ]
  },
  {
   "cell_type": "markdown",
   "metadata": {},
   "source": [
    "### Riccati方程式に定数解が存在する場合\n",
    "\n",
    "$$\n",
    "p=b-\\frac{a'}{a}, \\quad q=ac\n",
    "$$\n",
    "\n",
    "とおき, Riccati方程式\n",
    "\n",
    "$$\n",
    "u' + au^2 + bu + c = 0\n",
    "\\tag{$*$}\n",
    "$$\n",
    "\n",
    "が定数解 $\\kappa$ を持つ場合を考える. そのとき, \n",
    "\n",
    "$$\n",
    "\\kappa^2 a + \\kappa b + c = 0, \\quad\n",
    "\\kappa=\\frac{1}{a}\\frac{f'}{f}, \\quad\n",
    "f=e^{\\kappa\\int a\\,dx}\n",
    "$$ \n",
    "\n",
    "でかつ, $f$ は $\\psi$ に関する線形常微分方程式\n",
    "\n",
    "$$\n",
    "(\\d^2+p\\d+q)\\psi = 0\n",
    "\\tag{$**$}\n",
    "$$\n",
    "\n",
    "の $0$ でない解になっている.  そのことは以下のようにして直接的にも確認できる:\n",
    "\n",
    "$$\n",
    "\\begin{aligned}\n",
    "&\n",
    "f' = \\kappa a f,\n",
    "\\\\ &\n",
    "f'' = \\kappa af' + \\kappa a'f = \\kappa^2 a^2 f + \\kappa a'f,\n",
    "\\\\ &\n",
    "\\left(\\d^2+p\\d+q\\right)f =\n",
    "\\kappa^2 a^2 f + \\kappa a'f + \\left(b - \\frac{a'}{a}\\right)\\kappa a f + acf\n",
    "\\\\ & \\phantom{\\left(\\d^2+p\\d+q\\right)f} =\n",
    "(\\kappa^2 a + b\\kappa + c)af = 0.\n",
    "\\end{aligned}\n",
    "$$\n",
    "\n",
    "線形常微分方程式 ($**$) の $f$ と一次独立な解 $g$ を\n",
    "\n",
    "$$\n",
    "\\begin{aligned}\n",
    "&\n",
    "\\phi' = \\frac{1}{f^2}e^{-\\int p\\,dx} = \n",
    "\\frac{a}{f^2}e^{-\\int b\\,dx} =\n",
    "a e^{-\\int(2\\kappa a + b)\\,dx},\n",
    "\\\\ &\n",
    "\\phi = \\int a e^{-\\int(2\\kappa a+b)\\,dx}\\,dx, \n",
    "\\\\ &\n",
    "g = \\phi f = f\\int a e^{-\\int(2\\kappa a+b)\\,dx}\\,dx\n",
    "\\end{aligned}\n",
    "$$\n",
    "\n",
    "によって構成できる.\n",
    "\n",
    "ゆえに, 定数解を持つ場合の Riccati方程式 ($*$) のすべての解は, 線形常微分方程式 ($**$) の $0$ でないある解\n",
    "\n",
    "$$\n",
    "\\psi = \\alpha f + \\beta g =\n",
    "f\\cdot\\left(\\alpha + \\beta \\phi \\right) =\n",
    "f\\cdot\\left(\\alpha + \\beta \\int a e^{-\\int(2\\kappa a+b)\\,dx}\\,dx \\right)\n",
    "$$\n",
    "\n",
    "によって, \n",
    "\n",
    "$$\n",
    "u = \\frac{1}{a}\\frac{\\psi'}{\\psi} = \\frac{1}{a}(\\log\\psi)' =\n",
    "\\kappa + \\frac{\\beta\\phi'/a}{\\alpha+\\beta\\phi}=\n",
    "\\kappa + \n",
    "\\frac{\\beta e^{-\\int(2\\kappa a+b)\\,dx}}\n",
    "{\\alpha + \\beta \\int a e^{-\\int(2\\kappa a+b)\\,dx}\\,dx}\n",
    "$$\n",
    "\n",
    "と表わされる."
   ]
  },
  {
   "cell_type": "code",
   "execution_count": 147,
   "metadata": {},
   "outputs": [
    {
     "data": {
      "text/html": [
       "<div>$$&#99;&#40;&#120;&#41;&#92;&#116;&#111;&#32;&#92;&#107;&#97;&#112;&#112;&#97;&#32;&#94;&#50;&#32;&#40;&#45;&#97;&#40;&#120;&#41;&#41;&#45;&#92;&#107;&#97;&#112;&#112;&#97;&#32;&#32;&#98;&#40;&#120;&#41;$$</div>"
      ]
     },
     "execution_count": 149,
     "metadata": {
      "text/html": []
     },
     "output_type": "execute_result"
    }
   ],
   "source": [
    "Clear[a,b,c,f,g,p,q,u,w,x,alpha,beta,dphi,phi,psi,L,R]\n",
    "rulec = c[x]->-kappa^2 a[x]-kappa b[x];\n",
    "rulec // TeX"
   ]
  },
  {
   "cell_type": "code",
   "execution_count": 150,
   "metadata": {},
   "outputs": [
    {
     "data": {
      "text/html": [
       "<div>$$&#102;&#61;&#101;&#94;&#123;&#92;&#107;&#97;&#112;&#112;&#97;&#32;&#32;&#92;&#105;&#110;&#116;&#32;&#97;&#40;&#120;&#41;&#32;&#92;&#44;&#32;&#100;&#120;&#125;$$</div>"
      ]
     },
     "execution_count": 151,
     "metadata": {
      "text/html": []
     },
     "output_type": "execute_result"
    }
   ],
   "source": [
    "f[x_] := Exp[Integrate[kappa a[x], x]]\n",
    "f[x] // TeXRaw[\"f=\",#]&"
   ]
  },
  {
   "cell_type": "code",
   "execution_count": 152,
   "metadata": {},
   "outputs": [
    {
     "data": {
      "text/html": [
       "<div>$$&#92;&#112;&#104;&#105;&#39;&#61;&#97;&#40;&#120;&#41;&#32;&#101;&#94;&#123;&#45;&#50;&#32;&#92;&#107;&#97;&#112;&#112;&#97;&#32;&#32;&#92;&#105;&#110;&#116;&#32;&#97;&#40;&#120;&#41;&#32;&#92;&#44;&#32;&#100;&#120;&#45;&#92;&#105;&#110;&#116;&#32;&#98;&#40;&#120;&#41;&#32;&#92;&#44;&#32;&#100;&#120;&#125;$$</div>"
      ]
     },
     "execution_count": 153,
     "metadata": {
      "text/html": []
     },
     "output_type": "execute_result"
    }
   ],
   "source": [
    "dphi = a[x]/f[x]^2 Exp[-Integrate[b[x], x]];\n",
    "dphi // TeXRaw[\"\\\\phi'=\",#]&"
   ]
  },
  {
   "cell_type": "code",
   "execution_count": 154,
   "metadata": {},
   "outputs": [
    {
     "data": {
      "text/html": [
       "<div>$$&#92;&#112;&#104;&#105;&#61;&#92;&#105;&#110;&#116;&#32;&#97;&#40;&#120;&#41;&#32;&#101;&#94;&#123;&#45;&#50;&#32;&#92;&#107;&#97;&#112;&#112;&#97;&#32;&#32;&#92;&#105;&#110;&#116;&#32;&#97;&#40;&#120;&#41;&#32;&#92;&#44;&#32;&#100;&#120;&#45;&#92;&#105;&#110;&#116;&#32;&#98;&#40;&#120;&#41;&#32;&#92;&#44;&#32;&#100;&#120;&#125;&#32;&#92;&#44;&#32;&#100;&#120;$$</div>"
      ]
     },
     "execution_count": 155,
     "metadata": {
      "text/html": []
     },
     "output_type": "execute_result"
    }
   ],
   "source": [
    "phi = Integrate[dphi, x];\n",
    "phi // TeXRaw[\"\\\\phi=\",#]&"
   ]
  },
  {
   "cell_type": "code",
   "execution_count": 156,
   "metadata": {},
   "outputs": [
    {
     "data": {
      "text/html": [
       "<div>$$&#103;&#61;&#101;&#94;&#123;&#92;&#107;&#97;&#112;&#112;&#97;&#32;&#32;&#92;&#105;&#110;&#116;&#32;&#97;&#40;&#120;&#41;&#32;&#92;&#44;&#32;&#100;&#120;&#125;&#32;&#92;&#105;&#110;&#116;&#32;&#97;&#40;&#120;&#41;&#32;&#101;&#94;&#123;&#45;&#50;&#32;&#92;&#107;&#97;&#112;&#112;&#97;&#32;&#32;&#92;&#105;&#110;&#116;&#32;&#97;&#40;&#120;&#41;&#32;&#92;&#44;&#32;&#100;&#120;&#45;&#92;&#105;&#110;&#116;&#32;&#98;&#40;&#120;&#41;&#32;&#92;&#44;&#32;&#100;&#120;&#125;&#32;&#92;&#44;&#32;&#100;&#120;$$</div>"
      ]
     },
     "execution_count": 157,
     "metadata": {
      "text/html": []
     },
     "output_type": "execute_result"
    }
   ],
   "source": [
    "g = phi f[x];\n",
    "g // TeXRaw[\"g=\",#]&"
   ]
  },
  {
   "cell_type": "code",
   "execution_count": 158,
   "metadata": {},
   "outputs": [
    {
     "data": {
      "text/html": [
       "<style>\n",
       "\t\t\t\t\t\t\t\t\t\t\t.grid-container {\n",
       "\t\t\t\t\t\t\t\t\t\t\t\tdisplay: inline-grid;\n",
       "\t\t\t\t\t\t\t\t\t\t\t\tgrid-template-columns: auto auto;\n",
       "\t\t\t\t\t\t\t\t\t\t\t}\n",
       "\t\t\t\t\t\t\t\t\t\t</style>\n",
       "\n",
       "\t\t\t\t\t\t\t\t\t\t<div><div class=\"grid-container\"><div class=\"grid-item\">\n",
       "\t\t\t\t\t\t\t\t\t\t\t\t\t<div class=\"prompt output_prompt\" style=\"text-align:left;padding:0em;padding-right:20px;line-height:20px;\">\n",
       "\t\t\t\t\t\t\t\t\t\t\t\t\t\tOut[159]:\n",
       "\t\t\t\t\t\t\t\t\t\t\t\t\t</div>\n",
       "\t\t\t\t\t\t\t\t\t\t\t\t</div>\n",
       "\t\t\t\t\t\t\t\t\t\t\t\t<div class=\"grid-item\">$$&#98;&#40;&#120;&#41;&#45;&#92;&#102;&#114;&#97;&#99;&#123;&#97;&#39;&#40;&#120;&#41;&#125;&#123;&#97;&#40;&#120;&#41;&#125;$$</div><div class=\"grid-item\">\n",
       "\t\t\t\t\t\t\t\t\t\t\t\t\t<div class=\"prompt output_prompt\" style=\"text-align:left;padding:0em;padding-right:20px;line-height:20px;\">\n",
       "\t\t\t\t\t\t\t\t\t\t\t\t\t\tOut[161]:\n",
       "\t\t\t\t\t\t\t\t\t\t\t\t\t</div>\n",
       "\t\t\t\t\t\t\t\t\t\t\t\t</div>\n",
       "\t\t\t\t\t\t\t\t\t\t\t\t<div class=\"grid-item\">$$&#97;&#40;&#120;&#41;&#32;&#99;&#40;&#120;&#41;$$</div><div class=\"grid-item\">\n",
       "\t\t\t\t\t\t\t\t\t\t\t\t\t<div class=\"prompt output_prompt\" style=\"text-align:left;padding:0em;padding-right:20px;line-height:20px;\">\n",
       "\t\t\t\t\t\t\t\t\t\t\t\t\t\tOut[163]:\n",
       "\t\t\t\t\t\t\t\t\t\t\t\t\t</div>\n",
       "\t\t\t\t\t\t\t\t\t\t\t\t</div>\n",
       "\t\t\t\t\t\t\t\t\t\t\t\t<div class=\"grid-item\">$$&#92;&#102;&#114;&#97;&#99;&#123;&#92;&#112;&#97;&#114;&#116;&#105;&#97;&#108;&#32;&#94;&#50;&#103;&#125;&#123;&#92;&#112;&#97;&#114;&#116;&#105;&#97;&#108;&#32;&#120;&#92;&#44;&#32;&#92;&#112;&#97;&#114;&#116;&#105;&#97;&#108;&#32;&#120;&#125;&#43;&#112;&#32;&#92;&#102;&#114;&#97;&#99;&#123;&#92;&#112;&#97;&#114;&#116;&#105;&#97;&#108;&#32;&#103;&#125;&#123;&#92;&#112;&#97;&#114;&#116;&#105;&#97;&#108;&#32;&#120;&#125;&#43;&#113;&#32;&#103;&#61;&#97;&#40;&#120;&#41;&#32;&#92;&#108;&#101;&#102;&#116;&#40;&#92;&#107;&#97;&#112;&#112;&#97;&#32;&#94;&#50;&#32;&#97;&#40;&#120;&#41;&#43;&#92;&#107;&#97;&#112;&#112;&#97;&#32;&#32;&#98;&#40;&#120;&#41;&#43;&#99;&#40;&#120;&#41;&#92;&#114;&#105;&#103;&#104;&#116;&#41;&#32;&#101;&#94;&#123;&#92;&#107;&#97;&#112;&#112;&#97;&#32;&#32;&#92;&#105;&#110;&#116;&#32;&#97;&#40;&#120;&#41;&#32;&#92;&#44;&#32;&#100;&#120;&#125;&#32;&#92;&#105;&#110;&#116;&#32;&#97;&#40;&#120;&#41;&#32;&#101;&#94;&#123;&#45;&#50;&#32;&#92;&#107;&#97;&#112;&#112;&#97;&#32;&#32;&#92;&#105;&#110;&#116;&#32;&#97;&#40;&#120;&#41;&#32;&#92;&#44;&#32;&#100;&#120;&#45;&#92;&#105;&#110;&#116;&#32;&#98;&#40;&#120;&#41;&#32;&#92;&#44;&#32;&#100;&#120;&#125;&#32;&#92;&#44;&#32;&#100;&#120;$$</div><div class=\"grid-item\">\n",
       "\t\t\t\t\t\t\t\t\t\t\t\t\t<div class=\"prompt output_prompt\" style=\"text-align:left;padding:0em;padding-right:20px;line-height:20px;\">\n",
       "\t\t\t\t\t\t\t\t\t\t\t\t\t\tOut[164]:\n",
       "\t\t\t\t\t\t\t\t\t\t\t\t\t</div>\n",
       "\t\t\t\t\t\t\t\t\t\t\t\t</div>\n",
       "\t\t\t\t\t\t\t\t\t\t\t\t<div class=\"grid-item\">$$&#92;&#116;&#101;&#120;&#116;&#123;&#82;&#72;&#83;&#32;&#61;&#32;&#125;&#48;$$</div></div></div>"
      ]
     },
     "execution_count": 159,
     "metadata": {
      "text/html": []
     },
     "output_type": "execute_result"
    }
   ],
   "source": [
    "p = b[x] - a'[x]/a[x];\n",
    "p // TeX\n",
    "q = a[x]c[x];\n",
    "q // TeX\n",
    "L = D[g,x,x] + p D[g,x] + q g // Simplify;\n",
    "L // TeX[HoldForm[D[g,x,x] + p D[g,x] + q g],\"=\",#]&\n",
    "L/.rulec // Simplify // TeX[\"RHS = \",#]&"
   ]
  },
  {
   "cell_type": "code",
   "execution_count": 165,
   "metadata": {},
   "outputs": [
    {
     "data": {
      "text/html": [
       "<style>\n",
       "\t\t\t\t\t\t\t\t\t\t\t.grid-container {\n",
       "\t\t\t\t\t\t\t\t\t\t\t\tdisplay: inline-grid;\n",
       "\t\t\t\t\t\t\t\t\t\t\t\tgrid-template-columns: auto auto;\n",
       "\t\t\t\t\t\t\t\t\t\t\t}\n",
       "\t\t\t\t\t\t\t\t\t\t</style>\n",
       "\n",
       "\t\t\t\t\t\t\t\t\t\t<div><div class=\"grid-container\"><div class=\"grid-item\">\n",
       "\t\t\t\t\t\t\t\t\t\t\t\t\t<div class=\"prompt output_prompt\" style=\"text-align:left;padding:0em;padding-right:20px;line-height:20px;\">\n",
       "\t\t\t\t\t\t\t\t\t\t\t\t\t\tOut[166]:\n",
       "\t\t\t\t\t\t\t\t\t\t\t\t\t</div>\n",
       "\t\t\t\t\t\t\t\t\t\t\t\t</div>\n",
       "\t\t\t\t\t\t\t\t\t\t\t\t<div class=\"grid-item\">$$&#117;&#61;&#92;&#102;&#114;&#97;&#99;&#123;&#92;&#98;&#101;&#116;&#97;&#32;&#32;&#101;&#94;&#123;&#45;&#50;&#32;&#92;&#107;&#97;&#112;&#112;&#97;&#32;&#32;&#92;&#105;&#110;&#116;&#32;&#97;&#40;&#120;&#41;&#32;&#92;&#44;&#32;&#100;&#120;&#45;&#92;&#105;&#110;&#116;&#32;&#98;&#40;&#120;&#41;&#32;&#92;&#44;&#32;&#100;&#120;&#125;&#125;&#123;&#92;&#98;&#101;&#116;&#97;&#32;&#32;&#92;&#105;&#110;&#116;&#32;&#97;&#40;&#120;&#41;&#32;&#101;&#94;&#123;&#45;&#50;&#32;&#92;&#107;&#97;&#112;&#112;&#97;&#32;&#32;&#92;&#105;&#110;&#116;&#32;&#97;&#40;&#120;&#41;&#32;&#92;&#44;&#32;&#100;&#120;&#45;&#92;&#105;&#110;&#116;&#32;&#98;&#40;&#120;&#41;&#32;&#92;&#44;&#32;&#100;&#120;&#125;&#32;&#92;&#44;&#32;&#100;&#120;&#43;&#92;&#97;&#108;&#112;&#104;&#97;&#32;&#125;&#43;&#92;&#107;&#97;&#112;&#112;&#97;$$</div><div class=\"grid-item\">\n",
       "\t\t\t\t\t\t\t\t\t\t\t\t\t<div class=\"prompt output_prompt\" style=\"text-align:left;padding:0em;padding-right:20px;line-height:20px;\">\n",
       "\t\t\t\t\t\t\t\t\t\t\t\t\t\tOut[168]:\n",
       "\t\t\t\t\t\t\t\t\t\t\t\t\t</div>\n",
       "\t\t\t\t\t\t\t\t\t\t\t\t</div>\n",
       "\t\t\t\t\t\t\t\t\t\t\t\t<div class=\"grid-item\">$$&#92;&#102;&#114;&#97;&#99;&#123;&#92;&#112;&#97;&#114;&#116;&#105;&#97;&#108;&#32;&#117;&#125;&#123;&#92;&#112;&#97;&#114;&#116;&#105;&#97;&#108;&#32;&#120;&#125;&#43;&#97;&#40;&#120;&#41;&#32;&#117;&#94;&#50;&#43;&#98;&#40;&#120;&#41;&#32;&#117;&#43;&#99;&#40;&#120;&#41;&#61;&#92;&#107;&#97;&#112;&#112;&#97;&#32;&#94;&#50;&#32;&#97;&#40;&#120;&#41;&#43;&#92;&#107;&#97;&#112;&#112;&#97;&#32;&#32;&#98;&#40;&#120;&#41;&#43;&#99;&#40;&#120;&#41;$$</div><div class=\"grid-item\">\n",
       "\t\t\t\t\t\t\t\t\t\t\t\t\t<div class=\"prompt output_prompt\" style=\"text-align:left;padding:0em;padding-right:20px;line-height:20px;\">\n",
       "\t\t\t\t\t\t\t\t\t\t\t\t\t\tOut[169]:\n",
       "\t\t\t\t\t\t\t\t\t\t\t\t\t</div>\n",
       "\t\t\t\t\t\t\t\t\t\t\t\t</div>\n",
       "\t\t\t\t\t\t\t\t\t\t\t\t<div class=\"grid-item\">$$&#92;&#116;&#101;&#120;&#116;&#123;&#82;&#72;&#83;&#32;&#61;&#32;&#125;&#48;$$</div></div></div>"
      ]
     },
     "execution_count": 166,
     "metadata": {
      "text/html": []
     },
     "output_type": "execute_result"
    }
   ],
   "source": [
    "u = 1/a[x] D[alpha f[x]+ beta g,x]/(alpha f[x]+beta g);\n",
    "u // Simplify // Collect[#, kappa]& // TeXRaw[\"u=\",#]&\n",
    "R = D[u,x] + a[x] u^2 + b[x] u + c[x] // Simplify;\n",
    "R // TeX[HoldForm[D[u,x] + a[x] u^2 + b[x] u + c[x]],\"=\",#]&\n",
    "R/.rulec // Simplify // TeX[\"RHS = \",#]&"
   ]
  },
  {
   "cell_type": "markdown",
   "metadata": {},
   "source": [
    "**例:** $a(x)=x+1$, $b(x)=-1$, $c(x)=-x$ の場合の次のRiccati方程式を考える:\n",
    "\n",
    "$$\n",
    "u'+(x+1) u^2-u-x = 0.\n",
    "$$\n",
    "\n",
    "これは $\\kappa=1$ を解に持つ. $\\kappa=1=f'/((x+1)f)$ を満たす $f$ として\n",
    "\n",
    "$$\n",
    "f = e^{(x+1)^2/2}\n",
    "$$\n",
    "\n",
    "が取れ, $p=b-a'/a=-1-1/(x+1)=-(x+2)/(x+1)$, $q=ac=-x(x+1)$ なので, $f$ は $\\psi$ に関する線形常微分方程式\n",
    "\n",
    "$$\n",
    "\\left(\\d^2 - \\frac{x+2}{x+1}\\d - x(x+1)\\right)\\psi = 0\n",
    "$$\n",
    "\n",
    "の解であり, $f$ と一次独立なもう1つの解は, $a\\kappa a+b=2a+b=2x+1$, $\\int(2x+1)\\,dx=(x+1/2)^2$, x+1=(2x+1)/2+1/2 なので\n",
    "\n",
    "$$\n",
    "\\begin{aligned}\n",
    "\\phi' &= a e^{-\\int(2\\kappa a+b)\\,dx} = (x+1) e^{-(x+1/2)^2},\n",
    "\\\\\n",
    "\\phi &= \\int (x+1) e^{-(x+1/2)^2}\\,dx =\n",
    "\\frac{1}{2}\\left(-e^{-(x+1/2)^2} + \\int e^{-(x+1/2)^2}\\,dx\\right)\n",
    "\\\\\n",
    "g &= f \\phi\n",
    "e^{\\int\\kappa a\\,dx} \\int a e^{-\\int(2\\kappa a+b)\\,dx}\\,dx\n",
    "\\\\ &=\n",
    "e^{(x+1)^2/2} \\int (x+1) e^{-(x+1/2)^2}\\,dx\n",
    "\\\\ &=\n",
    "e^{(x+1)^2/2}\\frac{1}{2}\\left(-e^{-(x+1/2)^2} + \\int e^{-(x+1/2)^2}\\,dx\\right)\n",
    "\\end{aligned}\n",
    "$$\n",
    "\n",
    "と取れる. ゆえにRiccati方程式の解は\n",
    "\n",
    "$$\n",
    "u = 1 + \\frac\n",
    "{\\beta e^{-(x+1/2)^2}}\n",
    "{\\alpha + \\beta\\frac{1}{2}\\left(-e^{-(x+1/2)^2} + \\int e^{-(x+1/2)^2}\\,dx\\right)}\n",
    "$$\n",
    "\n",
    "と書ける."
   ]
  },
  {
   "cell_type": "markdown",
   "metadata": {},
   "source": [
    "以下はコンピューターによる上の例の確認"
   ]
  },
  {
   "cell_type": "code",
   "execution_count": 170,
   "metadata": {},
   "outputs": [
    {
     "data": {
      "text/html": [
       "<style>\n",
       "\t\t\t\t\t\t\t\t\t\t\t.grid-container {\n",
       "\t\t\t\t\t\t\t\t\t\t\t\tdisplay: inline-grid;\n",
       "\t\t\t\t\t\t\t\t\t\t\t\tgrid-template-columns: auto auto;\n",
       "\t\t\t\t\t\t\t\t\t\t\t}\n",
       "\t\t\t\t\t\t\t\t\t\t</style>\n",
       "\n",
       "\t\t\t\t\t\t\t\t\t\t<div><div class=\"grid-container\"><div class=\"grid-item\">\n",
       "\t\t\t\t\t\t\t\t\t\t\t\t\t<div class=\"prompt output_prompt\" style=\"text-align:left;padding:0em;padding-right:20px;line-height:20px;\">\n",
       "\t\t\t\t\t\t\t\t\t\t\t\t\t\tOut[172]:\n",
       "\t\t\t\t\t\t\t\t\t\t\t\t\t</div>\n",
       "\t\t\t\t\t\t\t\t\t\t\t\t</div>\n",
       "\t\t\t\t\t\t\t\t\t\t\t\t<div class=\"grid-item\">$$&#92;&#112;&#104;&#105;&#39;&#61;&#101;&#94;&#123;&#45;&#92;&#108;&#101;&#102;&#116;&#40;&#120;&#43;&#92;&#102;&#114;&#97;&#99;&#123;&#49;&#125;&#123;&#50;&#125;&#92;&#114;&#105;&#103;&#104;&#116;&#41;&#94;&#50;&#125;&#32;&#40;&#120;&#43;&#49;&#41;$$</div><div class=\"grid-item\">\n",
       "\t\t\t\t\t\t\t\t\t\t\t\t\t<div class=\"prompt output_prompt\" style=\"text-align:left;padding:0em;padding-right:20px;line-height:20px;\">\n",
       "\t\t\t\t\t\t\t\t\t\t\t\t\t\tOut[174]:\n",
       "\t\t\t\t\t\t\t\t\t\t\t\t\t</div>\n",
       "\t\t\t\t\t\t\t\t\t\t\t\t</div>\n",
       "\t\t\t\t\t\t\t\t\t\t\t\t<div class=\"grid-item\">$$&#92;&#112;&#104;&#105;&#61;&#92;&#102;&#114;&#97;&#99;&#123;&#49;&#125;&#123;&#50;&#125;&#32;&#92;&#108;&#101;&#102;&#116;&#40;&#92;&#102;&#114;&#97;&#99;&#123;&#49;&#125;&#123;&#50;&#125;&#32;&#92;&#115;&#113;&#114;&#116;&#123;&#92;&#112;&#105;&#32;&#125;&#32;&#92;&#116;&#101;&#120;&#116;&#123;&#101;&#114;&#102;&#125;&#92;&#108;&#101;&#102;&#116;&#40;&#120;&#43;&#92;&#102;&#114;&#97;&#99;&#123;&#49;&#125;&#123;&#50;&#125;&#92;&#114;&#105;&#103;&#104;&#116;&#41;&#45;&#101;&#94;&#123;&#45;&#92;&#108;&#101;&#102;&#116;&#40;&#120;&#43;&#92;&#102;&#114;&#97;&#99;&#123;&#49;&#125;&#123;&#50;&#125;&#92;&#114;&#105;&#103;&#104;&#116;&#41;&#94;&#50;&#125;&#92;&#114;&#105;&#103;&#104;&#116;&#41;$$</div><div class=\"grid-item\">\n",
       "\t\t\t\t\t\t\t\t\t\t\t\t\t<div class=\"prompt output_prompt\" style=\"text-align:left;padding:0em;padding-right:20px;line-height:20px;\">\n",
       "\t\t\t\t\t\t\t\t\t\t\t\t\t\tOut[175]:\n",
       "\t\t\t\t\t\t\t\t\t\t\t\t\t</div>\n",
       "\t\t\t\t\t\t\t\t\t\t\t\t</div>\n",
       "\t\t\t\t\t\t\t\t\t\t\t\t<div class=\"grid-item\">$$&#100;&#92;&#109;&#97;&#116;&#104;&#114;&#109;&#123;&#82;&#72;&#83;&#125;&#47;&#100;&#120;&#61;&#101;&#94;&#123;&#45;&#92;&#108;&#101;&#102;&#116;&#40;&#120;&#43;&#92;&#102;&#114;&#97;&#99;&#123;&#49;&#125;&#123;&#50;&#125;&#92;&#114;&#105;&#103;&#104;&#116;&#41;&#94;&#50;&#125;&#32;&#40;&#120;&#43;&#49;&#41;$$</div></div></div>"
      ]
     },
     "execution_count": 172,
     "metadata": {
      "text/html": []
     },
     "output_type": "execute_result"
    }
   ],
   "source": [
    "Clear[a,b,c,f,g,p,q,u,w,x,alpha,beta,dphi,phi,psi,L,R]\n",
    "dphi = (x+1)Exp[-(x+1/2)^2];\n",
    "dphi // TeXRaw[\"\\\\phi'=\",#]&\n",
    "phi = (1/2)(-Exp[-(x+1/2)^2] + Integrate[Exp[-(x+1/2)^2], x]);\n",
    "phi // TeXRaw[\"\\\\phi=\",#]&\n",
    "D[phi,x] // Simplify // TeXRaw[\"d\\\\mathrm{RHS}/dx=\",#]&"
   ]
  },
  {
   "cell_type": "code",
   "execution_count": 176,
   "metadata": {},
   "outputs": [
    {
     "data": {
      "text/html": [
       "<style>\n",
       "\t\t\t\t\t\t\t\t\t\t\t.grid-container {\n",
       "\t\t\t\t\t\t\t\t\t\t\t\tdisplay: inline-grid;\n",
       "\t\t\t\t\t\t\t\t\t\t\t\tgrid-template-columns: auto auto;\n",
       "\t\t\t\t\t\t\t\t\t\t\t}\n",
       "\t\t\t\t\t\t\t\t\t\t</style>\n",
       "\n",
       "\t\t\t\t\t\t\t\t\t\t<div><div class=\"grid-container\"><div class=\"grid-item\">\n",
       "\t\t\t\t\t\t\t\t\t\t\t\t\t<div class=\"prompt output_prompt\" style=\"text-align:left;padding:0em;padding-right:20px;line-height:20px;\">\n",
       "\t\t\t\t\t\t\t\t\t\t\t\t\t\tOut[176]:\n",
       "\t\t\t\t\t\t\t\t\t\t\t\t\t</div>\n",
       "\t\t\t\t\t\t\t\t\t\t\t\t</div>\n",
       "\t\t\t\t\t\t\t\t\t\t\t\t<div class=\"grid-item\">$$&#92;&#102;&#114;&#97;&#99;&#123;&#92;&#112;&#97;&#114;&#116;&#105;&#97;&#108;&#32;&#92;&#116;&#101;&#120;&#116;&#123;&#101;&#114;&#102;&#125;&#40;&#120;&#41;&#125;&#123;&#92;&#112;&#97;&#114;&#116;&#105;&#97;&#108;&#32;&#120;&#125;&#61;&#92;&#102;&#114;&#97;&#99;&#123;&#50;&#32;&#101;&#94;&#123;&#45;&#120;&#94;&#50;&#125;&#125;&#123;&#92;&#115;&#113;&#114;&#116;&#123;&#92;&#112;&#105;&#32;&#125;&#125;$$</div><div class=\"grid-item\">\n",
       "\t\t\t\t\t\t\t\t\t\t\t\t\t<div class=\"prompt output_prompt\" style=\"text-align:left;padding:0em;padding-right:20px;line-height:20px;\">\n",
       "\t\t\t\t\t\t\t\t\t\t\t\t\t\tOut[177]:\n",
       "\t\t\t\t\t\t\t\t\t\t\t\t\t</div>\n",
       "\t\t\t\t\t\t\t\t\t\t\t\t</div>\n",
       "\t\t\t\t\t\t\t\t\t\t\t\t<div class=\"grid-item\">$$&#92;&#102;&#114;&#97;&#99;&#123;&#92;&#112;&#97;&#114;&#116;&#105;&#97;&#108;&#32;&#125;&#123;&#92;&#112;&#97;&#114;&#116;&#105;&#97;&#108;&#32;&#120;&#125;&#92;&#108;&#101;&#102;&#116;&#40;&#92;&#102;&#114;&#97;&#99;&#123;&#49;&#125;&#123;&#50;&#125;&#32;&#92;&#115;&#113;&#114;&#116;&#123;&#92;&#112;&#105;&#32;&#125;&#32;&#92;&#116;&#101;&#120;&#116;&#123;&#101;&#114;&#102;&#125;&#92;&#108;&#101;&#102;&#116;&#40;&#120;&#43;&#92;&#102;&#114;&#97;&#99;&#123;&#49;&#125;&#123;&#50;&#125;&#92;&#114;&#105;&#103;&#104;&#116;&#41;&#92;&#114;&#105;&#103;&#104;&#116;&#41;&#61;&#101;&#94;&#123;&#45;&#92;&#108;&#101;&#102;&#116;&#40;&#120;&#43;&#92;&#102;&#114;&#97;&#99;&#123;&#49;&#125;&#123;&#50;&#125;&#92;&#114;&#105;&#103;&#104;&#116;&#41;&#94;&#50;&#125;$$</div></div></div>"
      ]
     },
     "execution_count": 176,
     "metadata": {
      "text/html": []
     },
     "output_type": "execute_result"
    }
   ],
   "source": [
    "D[Erf[x],x] // TeXEq\n",
    "D[Sqrt[Pi]/2 Erf[x+1/2], x] // TeXEq"
   ]
  },
  {
   "cell_type": "code",
   "execution_count": 178,
   "metadata": {},
   "outputs": [
    {
     "data": {
      "text/html": [
       "<style>\n",
       "\t\t\t\t\t\t\t\t\t\t\t.grid-container {\n",
       "\t\t\t\t\t\t\t\t\t\t\t\tdisplay: inline-grid;\n",
       "\t\t\t\t\t\t\t\t\t\t\t\tgrid-template-columns: auto auto;\n",
       "\t\t\t\t\t\t\t\t\t\t\t}\n",
       "\t\t\t\t\t\t\t\t\t\t</style>\n",
       "\n",
       "\t\t\t\t\t\t\t\t\t\t<div><div class=\"grid-container\"><div class=\"grid-item\">\n",
       "\t\t\t\t\t\t\t\t\t\t\t\t\t<div class=\"prompt output_prompt\" style=\"text-align:left;padding:0em;padding-right:20px;line-height:20px;\">\n",
       "\t\t\t\t\t\t\t\t\t\t\t\t\t\tOut[179]:\n",
       "\t\t\t\t\t\t\t\t\t\t\t\t\t</div>\n",
       "\t\t\t\t\t\t\t\t\t\t\t\t</div>\n",
       "\t\t\t\t\t\t\t\t\t\t\t\t<div class=\"grid-item\">$$&#102;&#61;&#101;&#94;&#123;&#92;&#102;&#114;&#97;&#99;&#123;&#49;&#125;&#123;&#50;&#125;&#32;&#40;&#120;&#43;&#49;&#41;&#94;&#50;&#125;$$</div><div class=\"grid-item\">\n",
       "\t\t\t\t\t\t\t\t\t\t\t\t\t<div class=\"prompt output_prompt\" style=\"text-align:left;padding:0em;padding-right:20px;line-height:20px;\">\n",
       "\t\t\t\t\t\t\t\t\t\t\t\t\t\tOut[180]:\n",
       "\t\t\t\t\t\t\t\t\t\t\t\t\t</div>\n",
       "\t\t\t\t\t\t\t\t\t\t\t\t</div>\n",
       "\t\t\t\t\t\t\t\t\t\t\t\t<div class=\"grid-item\">$$&#92;&#102;&#114;&#97;&#99;&#123;&#92;&#112;&#97;&#114;&#116;&#105;&#97;&#108;&#32;&#94;&#50;&#102;&#125;&#123;&#92;&#112;&#97;&#114;&#116;&#105;&#97;&#108;&#32;&#120;&#94;&#50;&#125;&#45;&#92;&#102;&#114;&#97;&#99;&#123;&#40;&#120;&#43;&#50;&#41;&#32;&#92;&#102;&#114;&#97;&#99;&#123;&#92;&#112;&#97;&#114;&#116;&#105;&#97;&#108;&#32;&#102;&#125;&#123;&#92;&#112;&#97;&#114;&#116;&#105;&#97;&#108;&#32;&#120;&#125;&#125;&#123;&#120;&#43;&#49;&#125;&#45;&#120;&#32;&#40;&#120;&#43;&#49;&#41;&#32;&#102;&#61;&#48;$$</div><div class=\"grid-item\">\n",
       "\t\t\t\t\t\t\t\t\t\t\t\t\t<div class=\"prompt output_prompt\" style=\"text-align:left;padding:0em;padding-right:20px;line-height:20px;\">\n",
       "\t\t\t\t\t\t\t\t\t\t\t\t\t\tOut[183]:\n",
       "\t\t\t\t\t\t\t\t\t\t\t\t\t</div>\n",
       "\t\t\t\t\t\t\t\t\t\t\t\t</div>\n",
       "\t\t\t\t\t\t\t\t\t\t\t\t<div class=\"grid-item\">$$&#103;&#61;&#92;&#102;&#114;&#97;&#99;&#123;&#49;&#125;&#123;&#52;&#125;&#32;&#101;&#94;&#123;&#92;&#102;&#114;&#97;&#99;&#123;&#49;&#125;&#123;&#52;&#125;&#45;&#92;&#102;&#114;&#97;&#99;&#123;&#120;&#94;&#50;&#125;&#123;&#50;&#125;&#125;&#32;&#92;&#108;&#101;&#102;&#116;&#40;&#92;&#115;&#113;&#114;&#116;&#123;&#92;&#112;&#105;&#32;&#125;&#32;&#101;&#94;&#123;&#92;&#108;&#101;&#102;&#116;&#40;&#120;&#43;&#92;&#102;&#114;&#97;&#99;&#123;&#49;&#125;&#123;&#50;&#125;&#92;&#114;&#105;&#103;&#104;&#116;&#41;&#94;&#50;&#125;&#32;&#92;&#116;&#101;&#120;&#116;&#123;&#101;&#114;&#102;&#125;&#92;&#108;&#101;&#102;&#116;&#40;&#120;&#43;&#92;&#102;&#114;&#97;&#99;&#123;&#49;&#125;&#123;&#50;&#125;&#92;&#114;&#105;&#103;&#104;&#116;&#41;&#45;&#50;&#92;&#114;&#105;&#103;&#104;&#116;&#41;$$</div><div class=\"grid-item\">\n",
       "\t\t\t\t\t\t\t\t\t\t\t\t\t<div class=\"prompt output_prompt\" style=\"text-align:left;padding:0em;padding-right:20px;line-height:20px;\">\n",
       "\t\t\t\t\t\t\t\t\t\t\t\t\t\tOut[184]:\n",
       "\t\t\t\t\t\t\t\t\t\t\t\t\t</div>\n",
       "\t\t\t\t\t\t\t\t\t\t\t\t</div>\n",
       "\t\t\t\t\t\t\t\t\t\t\t\t<div class=\"grid-item\">$$&#92;&#102;&#114;&#97;&#99;&#123;&#92;&#112;&#97;&#114;&#116;&#105;&#97;&#108;&#32;&#94;&#50;&#103;&#125;&#123;&#92;&#112;&#97;&#114;&#116;&#105;&#97;&#108;&#32;&#120;&#94;&#50;&#125;&#45;&#92;&#102;&#114;&#97;&#99;&#123;&#40;&#120;&#43;&#50;&#41;&#32;&#92;&#102;&#114;&#97;&#99;&#123;&#92;&#112;&#97;&#114;&#116;&#105;&#97;&#108;&#32;&#103;&#125;&#123;&#92;&#112;&#97;&#114;&#116;&#105;&#97;&#108;&#32;&#120;&#125;&#125;&#123;&#120;&#43;&#49;&#125;&#45;&#120;&#32;&#40;&#120;&#43;&#49;&#41;&#32;&#103;&#61;&#48;$$</div></div></div>"
      ]
     },
     "execution_count": 179,
     "metadata": {
      "text/html": []
     },
     "output_type": "execute_result"
    }
   ],
   "source": [
    "f = Exp[(x+1)^2/2];\n",
    "f // TeXEq\n",
    "D[f,{x,2}] - (x+2)/(x+1) D[f,x] - x(x+1)f // Simplify // TeX[HoldForm[D[f,{x,2}] - (x+2)/(x+1) D[f,x] - x(x+1)f],\"=\",#]&\n",
    "\n",
    "g = phi f;\n",
    "g // TeXEq\n",
    "D[g,{x,2}] - (x+2)/(x+1) D[g,x] - x(x+1)g // Simplify // TeX[HoldForm[D[g,{x,2}] - (x+2)/(x+1) D[g,x] - x(x+1)g],\"=\",#]&"
   ]
  },
  {
   "cell_type": "code",
   "execution_count": 185,
   "metadata": {},
   "outputs": [
    {
     "data": {
      "text/html": [
       "<style>\n",
       "\t\t\t\t\t\t\t\t\t\t\t.grid-container {\n",
       "\t\t\t\t\t\t\t\t\t\t\t\tdisplay: inline-grid;\n",
       "\t\t\t\t\t\t\t\t\t\t\t\tgrid-template-columns: auto auto;\n",
       "\t\t\t\t\t\t\t\t\t\t\t}\n",
       "\t\t\t\t\t\t\t\t\t\t</style>\n",
       "\n",
       "\t\t\t\t\t\t\t\t\t\t<div><div class=\"grid-container\"><div class=\"grid-item\">\n",
       "\t\t\t\t\t\t\t\t\t\t\t\t\t<div class=\"prompt output_prompt\" style=\"text-align:left;padding:0em;padding-right:20px;line-height:20px;\">\n",
       "\t\t\t\t\t\t\t\t\t\t\t\t\t\tOut[186]:\n",
       "\t\t\t\t\t\t\t\t\t\t\t\t\t</div>\n",
       "\t\t\t\t\t\t\t\t\t\t\t\t</div>\n",
       "\t\t\t\t\t\t\t\t\t\t\t\t<div class=\"grid-item\">$$&#117;&#61;&#92;&#102;&#114;&#97;&#99;&#123;&#52;&#32;&#92;&#98;&#101;&#116;&#97;&#32;&#125;&#123;&#101;&#94;&#123;&#92;&#108;&#101;&#102;&#116;&#40;&#120;&#43;&#92;&#102;&#114;&#97;&#99;&#123;&#49;&#125;&#123;&#50;&#125;&#92;&#114;&#105;&#103;&#104;&#116;&#41;&#94;&#50;&#125;&#32;&#92;&#108;&#101;&#102;&#116;&#40;&#52;&#32;&#92;&#97;&#108;&#112;&#104;&#97;&#32;&#43;&#92;&#115;&#113;&#114;&#116;&#123;&#92;&#112;&#105;&#32;&#125;&#32;&#92;&#98;&#101;&#116;&#97;&#32;&#32;&#92;&#116;&#101;&#120;&#116;&#123;&#101;&#114;&#102;&#125;&#92;&#108;&#101;&#102;&#116;&#40;&#120;&#43;&#92;&#102;&#114;&#97;&#99;&#123;&#49;&#125;&#123;&#50;&#125;&#92;&#114;&#105;&#103;&#104;&#116;&#41;&#92;&#114;&#105;&#103;&#104;&#116;&#41;&#45;&#50;&#32;&#92;&#98;&#101;&#116;&#97;&#32;&#125;&#43;&#49;$$</div><div class=\"grid-item\">\n",
       "\t\t\t\t\t\t\t\t\t\t\t\t\t<div class=\"prompt output_prompt\" style=\"text-align:left;padding:0em;padding-right:20px;line-height:20px;\">\n",
       "\t\t\t\t\t\t\t\t\t\t\t\t\t\tOut[187]:\n",
       "\t\t\t\t\t\t\t\t\t\t\t\t\t</div>\n",
       "\t\t\t\t\t\t\t\t\t\t\t\t</div>\n",
       "\t\t\t\t\t\t\t\t\t\t\t\t<div class=\"grid-item\">$$&#92;&#102;&#114;&#97;&#99;&#123;&#92;&#112;&#97;&#114;&#116;&#105;&#97;&#108;&#32;&#117;&#125;&#123;&#92;&#112;&#97;&#114;&#116;&#105;&#97;&#108;&#32;&#120;&#125;&#43;&#40;&#120;&#43;&#49;&#41;&#32;&#117;&#94;&#50;&#45;&#117;&#45;&#120;&#61;&#48;$$</div></div></div>"
      ]
     },
     "execution_count": 186,
     "metadata": {
      "text/html": []
     },
     "output_type": "execute_result"
    }
   ],
   "source": [
    "u = 1 + beta Exp[-(x+1/2)^2]/(alpha + beta phi);\n",
    "u // TeXEq\n",
    "D[u,x] + (x+1)u^2 - u - x // Simplify // TeX[HoldForm[D[u,x] + (x+1)u^2 - u - x],\"=\",#]&"
   ]
  },
  {
   "cell_type": "markdown",
   "metadata": {},
   "source": [
    "Wolfram言語の `DSolve` 函数による解."
   ]
  },
  {
   "cell_type": "code",
   "execution_count": 188,
   "metadata": {},
   "outputs": [
    {
     "data": {
      "text/html": [
       "<style>\n",
       "\t\t\t\t\t\t\t\t\t\t\t.grid-container {\n",
       "\t\t\t\t\t\t\t\t\t\t\t\tdisplay: inline-grid;\n",
       "\t\t\t\t\t\t\t\t\t\t\t\tgrid-template-columns: auto auto;\n",
       "\t\t\t\t\t\t\t\t\t\t\t}\n",
       "\t\t\t\t\t\t\t\t\t\t</style>\n",
       "\n",
       "\t\t\t\t\t\t\t\t\t\t<div><div class=\"grid-container\"><div class=\"grid-item\">\n",
       "\t\t\t\t\t\t\t\t\t\t\t\t\t<div class=\"prompt output_prompt\" style=\"text-align:left;padding:0em;padding-right:20px;line-height:20px;\">\n",
       "\t\t\t\t\t\t\t\t\t\t\t\t\t\tOut[190]:\n",
       "\t\t\t\t\t\t\t\t\t\t\t\t\t</div>\n",
       "\t\t\t\t\t\t\t\t\t\t\t\t</div>\n",
       "\t\t\t\t\t\t\t\t\t\t\t\t<div class=\"grid-item\">$$&#92;&#116;&#101;&#120;&#116;&#123;&#82;&#105;&#99;&#99;&#97;&#116;&#105;&#32;&#101;&#113;&#117;&#97;&#116;&#105;&#111;&#110;&#58;&#32;&#125;&#117;&#39;&#40;&#120;&#41;&#43;&#40;&#120;&#43;&#49;&#41;&#32;&#117;&#40;&#120;&#41;&#94;&#50;&#45;&#117;&#40;&#120;&#41;&#45;&#120;&#61;&#48;$$</div><div class=\"grid-item\">\n",
       "\t\t\t\t\t\t\t\t\t\t\t\t\t<div class=\"prompt output_prompt\" style=\"text-align:left;padding:0em;padding-right:20px;line-height:20px;\">\n",
       "\t\t\t\t\t\t\t\t\t\t\t\t\t\tOut[191]:\n",
       "\t\t\t\t\t\t\t\t\t\t\t\t\t</div>\n",
       "\t\t\t\t\t\t\t\t\t\t\t\t</div>\n",
       "\t\t\t\t\t\t\t\t\t\t\t\t<div class=\"grid-item\">$$&#92;&#109;&#97;&#116;&#104;&#114;&#109;&#123;&#76;&#72;&#83;&#125;&#40;&#117;&#92;&#109;&#97;&#112;&#115;&#116;&#111;&#32;&#49;&#41;&#32;&#61;&#32;&#48;$$</div></div></div>"
      ]
     },
     "execution_count": 190,
     "metadata": {
      "text/html": []
     },
     "output_type": "execute_result"
    }
   ],
   "source": [
    "Clear[a,f,p,q,u,alpha,beta,dphi,phi,psi,L,R]\n",
    "R = u'[x] + (x+1) u[x]^2 - u[x] - x;\n",
    "R == 0 // TeX[\"Riccati equation: \",#]&\n",
    "R/.{u'[x]->0, u[x]->1} // TeXRaw[\"\\mathrm{LHS}(u\\mapsto 1) = \",#]&"
   ]
  },
  {
   "cell_type": "code",
   "execution_count": 192,
   "metadata": {},
   "outputs": [
    {
     "data": {
      "text/html": [
       "<div><img alt=\"Output\" src=\"data:image/png;base64,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\" width=\"505\"></div>"
      ]
     },
     "execution_count": 192,
     "metadata": {
      "text/html": []
     },
     "output_type": "execute_result"
    }
   ],
   "source": [
    "sol = DSolve[R==0, u, x]"
   ]
  },
  {
   "cell_type": "code",
   "execution_count": 193,
   "metadata": {},
   "outputs": [
    {
     "data": {
      "text/html": [
       "<style>\n",
       "\t\t\t\t\t\t\t\t\t\t\t.grid-container {\n",
       "\t\t\t\t\t\t\t\t\t\t\t\tdisplay: inline-grid;\n",
       "\t\t\t\t\t\t\t\t\t\t\t\tgrid-template-columns: auto auto;\n",
       "\t\t\t\t\t\t\t\t\t\t\t}\n",
       "\t\t\t\t\t\t\t\t\t\t</style>\n",
       "\n",
       "\t\t\t\t\t\t\t\t\t\t<div><div class=\"grid-container\"><div class=\"grid-item\">\n",
       "\t\t\t\t\t\t\t\t\t\t\t\t\t<div class=\"prompt output_prompt\" style=\"text-align:left;padding:0em;padding-right:20px;line-height:20px;\">\n",
       "\t\t\t\t\t\t\t\t\t\t\t\t\t\tOut[193]:\n",
       "\t\t\t\t\t\t\t\t\t\t\t\t\t</div>\n",
       "\t\t\t\t\t\t\t\t\t\t\t\t</div>\n",
       "\t\t\t\t\t\t\t\t\t\t\t\t<div class=\"grid-item\">$$&#117;&#61;&#92;&#102;&#114;&#97;&#99;&#123;&#101;&#94;&#123;&#45;&#120;&#94;&#50;&#45;&#120;&#125;&#125;&#123;&#99;&#95;&#49;&#43;&#92;&#102;&#114;&#97;&#99;&#123;&#49;&#125;&#123;&#52;&#125;&#32;&#92;&#108;&#101;&#102;&#116;&#40;&#92;&#115;&#113;&#114;&#116;&#91;&#52;&#93;&#123;&#101;&#125;&#32;&#92;&#115;&#113;&#114;&#116;&#123;&#92;&#112;&#105;&#32;&#125;&#32;&#92;&#116;&#101;&#120;&#116;&#123;&#101;&#114;&#102;&#125;&#92;&#108;&#101;&#102;&#116;&#40;&#120;&#43;&#92;&#102;&#114;&#97;&#99;&#123;&#49;&#125;&#123;&#50;&#125;&#92;&#114;&#105;&#103;&#104;&#116;&#41;&#45;&#50;&#32;&#101;&#94;&#123;&#45;&#120;&#32;&#40;&#120;&#43;&#49;&#41;&#125;&#92;&#114;&#105;&#103;&#104;&#116;&#41;&#125;&#43;&#49;$$</div><div class=\"grid-item\">\n",
       "\t\t\t\t\t\t\t\t\t\t\t\t\t<div class=\"prompt output_prompt\" style=\"text-align:left;padding:0em;padding-right:20px;line-height:20px;\">\n",
       "\t\t\t\t\t\t\t\t\t\t\t\t\t\tOut[194]:\n",
       "\t\t\t\t\t\t\t\t\t\t\t\t\t</div>\n",
       "\t\t\t\t\t\t\t\t\t\t\t\t</div>\n",
       "\t\t\t\t\t\t\t\t\t\t\t\t<div class=\"grid-item\">$$&#117;&#39;&#40;&#120;&#41;&#43;&#40;&#120;&#43;&#49;&#41;&#32;&#117;&#40;&#120;&#41;&#94;&#50;&#45;&#117;&#40;&#120;&#41;&#45;&#120;&#61;&#48;$$</div></div></div>"
      ]
     },
     "execution_count": 193,
     "metadata": {
      "text/html": []
     },
     "output_type": "execute_result"
    }
   ],
   "source": [
    "(u/.sol[[1]][[1]])[x] // TeXRaw[\"u=\",#]&\n",
    "R/.sol[[1]] // Simplify // TeX[HoldForm[u'[x] + (x+1) u[x]^2 - u[x] - x],\"=\",#]&"
   ]
  },
  {
   "cell_type": "code",
   "execution_count": 195,
   "metadata": {},
   "outputs": [
    {
     "data": {
      "text/html": [
       "<div>$$&#92;&#116;&#101;&#120;&#116;&#123;&#76;&#105;&#110;&#101;&#97;&#114;&#32;&#79;&#68;&#69;&#58;&#32;&#125;&#92;&#112;&#115;&#105;&#32;&#39;&#39;&#40;&#120;&#41;&#45;&#92;&#102;&#114;&#97;&#99;&#123;&#40;&#120;&#43;&#50;&#41;&#32;&#92;&#112;&#115;&#105;&#32;&#39;&#40;&#120;&#41;&#125;&#123;&#120;&#43;&#49;&#125;&#45;&#120;&#32;&#40;&#120;&#43;&#49;&#41;&#32;&#92;&#112;&#115;&#105;&#32;&#40;&#120;&#41;&#61;&#48;$$</div>"
      ]
     },
     "execution_count": 196,
     "metadata": {
      "text/html": []
     },
     "output_type": "execute_result"
    }
   ],
   "source": [
    "L = psi''[x]-(x+2)/(x+1) psi'[x] - x(x+1)psi[x];\n",
    "L == 0 // TeX[\"Linear ODE: \",#]&"
   ]
  },
  {
   "cell_type": "code",
   "execution_count": 197,
   "metadata": {},
   "outputs": [
    {
     "data": {
      "text/html": [
       "<div><img alt=\"Output\" src=\"data:image/png;base64,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\" width=\"653\"></div>"
      ]
     },
     "execution_count": 197,
     "metadata": {
      "text/html": []
     },
     "output_type": "execute_result"
    }
   ],
   "source": [
    "lsol = DSolve[L==0, psi, x]"
   ]
  },
  {
   "cell_type": "code",
   "execution_count": 198,
   "metadata": {},
   "outputs": [
    {
     "data": {
      "text/html": [
       "<style>\n",
       "\t\t\t\t\t\t\t\t\t\t\t.grid-container {\n",
       "\t\t\t\t\t\t\t\t\t\t\t\tdisplay: inline-grid;\n",
       "\t\t\t\t\t\t\t\t\t\t\t\tgrid-template-columns: auto auto;\n",
       "\t\t\t\t\t\t\t\t\t\t\t}\n",
       "\t\t\t\t\t\t\t\t\t\t</style>\n",
       "\n",
       "\t\t\t\t\t\t\t\t\t\t<div><div class=\"grid-container\"><div class=\"grid-item\">\n",
       "\t\t\t\t\t\t\t\t\t\t\t\t\t<div class=\"prompt output_prompt\" style=\"text-align:left;padding:0em;padding-right:20px;line-height:20px;\">\n",
       "\t\t\t\t\t\t\t\t\t\t\t\t\t\tOut[198]:\n",
       "\t\t\t\t\t\t\t\t\t\t\t\t\t</div>\n",
       "\t\t\t\t\t\t\t\t\t\t\t\t</div>\n",
       "\t\t\t\t\t\t\t\t\t\t\t\t<div class=\"grid-item\">$$&#92;&#112;&#115;&#105;&#61;&#99;&#95;&#49;&#32;&#101;&#94;&#123;&#92;&#102;&#114;&#97;&#99;&#123;&#49;&#125;&#123;&#50;&#125;&#32;&#40;&#120;&#43;&#49;&#41;&#94;&#50;&#125;&#45;&#92;&#102;&#114;&#97;&#99;&#123;&#49;&#125;&#123;&#52;&#125;&#32;&#99;&#95;&#50;&#32;&#101;&#94;&#123;&#45;&#92;&#102;&#114;&#97;&#99;&#123;&#49;&#125;&#123;&#50;&#125;&#32;&#40;&#120;&#43;&#49;&#41;&#94;&#50;&#45;&#92;&#102;&#114;&#97;&#99;&#123;&#51;&#125;&#123;&#52;&#125;&#125;&#32;&#92;&#108;&#101;&#102;&#116;&#40;&#50;&#32;&#101;&#94;&#123;&#120;&#43;&#92;&#102;&#114;&#97;&#99;&#123;&#51;&#125;&#123;&#52;&#125;&#125;&#45;&#92;&#115;&#113;&#114;&#116;&#123;&#92;&#112;&#105;&#32;&#125;&#32;&#101;&#94;&#123;&#40;&#120;&#43;&#49;&#41;&#94;&#50;&#125;&#32;&#92;&#116;&#101;&#120;&#116;&#123;&#101;&#114;&#102;&#125;&#92;&#108;&#101;&#102;&#116;&#40;&#120;&#43;&#92;&#102;&#114;&#97;&#99;&#123;&#49;&#125;&#123;&#50;&#125;&#92;&#114;&#105;&#103;&#104;&#116;&#41;&#92;&#114;&#105;&#103;&#104;&#116;&#41;$$</div><div class=\"grid-item\">\n",
       "\t\t\t\t\t\t\t\t\t\t\t\t\t<div class=\"prompt output_prompt\" style=\"text-align:left;padding:0em;padding-right:20px;line-height:20px;\">\n",
       "\t\t\t\t\t\t\t\t\t\t\t\t\t\tOut[199]:\n",
       "\t\t\t\t\t\t\t\t\t\t\t\t\t</div>\n",
       "\t\t\t\t\t\t\t\t\t\t\t\t</div>\n",
       "\t\t\t\t\t\t\t\t\t\t\t\t<div class=\"grid-item\">$$&#92;&#112;&#115;&#105;&#32;&#39;&#39;&#40;&#120;&#41;&#45;&#92;&#102;&#114;&#97;&#99;&#123;&#40;&#120;&#43;&#50;&#41;&#32;&#92;&#112;&#115;&#105;&#32;&#39;&#40;&#120;&#41;&#125;&#123;&#120;&#43;&#49;&#125;&#45;&#120;&#32;&#40;&#120;&#43;&#49;&#41;&#32;&#92;&#112;&#115;&#105;&#32;&#40;&#120;&#41;&#61;&#48;$$</div></div></div>"
      ]
     },
     "execution_count": 198,
     "metadata": {
      "text/html": []
     },
     "output_type": "execute_result"
    }
   ],
   "source": [
    "(psi/.lsol[[1]][[1]])[x] // TeXRaw[\"\\\\psi=\",#]&\n",
    "L/.lsol[[1]] // Simplify // TeX[HoldForm[psi''[x]-(x+2)/(x+1) psi'[x] - x(x+1)psi[x]],\"=\",#]&"
   ]
  },
  {
   "cell_type": "code",
   "execution_count": null,
   "metadata": {},
   "outputs": [],
   "source": []
  }
 ],
 "metadata": {
  "@webio": {
   "lastCommId": null,
   "lastKernelId": null
  },
  "_draft": {
   "nbviewer_url": "https://gist.github.com/4a6218f591d07a857a6d6c0eb3264cf4"
  },
  "gist": {
   "data": {
    "description": "04-1 Riccati equation.ipynb",
    "public": true
   },
   "id": "4a6218f591d07a857a6d6c0eb3264cf4"
  },
  "kernelspec": {
   "display_name": "Wolfram Language 12",
   "language": "Wolfram Language",
   "name": "wolframlanguage12"
  },
  "language_info": {
   "codemirror_mode": "mathematica",
   "file_extension": ".m",
   "mimetype": "application/vnd.wolfram.m",
   "name": "Wolfram Language",
   "pygments_lexer": "python",
   "version": "12.0"
  },
  "toc": {
   "base_numbering": 1,
   "nav_menu": {},
   "number_sections": true,
   "sideBar": true,
   "skip_h1_title": true,
   "title_cell": "目次",
   "title_sidebar": "目次",
   "toc_cell": true,
   "toc_position": {},
   "toc_section_display": true,
   "toc_window_display": false
  }
 },
 "nbformat": 4,
 "nbformat_minor": 2
}
